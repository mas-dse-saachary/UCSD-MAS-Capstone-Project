{
 "cells": [
  {
   "cell_type": "code",
   "execution_count": 2,
   "metadata": {
    "collapsed": true
   },
   "outputs": [],
   "source": [
    "import pandas as pd\n",
    "import os\n",
    "import matplotlib.pyplot as plt"
   ]
  },
  {
   "cell_type": "code",
   "execution_count": 6,
   "metadata": {},
   "outputs": [
    {
     "data": {
      "text/plain": [
       "['neighbourhoods.geo.json',\n",
       " 'reviews.csv',\n",
       " '.DS_Store',\n",
       " 'neighbourhoods.geojson',\n",
       " 'listings_summ.csv',\n",
       " 'neighbourhoods.csv',\n",
       " 'stations.geojson',\n",
       " 'listings.csv',\n",
       " 'calendar.csv',\n",
       " 'reviews_summ.csv',\n",
       " 'neighbourhoods.json']"
      ]
     },
     "execution_count": 6,
     "metadata": {},
     "output_type": "execute_result"
    }
   ],
   "source": [
    "os.listdir(\"Datasources/inside_airbnb\") "
   ]
  },
  {
   "cell_type": "code",
   "execution_count": 12,
   "metadata": {
    "collapsed": true
   },
   "outputs": [],
   "source": [
    "listings = pd.read_csv('inside_airbnb/listings.csv')\n",
    "list_summ = pd.read_csv('inside_airbnb/listings_summ.csv')\n",
    "#neighborhoods = pd.read_csv('inside_airbnb/neighbourhoods.csv')\n",
    "reviews = pd.read_csv('inside_airbnb/reviews.csv')\n",
    "#reviews_summ = pd.read_csv('inside_airbnb/reviews_summ.csv')\n",
    "calendar = pd.read_csv('inside_airbnb/calendar.csv')"
   ]
  },
  {
   "cell_type": "markdown",
   "metadata": {},
   "source": [
    "Listings Analysis"
   ]
  },
  {
   "cell_type": "code",
   "execution_count": 8,
   "metadata": {},
   "outputs": [
    {
     "data": {
      "text/plain": [
       "Index([u'id', u'listing_url', u'scrape_id', u'last_scraped', u'name',\n",
       "       u'summary', u'space', u'description', u'experiences_offered',\n",
       "       u'neighborhood_overview', u'notes', u'transit', u'access',\n",
       "       u'interaction', u'house_rules', u'thumbnail_url', u'medium_url',\n",
       "       u'picture_url', u'xl_picture_url', u'host_id', u'host_url',\n",
       "       u'host_name', u'host_since', u'host_location', u'host_about',\n",
       "       u'host_response_time', u'host_response_rate', u'host_acceptance_rate',\n",
       "       u'host_is_superhost', u'host_thumbnail_url', u'host_picture_url',\n",
       "       u'host_neighbourhood', u'host_listings_count',\n",
       "       u'host_total_listings_count', u'host_verifications',\n",
       "       u'host_has_profile_pic', u'host_identity_verified', u'street',\n",
       "       u'neighbourhood', u'neighbourhood_cleansed',\n",
       "       u'neighbourhood_group_cleansed', u'city', u'state', u'zipcode',\n",
       "       u'market', u'smart_location', u'country_code', u'country', u'latitude',\n",
       "       u'longitude', u'is_location_exact', u'property_type', u'room_type',\n",
       "       u'accommodates', u'bathrooms', u'bedrooms', u'beds', u'bed_type',\n",
       "       u'amenities', u'square_feet', u'price', u'weekly_price',\n",
       "       u'monthly_price', u'security_deposit', u'cleaning_fee',\n",
       "       u'guests_included', u'extra_people', u'minimum_nights',\n",
       "       u'maximum_nights', u'calendar_updated', u'has_availability',\n",
       "       u'availability_30', u'availability_60', u'availability_90',\n",
       "       u'availability_365', u'calendar_last_scraped', u'number_of_reviews',\n",
       "       u'first_review', u'last_review', u'review_scores_rating',\n",
       "       u'review_scores_accuracy', u'review_scores_cleanliness',\n",
       "       u'review_scores_checkin', u'review_scores_communication',\n",
       "       u'review_scores_location', u'review_scores_value', u'requires_license',\n",
       "       u'license', u'jurisdiction_names', u'instant_bookable',\n",
       "       u'cancellation_policy', u'require_guest_profile_picture',\n",
       "       u'require_guest_phone_verification', u'calculated_host_listings_count',\n",
       "       u'reviews_per_month'],\n",
       "      dtype='object')"
      ]
     },
     "execution_count": 8,
     "metadata": {},
     "output_type": "execute_result"
    }
   ],
   "source": [
    "listings.columns"
   ]
  },
  {
   "cell_type": "code",
   "execution_count": 27,
   "metadata": {},
   "outputs": [
    {
     "data": {
      "text/plain": [
       "<bound method DataFrame.info of             id                                               name   host_id  \\\n",
       "0     11204286                    Family friendly/California king  56227310   \n",
       "1      7972006                            Welcome to Sunset Suite  42066439   \n",
       "2      7727710                San Diego/Eastlake. Gated community  40606235   \n",
       "3     13124681                               Townhome in Eastlake  66918996   \n",
       "4      3469225                    Bedroom suite in Large new home   4636507   \n",
       "5       877473                      Private Bedroom in Newer Home   4636507   \n",
       "6      3124507                Great view to mountains,lake,trails  15870464   \n",
       "7      3432507                        2 bedrooms with shared bath  15870464   \n",
       "8      3249729                    Near to Olympic Training center  15870464   \n",
       "9     11756336                      Chula Vista Golf Course House  39158621   \n",
       "10    12173670                      Eastlake Green room available  65401645   \n",
       "11    13157364                      Recamaras amuebladas con baño  73459215   \n",
       "12     9756570                    Family Home in SoCal (Eastlake)  49508763   \n",
       "13    10687910                               Clean & Sweet Home 2  47746355   \n",
       "14     7938260                            1 bedroom in San Diego.  40442827   \n",
       "15    10779932                      2 Bedrooms in San Diego area.  40442827   \n",
       "16    13301630       3 Beds in my San Diego Master Bedroom Suite.  40442827   \n",
       "17     5285136                Family Vacation Home With Game Room  27050514   \n",
       "18    13313236                       House in the San Diego area.  40442827   \n",
       "19     7663518                 Stanislaus 1 story house w/ garden  20513866   \n",
       "20     5077385                            Big and Bright townhome   2612268   \n",
       "21     7113838                    Breathtaking home in Otay Ranch   2612268   \n",
       "22     8555262   Otay Ranch Chula Vista  CA  private bedroom/bath  45033332   \n",
       "23    13472856                Unique large room with air mattress  71547544   \n",
       "24     4997701                   Bright & Spacious Private Rm/Bth   2612268   \n",
       "25     6098460                Cozy Room, Private Bath/Quiet Area!   5140488   \n",
       "26    13562988                   The Sailboat Room in Otay Ranch!  78160977   \n",
       "27    10284248                              Bedroom in Otay Ranch  51466320   \n",
       "28    13693167                   Comfortable house in Chula Vista  79807391   \n",
       "29    12988363                 Charming bedroom with shared bath!  71547544   \n",
       "...        ...                                                ...       ...   \n",
       "6578  13765978                     Will's Pole House at the Beach  80742005   \n",
       "6579  13637335                                Cozy space to share  79093565   \n",
       "6580   7462953                              WELCOME TO SAN DIEGO2  22420176   \n",
       "6581  13816897     Classic Motor Yacht experience for 1-2 people.  22278503   \n",
       "6582    181308   LUSH HIDEAWAY (country in the city) BONITA, S.D.    868867   \n",
       "6583  12485414                         Clean&Sweet Home 2中日韩英语 OK  47746355   \n",
       "6584  13710734                 Comfortable bed in house with pool  16130027   \n",
       "6585  13868104     Dog Patch (named after the nearby dog shelter)  82000226   \n",
       "6586  13526039                                Mission Bay Getaway  77722626   \n",
       "6587  13689250                Quaint Trawler San Diego waterfront  79762467   \n",
       "6588  13495353  Private room overlooking canyon views near Bonita  77373705   \n",
       "6589  10328997                       Pacífica /Peaceful and Relax  52727228   \n",
       "6590   9710574                       MEA CULPA - BOAT & BREAKFAST   2990799   \n",
       "6591  13448725  House Nearest to Ocean in PB North The Julius ...  46578229   \n",
       "6592  13864897                      Oceanfront Whale's Tail Cabin    739240   \n",
       "6593  13859950                                    Motoryacht Life   3984989   \n",
       "6594  11375621                     Winners Circle Resort - Studio  59632226   \n",
       "6595  13443354                                  Casa Sunset Hills  32715474   \n",
       "6596  13670544                                 Tree House Del Mar  11378667   \n",
       "6597   8271640                *NEW Studio-Rancho Bernardo, Poway*  37499744   \n",
       "6598  13411765                 Comfortable retreat in southern SD  74018011   \n",
       "6599  13377361                                    Double R's camp  76002453   \n",
       "6600  13466129   Welcome to Sunny D! Your home away from home! :)  27234957   \n",
       "6601   4698549                 Ocean view Remodeled 5 star review  24288889   \n",
       "6602  10908984                                      Room \"Shanti\"  52727228   \n",
       "6603  13733446                Del Mar Beach Gem, 1 blk from Ocean  22771048   \n",
       "6604  11990520                Stunning Ocean Views, Light &Bright  52255161   \n",
       "6605  13358607      1 Bedroom Resort Condo-Horse Racing/Comic Con  20947725   \n",
       "6606   9147128                  Beach Living Near the Race Track!   1502676   \n",
       "6607  13452448                  Timeshare rental July 1 - 8, 2016   5296801   \n",
       "\n",
       "         host_name  neighbourhood_group                neighbourhood  \\\n",
       "0             Jose                  NaN  Amphitheater And Water Park   \n",
       "1           Alicia                  NaN                    East Lake   \n",
       "2            Maria                  NaN                    East Lake   \n",
       "3           Carlos                  NaN              Eastlake Trails   \n",
       "4         Cristina                  NaN              Eastlake Vistas   \n",
       "5         Cristina                  NaN              Eastlake Vistas   \n",
       "6          Monique                  NaN              Eastlake Vistas   \n",
       "7          Monique                  NaN              Eastlake Vistas   \n",
       "8          Monique                  NaN              Eastlake Vistas   \n",
       "9            Julie                  NaN               Estlake Greens   \n",
       "10           Louie                  NaN               Estlake Greens   \n",
       "11        Marisela                  NaN               Estlake Greens   \n",
       "12          Alvaro                  NaN               Estlake Greens   \n",
       "13             Yun                  NaN               Estlake Greens   \n",
       "14            Gary                  NaN                Lynwood Hills   \n",
       "15            Gary                  NaN                Lynwood Hills   \n",
       "16            Gary                  NaN                Lynwood Hills   \n",
       "17         Maribel                  NaN                Lynwood Hills   \n",
       "18            Gary                  NaN                Lynwood Hills   \n",
       "19         Lorenzo                  NaN                   Otay Ranch   \n",
       "20            Gigi                  NaN                   Otay Ranch   \n",
       "21            Gigi                  NaN                   Otay Ranch   \n",
       "22             Sue                  NaN                   Otay Ranch   \n",
       "23          Dashka                  NaN                   Otay Ranch   \n",
       "24            Gigi                  NaN                   Otay Ranch   \n",
       "25    Joy & Justin                  NaN                   Otay Ranch   \n",
       "26         Anthony                  NaN                   Otay Ranch   \n",
       "27             Roy                  NaN                   Otay Ranch   \n",
       "28           Radoc                  NaN                   Otay Ranch   \n",
       "29          Dashka                  NaN                   Otay Ranch   \n",
       "...            ...                  ...                          ...   \n",
       "6578          Will                  NaN              Del Mar Heights   \n",
       "6579        Alisha                  NaN                      Rolando   \n",
       "6580           Tee                  NaN                   Alta Vista   \n",
       "6581        Curtis                  NaN                    Northwest   \n",
       "6582       Jessica                  NaN               Paradise Hills   \n",
       "6583           Yun                  NaN               Estlake Greens   \n",
       "6584        Daniel                  NaN                  Lake Murray   \n",
       "6585         Craig                  NaN               Moreno Mission   \n",
       "6586        Dennis                  NaN                  Mission Bay   \n",
       "6587          Jack                  NaN                    Northwest   \n",
       "6588     Christine                  NaN               Rancho Del Rey   \n",
       "6589           Liz                  NaN         Tijuana River Valley   \n",
       "6590         Shaun                  NaN             Midtown District   \n",
       "6591   Eric & Anne                  NaN                Pacific Beach   \n",
       "6592      Kimberly                  NaN              Del Mar Heights   \n",
       "6593        Robert                  NaN                    Northwest   \n",
       "6594         Sandy                  NaN              Del Mar Heights   \n",
       "6595   Max & Ellie                  NaN                  Mission Bay   \n",
       "6596        Justin                  NaN              Del Mar Heights   \n",
       "6597         Scott                  NaN           Rancho Penasquitos   \n",
       "6598     Christine                  NaN                  Bay Terrace   \n",
       "6599       Raymond                  NaN                     Oak Park   \n",
       "6600          Eric                  NaN                  Tierrasanta   \n",
       "6601       Michael                  NaN              Del Mar Heights   \n",
       "6602           Liz                  NaN         Tijuana River Valley   \n",
       "6603         Kevin                  NaN              Del Mar Heights   \n",
       "6604        Sheryl                  NaN                   North City   \n",
       "6605          John                  NaN              Del Mar Heights   \n",
       "6606         Aaron                  NaN              Del Mar Heights   \n",
       "6607         Miles                  NaN              Del Mar Heights   \n",
       "\n",
       "       latitude   longitude        room_type  price  minimum_nights  \\\n",
       "0     32.581882 -117.001940     Private room     49               1   \n",
       "1     32.653029 -116.976812     Private room     59               2   \n",
       "2     32.661477 -116.971813  Entire home/apt    150               1   \n",
       "3     32.638694 -116.951252  Entire home/apt    120               2   \n",
       "4     32.638942 -116.938891     Private room     70               1   \n",
       "5     32.638285 -116.939373     Private room     70               2   \n",
       "6     32.637183 -116.934752     Private room     90               2   \n",
       "7     32.637594 -116.935737     Private room    150               2   \n",
       "8     32.637588 -116.934959     Private room     90               2   \n",
       "9     32.635328 -116.958756  Entire home/apt    399               2   \n",
       "10    32.647356 -116.955336     Private room     58               1   \n",
       "11    32.634342 -116.953567     Private room     55               3   \n",
       "12    32.628250 -116.961313  Entire home/apt    300               7   \n",
       "13    32.627788 -116.959399     Private room     45               1   \n",
       "14    32.627834 -117.027535     Private room     35               2   \n",
       "15    32.628429 -117.027548     Private room     45               2   \n",
       "16    32.628160 -117.025583     Private room     60               2   \n",
       "17    32.633652 -117.031437  Entire home/apt    350               2   \n",
       "18    32.628557 -117.027218  Entire home/apt    450               2   \n",
       "19    32.626812 -116.997218  Entire home/apt    200               3   \n",
       "20    32.617235 -116.955314  Entire home/apt    265               2   \n",
       "21    32.624131 -116.959827  Entire home/apt    320               1   \n",
       "22    32.616518 -117.009670     Private room     65               2   \n",
       "23    32.626928 -116.989164      Shared room     35               1   \n",
       "24    32.617546 -116.956672     Private room     75               2   \n",
       "25    32.637008 -116.985868     Private room     46               2   \n",
       "26    32.615972 -116.971834     Private room     80               1   \n",
       "27    32.625552 -117.000635     Private room     49               1   \n",
       "28    32.620946 -116.978838     Private room     70               1   \n",
       "29    32.626589 -116.989851     Private room     40               1   \n",
       "...         ...         ...              ...    ...             ...   \n",
       "6578  32.949464 -117.263159  Entire home/apt    385               3   \n",
       "6579  32.755944 -117.047831  Entire home/apt     80               1   \n",
       "6580  32.688773 -117.071752     Private room     60               2   \n",
       "6581  32.651841 -117.109818     Private room     98               1   \n",
       "6582  32.662955 -117.049579     Private room     77               2   \n",
       "6583  32.628783 -116.963484     Private room     45               1   \n",
       "6584  32.788481 -117.013504     Private room     75               2   \n",
       "6585  32.762549 -117.196074  Entire home/apt     99               1   \n",
       "6586  32.765321 -117.249739  Entire home/apt    250               3   \n",
       "6587  32.650229 -117.108413  Entire home/apt    114               1   \n",
       "6588  32.650971 -117.007079     Private room     40               1   \n",
       "6589  32.532561 -117.116331     Private room     26               1   \n",
       "6590  32.720057 -117.221661  Entire home/apt    275               2   \n",
       "6591  32.802779 -117.260800     Private room     75               3   \n",
       "6592  32.950118 -117.265119  Entire home/apt    500               3   \n",
       "6593  32.624830 -117.101989  Entire home/apt     98               2   \n",
       "6594  32.979508 -117.258232  Entire home/apt    175               7   \n",
       "6595  33.083107 -117.040519  Entire home/apt    150               7   \n",
       "6596  32.956821 -117.260117  Entire home/apt    199               3   \n",
       "6597  33.005791 -117.104335  Entire home/apt     89               1   \n",
       "6598  32.679279 -117.027502     Private room     40               1   \n",
       "6599  32.733057 -117.057120     Private room     52               7   \n",
       "6600  32.835511 -117.001812     Private room     40               1   \n",
       "6601  32.946526 -117.260963  Entire home/apt    300               5   \n",
       "6602  32.532181 -117.116172     Private room     24               1   \n",
       "6603  32.949025 -117.262833  Entire home/apt    373               3   \n",
       "6604  32.985937 -117.253628     Private room     75               1   \n",
       "6605  32.979522 -117.257123  Entire home/apt    155               1   \n",
       "6606  32.985098 -117.259575  Entire home/apt    119               2   \n",
       "6607  32.980441 -117.258719  Entire home/apt    115               7   \n",
       "\n",
       "      number_of_reviews last_review  reviews_per_month  \\\n",
       "0                     7  2016-06-26               4.57   \n",
       "1                     7  2016-06-07               0.76   \n",
       "2                     1  2015-08-23               0.09   \n",
       "3                     3  2016-06-30               3.00   \n",
       "4                     0         NaN                NaN   \n",
       "5                    23  2016-05-02               0.63   \n",
       "6                     8  2016-06-26               0.31   \n",
       "7                     1  2014-07-15               0.04   \n",
       "8                     2  2014-09-02               0.08   \n",
       "9                     2  2016-05-08               0.59   \n",
       "10                    1  2016-05-07               0.48   \n",
       "11                    0         NaN                NaN   \n",
       "12                    2  2016-06-02               0.32   \n",
       "13                   12  2016-07-04               2.28   \n",
       "14                   22  2016-07-04               2.22   \n",
       "15                    9  2016-07-04               1.85   \n",
       "16                    2  2016-06-27               2.00   \n",
       "17                    5  2016-03-23               0.42   \n",
       "18                    0         NaN                NaN   \n",
       "19                   10  2016-07-05               0.96   \n",
       "20                   13  2016-06-26               0.75   \n",
       "21                    1  2016-07-04               1.00   \n",
       "22                    4  2016-06-27               1.90   \n",
       "23                    0         NaN                NaN   \n",
       "24                    4  2016-03-30               0.30   \n",
       "25                   10  2016-07-03               0.73   \n",
       "26                    2  2016-07-03               2.00   \n",
       "27                    0         NaN                NaN   \n",
       "28                    1  2016-07-04               1.00   \n",
       "29                    1  2016-05-21               0.63   \n",
       "...                 ...         ...                ...   \n",
       "6578                  0         NaN                NaN   \n",
       "6579                  0         NaN                NaN   \n",
       "6580                  0         NaN                NaN   \n",
       "6581                  0         NaN                NaN   \n",
       "6582                120  2016-06-27               2.07   \n",
       "6583                  0         NaN                NaN   \n",
       "6584                  0         NaN                NaN   \n",
       "6585                  0         NaN                NaN   \n",
       "6586                  1  2016-06-21               1.00   \n",
       "6587                  0         NaN                NaN   \n",
       "6588                  1  2016-06-27               1.00   \n",
       "6589                 14  2016-06-20               2.44   \n",
       "6590                  1  2016-05-02               0.45   \n",
       "6591                  0         NaN                NaN   \n",
       "6592                  0         NaN                NaN   \n",
       "6593                  0         NaN                NaN   \n",
       "6594                  0         NaN                NaN   \n",
       "6595                  0         NaN                NaN   \n",
       "6596                  0         NaN                NaN   \n",
       "6597                 12  2016-06-28               1.46   \n",
       "6598                  5  2016-07-06               5.00   \n",
       "6599                  0         NaN                NaN   \n",
       "6600                  0         NaN                NaN   \n",
       "6601                  4  2016-05-15               0.26   \n",
       "6602                  3  2016-04-25               0.56   \n",
       "6603                  0         NaN                NaN   \n",
       "6604                  3  2016-06-27               1.96   \n",
       "6605                  0         NaN                NaN   \n",
       "6606                 14  2016-06-29               2.23   \n",
       "6607                  0         NaN                NaN   \n",
       "\n",
       "      calculated_host_listings_count  availability_365  \n",
       "0                                  2               360  \n",
       "1                                  1                80  \n",
       "2                                  1                 0  \n",
       "3                                  1               329  \n",
       "4                                  2               335  \n",
       "5                                  2               316  \n",
       "6                                  3               365  \n",
       "7                                  3               361  \n",
       "8                                  3               361  \n",
       "9                                  5               303  \n",
       "10                                 1                 0  \n",
       "11                                 1               365  \n",
       "12                                 1               308  \n",
       "13                                 2               174  \n",
       "14                                 4               340  \n",
       "15                                 4               334  \n",
       "16                                 4               339  \n",
       "17                                 1               186  \n",
       "18                                 4               333  \n",
       "19                                 1               319  \n",
       "20                                 5               360  \n",
       "21                                 5                37  \n",
       "22                                 1               325  \n",
       "23                                 2               355  \n",
       "24                                 5               179  \n",
       "25                                 1                76  \n",
       "26                                 1               343  \n",
       "27                                 1                 0  \n",
       "28                                 1               365  \n",
       "29                                 2               347  \n",
       "...                              ...               ...  \n",
       "6578                               1               365  \n",
       "6579                               1                31  \n",
       "6580                               1               350  \n",
       "6581                               1               165  \n",
       "6582                               1               342  \n",
       "6583                               2               363  \n",
       "6584                               1               359  \n",
       "6585                               1                59  \n",
       "6586                               2               169  \n",
       "6587                               1                45  \n",
       "6588                               1                50  \n",
       "6589                               2                57  \n",
       "6590                               7               110  \n",
       "6591                               2                90  \n",
       "6592                               3               364  \n",
       "6593                               2               348  \n",
       "6594                               1               332  \n",
       "6595                               1               339  \n",
       "6596                               2               319  \n",
       "6597                               3               345  \n",
       "6598                               1                39  \n",
       "6599                               1               365  \n",
       "6600                               1                 0  \n",
       "6601                               1               250  \n",
       "6602                               2               339  \n",
       "6603                               4                33  \n",
       "6604                               1               286  \n",
       "6605                               1                 0  \n",
       "6606                               6               315  \n",
       "6607                               1                 0  \n",
       "\n",
       "[6608 rows x 16 columns]>"
      ]
     },
     "execution_count": 27,
     "metadata": {},
     "output_type": "execute_result"
    }
   ],
   "source": [
    "list_summ.info"
   ]
  },
  {
   "cell_type": "code",
   "execution_count": 5,
   "metadata": {
    "collapsed": true
   },
   "outputs": [],
   "source": [
    "listings = listings.loc[(listings.zipcode==92101) & (listings.room_type == 'Entire home/apt')]"
   ]
  },
  {
   "cell_type": "code",
   "execution_count": 7,
   "metadata": {
    "collapsed": true
   },
   "outputs": [],
   "source": [
    "list_summ = pd.read_csv('inside_airbnb/listings_summ.csv')"
   ]
  },
  {
   "cell_type": "code",
   "execution_count": 12,
   "metadata": {
    "collapsed": true
   },
   "outputs": [],
   "source": [
    "#Finding Most Active Listings\n",
    "l_summ = list_summ.copy()"
   ]
  },
  {
   "cell_type": "code",
   "execution_count": 15,
   "metadata": {
    "collapsed": true
   },
   "outputs": [],
   "source": [
    "tier1 = l_summ.loc[(l_summ.availability_365>0)&(l_summ.availability_365<73)]\n",
    "tier2 = l_summ.loc[(l_summ.availability_365>72)&(l_summ.availability_365<146)]\n",
    "tier3 = l_summ.loc[(l_summ.availability_365>145)&(l_summ.availability_365<219)]\n",
    "tier4 = l_summ.loc[(l_summ.availability_365>218)&(l_summ.availability_365<292)]\n",
    "tier5 = l_summ.loc[(l_summ.availability_365>291)&(l_summ.availability_365<365)]"
   ]
  },
  {
   "cell_type": "code",
   "execution_count": 36,
   "metadata": {
    "collapsed": true
   },
   "outputs": [],
   "source": [
    "avail_lt250 = l_summ.loc[l_summ['availability_365']<250][['id','availability_365']]"
   ]
  },
  {
   "cell_type": "code",
   "execution_count": 37,
   "metadata": {},
   "outputs": [
    {
     "data": {
      "text/html": [
       "<div>\n",
       "<style scoped>\n",
       "    .dataframe tbody tr th:only-of-type {\n",
       "        vertical-align: middle;\n",
       "    }\n",
       "\n",
       "    .dataframe tbody tr th {\n",
       "        vertical-align: top;\n",
       "    }\n",
       "\n",
       "    .dataframe thead th {\n",
       "        text-align: right;\n",
       "    }\n",
       "</style>\n",
       "<table border=\"1\" class=\"dataframe\">\n",
       "  <thead>\n",
       "    <tr style=\"text-align: right;\">\n",
       "      <th></th>\n",
       "      <th>id</th>\n",
       "      <th>availability_365</th>\n",
       "    </tr>\n",
       "  </thead>\n",
       "  <tbody>\n",
       "    <tr>\n",
       "      <th>1</th>\n",
       "      <td>7972006</td>\n",
       "      <td>80</td>\n",
       "    </tr>\n",
       "    <tr>\n",
       "      <th>2</th>\n",
       "      <td>7727710</td>\n",
       "      <td>0</td>\n",
       "    </tr>\n",
       "    <tr>\n",
       "      <th>10</th>\n",
       "      <td>12173670</td>\n",
       "      <td>0</td>\n",
       "    </tr>\n",
       "    <tr>\n",
       "      <th>13</th>\n",
       "      <td>10687910</td>\n",
       "      <td>174</td>\n",
       "    </tr>\n",
       "    <tr>\n",
       "      <th>17</th>\n",
       "      <td>5285136</td>\n",
       "      <td>186</td>\n",
       "    </tr>\n",
       "    <tr>\n",
       "      <th>21</th>\n",
       "      <td>7113838</td>\n",
       "      <td>37</td>\n",
       "    </tr>\n",
       "    <tr>\n",
       "      <th>24</th>\n",
       "      <td>4997701</td>\n",
       "      <td>179</td>\n",
       "    </tr>\n",
       "    <tr>\n",
       "      <th>25</th>\n",
       "      <td>6098460</td>\n",
       "      <td>76</td>\n",
       "    </tr>\n",
       "    <tr>\n",
       "      <th>27</th>\n",
       "      <td>10284248</td>\n",
       "      <td>0</td>\n",
       "    </tr>\n",
       "    <tr>\n",
       "      <th>35</th>\n",
       "      <td>6055788</td>\n",
       "      <td>0</td>\n",
       "    </tr>\n",
       "    <tr>\n",
       "      <th>41</th>\n",
       "      <td>9854386</td>\n",
       "      <td>0</td>\n",
       "    </tr>\n",
       "    <tr>\n",
       "      <th>44</th>\n",
       "      <td>8584204</td>\n",
       "      <td>88</td>\n",
       "    </tr>\n",
       "    <tr>\n",
       "      <th>51</th>\n",
       "      <td>12696877</td>\n",
       "      <td>63</td>\n",
       "    </tr>\n",
       "    <tr>\n",
       "      <th>52</th>\n",
       "      <td>13764291</td>\n",
       "      <td>6</td>\n",
       "    </tr>\n",
       "    <tr>\n",
       "      <th>59</th>\n",
       "      <td>3164739</td>\n",
       "      <td>10</td>\n",
       "    </tr>\n",
       "  </tbody>\n",
       "</table>\n",
       "</div>"
      ],
      "text/plain": [
       "          id  availability_365\n",
       "1    7972006                80\n",
       "2    7727710                 0\n",
       "10  12173670                 0\n",
       "13  10687910               174\n",
       "17   5285136               186\n",
       "21   7113838                37\n",
       "24   4997701               179\n",
       "25   6098460                76\n",
       "27  10284248                 0\n",
       "35   6055788                 0\n",
       "41   9854386                 0\n",
       "44   8584204                88\n",
       "51  12696877                63\n",
       "52  13764291                 6\n",
       "59   3164739                10"
      ]
     },
     "execution_count": 37,
     "metadata": {},
     "output_type": "execute_result"
    }
   ],
   "source": [
    "avail_lt250.head(15)"
   ]
  },
  {
   "cell_type": "code",
   "execution_count": null,
   "metadata": {
    "collapsed": true
   },
   "outputs": [],
   "source": []
  },
  {
   "cell_type": "code",
   "execution_count": null,
   "metadata": {
    "collapsed": true
   },
   "outputs": [],
   "source": []
  },
  {
   "cell_type": "code",
   "execution_count": null,
   "metadata": {
    "collapsed": true
   },
   "outputs": [],
   "source": []
  },
  {
   "cell_type": "code",
   "execution_count": null,
   "metadata": {
    "collapsed": true
   },
   "outputs": [],
   "source": []
  },
  {
   "cell_type": "markdown",
   "metadata": {},
   "source": [
    "Calendar Analysis"
   ]
  },
  {
   "cell_type": "code",
   "execution_count": 54,
   "metadata": {
    "collapsed": true
   },
   "outputs": [],
   "source": [
    "cal = calendar.copy()"
   ]
  },
  {
   "cell_type": "code",
   "execution_count": 55,
   "metadata": {},
   "outputs": [
    {
     "data": {
      "text/plain": [
       "Index([u'listing_id', u'date', u'available', u'price'], dtype='object')"
      ]
     },
     "execution_count": 55,
     "metadata": {},
     "output_type": "execute_result"
    }
   ],
   "source": [
    "cal.columns"
   ]
  },
  {
   "cell_type": "code",
   "execution_count": 57,
   "metadata": {},
   "outputs": [
    {
     "data": {
      "text/plain": [
       "listing_id     int64\n",
       "date          object\n",
       "available     object\n",
       "price         object\n",
       "dtype: object"
      ]
     },
     "execution_count": 57,
     "metadata": {},
     "output_type": "execute_result"
    }
   ],
   "source": [
    "cal.dtypes"
   ]
  },
  {
   "cell_type": "code",
   "execution_count": 60,
   "metadata": {
    "collapsed": true
   },
   "outputs": [],
   "source": [
    "cal['price'] = cal['price'].astype(str).map(lambda x: x.lstrip('$'))"
   ]
  },
  {
   "cell_type": "code",
   "execution_count": 63,
   "metadata": {
    "collapsed": true
   },
   "outputs": [],
   "source": [
    "#Transform Price from Object to Numeric Data Type\n",
    "cal['price'] = cal['price'].apply(pd.to_numeric, errors='coerce')"
   ]
  },
  {
   "cell_type": "code",
   "execution_count": null,
   "metadata": {
    "collapsed": true
   },
   "outputs": [],
   "source": []
  },
  {
   "cell_type": "code",
   "execution_count": 64,
   "metadata": {
    "collapsed": true
   },
   "outputs": [],
   "source": [
    "cal['price'].replace(regex=True,inplace=True,to_replace=r'\\D',value=r'')"
   ]
  },
  {
   "cell_type": "code",
   "execution_count": 65,
   "metadata": {},
   "outputs": [
    {
     "data": {
      "text/html": [
       "<div>\n",
       "<style scoped>\n",
       "    .dataframe tbody tr th:only-of-type {\n",
       "        vertical-align: middle;\n",
       "    }\n",
       "\n",
       "    .dataframe tbody tr th {\n",
       "        vertical-align: top;\n",
       "    }\n",
       "\n",
       "    .dataframe thead th {\n",
       "        text-align: right;\n",
       "    }\n",
       "</style>\n",
       "<table border=\"1\" class=\"dataframe\">\n",
       "  <thead>\n",
       "    <tr style=\"text-align: right;\">\n",
       "      <th></th>\n",
       "      <th>listing_id</th>\n",
       "      <th>date</th>\n",
       "      <th>available</th>\n",
       "      <th>price</th>\n",
       "    </tr>\n",
       "  </thead>\n",
       "  <tbody>\n",
       "    <tr>\n",
       "      <th>0</th>\n",
       "      <td>11204286</td>\n",
       "      <td>2017-07-05</td>\n",
       "      <td>t</td>\n",
       "      <td>49.0</td>\n",
       "    </tr>\n",
       "    <tr>\n",
       "      <th>1</th>\n",
       "      <td>11204286</td>\n",
       "      <td>2017-07-04</td>\n",
       "      <td>t</td>\n",
       "      <td>49.0</td>\n",
       "    </tr>\n",
       "    <tr>\n",
       "      <th>2</th>\n",
       "      <td>11204286</td>\n",
       "      <td>2017-07-03</td>\n",
       "      <td>t</td>\n",
       "      <td>49.0</td>\n",
       "    </tr>\n",
       "    <tr>\n",
       "      <th>3</th>\n",
       "      <td>11204286</td>\n",
       "      <td>2017-07-02</td>\n",
       "      <td>t</td>\n",
       "      <td>49.0</td>\n",
       "    </tr>\n",
       "    <tr>\n",
       "      <th>4</th>\n",
       "      <td>11204286</td>\n",
       "      <td>2017-07-01</td>\n",
       "      <td>t</td>\n",
       "      <td>49.0</td>\n",
       "    </tr>\n",
       "    <tr>\n",
       "      <th>5</th>\n",
       "      <td>11204286</td>\n",
       "      <td>2017-06-30</td>\n",
       "      <td>t</td>\n",
       "      <td>49.0</td>\n",
       "    </tr>\n",
       "    <tr>\n",
       "      <th>6</th>\n",
       "      <td>11204286</td>\n",
       "      <td>2017-06-29</td>\n",
       "      <td>t</td>\n",
       "      <td>49.0</td>\n",
       "    </tr>\n",
       "    <tr>\n",
       "      <th>7</th>\n",
       "      <td>11204286</td>\n",
       "      <td>2017-06-28</td>\n",
       "      <td>t</td>\n",
       "      <td>49.0</td>\n",
       "    </tr>\n",
       "    <tr>\n",
       "      <th>8</th>\n",
       "      <td>11204286</td>\n",
       "      <td>2017-06-27</td>\n",
       "      <td>t</td>\n",
       "      <td>49.0</td>\n",
       "    </tr>\n",
       "    <tr>\n",
       "      <th>9</th>\n",
       "      <td>11204286</td>\n",
       "      <td>2017-06-26</td>\n",
       "      <td>t</td>\n",
       "      <td>49.0</td>\n",
       "    </tr>\n",
       "  </tbody>\n",
       "</table>\n",
       "</div>"
      ],
      "text/plain": [
       "   listing_id        date available  price\n",
       "0    11204286  2017-07-05         t   49.0\n",
       "1    11204286  2017-07-04         t   49.0\n",
       "2    11204286  2017-07-03         t   49.0\n",
       "3    11204286  2017-07-02         t   49.0\n",
       "4    11204286  2017-07-01         t   49.0\n",
       "5    11204286  2017-06-30         t   49.0\n",
       "6    11204286  2017-06-29         t   49.0\n",
       "7    11204286  2017-06-28         t   49.0\n",
       "8    11204286  2017-06-27         t   49.0\n",
       "9    11204286  2017-06-26         t   49.0"
      ]
     },
     "execution_count": 65,
     "metadata": {},
     "output_type": "execute_result"
    }
   ],
   "source": [
    "cal.head(10)"
   ]
  },
  {
   "cell_type": "code",
   "execution_count": 66,
   "metadata": {
    "collapsed": true
   },
   "outputs": [],
   "source": [
    "def group_mean(x):\n",
    "    x['mean_price'] = x['price'].mean()\n",
    "    return x"
   ]
  },
  {
   "cell_type": "code",
   "execution_count": 67,
   "metadata": {
    "collapsed": true
   },
   "outputs": [],
   "source": [
    "fr = cal.groupby(calendar.listing_id).apply(group_mean)"
   ]
  },
  {
   "cell_type": "code",
   "execution_count": 68,
   "metadata": {
    "collapsed": true
   },
   "outputs": [],
   "source": [
    "fr = fr.loc[fr.available!='t']"
   ]
  },
  {
   "cell_type": "code",
   "execution_count": 69,
   "metadata": {
    "collapsed": true
   },
   "outputs": [],
   "source": [
    "frame = fr[['listing_id','mean_price']].groupby(['listing_id']).sum()"
   ]
  },
  {
   "cell_type": "markdown",
   "metadata": {},
   "source": [
    "New DF Joining 92101 Listings with Respective Calendar Entries"
   ]
  },
  {
   "cell_type": "code",
   "execution_count": 70,
   "metadata": {
    "collapsed": true
   },
   "outputs": [],
   "source": [
    "merged = listings.merge(frame, how='inner', left_on='id', right_index=True)"
   ]
  },
  {
   "cell_type": "code",
   "execution_count": 71,
   "metadata": {
    "collapsed": true
   },
   "outputs": [],
   "source": [
    "merged.rename(columns={'mean_price':'estimated_tot_income'}, inplace=True)"
   ]
  },
  {
   "cell_type": "code",
   "execution_count": 72,
   "metadata": {
    "collapsed": true
   },
   "outputs": [],
   "source": [
    "merged['estimated_tot_income'] = merged['estimated_tot_income'].apply(lambda x: x*0.75)"
   ]
  },
  {
   "cell_type": "code",
   "execution_count": 73,
   "metadata": {
    "collapsed": true
   },
   "outputs": [],
   "source": [
    "cols = ['id','bathrooms', 'bedrooms', 'beds', 'bed_type', 'amenities', 'square_feet','review_scores_accuracy', 'review_scores_cleanliness',\n",
    "       'review_scores_checkin', 'review_scores_communication',\n",
    "       'review_scores_location', 'review_scores_value', 'estimated_tot_income']"
   ]
  },
  {
   "cell_type": "code",
   "execution_count": 75,
   "metadata": {},
   "outputs": [
    {
     "data": {
      "text/html": [
       "<div>\n",
       "<style scoped>\n",
       "    .dataframe tbody tr th:only-of-type {\n",
       "        vertical-align: middle;\n",
       "    }\n",
       "\n",
       "    .dataframe tbody tr th {\n",
       "        vertical-align: top;\n",
       "    }\n",
       "\n",
       "    .dataframe thead th {\n",
       "        text-align: right;\n",
       "    }\n",
       "</style>\n",
       "<table border=\"1\" class=\"dataframe\">\n",
       "  <thead>\n",
       "    <tr style=\"text-align: right;\">\n",
       "      <th></th>\n",
       "      <th>id</th>\n",
       "      <th>bathrooms</th>\n",
       "      <th>bedrooms</th>\n",
       "      <th>beds</th>\n",
       "      <th>bed_type</th>\n",
       "      <th>amenities</th>\n",
       "      <th>square_feet</th>\n",
       "      <th>review_scores_accuracy</th>\n",
       "      <th>review_scores_cleanliness</th>\n",
       "      <th>review_scores_checkin</th>\n",
       "      <th>review_scores_communication</th>\n",
       "      <th>review_scores_location</th>\n",
       "      <th>review_scores_value</th>\n",
       "      <th>estimated_tot_income</th>\n",
       "    </tr>\n",
       "  </thead>\n",
       "  <tbody>\n",
       "    <tr>\n",
       "      <th>4141</th>\n",
       "      <td>13172900</td>\n",
       "      <td>3.0</td>\n",
       "      <td>4.0</td>\n",
       "      <td>7.0</td>\n",
       "      <td>Real Bed</td>\n",
       "      <td>{TV,\"Wireless Internet\",Kitchen,\"Free Parking ...</td>\n",
       "      <td>NaN</td>\n",
       "      <td>NaN</td>\n",
       "      <td>NaN</td>\n",
       "      <td>NaN</td>\n",
       "      <td>NaN</td>\n",
       "      <td>NaN</td>\n",
       "      <td>NaN</td>\n",
       "      <td>265072.50</td>\n",
       "    </tr>\n",
       "    <tr>\n",
       "      <th>2298</th>\n",
       "      <td>13413132</td>\n",
       "      <td>4.0</td>\n",
       "      <td>4.0</td>\n",
       "      <td>4.0</td>\n",
       "      <td>Real Bed</td>\n",
       "      <td>{TV,\"Wireless Internet\",\"Air Conditioning\",Kit...</td>\n",
       "      <td>NaN</td>\n",
       "      <td>NaN</td>\n",
       "      <td>NaN</td>\n",
       "      <td>NaN</td>\n",
       "      <td>NaN</td>\n",
       "      <td>NaN</td>\n",
       "      <td>NaN</td>\n",
       "      <td>235575.00</td>\n",
       "    </tr>\n",
       "    <tr>\n",
       "      <th>2091</th>\n",
       "      <td>13329433</td>\n",
       "      <td>2.0</td>\n",
       "      <td>4.0</td>\n",
       "      <td>4.0</td>\n",
       "      <td>Real Bed</td>\n",
       "      <td>{TV,\"Cable TV\",Internet,Pool,Kitchen,\"Free Par...</td>\n",
       "      <td>NaN</td>\n",
       "      <td>NaN</td>\n",
       "      <td>NaN</td>\n",
       "      <td>NaN</td>\n",
       "      <td>NaN</td>\n",
       "      <td>NaN</td>\n",
       "      <td>NaN</td>\n",
       "      <td>233655.75</td>\n",
       "    </tr>\n",
       "  </tbody>\n",
       "</table>\n",
       "</div>"
      ],
      "text/plain": [
       "            id  bathrooms  bedrooms  beds  bed_type  \\\n",
       "4141  13172900        3.0       4.0   7.0  Real Bed   \n",
       "2298  13413132        4.0       4.0   4.0  Real Bed   \n",
       "2091  13329433        2.0       4.0   4.0  Real Bed   \n",
       "\n",
       "                                              amenities  square_feet  \\\n",
       "4141  {TV,\"Wireless Internet\",Kitchen,\"Free Parking ...          NaN   \n",
       "2298  {TV,\"Wireless Internet\",\"Air Conditioning\",Kit...          NaN   \n",
       "2091  {TV,\"Cable TV\",Internet,Pool,Kitchen,\"Free Par...          NaN   \n",
       "\n",
       "      review_scores_accuracy  review_scores_cleanliness  \\\n",
       "4141                     NaN                        NaN   \n",
       "2298                     NaN                        NaN   \n",
       "2091                     NaN                        NaN   \n",
       "\n",
       "      review_scores_checkin  review_scores_communication  \\\n",
       "4141                    NaN                          NaN   \n",
       "2298                    NaN                          NaN   \n",
       "2091                    NaN                          NaN   \n",
       "\n",
       "      review_scores_location  review_scores_value  estimated_tot_income  \n",
       "4141                     NaN                  NaN             265072.50  \n",
       "2298                     NaN                  NaN             235575.00  \n",
       "2091                     NaN                  NaN             233655.75  "
      ]
     },
     "execution_count": 75,
     "metadata": {},
     "output_type": "execute_result"
    }
   ],
   "source": [
    "merged[cols].sort_values(['estimated_tot_income'], ascending=False).head(3)"
   ]
  },
  {
   "cell_type": "code",
   "execution_count": 76,
   "metadata": {},
   "outputs": [
    {
     "data": {
      "text/plain": [
       "listing_id    360\n",
       "date          360\n",
       "available     360\n",
       "price           0\n",
       "dtype: int64"
      ]
     },
     "execution_count": 76,
     "metadata": {},
     "output_type": "execute_result"
    }
   ],
   "source": [
    "cal.loc[(cal.listing_id == 6275771) & (cal.available!='t')].count()"
   ]
  },
  {
   "cell_type": "markdown",
   "metadata": {
    "collapsed": true
   },
   "source": [
    "Merging Selection of Unavailable (lt250 days) Listings with their calendars"
   ]
  },
  {
   "cell_type": "code",
   "execution_count": 78,
   "metadata": {
    "collapsed": true
   },
   "outputs": [],
   "source": [
    "new = avail_lt250.merge(cal ,how='inner', left_on='id', right_on='listing_id')"
   ]
  },
  {
   "cell_type": "code",
   "execution_count": 79,
   "metadata": {},
   "outputs": [
    {
     "data": {
      "text/html": [
       "<div>\n",
       "<style scoped>\n",
       "    .dataframe tbody tr th:only-of-type {\n",
       "        vertical-align: middle;\n",
       "    }\n",
       "\n",
       "    .dataframe tbody tr th {\n",
       "        vertical-align: top;\n",
       "    }\n",
       "\n",
       "    .dataframe thead th {\n",
       "        text-align: right;\n",
       "    }\n",
       "</style>\n",
       "<table border=\"1\" class=\"dataframe\">\n",
       "  <thead>\n",
       "    <tr style=\"text-align: right;\">\n",
       "      <th></th>\n",
       "      <th>id</th>\n",
       "      <th>availability_365</th>\n",
       "      <th>listing_id</th>\n",
       "      <th>date</th>\n",
       "      <th>available</th>\n",
       "      <th>price</th>\n",
       "    </tr>\n",
       "  </thead>\n",
       "  <tbody>\n",
       "    <tr>\n",
       "      <th>776173</th>\n",
       "      <td>6</td>\n",
       "      <td>42</td>\n",
       "      <td>6</td>\n",
       "      <td>2017-06-28</td>\n",
       "      <td>f</td>\n",
       "      <td>NaN</td>\n",
       "    </tr>\n",
       "    <tr>\n",
       "      <th>776106</th>\n",
       "      <td>6</td>\n",
       "      <td>42</td>\n",
       "      <td>6</td>\n",
       "      <td>2016-12-21</td>\n",
       "      <td>f</td>\n",
       "      <td>NaN</td>\n",
       "    </tr>\n",
       "    <tr>\n",
       "      <th>776107</th>\n",
       "      <td>6</td>\n",
       "      <td>42</td>\n",
       "      <td>6</td>\n",
       "      <td>2016-12-20</td>\n",
       "      <td>f</td>\n",
       "      <td>NaN</td>\n",
       "    </tr>\n",
       "  </tbody>\n",
       "</table>\n",
       "</div>"
      ],
      "text/plain": [
       "        id  availability_365  listing_id        date available  price\n",
       "776173   6                42           6  2017-06-28         f    NaN\n",
       "776106   6                42           6  2016-12-21         f    NaN\n",
       "776107   6                42           6  2016-12-20         f    NaN"
      ]
     },
     "execution_count": 79,
     "metadata": {},
     "output_type": "execute_result"
    }
   ],
   "source": [
    "new.sort_values(by='id').head(3)"
   ]
  },
  {
   "cell_type": "code",
   "execution_count": 87,
   "metadata": {
    "collapsed": true
   },
   "outputs": [],
   "source": [
    "new_id6 = new.loc[(new.id == 6)]"
   ]
  },
  {
   "cell_type": "markdown",
   "metadata": {},
   "source": [
    "Plotting values for this listing id"
   ]
  },
  {
   "cell_type": "code",
   "execution_count": 88,
   "metadata": {},
   "outputs": [
    {
     "data": {
      "image/png": "[encoded data removed]",
      "text/plain": [
       "<matplotlib.figure.Figure at 0x10aeb8e50>"
      ]
     },
     "metadata": {},
     "output_type": "display_data"
    }
   ],
   "source": [
    "new_id6.plot(x='date', y='price', style='o')\n",
    "plt.show()"
   ]
  },
  {
   "cell_type": "code",
   "execution_count": 90,
   "metadata": {},
   "outputs": [
    {
     "data": {
      "text/plain": [
       "id                  42\n",
       "availability_365    42\n",
       "listing_id          42\n",
       "date                42\n",
       "available           42\n",
       "price               42\n",
       "dtype: int64"
      ]
     },
     "execution_count": 90,
     "metadata": {},
     "output_type": "execute_result"
    }
   ],
   "source": [
    "new_id6.loc[(new_id6.price)>0].count()"
   ]
  },
  {
   "cell_type": "code",
   "execution_count": null,
   "metadata": {
    "collapsed": true
   },
   "outputs": [],
   "source": [
    "#Will look for listings that have high occupancy rates but also lots of vacant days in between so we can figure out price patterns"
   ]
  }
 ],
 "metadata": {
  "kernelspec": {
   "display_name": "Python 2",
   "language": "python",
   "name": "python2"
  },
  "language_info": {
   "codemirror_mode": {
    "name": "ipython",
    "version": 2
   },
   "file_extension": ".py",
   "mimetype": "text/x-python",
   "name": "python",
   "nbconvert_exporter": "python",
   "pygments_lexer": "ipython2",
   "version": "2.7.14"
  }
 },
 "nbformat": 4,
 "nbformat_minor": 2
}
