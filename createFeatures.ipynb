{
 "cells": [
  {
   "cell_type": "markdown",
   "metadata": {},
   "source": [
    "# Notebook used to create features and edit datatypes"
   ]
  },
  {
   "cell_type": "code",
   "execution_count": 1,
   "metadata": {
    "collapsed": true
   },
   "outputs": [],
   "source": [
    "import pandas as pd\n",
    "import numpy as np\n",
    "import os\n",
    "import matplotlib.pyplot as plt\n",
    "from sklearn.model_selection import train_test_split\n",
    "import numpy as np\n",
    "from pandas.plotting import scatter_matrix, lag_plot,autocorrelation_plot\n",
    "#from statsmodels.graphics.tsaplots import plot_pacf\n",
    "import pyarrow as pa\n",
    "import pyarrow.parquet as pq\n",
    "from datetime import datetime\n",
    "import re\n",
    "import string"
   ]
  },
  {
   "cell_type": "code",
   "execution_count": 2,
   "metadata": {},
   "outputs": [],
   "source": [
    "master = pd.read_parquet('master.parquet',engine='fastparquet')"
   ]
  },
  {
   "cell_type": "code",
   "execution_count": 3,
   "metadata": {
    "collapsed": true
   },
   "outputs": [],
   "source": [
    "master = master.infer_objects()"
   ]
  },
  {
   "cell_type": "markdown",
   "metadata": {},
   "source": [
    "Transform the Host Response Time into MAx ResponseNumber of Hours:"
   ]
  },
  {
   "cell_type": "code",
   "execution_count": 4,
   "metadata": {},
   "outputs": [
    {
     "name": "stdout",
     "output_type": "stream",
     "text": [
      "Total counts match\n"
     ]
    }
   ],
   "source": [
    "lst = []\n",
    "for i in master['host_response_time']:\n",
    "    if i == None:\n",
    "        lst.append(None)\n",
    "    elif i =='within an hour':\n",
    "        lst.append(1)\n",
    "    elif i == 'within a day':\n",
    "        lst.append(24)\n",
    "    elif i == 'within a few hours':\n",
    "        lst.append(4)\n",
    "    elif i == 'a few days or more':\n",
    "        lst.append(50)\n",
    "if len(lst) == len(master['host_response_time']):\n",
    "    print \"Total counts match\"\n",
    "        "
   ]
  },
  {
   "cell_type": "code",
   "execution_count": 5,
   "metadata": {},
   "outputs": [
    {
     "data": {
      "text/plain": [
       "host_response_time\n",
       "a few days or more     17816\n",
       "within a day          154542\n",
       "within a few hours    236514\n",
       "within an hour        429227\n",
       "Name: id, dtype: int64"
      ]
     },
     "execution_count": 5,
     "metadata": {},
     "output_type": "execute_result"
    }
   ],
   "source": [
    "master['id'].groupby(by=master['host_response_time']).count()"
   ]
  },
  {
   "cell_type": "code",
   "execution_count": 6,
   "metadata": {
    "collapsed": true
   },
   "outputs": [],
   "source": [
    "master['MaxResponseTimeHours'] = lst"
   ]
  },
  {
   "cell_type": "markdown",
   "metadata": {},
   "source": [
    "Transform Host Response Rate into float"
   ]
  },
  {
   "cell_type": "code",
   "execution_count": 7,
   "metadata": {
    "collapsed": true
   },
   "outputs": [],
   "source": [
    "master['host_response_rate'] = master['host_response_rate'].astype(str).map(lambda x: x.lstrip('%'))\n",
    "master['host_response_rate'] = master['host_response_rate'].apply(pd.to_numeric, errors='coerce')\n",
    "master['host_response_rate'].replace(regex=True,inplace=True,to_replace=r'\\D',value=r'')"
   ]
  },
  {
   "cell_type": "markdown",
   "metadata": {},
   "source": [
    "Transform Host Is Super Host into Binary (Float)"
   ]
  },
  {
   "cell_type": "code",
   "execution_count": 8,
   "metadata": {},
   "outputs": [
    {
     "name": "stdout",
     "output_type": "stream",
     "text": [
      "Total counts match\n"
     ]
    }
   ],
   "source": [
    "lst =[]\n",
    "for i in master['host_is_superhost']:\n",
    "    if i == None:\n",
    "        lst.append(None)\n",
    "    elif i =='t':\n",
    "        lst.append(1)\n",
    "    elif i == 'f':\n",
    "        lst.append(0)\n",
    "if len(lst) == len(master['host_is_superhost']):\n",
    "    print \"Total counts match\""
   ]
  },
  {
   "cell_type": "code",
   "execution_count": 9,
   "metadata": {
    "collapsed": true
   },
   "outputs": [],
   "source": [
    "master['host_is_superhost'] = lst"
   ]
  },
  {
   "cell_type": "markdown",
   "metadata": {},
   "source": [
    "Convert Host Since to Date Time"
   ]
  },
  {
   "cell_type": "code",
   "execution_count": 10,
   "metadata": {},
   "outputs": [
    {
     "name": "stdout",
     "output_type": "stream",
     "text": [
      "Total counts match\n"
     ]
    }
   ],
   "source": [
    "lst = []\n",
    "for i in master['host_since']:\n",
    "    if i == None:\n",
    "        lst.append(None)\n",
    "    elif i!= None:\n",
    "        lst.append(datetime.strptime(i,'%Y-%m-%d'))\n",
    "if len(lst) == len(master['host_since']):\n",
    "    print \"Total counts match\"\n",
    "    "
   ]
  },
  {
   "cell_type": "code",
   "execution_count": 11,
   "metadata": {
    "collapsed": true
   },
   "outputs": [],
   "source": [
    "master['host_since'] = lst"
   ]
  },
  {
   "cell_type": "code",
   "execution_count": 12,
   "metadata": {
    "collapsed": true
   },
   "outputs": [],
   "source": [
    "master_num = master.select_dtypes(include=['float64','int64'])"
   ]
  },
  {
   "cell_type": "code",
   "execution_count": 13,
   "metadata": {
    "collapsed": true
   },
   "outputs": [],
   "source": [
    "#drop columns that are not needed\n",
    "master_num = master_num.drop(columns=['scrape_id',\n",
    "'host_id','zipcode','latitude',\n",
    "'longitude','license','id'])"
   ]
  },
  {
   "cell_type": "code",
   "execution_count": 14,
   "metadata": {
    "collapsed": true
   },
   "outputs": [],
   "source": [
    "master_num = master_num.reset_index()\n",
    "master_num = master_num.drop(columns='index')"
   ]
  },
  {
   "cell_type": "code",
   "execution_count": 15,
   "metadata": {
    "collapsed": true
   },
   "outputs": [],
   "source": [
    "master_num = master_num.fillna(0)"
   ]
  },
  {
   "cell_type": "code",
   "execution_count": 25,
   "metadata": {},
   "outputs": [
    {
     "data": {
      "text/plain": [
       "host_response_rate                uint8\n",
       "host_is_superhost                 int64\n",
       "host_listings_count               int64\n",
       "host_total_listings_count         int64\n",
       "neighbourhood_group_cleansed      int64\n",
       "accommodates                      int64\n",
       "bathrooms                         int64\n",
       "bedrooms                          int64\n",
       "beds                              int64\n",
       "square_feet                       int64\n",
       "guests_included                   int64\n",
       "minimum_nights                    int64\n",
       "maximum_nights                    int64\n",
       "has_availability                  int64\n",
       "availability_30                   int64\n",
       "availability_60                   int64\n",
       "availability_90                   int64\n",
       "availability_365                  int64\n",
       "number_of_reviews                 int64\n",
       "review_scores_rating              int64\n",
       "review_scores_accuracy            int64\n",
       "review_scores_cleanliness         int64\n",
       "review_scores_checkin             int64\n",
       "review_scores_communication       int64\n",
       "review_scores_location            int64\n",
       "review_scores_value               int64\n",
       "calculated_host_listings_count    int64\n",
       "reviews_per_month                 int64\n",
       "listing_id                        int64\n",
       "price_y                           int64\n",
       "transit_length                    int64\n",
       "transit_variety                   int64\n",
       "transit_vocab_size                int64\n",
       "transitTextLength                 int64\n",
       "transitTextWordsPerc              int64\n",
       "transitTextPuncPerc               int64\n",
       "transitTextDigitsPerc             int64\n",
       "MaxResponseTimeHours              int64\n",
       "dtype: object"
      ]
     },
     "execution_count": 25,
     "metadata": {},
     "output_type": "execute_result"
    }
   ],
   "source": [
    "master_num.dtypes"
   ]
  },
  {
   "cell_type": "code",
   "execution_count": 24,
   "metadata": {},
   "outputs": [],
   "source": [
    "master_num['host_response_rate'] = pd.to_numeric(master_num['host_response_rate'],downcast='unsigned')"
   ]
  },
  {
   "cell_type": "code",
   "execution_count": 26,
   "metadata": {
    "collapsed": true
   },
   "outputs": [],
   "source": [
    "master_num['neighbourhood_group_cleansed'] = pd.to_numeric(master_num['neighbourhood_group_cleansed'],downcast='unsigned')\n",
    "master_num['bathrooms'] = pd.to_numeric(master_num['bathrooms'],downcast='unsigned')\n",
    "master_num['bedrooms'] = pd.to_numeric(master_num['bedrooms'],downcast='unsigned')\n",
    "master_num['beds'] = pd.to_numeric(master_num['beds'],downcast='unsigned')\n",
    "master_num['square_feet'] = pd.to_numeric(master_num['square_feet'],downcast='unsigned')\n",
    "master_num['has_availability'] = pd.to_numeric(master_num['has_availability'],downcast='unsigned')\n",
    "master_num['review_scores_rating'] = pd.to_numeric(master_num['review_scores_rating'],downcast='unsigned')\n",
    "master_num['review_scores_accuracy'] = pd.to_numeric(master_num['review_scores_accuracy'],downcast='unsigned')\n",
    "master_num['review_scores_cleanliness'] = pd.to_numeric(master_num['review_scores_cleanliness'],downcast='unsigned')\n",
    "master_num['review_scores_checkin'] = pd.to_numeric(master_num['review_scores_checkin'],downcast='unsigned')\n",
    "master_num['review_scores_cleanliness'] = pd.to_numeric(master_num['review_scores_cleanliness'],downcast='unsigned')\n",
    "master_num['review_scores_communication'] = pd.to_numeric(master_num['review_scores_communication'],downcast='unsigned')\n",
    "master_num['review_scores_location'] = pd.to_numeric(master_num['review_scores_location'],downcast='unsigned')\n",
    "master_num['review_scores_value'] = pd.to_numeric(master_num['review_scores_value'],downcast='unsigned')\n",
    "master_num['reviews_per_month'] = pd.to_numeric(master_num['reviews_per_month'],downcast='unsigned')\n",
    "master_num['price_y'] = pd.to_numeric(master_num['price_y'],downcast='unsigned')\n",
    "master_num['transitTextWordsPerc'] = pd.to_numeric(master_num['transitTextWordsPerc'],downcast='unsigned')\n",
    "master_num['transitTextPuncPerc'] = pd.to_numeric(master_num['transitTextPuncPerc'],downcast='unsigned')\n",
    "master_num['transitTextDigitsPerc'] = pd.to_numeric(master_num['transitTextDigitsPerc'],downcast='unsigned')\n",
    "master_num['MaxResponseTimeHours'] = pd.to_numeric(master_num['MaxResponseTimeHours'],downcast='unsigned')"
   ]
  },
  {
   "cell_type": "code",
   "execution_count": 27,
   "metadata": {
    "collapsed": true
   },
   "outputs": [],
   "source": [
    "master['host_response_rate'] = pd.to_numeric(master['host_response_rate'],downcast='unsigned')\n",
    "master['neighbourhood_group_cleansed'] = pd.to_numeric(master['neighbourhood_group_cleansed'],downcast='unsigned')\n",
    "master['bathrooms'] = pd.to_numeric(master['bathrooms'],downcast='unsigned')\n",
    "master['bedrooms'] = pd.to_numeric(master['bedrooms'],downcast='unsigned')\n",
    "master['beds'] = pd.to_numeric(master['beds'],downcast='unsigned')\n",
    "master['square_feet'] = pd.to_numeric(master['square_feet'],downcast='unsigned')\n",
    "master['has_availability'] = pd.to_numeric(master['has_availability'],downcast='unsigned')\n",
    "master['review_scores_rating'] = pd.to_numeric(master['review_scores_rating'],downcast='unsigned')\n",
    "master['review_scores_accuracy'] = pd.to_numeric(master['review_scores_accuracy'],downcast='unsigned')\n",
    "master['review_scores_cleanliness'] = pd.to_numeric(master['review_scores_cleanliness'],downcast='unsigned')\n",
    "master['review_scores_checkin'] = pd.to_numeric(master['review_scores_checkin'],downcast='unsigned')\n",
    "master['review_scores_cleanliness'] = pd.to_numeric(master['review_scores_cleanliness'],downcast='unsigned')\n",
    "master['review_scores_communication'] = pd.to_numeric(master['review_scores_communication'],downcast='unsigned')\n",
    "master['review_scores_location'] = pd.to_numeric(master['review_scores_location'],downcast='unsigned')\n",
    "master['review_scores_value'] = pd.to_numeric(master['review_scores_value'],downcast='unsigned')\n",
    "master['reviews_per_month'] = pd.to_numeric(master['reviews_per_month'],downcast='unsigned')\n",
    "master['price_y'] = pd.to_numeric(master['price_y'],downcast='unsigned')\n",
    "master['transitTextWordsPerc'] = pd.to_numeric(master['transitTextWordsPerc'],downcast='unsigned')\n",
    "master['transitTextPuncPerc'] = pd.to_numeric(master['transitTextPuncPerc'],downcast='unsigned')\n",
    "master['transitTextDigitsPerc'] = pd.to_numeric(master['transitTextDigitsPerc'],downcast='unsigned')\n",
    "master['MaxResponseTimeHours'] = pd.to_numeric(master['MaxResponseTimeHours'],downcast='unsigned')"
   ]
  },
  {
   "cell_type": "markdown",
   "metadata": {},
   "source": [
    "Creating Simple Features by Multiplying and Dividing All Numerical Features (Cartesian Product)"
   ]
  },
  {
   "cell_type": "code",
   "execution_count": 19,
   "metadata": {
    "collapsed": true
   },
   "outputs": [],
   "source": [
    "dt_mult = {}\n",
    "for i,k in enumerate(master_num.columns):\n",
    "    if i < 37:\n",
    "        for j,l in enumerate(master_num.columns):\n",
    "            col_name = str(k) + ' * ' + str(l)\n",
    "            dt_mult[col_name] = master_num[k]*master_num[l]\n",
    "            dt_mult['listing_id'] = master_num['listing_id']"
   ]
  },
  {
   "cell_type": "code",
   "execution_count": 20,
   "metadata": {
    "collapsed": true
   },
   "outputs": [],
   "source": [
    "dt_div = {}\n",
    "for i,k in enumerate(master_num.columns):\n",
    "    if i < 37:\n",
    "        for j,l in enumerate(master_num.columns):\n",
    "            col_name = str(k) + ' / ' + str(l)\n",
    "            dt_div[col_name] = master_num[k]/master_num[l]\n",
    "            dt_div['listing_id'] = master_num['listing_id']"
   ]
  },
  {
   "cell_type": "code",
   "execution_count": 21,
   "metadata": {
    "collapsed": true
   },
   "outputs": [],
   "source": [
    "new_features_dict = dict(dt_div.items() + dt_mult.items())"
   ]
  },
  {
   "cell_type": "markdown",
   "metadata": {},
   "source": [
    "Joining to Original Dataframe"
   ]
  },
  {
   "cell_type": "code",
   "execution_count": 28,
   "metadata": {},
   "outputs": [
    {
     "name": "stdout",
     "output_type": "stream",
     "text": [
      "Once deleted, variables cannot be recovered. Proceed (y/[n])?  y\n"
     ]
    }
   ],
   "source": [
    "%reset_selective dt_mult"
   ]
  },
  {
   "cell_type": "code",
   "execution_count": 29,
   "metadata": {},
   "outputs": [
    {
     "name": "stdout",
     "output_type": "stream",
     "text": [
      "Once deleted, variables cannot be recovered. Proceed (y/[n])?  y\n"
     ]
    }
   ],
   "source": [
    "%reset_selective dt_div"
   ]
  },
  {
   "cell_type": "code",
   "execution_count": 30,
   "metadata": {},
   "outputs": [
    {
     "name": "stdout",
     "output_type": "stream",
     "text": [
      "Once deleted, variables cannot be recovered. Proceed (y/[n])?  y\n"
     ]
    }
   ],
   "source": [
    "%reset_selective lst"
   ]
  },
  {
   "cell_type": "code",
   "execution_count": 31,
   "metadata": {},
   "outputs": [
    {
     "name": "stdout",
     "output_type": "stream",
     "text": [
      "Once deleted, variables cannot be recovered. Proceed (y/[n])?  y\n"
     ]
    }
   ],
   "source": [
    "%reset_selective master_num"
   ]
  },
  {
   "cell_type": "code",
   "execution_count": 32,
   "metadata": {
    "collapsed": true
   },
   "outputs": [],
   "source": [
    "master_new_features = pd.DataFrame(new_features_dict)"
   ]
  },
  {
   "cell_type": "code",
   "execution_count": null,
   "metadata": {},
   "outputs": [
    {
     "name": "stderr",
     "output_type": "stream",
     "text": [
      "/Users/pauldefusco/anaconda2/envs/py27/lib/python2.7/site-packages/pandas/core/internals.py:358: FutureWarning: in the future negative indices will not be ignored by `numpy.delete`.\n",
      "  self.values = np.delete(self.values, loc, 0)\n",
      "/Users/pauldefusco/anaconda2/envs/py27/lib/python2.7/site-packages/pandas/core/internals.py:359: FutureWarning: in the future negative indices will not be ignored by `numpy.delete`.\n",
      "  self.mgr_locs = self.mgr_locs.delete(loc)\n"
     ]
    }
   ],
   "source": [
    "for i in master_new_features.columns:\n",
    "    master_new_features[i] = pd.to_numeric(master_new_features[i], downcast='unsigned')\n",
    "\n",
    "#master_new_features = pd.to_numeric(master_new_features, downcast='unsigned')"
   ]
  },
  {
   "cell_type": "code",
   "execution_count": null,
   "metadata": {
    "collapsed": true
   },
   "outputs": [],
   "source": [
    "master_new_features.dtypes"
   ]
  },
  {
   "cell_type": "code",
   "execution_count": null,
   "metadata": {
    "collapsed": true
   },
   "outputs": [],
   "source": [
    "import dask.dataframe as dd"
   ]
  },
  {
   "cell_type": "code",
   "execution_count": null,
   "metadata": {},
   "outputs": [],
   "source": [
    "ddf = dd.from_pandas(master_new_features, npartitions=10)"
   ]
  },
  {
   "cell_type": "code",
   "execution_count": null,
   "metadata": {},
   "outputs": [],
   "source": [
    "master_dd = dd.from_pandas(master, npartitions=10)"
   ]
  },
  {
   "cell_type": "code",
   "execution_count": null,
   "metadata": {},
   "outputs": [],
   "source": [
    "master_wnewfeatures = pd.merge(master, how='inner', on='listing_id' )"
   ]
  },
  {
   "cell_type": "code",
   "execution_count": null,
   "metadata": {
    "collapsed": true
   },
   "outputs": [],
   "source": [
    "to_parquet('master_wnewfeatures.parquet', master_wnewfeatures, compression='snappy')"
   ]
  },
  {
   "cell_type": "code",
   "execution_count": null,
   "metadata": {
    "collapsed": true
   },
   "outputs": [],
   "source": []
  },
  {
   "cell_type": "code",
   "execution_count": null,
   "metadata": {},
   "outputs": [],
   "source": [
    "master_wnewfeatures = master.merge(master_new_features, how='inner', left_on='listing_id', right_on='listing_id')"
   ]
  },
  {
   "cell_type": "code",
   "execution_count": null,
   "metadata": {
    "collapsed": true
   },
   "outputs": [],
   "source": []
  },
  {
   "cell_type": "code",
   "execution_count": null,
   "metadata": {
    "collapsed": true
   },
   "outputs": [],
   "source": [
    "master_wnewfeatures = master.merge(master_new_features, how='inner', left_index=True, right_index=True)"
   ]
  },
  {
   "cell_type": "code",
   "execution_count": null,
   "metadata": {
    "collapsed": true
   },
   "outputs": [],
   "source": []
  },
  {
   "cell_type": "code",
   "execution_count": null,
   "metadata": {
    "collapsed": true
   },
   "outputs": [],
   "source": [
    "master_wnewfeatures.to_parquet('master_wnewfeatures.parquet', engine='fastparquet')"
   ]
  },
  {
   "cell_type": "code",
   "execution_count": null,
   "metadata": {
    "collapsed": true
   },
   "outputs": [],
   "source": []
  },
  {
   "cell_type": "code",
   "execution_count": null,
   "metadata": {
    "collapsed": true
   },
   "outputs": [],
   "source": []
  },
  {
   "cell_type": "code",
   "execution_count": null,
   "metadata": {
    "collapsed": true
   },
   "outputs": [],
   "source": []
  },
  {
   "cell_type": "markdown",
   "metadata": {},
   "source": [
    "Now that we are done transforming text features into the data type they should have, we create basic features from the remaining text columns"
   ]
  },
  {
   "cell_type": "markdown",
   "metadata": {},
   "source": [
    "Creating Basic Features from Text Features"
   ]
  },
  {
   "cell_type": "code",
   "execution_count": null,
   "metadata": {
    "collapsed": true
   },
   "outputs": [],
   "source": [
    "master1 = master.copy()\n"
   ]
  },
  {
   "cell_type": "code",
   "execution_count": null,
   "metadata": {
    "collapsed": true
   },
   "outputs": [],
   "source": [
    "master_objcols = master1.select_dtypes(include='object')"
   ]
  },
  {
   "cell_type": "code",
   "execution_count": null,
   "metadata": {
    "collapsed": true
   },
   "outputs": [],
   "source": [
    "#for i in master_objcols.head(1):\n",
    "  #  print type(i)"
   ]
  },
  {
   "cell_type": "code",
   "execution_count": null,
   "metadata": {
    "collapsed": true
   },
   "outputs": [],
   "source": [
    "def create_txt_features(pdseries):\n",
    "\n",
    "    textLength = []\n",
    "    textWordsPerc = []\n",
    "    textPuncPerc = []\n",
    "    textDigitsPerc = []\n",
    "\n",
    "    for i in pdseries:\n",
    "        tokens = re.findall(r\"[\\w']+|[.,!?;]\", i)\n",
    "        textLength.append(len(tokens))\n",
    "\n",
    "        if len(tokens)==0:\n",
    "            textWordsPerc.append(0)\n",
    "            textPuncPerc.append(0)\n",
    "            textDigitsPerc.append(0)\n",
    "\n",
    "        else:\n",
    "            textWordsPerc.append(len(i.split())/float(len(tokens)))\n",
    "            textPuncPerc.append(len(''.join(c for c in i if c in string.punctuation))/float(len(tokens)))\n",
    "            textDigitsPerc.append(len(''.join(c for c in i if c in string.digits))/float(len(tokens)))\n",
    "\n",
    "    print textLength, textWordsPerc, textPuncPerc, textDigitsPerc\n",
    "    "
   ]
  },
  {
   "cell_type": "code",
   "execution_count": null,
   "metadata": {
    "collapsed": true
   },
   "outputs": [],
   "source": [
    "for i in master_objcols:\n",
    "    create_txt_features(master_objcols[i])"
   ]
  },
  {
   "cell_type": "code",
   "execution_count": null,
   "metadata": {
    "collapsed": true
   },
   "outputs": [],
   "source": []
  }
 ],
 "metadata": {
  "kernelspec": {
   "display_name": "Python 2",
   "language": "python",
   "name": "python2"
  },
  "language_info": {
   "codemirror_mode": {
    "name": "ipython",
    "version": 2
   },
   "file_extension": ".py",
   "mimetype": "text/x-python",
   "name": "python",
   "nbconvert_exporter": "python",
   "pygments_lexer": "ipython2",
   "version": "2.7.14"
  }
 },
 "nbformat": 4,
 "nbformat_minor": 2
}
