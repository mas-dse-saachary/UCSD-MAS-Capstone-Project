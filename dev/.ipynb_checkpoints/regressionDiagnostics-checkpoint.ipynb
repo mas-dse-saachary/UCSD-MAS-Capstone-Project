{
 "cells": [
  {
   "cell_type": "markdown",
   "metadata": {},
   "source": [
    "Notebook to experiment methodologies for analyzing the outcomes of regression models and experimenting with different diagnostics"
   ]
  },
  {
   "cell_type": "code",
   "execution_count": 1,
   "metadata": {},
   "outputs": [
    {
     "name": "stderr",
     "output_type": "stream",
     "text": [
      "/Users/pauldefusco/anaconda2/envs/py27/lib/python2.7/site-packages/statsmodels/compat/pandas.py:56: FutureWarning: The pandas.core.datetools module is deprecated and will be removed in a future version. Please use the pandas.tseries module instead.\n",
      "  from pandas.core import datetools\n"
     ]
    }
   ],
   "source": [
    "import pandas as pd\n",
    "import numpy as np\n",
    "import statsmodels.api as sm\n",
    "import statsmodels.formula.api as smf\n",
    "import statsmodels.stats.api as sms\n",
    "import seaborn as sb\n",
    "import matplotlib.pyplot as plt\n",
    "from pandas.plotting import scatter_matrix\n",
    "from statsmodels.compat import lzip\n",
    "%matplotlib inline"
   ]
  },
  {
   "cell_type": "code",
   "execution_count": 2,
   "metadata": {
    "collapsed": true
   },
   "outputs": [],
   "source": [
    "listings = pd.read_csv('listings_augmented_2018-05-06_V1.csv',low_memory=False)"
   ]
  },
  {
   "cell_type": "code",
   "execution_count": 3,
   "metadata": {},
   "outputs": [
    {
     "name": "stdout",
     "output_type": "stream",
     "text": [
      "Unnamed: 0 object\n",
      "house_rules-Topic0 object\n",
      "house_rules-Topic1 float64\n",
      "house_rules-Topic2 float64\n",
      "house_rules-Topic3 object\n",
      "house_rules-Topic4 object\n",
      "house_rules-Topic5 object\n",
      "house_rules-Topic6 float64\n",
      "house_rules-Topic7 float64\n",
      "house_rules-Topic8 float64\n",
      "house_rules-Topic9 object\n",
      "house_rules-Topic10 object\n",
      "house_rules-Topic11 object\n",
      "house_rules-Topic12 object\n",
      "house_rules-Topic13 float64\n",
      "house_rules-Topic14 object\n",
      "house_rules-Topic15 float64\n",
      "house_rules-Topic16 object\n",
      "house_rules-Topic17 object\n",
      "house_rules-Topic18 float64\n",
      "house_rules-Topic19 object\n",
      "house_rules-Dominant_Topic object\n",
      "interaction-Topic0 object\n",
      "interaction-Topic1 object\n",
      "interaction-Topic2 float64\n",
      "interaction-Topic3 float64\n",
      "interaction-Topic4 object\n",
      "interaction-Topic5 object\n",
      "interaction-Topic6 object\n",
      "interaction-Topic7 float64\n",
      "interaction-Topic8 float64\n",
      "interaction-Topic9 float64\n",
      "interaction-Topic10 float64\n",
      "interaction-Topic11 object\n",
      "interaction-Topic12 object\n",
      "interaction-Topic13 float64\n",
      "interaction-Topic14 object\n",
      "interaction-Topic15 float64\n",
      "interaction-Topic16 float64\n",
      "interaction-Topic17 float64\n",
      "interaction-Topic18 float64\n",
      "interaction-Topic19 float64\n",
      "interaction-Dominant_Topic float64\n",
      "access-Topic0 float64\n",
      "access-Topic1 float64\n",
      "access-Topic2 object\n",
      "access-Topic3 float64\n",
      "access-Topic4 float64\n",
      "access-Topic5 float64\n",
      "access-Topic6 float64\n",
      "access-Topic7 float64\n",
      "access-Topic8 object\n",
      "access-Topic9 float64\n",
      "access-Topic10 object\n",
      "access-Topic11 object\n",
      "access-Topic12 float64\n",
      "access-Topic13 float64\n",
      "access-Topic14 float64\n",
      "access-Topic15 float64\n",
      "access-Topic16 float64\n",
      "access-Topic17 float64\n",
      "access-Topic18 float64\n",
      "access-Topic19 object\n",
      "access-Dominant_Topic float64\n",
      "transit-Topic0 object\n",
      "transit-Topic1 object\n",
      "transit-Topic2 object\n",
      "transit-Topic3 object\n",
      "transit-Topic4 object\n",
      "transit-Topic5 float64\n",
      "transit-Topic6 float64\n",
      "transit-Topic7 float64\n",
      "transit-Topic8 float64\n",
      "transit-Topic9 float64\n",
      "transit-Topic10 float64\n",
      "transit-Topic11 float64\n",
      "transit-Topic12 float64\n",
      "transit-Topic13 float64\n",
      "transit-Topic14 float64\n",
      "transit-Topic15 float64\n",
      "transit-Topic16 float64\n",
      "transit-Topic17 float64\n",
      "transit-Topic18 float64\n",
      "transit-Topic19 float64\n",
      "transit-Dominant_Topic float64\n",
      "notes-Topic0 float64\n",
      "notes-Topic1 float64\n",
      "notes-Topic2 float64\n",
      "notes-Topic3 float64\n",
      "notes-Topic4 float64\n",
      "notes-Topic5 float64\n",
      "notes-Topic6 float64\n",
      "notes-Topic7 float64\n",
      "notes-Topic8 float64\n",
      "notes-Topic9 float64\n",
      "notes-Topic10 float64\n",
      "notes-Topic11 float64\n",
      "notes-Topic12 float64\n",
      "notes-Topic13 float64\n",
      "notes-Topic14 float64\n",
      "notes-Topic15 float64\n",
      "notes-Topic16 float64\n",
      "notes-Topic17 float64\n",
      "notes-Topic18 float64\n",
      "notes-Topic19 float64\n",
      "notes-Dominant_Topic int64\n",
      "neighborhood_overview-Topic0 float64\n",
      "neighborhood_overview-Topic1 float64\n",
      "neighborhood_overview-Topic2 float64\n",
      "neighborhood_overview-Topic3 float64\n",
      "neighborhood_overview-Topic4 float64\n",
      "neighborhood_overview-Topic5 float64\n",
      "neighborhood_overview-Topic6 float64\n",
      "neighborhood_overview-Topic7 float64\n",
      "neighborhood_overview-Topic8 float64\n",
      "neighborhood_overview-Topic9 float64\n",
      "neighborhood_overview-Topic10 float64\n",
      "neighborhood_overview-Topic11 float64\n",
      "neighborhood_overview-Topic12 float64\n",
      "neighborhood_overview-Topic13 float64\n",
      "neighborhood_overview-Topic14 float64\n",
      "neighborhood_overview-Topic15 float64\n",
      "neighborhood_overview-Topic16 float64\n",
      "neighborhood_overview-Topic17 float64\n",
      "neighborhood_overview-Topic18 float64\n",
      "neighborhood_overview-Topic19 float64\n",
      "neighborhood_overview-Dominant_Topic float64\n",
      "description-Topic0 float64\n",
      "description-Topic1 float64\n",
      "description-Topic2 float64\n",
      "description-Topic3 float64\n",
      "description-Topic4 float64\n",
      "description-Topic5 float64\n",
      "description-Topic6 float64\n",
      "description-Topic7 float64\n",
      "description-Topic8 float64\n",
      "description-Topic9 float64\n",
      "description-Topic10 float64\n",
      "description-Topic11 float64\n",
      "description-Topic12 float64\n",
      "description-Topic13 float64\n",
      "description-Topic14 float64\n",
      "description-Topic15 float64\n",
      "description-Topic16 float64\n",
      "description-Topic17 float64\n",
      "description-Topic18 float64\n",
      "description-Topic19 float64\n",
      "description-Dominant_Topic float64\n",
      "space-Topic0 float64\n",
      "space-Topic1 float64\n",
      "space-Topic2 float64\n",
      "space-Topic3 float64\n",
      "space-Topic4 float64\n",
      "space-Topic5 float64\n",
      "space-Topic6 float64\n",
      "space-Topic7 float64\n",
      "space-Topic8 float64\n",
      "space-Topic9 float64\n",
      "space-Topic10 float64\n",
      "space-Topic11 float64\n",
      "space-Topic12 float64\n",
      "space-Topic13 float64\n",
      "space-Topic14 float64\n",
      "space-Topic15 float64\n",
      "space-Topic16 float64\n",
      "space-Topic17 float64\n",
      "space-Topic18 float64\n",
      "space-Topic19 float64\n",
      "space-Dominant_Topic float64\n",
      "id float64\n",
      "listing_url object\n",
      "scrape_id float64\n",
      "last_scraped object\n",
      "name object\n",
      "summary object\n",
      "space object\n",
      "description object\n",
      "experiences_offered object\n",
      "neighborhood_overview object\n",
      "notes object\n",
      "transit object\n",
      "access object\n",
      "interaction object\n",
      "house_rules object\n",
      "thumbnail_url object\n",
      "medium_url object\n",
      "picture_url object\n",
      "xl_picture_url object\n",
      "host_id float64\n",
      "host_url object\n",
      "host_name object\n",
      "host_since object\n",
      "host_location object\n",
      "host_about object\n",
      "host_response_time object\n",
      "host_response_rate float64\n",
      "host_acceptance_rate float64\n",
      "host_is_superhost object\n",
      "host_thumbnail_url object\n",
      "host_picture_url object\n",
      "host_neighbourhood object\n",
      "host_listings_count float64\n",
      "host_total_listings_count float64\n",
      "host_verifications object\n",
      "host_has_profile_pic object\n",
      "host_identity_verified object\n",
      "street object\n",
      "neighbourhood object\n",
      "neighbourhood_cleansed object\n",
      "neighbourhood_group_cleansed float64\n",
      "city object\n",
      "state object\n",
      "zipcode float64\n",
      "market object\n",
      "smart_location object\n",
      "country_code object\n",
      "country object\n",
      "latitude float64\n",
      "longitude float64\n",
      "is_location_exact object\n",
      "property_type object\n",
      "room_type object\n",
      "accommodates float64\n",
      "bathrooms float64\n",
      "bedrooms float64\n",
      "beds float64\n",
      "bed_type object\n",
      "amenities object\n",
      "square_feet float64\n",
      "price_x object\n",
      "weekly_price float64\n",
      "monthly_price float64\n",
      "security_deposit float64\n",
      "cleaning_fee float64\n",
      "guests_included float64\n",
      "extra_people float64\n",
      "minimum_nights float64\n",
      "maximum_nights float64\n",
      "calendar_updated object\n",
      "has_availability float64\n",
      "availability_30 float64\n",
      "availability_60 float64\n",
      "availability_90 float64\n",
      "availability_365 float64\n",
      "calendar_last_scraped object\n",
      "number_of_reviews float64\n",
      "first_review object\n",
      "last_review object\n",
      "review_scores_rating float64\n",
      "review_scores_accuracy float64\n",
      "review_scores_cleanliness float64\n",
      "review_scores_checkin float64\n",
      "review_scores_communication float64\n",
      "review_scores_location float64\n",
      "review_scores_value float64\n",
      "requires_license object\n",
      "license float64\n",
      "jurisdiction_names object\n",
      "instant_bookable object\n",
      "cancellation_policy object\n",
      "require_guest_profile_picture object\n",
      "require_guest_phone_verification object\n",
      "calculated_host_listings_count float64\n",
      "reviews_per_month float64\n",
      "listing_id float64\n",
      "price_y float64\n",
      "space_TextLength float64\n",
      "space_TextWordsPerc float64\n",
      "space_TextPuncPerc float64\n",
      "space_TextDigitsPerc float64\n",
      "description_TextLength float64\n",
      "description_TextWordsPerc float64\n",
      "description_TextPuncPerc float64\n",
      "description_TextDigitsPerc float64\n",
      "neighborhood_overview_TextLength float64\n",
      "neighborhood_overview_TextWordsPerc float64\n",
      "neighborhood_overview_TextPuncPerc float64\n",
      "neighborhood_overview_TextDigitsPerc float64\n",
      "notes_TextLength float64\n",
      "notes_TextWordsPerc float64\n",
      "notes_TextPuncPerc float64\n",
      "notes_TextDigitsPerc float64\n",
      "transit_TextLength float64\n",
      "transit_TextWordsPerc float64\n",
      "transit_TextPuncPerc float64\n",
      "transit_TextDigitsPerc float64\n",
      "access_TextLength float64\n",
      "access_TextWordsPerc float64\n",
      "access_TextPuncPerc float64\n",
      "access_TextDigitsPerc float64\n",
      "interaction_TextLength float64\n",
      "interaction_TextWordsPerc float64\n",
      "interaction_TextPuncPerc float64\n",
      "interaction_TextDigitsPerc float64\n",
      "house_rules_TextLength float64\n",
      "house_rules_TextWordsPerc float64\n",
      "house_rules_TextPuncPerc float64\n",
      "house_rules_TextDigitsPerc float64\n",
      "space_LexicalDiversity float64\n",
      "description_LexicalDiversity float64\n",
      "neighborhood_overview_LexicalDiversity float64\n",
      "notes_LexicalDiversity float64\n",
      "transit_LexicalDiversity float64\n",
      "access_LexicalDiversity float64\n",
      "interaction_LexicalDiversity float64\n",
      "house_rules_LexicalDiversity float64\n",
      "space_. float64\n",
      "space_._tokens_sum_ratio float64\n",
      "space_ADJ float64\n",
      "space_ADJ_tokens_sum_ratio float64\n",
      "space_ADP float64\n",
      "space_ADP_tokens_sum_ratio float64\n",
      "space_ADV float64\n",
      "space_ADV_tokens_sum_ratio object\n",
      "space_CONJ float64\n",
      "space_CONJ_tokens_sum_ratio float64\n",
      "space_DET float64\n",
      "space_DET_tokens_sum_ratio float64\n",
      "space_NOUN float64\n",
      "space_NOUN_tokens_sum_ratio float64\n",
      "space_NUM float64\n",
      "space_NUM_tokens_sum_ratio float64\n",
      "space_PRON float64\n",
      "space_PRON_tokens_sum_ratio float64\n",
      "space_PRT float64\n",
      "space_PRT_tokens_sum_ratio float64\n",
      "space_VERB float64\n",
      "space_VERB_tokens_sum_ratio float64\n",
      "space_X float64\n",
      "space_X_tokens_sum_ratio float64\n",
      "description_. float64\n",
      "description_._tokens_sum_ratio float64\n",
      "description_ADJ float64\n",
      "description_ADJ_tokens_sum_ratio float64\n",
      "description_ADP float64\n",
      "description_ADP_tokens_sum_ratio float64\n",
      "description_ADV float64\n",
      "description_ADV_tokens_sum_ratio float64\n",
      "description_CONJ float64\n",
      "description_CONJ_tokens_sum_ratio float64\n",
      "description_DET float64\n",
      "description_DET_tokens_sum_ratio float64\n",
      "description_NOUN float64\n",
      "description_NOUN_tokens_sum_ratio float64\n",
      "description_NUM float64\n",
      "description_NUM_tokens_sum_ratio float64\n",
      "description_PRON float64\n",
      "description_PRON_tokens_sum_ratio float64\n",
      "description_PRT float64\n",
      "description_PRT_tokens_sum_ratio float64\n",
      "description_VERB float64\n",
      "description_VERB_tokens_sum_ratio float64\n",
      "description_X float64\n",
      "description_X_tokens_sum_ratio float64\n",
      "neighborhood_overview_. float64\n",
      "neighborhood_overview_._tokens_sum_ratio float64\n",
      "neighborhood_overview_ADJ float64\n",
      "neighborhood_overview_ADJ_tokens_sum_ratio float64\n",
      "neighborhood_overview_ADP float64\n",
      "neighborhood_overview_ADP_tokens_sum_ratio float64\n",
      "neighborhood_overview_ADV float64\n",
      "neighborhood_overview_ADV_tokens_sum_ratio float64\n",
      "neighborhood_overview_CONJ float64\n",
      "neighborhood_overview_CONJ_tokens_sum_ratio float64\n",
      "neighborhood_overview_DET float64\n",
      "neighborhood_overview_DET_tokens_sum_ratio float64\n",
      "neighborhood_overview_NOUN float64\n",
      "neighborhood_overview_NOUN_tokens_sum_ratio float64\n",
      "neighborhood_overview_NUM float64\n",
      "neighborhood_overview_NUM_tokens_sum_ratio float64\n",
      "neighborhood_overview_PRON float64\n",
      "neighborhood_overview_PRON_tokens_sum_ratio float64\n",
      "neighborhood_overview_PRT float64\n",
      "neighborhood_overview_PRT_tokens_sum_ratio float64\n",
      "neighborhood_overview_VERB float64\n",
      "neighborhood_overview_VERB_tokens_sum_ratio float64\n",
      "neighborhood_overview_X float64\n",
      "neighborhood_overview_X_tokens_sum_ratio float64\n",
      "notes_. float64\n",
      "notes_._tokens_sum_ratio float64\n",
      "notes_ADJ float64\n",
      "notes_ADJ_tokens_sum_ratio float64\n",
      "notes_ADP float64\n",
      "notes_ADP_tokens_sum_ratio float64\n",
      "notes_ADV float64\n",
      "notes_ADV_tokens_sum_ratio float64\n",
      "notes_CONJ float64\n",
      "notes_CONJ_tokens_sum_ratio float64\n",
      "notes_DET float64\n",
      "notes_DET_tokens_sum_ratio float64\n",
      "notes_NOUN float64\n",
      "notes_NOUN_tokens_sum_ratio float64\n",
      "notes_NUM float64\n",
      "notes_NUM_tokens_sum_ratio float64\n",
      "notes_PRON float64\n",
      "notes_PRON_tokens_sum_ratio float64\n",
      "notes_PRT float64\n",
      "notes_PRT_tokens_sum_ratio float64\n",
      "notes_VERB float64\n",
      "notes_VERB_tokens_sum_ratio float64\n",
      "notes_X float64\n",
      "notes_X_tokens_sum_ratio float64\n",
      "transit_. float64\n",
      "transit_._tokens_sum_ratio float64\n",
      "transit_ADJ float64\n",
      "transit_ADJ_tokens_sum_ratio float64\n",
      "transit_ADP float64\n",
      "transit_ADP_tokens_sum_ratio float64\n",
      "transit_ADV float64\n",
      "transit_ADV_tokens_sum_ratio float64\n",
      "transit_CONJ float64\n",
      "transit_CONJ_tokens_sum_ratio float64\n",
      "transit_DET float64\n",
      "transit_DET_tokens_sum_ratio float64\n",
      "transit_NOUN float64\n",
      "transit_NOUN_tokens_sum_ratio float64\n",
      "transit_NUM float64\n",
      "transit_NUM_tokens_sum_ratio float64\n",
      "transit_PRON float64\n",
      "transit_PRON_tokens_sum_ratio float64\n",
      "transit_PRT float64\n",
      "transit_PRT_tokens_sum_ratio float64\n",
      "transit_VERB float64\n",
      "transit_VERB_tokens_sum_ratio float64\n",
      "transit_X float64\n",
      "transit_X_tokens_sum_ratio float64\n",
      "access_. float64\n",
      "access_._tokens_sum_ratio float64\n",
      "access_ADJ float64\n",
      "access_ADJ_tokens_sum_ratio float64\n",
      "access_ADP float64\n",
      "access_ADP_tokens_sum_ratio float64\n",
      "access_ADV float64\n",
      "access_ADV_tokens_sum_ratio float64\n",
      "access_CONJ float64\n",
      "access_CONJ_tokens_sum_ratio float64\n",
      "access_DET float64\n",
      "access_DET_tokens_sum_ratio float64\n",
      "access_NOUN float64\n",
      "access_NOUN_tokens_sum_ratio float64\n",
      "access_NUM float64\n",
      "access_NUM_tokens_sum_ratio float64\n",
      "access_PRON float64\n",
      "access_PRON_tokens_sum_ratio float64\n",
      "access_PRT float64\n",
      "access_PRT_tokens_sum_ratio float64\n",
      "access_VERB float64\n",
      "access_VERB_tokens_sum_ratio float64\n",
      "access_X float64\n",
      "access_X_tokens_sum_ratio float64\n",
      "interaction_. float64\n",
      "interaction_._tokens_sum_ratio float64\n",
      "interaction_ADJ float64\n",
      "interaction_ADJ_tokens_sum_ratio float64\n",
      "interaction_ADP float64\n",
      "interaction_ADP_tokens_sum_ratio float64\n",
      "interaction_ADV float64\n",
      "interaction_ADV_tokens_sum_ratio float64\n",
      "interaction_CONJ float64\n",
      "interaction_CONJ_tokens_sum_ratio float64\n",
      "interaction_DET float64\n",
      "interaction_DET_tokens_sum_ratio float64\n",
      "interaction_NOUN float64\n",
      "interaction_NOUN_tokens_sum_ratio float64\n",
      "interaction_NUM float64\n",
      "interaction_NUM_tokens_sum_ratio float64\n",
      "interaction_PRON float64\n",
      "interaction_PRON_tokens_sum_ratio float64\n",
      "interaction_PRT float64\n",
      "interaction_PRT_tokens_sum_ratio float64\n",
      "interaction_VERB float64\n",
      "interaction_VERB_tokens_sum_ratio float64\n",
      "interaction_X float64\n",
      "interaction_X_tokens_sum_ratio float64\n",
      "house_rules_. float64\n",
      "house_rules_._tokens_sum_ratio float64\n",
      "house_rules_ADJ float64\n",
      "house_rules_ADJ_tokens_sum_ratio float64\n",
      "house_rules_ADP float64\n",
      "house_rules_ADP_tokens_sum_ratio float64\n",
      "house_rules_ADV float64\n",
      "house_rules_ADV_tokens_sum_ratio float64\n",
      "house_rules_CONJ float64\n",
      "house_rules_CONJ_tokens_sum_ratio float64\n",
      "house_rules_DET float64\n",
      "house_rules_DET_tokens_sum_ratio float64\n",
      "house_rules_NOUN float64\n",
      "house_rules_NOUN_tokens_sum_ratio float64\n",
      "house_rules_NUM float64\n",
      "house_rules_NUM_tokens_sum_ratio float64\n",
      "house_rules_PRON float64\n",
      "house_rules_PRON_tokens_sum_ratio float64\n",
      "house_rules_PRT float64\n",
      "house_rules_PRT_tokens_sum_ratio float64\n",
      "house_rules_VERB float64\n",
      "house_rules_VERB_tokens_sum_ratio float64\n",
      "house_rules_X float64\n",
      "house_rules_X_tokens_sum_ratio float64\n",
      "space_KmeansCluster float64\n",
      "description_KmeansCluster float64\n",
      "neighborhood_overview_KmeansCluster float64\n",
      "notes_KmeansCluster float64\n",
      "transit_KmeansCluster float64\n",
      "access_KmeansCluster float64\n",
      "interaction_KmeansCluster float64\n",
      "house_rules_KmeansCluster float64\n",
      "amenities_set object\n",
      "has float64\n",
      "has\"Other pet(s)\" float64\n",
      "hasEssentials float64\n",
      "has\"Carbon Monoxide Detector\" float64\n",
      "has\"Elevator in Building\" float64\n",
      "has\"Indoor Fireplace\" float64\n",
      "has\"translation missing: en.hosting_amenity_50\" float64\n",
      "hasInternet float64\n",
      "hasWasher float64\n",
      "hasHangers float64\n",
      "has\"Buzzer/Wireless Intercom\" float64\n",
      "hasTV float64\n",
      "hasGym float64\n",
      "has\"Fire Extinguisher\" float64\n",
      "has\"Hot Tub\" float64\n",
      "hasDryer float64\n",
      "has\"Air Conditioning\" float64\n",
      "has\"Laptop Friendly Workspace\" float64\n",
      "has\"Suitable for Events\" float64\n",
      "hasKitchen float64\n",
      "has\"Family/Kid Friendly\" float64\n",
      "has\"translation missing: en.hosting_amenity_49\" float64\n",
      "hasShampoo float64\n",
      "hasHeating float64\n",
      "has\"Hair Dryer\" float64\n",
      "hasCat(s) float64\n",
      "has\"Smoke Detector\" float64\n",
      "hasIron float64\n",
      "has\"Free Parking on Premises\" float64\n",
      "has\"Pets live on this property\" float64\n",
      "has\"Safety Card\" float64\n",
      "has\"Smoking Allowed\" float64\n",
      "has\"Pets Allowed\" float64\n",
      "has\"Wheelchair Accessible\" float64\n",
      "has\"First Aid Kit\" float64\n",
      "hasDog(s) float64\n",
      "has\"Wireless Internet\" float64\n",
      "has\"Cable TV\" float64\n",
      "hasPool float64\n",
      "hasBreakfast float64\n",
      "hasDoorman float64\n",
      "has\"Lock on Bedroom Door\" float64\n",
      "has\"24-Hour Check-in\" float64\n",
      "distance from ocean float64\n"
     ]
    }
   ],
   "source": [
    "for i,k in zip(listings.columns, listings.dtypes):\n",
    "    print i,k"
   ]
  },
  {
   "cell_type": "markdown",
   "metadata": {},
   "source": [
    "Features that must be dropped (no question)"
   ]
  },
  {
   "cell_type": "code",
   "execution_count": 4,
   "metadata": {
    "collapsed": true
   },
   "outputs": [],
   "source": [
    "listings = listings.drop(columns=['listing_id','id','scrape_id','host_id',\n",
    "                                  'zipcode','has_availability','license',\n",
    "                                  'Unnamed: 0', 'thumbnail_url', 'medium_url',\n",
    "                                  'picture_url', 'xl_picture_url', 'host_url',\n",
    "                                  'host_name', 'host_thumbnail_url', 'host_picture_url',\n",
    "                                  'price_x', 'amenities', 'amenities_set', 'bed_type'\n",
    "                                 ])"
   ]
  },
  {
   "cell_type": "markdown",
   "metadata": {},
   "source": [
    "Note: use data exploration to motivate why other columns are dropped (i.e. some columns will be dropped just because their values are bad - show this with plots)"
   ]
  },
  {
   "cell_type": "markdown",
   "metadata": {},
   "source": [
    "Note: decide what to do with longitude and latitude - now that we have distance from ocean is it worth modeling with them?"
   ]
  },
  {
   "cell_type": "code",
   "execution_count": 5,
   "metadata": {
    "collapsed": true
   },
   "outputs": [],
   "source": [
    "y = listings['price_y'].fillna(listings['price_y'].mean())"
   ]
  },
  {
   "cell_type": "code",
   "execution_count": 6,
   "metadata": {
    "collapsed": true
   },
   "outputs": [],
   "source": [
    "X = listings.copy()"
   ]
  },
  {
   "cell_type": "code",
   "execution_count": 7,
   "metadata": {
    "collapsed": true
   },
   "outputs": [],
   "source": [
    "X = X.drop(columns='price_y')"
   ]
  },
  {
   "cell_type": "markdown",
   "metadata": {},
   "source": [
    "Analysis of the Target Variable"
   ]
  },
  {
   "cell_type": "code",
   "execution_count": 12,
   "metadata": {},
   "outputs": [
    {
     "data": {
      "text/plain": [
       "<matplotlib.axes._subplots.AxesSubplot at 0x10ba85910>"
      ]
     },
     "execution_count": 12,
     "metadata": {},
     "output_type": "execute_result"
    },
    {
     "data": {
      "image/png": "[encoded data removed]",
      "text/plain": [
       "<Figure size 432x288 with 1 Axes>"
      ]
     },
     "metadata": {},
     "output_type": "display_data"
    }
   ],
   "source": [
    "sb.distplot(y)"
   ]
  },
  {
   "cell_type": "code",
   "execution_count": 24,
   "metadata": {},
   "outputs": [
    {
     "name": "stdout",
     "output_type": "stream",
     "text": [
      "Skew:  1.6531442805052192\n",
      "Kurtosis:  2.9412984618902556\n",
      "count    5754.000000\n",
      "mean      204.723745\n",
      "std       162.339427\n",
      "min         0.000000\n",
      "25%        89.000000\n",
      "50%       151.036364\n",
      "75%       270.097403\n",
      "max       999.000000\n",
      "Name: price_y, dtype: float64\n"
     ]
    }
   ],
   "source": [
    "print 'Skew: ', y.skew()\n",
    "print 'Kurtosis: ', y.kurtosis()\n",
    "print(y.describe())"
   ]
  },
  {
   "cell_type": "markdown",
   "metadata": {},
   "source": [
    "Potential transformations on dependent variable: log power, power, etc."
   ]
  },
  {
   "cell_type": "code",
   "execution_count": null,
   "metadata": {},
   "outputs": [],
   "source": []
  },
  {
   "cell_type": "markdown",
   "metadata": {
    "collapsed": true
   },
   "source": [
    "Looking at Outliers for Target Variable"
   ]
  },
  {
   "cell_type": "code",
   "execution_count": 25,
   "metadata": {},
   "outputs": [
    {
     "name": "stdout",
     "output_type": "stream",
     "text": [
      "Number of outliers:  576\n",
      "Percentage of outliers:  0.100104275287\n"
     ]
    }
   ],
   "source": [
    "from sklearn.neighbors import LocalOutlierFactor\n",
    "clf = LocalOutlierFactor(n_neighbors=20)\n",
    "y_pred = clf.fit_predict(y.values.reshape(-1,1))\n",
    "sm = 0\n",
    "for i in y_pred:\n",
    "    if i<0:\n",
    "        sm=sm+1\n",
    "print 'Number of outliers: ', sm\n",
    "print 'Percentage of outliers: ', sm/float(len(X))"
   ]
  },
  {
   "cell_type": "code",
   "execution_count": 26,
   "metadata": {},
   "outputs": [
    {
     "data": {
      "image/png": "[encoded data removed]",
      "text/plain": [
       "<Figure size 432x288 with 1 Axes>"
      ]
     },
     "metadata": {},
     "output_type": "display_data"
    }
   ],
   "source": [
    "plt.boxplot(y)\n",
    "plt.ylabel('Price Variable')\n",
    "plt.show()"
   ]
  },
  {
   "cell_type": "markdown",
   "metadata": {},
   "source": [
    "Insight: there are lots of outliers - as we have already seen, the price variable is skewed to the left"
   ]
  },
  {
   "cell_type": "code",
   "execution_count": null,
   "metadata": {
    "collapsed": true
   },
   "outputs": [],
   "source": []
  },
  {
   "cell_type": "markdown",
   "metadata": {},
   "source": [
    "Choosing a basic set of independent variables for baseline regression"
   ]
  },
  {
   "cell_type": "markdown",
   "metadata": {},
   "source": [
    "Note: think about potentially using modeling techniques to build this starting list "
   ]
  },
  {
   "cell_type": "markdown",
   "metadata": {},
   "source": [
    "e.g. we can start with top R2 contributors that are also uncorrelated of each other (but problem is can we rely on results of R2 contributions with all features?) "
   ]
  },
  {
   "cell_type": "markdown",
   "metadata": {},
   "source": [
    "e.g. can we use PCA to pick initial features?"
   ]
  },
  {
   "cell_type": "markdown",
   "metadata": {},
   "source": [
    "Note: for now, to pick initial model feature candidates we evaluate a univariate regression with each regressor and pick the ones with the top R2. We use SKlearn for efficiency"
   ]
  },
  {
   "cell_type": "code",
   "execution_count": 27,
   "metadata": {
    "collapsed": true
   },
   "outputs": [],
   "source": [
    "from sklearn import linear_model\n",
    "from sklearn.metrics import r2_score, mean_squared_error"
   ]
  },
  {
   "cell_type": "code",
   "execution_count": 28,
   "metadata": {
    "collapsed": true
   },
   "outputs": [],
   "source": [
    "X_num = X.select_dtypes(include=['int64','float64'])"
   ]
  },
  {
   "cell_type": "code",
   "execution_count": 29,
   "metadata": {
    "collapsed": true
   },
   "outputs": [],
   "source": [
    "X_num = X_num.replace([np.inf, -np.inf], np.nan)\n",
    "X_num = X_num.fillna(X_num.mean())"
   ]
  },
  {
   "cell_type": "code",
   "execution_count": 30,
   "metadata": {},
   "outputs": [
    {
     "name": "stdout",
     "output_type": "stream",
     "text": [
      "False\n",
      "True\n"
     ]
    }
   ],
   "source": [
    "print np.any(np.isnan(X_num))\n",
    "print np.all(np.isfinite(X_num))"
   ]
  },
  {
   "cell_type": "code",
   "execution_count": 31,
   "metadata": {
    "collapsed": true
   },
   "outputs": [],
   "source": [
    "X_1 = X_num[X_num.columns.drop(X_num[list(X_num.filter(regex='Topic'))])]"
   ]
  },
  {
   "cell_type": "code",
   "execution_count": 33,
   "metadata": {},
   "outputs": [],
   "source": [
    "R2s = []\n",
    "for col in X_1.columns:\n",
    "    linear_regression = linear_model.LinearRegression(normalize=False, fit_intercept=True)\n",
    "    regression_results = linear_regression.fit(X_1[col].values.reshape(-1, 1),y)\n",
    "    R2s.append((col, r2_score(y,regression_results.predict(X_1[col].values.reshape(-1,1))))) "
   ]
  },
  {
   "cell_type": "markdown",
   "metadata": {},
   "source": [
    "Note: must add cross validation to get a more reliable R2 although this is a good start"
   ]
  },
  {
   "cell_type": "code",
   "execution_count": 34,
   "metadata": {},
   "outputs": [
    {
     "data": {
      "text/plain": [
       "[('host_response_rate', 0.0),\n",
       " ('host_acceptance_rate', 0.0),\n",
       " ('host_listings_count', 0.03489064100528039),\n",
       " ('host_total_listings_count', 0.03489064100528039),\n",
       " ('neighbourhood_group_cleansed', 0.0),\n",
       " ('latitude', 0.0008348875326484873),\n",
       " ('longitude', 0.0009075356057903772),\n",
       " ('accommodates', 0.4893023052394392),\n",
       " ('bathrooms', 0.31020350658024953),\n",
       " ('bedrooms', 0.42837614031200477),\n",
       " ('beds', 0.34782113922346913),\n",
       " ('square_feet', 0.0005938144965582648),\n",
       " ('weekly_price', 0.0),\n",
       " ('monthly_price', 0.0),\n",
       " ('security_deposit', 0.0),\n",
       " ('cleaning_fee', 0.0),\n",
       " ('guests_included', 0.060701275625627105),\n",
       " ('extra_people', 0.0),\n",
       " ('minimum_nights', 0.0011975250361858647),\n",
       " ('maximum_nights', 1.9523974781332498e-07),\n",
       " ('availability_30', 0.002624448363680698),\n",
       " ('availability_60', 0.005045603332174409),\n",
       " ('availability_90', 0.00876708876243204),\n",
       " ('availability_365', 3.8953056635815386e-07),\n",
       " ('number_of_reviews', 0.033086269309723915),\n",
       " ('review_scores_rating', 0.001494119975900099),\n",
       " ('review_scores_accuracy', 0.0016436539599077316),\n",
       " ('review_scores_cleanliness', 0.00029854984453780986),\n",
       " ('review_scores_checkin', 0.0028252600743847722),\n",
       " ('review_scores_communication', 0.004298271905462503),\n",
       " ('review_scores_location', 0.0010981920390378264),\n",
       " ('review_scores_value', 0.007369786298163983),\n",
       " ('calculated_host_listings_count', 0.09604539785670996),\n",
       " ('reviews_per_month', 0.03315761826179786),\n",
       " ('space_TextLength', 0.015541032848778835),\n",
       " ('space_TextWordsPerc', 0.0036789029487613867),\n",
       " ('space_TextPuncPerc', 0.0003593721323127408),\n",
       " ('space_TextDigitsPerc', 0.019389230669085378),\n",
       " ('description_TextLength', 0.0017294738745171623),\n",
       " ('description_TextWordsPerc', 0.016077422699608435),\n",
       " ('description_TextPuncPerc', 0.006810571064565285),\n",
       " ('description_TextDigitsPerc', 0.010578109814759484),\n",
       " ('neighborhood_overview_TextLength', 0.0015603755424375976),\n",
       " ('neighborhood_overview_TextWordsPerc', 0.0065307005455376155),\n",
       " ('neighborhood_overview_TextPuncPerc', 0.006295902344985449),\n",
       " ('neighborhood_overview_TextDigitsPerc', 7.771757203578478e-05),\n",
       " ('notes_TextLength', 0.011206703485369451),\n",
       " ('notes_TextWordsPerc', 6.276328740062453e-07),\n",
       " ('notes_TextPuncPerc', 0.0022774024380866065),\n",
       " ('notes_TextDigitsPerc', 0.018097156059020292),\n",
       " ('transit_TextLength', 0.006802371734929813),\n",
       " ('transit_TextWordsPerc', 0.00038120255818108184),\n",
       " ('transit_TextPuncPerc', 0.0006154068297020698),\n",
       " ('transit_TextDigitsPerc', 0.010953238845116342),\n",
       " ('access_TextLength', 0.0011248118415793096),\n",
       " ('access_TextWordsPerc', 0.018593423712195745),\n",
       " ('access_TextPuncPerc', 0.005807418073704218),\n",
       " ('access_TextDigitsPerc', 0.01899485995024197),\n",
       " ('interaction_TextLength', 0.006339873431707055),\n",
       " ('interaction_TextWordsPerc', 0.0007582513448252115),\n",
       " ('interaction_TextPuncPerc', 0.0008907899827044208),\n",
       " ('interaction_TextDigitsPerc', 0.01280565931358113),\n",
       " ('house_rules_TextLength', 0.014651325754908573),\n",
       " ('house_rules_TextWordsPerc', 0.0031399545914103655),\n",
       " ('house_rules_TextPuncPerc', 8.28179283680619e-05),\n",
       " ('house_rules_TextDigitsPerc', 0.0029990615486941152),\n",
       " ('space_LexicalDiversity', 0.014678910836782189),\n",
       " ('description_LexicalDiversity', 0.0026893783312010866),\n",
       " ('neighborhood_overview_LexicalDiversity', 0.00254362640576844),\n",
       " ('notes_LexicalDiversity', 0.008328693380467489),\n",
       " ('transit_LexicalDiversity', 0.00647598380747505),\n",
       " ('access_LexicalDiversity', 2.3348145171686596e-06),\n",
       " ('interaction_LexicalDiversity', 0.007186481151042146),\n",
       " ('house_rules_LexicalDiversity', 0.010123570958816108),\n",
       " ('space_.', 0.0008735237294269504),\n",
       " ('space_._tokens_sum_ratio', 0.0002488524530334102),\n",
       " ('space_ADJ', 0.000312997093424916),\n",
       " ('space_ADJ_tokens_sum_ratio', 2.616630038199119e-07),\n",
       " ('space_ADP', 0.00032232536673071355),\n",
       " ('space_ADP_tokens_sum_ratio', 3.9629241913141655e-05),\n",
       " ('space_ADV', 0.0002899298448767462),\n",
       " ('space_CONJ', 0.000648938688128653),\n",
       " ('space_CONJ_tokens_sum_ratio', 2.119188134919181e-05),\n",
       " ('space_DET', 0.00024404059052474114),\n",
       " ('space_DET_tokens_sum_ratio', 0.00026117030066241664),\n",
       " ('space_NOUN', 0.000476637225046761),\n",
       " ('space_NOUN_tokens_sum_ratio', 3.9511157208904635e-05),\n",
       " ('space_NUM', 0.0007661022094480607),\n",
       " ('space_NUM_tokens_sum_ratio', 4.0517988372457125e-05),\n",
       " ('space_PRON', 0.0002816065914957866),\n",
       " ('space_PRON_tokens_sum_ratio', 0.0002717799899178974),\n",
       " ('space_PRT', 0.0001635712173536641),\n",
       " ('space_PRT_tokens_sum_ratio', 0.0002005464493390896),\n",
       " ('space_VERB', 0.00034753875904969256),\n",
       " ('space_VERB_tokens_sum_ratio', 0.0003199133655057418),\n",
       " ('space_X', 0.0006406367104376809),\n",
       " ('space_X_tokens_sum_ratio', 0.00034645828924084743),\n",
       " ('description_.', 2.8889739612791843e-06),\n",
       " ('description_._tokens_sum_ratio', 9.496316636725677e-05),\n",
       " ('description_ADJ', 3.381397738178027e-05),\n",
       " ('description_ADJ_tokens_sum_ratio', 0.00038160446497970124),\n",
       " ('description_ADP', 3.5039314140172806e-06),\n",
       " ('description_ADP_tokens_sum_ratio', 1.201351428570252e-05),\n",
       " ('description_ADV', 1.3111798247145146e-07),\n",
       " ('description_ADV_tokens_sum_ratio', 0.0004832714742960542),\n",
       " ('description_CONJ', 1.3959960937004467e-05),\n",
       " ('description_CONJ_tokens_sum_ratio', 0.00022196443962929635),\n",
       " ('description_DET', 7.710355674817038e-06),\n",
       " ('description_DET_tokens_sum_ratio', 9.08600264935e-05),\n",
       " ('description_NOUN', 2.3279056271530152e-07),\n",
       " ('description_NOUN_tokens_sum_ratio', 3.146405910503525e-05),\n",
       " ('description_NUM', 3.999986908198583e-05),\n",
       " ('description_NUM_tokens_sum_ratio', 7.793267895728206e-05),\n",
       " ('description_PRON', 1.0933895106646219e-05),\n",
       " ('description_PRON_tokens_sum_ratio', 0.0001308278240652605),\n",
       " ('description_PRT', 2.8145660528888783e-06),\n",
       " ('description_PRT_tokens_sum_ratio', 4.119076193920268e-05),\n",
       " ('description_VERB', 2.2581130015852935e-06),\n",
       " ('description_VERB_tokens_sum_ratio', 7.835899640484811e-05),\n",
       " ('description_X', 5.630717679183661e-05),\n",
       " ('description_X_tokens_sum_ratio', 0.000290201654845057),\n",
       " ('neighborhood_overview_.', 2.3682999397700577e-05),\n",
       " ('neighborhood_overview_._tokens_sum_ratio', 0.00012726454142109045),\n",
       " ('neighborhood_overview_ADJ', 0.0003232727252406864),\n",
       " ('neighborhood_overview_ADJ_tokens_sum_ratio', 0.0004231743966974788),\n",
       " ('neighborhood_overview_ADP', 4.139750202369896e-05),\n",
       " ('neighborhood_overview_ADP_tokens_sum_ratio', 0.0002726533761971961),\n",
       " ('neighborhood_overview_ADV', 0.00015922122279110607),\n",
       " ('neighborhood_overview_ADV_tokens_sum_ratio', 9.475131218517063e-07),\n",
       " ('neighborhood_overview_CONJ', 1.726132880186526e-05),\n",
       " ('neighborhood_overview_CONJ_tokens_sum_ratio', 0.0006074958861879143),\n",
       " ('neighborhood_overview_DET', 0.00016319534979014616),\n",
       " ('neighborhood_overview_DET_tokens_sum_ratio', 0.00013046936993654779),\n",
       " ('neighborhood_overview_NOUN', 1.9548399687874252e-07),\n",
       " ('neighborhood_overview_NOUN_tokens_sum_ratio', 1.3597254686636973e-06),\n",
       " ('neighborhood_overview_NUM', 4.547951635969216e-05),\n",
       " ('neighborhood_overview_NUM_tokens_sum_ratio', 0.00043922370687843326),\n",
       " ('neighborhood_overview_PRON', 2.0409964697210015e-05),\n",
       " ('neighborhood_overview_PRON_tokens_sum_ratio', 0.0001322919122427324),\n",
       " ('neighborhood_overview_PRT', 2.4123876771198205e-05),\n",
       " ('neighborhood_overview_PRT_tokens_sum_ratio', 3.272811022292377e-05),\n",
       " ('neighborhood_overview_VERB', 1.2717864170674886e-06),\n",
       " ('neighborhood_overview_VERB_tokens_sum_ratio', 0.0002274944398265033),\n",
       " ('neighborhood_overview_X', 2.7068074346825455e-05),\n",
       " ('neighborhood_overview_X_tokens_sum_ratio', 7.32330596164843e-09),\n",
       " ('notes_.', 1.0010982753883013e-07),\n",
       " ('notes_._tokens_sum_ratio', 0.00016495708905006623),\n",
       " ('notes_ADJ', 0.0003443373473713818),\n",
       " ('notes_ADJ_tokens_sum_ratio', 4.362210994002247e-05),\n",
       " ('notes_ADP', 0.00016516500969432357),\n",
       " ('notes_ADP_tokens_sum_ratio', 0.0001359657037321993),\n",
       " ('notes_ADV', 8.01280062213694e-05),\n",
       " ('notes_ADV_tokens_sum_ratio', 0.00016055487468746854),\n",
       " ('notes_CONJ', 0.00038368260420695854),\n",
       " ('notes_CONJ_tokens_sum_ratio', 2.651692867616795e-05),\n",
       " ('notes_DET', 0.00019652754216392676),\n",
       " ('notes_DET_tokens_sum_ratio', 1.4278390877420222e-06),\n",
       " ('notes_NOUN', 7.89677830411728e-05),\n",
       " ('notes_NOUN_tokens_sum_ratio', 1.999753773684887e-07),\n",
       " ('notes_NUM', 7.3501656916441505e-06),\n",
       " ('notes_NUM_tokens_sum_ratio', 5.4089120729683415e-05),\n",
       " ('notes_PRON', 0.0003098190038677284),\n",
       " ('notes_PRON_tokens_sum_ratio', 4.050708081670962e-05),\n",
       " ('notes_PRT', 1.6365906721271806e-05),\n",
       " ('notes_PRT_tokens_sum_ratio', 0.00016943632801347253),\n",
       " ('notes_VERB', 0.00018630462314750407),\n",
       " ('notes_VERB_tokens_sum_ratio', 0.0004871644623160032),\n",
       " ('notes_X', 4.855793846680889e-05),\n",
       " ('notes_X_tokens_sum_ratio', 0.000918681797872245),\n",
       " ('transit_.', 0.00012990008542379528),\n",
       " ('transit_._tokens_sum_ratio', 0.00010268331385843155),\n",
       " ('transit_ADJ', 0.00015227162209829892),\n",
       " ('transit_ADJ_tokens_sum_ratio', 0.000781274830086387),\n",
       " ('transit_ADP', 0.0003804960178291905),\n",
       " ('transit_ADP_tokens_sum_ratio', 2.9362741063243547e-05),\n",
       " ('transit_ADV', 0.0011496832326511885),\n",
       " ('transit_ADV_tokens_sum_ratio', 4.19738538710579e-05),\n",
       " ('transit_CONJ', 0.0010625259810314036),\n",
       " ('transit_CONJ_tokens_sum_ratio', 1.562858076287199e-06),\n",
       " ('transit_DET', 0.0002610016167441387),\n",
       " ('transit_DET_tokens_sum_ratio', 0.00041441793961938256),\n",
       " ('transit_NOUN', 0.0004948764183629883),\n",
       " ('transit_NOUN_tokens_sum_ratio', 3.405743077278256e-05),\n",
       " ('transit_NUM', 5.834281736449842e-05),\n",
       " ('transit_NUM_tokens_sum_ratio', 1.714330104274353e-05),\n",
       " ('transit_PRON', 0.0003803382989904236),\n",
       " ('transit_PRON_tokens_sum_ratio', 0.00013430448802909112),\n",
       " ('transit_PRT', 0.0001865818783638451),\n",
       " ('transit_PRT_tokens_sum_ratio', 0.000989286788884547),\n",
       " ('transit_VERB', 0.00042771806206010066),\n",
       " ('transit_VERB_tokens_sum_ratio', 0.0005142591596838386),\n",
       " ('transit_X', 0.0003292924004910658),\n",
       " ('transit_X_tokens_sum_ratio', 3.431366679207404e-05),\n",
       " ('access_.', 0.00040394559540313235),\n",
       " ('access_._tokens_sum_ratio', 4.292062916233519e-05),\n",
       " ('access_ADJ', 4.207975767833716e-08),\n",
       " ('access_ADJ_tokens_sum_ratio', 0.00013294858521784025),\n",
       " ('access_ADP', 3.4655090715984826e-05),\n",
       " ('access_ADP_tokens_sum_ratio', 0.0003523096464718156),\n",
       " ('access_ADV', 4.896427014178251e-06),\n",
       " ('access_ADV_tokens_sum_ratio', 0.00015597491523544615),\n",
       " ('access_CONJ', 4.637299899656888e-05),\n",
       " ('access_CONJ_tokens_sum_ratio', 4.236640391952484e-06),\n",
       " ('access_DET', 4.6506623891939824e-06),\n",
       " ('access_DET_tokens_sum_ratio', 8.506201964353366e-06),\n",
       " ('access_NOUN', 0.000271855121737663),\n",
       " ('access_NOUN_tokens_sum_ratio', 4.182952860420919e-06),\n",
       " ('access_NUM', 0.00026984022812659436),\n",
       " ('access_NUM_tokens_sum_ratio', 0.0005409513518371822),\n",
       " ('access_PRON', 5.215827240112603e-06),\n",
       " ('access_PRON_tokens_sum_ratio', 0.0001732143077666226),\n",
       " ('access_PRT', 1.3349767827297576e-05),\n",
       " ('access_PRT_tokens_sum_ratio', 1.172555353945448e-05),\n",
       " ('access_VERB', 2.372126673866326e-06),\n",
       " ('access_VERB_tokens_sum_ratio', 2.0199068209159066e-06),\n",
       " ('access_X', 0.00011171369922136076),\n",
       " ('access_X_tokens_sum_ratio', 0.00015243580027868298),\n",
       " ('interaction_.', 9.407663765026442e-05),\n",
       " ('interaction_._tokens_sum_ratio', 0.000186267651237082),\n",
       " ('interaction_ADJ', 0.00014188931213099387),\n",
       " ('interaction_ADJ_tokens_sum_ratio', 1.5056330339047186e-05),\n",
       " ('interaction_ADP', 0.00012250951241443708),\n",
       " ('interaction_ADP_tokens_sum_ratio', 5.2066679493645296e-05),\n",
       " ('interaction_ADV', 1.1067649411389269e-06),\n",
       " ('interaction_ADV_tokens_sum_ratio', 5.698361936823382e-05),\n",
       " ('interaction_CONJ', 0.00014833966658445163),\n",
       " ('interaction_CONJ_tokens_sum_ratio', 0.00014140428973896668),\n",
       " ('interaction_DET', 0.00018316359983761021),\n",
       " ('interaction_DET_tokens_sum_ratio', 3.426326674205171e-05),\n",
       " ('interaction_NOUN', 9.606952557306148e-05),\n",
       " ('interaction_NOUN_tokens_sum_ratio', 4.5059259945468e-06),\n",
       " ('interaction_NUM', 4.019365872798275e-06),\n",
       " ('interaction_NUM_tokens_sum_ratio', 0.0008935847471895908),\n",
       " ('interaction_PRON', 7.11811053433209e-08),\n",
       " ('interaction_PRON_tokens_sum_ratio', 0.000263407175929653),\n",
       " ('interaction_PRT', 1.2355559512733372e-05),\n",
       " ('interaction_PRT_tokens_sum_ratio', 8.361387372191054e-05),\n",
       " ('interaction_VERB', 3.918680426551191e-05),\n",
       " ('interaction_VERB_tokens_sum_ratio', 0.000163249456318737),\n",
       " ('interaction_X', 0.0003935889056509989),\n",
       " ('interaction_X_tokens_sum_ratio', 7.105692854225687e-06),\n",
       " ('house_rules_.', 5.4823196720232836e-05),\n",
       " ('house_rules_._tokens_sum_ratio', 0.0007640183075755536),\n",
       " ('house_rules_ADJ', 5.226306420968996e-08),\n",
       " ('house_rules_ADJ_tokens_sum_ratio', 1.5779890438771815e-05),\n",
       " ('house_rules_ADP', 9.112022867063807e-05),\n",
       " ('house_rules_ADP_tokens_sum_ratio', 0.00011765414663134077),\n",
       " ('house_rules_ADV', 5.538521442804978e-06),\n",
       " ('house_rules_ADV_tokens_sum_ratio', 1.3902088945916269e-05),\n",
       " ('house_rules_CONJ', 3.4158403269257676e-06),\n",
       " ('house_rules_CONJ_tokens_sum_ratio', 0.0002376389668856671),\n",
       " ('house_rules_DET', 2.31026207025975e-05),\n",
       " ('house_rules_DET_tokens_sum_ratio', 2.2973140433424355e-05),\n",
       " ('house_rules_NOUN', 0.00011202800086862474),\n",
       " ('house_rules_NOUN_tokens_sum_ratio', 1.0605061641077995e-06),\n",
       " ('house_rules_NUM', 0.00017653533032824242),\n",
       " ('house_rules_NUM_tokens_sum_ratio', 0.0016228874576411645),\n",
       " ('house_rules_PRON', 4.4950186249947954e-05),\n",
       " ('house_rules_PRON_tokens_sum_ratio', 1.6324418586344258e-05),\n",
       " ('house_rules_PRT', 0.0004061689283980652),\n",
       " ('house_rules_PRT_tokens_sum_ratio', 0.00029485500539216947),\n",
       " ('house_rules_VERB', 3.176702936369402e-05),\n",
       " ('house_rules_VERB_tokens_sum_ratio', 4.032194769743036e-06),\n",
       " ('house_rules_X', 0.0002788746488178173),\n",
       " ('house_rules_X_tokens_sum_ratio', 2.29895477544817e-05),\n",
       " ('space_KmeansCluster', 0.00013972973353182372),\n",
       " ('description_KmeansCluster', 0.013230277436131366),\n",
       " ('neighborhood_overview_KmeansCluster', 0.00474110150754703),\n",
       " ('notes_KmeansCluster', 0.002723962840439187),\n",
       " ('transit_KmeansCluster', 0.016137712860442632),\n",
       " ('access_KmeansCluster', 0.0006506197250222279),\n",
       " ('interaction_KmeansCluster', 0.006144365157557896),\n",
       " ('house_rules_KmeansCluster', 0.0052052585777184746),\n",
       " ('has', 0.0007013416190925215),\n",
       " ('has\"Other pet(s)\"', 0.002734985900355147),\n",
       " ('hasEssentials', 0.0015034985944573087),\n",
       " ('has\"Carbon Monoxide Detector\"', 0.00011279004109621127),\n",
       " ('has\"Elevator in Building\"', 0.004617750904737039),\n",
       " ('has\"Indoor Fireplace\"', 0.03484539467283687),\n",
       " ('has\"translation missing: en.hosting_amenity_50\"', 0.011435746695019233),\n",
       " ('hasInternet', 0.0014130295212024802),\n",
       " ('hasWasher', 0.02788090844630864),\n",
       " ('hasHangers', 0.006331918084547916),\n",
       " ('has\"Buzzer/Wireless Intercom\"', 5.639386486089304e-05),\n",
       " ('hasTV', 0.02413187437861186),\n",
       " ('hasGym', 0.0016570319408980572),\n",
       " ('has\"Fire Extinguisher\"', 0.0009772872713236236),\n",
       " ('has\"Hot Tub\"', 0.009509266638132008),\n",
       " ('hasDryer', 0.03195470076443929),\n",
       " ('has\"Air Conditioning\"', 0.003518413467402004),\n",
       " ('has\"Laptop Friendly Workspace\"', 0.0019854021113787645),\n",
       " ('has\"Suitable for Events\"', 0.0029236744443388307),\n",
       " ('hasKitchen', 0.019784897185053163),\n",
       " ('has\"Family/Kid Friendly\"', 0.0613943464040535),\n",
       " ('has\"translation missing: en.hosting_amenity_49\"', 0.015449884641092315),\n",
       " ('hasShampoo', 0.0038217219178711126),\n",
       " ('hasHeating', 0.005096704954641651),\n",
       " ('has\"Hair Dryer\"', 0.00022299155725802322),\n",
       " ('hasCat(s)', 0.014880686687177125),\n",
       " ('has\"Smoke Detector\"', 0.0039534455951386605),\n",
       " ('hasIron', 0.0018037888425336268),\n",
       " ('has\"Free Parking on Premises\"', 0.034583510697812625),\n",
       " ('has\"Pets live on this property\"', 0.04887746444737473),\n",
       " ('has\"Safety Card\"', 0.005209580776193379),\n",
       " ('has\"Smoking Allowed\"', 0.016447958996803957),\n",
       " ('has\"Pets Allowed\"', 0.015281131603480214),\n",
       " ('has\"Wheelchair Accessible\"', 0.0037409391639134926),\n",
       " ('has\"First Aid Kit\"', 0.009505866517005468),\n",
       " ('hasDog(s)', 0.026484415646298),\n",
       " ('has\"Wireless Internet\"', 0.0015027578552321286),\n",
       " ('has\"Cable TV\"', 0.08072789987586582),\n",
       " ('hasPool', 6.244305451752474e-05),\n",
       " ('hasBreakfast', 0.01873157231422684),\n",
       " ('hasDoorman', 8.080637067520158e-05),\n",
       " ('has\"Lock on Bedroom Door\"', 0.02263081761540242),\n",
       " ('has\"24-Hour Check-in\"', 0.0003085464295391471),\n",
       " ('distance from ocean', 0.04270271683824178)]"
      ]
     },
     "execution_count": 34,
     "metadata": {},
     "output_type": "execute_result"
    }
   ],
   "source": [
    "R2s"
   ]
  },
  {
   "cell_type": "markdown",
   "metadata": {},
   "source": [
    "Insight: if any R2 is negative, that means a horizontal line achieves a better fit than them. For now we do linear regressions so we exclude them but we will look for nonlinearity later. Update 5/6: seems like negative values have disappeared, probably was coding error"
   ]
  },
  {
   "cell_type": "markdown",
   "metadata": {},
   "source": [
    "A simple PCA run shows the same result: accommodates is definitely the most important variable"
   ]
  },
  {
   "cell_type": "code",
   "execution_count": 155,
   "metadata": {
    "collapsed": true
   },
   "outputs": [],
   "source": [
    "#insert PCA"
   ]
  },
  {
   "cell_type": "code",
   "execution_count": null,
   "metadata": {
    "collapsed": true
   },
   "outputs": [],
   "source": []
  },
  {
   "cell_type": "code",
   "execution_count": null,
   "metadata": {
    "collapsed": true
   },
   "outputs": [],
   "source": []
  },
  {
   "cell_type": "markdown",
   "metadata": {},
   "source": [
    "Knowledge Check: R2 compares the fit of the chosen model with that of a horizontal straight line (the null hypothesis). If the chosen model fits worse than a horizontal line, then R2 is negative. Note that R2 is not always the square of anything, so it can have a negative value without violating any rules of math. R2 is negative only when the chosen model does not follow the trend of the data, so fits worse than a horizontal line."
   ]
  },
  {
   "cell_type": "code",
   "execution_count": 35,
   "metadata": {},
   "outputs": [
    {
     "name": "stdout",
     "output_type": "stream",
     "text": [
      "Column with Positive R2:  host_listings_count\n",
      "Column with Positive R2:  host_total_listings_count\n",
      "Column with Positive R2:  latitude\n",
      "Column with Positive R2:  longitude\n",
      "Column with Positive R2:  accommodates\n",
      "Column with Positive R2:  bathrooms\n",
      "Column with Positive R2:  bedrooms\n",
      "Column with Positive R2:  beds\n",
      "Column with Positive R2:  square_feet\n",
      "Column with Positive R2:  guests_included\n",
      "Column with Positive R2:  minimum_nights\n",
      "Column with Positive R2:  maximum_nights\n",
      "Column with Positive R2:  availability_30\n",
      "Column with Positive R2:  availability_60\n",
      "Column with Positive R2:  availability_90\n",
      "Column with Positive R2:  availability_365\n",
      "Column with Positive R2:  number_of_reviews\n",
      "Column with Positive R2:  review_scores_rating\n",
      "Column with Positive R2:  review_scores_accuracy\n",
      "Column with Positive R2:  review_scores_cleanliness\n",
      "Column with Positive R2:  review_scores_checkin\n",
      "Column with Positive R2:  review_scores_communication\n",
      "Column with Positive R2:  review_scores_location\n",
      "Column with Positive R2:  review_scores_value\n",
      "Column with Positive R2:  calculated_host_listings_count\n",
      "Column with Positive R2:  reviews_per_month\n",
      "Column with Positive R2:  space_TextLength\n",
      "Column with Positive R2:  space_TextWordsPerc\n",
      "Column with Positive R2:  space_TextPuncPerc\n",
      "Column with Positive R2:  space_TextDigitsPerc\n",
      "Column with Positive R2:  description_TextLength\n",
      "Column with Positive R2:  description_TextWordsPerc\n",
      "Column with Positive R2:  description_TextPuncPerc\n",
      "Column with Positive R2:  description_TextDigitsPerc\n",
      "Column with Positive R2:  neighborhood_overview_TextLength\n",
      "Column with Positive R2:  neighborhood_overview_TextWordsPerc\n",
      "Column with Positive R2:  neighborhood_overview_TextPuncPerc\n",
      "Column with Positive R2:  neighborhood_overview_TextDigitsPerc\n",
      "Column with Positive R2:  notes_TextLength\n",
      "Column with Positive R2:  notes_TextWordsPerc\n",
      "Column with Positive R2:  notes_TextPuncPerc\n",
      "Column with Positive R2:  notes_TextDigitsPerc\n",
      "Column with Positive R2:  transit_TextLength\n",
      "Column with Positive R2:  transit_TextWordsPerc\n",
      "Column with Positive R2:  transit_TextPuncPerc\n",
      "Column with Positive R2:  transit_TextDigitsPerc\n",
      "Column with Positive R2:  access_TextLength\n",
      "Column with Positive R2:  access_TextWordsPerc\n",
      "Column with Positive R2:  access_TextPuncPerc\n",
      "Column with Positive R2:  access_TextDigitsPerc\n",
      "Column with Positive R2:  interaction_TextLength\n",
      "Column with Positive R2:  interaction_TextWordsPerc\n",
      "Column with Positive R2:  interaction_TextPuncPerc\n",
      "Column with Positive R2:  interaction_TextDigitsPerc\n",
      "Column with Positive R2:  house_rules_TextLength\n",
      "Column with Positive R2:  house_rules_TextWordsPerc\n",
      "Column with Positive R2:  house_rules_TextPuncPerc\n",
      "Column with Positive R2:  house_rules_TextDigitsPerc\n",
      "Column with Positive R2:  space_LexicalDiversity\n",
      "Column with Positive R2:  description_LexicalDiversity\n",
      "Column with Positive R2:  neighborhood_overview_LexicalDiversity\n",
      "Column with Positive R2:  notes_LexicalDiversity\n",
      "Column with Positive R2:  transit_LexicalDiversity\n",
      "Column with Positive R2:  access_LexicalDiversity\n",
      "Column with Positive R2:  interaction_LexicalDiversity\n",
      "Column with Positive R2:  house_rules_LexicalDiversity\n",
      "Column with Positive R2:  space_.\n",
      "Column with Positive R2:  space_._tokens_sum_ratio\n",
      "Column with Positive R2:  space_ADJ\n",
      "Column with Positive R2:  space_ADJ_tokens_sum_ratio\n",
      "Column with Positive R2:  space_ADP\n",
      "Column with Positive R2:  space_ADP_tokens_sum_ratio\n",
      "Column with Positive R2:  space_ADV\n",
      "Column with Positive R2:  space_CONJ\n",
      "Column with Positive R2:  space_CONJ_tokens_sum_ratio\n",
      "Column with Positive R2:  space_DET\n",
      "Column with Positive R2:  space_DET_tokens_sum_ratio\n",
      "Column with Positive R2:  space_NOUN\n",
      "Column with Positive R2:  space_NOUN_tokens_sum_ratio\n",
      "Column with Positive R2:  space_NUM\n",
      "Column with Positive R2:  space_NUM_tokens_sum_ratio\n",
      "Column with Positive R2:  space_PRON\n",
      "Column with Positive R2:  space_PRON_tokens_sum_ratio\n",
      "Column with Positive R2:  space_PRT\n",
      "Column with Positive R2:  space_PRT_tokens_sum_ratio\n",
      "Column with Positive R2:  space_VERB\n",
      "Column with Positive R2:  space_VERB_tokens_sum_ratio\n",
      "Column with Positive R2:  space_X\n",
      "Column with Positive R2:  space_X_tokens_sum_ratio\n",
      "Column with Positive R2:  description_.\n",
      "Column with Positive R2:  description_._tokens_sum_ratio\n",
      "Column with Positive R2:  description_ADJ\n",
      "Column with Positive R2:  description_ADJ_tokens_sum_ratio\n",
      "Column with Positive R2:  description_ADP\n",
      "Column with Positive R2:  description_ADP_tokens_sum_ratio\n",
      "Column with Positive R2:  description_ADV\n",
      "Column with Positive R2:  description_ADV_tokens_sum_ratio\n",
      "Column with Positive R2:  description_CONJ\n",
      "Column with Positive R2:  description_CONJ_tokens_sum_ratio\n",
      "Column with Positive R2:  description_DET\n",
      "Column with Positive R2:  description_DET_tokens_sum_ratio\n",
      "Column with Positive R2:  description_NOUN\n",
      "Column with Positive R2:  description_NOUN_tokens_sum_ratio\n",
      "Column with Positive R2:  description_NUM\n",
      "Column with Positive R2:  description_NUM_tokens_sum_ratio\n",
      "Column with Positive R2:  description_PRON\n",
      "Column with Positive R2:  description_PRON_tokens_sum_ratio\n",
      "Column with Positive R2:  description_PRT\n",
      "Column with Positive R2:  description_PRT_tokens_sum_ratio\n",
      "Column with Positive R2:  description_VERB\n",
      "Column with Positive R2:  description_VERB_tokens_sum_ratio\n",
      "Column with Positive R2:  description_X\n",
      "Column with Positive R2:  description_X_tokens_sum_ratio\n",
      "Column with Positive R2:  neighborhood_overview_.\n",
      "Column with Positive R2:  neighborhood_overview_._tokens_sum_ratio\n",
      "Column with Positive R2:  neighborhood_overview_ADJ\n",
      "Column with Positive R2:  neighborhood_overview_ADJ_tokens_sum_ratio\n",
      "Column with Positive R2:  neighborhood_overview_ADP\n",
      "Column with Positive R2:  neighborhood_overview_ADP_tokens_sum_ratio\n",
      "Column with Positive R2:  neighborhood_overview_ADV\n",
      "Column with Positive R2:  neighborhood_overview_ADV_tokens_sum_ratio\n",
      "Column with Positive R2:  neighborhood_overview_CONJ\n",
      "Column with Positive R2:  neighborhood_overview_CONJ_tokens_sum_ratio\n",
      "Column with Positive R2:  neighborhood_overview_DET\n",
      "Column with Positive R2:  neighborhood_overview_DET_tokens_sum_ratio\n",
      "Column with Positive R2:  neighborhood_overview_NOUN\n",
      "Column with Positive R2:  neighborhood_overview_NOUN_tokens_sum_ratio\n",
      "Column with Positive R2:  neighborhood_overview_NUM\n",
      "Column with Positive R2:  neighborhood_overview_NUM_tokens_sum_ratio\n",
      "Column with Positive R2:  neighborhood_overview_PRON\n",
      "Column with Positive R2:  neighborhood_overview_PRON_tokens_sum_ratio\n",
      "Column with Positive R2:  neighborhood_overview_PRT\n",
      "Column with Positive R2:  neighborhood_overview_PRT_tokens_sum_ratio\n",
      "Column with Positive R2:  neighborhood_overview_VERB\n",
      "Column with Positive R2:  neighborhood_overview_VERB_tokens_sum_ratio\n",
      "Column with Positive R2:  neighborhood_overview_X\n",
      "Column with Positive R2:  neighborhood_overview_X_tokens_sum_ratio\n",
      "Column with Positive R2:  notes_.\n",
      "Column with Positive R2:  notes_._tokens_sum_ratio\n",
      "Column with Positive R2:  notes_ADJ\n",
      "Column with Positive R2:  notes_ADJ_tokens_sum_ratio\n",
      "Column with Positive R2:  notes_ADP\n",
      "Column with Positive R2:  notes_ADP_tokens_sum_ratio\n",
      "Column with Positive R2:  notes_ADV\n",
      "Column with Positive R2:  notes_ADV_tokens_sum_ratio\n",
      "Column with Positive R2:  notes_CONJ\n",
      "Column with Positive R2:  notes_CONJ_tokens_sum_ratio\n",
      "Column with Positive R2:  notes_DET\n",
      "Column with Positive R2:  notes_DET_tokens_sum_ratio\n",
      "Column with Positive R2:  notes_NOUN\n",
      "Column with Positive R2:  notes_NOUN_tokens_sum_ratio\n",
      "Column with Positive R2:  notes_NUM\n",
      "Column with Positive R2:  notes_NUM_tokens_sum_ratio\n",
      "Column with Positive R2:  notes_PRON\n",
      "Column with Positive R2:  notes_PRON_tokens_sum_ratio\n",
      "Column with Positive R2:  notes_PRT\n",
      "Column with Positive R2:  notes_PRT_tokens_sum_ratio\n",
      "Column with Positive R2:  notes_VERB\n",
      "Column with Positive R2:  notes_VERB_tokens_sum_ratio\n",
      "Column with Positive R2:  notes_X\n",
      "Column with Positive R2:  notes_X_tokens_sum_ratio\n",
      "Column with Positive R2:  transit_.\n",
      "Column with Positive R2:  transit_._tokens_sum_ratio\n",
      "Column with Positive R2:  transit_ADJ\n",
      "Column with Positive R2:  transit_ADJ_tokens_sum_ratio\n",
      "Column with Positive R2:  transit_ADP\n",
      "Column with Positive R2:  transit_ADP_tokens_sum_ratio\n",
      "Column with Positive R2:  transit_ADV\n"
     ]
    },
    {
     "name": "stdout",
     "output_type": "stream",
     "text": [
      "Column with Positive R2:  transit_ADV_tokens_sum_ratio\n",
      "Column with Positive R2:  transit_CONJ\n",
      "Column with Positive R2:  transit_CONJ_tokens_sum_ratio\n",
      "Column with Positive R2:  transit_DET\n",
      "Column with Positive R2:  transit_DET_tokens_sum_ratio\n",
      "Column with Positive R2:  transit_NOUN\n",
      "Column with Positive R2:  transit_NOUN_tokens_sum_ratio\n",
      "Column with Positive R2:  transit_NUM\n",
      "Column with Positive R2:  transit_NUM_tokens_sum_ratio\n",
      "Column with Positive R2:  transit_PRON\n",
      "Column with Positive R2:  transit_PRON_tokens_sum_ratio\n",
      "Column with Positive R2:  transit_PRT\n",
      "Column with Positive R2:  transit_PRT_tokens_sum_ratio\n",
      "Column with Positive R2:  transit_VERB\n",
      "Column with Positive R2:  transit_VERB_tokens_sum_ratio\n",
      "Column with Positive R2:  transit_X\n",
      "Column with Positive R2:  transit_X_tokens_sum_ratio\n",
      "Column with Positive R2:  access_.\n",
      "Column with Positive R2:  access_._tokens_sum_ratio\n",
      "Column with Positive R2:  access_ADJ\n",
      "Column with Positive R2:  access_ADJ_tokens_sum_ratio\n",
      "Column with Positive R2:  access_ADP\n",
      "Column with Positive R2:  access_ADP_tokens_sum_ratio\n",
      "Column with Positive R2:  access_ADV\n",
      "Column with Positive R2:  access_ADV_tokens_sum_ratio\n",
      "Column with Positive R2:  access_CONJ\n",
      "Column with Positive R2:  access_CONJ_tokens_sum_ratio\n",
      "Column with Positive R2:  access_DET\n",
      "Column with Positive R2:  access_DET_tokens_sum_ratio\n",
      "Column with Positive R2:  access_NOUN\n",
      "Column with Positive R2:  access_NOUN_tokens_sum_ratio\n",
      "Column with Positive R2:  access_NUM\n",
      "Column with Positive R2:  access_NUM_tokens_sum_ratio\n",
      "Column with Positive R2:  access_PRON\n",
      "Column with Positive R2:  access_PRON_tokens_sum_ratio\n",
      "Column with Positive R2:  access_PRT\n",
      "Column with Positive R2:  access_PRT_tokens_sum_ratio\n",
      "Column with Positive R2:  access_VERB\n",
      "Column with Positive R2:  access_VERB_tokens_sum_ratio\n",
      "Column with Positive R2:  access_X\n",
      "Column with Positive R2:  access_X_tokens_sum_ratio\n",
      "Column with Positive R2:  interaction_.\n",
      "Column with Positive R2:  interaction_._tokens_sum_ratio\n",
      "Column with Positive R2:  interaction_ADJ\n",
      "Column with Positive R2:  interaction_ADJ_tokens_sum_ratio\n",
      "Column with Positive R2:  interaction_ADP\n",
      "Column with Positive R2:  interaction_ADP_tokens_sum_ratio\n",
      "Column with Positive R2:  interaction_ADV\n",
      "Column with Positive R2:  interaction_ADV_tokens_sum_ratio\n",
      "Column with Positive R2:  interaction_CONJ\n",
      "Column with Positive R2:  interaction_CONJ_tokens_sum_ratio\n",
      "Column with Positive R2:  interaction_DET\n",
      "Column with Positive R2:  interaction_DET_tokens_sum_ratio\n",
      "Column with Positive R2:  interaction_NOUN\n",
      "Column with Positive R2:  interaction_NOUN_tokens_sum_ratio\n",
      "Column with Positive R2:  interaction_NUM\n",
      "Column with Positive R2:  interaction_NUM_tokens_sum_ratio\n",
      "Column with Positive R2:  interaction_PRON\n",
      "Column with Positive R2:  interaction_PRON_tokens_sum_ratio\n",
      "Column with Positive R2:  interaction_PRT\n",
      "Column with Positive R2:  interaction_PRT_tokens_sum_ratio\n",
      "Column with Positive R2:  interaction_VERB\n",
      "Column with Positive R2:  interaction_VERB_tokens_sum_ratio\n",
      "Column with Positive R2:  interaction_X\n",
      "Column with Positive R2:  interaction_X_tokens_sum_ratio\n",
      "Column with Positive R2:  house_rules_.\n",
      "Column with Positive R2:  house_rules_._tokens_sum_ratio\n",
      "Column with Positive R2:  house_rules_ADJ\n",
      "Column with Positive R2:  house_rules_ADJ_tokens_sum_ratio\n",
      "Column with Positive R2:  house_rules_ADP\n",
      "Column with Positive R2:  house_rules_ADP_tokens_sum_ratio\n",
      "Column with Positive R2:  house_rules_ADV\n",
      "Column with Positive R2:  house_rules_ADV_tokens_sum_ratio\n",
      "Column with Positive R2:  house_rules_CONJ\n",
      "Column with Positive R2:  house_rules_CONJ_tokens_sum_ratio\n",
      "Column with Positive R2:  house_rules_DET\n",
      "Column with Positive R2:  house_rules_DET_tokens_sum_ratio\n",
      "Column with Positive R2:  house_rules_NOUN\n",
      "Column with Positive R2:  house_rules_NOUN_tokens_sum_ratio\n",
      "Column with Positive R2:  house_rules_NUM\n",
      "Column with Positive R2:  house_rules_NUM_tokens_sum_ratio\n",
      "Column with Positive R2:  house_rules_PRON\n",
      "Column with Positive R2:  house_rules_PRON_tokens_sum_ratio\n",
      "Column with Positive R2:  house_rules_PRT\n",
      "Column with Positive R2:  house_rules_PRT_tokens_sum_ratio\n",
      "Column with Positive R2:  house_rules_VERB\n",
      "Column with Positive R2:  house_rules_VERB_tokens_sum_ratio\n",
      "Column with Positive R2:  house_rules_X\n",
      "Column with Positive R2:  house_rules_X_tokens_sum_ratio\n",
      "Column with Positive R2:  space_KmeansCluster\n",
      "Column with Positive R2:  description_KmeansCluster\n",
      "Column with Positive R2:  neighborhood_overview_KmeansCluster\n",
      "Column with Positive R2:  notes_KmeansCluster\n",
      "Column with Positive R2:  transit_KmeansCluster\n",
      "Column with Positive R2:  access_KmeansCluster\n",
      "Column with Positive R2:  interaction_KmeansCluster\n",
      "Column with Positive R2:  house_rules_KmeansCluster\n",
      "Column with Positive R2:  has\n",
      "Column with Positive R2:  has\"Other pet(s)\"\n",
      "Column with Positive R2:  hasEssentials\n",
      "Column with Positive R2:  has\"Carbon Monoxide Detector\"\n",
      "Column with Positive R2:  has\"Elevator in Building\"\n",
      "Column with Positive R2:  has\"Indoor Fireplace\"\n",
      "Column with Positive R2:  has\"translation missing: en.hosting_amenity_50\"\n",
      "Column with Positive R2:  hasInternet\n",
      "Column with Positive R2:  hasWasher\n",
      "Column with Positive R2:  hasHangers\n",
      "Column with Positive R2:  has\"Buzzer/Wireless Intercom\"\n",
      "Column with Positive R2:  hasTV\n",
      "Column with Positive R2:  hasGym\n",
      "Column with Positive R2:  has\"Fire Extinguisher\"\n",
      "Column with Positive R2:  has\"Hot Tub\"\n",
      "Column with Positive R2:  hasDryer\n",
      "Column with Positive R2:  has\"Air Conditioning\"\n",
      "Column with Positive R2:  has\"Laptop Friendly Workspace\"\n",
      "Column with Positive R2:  has\"Suitable for Events\"\n",
      "Column with Positive R2:  hasKitchen\n",
      "Column with Positive R2:  has\"Family/Kid Friendly\"\n",
      "Column with Positive R2:  has\"translation missing: en.hosting_amenity_49\"\n",
      "Column with Positive R2:  hasShampoo\n",
      "Column with Positive R2:  hasHeating\n",
      "Column with Positive R2:  has\"Hair Dryer\"\n",
      "Column with Positive R2:  hasCat(s)\n",
      "Column with Positive R2:  has\"Smoke Detector\"\n",
      "Column with Positive R2:  hasIron\n",
      "Column with Positive R2:  has\"Free Parking on Premises\"\n",
      "Column with Positive R2:  has\"Pets live on this property\"\n",
      "Column with Positive R2:  has\"Safety Card\"\n",
      "Column with Positive R2:  has\"Smoking Allowed\"\n",
      "Column with Positive R2:  has\"Pets Allowed\"\n",
      "Column with Positive R2:  has\"Wheelchair Accessible\"\n",
      "Column with Positive R2:  has\"First Aid Kit\"\n",
      "Column with Positive R2:  hasDog(s)\n",
      "Column with Positive R2:  has\"Wireless Internet\"\n",
      "Column with Positive R2:  has\"Cable TV\"\n",
      "Column with Positive R2:  hasPool\n",
      "Column with Positive R2:  hasBreakfast\n",
      "Column with Positive R2:  hasDoorman\n",
      "Column with Positive R2:  has\"Lock on Bedroom Door\"\n",
      "Column with Positive R2:  has\"24-Hour Check-in\"\n",
      "Column with Positive R2:  distance from ocean\n"
     ]
    }
   ],
   "source": [
    "for i in R2s:\n",
    "    if i[1]>0:\n",
    "        print 'Column with Positive R2: ', i[0]"
   ]
  },
  {
   "cell_type": "markdown",
   "metadata": {},
   "source": [
    "Insight: the only univariate linear regression with positive R2 is accommodates - that's weird!"
   ]
  },
  {
   "cell_type": "markdown",
   "metadata": {},
   "source": [
    "Let's see more statistics for this model with Statsmodels module"
   ]
  },
  {
   "cell_type": "code",
   "execution_count": 37,
   "metadata": {},
   "outputs": [
    {
     "ename": "AttributeError",
     "evalue": "'int' object has no attribute 'add_constant'",
     "output_type": "error",
     "traceback": [
      "\u001b[0;31m---------------------------------------------------------------------------\u001b[0m",
      "\u001b[0;31mAttributeError\u001b[0m                            Traceback (most recent call last)",
      "\u001b[0;32m<ipython-input-37-a645f61f7ab9>\u001b[0m in \u001b[0;36m<module>\u001b[0;34m()\u001b[0m\n\u001b[0;32m----> 1\u001b[0;31m \u001b[0mX_acc\u001b[0m \u001b[0;34m=\u001b[0m \u001b[0msm\u001b[0m\u001b[0;34m.\u001b[0m\u001b[0madd_constant\u001b[0m\u001b[0;34m(\u001b[0m\u001b[0mX\u001b[0m\u001b[0;34m[\u001b[0m\u001b[0;34m'accommodates'\u001b[0m\u001b[0;34m]\u001b[0m\u001b[0;34m.\u001b[0m\u001b[0mastype\u001b[0m\u001b[0;34m(\u001b[0m\u001b[0mfloat\u001b[0m\u001b[0;34m)\u001b[0m\u001b[0;34m)\u001b[0m\u001b[0;34m\u001b[0m\u001b[0m\n\u001b[0m",
      "\u001b[0;31mAttributeError\u001b[0m: 'int' object has no attribute 'add_constant'"
     ]
    }
   ],
   "source": [
    "X_acc = sm.add_constant(X['accommodates'])"
   ]
  },
  {
   "cell_type": "code",
   "execution_count": 137,
   "metadata": {
    "collapsed": true
   },
   "outputs": [],
   "source": [
    "OLS_accommodates_results = sm.OLS(y,X_acc).fit()"
   ]
  },
  {
   "cell_type": "code",
   "execution_count": 139,
   "metadata": {},
   "outputs": [
    {
     "name": "stdout",
     "output_type": "stream",
     "text": [
      "                            OLS Regression Results                            \n",
      "==============================================================================\n",
      "Dep. Variable:                price_y   R-squared:                       0.489\n",
      "Model:                            OLS   Adj. R-squared:                  0.489\n",
      "Method:                 Least Squares   F-statistic:                     5511.\n",
      "Date:                Sat, 05 May 2018   Prob (F-statistic):               0.00\n",
      "Time:                        23:05:54   Log-Likelihood:                -35517.\n",
      "No. Observations:                5754   AIC:                         7.104e+04\n",
      "Df Residuals:                    5752   BIC:                         7.105e+04\n",
      "Df Model:                           1                                         \n",
      "Covariance Type:            nonrobust                                         \n",
      "================================================================================\n",
      "                   coef    std err          t      P>|t|      [0.025      0.975]\n",
      "--------------------------------------------------------------------------------\n",
      "const           37.0666      2.728     13.589      0.000      31.719      42.414\n",
      "accommodates    38.9426      0.525     74.236      0.000      37.914      39.971\n",
      "==============================================================================\n",
      "Omnibus:                     1450.896   Durbin-Watson:                   1.818\n",
      "Prob(Omnibus):                  0.000   Jarque-Bera (JB):             9012.694\n",
      "Skew:                           1.058   Prob(JB):                         0.00\n",
      "Kurtosis:                       8.755   Cond. No.                         9.51\n",
      "==============================================================================\n",
      "\n",
      "Warnings:\n",
      "[1] Standard Errors assume that the covariance matrix of the errors is correctly specified.\n"
     ]
    }
   ],
   "source": [
    "print OLS_accommodates_results.summary()"
   ]
  },
  {
   "cell_type": "markdown",
   "metadata": {},
   "source": [
    "The p-value for each term tests the null hypothesis that the coefficient is equal to zero (no effect). A low p-value (< 0.05) indicates that you can reject the null hypothesis. In other words, a predictor that has a low p-value is likely to be a meaningful addition to your model because changes in the predictor's value are related to changes in the response variable.\n",
    "Conversely, a larger (insignificant) p-value suggests that changes in the predictor are not associated with changes in the response."
   ]
  },
  {
   "cell_type": "markdown",
   "metadata": {},
   "source": [
    "Plotting our Base Model"
   ]
  },
  {
   "cell_type": "code",
   "execution_count": 167,
   "metadata": {},
   "outputs": [
    {
     "data": {
      "image/png": "[encoded data removed]",
      "text/plain": [
       "<Figure size 576x432 with 1 Axes>"
      ]
     },
     "metadata": {},
     "output_type": "display_data"
    }
   ],
   "source": [
    "from statsmodels.sandbox.regression.predstd import wls_prediction_std\n",
    "prstd, iv_l, iv_u = wls_prediction_std(OLS_accommodates_results)\n",
    "\n",
    "fig, ax = plt.subplots(figsize=(8,6))\n",
    "\n",
    "ax.plot(X_1['accommodates'], y, 'o', label=\"Accommodates\")\n",
    "ax.plot(X_1['accommodates'], OLS_accommodates_results.fittedvalues, 'r--.', label=\"OLS\")\n",
    "ax.plot(X_1['accommodates'], iv_u, 'g--')\n",
    "ax.plot(X_1['accommodates'], iv_l, 'g--')\n",
    "ax.legend(loc='best');"
   ]
  },
  {
   "cell_type": "code",
   "execution_count": null,
   "metadata": {
    "collapsed": true
   },
   "outputs": [],
   "source": []
  },
  {
   "cell_type": "code",
   "execution_count": null,
   "metadata": {
    "collapsed": true
   },
   "outputs": [],
   "source": []
  },
  {
   "cell_type": "markdown",
   "metadata": {},
   "source": [
    "Insight: the P value is very low, so we reject the null hypothesis that accommodates is not linearly associated with y\n",
    "The Standard Error is relatively low"
   ]
  },
  {
   "cell_type": "markdown",
   "metadata": {},
   "source": [
    "Getting to know the Accommodates variable better..."
   ]
  },
  {
   "cell_type": "code",
   "execution_count": 146,
   "metadata": {},
   "outputs": [
    {
     "name": "stdout",
     "output_type": "stream",
     "text": [
      "Skew:  1.5431676275184705\n",
      "Kurtosis:  2.871694661332458\n",
      "count    5754.000000\n",
      "mean        4.305232\n",
      "std         2.915998\n",
      "min         0.000000\n",
      "25%         2.000000\n",
      "50%         4.000000\n",
      "75%         6.000000\n",
      "max        21.000000\n",
      "Name: accommodates, dtype: float64\n"
     ]
    }
   ],
   "source": [
    "print 'Skew: ', X['accommodates'].skew()\n",
    "print 'Kurtosis: ', X['accommodates'].kurtosis()\n",
    "print(X['accommodates'].describe())"
   ]
  },
  {
   "cell_type": "code",
   "execution_count": 148,
   "metadata": {},
   "outputs": [
    {
     "data": {
      "text/plain": [
       "<matplotlib.axes._subplots.AxesSubplot at 0x117f13910>"
      ]
     },
     "execution_count": 148,
     "metadata": {},
     "output_type": "execute_result"
    },
    {
     "data": {
      "image/png": "[encoded data removed]",
      "text/plain": [
       "<Figure size 432x288 with 1 Axes>"
      ]
     },
     "metadata": {},
     "output_type": "display_data"
    }
   ],
   "source": [
    "sb.distplot(X['accommodates'])"
   ]
  },
  {
   "cell_type": "markdown",
   "metadata": {},
   "source": [
    "Insight: the accommodates variable is actually a discrete variable. It is positively skewed (tail is to the right) with kurtosis lower than that of a normally distributed variable (i.e. lower probability of outliers)"
   ]
  },
  {
   "cell_type": "code",
   "execution_count": 149,
   "metadata": {},
   "outputs": [
    {
     "data": {
      "image/png": "[encoded data removed]",
      "text/plain": [
       "<Figure size 432x288 with 1 Axes>"
      ]
     },
     "metadata": {},
     "output_type": "display_data"
    }
   ],
   "source": [
    "sb.regplot(x=\"accommodates\", y=\"price_y\", data=listings);"
   ]
  },
  {
   "cell_type": "code",
   "execution_count": 150,
   "metadata": {},
   "outputs": [
    {
     "data": {
      "image/png": "[encoded data removed]",
      "text/plain": [
       "<Figure size 432x432 with 3 Axes>"
      ]
     },
     "metadata": {},
     "output_type": "display_data"
    }
   ],
   "source": [
    "sb.jointplot(x=\"accommodates\", y=\"price_y\", data=listings, kind=\"reg\");"
   ]
  },
  {
   "cell_type": "code",
   "execution_count": null,
   "metadata": {
    "collapsed": true
   },
   "outputs": [],
   "source": []
  },
  {
   "cell_type": "code",
   "execution_count": null,
   "metadata": {
    "collapsed": true
   },
   "outputs": [],
   "source": []
  },
  {
   "cell_type": "code",
   "execution_count": null,
   "metadata": {
    "collapsed": true
   },
   "outputs": [],
   "source": []
  },
  {
   "cell_type": "code",
   "execution_count": null,
   "metadata": {
    "collapsed": true
   },
   "outputs": [],
   "source": []
  },
  {
   "cell_type": "markdown",
   "metadata": {},
   "source": [
    "Analysis of Residuals for Accommodates"
   ]
  },
  {
   "cell_type": "code",
   "execution_count": 183,
   "metadata": {},
   "outputs": [
    {
     "data": {
      "text/plain": [
       "[('Jarque-Bera', 9012.693961037914),\n",
       " ('Chi^2 two-tail prob.', 0.0),\n",
       " ('Skew', 1.0577139524284396),\n",
       " ('Kurtosis', 8.75473845356843)]"
      ]
     },
     "execution_count": 183,
     "metadata": {},
     "output_type": "execute_result"
    }
   ],
   "source": [
    "name = ['Jarque-Bera', 'Chi^2 two-tail prob.', 'Skew', 'Kurtosis']\n",
    "test = sms.jarque_bera(OLS_accommodates_results.resid)\n",
    "lzip(name, test)"
   ]
  },
  {
   "cell_type": "code",
   "execution_count": 184,
   "metadata": {},
   "outputs": [
    {
     "data": {
      "text/plain": [
       "[('Chi^2', 1450.8958273927547), ('Two-tail probability', 0.0)]"
      ]
     },
     "execution_count": 184,
     "metadata": {},
     "output_type": "execute_result"
    }
   ],
   "source": [
    "name = ['Chi^2', 'Two-tail probability']\n",
    "test = sms.omni_normtest(OLS_accommodates_results.resid)\n",
    "lzip(name, test)"
   ]
  },
  {
   "cell_type": "code",
   "execution_count": 185,
   "metadata": {
    "collapsed": true
   },
   "outputs": [],
   "source": [
    "from statsmodels.graphics.regressionplots import plot_leverage_resid2"
   ]
  },
  {
   "cell_type": "code",
   "execution_count": 187,
   "metadata": {},
   "outputs": [
    {
     "data": {
      "image/png": "[encoded data removed]",
      "text/plain": [
       "<Figure size 504x504 with 1 Axes>"
      ]
     },
     "metadata": {},
     "output_type": "display_data"
    }
   ],
   "source": [
    "fig, ax = plt.subplots(figsize=(7,7))\n",
    "fig = plot_leverage_resid2(OLS_accommodates_results, ax = ax)\n",
    "plt.show()"
   ]
  },
  {
   "cell_type": "markdown",
   "metadata": {},
   "source": [
    "Insights: certain listings have high error and also high leverage on the model - look at each and consider transformations or omitting them from the data - investigate them!"
   ]
  },
  {
   "cell_type": "code",
   "execution_count": null,
   "metadata": {
    "collapsed": true
   },
   "outputs": [],
   "source": []
  },
  {
   "cell_type": "code",
   "execution_count": null,
   "metadata": {
    "collapsed": true
   },
   "outputs": [],
   "source": []
  },
  {
   "cell_type": "code",
   "execution_count": 171,
   "metadata": {
    "collapsed": true
   },
   "outputs": [],
   "source": [
    "SSE_accommodates = pd.Series(y.mean() - y)**2"
   ]
  },
  {
   "cell_type": "code",
   "execution_count": 177,
   "metadata": {},
   "outputs": [
    {
     "name": "stdout",
     "output_type": "stream",
     "text": [
      "SSE for Accommodates: 151615077.54615 \n",
      "Mean of Residuals: -0.000\n",
      "Standard Deviation of Residuals: 116.003\n"
     ]
    }
   ],
   "source": [
    "accommodates_residuals = y - linear_regression.fit(X['accommodates'].values.reshape(-1,1),y).predict(X['accommodates'].values.reshape(-1,1))\n",
    "print(\"SSE for Accommodates: %0.5f \" %sum(SSE_accommodates))\n",
    "print(\"Mean of Residuals: %0.3f\" %np.mean(accommodates_residuals))\n",
    "print(\"Standard Deviation of Residuals: %0.3f\" %(np.std(accommodates_residuals)))"
   ]
  },
  {
   "cell_type": "code",
   "execution_count": 178,
   "metadata": {},
   "outputs": [
    {
     "data": {
      "text/plain": [
       "<matplotlib.axes._subplots.AxesSubplot at 0x130902050>"
      ]
     },
     "execution_count": 178,
     "metadata": {},
     "output_type": "execute_result"
    },
    {
     "data": {
      "image/png": "[encoded data removed]",
      "text/plain": [
       "<Figure size 432x288 with 1 Axes>"
      ]
     },
     "metadata": {},
     "output_type": "display_data"
    }
   ],
   "source": [
    "SSE_accommodates.plot('hist')"
   ]
  },
  {
   "cell_type": "markdown",
   "metadata": {},
   "source": [
    "Insight: the mean of residuals is zero, a fundamental assumption of Linear Regression"
   ]
  },
  {
   "cell_type": "markdown",
   "metadata": {},
   "source": [
    "Now we plot the residuals with the target variable and check whether if there is any correlation"
   ]
  },
  {
   "cell_type": "code",
   "execution_count": 169,
   "metadata": {},
   "outputs": [
    {
     "data": {
      "image/png": "[encoded data removed]",
      "text/plain": [
       "<Figure size 432x288 with 1 Axes>"
      ]
     },
     "metadata": {},
     "output_type": "display_data"
    }
   ],
   "source": [
    "plt.scatter(x=accommodates_residuals,y=y, label='Accommodates Data')\n",
    "plt.xlabel(\"Residuals\")\n",
    "plt.ylabel(\"Accommodates\")\n",
    "plt.legend(loc=2)\n",
    "plt.show()"
   ]
  },
  {
   "cell_type": "markdown",
   "metadata": {},
   "source": [
    "Insight: the residuals increase linearly as Accommodates increase - this is a problemm(?)"
   ]
  },
  {
   "cell_type": "code",
   "execution_count": null,
   "metadata": {
    "collapsed": true
   },
   "outputs": [],
   "source": []
  },
  {
   "cell_type": "markdown",
   "metadata": {},
   "source": [
    "Heteroskedasticity Tests and Plot"
   ]
  },
  {
   "cell_type": "markdown",
   "metadata": {},
   "source": [
    "It is customary to check for heteroscedasticity of residuals once you build the linear regression model. The reason is, we want to check if the model thus built is unable to explain some pattern in the response variable Y, that eventually shows up in the residuals. This would result in an inefficient and unstable regression model that could yield bizarre predictions later on.\n",
    "For these test the null hypothesis is that all observations have the same error variance, i.e. errors are homoscedastic. The tests differ in which kind of heteroscedasticity is considered as alternative hypothesis. They also vary in the power of the test for different types of heteroscedasticity."
   ]
  },
  {
   "cell_type": "markdown",
   "metadata": {},
   "source": [
    "Breush-Pagan test: It tests whether the variance of the errors from a regression is dependent on the values of the independent variables. In that case, heteroskedasticity is present.\n",
    "If the test statistic has a p-value below an appropriate threshold (e.g. p<0.05) then the null hypothesis of homoskedasticity is rejected and heteroskedasticity assumed."
   ]
  },
  {
   "cell_type": "code",
   "execution_count": 188,
   "metadata": {},
   "outputs": [
    {
     "name": "stderr",
     "output_type": "stream",
     "text": [
      "/Users/pauldefusco/anaconda2/envs/py27/lib/python2.7/site-packages/ipykernel_launcher.py:3: DeprecationWarning: `het_breushpagan` is deprecated, use `het_breuschpagan` instead!\n",
      "Use het_breuschpagan, het_breushpagan will be removed in 0.9 \n",
      "(Note: misspelling missing 'c')\n",
      "  This is separate from the ipykernel package so we can avoid doing imports until\n"
     ]
    },
    {
     "data": {
      "text/plain": [
       "[('Lagrange multiplier statistic', 806.2906570933038),\n",
       " ('p-value', 2.314012401764704e-177),\n",
       " ('f-value', 937.3598039362726),\n",
       " ('f p-value', 7.610210108375734e-191)]"
      ]
     },
     "execution_count": 188,
     "metadata": {},
     "output_type": "execute_result"
    }
   ],
   "source": [
    "name = ['Lagrange multiplier statistic', 'p-value', \n",
    "        'f-value', 'f p-value']\n",
    "test = sms.het_breushpagan(OLS_accommodates_results.resid, OLS_accommodates_results.model.exog)\n",
    "lzip(name, test)"
   ]
  },
  {
   "cell_type": "code",
   "execution_count": 189,
   "metadata": {},
   "outputs": [
    {
     "data": {
      "text/plain": [
       "[('F statistic', 0.7437983466637724), ('p-value', 0.9999999999999988)]"
      ]
     },
     "execution_count": 189,
     "metadata": {},
     "output_type": "execute_result"
    }
   ],
   "source": [
    "name = ['F statistic', 'p-value']\n",
    "test = sms.het_goldfeldquandt(OLS_accommodates_results.resid, OLS_accommodates_results.model.exog)\n",
    "lzip(name, test)"
   ]
  },
  {
   "cell_type": "markdown",
   "metadata": {},
   "source": [
    "Enter Insights from the above tests:"
   ]
  },
  {
   "cell_type": "markdown",
   "metadata": {},
   "source": [
    "Now Plotting Heteroskedasticity"
   ]
  },
  {
   "cell_type": "code",
   "execution_count": 195,
   "metadata": {
    "collapsed": true
   },
   "outputs": [],
   "source": [
    "from statsmodels.graphics.regressionplots import plot_regress_exog"
   ]
  },
  {
   "cell_type": "code",
   "execution_count": 199,
   "metadata": {},
   "outputs": [
    {
     "data": {
      "image/png": "[encoded data removed]",
      "text/plain": [
       "<Figure size 504x504 with 4 Axes>"
      ]
     },
     "execution_count": 199,
     "metadata": {},
     "output_type": "execute_result"
    },
    {
     "data": {
      "image/png": "[encoded data removed]",
      "text/plain": [
       "<Figure size 504x504 with 4 Axes>"
      ]
     },
     "metadata": {},
     "output_type": "display_data"
    }
   ],
   "source": [
    "fig = plt.figure(figsize=(7,7))\n",
    "plot_regress_exog(OLS_accommodates_results, 1, fig=fig)"
   ]
  },
  {
   "cell_type": "markdown",
   "metadata": {},
   "source": [
    "Component-Component plus Residual (CCPR) Plots\n",
    "The CCPR plot provides a way to judge the effect of one regressor on the \n",
    "response variable by taking into account the effects of the other \n",
    "independent variables. The partial residuals plot is defined as \n",
    "Residuals+BiXi    versus  Xi . The component adds  BiXi  versus \n",
    "Xi  to show where the fitted line would lie. Care should be taken if  Xi  \n",
    "is highly correlated with any of the other independent variables. If this \n",
    "is the case, the variance evident in the plot will be an underestimate of \n",
    "the true variance."
   ]
  },
  {
   "cell_type": "markdown",
   "metadata": {},
   "source": [
    "Note: will have to use CCPR with multivar regression"
   ]
  },
  {
   "cell_type": "markdown",
   "metadata": {},
   "source": [
    "Plot variance of error terms?"
   ]
  },
  {
   "cell_type": "code",
   "execution_count": null,
   "metadata": {
    "collapsed": true
   },
   "outputs": [],
   "source": [
    "#do it here"
   ]
  },
  {
   "cell_type": "markdown",
   "metadata": {},
   "source": [
    "Autocorrelation of residuals:"
   ]
  },
  {
   "cell_type": "code",
   "execution_count": null,
   "metadata": {
    "collapsed": true
   },
   "outputs": [],
   "source": [
    "#do it here"
   ]
  },
  {
   "cell_type": "code",
   "execution_count": null,
   "metadata": {
    "collapsed": true
   },
   "outputs": [],
   "source": []
  },
  {
   "cell_type": "markdown",
   "metadata": {},
   "source": [
    "Correlation between Residuals and Independent Variable"
   ]
  },
  {
   "cell_type": "code",
   "execution_count": 170,
   "metadata": {},
   "outputs": [
    {
     "data": {
      "text/plain": [
       "<matplotlib.collections.PathCollection at 0x11bf8d390>"
      ]
     },
     "execution_count": 170,
     "metadata": {},
     "output_type": "execute_result"
    },
    {
     "data": {
      "image/png": "[encoded data removed]",
      "text/plain": [
       "<Figure size 432x288 with 1 Axes>"
      ]
     },
     "metadata": {},
     "output_type": "display_data"
    }
   ],
   "source": [
    "plt.scatter(x=X_1['accommodates'], y=accommodates_residuals)"
   ]
  },
  {
   "cell_type": "markdown",
   "metadata": {},
   "source": [
    "Insight: there is an inverse relationship between the error terms and Accommodates - This pattern indicates that at least another variable with statistically significant impact on y has been ommitted (we shall find some in multivariate regression!)"
   ]
  },
  {
   "cell_type": "markdown",
   "metadata": {},
   "source": [
    "Are the residuals normally distributed? (yes they are - see below)"
   ]
  },
  {
   "cell_type": "code",
   "execution_count": 164,
   "metadata": {},
   "outputs": [
    {
     "data": {
      "text/plain": [
       "<matplotlib.axes._subplots.AxesSubplot at 0x11857b4d0>"
      ]
     },
     "execution_count": 164,
     "metadata": {},
     "output_type": "execute_result"
    },
    {
     "data": {
      "image/png": "[encoded data removed]",
      "text/plain": [
       "<Figure size 432x288 with 1 Axes>"
      ]
     },
     "metadata": {},
     "output_type": "display_data"
    }
   ],
   "source": [
    "sb.distplot(accommodates_residuals)"
   ]
  },
  {
   "cell_type": "markdown",
   "metadata": {
    "collapsed": true
   },
   "source": [
    "Residuals vs. Fitted Values"
   ]
  },
  {
   "cell_type": "code",
   "execution_count": 23,
   "metadata": {},
   "outputs": [
    {
     "ename": "NameError",
     "evalue": "name 'linear_regression' is not defined",
     "output_type": "error",
     "traceback": [
      "\u001b[0;31m---------------------------------------------------------------------------\u001b[0m",
      "\u001b[0;31mNameError\u001b[0m                                 Traceback (most recent call last)",
      "\u001b[0;32m<ipython-input-23-4263ed8d902e>\u001b[0m in \u001b[0;36m<module>\u001b[0;34m()\u001b[0m\n\u001b[0;32m----> 1\u001b[0;31m \u001b[0mplt\u001b[0m\u001b[0;34m.\u001b[0m\u001b[0mplot\u001b[0m\u001b[0;34m(\u001b[0m\u001b[0mlinear_regression\u001b[0m\u001b[0;34m.\u001b[0m\u001b[0mpredict\u001b[0m\u001b[0;34m(\u001b[0m\u001b[0mX\u001b[0m\u001b[0;34m[\u001b[0m\u001b[0;34m'accommodates'\u001b[0m\u001b[0;34m]\u001b[0m\u001b[0;34m.\u001b[0m\u001b[0mvalues\u001b[0m\u001b[0;34m.\u001b[0m\u001b[0mshape\u001b[0m\u001b[0;34m(\u001b[0m\u001b[0;34m-\u001b[0m\u001b[0;36m1\u001b[0m\u001b[0;34m,\u001b[0m\u001b[0;36m1\u001b[0m\u001b[0;34m)\u001b[0m\u001b[0;34m)\u001b[0m\u001b[0;34m,\u001b[0m \u001b[0maccommodates_residuals\u001b[0m\u001b[0;34m,\u001b[0m \u001b[0;34m'Accommodates'\u001b[0m\u001b[0;34m)\u001b[0m\u001b[0;34m\u001b[0m\u001b[0m\n\u001b[0m\u001b[1;32m      2\u001b[0m \u001b[0mplt\u001b[0m\u001b[0;34m.\u001b[0m\u001b[0mylabel\u001b[0m\u001b[0;34m(\u001b[0m\u001b[0;34m'Residuals'\u001b[0m\u001b[0;34m)\u001b[0m\u001b[0;34m\u001b[0m\u001b[0m\n\u001b[1;32m      3\u001b[0m \u001b[0mplt\u001b[0m\u001b[0;34m.\u001b[0m\u001b[0mxlabel\u001b[0m\u001b[0;34m(\u001b[0m\u001b[0;34m'FItted Values'\u001b[0m\u001b[0;34m)\u001b[0m\u001b[0;34m\u001b[0m\u001b[0m\n\u001b[1;32m      4\u001b[0m \u001b[0mplt\u001b[0m\u001b[0;34m.\u001b[0m\u001b[0mshow\u001b[0m\u001b[0;34m(\u001b[0m\u001b[0;34m)\u001b[0m\u001b[0;34m\u001b[0m\u001b[0m\n",
      "\u001b[0;31mNameError\u001b[0m: name 'linear_regression' is not defined"
     ]
    }
   ],
   "source": [
    "plt.plot(linear_regression.predict(X['accommodates'].values.shape(-1,1)), accommodates_residuals, 'Accommodates')\n",
    "plt.ylabel('Residuals')\n",
    "plt.xlabel('FItted Values')\n",
    "plt.show()"
   ]
  },
  {
   "cell_type": "code",
   "execution_count": null,
   "metadata": {
    "collapsed": true
   },
   "outputs": [],
   "source": []
  },
  {
   "cell_type": "code",
   "execution_count": null,
   "metadata": {
    "collapsed": true
   },
   "outputs": [],
   "source": []
  },
  {
   "cell_type": "code",
   "execution_count": null,
   "metadata": {
    "collapsed": true
   },
   "outputs": [],
   "source": []
  },
  {
   "cell_type": "markdown",
   "metadata": {},
   "source": [
    "Multivariate Regressions"
   ]
  },
  {
   "cell_type": "markdown",
   "metadata": {},
   "source": [
    "Pick next regressors to add to accommodates: identify methodology for getting next best regressor - one might be PCR, another feature importanve with RCEFV, LASSO, RIDGE, CORRELATION, etc. (look at visualizations nb)"
   ]
  },
  {
   "cell_type": "code",
   "execution_count": null,
   "metadata": {
    "collapsed": true
   },
   "outputs": [],
   "source": []
  },
  {
   "cell_type": "markdown",
   "metadata": {},
   "source": [
    "Look at correlations"
   ]
  },
  {
   "cell_type": "code",
   "execution_count": null,
   "metadata": {
    "collapsed": true
   },
   "outputs": [],
   "source": [
    "corrmx = master_num.corr()\n",
    "f, ax = plt.subplots(figsize=(18,18))\n",
    "sb.heatmap(corrmx, vmax=.9, square=True)"
   ]
  },
  {
   "cell_type": "code",
   "execution_count": null,
   "metadata": {
    "collapsed": true
   },
   "outputs": [],
   "source": [
    "columns = corrmx.nlargest(10,'review_scores_rating')['review_scores_rating'].index\n",
    "cm = np.corrcoef(master_num[columns].values.T)\n",
    "sb.set(font_scale=1.25)\n",
    "hm = sb.heatmap(cm, cbar=True, annot=True, square=True, annot_kws={'size':10}, yticklabels=columns.values, xticklabels=columns.values)\n",
    "plt.show()"
   ]
  },
  {
   "cell_type": "markdown",
   "metadata": {},
   "source": [
    "Plot the regressors chosen with respect to one another (use below scatter matrix and get more in viz nb)"
   ]
  },
  {
   "cell_type": "code",
   "execution_count": null,
   "metadata": {
    "collapsed": true
   },
   "outputs": [],
   "source": [
    "\"\"\"scatter_matrix(X[['accommodates', 'bedrooms', 'bathrooms', 'beds']], alpha=0.2, figsize=(7, 7), diagonal='kde')\n",
    "plt.show()\"\"\""
   ]
  },
  {
   "cell_type": "markdown",
   "metadata": {},
   "source": [
    "Analyze Multicollinearity and Residuals with Multiple variables"
   ]
  },
  {
   "cell_type": "code",
   "execution_count": null,
   "metadata": {
    "collapsed": true
   },
   "outputs": [],
   "source": []
  },
  {
   "cell_type": "markdown",
   "metadata": {},
   "source": [
    "Use Variance Inflation Factor to seek collinearity among variables"
   ]
  },
  {
   "cell_type": "code",
   "execution_count": null,
   "metadata": {
    "collapsed": true
   },
   "outputs": [],
   "source": []
  },
  {
   "cell_type": "markdown",
   "metadata": {
    "collapsed": true
   },
   "source": [
    "Error and Residual Analysis for MultiVar regression:\n",
    "    look at partial residuals"
   ]
  },
  {
   "cell_type": "code",
   "execution_count": null,
   "metadata": {
    "collapsed": true
   },
   "outputs": [],
   "source": []
  },
  {
   "cell_type": "code",
   "execution_count": null,
   "metadata": {
    "collapsed": true
   },
   "outputs": [],
   "source": []
  },
  {
   "cell_type": "markdown",
   "metadata": {},
   "source": [
    "First, normalize the features to better compare coefficients and interpret their importance. Then, use Lasso Lars and Ridge Regression to look at importance of Features by checking the coefficients the models will output\n",
    "http://blog.datadive.net/selecting-good-features-part-ii-linear-models-and-regularization/"
   ]
  },
  {
   "cell_type": "markdown",
   "metadata": {},
   "source": [
    "Also use this module to give statistics for the regressors: http://scikit-learn.org/stable/modules/generated/sklearn.feature_selection.f_regression.html"
   ]
  },
  {
   "cell_type": "markdown",
   "metadata": {},
   "source": [
    "Finally, replicate Recursive Feature Elimination http://scikit-learn.org/stable/modules/generated/sklearn.feature_selection.RFECV.html"
   ]
  },
  {
   "cell_type": "code",
   "execution_count": null,
   "metadata": {
    "collapsed": true
   },
   "outputs": [],
   "source": []
  }
 ],
 "metadata": {
  "kernelspec": {
   "display_name": "Python 2",
   "language": "python",
   "name": "python2"
  },
  "language_info": {
   "codemirror_mode": {
    "name": "ipython",
    "version": 2
   },
   "file_extension": ".py",
   "mimetype": "text/x-python",
   "name": "python",
   "nbconvert_exporter": "python",
   "pygments_lexer": "ipython2",
   "version": "2.7.14"
  }
 },
 "nbformat": 4,
 "nbformat_minor": 2
}
