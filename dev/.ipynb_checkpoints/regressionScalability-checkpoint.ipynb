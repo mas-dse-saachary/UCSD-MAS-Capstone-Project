{
 "cells": [
  {
   "cell_type": "markdown",
   "metadata": {},
   "source": [
    "Notebook to automate regression analysis techniques in order to create a system that selects the best model iteratively"
   ]
  },
  {
   "cell_type": "code",
   "execution_count": 1,
   "metadata": {
    "collapsed": true
   },
   "outputs": [],
   "source": [
    "import pandas as pd"
   ]
  },
  {
   "cell_type": "code",
   "execution_count": 2,
   "metadata": {
    "collapsed": true
   },
   "outputs": [],
   "source": [
    "def load_data(data_dir, file_name):\n",
    "    return pd.read_csv(data_dir + file_name)"
   ]
  },
  {
   "cell_type": "code",
   "execution_count": 3,
   "metadata": {
    "collapsed": true
   },
   "outputs": [],
   "source": [
    "def select_initial_feature(df):\n",
    "    #create bivariate models using best R2\n",
    "    #select best feature based on highest univar R2\n",
    "    return initial_feature_name"
   ]
  },
  {
   "cell_type": "code",
   "execution_count": 4,
   "metadata": {
    "collapsed": true
   },
   "outputs": [],
   "source": [
    "def rank_all_features(df, initial_feature_name, method):\n",
    "    #create feature ranking list with one of multiple methods e.g. Shapiro, Lasso, Ridge, etc.\n",
    "    #force the initial_feature_name into position 1 in list\n",
    "    return ranked_features_list"
   ]
  },
  {
   "cell_type": "code",
   "execution_count": 5,
   "metadata": {
    "collapsed": true
   },
   "outputs": [],
   "source": [
    "def select_next_best_feature(df, ranked_features_list, number_of_features):\n",
    "    #create n models with initial feature and n next best features based on parameter 'number of features'\n",
    "    #select the best model in terms of RMSE\n",
    "    #return the features used by best model, and model type\n",
    "    return best_features, model_type"
   ]
  },
  {
   "cell_type": "markdown",
   "metadata": {
    "collapsed": true
   },
   "source": [
    "Building Simple Scalable Solution with Spark"
   ]
  },
  {
   "cell_type": "code",
   "execution_count": 6,
   "metadata": {
    "collapsed": true
   },
   "outputs": [],
   "source": [
    "import findspark\n",
    "findspark.init()"
   ]
  },
  {
   "cell_type": "code",
   "execution_count": 7,
   "metadata": {
    "collapsed": true
   },
   "outputs": [],
   "source": [
    "from pyspark.mllib.regression import LabeledPoint, LinearRegressionWithSGD, LinearRegressionModel\n",
    "from pyspark.sql import SparkSession"
   ]
  },
  {
   "cell_type": "code",
   "execution_count": 8,
   "metadata": {
    "collapsed": true
   },
   "outputs": [],
   "source": [
    "spark = SparkSession.builder.master(\"local\").appName(\"Regression Scalability\")\\\n",
    "    .config(\"spark.some.config.option\", \"some-value\")\\\n",
    "    .getOrCreate()"
   ]
  },
  {
   "cell_type": "code",
   "execution_count": 9,
   "metadata": {
    "collapsed": true
   },
   "outputs": [],
   "source": [
    "#spark.stop()"
   ]
  },
  {
   "cell_type": "code",
   "execution_count": 10,
   "metadata": {
    "collapsed": true
   },
   "outputs": [],
   "source": [
    "#sc = spark.sparkContext"
   ]
  },
  {
   "cell_type": "markdown",
   "metadata": {},
   "source": [
    "Applying data transformations from regressionDiagnostics nb - these might end up changing"
   ]
  },
  {
   "cell_type": "code",
   "execution_count": 11,
   "metadata": {
    "collapsed": true
   },
   "outputs": [],
   "source": [
    "import pandas as pd\n",
    "import numpy as np\n",
    "from itertools import combinations"
   ]
  },
  {
   "cell_type": "code",
   "execution_count": 12,
   "metadata": {
    "collapsed": true
   },
   "outputs": [],
   "source": [
    "from sklearn import preprocessing\n",
    "from sklearn import linear_model\n",
    "from sklearn.metrics import r2_score, mean_squared_error,mean_absolute_error\n",
    "from sklearn.model_selection import KFold,cross_val_score, cross_val_predict"
   ]
  },
  {
   "cell_type": "code",
   "execution_count": 13,
   "metadata": {
    "collapsed": true
   },
   "outputs": [],
   "source": [
    "listings = pd.read_csv('listings_augmented_2018-05-06_V1.csv',low_memory=False)\n",
    "\n",
    "listings = listings.drop(columns=['listing_id','id','scrape_id','host_id',\n",
    "                                  'zipcode','has_availability','license',\n",
    "                                  'Unnamed: 0', 'thumbnail_url', 'medium_url',\n",
    "                                  'picture_url', 'xl_picture_url', 'host_url',\n",
    "                                  'host_name', 'host_thumbnail_url', 'host_picture_url',\n",
    "                                  'price_x', 'amenities', 'amenities_set', 'bed_type'\n",
    "                                 ])\n",
    "\n",
    "y = listings['price_y'].fillna(listings['price_y'].mean())\n",
    "\n",
    "X = listings.copy()\n",
    "#NB: not dropping the price in this nb because it is needed by Spark's ML methods\n",
    "#X = X.drop(columns='price_y')\n",
    "\n",
    "X_num = X.select_dtypes(include=['int64','float64'])\n",
    "X_num = X_num.replace([np.inf, -np.inf], np.nan)\n",
    "X_num = X_num.fillna(X_num.mean())\n",
    "X_1 = X_num[X_num.columns.drop(X_num[list(X_num.filter(regex='Topic'))])]\n",
    "data_scaled = pd.DataFrame(preprocessing.scale(X_1),columns = X_1.columns) "
   ]
  },
  {
   "cell_type": "code",
   "execution_count": 14,
   "metadata": {},
   "outputs": [
    {
     "name": "stderr",
     "output_type": "stream",
     "text": [
      "/Users/pauldefusco/anaconda2/envs/py27/lib/python2.7/site-packages/scipy/linalg/basic.py:1226: RuntimeWarning: internal gelsd driver lwork query error, required iwork dimension not returned. This is likely the result of LAPACK bug 0038, fixed in LAPACK 3.2.2 (released July 21, 2010). Falling back to 'gelss' driver.\n",
      "  warnings.warn(mesg, RuntimeWarning)\n"
     ]
    }
   ],
   "source": [
    "R2s = []\n",
    "for col in X_1.columns:\n",
    "    linear_regression = linear_model.LinearRegression(normalize=False, fit_intercept=True)\n",
    "    regression_results = linear_regression.fit(data_scaled[col].values.reshape(-1, 1),y)\n",
    "    #scores = cross_val_score(regression_results, data_scaled[col].values.reshape(-1, 1), y, cv=6)\n",
    "    predictions = cross_val_predict(regression_results, data_scaled[col].values.reshape(-1, 1), y, cv=6)\n",
    "    #accuracy = metrics.r2_score(y, predictions)\n",
    "    R2s.append((col, r2_score(y, predictions)))"
   ]
  },
  {
   "cell_type": "code",
   "execution_count": 15,
   "metadata": {
    "collapsed": true
   },
   "outputs": [],
   "source": [
    "uni_r2 = pd.DataFrame(R2s, columns = ['col','R2']).sort_values(by='R2', ascending=False)\n",
    "pos_uni_r2 = uni_r2[uni_r2['R2']>0]"
   ]
  },
  {
   "cell_type": "code",
   "execution_count": 16,
   "metadata": {
    "collapsed": true
   },
   "outputs": [],
   "source": [
    "candidates_050918 = ['availability_30','accommodates','calculated_host_listings_count','has\"Cable TV\"',\\\n",
    "              'distance from ocean','has\"Indoor Fireplace\"','hasDryer',\\\n",
    "              'has\"Hot Tub\"','hasDoorman']\n",
    "cands_050918 = ['price_y']\n",
    "for i in candidates:\n",
    "    cands.append(i)\n",
    "\n",
    "#candidates.remove(\"price_y\")"
   ]
  },
  {
   "cell_type": "markdown",
   "metadata": {},
   "source": [
    "Insights 05 - 09 - 18: the best features are 'availability_30','accommodates','calculated_host_listings_count','has\"Cable TV\"'"
   ]
  },
  {
   "cell_type": "code",
   "execution_count": 37,
   "metadata": {
    "collapsed": true
   },
   "outputs": [],
   "source": [
    "candidates_051018 = ['availability_30','accommodates','calculated_host_listings_count','has\"Cable TV\"','bathrooms'\n",
    ",'bedrooms'\n",
    ",'beds'\n",
    ",'square_feet'\n",
    ",'weekly_price'\n",
    ",'monthly_price'\n",
    ",'security_deposit'\n",
    ",'cleaning_fee'\n",
    ",'guests_included'\n",
    ",'extra_people'\n",
    ",'minimum_nights'\n",
    ",'maximum_nights']"
   ]
  },
  {
   "cell_type": "code",
   "execution_count": 31,
   "metadata": {},
   "outputs": [],
   "source": [
    "# must look at listings['host_response_rate'] - make sure vars are ok\n",
    "# must write to db or log file\n",
    "# must label encode cat features"
   ]
  },
  {
   "cell_type": "code",
   "execution_count": 57,
   "metadata": {
    "collapsed": true
   },
   "outputs": [],
   "source": [
    "from itertools import chain, combinations\n",
    "\n",
    "candidates = candidates_051018\n",
    "min_range = len(candidates)-4\n",
    "\n",
    "def all_subsets(ss):\n",
    "    return chain(*map(lambda x: combinations(ss, x), range(min_range, len(ss)+1)))\n",
    "combos = []\n",
    "\n",
    "for subset in all_subsets(candidates):\n",
    "    combos.append(subset)\n",
    "    \n",
    "cands_051018_V1 = ['price_y']\n",
    "for i in candidates:\n",
    "    cands_051018_V1.append(i)"
   ]
  },
  {
   "cell_type": "markdown",
   "metadata": {},
   "source": [
    "Trying to select important features by doing a RFECV instead of looking at univariate linear regressions first"
   ]
  },
  {
   "cell_type": "code",
   "execution_count": 65,
   "metadata": {
    "collapsed": true
   },
   "outputs": [],
   "source": [
    "from sklearn.feature_selection import RFECV\n",
    "\n",
    "estimator2 = linear_model.LinearRegression()\n",
    "selector2 = RFECV(estimator2, step=3, cv=5)\n",
    "selector2 = selector2.fit(data_scaled, y)"
   ]
  },
  {
   "cell_type": "code",
   "execution_count": 66,
   "metadata": {},
   "outputs": [
    {
     "name": "stdout",
     "output_type": "stream",
     "text": [
      "host_response_rate 17\n",
      "host_acceptance_rate 16\n",
      "host_listings_count 1\n",
      "host_total_listings_count 1\n",
      "neighbourhood_group_cleansed 1\n",
      "latitude 1\n",
      "longitude 3\n",
      "accommodates 1\n",
      "bathrooms 1\n",
      "bedrooms 1\n",
      "beds 1\n",
      "square_feet 15\n",
      "weekly_price 1\n",
      "monthly_price 1\n",
      "security_deposit 1\n",
      "cleaning_fee 1\n",
      "guests_included 1\n",
      "extra_people 1\n",
      "minimum_nights 1\n",
      "maximum_nights 1\n",
      "availability_30 1\n",
      "availability_60 1\n",
      "availability_90 1\n",
      "availability_365 1\n",
      "number_of_reviews 1\n",
      "review_scores_rating 1\n",
      "review_scores_accuracy 1\n",
      "review_scores_cleanliness 1\n",
      "review_scores_checkin 1\n",
      "review_scores_communication 1\n",
      "review_scores_location 1\n",
      "review_scores_value 14\n",
      "calculated_host_listings_count 1\n",
      "reviews_per_month 1\n",
      "price_y 1\n",
      "space_TextLength 1\n",
      "space_TextWordsPerc 6\n",
      "space_TextPuncPerc 1\n",
      "space_TextDigitsPerc 1\n",
      "description_TextLength 1\n",
      "description_TextWordsPerc 12\n",
      "description_TextPuncPerc 1\n",
      "description_TextDigitsPerc 1\n",
      "neighborhood_overview_TextLength 1\n",
      "neighborhood_overview_TextWordsPerc 16\n",
      "neighborhood_overview_TextPuncPerc 1\n",
      "neighborhood_overview_TextDigitsPerc 11\n",
      "notes_TextLength 1\n",
      "notes_TextWordsPerc 1\n",
      "notes_TextPuncPerc 1\n",
      "notes_TextDigitsPerc 1\n",
      "transit_TextLength 1\n",
      "transit_TextWordsPerc 12\n",
      "transit_TextPuncPerc 1\n",
      "transit_TextDigitsPerc 1\n",
      "access_TextLength 2\n",
      "access_TextWordsPerc 1\n",
      "access_TextPuncPerc 8\n",
      "access_TextDigitsPerc 1\n",
      "interaction_TextLength 1\n",
      "interaction_TextWordsPerc 1\n",
      "interaction_TextPuncPerc 1\n",
      "interaction_TextDigitsPerc 1\n",
      "house_rules_TextLength 1\n",
      "house_rules_TextWordsPerc 10\n",
      "house_rules_TextPuncPerc 8\n",
      "house_rules_TextDigitsPerc 1\n",
      "space_LexicalDiversity 1\n",
      "description_LexicalDiversity 1\n",
      "neighborhood_overview_LexicalDiversity 16\n",
      "notes_LexicalDiversity 1\n",
      "transit_LexicalDiversity 14\n",
      "access_LexicalDiversity 1\n",
      "interaction_LexicalDiversity 1\n",
      "house_rules_LexicalDiversity 1\n",
      "space_. 1\n",
      "space_._tokens_sum_ratio 1\n",
      "space_ADJ 1\n",
      "space_ADJ_tokens_sum_ratio 1\n",
      "space_ADP 2\n",
      "space_ADP_tokens_sum_ratio 1\n",
      "space_ADV 9\n",
      "space_CONJ 1\n",
      "space_CONJ_tokens_sum_ratio 1\n",
      "space_DET 1\n",
      "space_DET_tokens_sum_ratio 1\n",
      "space_NOUN 1\n",
      "space_NOUN_tokens_sum_ratio 1\n",
      "space_NUM 1\n",
      "space_NUM_tokens_sum_ratio 1\n",
      "space_PRON 1\n",
      "space_PRON_tokens_sum_ratio 1\n",
      "space_PRT 1\n",
      "space_PRT_tokens_sum_ratio 1\n",
      "space_VERB 1\n",
      "space_VERB_tokens_sum_ratio 1\n",
      "space_X 1\n",
      "space_X_tokens_sum_ratio 1\n",
      "description_. 1\n",
      "description_._tokens_sum_ratio 1\n",
      "description_ADJ 4\n",
      "description_ADJ_tokens_sum_ratio 1\n",
      "description_ADP 1\n",
      "description_ADP_tokens_sum_ratio 1\n",
      "description_ADV 1\n",
      "description_ADV_tokens_sum_ratio 1\n",
      "description_CONJ 1\n",
      "description_CONJ_tokens_sum_ratio 1\n",
      "description_DET 1\n",
      "description_DET_tokens_sum_ratio 1\n",
      "description_NOUN 1\n",
      "description_NOUN_tokens_sum_ratio 1\n",
      "description_NUM 13\n",
      "description_NUM_tokens_sum_ratio 1\n",
      "description_PRON 1\n",
      "description_PRON_tokens_sum_ratio 1\n",
      "description_PRT 1\n",
      "description_PRT_tokens_sum_ratio 1\n",
      "description_VERB 10\n",
      "description_VERB_tokens_sum_ratio 1\n",
      "description_X 1\n",
      "description_X_tokens_sum_ratio 1\n",
      "neighborhood_overview_. 1\n",
      "neighborhood_overview_._tokens_sum_ratio 1\n",
      "neighborhood_overview_ADJ 1\n",
      "neighborhood_overview_ADJ_tokens_sum_ratio 1\n",
      "neighborhood_overview_ADP 1\n",
      "neighborhood_overview_ADP_tokens_sum_ratio 1\n",
      "neighborhood_overview_ADV 12\n",
      "neighborhood_overview_ADV_tokens_sum_ratio 1\n",
      "neighborhood_overview_CONJ 13\n",
      "neighborhood_overview_CONJ_tokens_sum_ratio 1\n",
      "neighborhood_overview_DET 1\n",
      "neighborhood_overview_DET_tokens_sum_ratio 1\n",
      "neighborhood_overview_NOUN 1\n",
      "neighborhood_overview_NOUN_tokens_sum_ratio 1\n",
      "neighborhood_overview_NUM 1\n",
      "neighborhood_overview_NUM_tokens_sum_ratio 1\n",
      "neighborhood_overview_PRON 1\n",
      "neighborhood_overview_PRON_tokens_sum_ratio 1\n",
      "neighborhood_overview_PRT 1\n",
      "neighborhood_overview_PRT_tokens_sum_ratio 1\n",
      "neighborhood_overview_VERB 1\n",
      "neighborhood_overview_VERB_tokens_sum_ratio 1\n",
      "neighborhood_overview_X 1\n",
      "neighborhood_overview_X_tokens_sum_ratio 1\n",
      "notes_. 1\n",
      "notes_._tokens_sum_ratio 1\n",
      "notes_ADJ 1\n",
      "notes_ADJ_tokens_sum_ratio 1\n",
      "notes_ADP 1\n",
      "notes_ADP_tokens_sum_ratio 1\n",
      "notes_ADV 1\n",
      "notes_ADV_tokens_sum_ratio 1\n",
      "notes_CONJ 1\n",
      "notes_CONJ_tokens_sum_ratio 1\n",
      "notes_DET 1\n",
      "notes_DET_tokens_sum_ratio 1\n",
      "notes_NOUN 1\n",
      "notes_NOUN_tokens_sum_ratio 1\n",
      "notes_NUM 5\n",
      "notes_NUM_tokens_sum_ratio 1\n",
      "notes_PRON 1\n",
      "notes_PRON_tokens_sum_ratio 1\n",
      "notes_PRT 1\n",
      "notes_PRT_tokens_sum_ratio 1\n",
      "notes_VERB 1\n",
      "notes_VERB_tokens_sum_ratio 1\n",
      "notes_X 1\n",
      "notes_X_tokens_sum_ratio 1\n",
      "transit_. 1\n",
      "transit_._tokens_sum_ratio 1\n",
      "transit_ADJ 1\n",
      "transit_ADJ_tokens_sum_ratio 1\n",
      "transit_ADP 1\n",
      "transit_ADP_tokens_sum_ratio 1\n",
      "transit_ADV 13\n",
      "transit_ADV_tokens_sum_ratio 1\n",
      "transit_CONJ 3\n",
      "transit_CONJ_tokens_sum_ratio 1\n",
      "transit_DET 9\n",
      "transit_DET_tokens_sum_ratio 1\n",
      "transit_NOUN 1\n",
      "transit_NOUN_tokens_sum_ratio 1\n",
      "transit_NUM 1\n",
      "transit_NUM_tokens_sum_ratio 1\n",
      "transit_PRON 17\n",
      "transit_PRON_tokens_sum_ratio 1\n",
      "transit_PRT 15\n",
      "transit_PRT_tokens_sum_ratio 1\n",
      "transit_VERB 1\n",
      "transit_VERB_tokens_sum_ratio 1\n",
      "transit_X 1\n",
      "transit_X_tokens_sum_ratio 1\n",
      "access_. 1\n",
      "access_._tokens_sum_ratio 1\n",
      "access_ADJ 1\n",
      "access_ADJ_tokens_sum_ratio 1\n",
      "access_ADP 1\n",
      "access_ADP_tokens_sum_ratio 1\n",
      "access_ADV 1\n",
      "access_ADV_tokens_sum_ratio 1\n",
      "access_CONJ 1\n",
      "access_CONJ_tokens_sum_ratio 1\n",
      "access_DET 5\n",
      "access_DET_tokens_sum_ratio 1\n",
      "access_NOUN 1\n",
      "access_NOUN_tokens_sum_ratio 1\n",
      "access_NUM 1\n",
      "access_NUM_tokens_sum_ratio 1\n",
      "access_PRON 1\n",
      "access_PRON_tokens_sum_ratio 1\n",
      "access_PRT 8\n",
      "access_PRT_tokens_sum_ratio 1\n",
      "access_VERB 1\n",
      "access_VERB_tokens_sum_ratio 1\n",
      "access_X 17\n",
      "access_X_tokens_sum_ratio 1\n",
      "interaction_. 1\n",
      "interaction_._tokens_sum_ratio 1\n",
      "interaction_ADJ 2\n",
      "interaction_ADJ_tokens_sum_ratio 1\n",
      "interaction_ADP 1\n",
      "interaction_ADP_tokens_sum_ratio 1\n",
      "interaction_ADV 4\n",
      "interaction_ADV_tokens_sum_ratio 1\n",
      "interaction_CONJ 1\n",
      "interaction_CONJ_tokens_sum_ratio 1\n",
      "interaction_DET 1\n",
      "interaction_DET_tokens_sum_ratio 1\n",
      "interaction_NOUN 3\n",
      "interaction_NOUN_tokens_sum_ratio 1\n",
      "interaction_NUM 7\n",
      "interaction_NUM_tokens_sum_ratio 1\n",
      "interaction_PRON 1\n",
      "interaction_PRON_tokens_sum_ratio 1\n",
      "interaction_PRT 1\n",
      "interaction_PRT_tokens_sum_ratio 1\n",
      "interaction_VERB 1\n",
      "interaction_VERB_tokens_sum_ratio 1\n",
      "interaction_X 1\n",
      "interaction_X_tokens_sum_ratio 1\n",
      "house_rules_. 1\n",
      "house_rules_._tokens_sum_ratio 1\n",
      "house_rules_ADJ 1\n",
      "house_rules_ADJ_tokens_sum_ratio 1\n",
      "house_rules_ADP 1\n",
      "house_rules_ADP_tokens_sum_ratio 1\n",
      "house_rules_ADV 11\n",
      "house_rules_ADV_tokens_sum_ratio 1\n",
      "house_rules_CONJ 1\n",
      "house_rules_CONJ_tokens_sum_ratio 1\n",
      "house_rules_DET 1\n",
      "house_rules_DET_tokens_sum_ratio 1\n",
      "house_rules_NOUN 10\n",
      "house_rules_NOUN_tokens_sum_ratio 1\n",
      "house_rules_NUM 1\n",
      "house_rules_NUM_tokens_sum_ratio 1\n",
      "house_rules_PRON 1\n",
      "house_rules_PRON_tokens_sum_ratio 1\n",
      "house_rules_PRT 1\n",
      "house_rules_PRT_tokens_sum_ratio 1\n",
      "house_rules_VERB 1\n",
      "house_rules_VERB_tokens_sum_ratio 1\n",
      "house_rules_X 1\n",
      "house_rules_X_tokens_sum_ratio 1\n",
      "space_KmeansCluster 1\n",
      "description_KmeansCluster 7\n",
      "neighborhood_overview_KmeansCluster 1\n",
      "notes_KmeansCluster 1\n",
      "transit_KmeansCluster 1\n",
      "access_KmeansCluster 15\n",
      "interaction_KmeansCluster 6\n",
      "house_rules_KmeansCluster 1\n",
      "has 1\n",
      "has\"Other pet(s)\" 1\n",
      "hasEssentials 11\n",
      "has\"Carbon Monoxide Detector\" 1\n",
      "has\"Elevator in Building\" 7\n",
      "has\"Indoor Fireplace\" 1\n",
      "has\"translation missing: en.hosting_amenity_50\" 1\n",
      "hasInternet 1\n",
      "hasWasher 1\n",
      "hasHangers 1\n",
      "has\"Buzzer/Wireless Intercom\" 1\n",
      "hasTV 1\n",
      "hasGym 1\n",
      "has\"Fire Extinguisher\" 1\n",
      "has\"Hot Tub\" 1\n",
      "hasDryer 1\n",
      "has\"Air Conditioning\" 6\n",
      "has\"Laptop Friendly Workspace\" 1\n",
      "has\"Suitable for Events\" 1\n",
      "hasKitchen 1\n",
      "has\"Family/Kid Friendly\" 1\n",
      "has\"translation missing: en.hosting_amenity_49\" 1\n",
      "hasShampoo 1\n",
      "hasHeating 1\n",
      "has\"Hair Dryer\" 1\n",
      "hasCat(s) 9\n",
      "has\"Smoke Detector\" 1\n",
      "hasIron 1\n",
      "has\"Free Parking on Premises\" 4\n",
      "has\"Pets live on this property\" 1\n",
      "has\"Safety Card\" 1\n",
      "has\"Smoking Allowed\" 1\n",
      "has\"Pets Allowed\" 5\n",
      "has\"Wheelchair Accessible\" 1\n",
      "has\"First Aid Kit\" 1\n",
      "hasDog(s) 1\n",
      "has\"Wireless Internet\" 1\n",
      "has\"Cable TV\" 14\n",
      "hasPool 1\n",
      "hasBreakfast 1\n",
      "hasDoorman 1\n",
      "has\"Lock on Bedroom Door\" 1\n",
      "has\"24-Hour Check-in\" 1\n",
      "distance from ocean 1\n"
     ]
    }
   ],
   "source": [
    "for i,k in zip(data_scaled.columns, selector2.ranking_):\n",
    "    print i,k"
   ]
  },
  {
   "cell_type": "code",
   "execution_count": 59,
   "metadata": {
    "collapsed": true
   },
   "outputs": [],
   "source": [
    "outputlist = [xs + ('price_y',) for xs in combos]"
   ]
  },
  {
   "cell_type": "code",
   "execution_count": 60,
   "metadata": {
    "collapsed": true
   },
   "outputs": [],
   "source": [
    "sparkDF = spark.createDataFrame(data_scaled[cands_051018_V1])"
   ]
  },
  {
   "cell_type": "code",
   "execution_count": 69,
   "metadata": {
    "collapsed": true
   },
   "outputs": [],
   "source": [
    "#Had loaded spark df from file - but prefer to do data manipulation in pandas and load ultimate df\n",
    "#df = spark.read.format('csv').options(header='true', inferSchema='true').load(\"listings_augmented_2018-05-06_V1.csv\")"
   ]
  },
  {
   "cell_type": "code",
   "execution_count": 62,
   "metadata": {},
   "outputs": [],
   "source": [
    "#sparkDF.printSchema()"
   ]
  },
  {
   "cell_type": "code",
   "execution_count": 43,
   "metadata": {},
   "outputs": [
    {
     "data": {
      "text/plain": [
       "u'2.3.0'"
      ]
     },
     "execution_count": 43,
     "metadata": {},
     "output_type": "execute_result"
    }
   ],
   "source": [
    "from pyspark.ml.regression import LinearRegression, RandomForestRegressor, GBTRegressor, DecisionTreeRegressor\n",
    "from pyspark.ml.linalg import Vectors\n",
    "from pyspark.sql import Row\n",
    "from pyspark.ml.evaluation import RegressionEvaluator\n",
    "spark.version"
   ]
  },
  {
   "cell_type": "code",
   "execution_count": 44,
   "metadata": {
    "collapsed": true
   },
   "outputs": [],
   "source": [
    "def split_data(data, train_size):\n",
    "    (trainingData, testData) = data.randomSplit([train_size, 1-train_size])\n",
    "    return trainingData, testData"
   ]
  },
  {
   "cell_type": "code",
   "execution_count": 45,
   "metadata": {
    "collapsed": true
   },
   "outputs": [],
   "source": [
    "def create_linear_regression(data):\n",
    "    lr = LinearRegression(maxIter=10, regParam=0, solver = 'normal', elasticNetParam=0, fitIntercept=True)\n",
    "    #lr.setFitIntercept(True)\n",
    "    lrModel = lr.fit(data)\n",
    "    return lrModel"
   ]
  },
  {
   "cell_type": "code",
   "execution_count": 46,
   "metadata": {
    "collapsed": true
   },
   "outputs": [],
   "source": [
    "def create_random_forest_regression(data):\n",
    "    rf = RandomForestRegressor()\n",
    "    rfModel = rf.fit(data)\n",
    "    featureImportances = rfModel.featureImportances\n",
    "    return rfModel,featureImportances"
   ]
  },
  {
   "cell_type": "code",
   "execution_count": 47,
   "metadata": {
    "collapsed": true
   },
   "outputs": [],
   "source": [
    "def create_decision_tree_regression(data):\n",
    "    dtr = DecisionTreeRegressor(maxDepth=2, varianceCol=\"variance\")\n",
    "    dtrModel = dtr.fit(data)\n",
    "    featureImportances = dtrModel.featureImportances\n",
    "    return dtrModel,featureImportances"
   ]
  },
  {
   "cell_type": "code",
   "execution_count": 48,
   "metadata": {
    "collapsed": true
   },
   "outputs": [],
   "source": [
    "def create_grad_boosted_regression(data):\n",
    "    gbt = GBTRegressor(maxIter=10)\n",
    "    gbtModel = gbt.fit(data)\n",
    "    return gbtModel "
   ]
  },
  {
   "cell_type": "code",
   "execution_count": 49,
   "metadata": {
    "collapsed": true
   },
   "outputs": [],
   "source": [
    "#Not sure if I'll do this one\n",
    "def create_non_linear_regression(data):\n",
    "    return nlrModel"
   ]
  },
  {
   "cell_type": "code",
   "execution_count": 50,
   "metadata": {
    "collapsed": true
   },
   "outputs": [],
   "source": [
    "def print_model_results(model, predictions):\n",
    "    # Print the coefficients and intercept for linear regression\n",
    "    print(\"\\n\")\n",
    "    print(\"Coefficients: %s\" % str(model.coefficients))\n",
    "    print(\"Intercept: %s\" % str(model.intercept))\n",
    "    # Summarize the model over the training set and print out some metrics\n",
    "    summary = model.summary\n",
    "    print(\"numIterations: %d\" % summary.totalIterations)\n",
    "    print(\"objectiveHistory: %s\" % str(summary.objectiveHistory))\n",
    "    summary.residuals.show()\n",
    "    print(\"Root Mean Squared Error (RMSE) on training data: %f\" % summary.rootMeanSquaredError)\n",
    "    print(\"r2: %f\" % summary.r2)\n",
    "    # Select (prediction, true label) and compute test error\n",
    "    evaluator = RegressionEvaluator(\n",
    "        labelCol=\"label\", predictionCol=\"prediction\", metricName=\"rmse\")\n",
    "    rmse = evaluator.evaluate(predictions)\n",
    "    print(\"Root Mean Squared Error (RMSE) on test data = %g\" % rmse)\n",
    "    print(\"\\n\")"
   ]
  },
  {
   "cell_type": "code",
   "execution_count": 64,
   "metadata": {
    "collapsed": true
   },
   "outputs": [],
   "source": [
    "def save_model_results(model, DTRfeatureImportances,RFRfeatureImportances, model_features, model_type, predictions):\n",
    "    \n",
    "    dictionary = dict()\n",
    "    \n",
    "    #model ID & features\n",
    "    model_features = list(model_features)\n",
    "    dictionary['model_id'] = '-'.join(model_features)\n",
    "    dictionary['model_type'] = str(model_type)\n",
    "    dictionary['features'] = model_features\n",
    "    dictionary['DTRfeatureImportances'] = DTRfeatureImportances\n",
    "    dictionary['RFRfeatureImportances'] = RFRfeatureImportances\n",
    "    \n",
    "    #Training Data Summary Metrics\n",
    "    summary = model.summary\n",
    "    \n",
    "    dictionary['coefficientStandardErrors'] = summary.coefficientStandardErrors\n",
    "    dictionary['degreesOfFreedom'] = summary.degreesOfFreedom\n",
    "    dictionary['devianceResiduals'] = summary.devianceResiduals\n",
    "    dictionary['explainedVariance'] = summary.explainedVariance\n",
    "    dictionary['meanAbsoluteError'] = summary.meanAbsoluteError\n",
    "    dictionary['meanSquaredError'] = summary.meanSquaredError\n",
    "    dictionary['pValues'] = summary.pValues\n",
    "    dictionary['r2'] = summary.r2\n",
    "    dictionary['residuals'] = summary.residuals\n",
    "    dictionary['rootMeanSquaredError'] = summary.rootMeanSquaredError\n",
    "    dictionary['tValues'] = summary.tValues\n",
    "    \n",
    "    #Test Data Metrics\n",
    "    evaluator = RegressionEvaluator(\n",
    "        labelCol=\"label\", predictionCol=\"prediction\")\n",
    "    rmse = evaluator.evaluate(predictions)\n",
    "    \n",
    "    r2_test = evaluator.evaluate(predictions, {evaluator.metricName: \"r2\"})\n",
    "    mae_test = evaluator.evaluate(predictions, {evaluator.metricName: \"mae\"})\n",
    "    rmse_test = evaluator.evaluate(predictions, {evaluator.metricName: \"rmse\"})\n",
    "    \n",
    "    dictionary['r2_test'] = r2_test\n",
    "    dictionary['mae_test'] = mae_test\n",
    "    dictionary['rmse_test'] = rmse_test\n",
    "    \n",
    "    return dictionary"
   ]
  },
  {
   "cell_type": "markdown",
   "metadata": {},
   "source": [
    "Modeling: linear regression, gradient boosted tree regression, random forest regression"
   ]
  },
  {
   "cell_type": "code",
   "execution_count": 52,
   "metadata": {
    "collapsed": true
   },
   "outputs": [],
   "source": [
    "def compute_linear_regression(outputlist):\n",
    "    \n",
    "    models_dict = []\n",
    "    \n",
    "    for i in outputlist:\n",
    "        #preparing data\n",
    "        new = sparkDF.select(list(i))\n",
    "        data = new.rdd.map(lambda x:(Vectors.dense(x[0:-1]), x[-1])).toDF([\"features\", \"label\"])\n",
    "        trainingData, testData = split_data(data, 0.72)\n",
    "        #modeling\n",
    "        lrModel = create_linear_regression(trainingData)\n",
    "        predictions = lrModel.transform(testData)\n",
    "        print 'Model Results for Features: ',i\n",
    "        print_model_results(lrModel, predictions)\n",
    "        \n",
    "        #feature importances with dec tree reg & random forest regressor\n",
    "        dtrModel, DTRfeatureImportances = create_decision_tree_regression(data)\n",
    "        rfModel, RFRfeatureImportances = create_random_forest_regression(data)\n",
    "        \n",
    "        #append model to dictionary \n",
    "        temp_dict = save_model_results(lrModel, DTRfeatureImportances, \n",
    "                                       RFRfeatureImportances, i, linear_regression, predictions)\n",
    "        models_dict.append(temp_dict)\n",
    "       \n",
    "        \n",
    "    return models_dict\n",
    "        #saving models\n",
    "        #enter code here"
   ]
  },
  {
   "cell_type": "code",
   "execution_count": null,
   "metadata": {
    "collapsed": true
   },
   "outputs": [],
   "source": []
  },
  {
   "cell_type": "code",
   "execution_count": 65,
   "metadata": {},
   "outputs": [
    {
     "name": "stdout",
     "output_type": "stream",
     "text": [
      "Model Results for Features:  ('availability_30', 'accommodates', 'calculated_host_listings_count', 'has\"Cable TV\"', 'bathrooms', 'bedrooms', 'beds', 'square_feet', 'weekly_price', 'monthly_price', 'security_deposit', 'cleaning_fee', 'price_y')\n",
      "\n",
      "\n",
      "Coefficients: [0.05909519276490275,0.5501016857980773,0.1098699645009644,0.05883505222222153,0.061517003607815084,0.17081896438683722,-0.08077029574213736,0.007403252627265706,0.0,0.0,0.0,0.0]\n",
      "Intercept: -0.000250498291327\n",
      "numIterations: 11\n",
      "objectiveHistory: [0.49999999999999994, 0.2501924365349412, 0.24779693684643056, 0.23749711701844817, 0.23473091778879535, 0.23394079578661103, 0.23362516213509305, 0.2334443777246507, 0.2334385925370715, 0.2334321622396155, 0.2334314600414894]\n",
      "+--------------------+\n",
      "|           residuals|\n",
      "+--------------------+\n",
      "| -0.0736933021354178|\n",
      "|-0.19520557181729103|\n",
      "|-0.18493812452241876|\n",
      "|-0.18493812452241876|\n",
      "|-0.13976135642498055|\n",
      "|-0.06172875698395097|\n",
      "| 0.08612248406221046|\n",
      "| 0.09228295243913387|\n",
      "|  0.1169248259468274|\n",
      "|-0.22420398429014765|\n",
      "| 0.11355039063595662|\n",
      "|-0.25153183393180856|\n",
      "|-0.14871616015955902|\n",
      "| -0.1333149892172505|\n",
      "|-0.02550679262109...|\n",
      "|0.011676034368196642|\n",
      "|-0.09134323533188093|\n",
      "| -0.1608583535897784|\n",
      "| -0.1608583535897784|\n",
      "|-0.09119767271225987|\n",
      "+--------------------+\n",
      "only showing top 20 rows\n",
      "\n",
      "Root Mean Squared Error (RMSE) on training data: 0.674096\n",
      "r2: 0.533137\n",
      "Root Mean Squared Error (RMSE) on test data = 0.718814\n",
      "\n",
      "\n"
     ]
    },
    {
     "ename": "Py4JJavaError",
     "evalue": "An error occurred while calling o703.pValues.\n: java.lang.UnsupportedOperationException: No p-value available for this LinearRegressionModel\n\tat org.apache.spark.ml.regression.LinearRegressionSummary.pValues$lzycompute(LinearRegression.scala:1012)\n\tat org.apache.spark.ml.regression.LinearRegressionSummary.pValues(LinearRegression.scala:1010)\n\tat sun.reflect.NativeMethodAccessorImpl.invoke0(Native Method)\n\tat sun.reflect.NativeMethodAccessorImpl.invoke(NativeMethodAccessorImpl.java:62)\n\tat sun.reflect.DelegatingMethodAccessorImpl.invoke(DelegatingMethodAccessorImpl.java:43)\n\tat java.lang.reflect.Method.invoke(Method.java:498)\n\tat py4j.reflection.MethodInvoker.invoke(MethodInvoker.java:244)\n\tat py4j.reflection.ReflectionEngine.invoke(ReflectionEngine.java:357)\n\tat py4j.Gateway.invoke(Gateway.java:282)\n\tat py4j.commands.AbstractCommand.invokeMethod(AbstractCommand.java:132)\n\tat py4j.commands.CallCommand.execute(CallCommand.java:79)\n\tat py4j.GatewayConnection.run(GatewayConnection.java:214)\n\tat java.lang.Thread.run(Thread.java:748)\n",
     "output_type": "error",
     "traceback": [
      "\u001b[0;31m---------------------------------------------------------------------------\u001b[0m",
      "\u001b[0;31mPy4JJavaError\u001b[0m                             Traceback (most recent call last)",
      "\u001b[0;32m<ipython-input-65-27b1bdf4b1f2>\u001b[0m in \u001b[0;36m<module>\u001b[0;34m()\u001b[0m\n\u001b[0;32m----> 1\u001b[0;31m \u001b[0mget_ipython\u001b[0m\u001b[0;34m(\u001b[0m\u001b[0;34m)\u001b[0m\u001b[0;34m.\u001b[0m\u001b[0mrun_cell_magic\u001b[0m\u001b[0;34m(\u001b[0m\u001b[0;34mu'time'\u001b[0m\u001b[0;34m,\u001b[0m \u001b[0;34mu''\u001b[0m\u001b[0;34m,\u001b[0m \u001b[0;34mu'dic = compute_linear_regression(outputlist)'\u001b[0m\u001b[0;34m)\u001b[0m\u001b[0;34m\u001b[0m\u001b[0m\n\u001b[0m",
      "\u001b[0;32m/Users/pauldefusco/anaconda2/envs/py27/lib/python2.7/site-packages/IPython/core/interactiveshell.pyc\u001b[0m in \u001b[0;36mrun_cell_magic\u001b[0;34m(self, magic_name, line, cell)\u001b[0m\n\u001b[1;32m   2115\u001b[0m             \u001b[0mmagic_arg_s\u001b[0m \u001b[0;34m=\u001b[0m \u001b[0mself\u001b[0m\u001b[0;34m.\u001b[0m\u001b[0mvar_expand\u001b[0m\u001b[0;34m(\u001b[0m\u001b[0mline\u001b[0m\u001b[0;34m,\u001b[0m \u001b[0mstack_depth\u001b[0m\u001b[0;34m)\u001b[0m\u001b[0;34m\u001b[0m\u001b[0m\n\u001b[1;32m   2116\u001b[0m             \u001b[0;32mwith\u001b[0m \u001b[0mself\u001b[0m\u001b[0;34m.\u001b[0m\u001b[0mbuiltin_trap\u001b[0m\u001b[0;34m:\u001b[0m\u001b[0;34m\u001b[0m\u001b[0m\n\u001b[0;32m-> 2117\u001b[0;31m                 \u001b[0mresult\u001b[0m \u001b[0;34m=\u001b[0m \u001b[0mfn\u001b[0m\u001b[0;34m(\u001b[0m\u001b[0mmagic_arg_s\u001b[0m\u001b[0;34m,\u001b[0m \u001b[0mcell\u001b[0m\u001b[0;34m)\u001b[0m\u001b[0;34m\u001b[0m\u001b[0m\n\u001b[0m\u001b[1;32m   2118\u001b[0m             \u001b[0;32mreturn\u001b[0m \u001b[0mresult\u001b[0m\u001b[0;34m\u001b[0m\u001b[0m\n\u001b[1;32m   2119\u001b[0m \u001b[0;34m\u001b[0m\u001b[0m\n",
      "\u001b[0;32m<decorator-gen-60>\u001b[0m in \u001b[0;36mtime\u001b[0;34m(self, line, cell, local_ns)\u001b[0m\n",
      "\u001b[0;32m/Users/pauldefusco/anaconda2/envs/py27/lib/python2.7/site-packages/IPython/core/magic.pyc\u001b[0m in \u001b[0;36m<lambda>\u001b[0;34m(f, *a, **k)\u001b[0m\n\u001b[1;32m    186\u001b[0m     \u001b[0;31m# but it's overkill for just that one bit of state.\u001b[0m\u001b[0;34m\u001b[0m\u001b[0;34m\u001b[0m\u001b[0m\n\u001b[1;32m    187\u001b[0m     \u001b[0;32mdef\u001b[0m \u001b[0mmagic_deco\u001b[0m\u001b[0;34m(\u001b[0m\u001b[0marg\u001b[0m\u001b[0;34m)\u001b[0m\u001b[0;34m:\u001b[0m\u001b[0;34m\u001b[0m\u001b[0m\n\u001b[0;32m--> 188\u001b[0;31m         \u001b[0mcall\u001b[0m \u001b[0;34m=\u001b[0m \u001b[0;32mlambda\u001b[0m \u001b[0mf\u001b[0m\u001b[0;34m,\u001b[0m \u001b[0;34m*\u001b[0m\u001b[0ma\u001b[0m\u001b[0;34m,\u001b[0m \u001b[0;34m**\u001b[0m\u001b[0mk\u001b[0m\u001b[0;34m:\u001b[0m \u001b[0mf\u001b[0m\u001b[0;34m(\u001b[0m\u001b[0;34m*\u001b[0m\u001b[0ma\u001b[0m\u001b[0;34m,\u001b[0m \u001b[0;34m**\u001b[0m\u001b[0mk\u001b[0m\u001b[0;34m)\u001b[0m\u001b[0;34m\u001b[0m\u001b[0m\n\u001b[0m\u001b[1;32m    189\u001b[0m \u001b[0;34m\u001b[0m\u001b[0m\n\u001b[1;32m    190\u001b[0m         \u001b[0;32mif\u001b[0m \u001b[0mcallable\u001b[0m\u001b[0;34m(\u001b[0m\u001b[0marg\u001b[0m\u001b[0;34m)\u001b[0m\u001b[0;34m:\u001b[0m\u001b[0;34m\u001b[0m\u001b[0m\n",
      "\u001b[0;32m/Users/pauldefusco/anaconda2/envs/py27/lib/python2.7/site-packages/IPython/core/magics/execution.pyc\u001b[0m in \u001b[0;36mtime\u001b[0;34m(self, line, cell, local_ns)\u001b[0m\n\u001b[1;32m   1183\u001b[0m         \u001b[0;32melse\u001b[0m\u001b[0;34m:\u001b[0m\u001b[0;34m\u001b[0m\u001b[0m\n\u001b[1;32m   1184\u001b[0m             \u001b[0mst\u001b[0m \u001b[0;34m=\u001b[0m \u001b[0mclock2\u001b[0m\u001b[0;34m(\u001b[0m\u001b[0;34m)\u001b[0m\u001b[0;34m\u001b[0m\u001b[0m\n\u001b[0;32m-> 1185\u001b[0;31m             \u001b[0;32mexec\u001b[0m\u001b[0;34m(\u001b[0m\u001b[0mcode\u001b[0m\u001b[0;34m,\u001b[0m \u001b[0mglob\u001b[0m\u001b[0;34m,\u001b[0m \u001b[0mlocal_ns\u001b[0m\u001b[0;34m)\u001b[0m\u001b[0;34m\u001b[0m\u001b[0m\n\u001b[0m\u001b[1;32m   1186\u001b[0m             \u001b[0mend\u001b[0m \u001b[0;34m=\u001b[0m \u001b[0mclock2\u001b[0m\u001b[0;34m(\u001b[0m\u001b[0;34m)\u001b[0m\u001b[0;34m\u001b[0m\u001b[0m\n\u001b[1;32m   1187\u001b[0m             \u001b[0mout\u001b[0m \u001b[0;34m=\u001b[0m \u001b[0mNone\u001b[0m\u001b[0;34m\u001b[0m\u001b[0m\n",
      "\u001b[0;32m<timed exec>\u001b[0m in \u001b[0;36m<module>\u001b[0;34m()\u001b[0m\n",
      "\u001b[0;32m<ipython-input-52-b8edc0061746>\u001b[0m in \u001b[0;36mcompute_linear_regression\u001b[0;34m(outputlist)\u001b[0m\n\u001b[1;32m     20\u001b[0m         \u001b[0;31m#append model to dictionary\u001b[0m\u001b[0;34m\u001b[0m\u001b[0;34m\u001b[0m\u001b[0m\n\u001b[1;32m     21\u001b[0m         temp_dict = save_model_results(lrModel, DTRfeatureImportances, \n\u001b[0;32m---> 22\u001b[0;31m                                        RFRfeatureImportances, i, linear_regression, predictions)\n\u001b[0m\u001b[1;32m     23\u001b[0m         \u001b[0mmodels_dict\u001b[0m\u001b[0;34m.\u001b[0m\u001b[0mappend\u001b[0m\u001b[0;34m(\u001b[0m\u001b[0mtemp_dict\u001b[0m\u001b[0;34m)\u001b[0m\u001b[0;34m\u001b[0m\u001b[0m\n\u001b[1;32m     24\u001b[0m \u001b[0;34m\u001b[0m\u001b[0m\n",
      "\u001b[0;32m<ipython-input-64-0286009a6071>\u001b[0m in \u001b[0;36msave_model_results\u001b[0;34m(model, DTRfeatureImportances, RFRfeatureImportances, model_features, model_type, predictions)\u001b[0m\n\u001b[1;32m     20\u001b[0m     \u001b[0mdictionary\u001b[0m\u001b[0;34m[\u001b[0m\u001b[0;34m'meanAbsoluteError'\u001b[0m\u001b[0;34m]\u001b[0m \u001b[0;34m=\u001b[0m \u001b[0msummary\u001b[0m\u001b[0;34m.\u001b[0m\u001b[0mmeanAbsoluteError\u001b[0m\u001b[0;34m\u001b[0m\u001b[0m\n\u001b[1;32m     21\u001b[0m     \u001b[0mdictionary\u001b[0m\u001b[0;34m[\u001b[0m\u001b[0;34m'meanSquaredError'\u001b[0m\u001b[0;34m]\u001b[0m \u001b[0;34m=\u001b[0m \u001b[0msummary\u001b[0m\u001b[0;34m.\u001b[0m\u001b[0mmeanSquaredError\u001b[0m\u001b[0;34m\u001b[0m\u001b[0m\n\u001b[0;32m---> 22\u001b[0;31m     \u001b[0mdictionary\u001b[0m\u001b[0;34m[\u001b[0m\u001b[0;34m'pValues'\u001b[0m\u001b[0;34m]\u001b[0m \u001b[0;34m=\u001b[0m \u001b[0msummary\u001b[0m\u001b[0;34m.\u001b[0m\u001b[0mpValues\u001b[0m\u001b[0;34m\u001b[0m\u001b[0m\n\u001b[0m\u001b[1;32m     23\u001b[0m     \u001b[0mdictionary\u001b[0m\u001b[0;34m[\u001b[0m\u001b[0;34m'r2'\u001b[0m\u001b[0;34m]\u001b[0m \u001b[0;34m=\u001b[0m \u001b[0msummary\u001b[0m\u001b[0;34m.\u001b[0m\u001b[0mr2\u001b[0m\u001b[0;34m\u001b[0m\u001b[0m\n\u001b[1;32m     24\u001b[0m     \u001b[0mdictionary\u001b[0m\u001b[0;34m[\u001b[0m\u001b[0;34m'residuals'\u001b[0m\u001b[0;34m]\u001b[0m \u001b[0;34m=\u001b[0m \u001b[0msummary\u001b[0m\u001b[0;34m.\u001b[0m\u001b[0mresiduals\u001b[0m\u001b[0;34m\u001b[0m\u001b[0m\n",
      "\u001b[0;32m/Users/pauldefusco/Documents/spark-2.3.0-bin-hadoop2.7/python/pyspark/ml/regression.pyc\u001b[0m in \u001b[0;36mpValues\u001b[0;34m(self)\u001b[0m\n\u001b[1;32m    420\u001b[0m         \u001b[0;34m.\u001b[0m\u001b[0;34m.\u001b[0m \u001b[0mseealso\u001b[0m\u001b[0;34m:\u001b[0m\u001b[0;34m:\u001b[0m \u001b[0;34m:\u001b[0m\u001b[0mpy\u001b[0m\u001b[0;34m:\u001b[0m\u001b[0mattr\u001b[0m\u001b[0;34m:\u001b[0m\u001b[0;34m`\u001b[0m\u001b[0mLinearRegression\u001b[0m\u001b[0;34m.\u001b[0m\u001b[0msolver\u001b[0m\u001b[0;34m`\u001b[0m\u001b[0;34m\u001b[0m\u001b[0m\n\u001b[1;32m    421\u001b[0m         \"\"\"\n\u001b[0;32m--> 422\u001b[0;31m         \u001b[0;32mreturn\u001b[0m \u001b[0mself\u001b[0m\u001b[0;34m.\u001b[0m\u001b[0m_call_java\u001b[0m\u001b[0;34m(\u001b[0m\u001b[0;34m\"pValues\"\u001b[0m\u001b[0;34m)\u001b[0m\u001b[0;34m\u001b[0m\u001b[0m\n\u001b[0m\u001b[1;32m    423\u001b[0m \u001b[0;34m\u001b[0m\u001b[0m\n\u001b[1;32m    424\u001b[0m \u001b[0;34m\u001b[0m\u001b[0m\n",
      "\u001b[0;32m/Users/pauldefusco/Documents/spark-2.3.0-bin-hadoop2.7/python/pyspark/ml/wrapper.pyc\u001b[0m in \u001b[0;36m_call_java\u001b[0;34m(self, name, *args)\u001b[0m\n\u001b[1;32m     49\u001b[0m         \u001b[0msc\u001b[0m \u001b[0;34m=\u001b[0m \u001b[0mSparkContext\u001b[0m\u001b[0;34m.\u001b[0m\u001b[0m_active_spark_context\u001b[0m\u001b[0;34m\u001b[0m\u001b[0m\n\u001b[1;32m     50\u001b[0m         \u001b[0mjava_args\u001b[0m \u001b[0;34m=\u001b[0m \u001b[0;34m[\u001b[0m\u001b[0m_py2java\u001b[0m\u001b[0;34m(\u001b[0m\u001b[0msc\u001b[0m\u001b[0;34m,\u001b[0m \u001b[0marg\u001b[0m\u001b[0;34m)\u001b[0m \u001b[0;32mfor\u001b[0m \u001b[0marg\u001b[0m \u001b[0;32min\u001b[0m \u001b[0margs\u001b[0m\u001b[0;34m]\u001b[0m\u001b[0;34m\u001b[0m\u001b[0m\n\u001b[0;32m---> 51\u001b[0;31m         \u001b[0;32mreturn\u001b[0m \u001b[0m_java2py\u001b[0m\u001b[0;34m(\u001b[0m\u001b[0msc\u001b[0m\u001b[0;34m,\u001b[0m \u001b[0mm\u001b[0m\u001b[0;34m(\u001b[0m\u001b[0;34m*\u001b[0m\u001b[0mjava_args\u001b[0m\u001b[0;34m)\u001b[0m\u001b[0;34m)\u001b[0m\u001b[0;34m\u001b[0m\u001b[0m\n\u001b[0m\u001b[1;32m     52\u001b[0m \u001b[0;34m\u001b[0m\u001b[0m\n\u001b[1;32m     53\u001b[0m     \u001b[0;34m@\u001b[0m\u001b[0mstaticmethod\u001b[0m\u001b[0;34m\u001b[0m\u001b[0m\n",
      "\u001b[0;32m/Users/pauldefusco/Documents/spark-2.3.0-bin-hadoop2.7/python/lib/py4j-0.10.6-src.zip/py4j/java_gateway.py\u001b[0m in \u001b[0;36m__call__\u001b[0;34m(self, *args)\u001b[0m\n\u001b[1;32m   1158\u001b[0m         \u001b[0manswer\u001b[0m \u001b[0;34m=\u001b[0m \u001b[0mself\u001b[0m\u001b[0;34m.\u001b[0m\u001b[0mgateway_client\u001b[0m\u001b[0;34m.\u001b[0m\u001b[0msend_command\u001b[0m\u001b[0;34m(\u001b[0m\u001b[0mcommand\u001b[0m\u001b[0;34m)\u001b[0m\u001b[0;34m\u001b[0m\u001b[0m\n\u001b[1;32m   1159\u001b[0m         return_value = get_return_value(\n\u001b[0;32m-> 1160\u001b[0;31m             answer, self.gateway_client, self.target_id, self.name)\n\u001b[0m\u001b[1;32m   1161\u001b[0m \u001b[0;34m\u001b[0m\u001b[0m\n\u001b[1;32m   1162\u001b[0m         \u001b[0;32mfor\u001b[0m \u001b[0mtemp_arg\u001b[0m \u001b[0;32min\u001b[0m \u001b[0mtemp_args\u001b[0m\u001b[0;34m:\u001b[0m\u001b[0;34m\u001b[0m\u001b[0m\n",
      "\u001b[0;32m/Users/pauldefusco/Documents/spark-2.3.0-bin-hadoop2.7/python/pyspark/sql/utils.pyc\u001b[0m in \u001b[0;36mdeco\u001b[0;34m(*a, **kw)\u001b[0m\n\u001b[1;32m     61\u001b[0m     \u001b[0;32mdef\u001b[0m \u001b[0mdeco\u001b[0m\u001b[0;34m(\u001b[0m\u001b[0;34m*\u001b[0m\u001b[0ma\u001b[0m\u001b[0;34m,\u001b[0m \u001b[0;34m**\u001b[0m\u001b[0mkw\u001b[0m\u001b[0;34m)\u001b[0m\u001b[0;34m:\u001b[0m\u001b[0;34m\u001b[0m\u001b[0m\n\u001b[1;32m     62\u001b[0m         \u001b[0;32mtry\u001b[0m\u001b[0;34m:\u001b[0m\u001b[0;34m\u001b[0m\u001b[0m\n\u001b[0;32m---> 63\u001b[0;31m             \u001b[0;32mreturn\u001b[0m \u001b[0mf\u001b[0m\u001b[0;34m(\u001b[0m\u001b[0;34m*\u001b[0m\u001b[0ma\u001b[0m\u001b[0;34m,\u001b[0m \u001b[0;34m**\u001b[0m\u001b[0mkw\u001b[0m\u001b[0;34m)\u001b[0m\u001b[0;34m\u001b[0m\u001b[0m\n\u001b[0m\u001b[1;32m     64\u001b[0m         \u001b[0;32mexcept\u001b[0m \u001b[0mpy4j\u001b[0m\u001b[0;34m.\u001b[0m\u001b[0mprotocol\u001b[0m\u001b[0;34m.\u001b[0m\u001b[0mPy4JJavaError\u001b[0m \u001b[0;32mas\u001b[0m \u001b[0me\u001b[0m\u001b[0;34m:\u001b[0m\u001b[0;34m\u001b[0m\u001b[0m\n\u001b[1;32m     65\u001b[0m             \u001b[0ms\u001b[0m \u001b[0;34m=\u001b[0m \u001b[0me\u001b[0m\u001b[0;34m.\u001b[0m\u001b[0mjava_exception\u001b[0m\u001b[0;34m.\u001b[0m\u001b[0mtoString\u001b[0m\u001b[0;34m(\u001b[0m\u001b[0;34m)\u001b[0m\u001b[0;34m\u001b[0m\u001b[0m\n",
      "\u001b[0;32m/Users/pauldefusco/Documents/spark-2.3.0-bin-hadoop2.7/python/lib/py4j-0.10.6-src.zip/py4j/protocol.py\u001b[0m in \u001b[0;36mget_return_value\u001b[0;34m(answer, gateway_client, target_id, name)\u001b[0m\n\u001b[1;32m    318\u001b[0m                 raise Py4JJavaError(\n\u001b[1;32m    319\u001b[0m                     \u001b[0;34m\"An error occurred while calling {0}{1}{2}.\\n\"\u001b[0m\u001b[0;34m.\u001b[0m\u001b[0;34m\u001b[0m\u001b[0m\n\u001b[0;32m--> 320\u001b[0;31m                     format(target_id, \".\", name), value)\n\u001b[0m\u001b[1;32m    321\u001b[0m             \u001b[0;32melse\u001b[0m\u001b[0;34m:\u001b[0m\u001b[0;34m\u001b[0m\u001b[0m\n\u001b[1;32m    322\u001b[0m                 raise Py4JError(\n",
      "\u001b[0;31mPy4JJavaError\u001b[0m: An error occurred while calling o703.pValues.\n: java.lang.UnsupportedOperationException: No p-value available for this LinearRegressionModel\n\tat org.apache.spark.ml.regression.LinearRegressionSummary.pValues$lzycompute(LinearRegression.scala:1012)\n\tat org.apache.spark.ml.regression.LinearRegressionSummary.pValues(LinearRegression.scala:1010)\n\tat sun.reflect.NativeMethodAccessorImpl.invoke0(Native Method)\n\tat sun.reflect.NativeMethodAccessorImpl.invoke(NativeMethodAccessorImpl.java:62)\n\tat sun.reflect.DelegatingMethodAccessorImpl.invoke(DelegatingMethodAccessorImpl.java:43)\n\tat java.lang.reflect.Method.invoke(Method.java:498)\n\tat py4j.reflection.MethodInvoker.invoke(MethodInvoker.java:244)\n\tat py4j.reflection.ReflectionEngine.invoke(ReflectionEngine.java:357)\n\tat py4j.Gateway.invoke(Gateway.java:282)\n\tat py4j.commands.AbstractCommand.invokeMethod(AbstractCommand.java:132)\n\tat py4j.commands.CallCommand.execute(CallCommand.java:79)\n\tat py4j.GatewayConnection.run(GatewayConnection.java:214)\n\tat java.lang.Thread.run(Thread.java:748)\n"
     ]
    }
   ],
   "source": [
    "%%time\n",
    "dic = compute_linear_regression(outputlist)"
   ]
  },
  {
   "cell_type": "code",
   "execution_count": null,
   "metadata": {
    "collapsed": true
   },
   "outputs": [],
   "source": []
  },
  {
   "cell_type": "code",
   "execution_count": null,
   "metadata": {
    "collapsed": true
   },
   "outputs": [],
   "source": []
  },
  {
   "cell_type": "code",
   "execution_count": 32,
   "metadata": {
    "collapsed": true
   },
   "outputs": [],
   "source": [
    "def compute_random_forest_regression(outputlist):\n",
    "    \n",
    "    models_dict= []\n",
    "    \n",
    "    for i in outputlist:\n",
    "        #preparing data\n",
    "        new = sparkDF.select(list(i))\n",
    "        data = new.rdd.map(lambda x:(Vectors.dense(x[0:-1]), x[-1])).toDF([\"features\", \"label\"])\n",
    "        trainingData, testData = split_data(data, 0.72)\n",
    "        #modeling\n",
    "        rfModel = create_linear_regression(trainingData)\n",
    "        predictions = rfModel.transform(testData)\n",
    "        print 'Model Results for Features: ',i\n",
    "        print_model_results(rfModel, predictions)\n",
    "        temp_dict = save_model_results(lrModel, i, linear_regression, predictions)\n",
    "        models_dict.append(temp_dict)"
   ]
  },
  {
   "cell_type": "code",
   "execution_count": 33,
   "metadata": {},
   "outputs": [
    {
     "name": "stdout",
     "output_type": "stream",
     "text": [
      "Model Results for Features:  ('accommodates', 'calculated_host_listings_count', 'price_y')\n",
      "\n",
      "\n",
      "Coefficients: [0.6511541609091435,0.11866271008090529]\n",
      "Intercept: -0.0116860704607\n",
      "numIterations: 1\n",
      "objectiveHistory: [0.0]\n",
      "+--------------------+\n",
      "|           residuals|\n",
      "+--------------------+\n",
      "|-0.23565605668194567|\n",
      "|-0.31222837605737275|\n",
      "|   -0.28347952363173|\n",
      "| -0.2826581278481404|\n",
      "| -0.2814260341727557|\n",
      "|-0.26910509741890887|\n",
      "| -0.2608911395830109|\n",
      "|-0.25147931289604464|\n",
      "|-0.25062369228813863|\n",
      "|-0.25062369228813863|\n",
      "|-0.25062369228813863|\n",
      "|-0.25062369228813863|\n",
      "| -0.2445487859720059|\n",
      "| -0.2437787274248906|\n",
      "|-0.22844600613121457|\n",
      "|-0.22803530823941975|\n",
      "|-0.22064274618711144|\n",
      "| -0.2198213504035218|\n",
      "| -0.2198213504035218|\n",
      "| -0.2198213504035218|\n",
      "+--------------------+\n",
      "only showing top 20 rows\n",
      "\n",
      "Root Mean Squared Error (RMSE) on training data: 0.695583\n",
      "r2: 0.499216\n",
      "Root Mean Squared Error (RMSE) on test data = 0.727469\n",
      "\n",
      "\n",
      "Model Results for Features:  ('accommodates', 'has\"Cable TV\"', 'price_y')\n",
      "\n",
      "\n",
      "Coefficients: [0.6944202554155909,0.0727819409467421]\n",
      "Intercept: 0.00867683353768\n",
      "numIterations: 1\n",
      "objectiveHistory: [0.0]\n",
      "+--------------------+\n",
      "|           residuals|\n",
      "+--------------------+\n",
      "|-0.24452727774758043|\n",
      "|-0.26366013536811617|\n",
      "| -0.2528326454935236|\n",
      "| -0.2528326454935236|\n",
      "| -0.2528326454935236|\n",
      "| -0.2528326454935236|\n",
      "| -0.2528326454935236|\n",
      "| -0.2528326454935236|\n",
      "| -0.2528326454935236|\n",
      "| -0.2528326454935236|\n",
      "| -0.2528326454935236|\n",
      "| -0.2528326454935236|\n",
      "| -0.2528326454935236|\n",
      "| -0.2528326454935236|\n",
      "| -0.2528326454935236|\n",
      "| -0.2528326454935236|\n",
      "| -0.2528326454935236|\n",
      "| -0.2528326454935236|\n",
      "| -0.2528326454935236|\n",
      "| -0.2528326454935236|\n",
      "+--------------------+\n",
      "only showing top 20 rows\n",
      "\n",
      "Root Mean Squared Error (RMSE) on training data: 0.712956\n",
      "r2: 0.499236\n",
      "Root Mean Squared Error (RMSE) on test data = 0.703096\n",
      "\n",
      "\n",
      "Model Results for Features:  ('accommodates', 'distance from ocean', 'price_y')\n",
      "\n",
      "\n",
      "Coefficients: [0.6748878514113769,-0.09069284926488456]\n",
      "Intercept: 0.000581920873463\n",
      "numIterations: 1\n",
      "objectiveHistory: [0.0]\n",
      "+--------------------+\n",
      "|           residuals|\n",
      "+--------------------+\n",
      "| -0.2652728654186227|\n",
      "| -0.4508296910065964|\n",
      "|-0.40240156459911514|\n",
      "|-0.33994126022197535|\n",
      "|-0.33994126022197535|\n",
      "| -0.3300845108188979|\n",
      "| -0.3091389183373583|\n",
      "| -0.3091389183373583|\n",
      "| -0.2607567032795698|\n",
      "| -0.2475342345681244|\n",
      "| -0.1859295507988905|\n",
      "| 0.17489788270662265|\n",
      "| -0.4100356987866517|\n",
      "|-0.40196841876925216|\n",
      "|  -0.385447162667503|\n",
      "|-0.27070305412249973|\n",
      "|-0.24795670934616731|\n",
      "|-0.24643471127657446|\n",
      "|-0.23661584710683103|\n",
      "|-0.22331483583847378|\n",
      "+--------------------+\n",
      "only showing top 20 rows\n",
      "\n",
      "Root Mean Squared Error (RMSE) on training data: 0.721801\n",
      "r2: 0.490165\n",
      "Root Mean Squared Error (RMSE) on test data = 0.67875\n",
      "\n",
      "\n",
      "Model Results for Features:  ('calculated_host_listings_count', 'has\"Cable TV\"', 'price_y')\n",
      "\n",
      "\n",
      "Coefficients: [0.24816609813503138,0.22923307320046515]\n",
      "Intercept: -0.00744882953059\n",
      "numIterations: 1\n",
      "objectiveHistory: [0.0]\n",
      "+-------------------+\n",
      "|          residuals|\n",
      "+-------------------+\n",
      "|-0.7664652312064675|\n",
      "|-0.7664652312064675|\n",
      "|-0.7523841606306425|\n",
      "|-0.7384008752671498|\n",
      "|-0.7368949829972351|\n",
      "|-0.7356628893218504|\n",
      "|-0.7356628893218504|\n",
      "|-0.7356628893218504|\n",
      "|-0.7356628893218504|\n",
      "|-0.7356628893218504|\n",
      "|-0.7322404068902264|\n",
      "|-0.7279623038506962|\n",
      "|-0.7264221867564653|\n",
      "|-0.7235084517133259|\n",
      "|-0.7234758757935889|\n",
      "|-0.7233419525680036|\n",
      "|-0.7227169775152724|\n",
      "|-0.7159069045268893|\n",
      "|-0.7151279947321056|\n",
      "|-0.7075300837339003|\n",
      "+-------------------+\n",
      "only showing top 20 rows\n",
      "\n",
      "Root Mean Squared Error (RMSE) on training data: 0.909805\n",
      "r2: 0.141471\n",
      "Root Mean Squared Error (RMSE) on test data = 0.964845\n",
      "\n",
      "\n",
      "Model Results for Features:  ('calculated_host_listings_count', 'distance from ocean', 'price_y')\n",
      "\n",
      "\n",
      "Coefficients: [0.28347364815799186,-0.15186239037607233]\n",
      "Intercept: 0.0214871303349\n",
      "numIterations: 1\n",
      "objectiveHistory: [0.0]\n",
      "+-------------------+\n",
      "|          residuals|\n",
      "+-------------------+\n",
      "|-1.1575202032966065|\n",
      "|-1.1548236245726464|\n",
      "|-1.1300961890041623|\n",
      "|-1.1251377632373702|\n",
      "|-1.1026110223994272|\n",
      "|-1.0992938471195455|\n",
      "|-1.0992938471195455|\n",
      "|-1.0957735794755892|\n",
      "| -1.084172697467097|\n",
      "|-1.0746519736118518|\n",
      "| -1.070031622329159|\n",
      "|-1.0684915052349284|\n",
      "|-1.0684915052349284|\n",
      "|-1.0505701426838785|\n",
      "|-1.0451154813937258|\n",
      "| -1.031528694973388|\n",
      "|-1.0116643275539206|\n",
      "|-1.0068868214656943|\n",
      "|-1.0068868214656943|\n",
      "|-1.0068868214656943|\n",
      "+-------------------+\n",
      "only showing top 20 rows\n",
      "\n",
      "Root Mean Squared Error (RMSE) on training data: 0.962888\n",
      "r2: 0.112127\n",
      "Root Mean Squared Error (RMSE) on test data = 0.87582\n",
      "\n",
      "\n",
      "Model Results for Features:  ('has\"Cable TV\"', 'distance from ocean', 'price_y')\n",
      "\n",
      "\n",
      "Coefficients: [0.24082116885059748,-0.149989378731328]\n",
      "Intercept: -0.0129646559961\n",
      "numIterations: 1\n",
      "objectiveHistory: [0.0]\n",
      "+-------------------+\n",
      "|          residuals|\n",
      "+-------------------+\n",
      "|-1.0301029392679577|\n",
      "|-0.9747442859364377|\n",
      "|-0.9620863394329464|\n",
      "|-0.9490157742567036|\n",
      "|-0.9225316837632185|\n",
      "|-0.9040933588308884|\n",
      "|-0.8955627102505056|\n",
      "| -0.894572634975643|\n",
      "|-0.8884121665987196|\n",
      "|-0.8884121665987196|\n",
      "|-0.8650361427575171|\n",
      "|-0.8576098247141026|\n",
      "|-0.8514493563371792|\n",
      "|-0.8400299515409311|\n",
      "|-0.8315849889177119|\n",
      "|-0.8268074828294857|\n",
      "|-0.8166867133531116|\n",
      "|-0.8137164875285234|\n",
      "|-0.8083260776987155|\n",
      "|-0.7898446725679453|\n",
      "+-------------------+\n",
      "only showing top 20 rows\n",
      "\n",
      "Root Mean Squared Error (RMSE) on training data: 0.942939\n",
      "r2: 0.094915\n",
      "Root Mean Squared Error (RMSE) on test data = 0.952027\n",
      "\n",
      "\n",
      "Model Results for Features:  ('accommodates', 'calculated_host_listings_count', 'has\"Cable TV\"', 'price_y')\n",
      "\n",
      "\n",
      "Coefficients: [0.6334298115566134,0.1197388748546254,0.06338272063866897]\n",
      "Intercept: -0.00106149984283\n",
      "numIterations: 1\n",
      "objectiveHistory: [0.0]\n",
      "+--------------------+\n",
      "|           residuals|\n",
      "+--------------------+\n",
      "| -0.2719762959987102|\n",
      "|-0.27648526898757086|\n",
      "| -0.2456829271029538|\n",
      "| -0.2422604446713298|\n",
      "|-0.23336199034910698|\n",
      "| -0.2327370152963758|\n",
      "| -0.2259269423079927|\n",
      "|-0.22514803251320903|\n",
      "|-0.21573620582624276|\n",
      "|-0.21488058521833675|\n",
      "|-0.21488058521833675|\n",
      "|-0.21488058521833675|\n",
      "|-0.21488058521833675|\n",
      "|-0.19229220116961787|\n",
      "|-0.18407824333371992|\n",
      "|-0.18307716722246992|\n",
      "|-0.18168250563158306|\n",
      "|   -0.17669922077235|\n",
      "|-0.16970381712089855|\n",
      "|-0.15327590144910297|\n",
      "+--------------------+\n",
      "only showing top 20 rows\n",
      "\n",
      "Root Mean Squared Error (RMSE) on training data: 0.709333\n",
      "r2: 0.492707\n",
      "Root Mean Squared Error (RMSE) on test data = 0.681482\n",
      "\n",
      "\n",
      "Model Results for Features:  ('accommodates', 'calculated_host_listings_count', 'distance from ocean', 'price_y')\n",
      "\n",
      "\n",
      "Coefficients: [0.6740877937744075,0.10242206071207521,-0.06087477643169399]\n",
      "Intercept: -0.000590039335962\n",
      "numIterations: 1\n",
      "objectiveHistory: [0.0]\n",
      "+--------------------+\n",
      "|           residuals|\n",
      "+--------------------+\n",
      "| -0.2200601898013923|\n",
      "|-0.29092849640661744|\n",
      "| -0.2611272306332505|\n",
      "| -0.2611272306332505|\n",
      "|-0.23032488874863344|\n",
      "|-0.16872020497939955|\n",
      "|-0.10711552121016565|\n",
      "|-0.01470849555631...|\n",
      "| 0.20090789763600403|\n",
      "|-0.33314270796628653|\n",
      "|-0.14832865665858475|\n",
      "|-0.11664624786297872|\n",
      "| 0.15969476218758494|\n",
      "|  0.2737866365282063|\n",
      "|  1.1101670260557657|\n",
      "| -0.2819488177608547|\n",
      "| -0.1914276497734091|\n",
      "| -0.1775142109901534|\n",
      "| -0.1587394502223869|\n",
      "|-0.12793710833776994|\n",
      "+--------------------+\n",
      "only showing top 20 rows\n",
      "\n",
      "Root Mean Squared Error (RMSE) on training data: 0.697005\n",
      "r2: 0.515031\n",
      "Root Mean Squared Error (RMSE) on test data = 0.713464\n",
      "\n",
      "\n",
      "Model Results for Features:  ('accommodates', 'has\"Cable TV\"', 'distance from ocean', 'price_y')\n",
      "\n",
      "\n",
      "Coefficients: [0.6622391224682047,0.07788387219313597,-0.07087124372393315]\n",
      "Intercept: -0.00194519289754\n",
      "numIterations: 1\n",
      "objectiveHistory: [0.0]\n",
      "+--------------------+\n",
      "|           residuals|\n",
      "+--------------------+\n",
      "| -0.2814221865220735|\n",
      "| -0.3551590630974931|\n",
      "|-0.30673093669001184|\n",
      "|-0.28714246326248183|\n",
      "|  -0.274071898086239|\n",
      "|-0.24427063231287205|\n",
      "|-0.24427063231287205|\n",
      "|  -0.213468290428255|\n",
      "| -0.1650860753704665|\n",
      "|-0.09025892288978721|\n",
      "|0.002148102764063742|\n",
      "| 0.09455512841791469|\n",
      "| 0.21776449595638248|\n",
      "| 0.27056851061572595|\n",
      "| -0.3210048197337594|\n",
      "|-0.31293753971635985|\n",
      "|-0.18167217506960742|\n",
      "|  -0.158925830293275|\n",
      "|-0.14758496805393873|\n",
      "|-0.09644107961305204|\n",
      "+--------------------+\n",
      "only showing top 20 rows\n",
      "\n",
      "Root Mean Squared Error (RMSE) on training data: 0.711482\n",
      "r2: 0.504121\n"
     ]
    },
    {
     "name": "stdout",
     "output_type": "stream",
     "text": [
      "Root Mean Squared Error (RMSE) on test data = 0.692453\n",
      "\n",
      "\n",
      "Model Results for Features:  ('calculated_host_listings_count', 'has\"Cable TV\"', 'distance from ocean', 'price_y')\n",
      "\n",
      "\n",
      "Coefficients: [0.2394855195386699,0.1881375477866578,-0.12508651189448355]\n",
      "Intercept: 0.00145044729136\n",
      "numIterations: 1\n",
      "objectiveHistory: [0.0]\n",
      "+-------------------+\n",
      "|          residuals|\n",
      "+-------------------+\n",
      "|-1.1569054376902144|\n",
      "|-0.9268378286986082|\n",
      "|-0.8941787900948354|\n",
      "|-0.8676946996013503|\n",
      "|-0.8643775243214684|\n",
      "|-0.8643775243214684|\n",
      "|-0.8492563746690202|\n",
      "|-0.8397356508137748|\n",
      "|-0.8351152995310822|\n",
      "|-0.8335751824368514|\n",
      "|-0.8335751824368514|\n",
      "|-0.8335751824368514|\n",
      "|-0.8156538198858015|\n",
      "| -0.796612372175311|\n",
      "|-0.7767480047558437|\n",
      "|-0.7719704986676175|\n",
      "|-0.7625795407759659|\n",
      "|-0.7588795033666552|\n",
      "|-0.7588331142975518|\n",
      "|-0.7473286251599239|\n",
      "+-------------------+\n",
      "only showing top 20 rows\n",
      "\n",
      "Root Mean Squared Error (RMSE) on training data: 0.922296\n",
      "r2: 0.150641\n",
      "Root Mean Squared Error (RMSE) on test data = 0.904847\n",
      "\n",
      "\n",
      "Model Results for Features:  ('accommodates', 'calculated_host_listings_count', 'has\"Cable TV\"', 'distance from ocean', 'price_y')\n",
      "\n",
      "\n",
      "Coefficients: [0.6209074528649237,0.11851055124905605,0.07636468374718063,-0.055112283051578496]\n",
      "Intercept: -0.00647737351992\n",
      "numIterations: 1\n",
      "objectiveHistory: [0.0]\n",
      "+--------------------+\n",
      "|           residuals|\n",
      "+--------------------+\n",
      "|-0.28559260288531096|\n",
      "| -0.2846349208505461|\n",
      "|-0.27770439392650736|\n",
      "|-0.25197588224677325|\n",
      "| -0.2221746164734063|\n",
      "| -0.2221746164734063|\n",
      "|-0.19137227458878925|\n",
      "|-0.06816290705032146|\n",
      "|0.024244118603529485|\n",
      "| 0.23986051179584822|\n",
      "|-0.29612038692777887|\n",
      "|-0.11746680399700049|\n",
      "|-0.11130633562007708|\n",
      "|-0.07962392682447106|\n",
      "|0.025592961644887224|\n",
      "|  0.1351123994568587|\n",
      "|  0.1967170832260926|\n",
      "| 0.31080895756671395|\n",
      "| -0.2160544479590667|\n",
      "|-0.11748695392829234|\n",
      "+--------------------+\n",
      "only showing top 20 rows\n",
      "\n",
      "Root Mean Squared Error (RMSE) on training data: 0.690654\n",
      "r2: 0.506556\n",
      "Root Mean Squared Error (RMSE) on test data = 0.721769\n",
      "\n",
      "\n"
     ]
    }
   ],
   "source": [
    "compute_random_forest_regression(outputlist)"
   ]
  },
  {
   "cell_type": "code",
   "execution_count": 34,
   "metadata": {
    "collapsed": true
   },
   "outputs": [],
   "source": [
    "#Will see if going to do this, I need to edit the model evalaution method or create a new one\n",
    "def compute_grad_boosted_regression(outputlist):\n",
    "    for i in outputlist:\n",
    "        #preparing data\n",
    "        new = sparkDF.select(list(i))\n",
    "        data = new.rdd.map(lambda x:(Vectors.dense(x[0:-1]), x[-1])).toDF([\"features\", \"label\"])\n",
    "        trainingData, testData = split_data(data, 0.72)\n",
    "        #modeling\n",
    "        gbtModel = create_grad_boosted_regression(trainingData)\n",
    "        predictions = gbtModel.transform(testData)\n",
    "        print 'Model Results for Features: ',i\n",
    "        #Model results will probably have to change\n",
    "        print_model_results(gbtModel, predictions)"
   ]
  },
  {
   "cell_type": "code",
   "execution_count": 35,
   "metadata": {
    "collapsed": true
   },
   "outputs": [],
   "source": [
    "#compute_grad_boosted_regression(outputlist)"
   ]
  },
  {
   "cell_type": "code",
   "execution_count": null,
   "metadata": {
    "collapsed": true
   },
   "outputs": [],
   "source": []
  },
  {
   "cell_type": "code",
   "execution_count": 36,
   "metadata": {
    "collapsed": true
   },
   "outputs": [],
   "source": [
    "#Additional Modeling Techniques:\n",
    "#Do lasso lars and or ridge for feature selection by just modifying lienar model parameter (see docs)"
   ]
  },
  {
   "cell_type": "code",
   "execution_count": null,
   "metadata": {
    "collapsed": true
   },
   "outputs": [],
   "source": []
  },
  {
   "cell_type": "code",
   "execution_count": null,
   "metadata": {
    "collapsed": true
   },
   "outputs": [],
   "source": []
  },
  {
   "cell_type": "code",
   "execution_count": null,
   "metadata": {
    "collapsed": true
   },
   "outputs": [],
   "source": []
  },
  {
   "cell_type": "code",
   "execution_count": null,
   "metadata": {
    "collapsed": true
   },
   "outputs": [],
   "source": []
  },
  {
   "cell_type": "code",
   "execution_count": 38,
   "metadata": {
    "collapsed": true
   },
   "outputs": [],
   "source": [
    "#Plot Results of all models to see what works and what doesnt"
   ]
  },
  {
   "cell_type": "code",
   "execution_count": 82,
   "metadata": {
    "collapsed": true
   },
   "outputs": [],
   "source": [
    "models_df = pd.DataFrame.from_dict(dic)"
   ]
  },
  {
   "cell_type": "code",
   "execution_count": 85,
   "metadata": {},
   "outputs": [
    {
     "data": {
      "text/plain": [
       "502"
      ]
     },
     "execution_count": 85,
     "metadata": {},
     "output_type": "execute_result"
    }
   ],
   "source": [
    "len(models_df)"
   ]
  },
  {
   "cell_type": "code",
   "execution_count": 86,
   "metadata": {},
   "outputs": [
    {
     "data": {
      "text/plain": [
       "Index([u'DTRfeatureImportances', u'RFRfeatureImportances',\n",
       "       u'coefficientStandardErrors', u'degreesOfFreedom', u'devianceResiduals',\n",
       "       u'explainedVariance', u'features', u'mae_test', u'meanAbsoluteError',\n",
       "       u'meanSquaredError', u'model_id', u'model_type', u'pValues', u'r2',\n",
       "       u'r2_test', u'residuals', u'rmse_test', u'rootMeanSquaredError',\n",
       "       u'tValues'],\n",
       "      dtype='object')"
      ]
     },
     "execution_count": 86,
     "metadata": {},
     "output_type": "execute_result"
    }
   ],
   "source": [
    "models_df.columns"
   ]
  },
  {
   "cell_type": "code",
   "execution_count": 93,
   "metadata": {
    "collapsed": true
   },
   "outputs": [],
   "source": [
    "import seaborn as sb\n",
    "import matplotlib.pyplot as plt\n",
    "%matplotlib inline"
   ]
  },
  {
   "cell_type": "code",
   "execution_count": 106,
   "metadata": {
    "collapsed": true
   },
   "outputs": [],
   "source": [
    "#Some basic data transformations on models_df to better visualize things\n",
    "models_df['numOfFeatures'] = models_df['features'].apply(lambda x: len(x)-1)"
   ]
  },
  {
   "cell_type": "code",
   "execution_count": 97,
   "metadata": {},
   "outputs": [
    {
     "data": {
      "text/plain": [
       "0               [availability_30, accommodates, price_y]\n",
       "1      [availability_30, calculated_host_listings_cou...\n",
       "2              [availability_30, has\"Cable TV\", price_y]\n",
       "3        [availability_30, distance from ocean, price_y]\n",
       "4      [availability_30, has\"Indoor Fireplace\", price_y]\n",
       "5                   [availability_30, hasDryer, price_y]\n",
       "6               [availability_30, has\"Hot Tub\", price_y]\n",
       "7                 [availability_30, hasDoorman, price_y]\n",
       "8      [accommodates, calculated_host_listings_count,...\n",
       "9                 [accommodates, has\"Cable TV\", price_y]\n",
       "10          [accommodates, distance from ocean, price_y]\n",
       "11        [accommodates, has\"Indoor Fireplace\", price_y]\n",
       "12                     [accommodates, hasDryer, price_y]\n",
       "13                 [accommodates, has\"Hot Tub\", price_y]\n",
       "14                   [accommodates, hasDoorman, price_y]\n",
       "15     [calculated_host_listings_count, has\"Cable TV\"...\n",
       "16     [calculated_host_listings_count, distance from...\n",
       "17     [calculated_host_listings_count, has\"Indoor Fi...\n",
       "18     [calculated_host_listings_count, hasDryer, pri...\n",
       "19     [calculated_host_listings_count, has\"Hot Tub\",...\n",
       "20     [calculated_host_listings_count, hasDoorman, p...\n",
       "21         [has\"Cable TV\", distance from ocean, price_y]\n",
       "22       [has\"Cable TV\", has\"Indoor Fireplace\", price_y]\n",
       "23                    [has\"Cable TV\", hasDryer, price_y]\n",
       "24                [has\"Cable TV\", has\"Hot Tub\", price_y]\n",
       "25                  [has\"Cable TV\", hasDoorman, price_y]\n",
       "26     [distance from ocean, has\"Indoor Fireplace\", p...\n",
       "27              [distance from ocean, hasDryer, price_y]\n",
       "28          [distance from ocean, has\"Hot Tub\", price_y]\n",
       "29            [distance from ocean, hasDoorman, price_y]\n",
       "                             ...                        \n",
       "472    [availability_30, accommodates, has\"Cable TV\",...\n",
       "473    [availability_30, accommodates, has\"Cable TV\",...\n",
       "474    [availability_30, accommodates, has\"Cable TV\",...\n",
       "475    [availability_30, accommodates, has\"Cable TV\",...\n",
       "476    [availability_30, accommodates, distance from ...\n",
       "477    [availability_30, calculated_host_listings_cou...\n",
       "478    [availability_30, calculated_host_listings_cou...\n",
       "479    [availability_30, calculated_host_listings_cou...\n",
       "480    [availability_30, calculated_host_listings_cou...\n",
       "481    [availability_30, calculated_host_listings_cou...\n",
       "482    [availability_30, calculated_host_listings_cou...\n",
       "483    [availability_30, has\"Cable TV\", distance from...\n",
       "484    [accommodates, calculated_host_listings_count,...\n",
       "485    [accommodates, calculated_host_listings_count,...\n",
       "486    [accommodates, calculated_host_listings_count,...\n",
       "487    [accommodates, calculated_host_listings_count,...\n",
       "488    [accommodates, calculated_host_listings_count,...\n",
       "489    [accommodates, calculated_host_listings_count,...\n",
       "490    [accommodates, has\"Cable TV\", distance from oc...\n",
       "491    [calculated_host_listings_count, has\"Cable TV\"...\n",
       "492    [availability_30, accommodates, calculated_hos...\n",
       "493    [availability_30, accommodates, calculated_hos...\n",
       "494    [availability_30, accommodates, calculated_hos...\n",
       "495    [availability_30, accommodates, calculated_hos...\n",
       "496    [availability_30, accommodates, calculated_hos...\n",
       "497    [availability_30, accommodates, calculated_hos...\n",
       "498    [availability_30, accommodates, has\"Cable TV\",...\n",
       "499    [availability_30, calculated_host_listings_cou...\n",
       "500    [accommodates, calculated_host_listings_count,...\n",
       "501    [availability_30, accommodates, calculated_hos...\n",
       "Name: features, Length: 502, dtype: object"
      ]
     },
     "execution_count": 97,
     "metadata": {},
     "output_type": "execute_result"
    }
   ],
   "source": [
    "models_df.features"
   ]
  },
  {
   "cell_type": "code",
   "execution_count": 101,
   "metadata": {},
   "outputs": [
    {
     "data": {
      "image/png": "[encoded data removed]",
      "text/plain": [
       "<Figure size 432x288 with 1 Axes>"
      ]
     },
     "metadata": {},
     "output_type": "display_data"
    }
   ],
   "source": [
    "models_df.plot(x='model_id',y='r2')\n",
    "plt.show()"
   ]
  },
  {
   "cell_type": "code",
   "execution_count": 100,
   "metadata": {},
   "outputs": [
    {
     "name": "stderr",
     "output_type": "stream",
     "text": [
      "/Users/pauldefusco/anaconda2/envs/py27/lib/python2.7/site-packages/matplotlib/axes/_axes.py:6462: UserWarning: The 'normed' kwarg is deprecated, and has been replaced by the 'density' kwarg.\n",
      "  warnings.warn(\"The 'normed' kwarg is deprecated, and has been \"\n"
     ]
    },
    {
     "data": {
      "text/plain": [
       "<matplotlib.axes._subplots.AxesSubplot at 0x1126daf10>"
      ]
     },
     "execution_count": 100,
     "metadata": {},
     "output_type": "execute_result"
    },
    {
     "data": {
      "image/png": "[encoded data removed]",
      "text/plain": [
       "<Figure size 432x288 with 1 Axes>"
      ]
     },
     "metadata": {},
     "output_type": "display_data"
    }
   ],
   "source": [
    "sb.distplot(models_df['r2'])"
   ]
  },
  {
   "cell_type": "code",
   "execution_count": 107,
   "metadata": {},
   "outputs": [
    {
     "data": {
      "image/png": "[encoded data removed]",
      "text/plain": [
       "<Figure size 432x288 with 1 Axes>"
      ]
     },
     "metadata": {},
     "output_type": "display_data"
    }
   ],
   "source": [
    "models_df.plot(x='numOfFeatures',y='r2')\n",
    "plt.show()"
   ]
  },
  {
   "cell_type": "code",
   "execution_count": 110,
   "metadata": {},
   "outputs": [
    {
     "data": {
      "text/plain": [
       "<matplotlib.axes._subplots.AxesSubplot at 0x1172f0550>"
      ]
     },
     "execution_count": 110,
     "metadata": {},
     "output_type": "execute_result"
    },
    {
     "data": {
      "image/png": "[encoded data removed]",
      "text/plain": [
       "<Figure size 432x288 with 1 Axes>"
      ]
     },
     "metadata": {},
     "output_type": "display_data"
    }
   ],
   "source": [
    "sb.distplot(models_df['mae_test'])"
   ]
  },
  {
   "cell_type": "code",
   "execution_count": 111,
   "metadata": {},
   "outputs": [
    {
     "data": {
      "text/plain": [
       "<matplotlib.axes._subplots.AxesSubplot at 0x1171bd750>"
      ]
     },
     "execution_count": 111,
     "metadata": {},
     "output_type": "execute_result"
    },
    {
     "data": {
      "image/png": "[encoded data removed]",
      "text/plain": [
       "<Figure size 432x288 with 1 Axes>"
      ]
     },
     "metadata": {},
     "output_type": "display_data"
    }
   ],
   "source": [
    "sb.distplot(models_df['rmse_test'])"
   ]
  },
  {
   "cell_type": "code",
   "execution_count": 23,
   "metadata": {},
   "outputs": [
    {
     "ename": "NameError",
     "evalue": "name 'models_df' is not defined",
     "output_type": "error",
     "traceback": [
      "\u001b[0;31m---------------------------------------------------------------------------\u001b[0m",
      "\u001b[0;31mNameError\u001b[0m                                 Traceback (most recent call last)",
      "\u001b[0;32m<ipython-input-23-bde23b03ecf1>\u001b[0m in \u001b[0;36m<module>\u001b[0;34m()\u001b[0m\n\u001b[0;32m----> 1\u001b[0;31m \u001b[0mmodels_df\u001b[0m\u001b[0;34m.\u001b[0m\u001b[0mnlargest\u001b[0m\u001b[0;34m(\u001b[0m\u001b[0;36m5\u001b[0m\u001b[0;34m,\u001b[0m \u001b[0;34m'r2'\u001b[0m\u001b[0;34m)\u001b[0m\u001b[0;34m\u001b[0m\u001b[0m\n\u001b[0m",
      "\u001b[0;31mNameError\u001b[0m: name 'models_df' is not defined"
     ]
    }
   ],
   "source": [
    "models_df.nlargest(5, 'r2')"
   ]
  },
  {
   "cell_type": "code",
   "execution_count": 118,
   "metadata": {},
   "outputs": [
    {
     "data": {
      "text/plain": [
       "<Figure size 432x288 with 0 Axes>"
      ]
     },
     "metadata": {},
     "output_type": "display_data"
    },
    {
     "data": {
      "image/png": "[encoded data removed]",
      "text/plain": [
       "<Figure size 1440x1440 with 1 Axes>"
      ]
     },
     "metadata": {},
     "output_type": "display_data"
    }
   ],
   "source": [
    "plt.figure()\n",
    "models_df.nlargest(5, 'r2').plot(x='model_id',y='r2', kind='barh', figsize=(20,20))\n",
    "plt.show()"
   ]
  },
  {
   "cell_type": "code",
   "execution_count": null,
   "metadata": {
    "collapsed": true
   },
   "outputs": [],
   "source": []
  },
  {
   "cell_type": "code",
   "execution_count": null,
   "metadata": {
    "collapsed": true
   },
   "outputs": [],
   "source": []
  },
  {
   "cell_type": "code",
   "execution_count": null,
   "metadata": {
    "collapsed": true
   },
   "outputs": [],
   "source": []
  },
  {
   "cell_type": "markdown",
   "metadata": {},
   "source": [
    "insight: must use more features.."
   ]
  },
  {
   "cell_type": "code",
   "execution_count": null,
   "metadata": {
    "collapsed": true
   },
   "outputs": [],
   "source": [
    "#tomorrow will focus on adding more features and only starting from highest n and working way down to a few at a time"
   ]
  },
  {
   "cell_type": "code",
   "execution_count": 39,
   "metadata": {
    "collapsed": true
   },
   "outputs": [],
   "source": [
    "#plot performance of the jobs or use spark UI (maybe)"
   ]
  },
  {
   "cell_type": "code",
   "execution_count": null,
   "metadata": {
    "collapsed": true
   },
   "outputs": [],
   "source": []
  },
  {
   "cell_type": "code",
   "execution_count": null,
   "metadata": {
    "collapsed": true
   },
   "outputs": [],
   "source": []
  },
  {
   "cell_type": "code",
   "execution_count": 119,
   "metadata": {
    "collapsed": true
   },
   "outputs": [],
   "source": [
    "spark.stop()"
   ]
  },
  {
   "cell_type": "code",
   "execution_count": null,
   "metadata": {
    "collapsed": true
   },
   "outputs": [],
   "source": []
  }
 ],
 "metadata": {
  "kernelspec": {
   "display_name": "Python 2",
   "language": "python",
   "name": "python2"
  },
  "language_info": {
   "codemirror_mode": {
    "name": "ipython",
    "version": 2
   },
   "file_extension": ".py",
   "mimetype": "text/x-python",
   "name": "python",
   "nbconvert_exporter": "python",
   "pygments_lexer": "ipython2",
   "version": "2.7.14"
  }
 },
 "nbformat": 4,
 "nbformat_minor": 2
}
