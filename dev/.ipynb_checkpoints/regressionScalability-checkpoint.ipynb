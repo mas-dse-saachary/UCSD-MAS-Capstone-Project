{
 "cells": [
  {
   "cell_type": "markdown",
   "metadata": {},
   "source": [
    "Notebook to automate regression analysis techniques in order to create a system that selects the best model iteratively"
   ]
  },
  {
   "cell_type": "code",
   "execution_count": 1,
   "metadata": {
    "collapsed": true
   },
   "outputs": [],
   "source": [
    "import pandas as pd"
   ]
  },
  {
   "cell_type": "code",
   "execution_count": 2,
   "metadata": {
    "collapsed": true
   },
   "outputs": [],
   "source": [
    "def load_data(data_dir, file_name):\n",
    "    return pd.read_csv(data_dir + file_name)"
   ]
  },
  {
   "cell_type": "code",
   "execution_count": 3,
   "metadata": {
    "collapsed": true
   },
   "outputs": [],
   "source": [
    "def select_initial_feature(df):\n",
    "    #create bivariate models using best R2\n",
    "    #select best feature based on highest univar R2\n",
    "    return initial_feature_name"
   ]
  },
  {
   "cell_type": "code",
   "execution_count": 4,
   "metadata": {
    "collapsed": true
   },
   "outputs": [],
   "source": [
    "def rank_all_features(df, initial_feature_name, method):\n",
    "    #create feature ranking list with one of multiple methods e.g. Shapiro, Lasso, Ridge, etc.\n",
    "    #force the initial_feature_name into position 1 in list\n",
    "    return ranked_features_list"
   ]
  },
  {
   "cell_type": "code",
   "execution_count": 5,
   "metadata": {
    "collapsed": true
   },
   "outputs": [],
   "source": [
    "def select_next_best_feature(df, ranked_features_list, number_of_features):\n",
    "    #create n models with initial feature and n next best features based on parameter 'number of features'\n",
    "    #select the best model in terms of RMSE\n",
    "    #return the features used by best model, and model type\n",
    "    return best_features, model_type"
   ]
  },
  {
   "cell_type": "markdown",
   "metadata": {
    "collapsed": true
   },
   "source": [
    "Building Simple Scalable Solution with Spark"
   ]
  },
  {
   "cell_type": "code",
   "execution_count": 6,
   "metadata": {
    "collapsed": true
   },
   "outputs": [],
   "source": [
    "import findspark\n",
    "findspark.init()"
   ]
  },
  {
   "cell_type": "code",
   "execution_count": 7,
   "metadata": {
    "collapsed": true
   },
   "outputs": [],
   "source": [
    "from pyspark.mllib.regression import LabeledPoint, LinearRegressionWithSGD, LinearRegressionModel\n",
    "from pyspark.sql import SparkSession"
   ]
  },
  {
   "cell_type": "code",
   "execution_count": 8,
   "metadata": {
    "collapsed": true
   },
   "outputs": [],
   "source": [
    "spark = SparkSession.builder.master(\"local\").appName(\"Regression Scalability\")\\\n",
    "    .config(\"spark.some.config.option\", \"some-value\")\\\n",
    "    .getOrCreate()"
   ]
  },
  {
   "cell_type": "code",
   "execution_count": 9,
   "metadata": {
    "collapsed": true
   },
   "outputs": [],
   "source": [
    "#sc = spark.sparkContext"
   ]
  },
  {
   "cell_type": "markdown",
   "metadata": {},
   "source": [
    "Applying data transformations from regressionDiagnostics nb - these might end up changing"
   ]
  },
  {
   "cell_type": "code",
   "execution_count": 9,
   "metadata": {
    "collapsed": true
   },
   "outputs": [],
   "source": [
    "import pandas as pd\n",
    "import numpy as np\n",
    "from itertools import combinations"
   ]
  },
  {
   "cell_type": "code",
   "execution_count": 12,
   "metadata": {
    "collapsed": true
   },
   "outputs": [],
   "source": [
    "from sklearn import preprocessing\n",
    "from sklearn import linear_model\n",
    "from sklearn.metrics import r2_score, mean_squared_error,mean_absolute_error\n",
    "from sklearn.model_selection import KFold,cross_val_score, cross_val_predict"
   ]
  },
  {
   "cell_type": "code",
   "execution_count": 11,
   "metadata": {
    "collapsed": true
   },
   "outputs": [],
   "source": [
    "listings = pd.read_csv('listings_augmented_2018-05-06_V1.csv',low_memory=False)\n",
    "\n",
    "listings = listings.drop(columns=['listing_id','id','scrape_id','host_id',\n",
    "                                  'zipcode','has_availability','license',\n",
    "                                  'Unnamed: 0', 'thumbnail_url', 'medium_url',\n",
    "                                  'picture_url', 'xl_picture_url', 'host_url',\n",
    "                                  'host_name', 'host_thumbnail_url', 'host_picture_url',\n",
    "                                  'price_x', 'amenities', 'amenities_set', 'bed_type'\n",
    "                                 ])\n",
    "\n",
    "y = listings['price_y'].fillna(listings['price_y'].mean())\n",
    "\n",
    "X = listings.copy()\n",
    "#NB: not dropping the price in this nb because it is needed by Spark's ML methods\n",
    "#X = X.drop(columns='price_y')\n",
    "\n",
    "X_num = X.select_dtypes(include=['int64','float64'])\n",
    "X_num = X_num.replace([np.inf, -np.inf], np.nan)\n",
    "X_num = X_num.fillna(X_num.mean())\n",
    "X_1 = X_num[X_num.columns.drop(X_num[list(X_num.filter(regex='Topic'))])]\n",
    "data_scaled = pd.DataFrame(preprocessing.scale(X_1),columns = X_1.columns) "
   ]
  },
  {
   "cell_type": "code",
   "execution_count": 14,
   "metadata": {
    "collapsed": true
   },
   "outputs": [],
   "source": []
  },
  {
   "cell_type": "code",
   "execution_count": 20,
   "metadata": {
    "collapsed": true
   },
   "outputs": [],
   "source": [
    "\"\"\"colData = sc.parallelize(data_scaled.columns)\n",
    "def rSubset(row):\n",
    "     \n",
    "    # return list of all subsets of length r\n",
    "    # to deal with duplicate subsets use \n",
    "    # set(list(combinations(arr, r)))\n",
    "    combos = []\n",
    "    for i in range(len(data_scaled.columns)-1):\n",
    "        combos.append(combinations(row, i))\n",
    "    return combos\n",
    "\n",
    "combos = []\n",
    "for i in range(len(data_scaled.columns)):\n",
    "    combos.append(list(combinations(data_scaled.columns, i)))\n",
    "\n",
    "colData.map(rSubset).flatMap(lambda x: ''.join(x)).take(10)\"\"\""
   ]
  },
  {
   "cell_type": "code",
   "execution_count": 13,
   "metadata": {},
   "outputs": [
    {
     "name": "stderr",
     "output_type": "stream",
     "text": [
      "/Users/pauldefusco/anaconda2/envs/py27/lib/python2.7/site-packages/scipy/linalg/basic.py:1226: RuntimeWarning: internal gelsd driver lwork query error, required iwork dimension not returned. This is likely the result of LAPACK bug 0038, fixed in LAPACK 3.2.2 (released July 21, 2010). Falling back to 'gelss' driver.\n",
      "  warnings.warn(mesg, RuntimeWarning)\n"
     ]
    }
   ],
   "source": [
    "R2s = []\n",
    "for col in X_1.columns:\n",
    "    linear_regression = linear_model.LinearRegression(normalize=False, fit_intercept=True)\n",
    "    regression_results = linear_regression.fit(data_scaled[col].values.reshape(-1, 1),y)\n",
    "    #scores = cross_val_score(regression_results, data_scaled[col].values.reshape(-1, 1), y, cv=6)\n",
    "    predictions = cross_val_predict(regression_results, data_scaled[col].values.reshape(-1, 1), y, cv=6)\n",
    "    #accuracy = metrics.r2_score(y, predictions)\n",
    "    R2s.append((col, r2_score(y, predictions)))"
   ]
  },
  {
   "cell_type": "code",
   "execution_count": 16,
   "metadata": {},
   "outputs": [],
   "source": [
    "uni_r2 = pd.DataFrame(R2s, columns = ['col','R2']).sort_values(by='R2', ascending=False)\n",
    "pos_uni_r2 = uni_r2[uni_r2['R2']>0]"
   ]
  },
  {
   "cell_type": "code",
   "execution_count": 84,
   "metadata": {},
   "outputs": [
    {
     "data": {
      "text/html": [
       "<div>\n",
       "<style scoped>\n",
       "    .dataframe tbody tr th:only-of-type {\n",
       "        vertical-align: middle;\n",
       "    }\n",
       "\n",
       "    .dataframe tbody tr th {\n",
       "        vertical-align: top;\n",
       "    }\n",
       "\n",
       "    .dataframe thead th {\n",
       "        text-align: right;\n",
       "    }\n",
       "</style>\n",
       "<table border=\"1\" class=\"dataframe\">\n",
       "  <thead>\n",
       "    <tr style=\"text-align: right;\">\n",
       "      <th></th>\n",
       "      <th>col</th>\n",
       "      <th>R2</th>\n",
       "    </tr>\n",
       "  </thead>\n",
       "  <tbody>\n",
       "    <tr>\n",
       "      <th>34</th>\n",
       "      <td>price_y</td>\n",
       "      <td>1.000000</td>\n",
       "    </tr>\n",
       "    <tr>\n",
       "      <th>7</th>\n",
       "      <td>accommodates</td>\n",
       "      <td>0.482612</td>\n",
       "    </tr>\n",
       "    <tr>\n",
       "      <th>9</th>\n",
       "      <td>bedrooms</td>\n",
       "      <td>0.414702</td>\n",
       "    </tr>\n",
       "    <tr>\n",
       "      <th>10</th>\n",
       "      <td>beds</td>\n",
       "      <td>0.335947</td>\n",
       "    </tr>\n",
       "    <tr>\n",
       "      <th>8</th>\n",
       "      <td>bathrooms</td>\n",
       "      <td>0.287745</td>\n",
       "    </tr>\n",
       "    <tr>\n",
       "      <th>32</th>\n",
       "      <td>calculated_host_listings_count</td>\n",
       "      <td>0.081065</td>\n",
       "    </tr>\n",
       "    <tr>\n",
       "      <th>311</th>\n",
       "      <td>has\"Cable TV\"</td>\n",
       "      <td>0.063401</td>\n",
       "    </tr>\n",
       "    <tr>\n",
       "      <th>16</th>\n",
       "      <td>guests_included</td>\n",
       "      <td>0.038562</td>\n",
       "    </tr>\n",
       "    <tr>\n",
       "      <th>294</th>\n",
       "      <td>has\"Family/Kid Friendly\"</td>\n",
       "      <td>0.038290</td>\n",
       "    </tr>\n",
       "    <tr>\n",
       "      <th>303</th>\n",
       "      <td>has\"Pets live on this property\"</td>\n",
       "      <td>0.026199</td>\n",
       "    </tr>\n",
       "    <tr>\n",
       "      <th>317</th>\n",
       "      <td>distance from ocean</td>\n",
       "      <td>0.018857</td>\n",
       "    </tr>\n",
       "    <tr>\n",
       "      <th>302</th>\n",
       "      <td>has\"Free Parking on Premises\"</td>\n",
       "      <td>0.012335</td>\n",
       "    </tr>\n",
       "    <tr>\n",
       "      <th>279</th>\n",
       "      <td>has\"Indoor Fireplace\"</td>\n",
       "      <td>0.010229</td>\n",
       "    </tr>\n",
       "    <tr>\n",
       "      <th>33</th>\n",
       "      <td>reviews_per_month</td>\n",
       "      <td>0.009810</td>\n",
       "    </tr>\n",
       "    <tr>\n",
       "      <th>289</th>\n",
       "      <td>hasDryer</td>\n",
       "      <td>0.009394</td>\n",
       "    </tr>\n",
       "    <tr>\n",
       "      <th>24</th>\n",
       "      <td>number_of_reviews</td>\n",
       "      <td>0.008867</td>\n",
       "    </tr>\n",
       "    <tr>\n",
       "      <th>282</th>\n",
       "      <td>hasWasher</td>\n",
       "      <td>0.005013</td>\n",
       "    </tr>\n",
       "    <tr>\n",
       "      <th>309</th>\n",
       "      <td>hasDog(s)</td>\n",
       "      <td>0.004770</td>\n",
       "    </tr>\n",
       "    <tr>\n",
       "      <th>285</th>\n",
       "      <td>hasTV</td>\n",
       "      <td>0.003242</td>\n",
       "    </tr>\n",
       "    <tr>\n",
       "      <th>315</th>\n",
       "      <td>has\"Lock on Bedroom Door\"</td>\n",
       "      <td>0.000548</td>\n",
       "    </tr>\n",
       "  </tbody>\n",
       "</table>\n",
       "</div>"
      ],
      "text/plain": [
       "                                 col        R2\n",
       "34                           price_y  1.000000\n",
       "7                       accommodates  0.482612\n",
       "9                           bedrooms  0.414702\n",
       "10                              beds  0.335947\n",
       "8                          bathrooms  0.287745\n",
       "32    calculated_host_listings_count  0.081065\n",
       "311                    has\"Cable TV\"  0.063401\n",
       "16                   guests_included  0.038562\n",
       "294         has\"Family/Kid Friendly\"  0.038290\n",
       "303  has\"Pets live on this property\"  0.026199\n",
       "317              distance from ocean  0.018857\n",
       "302    has\"Free Parking on Premises\"  0.012335\n",
       "279            has\"Indoor Fireplace\"  0.010229\n",
       "33                 reviews_per_month  0.009810\n",
       "289                         hasDryer  0.009394\n",
       "24                 number_of_reviews  0.008867\n",
       "282                        hasWasher  0.005013\n",
       "309                        hasDog(s)  0.004770\n",
       "285                            hasTV  0.003242\n",
       "315        has\"Lock on Bedroom Door\"  0.000548"
      ]
     },
     "execution_count": 84,
     "metadata": {},
     "output_type": "execute_result"
    }
   ],
   "source": [
    "pos_uni_r2"
   ]
  },
  {
   "cell_type": "code",
   "execution_count": 86,
   "metadata": {},
   "outputs": [],
   "source": [
    "candidates = ['accommodates','calculated_host_listings_count','has\"Cable TV\"','distance from ocean']\n",
    "#candidates.remove(\"price_y\")"
   ]
  },
  {
   "cell_type": "code",
   "execution_count": 87,
   "metadata": {},
   "outputs": [],
   "source": [
    "from itertools import chain, combinations\n",
    "def all_subsets(ss):\n",
    "    return chain(*map(lambda x: combinations(ss, x), range(2, len(ss)+1)))\n",
    "combos = []\n",
    "for subset in all_subsets(candidates):\n",
    "    combos.append(subset)"
   ]
  },
  {
   "cell_type": "code",
   "execution_count": 88,
   "metadata": {},
   "outputs": [],
   "source": [
    "outputlist = [xs + ('price_y',) for xs in combos]"
   ]
  },
  {
   "cell_type": "code",
   "execution_count": 89,
   "metadata": {
    "collapsed": true
   },
   "outputs": [],
   "source": [
    "sparkDF = spark.createDataFrame(data_scaled[pos_uni_r2.col])"
   ]
  },
  {
   "cell_type": "code",
   "execution_count": 6,
   "metadata": {
    "collapsed": true
   },
   "outputs": [],
   "source": [
    "#Had loaded spark df from file - but prefer to do data manipulation in pandas and load ultimate df\n",
    "#df = spark.read.format('csv').options(header='true', inferSchema='true').load(\"listings_augmented_2018-05-06_V1.csv\")"
   ]
  },
  {
   "cell_type": "code",
   "execution_count": 90,
   "metadata": {},
   "outputs": [
    {
     "name": "stdout",
     "output_type": "stream",
     "text": [
      "root\n",
      " |-- price_y: double (nullable = true)\n",
      " |-- accommodates: double (nullable = true)\n",
      " |-- bedrooms: double (nullable = true)\n",
      " |-- beds: double (nullable = true)\n",
      " |-- bathrooms: double (nullable = true)\n",
      " |-- calculated_host_listings_count: double (nullable = true)\n",
      " |-- has\"Cable TV\": double (nullable = true)\n",
      " |-- guests_included: double (nullable = true)\n",
      " |-- has\"Family/Kid Friendly\": double (nullable = true)\n",
      " |-- has\"Pets live on this property\": double (nullable = true)\n",
      " |-- distance from ocean: double (nullable = true)\n",
      " |-- has\"Free Parking on Premises\": double (nullable = true)\n",
      " |-- has\"Indoor Fireplace\": double (nullable = true)\n",
      " |-- reviews_per_month: double (nullable = true)\n",
      " |-- hasDryer: double (nullable = true)\n",
      " |-- number_of_reviews: double (nullable = true)\n",
      " |-- hasWasher: double (nullable = true)\n",
      " |-- hasDog(s): double (nullable = true)\n",
      " |-- hasTV: double (nullable = true)\n",
      " |-- has\"Lock on Bedroom Door\": double (nullable = true)\n",
      "\n"
     ]
    }
   ],
   "source": [
    "sparkDF.printSchema()"
   ]
  },
  {
   "cell_type": "code",
   "execution_count": 102,
   "metadata": {},
   "outputs": [
    {
     "data": {
      "text/plain": [
       "u'2.3.0'"
      ]
     },
     "execution_count": 102,
     "metadata": {},
     "output_type": "execute_result"
    }
   ],
   "source": [
    "from pyspark.ml.regression import LinearRegression\n",
    "from pyspark.ml.regression import GeneralizedLinearRegression\n",
    "from pyspark.ml.linalg import Vectors\n",
    "from pyspark.sql import Row\n",
    "spark.version"
   ]
  },
  {
   "cell_type": "code",
   "execution_count": 101,
   "metadata": {
    "collapsed": true
   },
   "outputs": [],
   "source": [
    "def create_linear_model(data):\n",
    "    lr = LinearRegression(maxIter=10, regParam=0, elasticNetParam=0, fitIntercept=True)\n",
    "    #lr.setFitIntercept(True)\n",
    "    lrModel = lr.fit(data)\n",
    "    return lrModel"
   ]
  },
  {
   "cell_type": "code",
   "execution_count": 103,
   "metadata": {},
   "outputs": [],
   "source": [
    "def print_model_results(lrModel):\n",
    "    # Print the coefficients and intercept for linear regression\n",
    "    print(\"Coefficients: %s\" % str(lrModel.coefficients))\n",
    "    print(\"Intercept: %s\" % str(lrModel.intercept))\n",
    "\n",
    "    # Summarize the model over the training set and print out some metrics\n",
    "    summary = lrModel.summary\n",
    "    print(\"numIterations: %d\" % summary.totalIterations)\n",
    "    print(\"objectiveHistory: %s\" % str(summary.objectiveHistory))\n",
    "    summary.residuals.show()\n",
    "    print(\"RMSE: %f\" % summary.rootMeanSquaredError)\n",
    "    print(\"r2: %f\" % summary.r2)\n",
    "    print(\"\\n\")"
   ]
  },
  {
   "cell_type": "code",
   "execution_count": 104,
   "metadata": {},
   "outputs": [
    {
     "name": "stdout",
     "output_type": "stream",
     "text": [
      "Coefficients: [0.6645713864266101,0.12671032275032956]\n",
      "Intercept: 1.67385352653e-15\n",
      "numIterations: 1\n",
      "objectiveHistory: [0.0]\n",
      "+--------------------+\n",
      "|           residuals|\n",
      "+--------------------+\n",
      "|-0.39347095077311456|\n",
      "|-0.32411329157601065|\n",
      "| -0.4041749325018916|\n",
      "|-0.24621588408601003|\n",
      "|-0.24782817952245406|\n",
      "|-0.14864472274712548|\n",
      "| 0.22098337986827815|\n",
      "|-0.14864472274712548|\n",
      "| -1.0764681980723239|\n",
      "|-0.00992940435291...|\n",
      "|-0.20699104849209626|\n",
      "|-0.38404905796134936|\n",
      "| -0.4662600628053212|\n",
      "| -0.6292266699380213|\n",
      "| -0.7802606840092959|\n",
      "|  0.3201096482035728|\n",
      "|-0.19515950072195185|\n",
      "|-0.09245620044751757|\n",
      "| 0.44544234341763517|\n",
      "| -0.3200063126580618|\n",
      "+--------------------+\n",
      "only showing top 20 rows\n",
      "\n",
      "RMSE: 0.704175\n",
      "r2: 0.504138\n",
      "\n",
      "\n",
      "Coefficients: [0.6742644351544689,0.08580014138436973]\n",
      "Intercept: 1.27210657941e-15\n",
      "numIterations: 1\n",
      "objectiveHistory: [0.0]\n",
      "+--------------------+\n",
      "|           residuals|\n",
      "+--------------------+\n",
      "| -0.3368362036343381|\n",
      "| -0.2752315198651042|\n",
      "| -0.5337166814830285|\n",
      "|  -0.361355893628406|\n",
      "|   -0.36296818906485|\n",
      "|-0.08425700018047899|\n",
      "| 0.28537110243492464|\n",
      "|-0.08425700018047899|\n",
      "| -1.1949443373745938|\n",
      "|0.038952367357988904|\n",
      "| -0.3498303254949754|\n",
      "| -0.3274143108225729|\n",
      "| -0.5658941214919773|\n",
      "| -0.7321851106301127|\n",
      "| -0.7147687500256505|\n",
      "|  0.3656552901546053|\n",
      "| -0.3313500137139598|\n",
      "|-0.02918443705230...|\n",
      "|  0.5120384888182794|\n",
      "| -0.2711245409471553|\n",
      "+--------------------+\n",
      "only showing top 20 rows\n",
      "\n",
      "RMSE: 0.709911\n",
      "r2: 0.496027\n",
      "\n",
      "\n",
      "Coefficients: [0.6844975380302886,-0.08318551852784488]\n",
      "Intercept: 4.8357755336e-16\n",
      "numIterations: 1\n",
      "objectiveHistory: [0.0]\n",
      "+--------------------+\n",
      "|           residuals|\n",
      "+--------------------+\n",
      "| -0.0827730731628239|\n",
      "|-0.07689858242537673|\n",
      "|-0.11489799830119846|\n",
      "| 0.06448199352428063|\n",
      "|  0.0628696980878366|\n",
      "|  0.1698061302910352|\n",
      "|  0.5394342329064388|\n",
      "|  0.1698061302910352|\n",
      "| -0.8250483626212263|\n",
      "|  0.2930154978295031|\n",
      "| 0.05494994974514189|\n",
      "| -0.0733511803510587|\n",
      "|-0.22365152388697074|\n",
      "|-0.39345211501053456|\n",
      "|  -0.551320113072673|\n",
      "|  0.5080463151950134|\n",
      "| 0.02471927246522708|\n",
      "| 0.20733068349206418|\n",
      "|  0.7520632113480807|\n",
      "|-0.07279160350742786|\n",
      "+--------------------+\n",
      "only showing top 20 rows\n",
      "\n",
      "RMSE: 0.709932\n",
      "r2: 0.495997\n",
      "\n",
      "\n",
      "Coefficients: [0.25866732882654897,0.22528991788550923]\n",
      "Intercept: 8.42318056047e-16\n",
      "numIterations: 1\n",
      "objectiveHistory: [0.0]\n",
      "+--------------------+\n",
      "|           residuals|\n",
      "+--------------------+\n",
      "| -0.6420048756397373|\n",
      "| -0.5645732142347781|\n",
      "| -0.6398226042889174|\n",
      "| -0.9457877699990991|\n",
      "|  -0.947400065435543|\n",
      "| -0.4052526498216035|\n",
      "|-0.03562454720619984|\n",
      "| -0.4052526498216035|\n",
      "| 0.02313875706385307|\n",
      "|-0.25038932701168504|\n",
      "| 0.46906170355729354|\n",
      "| -0.6325829828279721|\n",
      "| -1.1819799531341209|\n",
      "| -1.1170214543077168|\n",
      "| -0.5890924013734213|\n",
      "|  1.8788285665940712|\n",
      "|0.025043039409230236|\n",
      "|  0.7744133978578134|\n",
      "|  1.0843868357638622|\n",
      "| -0.5604662353168293|\n",
      "+--------------------+\n",
      "only showing top 20 rows\n",
      "\n",
      "RMSE: 0.925108\n",
      "r2: 0.144175\n",
      "\n",
      "\n",
      "Coefficients: [0.27980191295313284,-0.15076621563100004]\n",
      "Intercept: -5.77896023338e-16\n",
      "numIterations: 1\n",
      "objectiveHistory: [0.0]\n",
      "+--------------------+\n",
      "|           residuals|\n",
      "+--------------------+\n",
      "| -0.2621785243809781|\n",
      "|-0.28445963501754323|\n",
      "|  0.1923348616272772|\n",
      "|-0.11492345769387358|\n",
      "|-0.11653575313031761|\n",
      "|-0.02671945217381344|\n",
      "|  0.3429086504415902|\n",
      "|-0.02671945217381344|\n",
      "|  0.7996206457099244|\n",
      "|  0.1307301778580433|\n",
      "|  1.3012191694734883|\n",
      "| -0.2527566315692129|\n",
      "| -0.5052108365295739|\n",
      "|-0.44025233770316996|\n",
      "| -0.3633612458153407|\n",
      "|   2.104559722152152|\n",
      "|  0.7561945796729314|\n",
      "|  1.1503602882836652|\n",
      "|   1.460333726189714|\n",
      "|-0.28035265609959437|\n",
      "+--------------------+\n",
      "only showing top 20 rows\n",
      "\n",
      "RMSE: 0.939218\n",
      "r2: 0.117869\n",
      "\n",
      "\n",
      "Coefficients: [0.2565842434447795,-0.16339609879916114]\n",
      "Intercept: -1.60062102424e-15\n",
      "numIterations: 1\n",
      "objectiveHistory: [0.0]\n",
      "+--------------------+\n",
      "|           residuals|\n",
      "+--------------------+\n",
      "|-0.03317425656921669|\n",
      "|-0.08103689701543548|\n",
      "|-0.10947125073746466|\n",
      "|  -0.399609438811921|\n",
      "|-0.40122173424836505|\n",
      "|  0.2194049468846424|\n",
      "|   0.589033049500046|\n",
      "|  0.2194049468846424|\n",
      "|  0.5620643590504805|\n",
      "|  0.3426143144231103|\n",
      "|  0.9994130571087463|\n",
      "|-0.02375236375745149|\n",
      "| -0.7683486529986715|\n",
      "| -0.7033901541722676|\n",
      "|-0.11280881335462944|\n",
      "|   2.355112154612863|\n",
      "| 0.44592706874523014|\n",
      "|    1.43072494983551|\n",
      "|  1.7406983877415587|\n",
      "|-0.07692991809748662|\n",
      "+--------------------+\n",
      "only showing top 20 rows\n",
      "\n",
      "RMSE: 0.945163\n",
      "r2: 0.106668\n",
      "\n",
      "\n",
      "Coefficients: [0.6477394678985668,0.11606454461350546,0.06720201082804854]\n",
      "Intercept: 1.62725268889e-15\n",
      "numIterations: 1\n",
      "objectiveHistory: [0.0]\n",
      "+--------------------+\n",
      "|           residuals|\n",
      "+--------------------+\n",
      "|-0.34014576831920285|\n",
      "|-0.27143948822455755|\n",
      "| -0.4744962684210502|\n",
      "| -0.3274313780484713|\n",
      "| -0.3290436734849153|\n",
      "|-0.09466816119075505|\n",
      "|  0.2749599414246486|\n",
      "|-0.09466816119075505|\n",
      "| -1.1095474061443635|\n",
      "| 0.04274439899853555|\n",
      "|-0.25422131011973226|\n",
      "|-0.33072387550743765|\n",
      "| -0.5461727985628653|\n",
      "| -0.7033666371226847|\n",
      "| -0.7140872062047056|\n",
      "|  0.4209197374454474|\n",
      "| -0.2539352994953491|\n",
      "|-0.00831303782182...|\n",
      "|  0.5238127374704455|\n",
      "| -0.2673325093066087|\n",
      "+--------------------+\n",
      "only showing top 20 rows\n",
      "\n",
      "RMSE: 0.701314\n",
      "r2: 0.508158\n",
      "\n",
      "\n",
      "Coefficients: [0.6557315923606266,0.11612960451411991,-0.06518133144754738]\n",
      "Intercept: 1.00957911076e-15\n",
      "numIterations: 1\n",
      "objectiveHistory: [0.0]\n",
      "+--------------------+\n",
      "|           residuals|\n",
      "+--------------------+\n",
      "|-0.14104128401979465|\n",
      "|-0.11599929914660889|\n",
      "| -0.1463291739922844|\n",
      "|0.006213782667309875|\n",
      "|0.004601487230865842|\n",
      "| 0.10443234231371978|\n",
      "|  0.4740604449291234|\n",
      "| 0.10443234231371978|\n",
      "| -0.8196765141493737|\n",
      "| 0.24185286409287698|\n",
      "|   0.062981690145136|\n",
      "|-0.13161939120802946|\n",
      "| -0.2780380134615399|\n",
      "|-0.43797287556233366|\n",
      "| -0.5859751446017021|\n",
      "|  0.5325856578026045|\n",
      "|  0.0250814718350751|\n",
      "| 0.17707438638790973|\n",
      "|  0.7119411852211561|\n",
      "|-0.11189232022866002|\n",
      "+--------------------+\n",
      "only showing top 20 rows\n",
      "\n",
      "RMSE: 0.701324\n",
      "r2: 0.508145\n",
      "\n",
      "\n",
      "Coefficients: [0.6636610344706496,0.07643538053641344,-0.07405966604140089]\n",
      "Intercept: 5.55730280504e-16\n",
      "numIterations: 1\n",
      "objectiveHistory: [0.0]\n",
      "+--------------------+\n",
      "|           residuals|\n",
      "+--------------------+\n",
      "|-0.05638759943571...|\n",
      "|-0.04439923780283139|\n",
      "|-0.22724630965076098|\n",
      "|-0.06215872456636695|\n",
      "|-0.06377102000281099|\n",
      "| 0.19619160401814473|\n",
      "|  0.5658197066335484|\n",
      "| 0.19619160401814473|\n",
      "| -0.8914625182998158|\n",
      "|  0.3194009715566126|\n",
      "|-0.02881354812225...|\n",
      "|-0.04696570662394...|\n",
      "| -0.3411214356344644|\n",
      "| -0.5037758233874857|\n",
      "| -0.5014714262613246|\n",
      "|  0.6007722222296171|\n",
      "|-0.06722276124781446|\n",
      "|  0.2694471740718863|\n",
      "|  0.8070334985573603|\n",
      "|-0.04029225888488...|\n",
      "+--------------------+\n",
      "only showing top 20 rows\n",
      "\n",
      "RMSE: 0.706220\n",
      "r2: 0.501253\n",
      "\n",
      "\n",
      "Coefficients: [0.23757617100926565,0.20919634098946466,-0.12393677847429575]\n",
      "Intercept: -3.95395091803e-16\n",
      "numIterations: 1\n",
      "objectiveHistory: [0.0]\n",
      "+--------------------+\n",
      "|           residuals|\n",
      "+--------------------+\n",
      "| -0.1658238954412834|\n",
      "| -0.1727142570631658|\n",
      "|-0.13271224063858617|\n",
      "| -0.4373869098465616|\n",
      "| -0.4389992052830056|\n",
      "| 0.07221882687905667|\n",
      "|  0.4418469294944603|\n",
      "| 0.07221882687905667|\n",
      "| 0.49389534346069164|\n",
      "|  0.2245011566845626|\n",
      "|  0.9761720672076248|\n",
      "| -0.1564020026295182|\n",
      "| -0.7955453897641238|\n",
      "|   -0.73058689093772|\n",
      "|  -0.234877717957508|\n",
      "|  2.2330432500099846|\n",
      "|  0.4491218765349262|\n",
      "|  1.2544658675628861|\n",
      "|   1.564439305468935|\n",
      "|-0.16860727814521692|\n",
      "+--------------------+\n",
      "only showing top 20 rows\n",
      "\n",
      "RMSE: 0.917237\n",
      "r2: 0.158677\n",
      "\n",
      "\n",
      "Coefficients: [0.6412347582471359,0.10741570794876136,0.0610973572954116,-0.0592376936851546]\n",
      "Intercept: 1.02778416714e-15\n",
      "numIterations: 1\n",
      "objectiveHistory: [0.0]\n",
      "+--------------------+\n",
      "|           residuals|\n",
      "+--------------------+\n",
      "|-0.11557828073297283|\n",
      "|-0.08708752563186739|\n",
      "|-0.23377447008483782|\n",
      "|-0.09064216963204019|\n",
      "|-0.09225446506848423|\n",
      "| 0.13042851941373856|\n",
      "|  0.5000566220291423|\n",
      "| 0.13042851941373856|\n",
      "|  -0.873166652908599|\n",
      "| 0.26678269356650164|\n",
      "|-0.00457594590742...|\n",
      "|-0.10615638792120763|\n",
      "|-0.36785470207282056|\n",
      "| -0.5228176491636176|\n",
      "| -0.5435290476068172|\n",
      "|   0.604863244857471|\n",
      "|-0.04843805019636757|\n",
      "| 0.22899648616430712|\n",
      "|  0.7588913699875567|\n",
      "|-0.08298054671391852|\n",
      "+--------------------+\n",
      "only showing top 20 rows\n",
      "\n",
      "RMSE: 0.698974\n",
      "r2: 0.511435\n",
      "\n",
      "\n"
     ]
    }
   ],
   "source": [
    "for i in outputlist:\n",
    "    new = sparkDF.select(list(i))\n",
    "    data=new.rdd.map(lambda x:(Vectors.dense(x[0:-1]), x[-1])).toDF([\"features\", \"label\"])\n",
    "    lrModel = create_linear_model(data)\n",
    "    print_model_results(lrModel)"
   ]
  },
  {
   "cell_type": "code",
   "execution_count": 105,
   "metadata": {
    "collapsed": true
   },
   "outputs": [],
   "source": [
    "spark.stop()"
   ]
  },
  {
   "cell_type": "code",
   "execution_count": null,
   "metadata": {
    "collapsed": true
   },
   "outputs": [],
   "source": []
  }
 ],
 "metadata": {
  "kernelspec": {
   "display_name": "Python 2",
   "language": "python",
   "name": "python2"
  },
  "language_info": {
   "codemirror_mode": {
    "name": "ipython",
    "version": 2
   },
   "file_extension": ".py",
   "mimetype": "text/x-python",
   "name": "python",
   "nbconvert_exporter": "python",
   "pygments_lexer": "ipython2",
   "version": "2.7.14"
  }
 },
 "nbformat": 4,
 "nbformat_minor": 2
}
