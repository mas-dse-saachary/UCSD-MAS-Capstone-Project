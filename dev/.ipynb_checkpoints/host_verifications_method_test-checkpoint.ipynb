{
 "cells": [
  {
   "cell_type": "code",
   "execution_count": 3,
   "metadata": {
    "collapsed": true
   },
   "outputs": [],
   "source": [
    "import json\n",
    "from StringIO import StringIO\n",
    "import pandas as pd"
   ]
  },
  {
   "cell_type": "code",
   "execution_count": 4,
   "metadata": {
    "collapsed": true
   },
   "outputs": [],
   "source": [
    "import pandas as pd\n",
    "import os\n",
    "import sklearn as sk\n",
    "from sklearn.linear_model import MultiTaskLasso, MultiTaskElasticNet, ElasticNet\n",
    "from sklearn.cross_validation import train_test_split\n",
    "from sklearn.metrics import mean_absolute_error, mean_squared_error\n",
    "import sklearn.metrics as skmet\n",
    "import numpy as np\n",
    "import nltk\n",
    "from nltk.tokenize import sent_tokenize, word_tokenize\n",
    "from nltk.corpus import stopwords, names\n",
    "import datetime\n",
    "from scipy.stats import ttest_ind \n",
    "import csv"
   ]
  },
  {
   "cell_type": "code",
   "execution_count": 5,
   "metadata": {
    "collapsed": true
   },
   "outputs": [],
   "source": [
    "listings = pd.read_csv('inside_airbnb/listings.csv')\n",
    "list_summ = pd.read_csv('inside_airbnb/listings_summ.csv')\n",
    "neighborhoods = pd.read_csv('inside_airbnb/neighbourhoods.csv')\n",
    "reviews = pd.read_csv('inside_airbnb/reviews.csv')\n",
    "reviews_summ = pd.read_csv('inside_airbnb/reviews_summ.csv')\n",
    "calendar = pd.read_csv('inside_airbnb/calendar.csv')"
   ]
  },
  {
   "cell_type": "code",
   "execution_count": 7,
   "metadata": {
    "collapsed": true
   },
   "outputs": [],
   "source": [
    "def string_to_set(x):\n",
    "    c = set()\n",
    "    for w in x[1:-1].split(\",\"):\n",
    "        c.add(w)\n",
    "        \n",
    "    return c\n",
    "\n",
    "def has_amenity(x, amen_):\n",
    "    if amen_ in x:\n",
    "        return 1\n",
    "    pass"
   ]
  },
  {
   "cell_type": "code",
   "execution_count": 8,
   "metadata": {},
   "outputs": [],
   "source": [
    "listings['amenities_set'] = listings['amenities'].fillna('{}').map(string_to_set)\n",
    "all_amenities = set()\n",
    "    \n",
    "for idx in listings['amenities'].fillna('{}').map(string_to_set).index:\n",
    "    all_amenities = all_amenities.union(listings['amenities'].fillna('{}').map(string_to_set)[idx])\n",
    "        \n",
    "for amen in all_amenities:\n",
    "    listings['has' + amen] = 0\n",
    "    listings['has' + amen] = listings['amenities_set'].map(lambda x: has_amenity(x, amen))\n",
    "\n",
    "has_amenties_list = []\n",
    "for amen in all_amenities:\n",
    "    has_amenties_list.append('has' + amen)\n",
    "\n",
    "listings[has_amenties_list] = listings[has_amenties_list].fillna(0)"
   ]
  },
  {
   "cell_type": "code",
   "execution_count": 9,
   "metadata": {
    "collapsed": true
   },
   "outputs": [],
   "source": [
    "a = listings['host_verifications'].map(lambda x: x[1:-1]).map(lambda j: j.split(',')).map(lambda k: set(k))\n",
    "all_host_verifications = set()\n",
    "    \n",
    "for w in a.index:\n",
    "    all_host_verifications = all_host_verifications.union(a[w])\n",
    "        \n",
    "for w in all_host_verifications:\n",
    "    listings['uses' + w] = 0\n",
    "    listings['uses' + w] = a.map(lambda x: has_amenity(x, w))\n",
    "    \n",
    "    \n",
    "uses_verification_list = []\n",
    "    \n",
    "for veri in all_host_verifications:\n",
    "    uses_verification_list.append('uses' + veri)\n",
    "    \n",
    "listings[uses_verification_list] = listings[uses_verification_list].fillna(0)"
   ]
  },
  {
   "cell_type": "code",
   "execution_count": 11,
   "metadata": {},
   "outputs": [
    {
     "data": {
      "text/html": [
       "<div>\n",
       "<table border=\"1\" class=\"dataframe\">\n",
       "  <thead>\n",
       "    <tr style=\"text-align: right;\">\n",
       "      <th></th>\n",
       "      <th>uses 'phone'</th>\n",
       "      <th>uses 'linkedin'</th>\n",
       "      <th>uses'email'</th>\n",
       "      <th>uses 'manual_online'</th>\n",
       "      <th>uses 'facebook'</th>\n",
       "      <th>uses 'amex'</th>\n",
       "      <th>uses'phone'</th>\n",
       "      <th>uses 'sent_id'</th>\n",
       "      <th>uses 'jumio'</th>\n",
       "      <th>uses 'google'</th>\n",
       "      <th>uses 'weibo'</th>\n",
       "      <th>uses 'manual_offline'</th>\n",
       "      <th>uses'kba'</th>\n",
       "      <th>uses 'kba'</th>\n",
       "      <th>uses 'reviews'</th>\n",
       "    </tr>\n",
       "  </thead>\n",
       "  <tbody>\n",
       "    <tr>\n",
       "      <th>0</th>\n",
       "      <td>1.0</td>\n",
       "      <td>0.0</td>\n",
       "      <td>1.0</td>\n",
       "      <td>0.0</td>\n",
       "      <td>0.0</td>\n",
       "      <td>0.0</td>\n",
       "      <td>0.0</td>\n",
       "      <td>0.0</td>\n",
       "      <td>1.0</td>\n",
       "      <td>0.0</td>\n",
       "      <td>0.0</td>\n",
       "      <td>0.0</td>\n",
       "      <td>0.0</td>\n",
       "      <td>0.0</td>\n",
       "      <td>1.0</td>\n",
       "    </tr>\n",
       "    <tr>\n",
       "      <th>1</th>\n",
       "      <td>1.0</td>\n",
       "      <td>0.0</td>\n",
       "      <td>1.0</td>\n",
       "      <td>1.0</td>\n",
       "      <td>0.0</td>\n",
       "      <td>0.0</td>\n",
       "      <td>0.0</td>\n",
       "      <td>0.0</td>\n",
       "      <td>1.0</td>\n",
       "      <td>0.0</td>\n",
       "      <td>0.0</td>\n",
       "      <td>0.0</td>\n",
       "      <td>0.0</td>\n",
       "      <td>0.0</td>\n",
       "      <td>1.0</td>\n",
       "    </tr>\n",
       "    <tr>\n",
       "      <th>2</th>\n",
       "      <td>0.0</td>\n",
       "      <td>0.0</td>\n",
       "      <td>0.0</td>\n",
       "      <td>0.0</td>\n",
       "      <td>0.0</td>\n",
       "      <td>0.0</td>\n",
       "      <td>1.0</td>\n",
       "      <td>0.0</td>\n",
       "      <td>0.0</td>\n",
       "      <td>0.0</td>\n",
       "      <td>0.0</td>\n",
       "      <td>0.0</td>\n",
       "      <td>0.0</td>\n",
       "      <td>0.0</td>\n",
       "      <td>1.0</td>\n",
       "    </tr>\n",
       "    <tr>\n",
       "      <th>3</th>\n",
       "      <td>1.0</td>\n",
       "      <td>0.0</td>\n",
       "      <td>1.0</td>\n",
       "      <td>0.0</td>\n",
       "      <td>0.0</td>\n",
       "      <td>0.0</td>\n",
       "      <td>0.0</td>\n",
       "      <td>0.0</td>\n",
       "      <td>1.0</td>\n",
       "      <td>0.0</td>\n",
       "      <td>0.0</td>\n",
       "      <td>0.0</td>\n",
       "      <td>0.0</td>\n",
       "      <td>0.0</td>\n",
       "      <td>1.0</td>\n",
       "    </tr>\n",
       "  </tbody>\n",
       "</table>\n",
       "</div>"
      ],
      "text/plain": [
       "   uses 'phone'  uses 'linkedin'  uses'email'  uses 'manual_online'  \\\n",
       "0           1.0              0.0          1.0                   0.0   \n",
       "1           1.0              0.0          1.0                   1.0   \n",
       "2           0.0              0.0          0.0                   0.0   \n",
       "3           1.0              0.0          1.0                   0.0   \n",
       "\n",
       "   uses 'facebook'  uses 'amex'  uses'phone'  uses 'sent_id'  uses 'jumio'  \\\n",
       "0              0.0          0.0          0.0             0.0           1.0   \n",
       "1              0.0          0.0          0.0             0.0           1.0   \n",
       "2              0.0          0.0          1.0             0.0           0.0   \n",
       "3              0.0          0.0          0.0             0.0           1.0   \n",
       "\n",
       "   uses 'google'  uses 'weibo'  uses 'manual_offline'  uses'kba'  uses 'kba'  \\\n",
       "0            0.0           0.0                    0.0        0.0         0.0   \n",
       "1            0.0           0.0                    0.0        0.0         0.0   \n",
       "2            0.0           0.0                    0.0        0.0         0.0   \n",
       "3            0.0           0.0                    0.0        0.0         0.0   \n",
       "\n",
       "   uses 'reviews'  \n",
       "0             1.0  \n",
       "1             1.0  \n",
       "2             1.0  \n",
       "3             1.0  "
      ]
     },
     "execution_count": 11,
     "metadata": {},
     "output_type": "execute_result"
    }
   ],
   "source": [
    "listings[uses_verification_list].head(4)"
   ]
  },
  {
   "cell_type": "code",
   "execution_count": null,
   "metadata": {
    "collapsed": true
   },
   "outputs": [],
   "source": []
  }
 ],
 "metadata": {
  "anaconda-cloud": {},
  "kernelspec": {
   "display_name": "Python [conda env:py27]",
   "language": "python",
   "name": "conda-env-py27-py"
  },
  "language_info": {
   "codemirror_mode": {
    "name": "ipython",
    "version": 2
   },
   "file_extension": ".py",
   "mimetype": "text/x-python",
   "name": "python",
   "nbconvert_exporter": "python",
   "pygments_lexer": "ipython2",
   "version": "2.7.12"
  }
 },
 "nbformat": 4,
 "nbformat_minor": 2
}
