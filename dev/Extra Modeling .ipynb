{
 "cells": [
  {
   "cell_type": "code",
   "execution_count": 3,
   "metadata": {
    "collapsed": true
   },
   "outputs": [],
   "source": [
    "import pandas as pd\n",
    "import os\n",
    "import sklearn as sk\n",
    "from sklearn.linear_model import MultiTaskLasso, MultiTaskElasticNet, ElasticNet\n",
    "from sklearn.cross_validation import train_test_split\n",
    "from sklearn.metrics import mean_absolute_error, mean_squared_error\n",
    "import sklearn.metrics as skmet\n",
    "import numpy as np\n",
    "import nltk\n",
    "from nltk.tokenize import sent_tokenize, word_tokenize\n",
    "from nltk.corpus import stopwords, names\n",
    "import datetime\n",
    "from scipy.stats import ttest_ind, f_oneway\n",
    "import matplotlib.pyplot as plt\n",
    "import statsmodels.formula.api as sm"
   ]
  },
  {
   "cell_type": "code",
   "execution_count": 4,
   "metadata": {
    "collapsed": true
   },
   "outputs": [],
   "source": [
    "from sklearn import linear_model\n",
    "from sklearn.preprocessing import StandardScaler\n",
    "from sklearn.preprocessing import PolynomialFeatures\n",
    "from sklearn.pipeline import make_pipeline"
   ]
  },
  {
   "cell_type": "code",
   "execution_count": 5,
   "metadata": {},
   "outputs": [],
   "source": [
    "listings = pd.read_csv('inside_airbnb/listings.csv')\n",
    "list_summ = pd.read_csv('inside_airbnb/listings_summ.csv')\n",
    "neighborhoods = pd.read_csv('inside_airbnb/neighbourhoods.csv')\n",
    "reviews = pd.read_csv('inside_airbnb/reviews.csv')\n",
    "reviews_summ = pd.read_csv('inside_airbnb/reviews_summ.csv')\n",
    "calendar = pd.read_csv('inside_airbnb/calendar.csv')"
   ]
  },
  {
   "cell_type": "code",
   "execution_count": 4,
   "metadata": {},
   "outputs": [
    {
     "data": {
      "text/plain": [
       "Index([u'id', u'listing_url', u'scrape_id', u'last_scraped', u'name',\n",
       "       u'summary', u'space', u'description', u'experiences_offered',\n",
       "       u'neighborhood_overview', u'notes', u'transit', u'access',\n",
       "       u'interaction', u'house_rules', u'thumbnail_url', u'medium_url',\n",
       "       u'picture_url', u'xl_picture_url', u'host_id', u'host_url',\n",
       "       u'host_name', u'host_since', u'host_location', u'host_about',\n",
       "       u'host_response_time', u'host_response_rate', u'host_acceptance_rate',\n",
       "       u'host_is_superhost', u'host_thumbnail_url', u'host_picture_url',\n",
       "       u'host_neighbourhood', u'host_listings_count',\n",
       "       u'host_total_listings_count', u'host_verifications',\n",
       "       u'host_has_profile_pic', u'host_identity_verified', u'street',\n",
       "       u'neighbourhood', u'neighbourhood_cleansed',\n",
       "       u'neighbourhood_group_cleansed', u'city', u'state', u'zipcode',\n",
       "       u'market', u'smart_location', u'country_code', u'country', u'latitude',\n",
       "       u'longitude', u'is_location_exact', u'property_type', u'room_type',\n",
       "       u'accommodates', u'bathrooms', u'bedrooms', u'beds', u'bed_type',\n",
       "       u'amenities', u'square_feet', u'price', u'weekly_price',\n",
       "       u'monthly_price', u'security_deposit', u'cleaning_fee',\n",
       "       u'guests_included', u'extra_people', u'minimum_nights',\n",
       "       u'maximum_nights', u'calendar_updated', u'has_availability',\n",
       "       u'availability_30', u'availability_60', u'availability_90',\n",
       "       u'availability_365', u'calendar_last_scraped', u'number_of_reviews',\n",
       "       u'first_review', u'last_review', u'review_scores_rating',\n",
       "       u'review_scores_accuracy', u'review_scores_cleanliness',\n",
       "       u'review_scores_checkin', u'review_scores_communication',\n",
       "       u'review_scores_location', u'review_scores_value', u'requires_license',\n",
       "       u'license', u'jurisdiction_names', u'instant_bookable',\n",
       "       u'cancellation_policy', u'require_guest_profile_picture',\n",
       "       u'require_guest_phone_verification', u'calculated_host_listings_count',\n",
       "       u'reviews_per_month'],\n",
       "      dtype='object')"
      ]
     },
     "execution_count": 4,
     "metadata": {},
     "output_type": "execute_result"
    }
   ],
   "source": [
    "listings.columns"
   ]
  },
  {
   "cell_type": "code",
   "execution_count": 5,
   "metadata": {
    "scrolled": true
   },
   "outputs": [
    {
     "data": {
      "text/plain": [
       "0                                                     NaN\n",
       "1       Getting around is easy. Very close to Eastlake...\n",
       "2                                                     NaN\n",
       "3                                                     NaN\n",
       "4       Sorry, no buses within 1.5 mile; plenty of str...\n",
       "5       By car, mostly.  Sorry, nearest city busing is...\n",
       "6                            Better to have your own car.\n",
       "7                    not really, better you have your car\n",
       "8                         Better to have your own vehicle\n",
       "9                                                     NaN\n",
       "10                                                    NaN\n",
       "11         Comunicada con transporte publico a 1/2 cuadra\n",
       "12                                                    NaN\n",
       "13                                                    NaN\n",
       "14      10 minute walk to public transportation. 15 mi...\n",
       "15      10 minute walk to public transportation. 15 mi...\n",
       "16      10 minute walk to public transportation. 15 mi...\n",
       "17                                                    NaN\n",
       "18      10 minute walk to public transportation. 15 mi...\n",
       "19      In between 125 and 805 interstate. 5 minutes a...\n",
       "20      We are about 20 minutes from San Diego City Ce...\n",
       "21                                                    NaN\n",
       "22      Around the corner is the bus stop that can tak...\n",
       "23                                                    NaN\n",
       "24      Public transport is easy and close to our comp...\n",
       "25      A car is recommended and more convenient espec...\n",
       "26      Public transportation stations hubs are approx...\n",
       "27                                                    NaN\n",
       "28                                                    NaN\n",
       "29                                                    NaN\n",
       "                              ...                        \n",
       "6578                                                  NaN\n",
       "6579    Conveniently located 3-5min to the 8e/w fwy, t...\n",
       "6580                                                  NaN\n",
       "6581                                                  NaN\n",
       "6582    Having a car is advised, however, with the gro...\n",
       "6583                                                  NaN\n",
       "6584    Walking distance to the trolley. Shops and gro...\n",
       "6585               Once again  Close to the Troly Station\n",
       "6586                                                  NaN\n",
       "6587                                                  NaN\n",
       "6588                                                  NaN\n",
       "6589                                                  NaN\n",
       "6590                                                  NaN\n",
       "6591    Near several bus lines and Uber is all over th...\n",
       "6592                                                  NaN\n",
       "6593    Walking distance to trolley. The trolley can t...\n",
       "6594                   There is local bus transportation.\n",
       "6595                                                  NaN\n",
       "6596    Close to the 101 bus, SOL train station, and S...\n",
       "6597    Ample nearby street parking.  Close to lots of...\n",
       "6598                                                  NaN\n",
       "6599                                                  NaN\n",
       "6600    As you may know, San Diego doesn't provide ver...\n",
       "6601               walk, bicycle,car rental, train, bus. \n",
       "6602                                                  NaN\n",
       "6603                                                  NaN\n",
       "6604                                 Walk or suggest Uber\n",
       "6605    Parking available on site.  The Coaster train ...\n",
       "6606    For better or worse, San Diego is a driving ci...\n",
       "6607                                                  NaN\n",
       "Name: transit, dtype: object"
      ]
     },
     "execution_count": 5,
     "metadata": {},
     "output_type": "execute_result"
    }
   ],
   "source": [
    "listings['transit']"
   ]
  },
  {
   "cell_type": "code",
   "execution_count": 6,
   "metadata": {},
   "outputs": [
    {
     "data": {
      "text/plain": [
       "'For better or worse, San Diego is a driving city.  Everyone drives and cars are pretty much the best way to get around.   That being said, the apartment is very close to a bus stop, which will take you around Solana Beach.  The MTS is a great bus service that can take you downtown, or all over San Diego.  We also have a great trolly system.   Taxis, Uber and Lyft are also really good ways to commute in San Diego, especially if you go to bars.   Rental cars and Car2go are great ways to get around as well.'"
      ]
     },
     "execution_count": 6,
     "metadata": {},
     "output_type": "execute_result"
    }
   ],
   "source": [
    "listings['transit'][6606]"
   ]
  },
  {
   "cell_type": "code",
   "execution_count": 6,
   "metadata": {},
   "outputs": [
    {
     "data": {
      "text/plain": [
       "'Sorry, no buses within 1.5 mile; plenty of street parking if you have a car.  Soon to be a \"Rapid\" bus route from Otay Mesa border crossing, through our neighborhood, and on to downtown San Diego (dedicated stops only).  Uber is popular here.'"
      ]
     },
     "execution_count": 6,
     "metadata": {},
     "output_type": "execute_result"
    }
   ],
   "source": [
    "listings['transit'][4]"
   ]
  },
  {
   "cell_type": "code",
   "execution_count": 7,
   "metadata": {
    "scrolled": true
   },
   "outputs": [
    {
     "data": {
      "text/plain": [
       "0                       San Diego, CA\n",
       "1                     Chula Vista, CA\n",
       "2                     Chula Vista, CA\n",
       "3                     Chula Vista, CA\n",
       "4                     Chula Vista, CA\n",
       "5                     Chula Vista, CA\n",
       "6                     Chula Vista, CA\n",
       "7                     Chula Vista, CA\n",
       "8                     Chula Vista, CA\n",
       "9                     Chula Vista, CA\n",
       "10                    Chula Vista, CA\n",
       "11                    Chula Vista, CA\n",
       "12                    Chula Vista, CA\n",
       "13                    Chula Vista, CA\n",
       "14                    Chula Vista, CA\n",
       "15                    Chula Vista, CA\n",
       "16                    Chula Vista, CA\n",
       "17                    Chula Vista, CA\n",
       "18                    Chula Vista, CA\n",
       "19                    Chula Vista, CA\n",
       "20                    Chula Vista, CA\n",
       "21                    Chula Vista, CA\n",
       "22                    Chula Vista, CA\n",
       "23                    Chula Vista, CA\n",
       "24                    Chula Vista, CA\n",
       "25                    Chula Vista, CA\n",
       "26                    Chula Vista, CA\n",
       "27                    Chula Vista, CA\n",
       "28                    Chula Vista, CA\n",
       "29                    Chula Vista, CA\n",
       "                    ...              \n",
       "6578                      Del Mar, CA\n",
       "6579                      La Mesa, CA\n",
       "6580                National City, CA\n",
       "6581    National City (San Diego), CA\n",
       "6582                   San Diego , CA\n",
       "6583                  Chula Vista, CA\n",
       "6584                      La Mesa, CA\n",
       "6585                    San Diego, CA\n",
       "6586                    San Diego, CA\n",
       "6587                National City, CA\n",
       "6588                  Chula Vista, CA\n",
       "6589                  Tijuana, Mexico\n",
       "6590                    San Diego, CA\n",
       "6591                    San Diego, CA\n",
       "6592                      Del Mar, CA\n",
       "6593                  Chula Vista, CA\n",
       "6594                 Solana Beach, CA\n",
       "6595                    Escondido, CA\n",
       "6596                      Del Mar, CA\n",
       "6597                    San Diego, CA\n",
       "6598                       Bonita, CA\n",
       "6599                  Lemon Grove, CA\n",
       "6600                       Santee, CA\n",
       "6601                      Del Mar, CA\n",
       "6602        Playas de Tijuana, Mexico\n",
       "6603                      Del Mar, CA\n",
       "6604                      Del Mar, CA\n",
       "6605                 Solana Beach, CA\n",
       "6606                 Solana Beach, CA\n",
       "6607                 Solana Beach, CA\n",
       "Name: smart_location, dtype: object"
      ]
     },
     "execution_count": 7,
     "metadata": {},
     "output_type": "execute_result"
    }
   ],
   "source": [
    "listings['smart_location']"
   ]
  },
  {
   "cell_type": "code",
   "execution_count": 9,
   "metadata": {
    "scrolled": true
   },
   "outputs": [
    {
     "data": {
      "text/plain": [
       "array(['moderate', 'strict', 'flexible', 'super_strict_60',\n",
       "       'super_strict_30', 'no_refunds'], dtype=object)"
      ]
     },
     "execution_count": 9,
     "metadata": {},
     "output_type": "execute_result"
    }
   ],
   "source": [
    "listings['cancellation_policy'].unique()"
   ]
  },
  {
   "cell_type": "code",
   "execution_count": 12,
   "metadata": {
    "collapsed": true
   },
   "outputs": [],
   "source": [
    "def comma_split_sum(x):\n",
    "    b = x.split(',')\n",
    "    v = ''\n",
    "    \n",
    "    for h in b:\n",
    "        v = v + h\n",
    "    \n",
    "    return v"
   ]
  },
  {
   "cell_type": "code",
   "execution_count": 13,
   "metadata": {
    "collapsed": true
   },
   "outputs": [],
   "source": [
    "listings['numerical_price'] = listings['price'].map(lambda x: x[1:]).map(comma_split_sum).map(lambda x: float(x))"
   ]
  },
  {
   "cell_type": "code",
   "execution_count": 14,
   "metadata": {},
   "outputs": [
    {
     "name": "stdout",
     "output_type": "stream",
     "text": [
      "('moderate', 140.21585609593603)\n",
      "('strict', 230.4646814404432)\n",
      "('flexible', 175.4077568134172)\n",
      "('super_strict_60', 687.2217573221757)\n",
      "('super_strict_30', 370.3380281690141)\n",
      "('no_refunds', 295.0)\n"
     ]
    }
   ],
   "source": [
    "for w in listings['cancellation_policy'].unique():\n",
    "    a = listings[listings['cancellation_policy'] == w]['numerical_price'].mean()\n",
    "    print(w, a)"
   ]
  },
  {
   "cell_type": "code",
   "execution_count": 16,
   "metadata": {
    "collapsed": true
   },
   "outputs": [],
   "source": [
    "L = []\n",
    "for w in listings['cancellation_policy'].unique():\n",
    "    a = listings[listings['cancellation_policy'] == w]['numerical_price']\n",
    "    L.append(a)"
   ]
  },
  {
   "cell_type": "code",
   "execution_count": 24,
   "metadata": {},
   "outputs": [
    {
     "data": {
      "text/plain": [
       "6"
      ]
     },
     "execution_count": 24,
     "metadata": {},
     "output_type": "execute_result"
    }
   ],
   "source": [
    "len(L)"
   ]
  },
  {
   "cell_type": "code",
   "execution_count": 18,
   "metadata": {},
   "outputs": [
    {
     "data": {
      "text/plain": [
       "F_onewayResult(statistic=208.31891371991685, pvalue=6.9310916152157314e-207)"
      ]
     },
     "execution_count": 18,
     "metadata": {},
     "output_type": "execute_result"
    }
   ],
   "source": [
    "f_oneway(L[0], L[1], L[2], L[3], L[4], L[5])"
   ]
  },
  {
   "cell_type": "code",
   "execution_count": 20,
   "metadata": {
    "scrolled": true
   },
   "outputs": [
    {
     "data": {
      "text/plain": [
       "0       f\n",
       "1       f\n",
       "2       f\n",
       "3       f\n",
       "4       f\n",
       "5       f\n",
       "6       f\n",
       "7       f\n",
       "8       f\n",
       "9       f\n",
       "10      f\n",
       "11      f\n",
       "12      f\n",
       "13      f\n",
       "14      t\n",
       "15      t\n",
       "16      t\n",
       "17      f\n",
       "18      t\n",
       "19      t\n",
       "20      f\n",
       "21      f\n",
       "22      f\n",
       "23      f\n",
       "24      t\n",
       "25      f\n",
       "26      t\n",
       "27      f\n",
       "28      f\n",
       "29      f\n",
       "       ..\n",
       "6578    f\n",
       "6579    t\n",
       "6580    f\n",
       "6581    t\n",
       "6582    f\n",
       "6583    f\n",
       "6584    f\n",
       "6585    t\n",
       "6586    t\n",
       "6587    t\n",
       "6588    f\n",
       "6589    f\n",
       "6590    f\n",
       "6591    f\n",
       "6592    t\n",
       "6593    t\n",
       "6594    t\n",
       "6595    f\n",
       "6596    f\n",
       "6597    f\n",
       "6598    t\n",
       "6599    f\n",
       "6600    t\n",
       "6601    f\n",
       "6602    f\n",
       "6603    f\n",
       "6604    f\n",
       "6605    f\n",
       "6606    f\n",
       "6607    f\n",
       "Name: instant_bookable, dtype: object"
      ]
     },
     "execution_count": 20,
     "metadata": {},
     "output_type": "execute_result"
    }
   ],
   "source": [
    "listings['instant_bookable']"
   ]
  },
  {
   "cell_type": "code",
   "execution_count": 21,
   "metadata": {
    "collapsed": true
   },
   "outputs": [],
   "source": [
    "K = []\n",
    "for w in listings['instant_bookable'].unique():\n",
    "    a = listings[listings['instant_bookable'] == w]['numerical_price']\n",
    "    K.append(a)"
   ]
  },
  {
   "cell_type": "code",
   "execution_count": 32,
   "metadata": {},
   "outputs": [
    {
     "data": {
      "text/plain": [
       "2"
      ]
     },
     "execution_count": 32,
     "metadata": {},
     "output_type": "execute_result"
    }
   ],
   "source": [
    "len(K)"
   ]
  },
  {
   "cell_type": "code",
   "execution_count": 22,
   "metadata": {},
   "outputs": [
    {
     "data": {
      "text/plain": [
       "Ttest_indResult(statistic=-6.258843617575387, pvalue=4.1214250346295871e-10)"
      ]
     },
     "execution_count": 22,
     "metadata": {},
     "output_type": "execute_result"
    }
   ],
   "source": [
    "ttest_ind(K[0], K[1])"
   ]
  },
  {
   "cell_type": "code",
   "execution_count": 31,
   "metadata": {
    "scrolled": true
   },
   "outputs": [
    {
     "data": {
      "text/plain": [
       "0                 House\n",
       "1           Condominium\n",
       "2           Condominium\n",
       "3             Townhouse\n",
       "4                 House\n",
       "5                 House\n",
       "6                 House\n",
       "7                 House\n",
       "8                 House\n",
       "9                 House\n",
       "10                House\n",
       "11                House\n",
       "12                House\n",
       "13                House\n",
       "14                House\n",
       "15                House\n",
       "16                House\n",
       "17                House\n",
       "18                House\n",
       "19                House\n",
       "20                House\n",
       "21                House\n",
       "22      Bed & Breakfast\n",
       "23                House\n",
       "24                House\n",
       "25                House\n",
       "26                House\n",
       "27                House\n",
       "28                House\n",
       "29                House\n",
       "             ...       \n",
       "6578              House\n",
       "6579          Apartment\n",
       "6580              House\n",
       "6581          Apartment\n",
       "6582              House\n",
       "6583              House\n",
       "6584              House\n",
       "6585              House\n",
       "6586          Apartment\n",
       "6587              Other\n",
       "6588          Townhouse\n",
       "6589          Apartment\n",
       "6590               Boat\n",
       "6591              House\n",
       "6592              House\n",
       "6593               Boat\n",
       "6594        Condominium\n",
       "6595              House\n",
       "6596              House\n",
       "6597          Apartment\n",
       "6598          Apartment\n",
       "6599              House\n",
       "6600              House\n",
       "6601              House\n",
       "6602          Apartment\n",
       "6603             Chalet\n",
       "6604          Townhouse\n",
       "6605        Condominium\n",
       "6606          Apartment\n",
       "6607        Condominium\n",
       "Name: property_type, dtype: object"
      ]
     },
     "execution_count": 31,
     "metadata": {},
     "output_type": "execute_result"
    }
   ],
   "source": [
    "listings['property_type']"
   ]
  },
  {
   "cell_type": "code",
   "execution_count": 34,
   "metadata": {
    "collapsed": true
   },
   "outputs": [],
   "source": [
    "H = []\n",
    "for w in listings['property_type'].unique():\n",
    "    a = listings[listings['property_type'] == w]['numerical_price']\n",
    "    H.append(a)"
   ]
  },
  {
   "cell_type": "code",
   "execution_count": 35,
   "metadata": {},
   "outputs": [
    {
     "data": {
      "text/plain": [
       "17"
      ]
     },
     "execution_count": 35,
     "metadata": {},
     "output_type": "execute_result"
    }
   ],
   "source": [
    "len(H)"
   ]
  },
  {
   "cell_type": "code",
   "execution_count": 42,
   "metadata": {
    "collapsed": true
   },
   "outputs": [],
   "source": [
    "listings['numerical_cleaning_fee'] = listings['cleaning_fee'].fillna('$0.00').map(lambda x: x[1:]).map(comma_split_sum).map(lambda x: float(x))"
   ]
  },
  {
   "cell_type": "markdown",
   "metadata": {},
   "source": [
    "# Modeling "
   ]
  },
  {
   "cell_type": "code",
   "execution_count": 48,
   "metadata": {
    "collapsed": true
   },
   "outputs": [],
   "source": [
    "linear_regression = linear_model.LinearRegression(normalize=False, fit_intercept=True)"
   ]
  },
  {
   "cell_type": "code",
   "execution_count": 57,
   "metadata": {},
   "outputs": [
    {
     "data": {
      "text/plain": [
       "((6608L,), (6608L,))"
      ]
     },
     "execution_count": 57,
     "metadata": {},
     "output_type": "execute_result"
    }
   ],
   "source": [
    "listings['numerical_cleaning_fee'].shape, listings['numerical_price'].shape"
   ]
  },
  {
   "cell_type": "code",
   "execution_count": 84,
   "metadata": {},
   "outputs": [
    {
     "data": {
      "text/plain": [
       "array([[  1.,  nan],\n",
       "       [ nan,  nan]])"
      ]
     },
     "execution_count": 84,
     "metadata": {},
     "output_type": "execute_result"
    }
   ],
   "source": [
    "np.corrcoef(listings['numerical_cleaning_fee'], listings['bedrooms'])"
   ]
  },
  {
   "cell_type": "code",
   "execution_count": 87,
   "metadata": {},
   "outputs": [
    {
     "data": {
      "text/plain": [
       "6605"
      ]
     },
     "execution_count": 87,
     "metadata": {},
     "output_type": "execute_result"
    }
   ],
   "source": [
    "len(listings['bedrooms'].dropna())"
   ]
  },
  {
   "cell_type": "code",
   "execution_count": 88,
   "metadata": {},
   "outputs": [
    {
     "data": {
      "text/plain": [
       "array([[ 1.        ,  0.66934584],\n",
       "       [ 0.66934584,  1.        ]])"
      ]
     },
     "execution_count": 88,
     "metadata": {},
     "output_type": "execute_result"
    }
   ],
   "source": [
    "features = ['numerical_cleaning_fee', 'bedrooms']\n",
    "X = listings[features].dropna()\n",
    "np.corrcoef(X['numerical_cleaning_fee'], X['bedrooms'])"
   ]
  },
  {
   "cell_type": "markdown",
   "metadata": {},
   "source": [
    "### Linear Regression"
   ]
  },
  {
   "cell_type": "code",
   "execution_count": 74,
   "metadata": {
    "collapsed": true
   },
   "outputs": [],
   "source": [
    "features = ['numerical_cleaning_fee', 'numerical_price']\n",
    "data = listings[features]\n",
    "model = sm.ols(formula = 'numerical_price ~ numerical_cleaning_fee', data = data).fit()"
   ]
  },
  {
   "cell_type": "code",
   "execution_count": 75,
   "metadata": {},
   "outputs": [
    {
     "data": {
      "text/plain": [
       "Intercept                 80.971109\n",
       "numerical_cleaning_fee     1.717117\n",
       "dtype: float64"
      ]
     },
     "execution_count": 75,
     "metadata": {},
     "output_type": "execute_result"
    }
   ],
   "source": [
    "model.params"
   ]
  },
  {
   "cell_type": "code",
   "execution_count": 76,
   "metadata": {
    "scrolled": true
   },
   "outputs": [
    {
     "data": {
      "text/html": [
       "<table class=\"simpletable\">\n",
       "<caption>OLS Regression Results</caption>\n",
       "<tr>\n",
       "  <th>Dep. Variable:</th>     <td>numerical_price</td> <th>  R-squared:         </th> <td>   0.376</td> \n",
       "</tr>\n",
       "<tr>\n",
       "  <th>Model:</th>                   <td>OLS</td>       <th>  Adj. R-squared:    </th> <td>   0.376</td> \n",
       "</tr>\n",
       "<tr>\n",
       "  <th>Method:</th>             <td>Least Squares</td>  <th>  F-statistic:       </th> <td>   3988.</td> \n",
       "</tr>\n",
       "<tr>\n",
       "  <th>Date:</th>             <td>Mon, 16 Apr 2018</td> <th>  Prob (F-statistic):</th>  <td>  0.00</td>  \n",
       "</tr>\n",
       "<tr>\n",
       "  <th>Time:</th>                 <td>10:50:46</td>     <th>  Log-Likelihood:    </th> <td> -44880.</td> \n",
       "</tr>\n",
       "<tr>\n",
       "  <th>No. Observations:</th>      <td>  6608</td>      <th>  AIC:               </th> <td>8.976e+04</td>\n",
       "</tr>\n",
       "<tr>\n",
       "  <th>Df Residuals:</th>          <td>  6606</td>      <th>  BIC:               </th> <td>8.978e+04</td>\n",
       "</tr>\n",
       "<tr>\n",
       "  <th>Df Model:</th>              <td>     1</td>      <th>                     </th>     <td> </td>    \n",
       "</tr>\n",
       "<tr>\n",
       "  <th>Covariance Type:</th>      <td>nonrobust</td>    <th>                     </th>     <td> </td>    \n",
       "</tr>\n",
       "</table>\n",
       "<table class=\"simpletable\">\n",
       "<tr>\n",
       "             <td></td>               <th>coef</th>     <th>std err</th>      <th>t</th>      <th>P>|t|</th> <th>[95.0% Conf. Int.]</th> \n",
       "</tr>\n",
       "<tr>\n",
       "  <th>Intercept</th>              <td>   80.9711</td> <td>    3.367</td> <td>   24.046</td> <td> 0.000</td> <td>   74.370    87.572</td>\n",
       "</tr>\n",
       "<tr>\n",
       "  <th>numerical_cleaning_fee</th> <td>    1.7171</td> <td>    0.027</td> <td>   63.150</td> <td> 0.000</td> <td>    1.664     1.770</td>\n",
       "</tr>\n",
       "</table>\n",
       "<table class=\"simpletable\">\n",
       "<tr>\n",
       "  <th>Omnibus:</th>       <td>8385.640</td> <th>  Durbin-Watson:     </th>  <td>   1.969</td>  \n",
       "</tr>\n",
       "<tr>\n",
       "  <th>Prob(Omnibus):</th>  <td> 0.000</td>  <th>  Jarque-Bera (JB):  </th> <td>2157363.382</td>\n",
       "</tr>\n",
       "<tr>\n",
       "  <th>Skew:</th>           <td> 6.811</td>  <th>  Prob(JB):          </th>  <td>    0.00</td>  \n",
       "</tr>\n",
       "<tr>\n",
       "  <th>Kurtosis:</th>       <td>90.464</td>  <th>  Cond. No.          </th>  <td>    157.</td>  \n",
       "</tr>\n",
       "</table>"
      ],
      "text/plain": [
       "<class 'statsmodels.iolib.summary.Summary'>\n",
       "\"\"\"\n",
       "                            OLS Regression Results                            \n",
       "==============================================================================\n",
       "Dep. Variable:        numerical_price   R-squared:                       0.376\n",
       "Model:                            OLS   Adj. R-squared:                  0.376\n",
       "Method:                 Least Squares   F-statistic:                     3988.\n",
       "Date:                Mon, 16 Apr 2018   Prob (F-statistic):               0.00\n",
       "Time:                        10:50:46   Log-Likelihood:                -44880.\n",
       "No. Observations:                6608   AIC:                         8.976e+04\n",
       "Df Residuals:                    6606   BIC:                         8.978e+04\n",
       "Df Model:                           1                                         \n",
       "Covariance Type:            nonrobust                                         \n",
       "==========================================================================================\n",
       "                             coef    std err          t      P>|t|      [95.0% Conf. Int.]\n",
       "------------------------------------------------------------------------------------------\n",
       "Intercept                 80.9711      3.367     24.046      0.000        74.370    87.572\n",
       "numerical_cleaning_fee     1.7171      0.027     63.150      0.000         1.664     1.770\n",
       "==============================================================================\n",
       "Omnibus:                     8385.640   Durbin-Watson:                   1.969\n",
       "Prob(Omnibus):                  0.000   Jarque-Bera (JB):          2157363.382\n",
       "Skew:                           6.811   Prob(JB):                         0.00\n",
       "Kurtosis:                      90.464   Cond. No.                         157.\n",
       "==============================================================================\n",
       "\n",
       "Warnings:\n",
       "[1] Standard Errors assume that the covariance matrix of the errors is correctly specified.\n",
       "\"\"\""
      ]
     },
     "execution_count": 76,
     "metadata": {},
     "output_type": "execute_result"
    }
   ],
   "source": [
    "model.summary()"
   ]
  },
  {
   "cell_type": "markdown",
   "metadata": {},
   "source": [
    "### Quadratic Regression"
   ]
  },
  {
   "cell_type": "code",
   "execution_count": 63,
   "metadata": {
    "collapsed": true
   },
   "outputs": [],
   "source": [
    "features = ['numerical_cleaning_fee', 'numerical_price']\n",
    "data = listings[features]\n",
    "model = sm.ols(formula = 'numerical_price ~ np.power(numerical_cleaning_fee, 2) + numerical_cleaning_fee', data = data).fit()"
   ]
  },
  {
   "cell_type": "code",
   "execution_count": 65,
   "metadata": {},
   "outputs": [
    {
     "data": {
      "text/plain": [
       "Intercept                              120.415816\n",
       "np.power(numerical_cleaning_fee, 2)      0.002804\n",
       "numerical_cleaning_fee                   0.637534\n",
       "dtype: float64"
      ]
     },
     "execution_count": 65,
     "metadata": {},
     "output_type": "execute_result"
    }
   ],
   "source": [
    "model.params"
   ]
  },
  {
   "cell_type": "code",
   "execution_count": 68,
   "metadata": {
    "scrolled": true
   },
   "outputs": [
    {
     "data": {
      "text/html": [
       "<table class=\"simpletable\">\n",
       "<caption>OLS Regression Results</caption>\n",
       "<tr>\n",
       "  <th>Dep. Variable:</th>     <td>numerical_price</td> <th>  R-squared:         </th> <td>   0.420</td> \n",
       "</tr>\n",
       "<tr>\n",
       "  <th>Model:</th>                   <td>OLS</td>       <th>  Adj. R-squared:    </th> <td>   0.420</td> \n",
       "</tr>\n",
       "<tr>\n",
       "  <th>Method:</th>             <td>Least Squares</td>  <th>  F-statistic:       </th> <td>   2390.</td> \n",
       "</tr>\n",
       "<tr>\n",
       "  <th>Date:</th>             <td>Mon, 16 Apr 2018</td> <th>  Prob (F-statistic):</th>  <td>  0.00</td>  \n",
       "</tr>\n",
       "<tr>\n",
       "  <th>Time:</th>                 <td>10:46:11</td>     <th>  Log-Likelihood:    </th> <td> -44641.</td> \n",
       "</tr>\n",
       "<tr>\n",
       "  <th>No. Observations:</th>      <td>  6608</td>      <th>  AIC:               </th> <td>8.929e+04</td>\n",
       "</tr>\n",
       "<tr>\n",
       "  <th>Df Residuals:</th>          <td>  6605</td>      <th>  BIC:               </th> <td>8.931e+04</td>\n",
       "</tr>\n",
       "<tr>\n",
       "  <th>Df Model:</th>              <td>     2</td>      <th>                     </th>     <td> </td>    \n",
       "</tr>\n",
       "<tr>\n",
       "  <th>Covariance Type:</th>      <td>nonrobust</td>    <th>                     </th>     <td> </td>    \n",
       "</tr>\n",
       "</table>\n",
       "<table class=\"simpletable\">\n",
       "<tr>\n",
       "                   <td></td>                      <th>coef</th>     <th>std err</th>      <th>t</th>      <th>P>|t|</th> <th>[95.0% Conf. Int.]</th> \n",
       "</tr>\n",
       "<tr>\n",
       "  <th>Intercept</th>                           <td>  120.4158</td> <td>    3.701</td> <td>   32.537</td> <td> 0.000</td> <td>  113.161   127.671</td>\n",
       "</tr>\n",
       "<tr>\n",
       "  <th>np.power(numerical_cleaning_fee, 2)</th> <td>    0.0028</td> <td>    0.000</td> <td>   22.238</td> <td> 0.000</td> <td>    0.003     0.003</td>\n",
       "</tr>\n",
       "<tr>\n",
       "  <th>numerical_cleaning_fee</th>              <td>    0.6375</td> <td>    0.055</td> <td>   11.554</td> <td> 0.000</td> <td>    0.529     0.746</td>\n",
       "</tr>\n",
       "</table>\n",
       "<table class=\"simpletable\">\n",
       "<tr>\n",
       "  <th>Omnibus:</th>       <td>8321.296</td> <th>  Durbin-Watson:     </th>  <td>   1.943</td>  \n",
       "</tr>\n",
       "<tr>\n",
       "  <th>Prob(Omnibus):</th>  <td> 0.000</td>  <th>  Jarque-Bera (JB):  </th> <td>2419785.859</td>\n",
       "</tr>\n",
       "<tr>\n",
       "  <th>Skew:</th>           <td> 6.653</td>  <th>  Prob(JB):          </th>  <td>    0.00</td>  \n",
       "</tr>\n",
       "<tr>\n",
       "  <th>Kurtosis:</th>       <td>95.798</td>  <th>  Cond. No.          </th>  <td>6.56e+04</td>  \n",
       "</tr>\n",
       "</table>"
      ],
      "text/plain": [
       "<class 'statsmodels.iolib.summary.Summary'>\n",
       "\"\"\"\n",
       "                            OLS Regression Results                            \n",
       "==============================================================================\n",
       "Dep. Variable:        numerical_price   R-squared:                       0.420\n",
       "Model:                            OLS   Adj. R-squared:                  0.420\n",
       "Method:                 Least Squares   F-statistic:                     2390.\n",
       "Date:                Mon, 16 Apr 2018   Prob (F-statistic):               0.00\n",
       "Time:                        10:46:11   Log-Likelihood:                -44641.\n",
       "No. Observations:                6608   AIC:                         8.929e+04\n",
       "Df Residuals:                    6605   BIC:                         8.931e+04\n",
       "Df Model:                           2                                         \n",
       "Covariance Type:            nonrobust                                         \n",
       "=======================================================================================================\n",
       "                                          coef    std err          t      P>|t|      [95.0% Conf. Int.]\n",
       "-------------------------------------------------------------------------------------------------------\n",
       "Intercept                             120.4158      3.701     32.537      0.000       113.161   127.671\n",
       "np.power(numerical_cleaning_fee, 2)     0.0028      0.000     22.238      0.000         0.003     0.003\n",
       "numerical_cleaning_fee                  0.6375      0.055     11.554      0.000         0.529     0.746\n",
       "==============================================================================\n",
       "Omnibus:                     8321.296   Durbin-Watson:                   1.943\n",
       "Prob(Omnibus):                  0.000   Jarque-Bera (JB):          2419785.859\n",
       "Skew:                           6.653   Prob(JB):                         0.00\n",
       "Kurtosis:                      95.798   Cond. No.                     6.56e+04\n",
       "==============================================================================\n",
       "\n",
       "Warnings:\n",
       "[1] Standard Errors assume that the covariance matrix of the errors is correctly specified.\n",
       "[2] The condition number is large, 6.56e+04. This might indicate that there are\n",
       "strong multicollinearity or other numerical problems.\n",
       "\"\"\""
      ]
     },
     "execution_count": 68,
     "metadata": {},
     "output_type": "execute_result"
    }
   ],
   "source": [
    "model.summary()"
   ]
  },
  {
   "cell_type": "markdown",
   "metadata": {},
   "source": [
    "### Cubic Regression"
   ]
  },
  {
   "cell_type": "code",
   "execution_count": 69,
   "metadata": {
    "collapsed": true
   },
   "outputs": [],
   "source": [
    "features = ['numerical_cleaning_fee', 'numerical_price']\n",
    "data = listings[features]\n",
    "model = sm.ols(formula = 'numerical_price ~ np.power(numerical_cleaning_fee, 3) + np.power(numerical_cleaning_fee, 2) + numerical_cleaning_fee', data = data).fit()"
   ]
  },
  {
   "cell_type": "code",
   "execution_count": 72,
   "metadata": {},
   "outputs": [
    {
     "data": {
      "text/plain": [
       "Intercept                              133.662676\n",
       "np.power(numerical_cleaning_fee, 3)     -0.000004\n",
       "np.power(numerical_cleaning_fee, 2)      0.006194\n",
       "numerical_cleaning_fee                   0.033082\n",
       "dtype: float64"
      ]
     },
     "execution_count": 72,
     "metadata": {},
     "output_type": "execute_result"
    }
   ],
   "source": [
    "model.params"
   ]
  },
  {
   "cell_type": "code",
   "execution_count": 73,
   "metadata": {
    "scrolled": true
   },
   "outputs": [
    {
     "data": {
      "text/html": [
       "<table class=\"simpletable\">\n",
       "<caption>OLS Regression Results</caption>\n",
       "<tr>\n",
       "  <th>Dep. Variable:</th>     <td>numerical_price</td> <th>  R-squared:         </th> <td>   0.425</td> \n",
       "</tr>\n",
       "<tr>\n",
       "  <th>Model:</th>                   <td>OLS</td>       <th>  Adj. R-squared:    </th> <td>   0.425</td> \n",
       "</tr>\n",
       "<tr>\n",
       "  <th>Method:</th>             <td>Least Squares</td>  <th>  F-statistic:       </th> <td>   1629.</td> \n",
       "</tr>\n",
       "<tr>\n",
       "  <th>Date:</th>             <td>Mon, 16 Apr 2018</td> <th>  Prob (F-statistic):</th>  <td>  0.00</td>  \n",
       "</tr>\n",
       "<tr>\n",
       "  <th>Time:</th>                 <td>10:49:50</td>     <th>  Log-Likelihood:    </th> <td> -44610.</td> \n",
       "</tr>\n",
       "<tr>\n",
       "  <th>No. Observations:</th>      <td>  6608</td>      <th>  AIC:               </th> <td>8.923e+04</td>\n",
       "</tr>\n",
       "<tr>\n",
       "  <th>Df Residuals:</th>          <td>  6604</td>      <th>  BIC:               </th> <td>8.925e+04</td>\n",
       "</tr>\n",
       "<tr>\n",
       "  <th>Df Model:</th>              <td>     3</td>      <th>                     </th>     <td> </td>    \n",
       "</tr>\n",
       "<tr>\n",
       "  <th>Covariance Type:</th>      <td>nonrobust</td>    <th>                     </th>     <td> </td>    \n",
       "</tr>\n",
       "</table>\n",
       "<table class=\"simpletable\">\n",
       "<tr>\n",
       "                   <td></td>                      <th>coef</th>     <th>std err</th>      <th>t</th>      <th>P>|t|</th> <th>[95.0% Conf. Int.]</th> \n",
       "</tr>\n",
       "<tr>\n",
       "  <th>Intercept</th>                           <td>  133.6627</td> <td>    4.044</td> <td>   33.050</td> <td> 0.000</td> <td>  125.735   141.591</td>\n",
       "</tr>\n",
       "<tr>\n",
       "  <th>np.power(numerical_cleaning_fee, 3)</th> <td>-3.949e-06</td> <td> 4.98e-07</td> <td>   -7.935</td> <td> 0.000</td> <td>-4.92e-06 -2.97e-06</td>\n",
       "</tr>\n",
       "<tr>\n",
       "  <th>np.power(numerical_cleaning_fee, 2)</th> <td>    0.0062</td> <td>    0.000</td> <td>   13.910</td> <td> 0.000</td> <td>    0.005     0.007</td>\n",
       "</tr>\n",
       "<tr>\n",
       "  <th>numerical_cleaning_fee</th>              <td>    0.0331</td> <td>    0.094</td> <td>    0.352</td> <td> 0.725</td> <td>   -0.151     0.217</td>\n",
       "</tr>\n",
       "</table>\n",
       "<table class=\"simpletable\">\n",
       "<tr>\n",
       "  <th>Omnibus:</th>       <td>8281.653</td> <th>  Durbin-Watson:     </th>  <td>   1.937</td>  \n",
       "</tr>\n",
       "<tr>\n",
       "  <th>Prob(Omnibus):</th>  <td> 0.000</td>  <th>  Jarque-Bera (JB):  </th> <td>2355401.607</td>\n",
       "</tr>\n",
       "<tr>\n",
       "  <th>Skew:</th>           <td> 6.601</td>  <th>  Prob(JB):          </th>  <td>    0.00</td>  \n",
       "</tr>\n",
       "<tr>\n",
       "  <th>Kurtosis:</th>       <td>94.545</td>  <th>  Cond. No.          </th>  <td>4.06e+07</td>  \n",
       "</tr>\n",
       "</table>"
      ],
      "text/plain": [
       "<class 'statsmodels.iolib.summary.Summary'>\n",
       "\"\"\"\n",
       "                            OLS Regression Results                            \n",
       "==============================================================================\n",
       "Dep. Variable:        numerical_price   R-squared:                       0.425\n",
       "Model:                            OLS   Adj. R-squared:                  0.425\n",
       "Method:                 Least Squares   F-statistic:                     1629.\n",
       "Date:                Mon, 16 Apr 2018   Prob (F-statistic):               0.00\n",
       "Time:                        10:49:50   Log-Likelihood:                -44610.\n",
       "No. Observations:                6608   AIC:                         8.923e+04\n",
       "Df Residuals:                    6604   BIC:                         8.925e+04\n",
       "Df Model:                           3                                         \n",
       "Covariance Type:            nonrobust                                         \n",
       "=======================================================================================================\n",
       "                                          coef    std err          t      P>|t|      [95.0% Conf. Int.]\n",
       "-------------------------------------------------------------------------------------------------------\n",
       "Intercept                             133.6627      4.044     33.050      0.000       125.735   141.591\n",
       "np.power(numerical_cleaning_fee, 3) -3.949e-06   4.98e-07     -7.935      0.000     -4.92e-06 -2.97e-06\n",
       "np.power(numerical_cleaning_fee, 2)     0.0062      0.000     13.910      0.000         0.005     0.007\n",
       "numerical_cleaning_fee                  0.0331      0.094      0.352      0.725        -0.151     0.217\n",
       "==============================================================================\n",
       "Omnibus:                     8281.653   Durbin-Watson:                   1.937\n",
       "Prob(Omnibus):                  0.000   Jarque-Bera (JB):          2355401.607\n",
       "Skew:                           6.601   Prob(JB):                         0.00\n",
       "Kurtosis:                      94.545   Cond. No.                     4.06e+07\n",
       "==============================================================================\n",
       "\n",
       "Warnings:\n",
       "[1] Standard Errors assume that the covariance matrix of the errors is correctly specified.\n",
       "[2] The condition number is large, 4.06e+07. This might indicate that there are\n",
       "strong multicollinearity or other numerical problems.\n",
       "\"\"\""
      ]
     },
     "execution_count": 73,
     "metadata": {},
     "output_type": "execute_result"
    }
   ],
   "source": [
    "model.summary()"
   ]
  },
  {
   "cell_type": "markdown",
   "metadata": {},
   "source": [
    "### All polynomial regression"
   ]
  },
  {
   "cell_type": "code",
   "execution_count": 49,
   "metadata": {
    "scrolled": true
   },
   "outputs": [
    {
     "name": "stderr",
     "output_type": "stream",
     "text": [
      "C:\\Users\\sanka\\Anaconda2\\envs\\py27\\lib\\site-packages\\sklearn\\utils\\validation.py:386: DeprecationWarning: Passing 1d arrays as data is deprecated in 0.17 and willraise ValueError in 0.19. Reshape your data either using X.reshape(-1, 1) if your data has a single feature or X.reshape(1, -1) if it contains a single sample.\n",
      "  DeprecationWarning)\n",
      "C:\\Users\\sanka\\Anaconda2\\envs\\py27\\lib\\site-packages\\sklearn\\utils\\validation.py:386: DeprecationWarning: Passing 1d arrays as data is deprecated in 0.17 and willraise ValueError in 0.19. Reshape your data either using X.reshape(-1, 1) if your data has a single feature or X.reshape(1, -1) if it contains a single sample.\n",
      "  DeprecationWarning)\n"
     ]
    },
    {
     "ename": "ValueError",
     "evalue": "Found arrays with inconsistent numbers of samples: [   1 6608]",
     "output_type": "error",
     "traceback": [
      "\u001b[0;31m---------------------------------------------------------------------------\u001b[0m",
      "\u001b[0;31mValueError\u001b[0m                                Traceback (most recent call last)",
      "\u001b[0;32m<ipython-input-49-ab69024bf883>\u001b[0m in \u001b[0;36m<module>\u001b[0;34m()\u001b[0m\n\u001b[1;32m      2\u001b[0m     \u001b[0mcreate_poly\u001b[0m \u001b[1;33m=\u001b[0m \u001b[0mPolynomialFeatures\u001b[0m\u001b[1;33m(\u001b[0m\u001b[0mdegree\u001b[0m\u001b[1;33m=\u001b[0m\u001b[0md\u001b[0m\u001b[1;33m,\u001b[0m \u001b[0minteraction_only\u001b[0m\u001b[1;33m=\u001b[0m\u001b[0mFalse\u001b[0m\u001b[1;33m,\u001b[0m \u001b[0minclude_bias\u001b[0m\u001b[1;33m=\u001b[0m\u001b[0mFalse\u001b[0m\u001b[1;33m)\u001b[0m\u001b[1;33m\u001b[0m\u001b[0m\n\u001b[1;32m      3\u001b[0m     \u001b[0mpoly\u001b[0m \u001b[1;33m=\u001b[0m \u001b[0mmake_pipeline\u001b[0m\u001b[1;33m(\u001b[0m\u001b[0mcreate_poly\u001b[0m\u001b[1;33m,\u001b[0m \u001b[0mStandardScaler\u001b[0m\u001b[1;33m(\u001b[0m\u001b[1;33m)\u001b[0m\u001b[1;33m,\u001b[0m \u001b[0mlinear_regression\u001b[0m\u001b[1;33m)\u001b[0m\u001b[1;33m\u001b[0m\u001b[0m\n\u001b[0;32m----> 4\u001b[0;31m     \u001b[0mmodel\u001b[0m \u001b[1;33m=\u001b[0m \u001b[0mpoly\u001b[0m\u001b[1;33m.\u001b[0m\u001b[0mfit\u001b[0m\u001b[1;33m(\u001b[0m\u001b[0mlistings\u001b[0m\u001b[1;33m[\u001b[0m\u001b[1;34m'numerical_cleaning_fee'\u001b[0m\u001b[1;33m]\u001b[0m\u001b[1;33m,\u001b[0m \u001b[0mlistings\u001b[0m\u001b[1;33m[\u001b[0m\u001b[1;34m'numerical_price'\u001b[0m\u001b[1;33m]\u001b[0m\u001b[1;33m)\u001b[0m\u001b[1;33m\u001b[0m\u001b[0m\n\u001b[0m\u001b[1;32m      5\u001b[0m     \u001b[1;32mprint\u001b[0m \u001b[1;33m(\u001b[0m\u001b[1;34m\"R2 degree - %2i polynomial : %0.3f\"\u001b[0m \u001b[1;33m%\u001b[0m\u001b[1;33m(\u001b[0m\u001b[0md\u001b[0m\u001b[1;33m,\u001b[0m\u001b[0mr2_score\u001b[0m\u001b[1;33m(\u001b[0m\u001b[0mlistings\u001b[0m\u001b[1;33m[\u001b[0m\u001b[1;34m'numerical_price'\u001b[0m\u001b[1;33m]\u001b[0m\u001b[1;33m,\u001b[0m \u001b[0mmodel\u001b[0m\u001b[1;33m.\u001b[0m\u001b[0mpredict\u001b[0m\u001b[1;33m(\u001b[0m\u001b[0mlistings\u001b[0m\u001b[1;33m[\u001b[0m\u001b[1;34m'numerical_cleaning_fee'\u001b[0m\u001b[1;33m]\u001b[0m\u001b[1;33m)\u001b[0m\u001b[1;33m)\u001b[0m\u001b[1;33m)\u001b[0m\u001b[1;33m)\u001b[0m\u001b[1;33m\u001b[0m\u001b[0m\n",
      "\u001b[0;32mC:\\Users\\sanka\\Anaconda2\\envs\\py27\\lib\\site-packages\\sklearn\\pipeline.pyc\u001b[0m in \u001b[0;36mfit\u001b[0;34m(self, X, y, **fit_params)\u001b[0m\n\u001b[1;32m    163\u001b[0m         \"\"\"\n\u001b[1;32m    164\u001b[0m         \u001b[0mXt\u001b[0m\u001b[1;33m,\u001b[0m \u001b[0mfit_params\u001b[0m \u001b[1;33m=\u001b[0m \u001b[0mself\u001b[0m\u001b[1;33m.\u001b[0m\u001b[0m_pre_transform\u001b[0m\u001b[1;33m(\u001b[0m\u001b[0mX\u001b[0m\u001b[1;33m,\u001b[0m \u001b[0my\u001b[0m\u001b[1;33m,\u001b[0m \u001b[1;33m**\u001b[0m\u001b[0mfit_params\u001b[0m\u001b[1;33m)\u001b[0m\u001b[1;33m\u001b[0m\u001b[0m\n\u001b[0;32m--> 165\u001b[0;31m         \u001b[0mself\u001b[0m\u001b[1;33m.\u001b[0m\u001b[0msteps\u001b[0m\u001b[1;33m[\u001b[0m\u001b[1;33m-\u001b[0m\u001b[1;36m1\u001b[0m\u001b[1;33m]\u001b[0m\u001b[1;33m[\u001b[0m\u001b[1;33m-\u001b[0m\u001b[1;36m1\u001b[0m\u001b[1;33m]\u001b[0m\u001b[1;33m.\u001b[0m\u001b[0mfit\u001b[0m\u001b[1;33m(\u001b[0m\u001b[0mXt\u001b[0m\u001b[1;33m,\u001b[0m \u001b[0my\u001b[0m\u001b[1;33m,\u001b[0m \u001b[1;33m**\u001b[0m\u001b[0mfit_params\u001b[0m\u001b[1;33m)\u001b[0m\u001b[1;33m\u001b[0m\u001b[0m\n\u001b[0m\u001b[1;32m    166\u001b[0m         \u001b[1;32mreturn\u001b[0m \u001b[0mself\u001b[0m\u001b[1;33m\u001b[0m\u001b[0m\n\u001b[1;32m    167\u001b[0m \u001b[1;33m\u001b[0m\u001b[0m\n",
      "\u001b[0;32mC:\\Users\\sanka\\Anaconda2\\envs\\py27\\lib\\site-packages\\sklearn\\linear_model\\base.pyc\u001b[0m in \u001b[0;36mfit\u001b[0;34m(self, X, y, sample_weight)\u001b[0m\n\u001b[1;32m    425\u001b[0m         \u001b[0mn_jobs_\u001b[0m \u001b[1;33m=\u001b[0m \u001b[0mself\u001b[0m\u001b[1;33m.\u001b[0m\u001b[0mn_jobs\u001b[0m\u001b[1;33m\u001b[0m\u001b[0m\n\u001b[1;32m    426\u001b[0m         X, y = check_X_y(X, y, accept_sparse=['csr', 'csc', 'coo'],\n\u001b[0;32m--> 427\u001b[0;31m                          y_numeric=True, multi_output=True)\n\u001b[0m\u001b[1;32m    428\u001b[0m \u001b[1;33m\u001b[0m\u001b[0m\n\u001b[1;32m    429\u001b[0m         \u001b[1;32mif\u001b[0m \u001b[1;33m(\u001b[0m\u001b[1;33m(\u001b[0m\u001b[0msample_weight\u001b[0m \u001b[1;32mis\u001b[0m \u001b[1;32mnot\u001b[0m \u001b[0mNone\u001b[0m\u001b[1;33m)\u001b[0m \u001b[1;32mand\u001b[0m \u001b[0mnp\u001b[0m\u001b[1;33m.\u001b[0m\u001b[0matleast_1d\u001b[0m\u001b[1;33m(\u001b[0m\u001b[0msample_weight\u001b[0m\u001b[1;33m)\u001b[0m\u001b[1;33m.\u001b[0m\u001b[0mndim\u001b[0m \u001b[1;33m>\u001b[0m \u001b[1;36m1\u001b[0m\u001b[1;33m)\u001b[0m\u001b[1;33m:\u001b[0m\u001b[1;33m\u001b[0m\u001b[0m\n",
      "\u001b[0;32mC:\\Users\\sanka\\Anaconda2\\envs\\py27\\lib\\site-packages\\sklearn\\utils\\validation.pyc\u001b[0m in \u001b[0;36mcheck_X_y\u001b[0;34m(X, y, accept_sparse, dtype, order, copy, force_all_finite, ensure_2d, allow_nd, multi_output, ensure_min_samples, ensure_min_features, y_numeric, warn_on_dtype, estimator)\u001b[0m\n\u001b[1;32m    518\u001b[0m         \u001b[0my\u001b[0m \u001b[1;33m=\u001b[0m \u001b[0my\u001b[0m\u001b[1;33m.\u001b[0m\u001b[0mastype\u001b[0m\u001b[1;33m(\u001b[0m\u001b[0mnp\u001b[0m\u001b[1;33m.\u001b[0m\u001b[0mfloat64\u001b[0m\u001b[1;33m)\u001b[0m\u001b[1;33m\u001b[0m\u001b[0m\n\u001b[1;32m    519\u001b[0m \u001b[1;33m\u001b[0m\u001b[0m\n\u001b[0;32m--> 520\u001b[0;31m     \u001b[0mcheck_consistent_length\u001b[0m\u001b[1;33m(\u001b[0m\u001b[0mX\u001b[0m\u001b[1;33m,\u001b[0m \u001b[0my\u001b[0m\u001b[1;33m)\u001b[0m\u001b[1;33m\u001b[0m\u001b[0m\n\u001b[0m\u001b[1;32m    521\u001b[0m \u001b[1;33m\u001b[0m\u001b[0m\n\u001b[1;32m    522\u001b[0m     \u001b[1;32mreturn\u001b[0m \u001b[0mX\u001b[0m\u001b[1;33m,\u001b[0m \u001b[0my\u001b[0m\u001b[1;33m\u001b[0m\u001b[0m\n",
      "\u001b[0;32mC:\\Users\\sanka\\Anaconda2\\envs\\py27\\lib\\site-packages\\sklearn\\utils\\validation.pyc\u001b[0m in \u001b[0;36mcheck_consistent_length\u001b[0;34m(*arrays)\u001b[0m\n\u001b[1;32m    174\u001b[0m     \u001b[1;32mif\u001b[0m \u001b[0mlen\u001b[0m\u001b[1;33m(\u001b[0m\u001b[0muniques\u001b[0m\u001b[1;33m)\u001b[0m \u001b[1;33m>\u001b[0m \u001b[1;36m1\u001b[0m\u001b[1;33m:\u001b[0m\u001b[1;33m\u001b[0m\u001b[0m\n\u001b[1;32m    175\u001b[0m         raise ValueError(\"Found arrays with inconsistent numbers of samples: \"\n\u001b[0;32m--> 176\u001b[0;31m                          \"%s\" % str(uniques))\n\u001b[0m\u001b[1;32m    177\u001b[0m \u001b[1;33m\u001b[0m\u001b[0m\n\u001b[1;32m    178\u001b[0m \u001b[1;33m\u001b[0m\u001b[0m\n",
      "\u001b[0;31mValueError\u001b[0m: Found arrays with inconsistent numbers of samples: [   1 6608]"
     ]
    }
   ],
   "source": [
    "for d in range(1,4):\n",
    "    create_poly = PolynomialFeatures(degree=d, interaction_only=False, include_bias=False)\n",
    "    poly = make_pipeline(create_poly, StandardScaler(), linear_regression)\n",
    "    model = poly.fit(listings['numerical_cleaning_fee'], listings['numerical_price'])\n",
    "    print (\"R2 degree - %2i polynomial : %0.3f\" %(d,r2_score(listings['numerical_price'], model.predict(listings['numerical_cleaning_fee']))))"
   ]
  }
 ],
 "metadata": {
  "anaconda-cloud": {},
  "kernelspec": {
   "display_name": "Python [conda env:py27]",
   "language": "python",
   "name": "conda-env-py27-py"
  },
  "language_info": {
   "codemirror_mode": {
    "name": "ipython",
    "version": 2
   },
   "file_extension": ".py",
   "mimetype": "text/x-python",
   "name": "python",
   "nbconvert_exporter": "python",
   "pygments_lexer": "ipython2",
   "version": "2.7.12"
  }
 },
 "nbformat": 4,
 "nbformat_minor": 2
}
