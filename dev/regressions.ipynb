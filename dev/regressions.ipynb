{
 "cells": [
  {
   "cell_type": "markdown",
   "metadata": {},
   "source": [
    "# Linear & Non Linear Regression Notebook"
   ]
  },
  {
   "cell_type": "markdown",
   "metadata": {},
   "source": [
    "Notebook to experiment solely with Linear Regression Models"
   ]
  },
  {
   "cell_type": "code",
   "execution_count": 1,
   "metadata": {},
   "outputs": [
    {
     "name": "stderr",
     "output_type": "stream",
     "text": [
      "/Users/pauldefusco/anaconda2/envs/py27/lib/python2.7/site-packages/statsmodels/compat/pandas.py:56: FutureWarning: The pandas.core.datetools module is deprecated and will be removed in a future version. Please use the pandas.tseries module instead.\n",
      "  from pandas.core import datetools\n"
     ]
    }
   ],
   "source": [
    "import pandas as pd\n",
    "import numpy as np\n",
    "import scipy.stats as stats\n",
    "import statsmodels.api as sm\n",
    "import statsmodels.formula.api as smf\n",
    "import statsmodels.stats.api as sms\n",
    "from __future__ import print_function\n",
    "from statsmodels.compat import lzip\n",
    "import matplotlib.pyplot as plt\n",
    "import numpy as np\n",
    "import pyarrow as pa\n",
    "import pyarrow.parquet as pq\n",
    "import sklearn as sk\n",
    "from sklearn.linear_model import LinearRegression"
   ]
  },
  {
   "cell_type": "code",
   "execution_count": 2,
   "metadata": {
    "collapsed": true
   },
   "outputs": [],
   "source": [
    "master = pd.read_parquet('master.parquet',engine='fastparquet')"
   ]
  },
  {
   "cell_type": "code",
   "execution_count": 3,
   "metadata": {
    "collapsed": true
   },
   "outputs": [],
   "source": [
    "master = master.select_dtypes(include=['float64','int64'])"
   ]
  },
  {
   "cell_type": "code",
   "execution_count": 4,
   "metadata": {
    "collapsed": true
   },
   "outputs": [],
   "source": [
    "master=master.fillna(0)"
   ]
  },
  {
   "cell_type": "code",
   "execution_count": 5,
   "metadata": {
    "collapsed": true
   },
   "outputs": [],
   "source": [
    "X = master.drop('price_y', axis = 1)"
   ]
  },
  {
   "cell_type": "code",
   "execution_count": 6,
   "metadata": {
    "collapsed": true
   },
   "outputs": [],
   "source": [
    "y = master['price_y']"
   ]
  },
  {
   "cell_type": "markdown",
   "metadata": {},
   "source": [
    "Using Stats Models to do Regression - Provides more info than SKlearn in the summary:"
   ]
  },
  {
   "cell_type": "code",
   "execution_count": 7,
   "metadata": {
    "collapsed": true
   },
   "outputs": [],
   "source": [
    "X2 = sm.add_constant(X)\n",
    "X2 = X2.drop(columns=['listing_id','id','scrape_id','host_id','longitude', 'latitude', 'zipcode','has_availability','license'])"
   ]
  },
  {
   "cell_type": "code",
   "execution_count": 8,
   "metadata": {
    "collapsed": true
   },
   "outputs": [],
   "source": [
    "est = sm.OLS(y, X2)\n",
    "est2 = est.fit()"
   ]
  },
  {
   "cell_type": "markdown",
   "metadata": {},
   "source": [
    "Plotting the Price vs Square Feet"
   ]
  },
  {
   "cell_type": "code",
   "execution_count": 9,
   "metadata": {
    "collapsed": true
   },
   "outputs": [],
   "source": [
    "from statsmodels.graphics.regressionplots import plot_fit"
   ]
  },
  {
   "cell_type": "code",
   "execution_count": 10,
   "metadata": {
    "collapsed": true
   },
   "outputs": [],
   "source": [
    "mod = sm.OLS(y.head(10000),X2['bedrooms'].head(10000))\n",
    "results = mod.fit()"
   ]
  },
  {
   "cell_type": "code",
   "execution_count": 11,
   "metadata": {},
   "outputs": [
    {
     "data": {
      "image/png": "[encoded data removed]",
      "text/plain": [
       "<matplotlib.figure.Figure at 0x1141af9d0>"
      ]
     },
     "metadata": {},
     "output_type": "display_data"
    }
   ],
   "source": [
    "fig, ax = plt.subplots(figsize=(12,12))\n",
    "fig = sm.graphics.plot_fit(results, 0, ax=ax)\n",
    "ax.set_ylabel(\"Price\")\n",
    "ax.set_xlabel(\"Bedrooms\")\n",
    "ax.set_title(\"Linear Regression\")\n",
    "plt.show()"
   ]
  },
  {
   "cell_type": "code",
   "execution_count": null,
   "metadata": {
    "collapsed": true
   },
   "outputs": [],
   "source": []
  },
  {
   "cell_type": "code",
   "execution_count": 12,
   "metadata": {},
   "outputs": [
    {
     "data": {
      "text/html": [
       "<table class=\"simpletable\">\n",
       "<caption>OLS Regression Results</caption>\n",
       "<tr>\n",
       "  <th>Dep. Variable:</th>         <td>price_y</td>     <th>  R-squared:         </th>  <td>   0.761</td>  \n",
       "</tr>\n",
       "<tr>\n",
       "  <th>Model:</th>                   <td>OLS</td>       <th>  Adj. R-squared:    </th>  <td>   0.761</td>  \n",
       "</tr>\n",
       "<tr>\n",
       "  <th>Method:</th>             <td>Least Squares</td>  <th>  F-statistic:       </th>  <td>9.298e+04</td> \n",
       "</tr>\n",
       "<tr>\n",
       "  <th>Date:</th>             <td>Sat, 03 Mar 2018</td> <th>  Prob (F-statistic):</th>   <td>  0.00</td>   \n",
       "</tr>\n",
       "<tr>\n",
       "  <th>Time:</th>                 <td>02:02:33</td>     <th>  Log-Likelihood:    </th> <td>-5.6083e+06</td>\n",
       "</tr>\n",
       "<tr>\n",
       "  <th>No. Observations:</th>      <td>873972</td>      <th>  AIC:               </th>  <td>1.122e+07</td> \n",
       "</tr>\n",
       "<tr>\n",
       "  <th>Df Residuals:</th>          <td>873942</td>      <th>  BIC:               </th>  <td>1.122e+07</td> \n",
       "</tr>\n",
       "<tr>\n",
       "  <th>Df Model:</th>              <td>    30</td>      <th>                     </th>      <td> </td>     \n",
       "</tr>\n",
       "<tr>\n",
       "  <th>Covariance Type:</th>      <td>nonrobust</td>    <th>                     </th>      <td> </td>     \n",
       "</tr>\n",
       "</table>\n",
       "<table class=\"simpletable\">\n",
       "<tr>\n",
       "                 <td></td>                   <th>coef</th>     <th>std err</th>      <th>t</th>      <th>P>|t|</th>  <th>[0.025</th>    <th>0.975]</th>  \n",
       "</tr>\n",
       "<tr>\n",
       "  <th>host_listings_count</th>            <td>-1.122e+09</td> <td> 2.02e+09</td> <td>   -0.555</td> <td> 0.579</td> <td>-5.09e+09</td> <td> 2.84e+09</td>\n",
       "</tr>\n",
       "<tr>\n",
       "  <th>host_total_listings_count</th>      <td> 1.122e+09</td> <td> 2.02e+09</td> <td>    0.555</td> <td> 0.579</td> <td>-2.84e+09</td> <td> 5.09e+09</td>\n",
       "</tr>\n",
       "<tr>\n",
       "  <th>neighbourhood_group_cleansed</th>   <td>-8.806e-08</td> <td> 1.59e-07</td> <td>   -0.555</td> <td> 0.579</td> <td>-3.99e-07</td> <td> 2.23e-07</td>\n",
       "</tr>\n",
       "<tr>\n",
       "  <th>accommodates</th>                   <td>   15.0789</td> <td>    0.120</td> <td>  125.358</td> <td> 0.000</td> <td>   14.843</td> <td>   15.315</td>\n",
       "</tr>\n",
       "<tr>\n",
       "  <th>bathrooms</th>                      <td>   -8.2299</td> <td>    0.278</td> <td>  -29.596</td> <td> 0.000</td> <td>   -8.775</td> <td>   -7.685</td>\n",
       "</tr>\n",
       "<tr>\n",
       "  <th>bedrooms</th>                       <td>   33.4484</td> <td>    0.266</td> <td>  125.894</td> <td> 0.000</td> <td>   32.928</td> <td>   33.969</td>\n",
       "</tr>\n",
       "<tr>\n",
       "  <th>beds</th>                           <td>   -0.0462</td> <td>    0.168</td> <td>   -0.274</td> <td> 0.784</td> <td>   -0.376</td> <td>    0.284</td>\n",
       "</tr>\n",
       "<tr>\n",
       "  <th>square_feet</th>                    <td>    0.0458</td> <td>    0.001</td> <td>   56.434</td> <td> 0.000</td> <td>    0.044</td> <td>    0.047</td>\n",
       "</tr>\n",
       "<tr>\n",
       "  <th>guests_included</th>                <td>    3.4047</td> <td>    0.081</td> <td>   41.969</td> <td> 0.000</td> <td>    3.246</td> <td>    3.564</td>\n",
       "</tr>\n",
       "<tr>\n",
       "  <th>minimum_nights</th>                 <td>   -0.9708</td> <td>    0.021</td> <td>  -45.820</td> <td> 0.000</td> <td>   -1.012</td> <td>   -0.929</td>\n",
       "</tr>\n",
       "<tr>\n",
       "  <th>maximum_nights</th>                 <td>-6.522e-05</td> <td> 7.79e-06</td> <td>   -8.368</td> <td> 0.000</td> <td>-8.05e-05</td> <td>-4.99e-05</td>\n",
       "</tr>\n",
       "<tr>\n",
       "  <th>availability_30</th>                <td>   -0.1244</td> <td>    0.040</td> <td>   -3.144</td> <td> 0.002</td> <td>   -0.202</td> <td>   -0.047</td>\n",
       "</tr>\n",
       "<tr>\n",
       "  <th>availability_60</th>                <td>    0.7160</td> <td>    0.038</td> <td>   18.696</td> <td> 0.000</td> <td>    0.641</td> <td>    0.791</td>\n",
       "</tr>\n",
       "<tr>\n",
       "  <th>availability_90</th>                <td>   -0.2611</td> <td>    0.022</td> <td>  -11.720</td> <td> 0.000</td> <td>   -0.305</td> <td>   -0.217</td>\n",
       "</tr>\n",
       "<tr>\n",
       "  <th>availability_365</th>               <td>   -0.0206</td> <td>    0.002</td> <td>   -8.297</td> <td> 0.000</td> <td>   -0.025</td> <td>   -0.016</td>\n",
       "</tr>\n",
       "<tr>\n",
       "  <th>number_of_reviews</th>              <td>   -0.1720</td> <td>    0.007</td> <td>  -24.902</td> <td> 0.000</td> <td>   -0.186</td> <td>   -0.158</td>\n",
       "</tr>\n",
       "<tr>\n",
       "  <th>review_scores_rating</th>           <td>    0.4487</td> <td>    0.034</td> <td>   13.247</td> <td> 0.000</td> <td>    0.382</td> <td>    0.515</td>\n",
       "</tr>\n",
       "<tr>\n",
       "  <th>review_scores_accuracy</th>         <td>    7.9512</td> <td>    0.301</td> <td>   26.429</td> <td> 0.000</td> <td>    7.362</td> <td>    8.541</td>\n",
       "</tr>\n",
       "<tr>\n",
       "  <th>review_scores_cleanliness</th>      <td>    4.9091</td> <td>    0.275</td> <td>   17.883</td> <td> 0.000</td> <td>    4.371</td> <td>    5.447</td>\n",
       "</tr>\n",
       "<tr>\n",
       "  <th>review_scores_checkin</th>          <td>  -22.4358</td> <td>    0.352</td> <td>  -63.711</td> <td> 0.000</td> <td>  -23.126</td> <td>  -21.746</td>\n",
       "</tr>\n",
       "<tr>\n",
       "  <th>review_scores_communication</th>    <td>   -1.3302</td> <td>    0.321</td> <td>   -4.150</td> <td> 0.000</td> <td>   -1.958</td> <td>   -0.702</td>\n",
       "</tr>\n",
       "<tr>\n",
       "  <th>review_scores_location</th>         <td>    8.4248</td> <td>    0.256</td> <td>   32.947</td> <td> 0.000</td> <td>    7.924</td> <td>    8.926</td>\n",
       "</tr>\n",
       "<tr>\n",
       "  <th>review_scores_value</th>            <td>   -3.5534</td> <td>    0.312</td> <td>  -11.407</td> <td> 0.000</td> <td>   -4.164</td> <td>   -2.943</td>\n",
       "</tr>\n",
       "<tr>\n",
       "  <th>calculated_host_listings_count</th> <td>    0.5237</td> <td>    0.011</td> <td>   48.846</td> <td> 0.000</td> <td>    0.503</td> <td>    0.545</td>\n",
       "</tr>\n",
       "<tr>\n",
       "  <th>reviews_per_month</th>              <td>   -7.9738</td> <td>    0.136</td> <td>  -58.569</td> <td> 0.000</td> <td>   -8.241</td> <td>   -7.707</td>\n",
       "</tr>\n",
       "<tr>\n",
       "  <th>transit_length</th>                 <td>    0.1309</td> <td>    0.009</td> <td>   14.172</td> <td> 0.000</td> <td>    0.113</td> <td>    0.149</td>\n",
       "</tr>\n",
       "<tr>\n",
       "  <th>transit_variety</th>                <td>    1.1636</td> <td>    0.199</td> <td>    5.848</td> <td> 0.000</td> <td>    0.774</td> <td>    1.554</td>\n",
       "</tr>\n",
       "<tr>\n",
       "  <th>transit_vocab_size</th>             <td>   -0.4825</td> <td>    0.024</td> <td>  -20.320</td> <td> 0.000</td> <td>   -0.529</td> <td>   -0.436</td>\n",
       "</tr>\n",
       "<tr>\n",
       "  <th>transitTextLength</th>              <td>   -0.5829</td> <td>    0.044</td> <td>  -13.118</td> <td> 0.000</td> <td>   -0.670</td> <td>   -0.496</td>\n",
       "</tr>\n",
       "<tr>\n",
       "  <th>transitTextWordsPerc</th>           <td>  127.0046</td> <td>    0.831</td> <td>  152.804</td> <td> 0.000</td> <td>  125.376</td> <td>  128.634</td>\n",
       "</tr>\n",
       "<tr>\n",
       "  <th>transitTextPuncPerc</th>            <td>  149.5299</td> <td>    2.035</td> <td>   73.491</td> <td> 0.000</td> <td>  145.542</td> <td>  153.518</td>\n",
       "</tr>\n",
       "<tr>\n",
       "  <th>transitTextDigitsPerc</th>          <td>  -34.8367</td> <td>    2.994</td> <td>  -11.636</td> <td> 0.000</td> <td>  -40.705</td> <td>  -28.969</td>\n",
       "</tr>\n",
       "</table>\n",
       "<table class=\"simpletable\">\n",
       "<tr>\n",
       "  <th>Omnibus:</th>       <td>107115.723</td> <th>  Durbin-Watson:     </th>  <td>   0.129</td> \n",
       "</tr>\n",
       "<tr>\n",
       "  <th>Prob(Omnibus):</th>   <td> 0.000</td>   <th>  Jarque-Bera (JB):  </th> <td>837302.230</td>\n",
       "</tr>\n",
       "<tr>\n",
       "  <th>Skew:</th>            <td> 0.332</td>   <th>  Prob(JB):          </th>  <td>    0.00</td> \n",
       "</tr>\n",
       "<tr>\n",
       "  <th>Kurtosis:</th>        <td> 7.749</td>   <th>  Cond. No.          </th>  <td>1.06e+16</td> \n",
       "</tr>\n",
       "</table>"
      ],
      "text/plain": [
       "<class 'statsmodels.iolib.summary.Summary'>\n",
       "\"\"\"\n",
       "                            OLS Regression Results                            \n",
       "==============================================================================\n",
       "Dep. Variable:                price_y   R-squared:                       0.761\n",
       "Model:                            OLS   Adj. R-squared:                  0.761\n",
       "Method:                 Least Squares   F-statistic:                 9.298e+04\n",
       "Date:                Sat, 03 Mar 2018   Prob (F-statistic):               0.00\n",
       "Time:                        02:02:33   Log-Likelihood:            -5.6083e+06\n",
       "No. Observations:              873972   AIC:                         1.122e+07\n",
       "Df Residuals:                  873942   BIC:                         1.122e+07\n",
       "Df Model:                          30                                         \n",
       "Covariance Type:            nonrobust                                         \n",
       "==================================================================================================\n",
       "                                     coef    std err          t      P>|t|      [0.025      0.975]\n",
       "--------------------------------------------------------------------------------------------------\n",
       "host_listings_count            -1.122e+09   2.02e+09     -0.555      0.579   -5.09e+09    2.84e+09\n",
       "host_total_listings_count       1.122e+09   2.02e+09      0.555      0.579   -2.84e+09    5.09e+09\n",
       "neighbourhood_group_cleansed   -8.806e-08   1.59e-07     -0.555      0.579   -3.99e-07    2.23e-07\n",
       "accommodates                      15.0789      0.120    125.358      0.000      14.843      15.315\n",
       "bathrooms                         -8.2299      0.278    -29.596      0.000      -8.775      -7.685\n",
       "bedrooms                          33.4484      0.266    125.894      0.000      32.928      33.969\n",
       "beds                              -0.0462      0.168     -0.274      0.784      -0.376       0.284\n",
       "square_feet                        0.0458      0.001     56.434      0.000       0.044       0.047\n",
       "guests_included                    3.4047      0.081     41.969      0.000       3.246       3.564\n",
       "minimum_nights                    -0.9708      0.021    -45.820      0.000      -1.012      -0.929\n",
       "maximum_nights                 -6.522e-05   7.79e-06     -8.368      0.000   -8.05e-05   -4.99e-05\n",
       "availability_30                   -0.1244      0.040     -3.144      0.002      -0.202      -0.047\n",
       "availability_60                    0.7160      0.038     18.696      0.000       0.641       0.791\n",
       "availability_90                   -0.2611      0.022    -11.720      0.000      -0.305      -0.217\n",
       "availability_365                  -0.0206      0.002     -8.297      0.000      -0.025      -0.016\n",
       "number_of_reviews                 -0.1720      0.007    -24.902      0.000      -0.186      -0.158\n",
       "review_scores_rating               0.4487      0.034     13.247      0.000       0.382       0.515\n",
       "review_scores_accuracy             7.9512      0.301     26.429      0.000       7.362       8.541\n",
       "review_scores_cleanliness          4.9091      0.275     17.883      0.000       4.371       5.447\n",
       "review_scores_checkin            -22.4358      0.352    -63.711      0.000     -23.126     -21.746\n",
       "review_scores_communication       -1.3302      0.321     -4.150      0.000      -1.958      -0.702\n",
       "review_scores_location             8.4248      0.256     32.947      0.000       7.924       8.926\n",
       "review_scores_value               -3.5534      0.312    -11.407      0.000      -4.164      -2.943\n",
       "calculated_host_listings_count     0.5237      0.011     48.846      0.000       0.503       0.545\n",
       "reviews_per_month                 -7.9738      0.136    -58.569      0.000      -8.241      -7.707\n",
       "transit_length                     0.1309      0.009     14.172      0.000       0.113       0.149\n",
       "transit_variety                    1.1636      0.199      5.848      0.000       0.774       1.554\n",
       "transit_vocab_size                -0.4825      0.024    -20.320      0.000      -0.529      -0.436\n",
       "transitTextLength                 -0.5829      0.044    -13.118      0.000      -0.670      -0.496\n",
       "transitTextWordsPerc             127.0046      0.831    152.804      0.000     125.376     128.634\n",
       "transitTextPuncPerc              149.5299      2.035     73.491      0.000     145.542     153.518\n",
       "transitTextDigitsPerc            -34.8367      2.994    -11.636      0.000     -40.705     -28.969\n",
       "==============================================================================\n",
       "Omnibus:                   107115.723   Durbin-Watson:                   0.129\n",
       "Prob(Omnibus):                  0.000   Jarque-Bera (JB):           837302.230\n",
       "Skew:                           0.332   Prob(JB):                         0.00\n",
       "Kurtosis:                       7.749   Cond. No.                     1.06e+16\n",
       "==============================================================================\n",
       "\n",
       "Warnings:\n",
       "[1] Standard Errors assume that the covariance matrix of the errors is correctly specified.\n",
       "[2] The smallest eigenvalue is 3.28e-18. This might indicate that there are\n",
       "strong multicollinearity problems or that the design matrix is singular.\n",
       "\"\"\""
      ]
     },
     "execution_count": 12,
     "metadata": {},
     "output_type": "execute_result"
    }
   ],
   "source": [
    "est2.summary()"
   ]
  },
  {
   "cell_type": "markdown",
   "metadata": {},
   "source": [
    "The p-value for each term tests the null hypothesis that the coefficient is equal to zero (no effect). A low p-value (< 0.05) indicates that you can reject the null hypothesis. In other words, a predictor that has a low p-value is likely to be a meaningful addition to your model because changes in the predictor's value are related to changes in the response variable.\n",
    "Conversely, a larger (insignificant) p-value suggests that changes in the predictor are not associated with changes in the response."
   ]
  },
  {
   "cell_type": "markdown",
   "metadata": {},
   "source": [
    "Based on the above summary, we would eliminate only the following columns: host_listings_count, host_total_listings_count, beds, neighbourhood_group_cleansed. So we would keep columns in the following list:"
   ]
  },
  {
   "cell_type": "code",
   "execution_count": 13,
   "metadata": {
    "collapsed": true
   },
   "outputs": [],
   "source": [
    "manually_excluded = ['listing_id','id','scrape_id','host_id','longitude', 'latitude', 'zipcode','has_availability','license']\n",
    "exclude = ['host_listings_count', 'host_total_listings_count', 'beds', 'neighbourhood_group_cleansed']\n",
    "include = [i for i in X.columns if i not in exclude]\n",
    "final = [i for i in include if i not in manually_excluded]"
   ]
  },
  {
   "cell_type": "code",
   "execution_count": 14,
   "metadata": {},
   "outputs": [
    {
     "name": "stdout",
     "output_type": "stream",
     "text": [
      "accommodates\n",
      "bathrooms\n",
      "bedrooms\n",
      "square_feet\n",
      "guests_included\n",
      "minimum_nights\n",
      "maximum_nights\n",
      "availability_30\n",
      "availability_60\n",
      "availability_90\n",
      "availability_365\n",
      "number_of_reviews\n",
      "review_scores_rating\n",
      "review_scores_accuracy\n",
      "review_scores_cleanliness\n",
      "review_scores_checkin\n",
      "review_scores_communication\n",
      "review_scores_location\n",
      "review_scores_value\n",
      "calculated_host_listings_count\n",
      "reviews_per_month\n",
      "transit_length\n",
      "transit_variety\n",
      "transit_vocab_size\n",
      "transitTextLength\n",
      "transitTextWordsPerc\n",
      "transitTextPuncPerc\n",
      "transitTextDigitsPerc\n"
     ]
    }
   ],
   "source": [
    "for i in X[final]:\n",
    "    print i"
   ]
  },
  {
   "cell_type": "markdown",
   "metadata": {},
   "source": [
    "Analysis of Residuals"
   ]
  },
  {
   "cell_type": "markdown",
   "metadata": {},
   "source": [
    "Jarque-Bera test:"
   ]
  },
  {
   "cell_type": "code",
   "execution_count": 19,
   "metadata": {},
   "outputs": [
    {
     "data": {
      "text/plain": [
       "[('Jarque-Bera', 837302.2304387874),\n",
       " ('Chi^2 two-tail prob.', 0.0),\n",
       " ('Skew', 0.33223436201399587),\n",
       " ('Kurtosis', 7.748841844132165)]"
      ]
     },
     "execution_count": 19,
     "metadata": {},
     "output_type": "execute_result"
    }
   ],
   "source": [
    "name = ['Jarque-Bera', 'Chi^2 two-tail prob.', 'Skew', 'Kurtosis']\n",
    "test = sms.jarque_bera(est2.resid)\n",
    "lzip(name, test)"
   ]
  },
  {
   "cell_type": "markdown",
   "metadata": {},
   "source": [
    "Omni test:"
   ]
  },
  {
   "cell_type": "code",
   "execution_count": 20,
   "metadata": {},
   "outputs": [
    {
     "data": {
      "text/plain": [
       "[('Chi^2', 107115.72329904058), ('Two-tail probability', 0.0)]"
      ]
     },
     "execution_count": 20,
     "metadata": {},
     "output_type": "execute_result"
    }
   ],
   "source": [
    "name = ['Chi^2', 'Two-tail probability']\n",
    "test = sms.omni_normtest(est2.resid)\n",
    "lzip(name, test)"
   ]
  },
  {
   "cell_type": "code",
   "execution_count": 21,
   "metadata": {
    "collapsed": true
   },
   "outputs": [],
   "source": [
    "from statsmodels.graphics.regressionplots import plot_leverage_resid2"
   ]
  },
  {
   "cell_type": "code",
   "execution_count": 22,
   "metadata": {},
   "outputs": [
    {
     "data": {
      "image/png": "[encoded data removed]",
      "text/plain": [
       "<matplotlib.figure.Figure at 0x1c60a2bb90>"
      ]
     },
     "metadata": {},
     "output_type": "display_data"
    }
   ],
   "source": [
    "fig, ax = plt.subplots(figsize=(12,12))\n",
    "fig = plot_leverage_resid2(results, ax = ax)\n",
    "plt.show()"
   ]
  },
  {
   "cell_type": "code",
   "execution_count": 23,
   "metadata": {},
   "outputs": [
    {
     "data": {
      "text/plain": [
       "statsmodels.regression.linear_model.RegressionResultsWrapper"
      ]
     },
     "execution_count": 23,
     "metadata": {},
     "output_type": "execute_result"
    }
   ],
   "source": [
    "type(est2)"
   ]
  },
  {
   "cell_type": "markdown",
   "metadata": {},
   "source": [
    "Multicollinearity"
   ]
  },
  {
   "cell_type": "code",
   "execution_count": 24,
   "metadata": {},
   "outputs": [
    {
     "data": {
      "text/plain": [
       "4.2024828593722132e+18"
      ]
     },
     "execution_count": 24,
     "metadata": {},
     "output_type": "execute_result"
    }
   ],
   "source": [
    "np.linalg.cond(est2.model.exog)"
   ]
  },
  {
   "cell_type": "markdown",
   "metadata": {},
   "source": [
    "Heteroskedasticity"
   ]
  },
  {
   "cell_type": "markdown",
   "metadata": {
    "collapsed": true
   },
   "source": [
    "It is customary to check for heteroscedasticity of residuals once you build the linear regression model. The reason is, we want to check if the model thus built is unable to explain some pattern in the response variable Y, that eventually shows up in the residuals. This would result in an inefficient and unstable regression model that could yield bizarre predictions later on."
   ]
  },
  {
   "cell_type": "markdown",
   "metadata": {},
   "source": [
    "For these test the null hypothesis is that all observations have the same error variance, i.e. errors are homoscedastic. The tests differ in which kind of heteroscedasticity is considered as alternative hypothesis. They also vary in the power of the test for different types of heteroscedasticity."
   ]
  },
  {
   "cell_type": "markdown",
   "metadata": {},
   "source": [
    "Breush-Pagan test: It tests whether the variance of the errors from a regression is dependent on the values of the independent variables. In that case, heteroskedasticity is present.\n",
    "If the test statistic has a p-value below an appropriate threshold (e.g. p<0.05) then the null hypothesis of homoskedasticity is rejected and heteroskedasticity assumed."
   ]
  },
  {
   "cell_type": "code",
   "execution_count": 25,
   "metadata": {},
   "outputs": [
    {
     "name": "stderr",
     "output_type": "stream",
     "text": [
      "/Users/pauldefusco/anaconda2/envs/py27/lib/python2.7/site-packages/ipykernel_launcher.py:3: DeprecationWarning: `het_breushpagan` is deprecated, use `het_breuschpagan` instead!\n",
      "Use het_breuschpagan, het_breushpagan will be removed in 0.9 \n",
      "(Note: misspelling missing 'c')\n",
      "  This is separate from the ipykernel package so we can avoid doing imports until\n"
     ]
    },
    {
     "data": {
      "text/plain": [
       "[('Lagrange multiplier statistic', 357453.11797230464),\n",
       " ('p-value', 0.0),\n",
       " ('f-value', 20160.172499444179),\n",
       " ('f p-value', 0.0)]"
      ]
     },
     "execution_count": 25,
     "metadata": {},
     "output_type": "execute_result"
    }
   ],
   "source": [
    "name = ['Lagrange multiplier statistic', 'p-value', \n",
    "        'f-value', 'f p-value']\n",
    "test = sms.het_breushpagan(est2.resid, est2.model.exog)\n",
    "lzip(name, test)"
   ]
  },
  {
   "cell_type": "markdown",
   "metadata": {},
   "source": [
    "Goldfeld-Quandt test"
   ]
  },
  {
   "cell_type": "code",
   "execution_count": 26,
   "metadata": {},
   "outputs": [
    {
     "data": {
      "text/plain": [
       "[('F statistic', 0.72086422157047358), ('p-value', 0.99999999999999989)]"
      ]
     },
     "execution_count": 26,
     "metadata": {},
     "output_type": "execute_result"
    }
   ],
   "source": [
    "name = ['F statistic', 'p-value']\n",
    "test = sms.het_goldfeldquandt(est2.resid, est2.model.exog)\n",
    "lzip(name, test)"
   ]
  },
  {
   "cell_type": "code",
   "execution_count": 27,
   "metadata": {
    "collapsed": true
   },
   "outputs": [],
   "source": [
    "from statsmodels.graphics.regressionplots import plot_regress_exog"
   ]
  },
  {
   "cell_type": "markdown",
   "metadata": {},
   "source": [
    "Plot regression results against one regressor.\n",
    "\n",
    "This plots four graphs in a 2 by 2 figure: ‘endog versus exog’, ‘residuals versus exog’, ‘fitted versus exog’ and ‘fitted plus residual versus exog’"
   ]
  },
  {
   "cell_type": "code",
   "execution_count": 28,
   "metadata": {},
   "outputs": [
    {
     "data": {
      "image/png": "[encoded data removed]",
      "text/plain": [
       "<matplotlib.figure.Figure at 0x1c41ac2390>"
      ]
     },
     "execution_count": 28,
     "metadata": {},
     "output_type": "execute_result"
    }
   ],
   "source": [
    "fig = plt.figure(figsize=(12,12))\n",
    "plot_regress_exog(est2, 5, fig=fig)"
   ]
  },
  {
   "cell_type": "code",
   "execution_count": 36,
   "metadata": {
    "collapsed": true
   },
   "outputs": [],
   "source": [
    "cols_for_plot = ['accommodates','number_of_reviews','review_scores_rating','transit_variety','transitTextWordsPerc']"
   ]
  },
  {
   "cell_type": "code",
   "execution_count": null,
   "metadata": {},
   "outputs": [
    {
     "data": {
      "image/png": "[encoded data removed]",
      "text/plain": [
       "<matplotlib.figure.Figure at 0x1d5824add0>"
      ]
     },
     "execution_count": 38,
     "metadata": {},
     "output_type": "execute_result"
    }
   ],
   "source": [
    "#plot_regress_exog(est2, 'number_of_reviews')"
   ]
  },
  {
   "cell_type": "code",
   "execution_count": null,
   "metadata": {
    "collapsed": true
   },
   "outputs": [],
   "source": [
    "#plot_regress_exog(est2, 'review_scores_rating')"
   ]
  },
  {
   "cell_type": "code",
   "execution_count": null,
   "metadata": {
    "collapsed": true
   },
   "outputs": [],
   "source": [
    "#plot_regress_exog(est2, 'transit_variety')"
   ]
  },
  {
   "cell_type": "code",
   "execution_count": null,
   "metadata": {
    "collapsed": true
   },
   "outputs": [],
   "source": [
    "#plot_regress_exog(est2, 'transitTextWordsPerc')"
   ]
  },
  {
   "cell_type": "markdown",
   "metadata": {},
   "source": [
    "Component-Component plus Residual (CCPR) Plots\n",
    "The CCPR plot provides a way to judge the effect of one regressor on the \n",
    "response variable by taking into account the effects of the other \n",
    "independent variables. The partial residuals plot is defined as \n",
    "Residuals+BiXi    versus  Xi . The component adds  BiXi  versus \n",
    "Xi  to show where the fitted line would lie. Care should be taken if  Xi  \n",
    "is highly correlated with any of the other independent variables. If this \n",
    "is the case, the variance evident in the plot will be an underestimate of \n",
    "the true variance."
   ]
  },
  {
   "cell_type": "markdown",
   "metadata": {},
   "source": [
    "Conclusion: the variables that have low variance in the top right graph and low slope on the bottom right plot are showing less heteroskedasticity (better for autoregression analysis). However, the heteroskedasticity tests show that there is a lot of heteroskedasticity, which implies a poor future prediction (Standard estimation methods are inefficient when the errors are heteroscedastic or have non-constant variance)"
   ]
  },
  {
   "cell_type": "code",
   "execution_count": null,
   "metadata": {
    "collapsed": true
   },
   "outputs": [],
   "source": []
  },
  {
   "cell_type": "code",
   "execution_count": null,
   "metadata": {
    "collapsed": true
   },
   "outputs": [],
   "source": []
  },
  {
   "cell_type": "markdown",
   "metadata": {},
   "source": [
    "Linearity: Harvey-Collier multiplier test for Null hypothesis that the linear specification is correct:"
   ]
  },
  {
   "cell_type": "markdown",
   "metadata": {},
   "source": [
    "The basic idea of the Rainbow test is that even if the true relationship is non-linear, a good linear fit can be achieved on a subsample in the \"middle\" of the data. The null hypothesis is rejected whenever the overall fit is significantly worse than the fit for the subsample."
   ]
  },
  {
   "cell_type": "code",
   "execution_count": null,
   "metadata": {
    "collapsed": true
   },
   "outputs": [],
   "source": [
    "\"\"\"name = ['t value', 'p value']\n",
    "test = sms.linear_harvey_collier(est2)\n",
    "lzip(name, test)\"\"\""
   ]
  },
  {
   "cell_type": "markdown",
   "metadata": {},
   "source": [
    "Heteroskedastic-Robust Standard Errors"
   ]
  },
  {
   "cell_type": "code",
   "execution_count": null,
   "metadata": {
    "collapsed": true
   },
   "outputs": [],
   "source": [
    "results2_robust = est2.get_robustcov_results()"
   ]
  },
  {
   "cell_type": "code",
   "execution_count": null,
   "metadata": {
    "collapsed": true
   },
   "outputs": [],
   "source": [
    "results2_robust.summary()"
   ]
  },
  {
   "cell_type": "markdown",
   "metadata": {},
   "source": []
  },
  {
   "cell_type": "code",
   "execution_count": null,
   "metadata": {
    "collapsed": true
   },
   "outputs": [],
   "source": []
  },
  {
   "cell_type": "code",
   "execution_count": null,
   "metadata": {
    "collapsed": true
   },
   "outputs": [],
   "source": []
  },
  {
   "cell_type": "code",
   "execution_count": null,
   "metadata": {
    "collapsed": true
   },
   "outputs": [],
   "source": []
  },
  {
   "cell_type": "code",
   "execution_count": null,
   "metadata": {
    "collapsed": true
   },
   "outputs": [],
   "source": []
  },
  {
   "cell_type": "code",
   "execution_count": null,
   "metadata": {
    "collapsed": true
   },
   "outputs": [],
   "source": []
  },
  {
   "cell_type": "markdown",
   "metadata": {},
   "source": [
    "The same linear regression in SKLearn"
   ]
  },
  {
   "cell_type": "code",
   "execution_count": null,
   "metadata": {
    "collapsed": true
   },
   "outputs": [],
   "source": [
    "lm = LinearRegression()"
   ]
  },
  {
   "cell_type": "code",
   "execution_count": null,
   "metadata": {
    "collapsed": true
   },
   "outputs": [],
   "source": [
    "lm.fit(X,master['price_y'])"
   ]
  },
  {
   "cell_type": "code",
   "execution_count": null,
   "metadata": {
    "collapsed": true
   },
   "outputs": [],
   "source": [
    "print 'Estimated intercept coefficient: ', lm.intercept_"
   ]
  },
  {
   "cell_type": "code",
   "execution_count": null,
   "metadata": {
    "collapsed": true
   },
   "outputs": [],
   "source": [
    "print 'Number of coefficients: ', len(lm.coef_)"
   ]
  },
  {
   "cell_type": "markdown",
   "metadata": {},
   "source": [
    "Regression coefficients represent the mean change in the response variable for one unit of change in the predictor variable while holding other predictors in the model constant. This statistical control that regression provides is important because it isolates the role of one variable from all of the others in the model.\n",
    "\n",
    "The key to understanding the coefficients is to think of them as slopes, and they’re often called slope coefficients. I’ll illustrate this in the fitted line plot below, where I’ll use a person’s height to model their weight."
   ]
  },
  {
   "cell_type": "code",
   "execution_count": null,
   "metadata": {
    "collapsed": true
   },
   "outputs": [],
   "source": [
    "pd.DataFrame(zip(X.columns, lm.coef_), columns=['Features','Estimated Coefficients'])"
   ]
  },
  {
   "cell_type": "code",
   "execution_count": null,
   "metadata": {
    "collapsed": true
   },
   "outputs": [],
   "source": []
  },
  {
   "cell_type": "code",
   "execution_count": null,
   "metadata": {
    "collapsed": true
   },
   "outputs": [],
   "source": []
  },
  {
   "cell_type": "code",
   "execution_count": null,
   "metadata": {
    "collapsed": true
   },
   "outputs": [],
   "source": [
    "plt.scatter(master.transitTextWordsPerc, master.price_y)\n",
    "plt.xlabel(\"Percentage of Words in Transit Description Field\")\n",
    "plt.ylabel(\"Calendar Price\")\n",
    "plt.title(\"Plotting Price and Transit Text Words Perc\")\n",
    "plt.show()\n"
   ]
  },
  {
   "cell_type": "code",
   "execution_count": null,
   "metadata": {
    "collapsed": true
   },
   "outputs": [],
   "source": [
    "lm.predict(X)[0:390]\n"
   ]
  },
  {
   "cell_type": "markdown",
   "metadata": {},
   "source": [
    "#Problem: we have many calendar days for the same listings. For each listing, one price prediction is made but because\n",
    "#we have many calendar days for each listing, the above outputs the same result for each cal day\n",
    "#Make better representation"
   ]
  },
  {
   "cell_type": "markdown",
   "metadata": {},
   "source": [
    "More Regressions"
   ]
  },
  {
   "cell_type": "code",
   "execution_count": null,
   "metadata": {
    "collapsed": true
   },
   "outputs": [],
   "source": [
    "from sklearn import linear_model"
   ]
  },
  {
   "cell_type": "markdown",
   "metadata": {},
   "source": [
    "Lasso Lars Regression"
   ]
  },
  {
   "cell_type": "code",
   "execution_count": null,
   "metadata": {
    "collapsed": true
   },
   "outputs": [],
   "source": [
    "ll = linear_model.LassoLars(alpha=.1)\n",
    "ll.fit(X, y)"
   ]
  },
  {
   "cell_type": "code",
   "execution_count": null,
   "metadata": {
    "collapsed": true
   },
   "outputs": [],
   "source": [
    "ll.coef_"
   ]
  },
  {
   "cell_type": "code",
   "execution_count": null,
   "metadata": {
    "collapsed": true
   },
   "outputs": [],
   "source": [
    "ll.intercept_"
   ]
  },
  {
   "cell_type": "markdown",
   "metadata": {},
   "source": [
    "Bayesian Ridge Regression"
   ]
  },
  {
   "cell_type": "code",
   "execution_count": null,
   "metadata": {
    "collapsed": true
   },
   "outputs": [],
   "source": [
    "br = linear_model.BayesianRidge()"
   ]
  },
  {
   "cell_type": "code",
   "execution_count": null,
   "metadata": {
    "collapsed": true
   },
   "outputs": [],
   "source": [
    "br.fit(X,y)"
   ]
  },
  {
   "cell_type": "code",
   "execution_count": null,
   "metadata": {
    "collapsed": true
   },
   "outputs": [],
   "source": [
    "br.coef_"
   ]
  },
  {
   "cell_type": "code",
   "execution_count": null,
   "metadata": {
    "collapsed": true
   },
   "outputs": [],
   "source": [
    "br.intercept_"
   ]
  },
  {
   "cell_type": "markdown",
   "metadata": {},
   "source": [
    "Stochastic Gradient Descent"
   ]
  },
  {
   "cell_type": "code",
   "execution_count": null,
   "metadata": {
    "collapsed": true
   },
   "outputs": [],
   "source": [
    "X_trunc = X.head(10000)"
   ]
  },
  {
   "cell_type": "code",
   "execution_count": null,
   "metadata": {
    "collapsed": true
   },
   "outputs": [],
   "source": [
    "y_trunc = y.head(10000)"
   ]
  },
  {
   "cell_type": "code",
   "execution_count": null,
   "metadata": {
    "collapsed": true
   },
   "outputs": [],
   "source": [
    "sgd = linear_model.SGDClassifier()\n",
    "sgd.fit(X_trunc, y_trunc)"
   ]
  },
  {
   "cell_type": "code",
   "execution_count": null,
   "metadata": {
    "collapsed": true
   },
   "outputs": [],
   "source": [
    "sgd.coef_"
   ]
  },
  {
   "cell_type": "code",
   "execution_count": null,
   "metadata": {
    "collapsed": true
   },
   "outputs": [],
   "source": [
    "sgd.intercept_"
   ]
  },
  {
   "cell_type": "markdown",
   "metadata": {},
   "source": [
    "Non Linear Regression"
   ]
  },
  {
   "cell_type": "code",
   "execution_count": null,
   "metadata": {
    "collapsed": true
   },
   "outputs": [],
   "source": [
    "from sklearn.preprocessing import PolynomialFeatures"
   ]
  },
  {
   "cell_type": "code",
   "execution_count": null,
   "metadata": {
    "collapsed": true
   },
   "outputs": [],
   "source": [
    "poly = PolynomialFeatures(degree=2)\n",
    "poly.fit_transform(X)"
   ]
  },
  {
   "cell_type": "markdown",
   "metadata": {},
   "source": [
    "Plynomial Interpolation"
   ]
  },
  {
   "cell_type": "code",
   "execution_count": null,
   "metadata": {
    "collapsed": true
   },
   "outputs": [],
   "source": [
    "from sklearn.pipeline import make_pipeline\n",
    "from sklearn.linear_model import Ridge"
   ]
  },
  {
   "cell_type": "code",
   "execution_count": null,
   "metadata": {
    "collapsed": true
   },
   "outputs": [],
   "source": [
    "def f(x):\n",
    "    \"\"\" function to approximate by polynomial interpolation\"\"\"\n",
    "    return x * np.sin(x)"
   ]
  },
  {
   "cell_type": "code",
   "execution_count": null,
   "metadata": {
    "collapsed": true
   },
   "outputs": [],
   "source": [
    "len(y)"
   ]
  },
  {
   "cell_type": "code",
   "execution_count": null,
   "metadata": {
    "collapsed": true
   },
   "outputs": [],
   "source": [
    "X_trunc = X_trunc.head(1000)\n",
    "y_trunc = y_trunc.head(1000)"
   ]
  },
  {
   "cell_type": "code",
   "execution_count": null,
   "metadata": {
    "collapsed": true
   },
   "outputs": [],
   "source": [
    "#X = x[:, np.newaxis]\n",
    "#X_plot = x_plot[:, np.newaxis]\n",
    "x_plot = np.linspace(0, 1, len(X_trunc))\n",
    "x = np.linspace(0, 1, len(X_trunc))\n",
    "\n",
    "colors = ['teal', 'yellowgreen']\n",
    "\n",
    "lw = 2\n",
    "\n",
    "plt.plot(x_plot, f(x_plot), color='cornflowerblue', linewidth=lw)\n",
    "\n",
    "plt.scatter(x, y_trunc, color='navy', s=30, marker='o', label=\"training points\")\n",
    "\n",
    "for count, degree in enumerate([2, 3]):\n",
    "    model = make_pipeline(PolynomialFeatures(degree), Ridge())\n",
    "    model.fit(X_trunc, y_trunc)\n",
    "    y_plot = model.predict(X_trunc)\n",
    "    plt.plot(x_plot, y_plot, color=colors[count], linewidth=lw,\n",
    "             label=\"degree %d\" % degree)\n",
    "\n",
    "plt.legend(loc='lower left')\n",
    "\n",
    "plt.show()"
   ]
  },
  {
   "cell_type": "markdown",
   "metadata": {},
   "source": [
    "More Nonlinear Regressions (These will freeze)"
   ]
  },
  {
   "cell_type": "code",
   "execution_count": null,
   "metadata": {
    "collapsed": true
   },
   "outputs": [],
   "source": [
    "\"\"\"poly = PolynomialFeatures(degree=3)\n",
    "poly.fit_transform(X)\"\"\""
   ]
  },
  {
   "cell_type": "code",
   "execution_count": null,
   "metadata": {
    "collapsed": true
   },
   "outputs": [],
   "source": [
    "\"\"\"poly = PolynomialFeatures(degree=4)\n",
    "poly.fit_transform(X)\"\"\""
   ]
  },
  {
   "cell_type": "markdown",
   "metadata": {
    "collapsed": true
   },
   "source": [
    "Outputting list of features that are deemed to be statistically significant by this process"
   ]
  },
  {
   "cell_type": "code",
   "execution_count": null,
   "metadata": {
    "collapsed": true
   },
   "outputs": [],
   "source": [
    "for i in pd.DataFrame(zip(X.columns, lm.coef_), columns=['features','estimatedCoefficients']):\n",
    "    print i"
   ]
  },
  {
   "cell_type": "markdown",
   "metadata": {},
   "source": [
    "New Regressions 4/10/18"
   ]
  },
  {
   "cell_type": "markdown",
   "metadata": {},
   "source": [
    "Going to take the average price for each listing time series and just use that to do a regression.\n",
    "List of ideas/topics: \n",
    "\n",
    "linear and polynomial muultivariate regressions, \n",
    "imputation methods, feature scaling, feature standrdization, \n",
    "one hot encoding, \n",
    "OLS vs SGD for optimization, \n",
    "correlation matrices, \n",
    "creation of new variables, \n",
    "performance metrics and model comparisons, \n",
    "interaction between variables, \n",
    "multicollinearity, \n",
    "how to encode lat-long in regression,\n",
    "potentially apply PCA,\n",
    "text driven feature engineering"
   ]
  },
  {
   "cell_type": "markdown",
   "metadata": {},
   "source": [
    "Preparing the dataset first: taking the avg of each listing price time series"
   ]
  },
  {
   "cell_type": "code",
   "execution_count": 2,
   "metadata": {
    "collapsed": true
   },
   "outputs": [],
   "source": [
    "cal = pd.read_csv('Datasources/inside_airbnb/calendar.csv')"
   ]
  },
  {
   "cell_type": "code",
   "execution_count": 3,
   "metadata": {},
   "outputs": [
    {
     "data": {
      "text/plain": [
       "Index([u'listing_id', u'date', u'available', u'price'], dtype='object')"
      ]
     },
     "execution_count": 3,
     "metadata": {},
     "output_type": "execute_result"
    }
   ],
   "source": [
    "cal.columns"
   ]
  },
  {
   "cell_type": "code",
   "execution_count": 4,
   "metadata": {},
   "outputs": [
    {
     "data": {
      "text/plain": [
       "listing_id     int64\n",
       "date          object\n",
       "available     object\n",
       "price         object\n",
       "dtype: object"
      ]
     },
     "execution_count": 4,
     "metadata": {},
     "output_type": "execute_result"
    }
   ],
   "source": [
    "cal.dtypes"
   ]
  },
  {
   "cell_type": "code",
   "execution_count": 5,
   "metadata": {
    "collapsed": true
   },
   "outputs": [],
   "source": [
    "cal = cal.infer_objects()"
   ]
  },
  {
   "cell_type": "code",
   "execution_count": 6,
   "metadata": {
    "collapsed": true
   },
   "outputs": [],
   "source": [
    "cal['price'] = cal['price'].astype(str).map(lambda x: x.lstrip('$'))\n",
    "cal['price'] = cal['price'].apply(pd.to_numeric, errors='coerce')\n",
    "cal['price'].replace(regex=True,inplace=True,to_replace=r'\\D',value=r'')"
   ]
  },
  {
   "cell_type": "code",
   "execution_count": 7,
   "metadata": {
    "collapsed": true
   },
   "outputs": [],
   "source": [
    "c = cal.loc[cal.available!='f']\n",
    "c = c[['listing_id','date','price']]"
   ]
  },
  {
   "cell_type": "code",
   "execution_count": 8,
   "metadata": {},
   "outputs": [
    {
     "data": {
      "text/plain": [
       "listing_id        0\n",
       "date              0\n",
       "price         31906\n",
       "dtype: int64"
      ]
     },
     "execution_count": 8,
     "metadata": {},
     "output_type": "execute_result"
    }
   ],
   "source": [
    "c.isnull().sum()"
   ]
  },
  {
   "cell_type": "code",
   "execution_count": 9,
   "metadata": {},
   "outputs": [
    {
     "data": {
      "text/plain": [
       "6608"
      ]
     },
     "execution_count": 9,
     "metadata": {},
     "output_type": "execute_result"
    }
   ],
   "source": [
    "len(cal['listing_id'].unique())"
   ]
  },
  {
   "cell_type": "code",
   "execution_count": 10,
   "metadata": {
    "collapsed": true
   },
   "outputs": [],
   "source": [
    "mean_price = c.groupby(by='listing_id')['price'].mean()"
   ]
  },
  {
   "cell_type": "code",
   "execution_count": 11,
   "metadata": {
    "collapsed": true
   },
   "outputs": [],
   "source": [
    "mean_price = pd.DataFrame(mean_price)"
   ]
  },
  {
   "cell_type": "code",
   "execution_count": 12,
   "metadata": {
    "collapsed": true
   },
   "outputs": [],
   "source": [
    "mean_price = mean_price.reset_index()"
   ]
  },
  {
   "cell_type": "code",
   "execution_count": 13,
   "metadata": {},
   "outputs": [
    {
     "data": {
      "text/plain": [
       "listing_id     0\n",
       "price         92\n",
       "dtype: int64"
      ]
     },
     "execution_count": 13,
     "metadata": {},
     "output_type": "execute_result"
    }
   ],
   "source": [
    "mean_price.isnull().sum()"
   ]
  },
  {
   "cell_type": "code",
   "execution_count": 14,
   "metadata": {
    "collapsed": true
   },
   "outputs": [],
   "source": [
    "mean_price['price'] = mean_price['price'].fillna(mean_price['price'].mean())"
   ]
  },
  {
   "cell_type": "code",
   "execution_count": 15,
   "metadata": {},
   "outputs": [
    {
     "data": {
      "text/plain": [
       "Index([u'listing_id', u'price'], dtype='object')"
      ]
     },
     "execution_count": 15,
     "metadata": {},
     "output_type": "execute_result"
    }
   ],
   "source": [
    "mean_price.columns"
   ]
  },
  {
   "cell_type": "code",
   "execution_count": 16,
   "metadata": {
    "collapsed": true
   },
   "outputs": [],
   "source": [
    "listings = pd.read_csv('Datasources/inside_airbnb/listings.csv')"
   ]
  },
  {
   "cell_type": "code",
   "execution_count": 258,
   "metadata": {
    "collapsed": true
   },
   "outputs": [],
   "source": [
    "master = listings.merge(mean_price, how='inner', left_on='id', right_on='listing_id')"
   ]
  },
  {
   "cell_type": "code",
   "execution_count": 259,
   "metadata": {},
   "outputs": [
    {
     "data": {
      "text/plain": [
       "5922"
      ]
     },
     "execution_count": 259,
     "metadata": {},
     "output_type": "execute_result"
    }
   ],
   "source": [
    "len(master)"
   ]
  },
  {
   "cell_type": "markdown",
   "metadata": {},
   "source": [
    "Now with master we have a price_x which is the original base price provided by the listing host, and the price_y which is the mean price for each listing we calculated above"
   ]
  },
  {
   "cell_type": "code",
   "execution_count": 260,
   "metadata": {
    "collapsed": true
   },
   "outputs": [],
   "source": [
    "target = master['price_y']"
   ]
  },
  {
   "cell_type": "code",
   "execution_count": 261,
   "metadata": {
    "collapsed": true
   },
   "outputs": [],
   "source": [
    "master = master.drop(columns='price_y')"
   ]
  },
  {
   "cell_type": "markdown",
   "metadata": {},
   "source": [
    "Multivariate linear regression"
   ]
  },
  {
   "cell_type": "code",
   "execution_count": 91,
   "metadata": {
    "collapsed": true
   },
   "outputs": [],
   "source": [
    "import statsmodels.api as sm\n",
    "import statsmodels.formula.api as smf"
   ]
  },
  {
   "cell_type": "code",
   "execution_count": 92,
   "metadata": {
    "collapsed": true
   },
   "outputs": [],
   "source": [
    "#master = sm.add_constant(master)"
   ]
  },
  {
   "cell_type": "code",
   "execution_count": 93,
   "metadata": {
    "collapsed": true
   },
   "outputs": [],
   "source": [
    "X = master.select_dtypes(include=['float64', 'int64'])"
   ]
  },
  {
   "cell_type": "code",
   "execution_count": 94,
   "metadata": {},
   "outputs": [
    {
     "data": {
      "text/plain": [
       "id                                   0\n",
       "scrape_id                            0\n",
       "host_id                              0\n",
       "host_listings_count                  0\n",
       "host_total_listings_count            0\n",
       "neighbourhood_group_cleansed      5922\n",
       "zipcode                             99\n",
       "latitude                             0\n",
       "longitude                            0\n",
       "accommodates                         0\n",
       "bathrooms                           10\n",
       "bedrooms                             3\n",
       "beds                                 4\n",
       "square_feet                       5822\n",
       "guests_included                      0\n",
       "minimum_nights                       0\n",
       "maximum_nights                       0\n",
       "has_availability                  5922\n",
       "availability_30                      0\n",
       "availability_60                      0\n",
       "availability_90                      0\n",
       "availability_365                     0\n",
       "number_of_reviews                    0\n",
       "review_scores_rating              1737\n",
       "review_scores_accuracy            1748\n",
       "review_scores_cleanliness         1748\n",
       "review_scores_checkin             1749\n",
       "review_scores_communication       1745\n",
       "review_scores_location            1747\n",
       "review_scores_value               1746\n",
       "license                           5922\n",
       "calculated_host_listings_count       0\n",
       "reviews_per_month                 1650\n",
       "listing_id                           0\n",
       "dtype: int64"
      ]
     },
     "execution_count": 94,
     "metadata": {},
     "output_type": "execute_result"
    }
   ],
   "source": [
    "X.isnull().sum()"
   ]
  },
  {
   "cell_type": "code",
   "execution_count": 95,
   "metadata": {
    "collapsed": true
   },
   "outputs": [],
   "source": [
    "#Dropping columns with too many null values"
   ]
  },
  {
   "cell_type": "code",
   "execution_count": 96,
   "metadata": {},
   "outputs": [],
   "source": [
    "X = X.drop(columns=['neighbourhood_group_cleansed','square_feet','has_availability','license'])"
   ]
  },
  {
   "cell_type": "code",
   "execution_count": 97,
   "metadata": {
    "collapsed": true
   },
   "outputs": [],
   "source": [
    "#replacing nulls in columns that have some nulls \n",
    "X = X.fillna(value=X.mean())"
   ]
  },
  {
   "cell_type": "markdown",
   "metadata": {},
   "source": [
    "Feature Engineering and Column Removal"
   ]
  },
  {
   "cell_type": "code",
   "execution_count": 98,
   "metadata": {},
   "outputs": [],
   "source": [
    "#First removing columns that should always be removed:\n",
    "X = X.drop(columns=['id','listing_id','host_id','scrape_id'])"
   ]
  },
  {
   "cell_type": "code",
   "execution_count": 99,
   "metadata": {},
   "outputs": [
    {
     "data": {
      "text/plain": [
       "host_listings_count                 int64\n",
       "host_total_listings_count           int64\n",
       "zipcode                           float64\n",
       "latitude                          float64\n",
       "longitude                         float64\n",
       "accommodates                        int64\n",
       "bathrooms                         float64\n",
       "bedrooms                          float64\n",
       "beds                              float64\n",
       "guests_included                     int64\n",
       "minimum_nights                      int64\n",
       "maximum_nights                      int64\n",
       "availability_30                     int64\n",
       "availability_60                     int64\n",
       "availability_90                     int64\n",
       "availability_365                    int64\n",
       "number_of_reviews                   int64\n",
       "review_scores_rating              float64\n",
       "review_scores_accuracy            float64\n",
       "review_scores_cleanliness         float64\n",
       "review_scores_checkin             float64\n",
       "review_scores_communication       float64\n",
       "review_scores_location            float64\n",
       "review_scores_value               float64\n",
       "calculated_host_listings_count      int64\n",
       "reviews_per_month                 float64\n",
       "dtype: object"
      ]
     },
     "execution_count": 99,
     "metadata": {},
     "output_type": "execute_result"
    }
   ],
   "source": [
    "X.dtypes"
   ]
  },
  {
   "cell_type": "code",
   "execution_count": null,
   "metadata": {
    "collapsed": true
   },
   "outputs": [],
   "source": []
  },
  {
   "cell_type": "code",
   "execution_count": null,
   "metadata": {
    "collapsed": true
   },
   "outputs": [],
   "source": []
  },
  {
   "cell_type": "code",
   "execution_count": null,
   "metadata": {
    "collapsed": true
   },
   "outputs": [],
   "source": []
  },
  {
   "cell_type": "markdown",
   "metadata": {},
   "source": [
    "Now One Hot Encoding Categorical Features"
   ]
  },
  {
   "cell_type": "code",
   "execution_count": null,
   "metadata": {
    "collapsed": true
   },
   "outputs": [],
   "source": []
  },
  {
   "cell_type": "code",
   "execution_count": 100,
   "metadata": {
    "collapsed": true
   },
   "outputs": [],
   "source": [
    "linear_regression = sm.OLS(target,X)"
   ]
  },
  {
   "cell_type": "code",
   "execution_count": 101,
   "metadata": {
    "collapsed": true
   },
   "outputs": [],
   "source": [
    "fitted_model = linear_regression.fit()"
   ]
  },
  {
   "cell_type": "code",
   "execution_count": 102,
   "metadata": {},
   "outputs": [
    {
     "data": {
      "text/html": [
       "<table class=\"simpletable\">\n",
       "<caption>OLS Regression Results</caption>\n",
       "<tr>\n",
       "  <th>Dep. Variable:</th>         <td>price_y</td>     <th>  R-squared:         </th> <td>   0.822</td> \n",
       "</tr>\n",
       "<tr>\n",
       "  <th>Model:</th>                   <td>OLS</td>       <th>  Adj. R-squared:    </th> <td>   0.821</td> \n",
       "</tr>\n",
       "<tr>\n",
       "  <th>Method:</th>             <td>Least Squares</td>  <th>  F-statistic:       </th> <td>   1088.</td> \n",
       "</tr>\n",
       "<tr>\n",
       "  <th>Date:</th>             <td>Wed, 11 Apr 2018</td> <th>  Prob (F-statistic):</th>  <td>  0.00</td>  \n",
       "</tr>\n",
       "<tr>\n",
       "  <th>Time:</th>                 <td>22:41:19</td>     <th>  Log-Likelihood:    </th> <td> -36203.</td> \n",
       "</tr>\n",
       "<tr>\n",
       "  <th>No. Observations:</th>      <td>  5922</td>      <th>  AIC:               </th> <td>7.246e+04</td>\n",
       "</tr>\n",
       "<tr>\n",
       "  <th>Df Residuals:</th>          <td>  5897</td>      <th>  BIC:               </th> <td>7.262e+04</td>\n",
       "</tr>\n",
       "<tr>\n",
       "  <th>Df Model:</th>              <td>    25</td>      <th>                     </th>     <td> </td>    \n",
       "</tr>\n",
       "<tr>\n",
       "  <th>Covariance Type:</th>      <td>nonrobust</td>    <th>                     </th>     <td> </td>    \n",
       "</tr>\n",
       "</table>\n",
       "<table class=\"simpletable\">\n",
       "<tr>\n",
       "                 <td></td>                   <th>coef</th>     <th>std err</th>      <th>t</th>      <th>P>|t|</th>  <th>[0.025</th>    <th>0.975]</th>  \n",
       "</tr>\n",
       "<tr>\n",
       "  <th>host_listings_count</th>            <td>    0.0321</td> <td>    0.014</td> <td>    2.221</td> <td> 0.026</td> <td>    0.004</td> <td>    0.060</td>\n",
       "</tr>\n",
       "<tr>\n",
       "  <th>host_total_listings_count</th>      <td>    0.0321</td> <td>    0.014</td> <td>    2.221</td> <td> 0.026</td> <td>    0.004</td> <td>    0.060</td>\n",
       "</tr>\n",
       "<tr>\n",
       "  <th>zipcode</th>                        <td> 7.571e-05</td> <td>    0.002</td> <td>    0.048</td> <td> 0.962</td> <td>   -0.003</td> <td>    0.003</td>\n",
       "</tr>\n",
       "<tr>\n",
       "  <th>latitude</th>                       <td> -138.1841</td> <td>   24.231</td> <td>   -5.703</td> <td> 0.000</td> <td> -185.686</td> <td>  -90.682</td>\n",
       "</tr>\n",
       "<tr>\n",
       "  <th>longitude</th>                      <td>  -37.3689</td> <td>    6.822</td> <td>   -5.478</td> <td> 0.000</td> <td>  -50.742</td> <td>  -23.995</td>\n",
       "</tr>\n",
       "<tr>\n",
       "  <th>accommodates</th>                   <td>   28.6500</td> <td>    1.140</td> <td>   25.122</td> <td> 0.000</td> <td>   26.414</td> <td>   30.886</td>\n",
       "</tr>\n",
       "<tr>\n",
       "  <th>bathrooms</th>                      <td>   15.5053</td> <td>    2.623</td> <td>    5.911</td> <td> 0.000</td> <td>   10.363</td> <td>   20.648</td>\n",
       "</tr>\n",
       "<tr>\n",
       "  <th>bedrooms</th>                       <td>   29.6430</td> <td>    2.624</td> <td>   11.297</td> <td> 0.000</td> <td>   24.499</td> <td>   34.787</td>\n",
       "</tr>\n",
       "<tr>\n",
       "  <th>beds</th>                           <td>   -6.5344</td> <td>    1.643</td> <td>   -3.978</td> <td> 0.000</td> <td>   -9.755</td> <td>   -3.314</td>\n",
       "</tr>\n",
       "<tr>\n",
       "  <th>guests_included</th>                <td>    1.8248</td> <td>    0.894</td> <td>    2.041</td> <td> 0.041</td> <td>    0.072</td> <td>    3.577</td>\n",
       "</tr>\n",
       "<tr>\n",
       "  <th>minimum_nights</th>                 <td>   -0.2768</td> <td>    0.257</td> <td>   -1.075</td> <td> 0.282</td> <td>   -0.782</td> <td>    0.228</td>\n",
       "</tr>\n",
       "<tr>\n",
       "  <th>maximum_nights</th>                 <td>-3.748e-05</td> <td>    0.000</td> <td>   -0.345</td> <td> 0.730</td> <td>   -0.000</td> <td>    0.000</td>\n",
       "</tr>\n",
       "<tr>\n",
       "  <th>availability_30</th>                <td>    1.4479</td> <td>    0.337</td> <td>    4.302</td> <td> 0.000</td> <td>    0.788</td> <td>    2.108</td>\n",
       "</tr>\n",
       "<tr>\n",
       "  <th>availability_60</th>                <td>    0.5286</td> <td>    0.314</td> <td>    1.684</td> <td> 0.092</td> <td>   -0.087</td> <td>    1.144</td>\n",
       "</tr>\n",
       "<tr>\n",
       "  <th>availability_90</th>                <td>   -0.7397</td> <td>    0.172</td> <td>   -4.307</td> <td> 0.000</td> <td>   -1.076</td> <td>   -0.403</td>\n",
       "</tr>\n",
       "<tr>\n",
       "  <th>availability_365</th>               <td>   -0.0147</td> <td>    0.014</td> <td>   -1.069</td> <td> 0.285</td> <td>   -0.042</td> <td>    0.012</td>\n",
       "</tr>\n",
       "<tr>\n",
       "  <th>number_of_reviews</th>              <td>   -0.2540</td> <td>    0.056</td> <td>   -4.575</td> <td> 0.000</td> <td>   -0.363</td> <td>   -0.145</td>\n",
       "</tr>\n",
       "<tr>\n",
       "  <th>review_scores_rating</th>           <td>    0.4084</td> <td>    0.416</td> <td>    0.983</td> <td> 0.326</td> <td>   -0.406</td> <td>    1.223</td>\n",
       "</tr>\n",
       "<tr>\n",
       "  <th>review_scores_accuracy</th>         <td>    6.9171</td> <td>    3.171</td> <td>    2.181</td> <td> 0.029</td> <td>    0.701</td> <td>   13.133</td>\n",
       "</tr>\n",
       "<tr>\n",
       "  <th>review_scores_cleanliness</th>      <td>    8.8139</td> <td>    2.702</td> <td>    3.262</td> <td> 0.001</td> <td>    3.516</td> <td>   14.112</td>\n",
       "</tr>\n",
       "<tr>\n",
       "  <th>review_scores_checkin</th>          <td>   -7.6598</td> <td>    3.947</td> <td>   -1.941</td> <td> 0.052</td> <td>  -15.397</td> <td>    0.077</td>\n",
       "</tr>\n",
       "<tr>\n",
       "  <th>review_scores_communication</th>    <td>    4.2007</td> <td>    3.848</td> <td>    1.092</td> <td> 0.275</td> <td>   -3.343</td> <td>   11.745</td>\n",
       "</tr>\n",
       "<tr>\n",
       "  <th>review_scores_location</th>         <td>   14.5753</td> <td>    2.873</td> <td>    5.073</td> <td> 0.000</td> <td>    8.942</td> <td>   20.208</td>\n",
       "</tr>\n",
       "<tr>\n",
       "  <th>review_scores_value</th>            <td>  -12.7070</td> <td>    3.285</td> <td>   -3.868</td> <td> 0.000</td> <td>  -19.147</td> <td>   -6.267</td>\n",
       "</tr>\n",
       "<tr>\n",
       "  <th>calculated_host_listings_count</th> <td>    0.7456</td> <td>    0.109</td> <td>    6.858</td> <td> 0.000</td> <td>    0.532</td> <td>    0.959</td>\n",
       "</tr>\n",
       "<tr>\n",
       "  <th>reviews_per_month</th>              <td>   -3.9724</td> <td>    1.119</td> <td>   -3.551</td> <td> 0.000</td> <td>   -6.166</td> <td>   -1.779</td>\n",
       "</tr>\n",
       "</table>\n",
       "<table class=\"simpletable\">\n",
       "<tr>\n",
       "  <th>Omnibus:</th>       <td>1370.717</td> <th>  Durbin-Watson:     </th> <td>   1.881</td> \n",
       "</tr>\n",
       "<tr>\n",
       "  <th>Prob(Omnibus):</th>  <td> 0.000</td>  <th>  Jarque-Bera (JB):  </th> <td>14488.982</td>\n",
       "</tr>\n",
       "<tr>\n",
       "  <th>Skew:</th>           <td> 0.801</td>  <th>  Prob(JB):          </th> <td>    0.00</td> \n",
       "</tr>\n",
       "<tr>\n",
       "  <th>Kurtosis:</th>       <td>10.493</td>  <th>  Cond. No.          </th> <td>8.62e+17</td> \n",
       "</tr>\n",
       "</table>"
      ],
      "text/plain": [
       "<class 'statsmodels.iolib.summary.Summary'>\n",
       "\"\"\"\n",
       "                            OLS Regression Results                            \n",
       "==============================================================================\n",
       "Dep. Variable:                price_y   R-squared:                       0.822\n",
       "Model:                            OLS   Adj. R-squared:                  0.821\n",
       "Method:                 Least Squares   F-statistic:                     1088.\n",
       "Date:                Wed, 11 Apr 2018   Prob (F-statistic):               0.00\n",
       "Time:                        22:41:19   Log-Likelihood:                -36203.\n",
       "No. Observations:                5922   AIC:                         7.246e+04\n",
       "Df Residuals:                    5897   BIC:                         7.262e+04\n",
       "Df Model:                          25                                         \n",
       "Covariance Type:            nonrobust                                         \n",
       "==================================================================================================\n",
       "                                     coef    std err          t      P>|t|      [0.025      0.975]\n",
       "--------------------------------------------------------------------------------------------------\n",
       "host_listings_count                0.0321      0.014      2.221      0.026       0.004       0.060\n",
       "host_total_listings_count          0.0321      0.014      2.221      0.026       0.004       0.060\n",
       "zipcode                         7.571e-05      0.002      0.048      0.962      -0.003       0.003\n",
       "latitude                        -138.1841     24.231     -5.703      0.000    -185.686     -90.682\n",
       "longitude                        -37.3689      6.822     -5.478      0.000     -50.742     -23.995\n",
       "accommodates                      28.6500      1.140     25.122      0.000      26.414      30.886\n",
       "bathrooms                         15.5053      2.623      5.911      0.000      10.363      20.648\n",
       "bedrooms                          29.6430      2.624     11.297      0.000      24.499      34.787\n",
       "beds                              -6.5344      1.643     -3.978      0.000      -9.755      -3.314\n",
       "guests_included                    1.8248      0.894      2.041      0.041       0.072       3.577\n",
       "minimum_nights                    -0.2768      0.257     -1.075      0.282      -0.782       0.228\n",
       "maximum_nights                 -3.748e-05      0.000     -0.345      0.730      -0.000       0.000\n",
       "availability_30                    1.4479      0.337      4.302      0.000       0.788       2.108\n",
       "availability_60                    0.5286      0.314      1.684      0.092      -0.087       1.144\n",
       "availability_90                   -0.7397      0.172     -4.307      0.000      -1.076      -0.403\n",
       "availability_365                  -0.0147      0.014     -1.069      0.285      -0.042       0.012\n",
       "number_of_reviews                 -0.2540      0.056     -4.575      0.000      -0.363      -0.145\n",
       "review_scores_rating               0.4084      0.416      0.983      0.326      -0.406       1.223\n",
       "review_scores_accuracy             6.9171      3.171      2.181      0.029       0.701      13.133\n",
       "review_scores_cleanliness          8.8139      2.702      3.262      0.001       3.516      14.112\n",
       "review_scores_checkin             -7.6598      3.947     -1.941      0.052     -15.397       0.077\n",
       "review_scores_communication        4.2007      3.848      1.092      0.275      -3.343      11.745\n",
       "review_scores_location            14.5753      2.873      5.073      0.000       8.942      20.208\n",
       "review_scores_value              -12.7070      3.285     -3.868      0.000     -19.147      -6.267\n",
       "calculated_host_listings_count     0.7456      0.109      6.858      0.000       0.532       0.959\n",
       "reviews_per_month                 -3.9724      1.119     -3.551      0.000      -6.166      -1.779\n",
       "==============================================================================\n",
       "Omnibus:                     1370.717   Durbin-Watson:                   1.881\n",
       "Prob(Omnibus):                  0.000   Jarque-Bera (JB):            14488.982\n",
       "Skew:                           0.801   Prob(JB):                         0.00\n",
       "Kurtosis:                      10.493   Cond. No.                     8.62e+17\n",
       "==============================================================================\n",
       "\n",
       "Warnings:\n",
       "[1] Standard Errors assume that the covariance matrix of the errors is correctly specified.\n",
       "[2] The smallest eigenvalue is 6.75e-23. This might indicate that there are\n",
       "strong multicollinearity problems or that the design matrix is singular.\n",
       "\"\"\""
      ]
     },
     "execution_count": 102,
     "metadata": {},
     "output_type": "execute_result"
    }
   ],
   "source": [
    "fitted_model.summary()"
   ]
  },
  {
   "cell_type": "code",
   "execution_count": 103,
   "metadata": {},
   "outputs": [
    {
     "data": {
      "text/plain": [
       "host_listings_count                 0.032082\n",
       "host_total_listings_count           0.032082\n",
       "zipcode                             0.000076\n",
       "latitude                         -138.184058\n",
       "longitude                         -37.368880\n",
       "accommodates                       28.650001\n",
       "bathrooms                          15.505251\n",
       "bedrooms                           29.642969\n",
       "beds                               -6.534358\n",
       "guests_included                     1.824833\n",
       "minimum_nights                     -0.276841\n",
       "maximum_nights                     -0.000037\n",
       "availability_30                     1.447851\n",
       "availability_60                     0.528602\n",
       "availability_90                    -0.739654\n",
       "availability_365                   -0.014720\n",
       "number_of_reviews                  -0.253985\n",
       "review_scores_rating                0.408405\n",
       "review_scores_accuracy              6.917058\n",
       "review_scores_cleanliness           8.813912\n",
       "review_scores_checkin              -7.659830\n",
       "review_scores_communication         4.200723\n",
       "review_scores_location             14.575301\n",
       "review_scores_value               -12.706982\n",
       "calculated_host_listings_count      0.745620\n",
       "reviews_per_month                  -3.972406\n",
       "dtype: float64"
      ]
     },
     "execution_count": 103,
     "metadata": {},
     "output_type": "execute_result"
    }
   ],
   "source": [
    "fitted_model.params"
   ]
  },
  {
   "cell_type": "code",
   "execution_count": 104,
   "metadata": {},
   "outputs": [
    {
     "data": {
      "text/plain": [
       "0    133.536339\n",
       "1    136.599461\n",
       "2    185.820684\n",
       "dtype: float64"
      ]
     },
     "execution_count": 104,
     "metadata": {},
     "output_type": "execute_result"
    }
   ],
   "source": [
    "fitted_model.predict(X).head(3)"
   ]
  },
  {
   "cell_type": "code",
   "execution_count": 105,
   "metadata": {},
   "outputs": [
    {
     "data": {
      "text/plain": [
       "0     49.0\n",
       "1     59.0\n",
       "2    120.0\n",
       "Name: price_y, dtype: float64"
      ]
     },
     "execution_count": 105,
     "metadata": {},
     "output_type": "execute_result"
    }
   ],
   "source": [
    "target.head(3)"
   ]
  },
  {
   "cell_type": "code",
   "execution_count": 106,
   "metadata": {
    "collapsed": true
   },
   "outputs": [],
   "source": [
    "mean_expected_value = target.mean()"
   ]
  },
  {
   "cell_type": "code",
   "execution_count": 107,
   "metadata": {
    "collapsed": true
   },
   "outputs": [],
   "source": [
    "Squared_errors = pd.Series(mean_expected_value - target)**2"
   ]
  },
  {
   "cell_type": "code",
   "execution_count": 108,
   "metadata": {
    "collapsed": true
   },
   "outputs": [],
   "source": [
    "SSE = sum(Squared_errors)"
   ]
  },
  {
   "cell_type": "code",
   "execution_count": 109,
   "metadata": {},
   "outputs": [
    {
     "data": {
      "text/plain": [
       "160180978.32987943"
      ]
     },
     "execution_count": 109,
     "metadata": {},
     "output_type": "execute_result"
    }
   ],
   "source": [
    "SSE"
   ]
  },
  {
   "cell_type": "code",
   "execution_count": 110,
   "metadata": {},
   "outputs": [
    {
     "data": {
      "image/png": "[encoded data removed]",
      "text/plain": [
       "<matplotlib.figure.Figure at 0x1c113d0950>"
      ]
     },
     "metadata": {},
     "output_type": "display_data"
    }
   ],
   "source": [
    "density_plot = Squared_errors.plot('hist')"
   ]
  },
  {
   "cell_type": "code",
   "execution_count": 111,
   "metadata": {},
   "outputs": [
    {
     "data": {
      "text/plain": [
       "<matplotlib.figure.Figure at 0x1c24bc2950>"
      ]
     },
     "metadata": {},
     "output_type": "display_data"
    }
   ],
   "source": [
    "plt.figure()\n",
    "density_plot\n",
    "plt.show()"
   ]
  },
  {
   "cell_type": "code",
   "execution_count": 112,
   "metadata": {},
   "outputs": [
    {
     "data": {
      "text/html": [
       "<div>\n",
       "<style scoped>\n",
       "    .dataframe tbody tr th:only-of-type {\n",
       "        vertical-align: middle;\n",
       "    }\n",
       "\n",
       "    .dataframe tbody tr th {\n",
       "        vertical-align: top;\n",
       "    }\n",
       "\n",
       "    .dataframe thead th {\n",
       "        text-align: right;\n",
       "    }\n",
       "</style>\n",
       "<table border=\"1\" class=\"dataframe\">\n",
       "  <thead>\n",
       "    <tr style=\"text-align: right;\">\n",
       "      <th></th>\n",
       "      <th>host_listings_count</th>\n",
       "      <th>host_total_listings_count</th>\n",
       "      <th>zipcode</th>\n",
       "      <th>latitude</th>\n",
       "      <th>longitude</th>\n",
       "      <th>accommodates</th>\n",
       "      <th>bathrooms</th>\n",
       "      <th>bedrooms</th>\n",
       "      <th>beds</th>\n",
       "      <th>guests_included</th>\n",
       "      <th>...</th>\n",
       "      <th>number_of_reviews</th>\n",
       "      <th>review_scores_rating</th>\n",
       "      <th>review_scores_accuracy</th>\n",
       "      <th>review_scores_cleanliness</th>\n",
       "      <th>review_scores_checkin</th>\n",
       "      <th>review_scores_communication</th>\n",
       "      <th>review_scores_location</th>\n",
       "      <th>review_scores_value</th>\n",
       "      <th>calculated_host_listings_count</th>\n",
       "      <th>reviews_per_month</th>\n",
       "    </tr>\n",
       "  </thead>\n",
       "  <tbody>\n",
       "    <tr>\n",
       "      <th>host_listings_count</th>\n",
       "      <td>1.000000</td>\n",
       "      <td>1.000000</td>\n",
       "      <td>-0.000775</td>\n",
       "      <td>0.030935</td>\n",
       "      <td>-0.114995</td>\n",
       "      <td>0.164162</td>\n",
       "      <td>0.134966</td>\n",
       "      <td>0.132602</td>\n",
       "      <td>0.109602</td>\n",
       "      <td>-0.083983</td>\n",
       "      <td>...</td>\n",
       "      <td>-0.098529</td>\n",
       "      <td>-0.058365</td>\n",
       "      <td>-0.038761</td>\n",
       "      <td>-0.026109</td>\n",
       "      <td>-0.061389</td>\n",
       "      <td>-0.065520</td>\n",
       "      <td>-0.005768</td>\n",
       "      <td>-0.066629</td>\n",
       "      <td>0.500937</td>\n",
       "      <td>-0.070702</td>\n",
       "    </tr>\n",
       "    <tr>\n",
       "      <th>host_total_listings_count</th>\n",
       "      <td>1.000000</td>\n",
       "      <td>1.000000</td>\n",
       "      <td>-0.000775</td>\n",
       "      <td>0.030935</td>\n",
       "      <td>-0.114995</td>\n",
       "      <td>0.164162</td>\n",
       "      <td>0.134966</td>\n",
       "      <td>0.132602</td>\n",
       "      <td>0.109602</td>\n",
       "      <td>-0.083983</td>\n",
       "      <td>...</td>\n",
       "      <td>-0.098529</td>\n",
       "      <td>-0.058365</td>\n",
       "      <td>-0.038761</td>\n",
       "      <td>-0.026109</td>\n",
       "      <td>-0.061389</td>\n",
       "      <td>-0.065520</td>\n",
       "      <td>-0.005768</td>\n",
       "      <td>-0.066629</td>\n",
       "      <td>0.500937</td>\n",
       "      <td>-0.070702</td>\n",
       "    </tr>\n",
       "    <tr>\n",
       "      <th>zipcode</th>\n",
       "      <td>-0.000775</td>\n",
       "      <td>-0.000775</td>\n",
       "      <td>1.000000</td>\n",
       "      <td>0.052350</td>\n",
       "      <td>-0.015547</td>\n",
       "      <td>0.007011</td>\n",
       "      <td>0.017518</td>\n",
       "      <td>0.002359</td>\n",
       "      <td>0.006237</td>\n",
       "      <td>0.006372</td>\n",
       "      <td>...</td>\n",
       "      <td>0.007288</td>\n",
       "      <td>0.014443</td>\n",
       "      <td>0.012079</td>\n",
       "      <td>0.008474</td>\n",
       "      <td>0.019817</td>\n",
       "      <td>0.019349</td>\n",
       "      <td>-0.009328</td>\n",
       "      <td>0.008856</td>\n",
       "      <td>-0.002434</td>\n",
       "      <td>0.012512</td>\n",
       "    </tr>\n",
       "    <tr>\n",
       "      <th>latitude</th>\n",
       "      <td>0.030935</td>\n",
       "      <td>0.030935</td>\n",
       "      <td>0.052350</td>\n",
       "      <td>1.000000</td>\n",
       "      <td>-0.366843</td>\n",
       "      <td>0.086380</td>\n",
       "      <td>0.171017</td>\n",
       "      <td>0.155283</td>\n",
       "      <td>0.083020</td>\n",
       "      <td>0.011080</td>\n",
       "      <td>...</td>\n",
       "      <td>-0.069860</td>\n",
       "      <td>0.027917</td>\n",
       "      <td>0.011242</td>\n",
       "      <td>0.024635</td>\n",
       "      <td>0.007360</td>\n",
       "      <td>0.007039</td>\n",
       "      <td>0.078988</td>\n",
       "      <td>0.007108</td>\n",
       "      <td>0.113111</td>\n",
       "      <td>-0.082374</td>\n",
       "    </tr>\n",
       "    <tr>\n",
       "      <th>longitude</th>\n",
       "      <td>-0.114995</td>\n",
       "      <td>-0.114995</td>\n",
       "      <td>-0.015547</td>\n",
       "      <td>-0.366843</td>\n",
       "      <td>1.000000</td>\n",
       "      <td>-0.255794</td>\n",
       "      <td>-0.190357</td>\n",
       "      <td>-0.215242</td>\n",
       "      <td>-0.206105</td>\n",
       "      <td>-0.027661</td>\n",
       "      <td>...</td>\n",
       "      <td>0.030665</td>\n",
       "      <td>0.059921</td>\n",
       "      <td>0.069490</td>\n",
       "      <td>0.057266</td>\n",
       "      <td>0.052262</td>\n",
       "      <td>0.064387</td>\n",
       "      <td>-0.132744</td>\n",
       "      <td>0.100206</td>\n",
       "      <td>-0.289360</td>\n",
       "      <td>0.066751</td>\n",
       "    </tr>\n",
       "    <tr>\n",
       "      <th>accommodates</th>\n",
       "      <td>0.164162</td>\n",
       "      <td>0.164162</td>\n",
       "      <td>0.007011</td>\n",
       "      <td>0.086380</td>\n",
       "      <td>-0.255794</td>\n",
       "      <td>1.000000</td>\n",
       "      <td>0.701194</td>\n",
       "      <td>0.836426</td>\n",
       "      <td>0.852910</td>\n",
       "      <td>0.397709</td>\n",
       "      <td>...</td>\n",
       "      <td>-0.122796</td>\n",
       "      <td>-0.074716</td>\n",
       "      <td>-0.091350</td>\n",
       "      <td>-0.059334</td>\n",
       "      <td>-0.071133</td>\n",
       "      <td>-0.094320</td>\n",
       "      <td>-0.021794</td>\n",
       "      <td>-0.108718</td>\n",
       "      <td>0.275507</td>\n",
       "      <td>-0.123837</td>\n",
       "    </tr>\n",
       "    <tr>\n",
       "      <th>bathrooms</th>\n",
       "      <td>0.134966</td>\n",
       "      <td>0.134966</td>\n",
       "      <td>0.017518</td>\n",
       "      <td>0.171017</td>\n",
       "      <td>-0.190357</td>\n",
       "      <td>0.701194</td>\n",
       "      <td>1.000000</td>\n",
       "      <td>0.768125</td>\n",
       "      <td>0.677915</td>\n",
       "      <td>0.258084</td>\n",
       "      <td>...</td>\n",
       "      <td>-0.137077</td>\n",
       "      <td>-0.031469</td>\n",
       "      <td>-0.044889</td>\n",
       "      <td>-0.042821</td>\n",
       "      <td>-0.041611</td>\n",
       "      <td>-0.057974</td>\n",
       "      <td>-0.002542</td>\n",
       "      <td>-0.056755</td>\n",
       "      <td>0.236680</td>\n",
       "      <td>-0.152972</td>\n",
       "    </tr>\n",
       "    <tr>\n",
       "      <th>bedrooms</th>\n",
       "      <td>0.132602</td>\n",
       "      <td>0.132602</td>\n",
       "      <td>0.002359</td>\n",
       "      <td>0.155283</td>\n",
       "      <td>-0.215242</td>\n",
       "      <td>0.836426</td>\n",
       "      <td>0.768125</td>\n",
       "      <td>1.000000</td>\n",
       "      <td>0.791530</td>\n",
       "      <td>0.351976</td>\n",
       "      <td>...</td>\n",
       "      <td>-0.149840</td>\n",
       "      <td>-0.049791</td>\n",
       "      <td>-0.068921</td>\n",
       "      <td>-0.052666</td>\n",
       "      <td>-0.041358</td>\n",
       "      <td>-0.062914</td>\n",
       "      <td>-0.011820</td>\n",
       "      <td>-0.076263</td>\n",
       "      <td>0.256847</td>\n",
       "      <td>-0.169442</td>\n",
       "    </tr>\n",
       "    <tr>\n",
       "      <th>beds</th>\n",
       "      <td>0.109602</td>\n",
       "      <td>0.109602</td>\n",
       "      <td>0.006237</td>\n",
       "      <td>0.083020</td>\n",
       "      <td>-0.206105</td>\n",
       "      <td>0.852910</td>\n",
       "      <td>0.677915</td>\n",
       "      <td>0.791530</td>\n",
       "      <td>1.000000</td>\n",
       "      <td>0.372617</td>\n",
       "      <td>...</td>\n",
       "      <td>-0.100397</td>\n",
       "      <td>-0.068199</td>\n",
       "      <td>-0.085838</td>\n",
       "      <td>-0.056763</td>\n",
       "      <td>-0.048396</td>\n",
       "      <td>-0.067253</td>\n",
       "      <td>-0.015831</td>\n",
       "      <td>-0.086855</td>\n",
       "      <td>0.177954</td>\n",
       "      <td>-0.116552</td>\n",
       "    </tr>\n",
       "    <tr>\n",
       "      <th>guests_included</th>\n",
       "      <td>-0.083983</td>\n",
       "      <td>-0.083983</td>\n",
       "      <td>0.006372</td>\n",
       "      <td>0.011080</td>\n",
       "      <td>-0.027661</td>\n",
       "      <td>0.397709</td>\n",
       "      <td>0.258084</td>\n",
       "      <td>0.351976</td>\n",
       "      <td>0.372617</td>\n",
       "      <td>1.000000</td>\n",
       "      <td>...</td>\n",
       "      <td>0.039417</td>\n",
       "      <td>-0.005114</td>\n",
       "      <td>-0.014010</td>\n",
       "      <td>-0.013868</td>\n",
       "      <td>0.004756</td>\n",
       "      <td>-0.003543</td>\n",
       "      <td>-0.029003</td>\n",
       "      <td>-0.008008</td>\n",
       "      <td>-0.114025</td>\n",
       "      <td>-0.019261</td>\n",
       "    </tr>\n",
       "    <tr>\n",
       "      <th>minimum_nights</th>\n",
       "      <td>-0.025459</td>\n",
       "      <td>-0.025459</td>\n",
       "      <td>0.003622</td>\n",
       "      <td>0.053105</td>\n",
       "      <td>-0.045744</td>\n",
       "      <td>0.050131</td>\n",
       "      <td>0.062827</td>\n",
       "      <td>0.062711</td>\n",
       "      <td>0.056143</td>\n",
       "      <td>0.021818</td>\n",
       "      <td>...</td>\n",
       "      <td>-0.053100</td>\n",
       "      <td>0.010863</td>\n",
       "      <td>0.014432</td>\n",
       "      <td>0.002219</td>\n",
       "      <td>0.010836</td>\n",
       "      <td>0.006077</td>\n",
       "      <td>0.007949</td>\n",
       "      <td>0.001380</td>\n",
       "      <td>-0.038364</td>\n",
       "      <td>-0.093528</td>\n",
       "    </tr>\n",
       "    <tr>\n",
       "      <th>maximum_nights</th>\n",
       "      <td>0.000341</td>\n",
       "      <td>0.000341</td>\n",
       "      <td>0.000027</td>\n",
       "      <td>-0.000491</td>\n",
       "      <td>0.008737</td>\n",
       "      <td>-0.000597</td>\n",
       "      <td>0.006978</td>\n",
       "      <td>0.002955</td>\n",
       "      <td>-0.001441</td>\n",
       "      <td>0.000617</td>\n",
       "      <td>...</td>\n",
       "      <td>-0.005206</td>\n",
       "      <td>0.010553</td>\n",
       "      <td>0.006022</td>\n",
       "      <td>0.007610</td>\n",
       "      <td>0.003728</td>\n",
       "      <td>0.004864</td>\n",
       "      <td>0.007209</td>\n",
       "      <td>0.009256</td>\n",
       "      <td>0.002069</td>\n",
       "      <td>-0.012448</td>\n",
       "    </tr>\n",
       "    <tr>\n",
       "      <th>availability_30</th>\n",
       "      <td>-0.009858</td>\n",
       "      <td>-0.009858</td>\n",
       "      <td>0.007723</td>\n",
       "      <td>-0.058084</td>\n",
       "      <td>0.153864</td>\n",
       "      <td>-0.129757</td>\n",
       "      <td>-0.042718</td>\n",
       "      <td>-0.107403</td>\n",
       "      <td>-0.091685</td>\n",
       "      <td>-0.055265</td>\n",
       "      <td>...</td>\n",
       "      <td>-0.131613</td>\n",
       "      <td>-0.049336</td>\n",
       "      <td>-0.061544</td>\n",
       "      <td>-0.051769</td>\n",
       "      <td>-0.030911</td>\n",
       "      <td>-0.032836</td>\n",
       "      <td>-0.046626</td>\n",
       "      <td>-0.055277</td>\n",
       "      <td>-0.082295</td>\n",
       "      <td>-0.100382</td>\n",
       "    </tr>\n",
       "    <tr>\n",
       "      <th>availability_60</th>\n",
       "      <td>0.014862</td>\n",
       "      <td>0.014862</td>\n",
       "      <td>-0.005992</td>\n",
       "      <td>-0.056572</td>\n",
       "      <td>0.115612</td>\n",
       "      <td>-0.115848</td>\n",
       "      <td>-0.050155</td>\n",
       "      <td>-0.101325</td>\n",
       "      <td>-0.085883</td>\n",
       "      <td>-0.050259</td>\n",
       "      <td>...</td>\n",
       "      <td>-0.098174</td>\n",
       "      <td>-0.049499</td>\n",
       "      <td>-0.062030</td>\n",
       "      <td>-0.044850</td>\n",
       "      <td>-0.033304</td>\n",
       "      <td>-0.038270</td>\n",
       "      <td>-0.042343</td>\n",
       "      <td>-0.062907</td>\n",
       "      <td>-0.028939</td>\n",
       "      <td>-0.082632</td>\n",
       "    </tr>\n",
       "    <tr>\n",
       "      <th>availability_90</th>\n",
       "      <td>0.033109</td>\n",
       "      <td>0.033109</td>\n",
       "      <td>-0.009169</td>\n",
       "      <td>-0.034303</td>\n",
       "      <td>0.084742</td>\n",
       "      <td>-0.097111</td>\n",
       "      <td>-0.046697</td>\n",
       "      <td>-0.092697</td>\n",
       "      <td>-0.072202</td>\n",
       "      <td>-0.027701</td>\n",
       "      <td>...</td>\n",
       "      <td>-0.066504</td>\n",
       "      <td>-0.049150</td>\n",
       "      <td>-0.058856</td>\n",
       "      <td>-0.034254</td>\n",
       "      <td>-0.029848</td>\n",
       "      <td>-0.037947</td>\n",
       "      <td>-0.038862</td>\n",
       "      <td>-0.069412</td>\n",
       "      <td>-0.001637</td>\n",
       "      <td>-0.059015</td>\n",
       "    </tr>\n",
       "    <tr>\n",
       "      <th>availability_365</th>\n",
       "      <td>-0.001675</td>\n",
       "      <td>-0.001675</td>\n",
       "      <td>-0.012748</td>\n",
       "      <td>0.046380</td>\n",
       "      <td>-0.045487</td>\n",
       "      <td>0.039235</td>\n",
       "      <td>0.034411</td>\n",
       "      <td>0.012456</td>\n",
       "      <td>0.048221</td>\n",
       "      <td>0.034268</td>\n",
       "      <td>...</td>\n",
       "      <td>0.046318</td>\n",
       "      <td>-0.052229</td>\n",
       "      <td>-0.055800</td>\n",
       "      <td>-0.035180</td>\n",
       "      <td>-0.038089</td>\n",
       "      <td>-0.057701</td>\n",
       "      <td>-0.020970</td>\n",
       "      <td>-0.063134</td>\n",
       "      <td>0.070820</td>\n",
       "      <td>-0.075011</td>\n",
       "    </tr>\n",
       "    <tr>\n",
       "      <th>number_of_reviews</th>\n",
       "      <td>-0.098529</td>\n",
       "      <td>-0.098529</td>\n",
       "      <td>0.007288</td>\n",
       "      <td>-0.069860</td>\n",
       "      <td>0.030665</td>\n",
       "      <td>-0.122796</td>\n",
       "      <td>-0.137077</td>\n",
       "      <td>-0.149840</td>\n",
       "      <td>-0.100397</td>\n",
       "      <td>0.039417</td>\n",
       "      <td>...</td>\n",
       "      <td>1.000000</td>\n",
       "      <td>0.041100</td>\n",
       "      <td>0.074044</td>\n",
       "      <td>0.052207</td>\n",
       "      <td>0.079948</td>\n",
       "      <td>0.081094</td>\n",
       "      <td>-0.002804</td>\n",
       "      <td>0.048752</td>\n",
       "      <td>-0.114911</td>\n",
       "      <td>0.489574</td>\n",
       "    </tr>\n",
       "    <tr>\n",
       "      <th>review_scores_rating</th>\n",
       "      <td>-0.058365</td>\n",
       "      <td>-0.058365</td>\n",
       "      <td>0.014443</td>\n",
       "      <td>0.027917</td>\n",
       "      <td>0.059921</td>\n",
       "      <td>-0.074716</td>\n",
       "      <td>-0.031469</td>\n",
       "      <td>-0.049791</td>\n",
       "      <td>-0.068199</td>\n",
       "      <td>-0.005114</td>\n",
       "      <td>...</td>\n",
       "      <td>0.041100</td>\n",
       "      <td>1.000000</td>\n",
       "      <td>0.684725</td>\n",
       "      <td>0.655855</td>\n",
       "      <td>0.549283</td>\n",
       "      <td>0.576790</td>\n",
       "      <td>0.440166</td>\n",
       "      <td>0.733066</td>\n",
       "      <td>-0.109945</td>\n",
       "      <td>0.088301</td>\n",
       "    </tr>\n",
       "    <tr>\n",
       "      <th>review_scores_accuracy</th>\n",
       "      <td>-0.038761</td>\n",
       "      <td>-0.038761</td>\n",
       "      <td>0.012079</td>\n",
       "      <td>0.011242</td>\n",
       "      <td>0.069490</td>\n",
       "      <td>-0.091350</td>\n",
       "      <td>-0.044889</td>\n",
       "      <td>-0.068921</td>\n",
       "      <td>-0.085838</td>\n",
       "      <td>-0.014010</td>\n",
       "      <td>...</td>\n",
       "      <td>0.074044</td>\n",
       "      <td>0.684725</td>\n",
       "      <td>1.000000</td>\n",
       "      <td>0.572114</td>\n",
       "      <td>0.450657</td>\n",
       "      <td>0.448666</td>\n",
       "      <td>0.362267</td>\n",
       "      <td>0.627177</td>\n",
       "      <td>-0.091573</td>\n",
       "      <td>0.137163</td>\n",
       "    </tr>\n",
       "    <tr>\n",
       "      <th>review_scores_cleanliness</th>\n",
       "      <td>-0.026109</td>\n",
       "      <td>-0.026109</td>\n",
       "      <td>0.008474</td>\n",
       "      <td>0.024635</td>\n",
       "      <td>0.057266</td>\n",
       "      <td>-0.059334</td>\n",
       "      <td>-0.042821</td>\n",
       "      <td>-0.052666</td>\n",
       "      <td>-0.056763</td>\n",
       "      <td>-0.013868</td>\n",
       "      <td>...</td>\n",
       "      <td>0.052207</td>\n",
       "      <td>0.655855</td>\n",
       "      <td>0.572114</td>\n",
       "      <td>1.000000</td>\n",
       "      <td>0.424460</td>\n",
       "      <td>0.428240</td>\n",
       "      <td>0.284666</td>\n",
       "      <td>0.555752</td>\n",
       "      <td>-0.057684</td>\n",
       "      <td>0.113027</td>\n",
       "    </tr>\n",
       "    <tr>\n",
       "      <th>review_scores_checkin</th>\n",
       "      <td>-0.061389</td>\n",
       "      <td>-0.061389</td>\n",
       "      <td>0.019817</td>\n",
       "      <td>0.007360</td>\n",
       "      <td>0.052262</td>\n",
       "      <td>-0.071133</td>\n",
       "      <td>-0.041611</td>\n",
       "      <td>-0.041358</td>\n",
       "      <td>-0.048396</td>\n",
       "      <td>0.004756</td>\n",
       "      <td>...</td>\n",
       "      <td>0.079948</td>\n",
       "      <td>0.549283</td>\n",
       "      <td>0.450657</td>\n",
       "      <td>0.424460</td>\n",
       "      <td>1.000000</td>\n",
       "      <td>0.664144</td>\n",
       "      <td>0.324112</td>\n",
       "      <td>0.466280</td>\n",
       "      <td>-0.071777</td>\n",
       "      <td>0.094822</td>\n",
       "    </tr>\n",
       "    <tr>\n",
       "      <th>review_scores_communication</th>\n",
       "      <td>-0.065520</td>\n",
       "      <td>-0.065520</td>\n",
       "      <td>0.019349</td>\n",
       "      <td>0.007039</td>\n",
       "      <td>0.064387</td>\n",
       "      <td>-0.094320</td>\n",
       "      <td>-0.057974</td>\n",
       "      <td>-0.062914</td>\n",
       "      <td>-0.067253</td>\n",
       "      <td>-0.003543</td>\n",
       "      <td>...</td>\n",
       "      <td>0.081094</td>\n",
       "      <td>0.576790</td>\n",
       "      <td>0.448666</td>\n",
       "      <td>0.428240</td>\n",
       "      <td>0.664144</td>\n",
       "      <td>1.000000</td>\n",
       "      <td>0.306089</td>\n",
       "      <td>0.483827</td>\n",
       "      <td>-0.084280</td>\n",
       "      <td>0.110428</td>\n",
       "    </tr>\n",
       "    <tr>\n",
       "      <th>review_scores_location</th>\n",
       "      <td>-0.005768</td>\n",
       "      <td>-0.005768</td>\n",
       "      <td>-0.009328</td>\n",
       "      <td>0.078988</td>\n",
       "      <td>-0.132744</td>\n",
       "      <td>-0.021794</td>\n",
       "      <td>-0.002542</td>\n",
       "      <td>-0.011820</td>\n",
       "      <td>-0.015831</td>\n",
       "      <td>-0.029003</td>\n",
       "      <td>...</td>\n",
       "      <td>-0.002804</td>\n",
       "      <td>0.440166</td>\n",
       "      <td>0.362267</td>\n",
       "      <td>0.284666</td>\n",
       "      <td>0.324112</td>\n",
       "      <td>0.306089</td>\n",
       "      <td>1.000000</td>\n",
       "      <td>0.431468</td>\n",
       "      <td>-0.007475</td>\n",
       "      <td>0.041057</td>\n",
       "    </tr>\n",
       "    <tr>\n",
       "      <th>review_scores_value</th>\n",
       "      <td>-0.066629</td>\n",
       "      <td>-0.066629</td>\n",
       "      <td>0.008856</td>\n",
       "      <td>0.007108</td>\n",
       "      <td>0.100206</td>\n",
       "      <td>-0.108718</td>\n",
       "      <td>-0.056755</td>\n",
       "      <td>-0.076263</td>\n",
       "      <td>-0.086855</td>\n",
       "      <td>-0.008008</td>\n",
       "      <td>...</td>\n",
       "      <td>0.048752</td>\n",
       "      <td>0.733066</td>\n",
       "      <td>0.627177</td>\n",
       "      <td>0.555752</td>\n",
       "      <td>0.466280</td>\n",
       "      <td>0.483827</td>\n",
       "      <td>0.431468</td>\n",
       "      <td>1.000000</td>\n",
       "      <td>-0.117112</td>\n",
       "      <td>0.145953</td>\n",
       "    </tr>\n",
       "    <tr>\n",
       "      <th>calculated_host_listings_count</th>\n",
       "      <td>0.500937</td>\n",
       "      <td>0.500937</td>\n",
       "      <td>-0.002434</td>\n",
       "      <td>0.113111</td>\n",
       "      <td>-0.289360</td>\n",
       "      <td>0.275507</td>\n",
       "      <td>0.236680</td>\n",
       "      <td>0.256847</td>\n",
       "      <td>0.177954</td>\n",
       "      <td>-0.114025</td>\n",
       "      <td>...</td>\n",
       "      <td>-0.114911</td>\n",
       "      <td>-0.109945</td>\n",
       "      <td>-0.091573</td>\n",
       "      <td>-0.057684</td>\n",
       "      <td>-0.071777</td>\n",
       "      <td>-0.084280</td>\n",
       "      <td>-0.007475</td>\n",
       "      <td>-0.117112</td>\n",
       "      <td>1.000000</td>\n",
       "      <td>-0.107531</td>\n",
       "    </tr>\n",
       "    <tr>\n",
       "      <th>reviews_per_month</th>\n",
       "      <td>-0.070702</td>\n",
       "      <td>-0.070702</td>\n",
       "      <td>0.012512</td>\n",
       "      <td>-0.082374</td>\n",
       "      <td>0.066751</td>\n",
       "      <td>-0.123837</td>\n",
       "      <td>-0.152972</td>\n",
       "      <td>-0.169442</td>\n",
       "      <td>-0.116552</td>\n",
       "      <td>-0.019261</td>\n",
       "      <td>...</td>\n",
       "      <td>0.489574</td>\n",
       "      <td>0.088301</td>\n",
       "      <td>0.137163</td>\n",
       "      <td>0.113027</td>\n",
       "      <td>0.094822</td>\n",
       "      <td>0.110428</td>\n",
       "      <td>0.041057</td>\n",
       "      <td>0.145953</td>\n",
       "      <td>-0.107531</td>\n",
       "      <td>1.000000</td>\n",
       "    </tr>\n",
       "  </tbody>\n",
       "</table>\n",
       "<p>26 rows × 26 columns</p>\n",
       "</div>"
      ],
      "text/plain": [
       "                                host_listings_count  \\\n",
       "host_listings_count                        1.000000   \n",
       "host_total_listings_count                  1.000000   \n",
       "zipcode                                   -0.000775   \n",
       "latitude                                   0.030935   \n",
       "longitude                                 -0.114995   \n",
       "accommodates                               0.164162   \n",
       "bathrooms                                  0.134966   \n",
       "bedrooms                                   0.132602   \n",
       "beds                                       0.109602   \n",
       "guests_included                           -0.083983   \n",
       "minimum_nights                            -0.025459   \n",
       "maximum_nights                             0.000341   \n",
       "availability_30                           -0.009858   \n",
       "availability_60                            0.014862   \n",
       "availability_90                            0.033109   \n",
       "availability_365                          -0.001675   \n",
       "number_of_reviews                         -0.098529   \n",
       "review_scores_rating                      -0.058365   \n",
       "review_scores_accuracy                    -0.038761   \n",
       "review_scores_cleanliness                 -0.026109   \n",
       "review_scores_checkin                     -0.061389   \n",
       "review_scores_communication               -0.065520   \n",
       "review_scores_location                    -0.005768   \n",
       "review_scores_value                       -0.066629   \n",
       "calculated_host_listings_count             0.500937   \n",
       "reviews_per_month                         -0.070702   \n",
       "\n",
       "                                host_total_listings_count   zipcode  latitude  \\\n",
       "host_listings_count                              1.000000 -0.000775  0.030935   \n",
       "host_total_listings_count                        1.000000 -0.000775  0.030935   \n",
       "zipcode                                         -0.000775  1.000000  0.052350   \n",
       "latitude                                         0.030935  0.052350  1.000000   \n",
       "longitude                                       -0.114995 -0.015547 -0.366843   \n",
       "accommodates                                     0.164162  0.007011  0.086380   \n",
       "bathrooms                                        0.134966  0.017518  0.171017   \n",
       "bedrooms                                         0.132602  0.002359  0.155283   \n",
       "beds                                             0.109602  0.006237  0.083020   \n",
       "guests_included                                 -0.083983  0.006372  0.011080   \n",
       "minimum_nights                                  -0.025459  0.003622  0.053105   \n",
       "maximum_nights                                   0.000341  0.000027 -0.000491   \n",
       "availability_30                                 -0.009858  0.007723 -0.058084   \n",
       "availability_60                                  0.014862 -0.005992 -0.056572   \n",
       "availability_90                                  0.033109 -0.009169 -0.034303   \n",
       "availability_365                                -0.001675 -0.012748  0.046380   \n",
       "number_of_reviews                               -0.098529  0.007288 -0.069860   \n",
       "review_scores_rating                            -0.058365  0.014443  0.027917   \n",
       "review_scores_accuracy                          -0.038761  0.012079  0.011242   \n",
       "review_scores_cleanliness                       -0.026109  0.008474  0.024635   \n",
       "review_scores_checkin                           -0.061389  0.019817  0.007360   \n",
       "review_scores_communication                     -0.065520  0.019349  0.007039   \n",
       "review_scores_location                          -0.005768 -0.009328  0.078988   \n",
       "review_scores_value                             -0.066629  0.008856  0.007108   \n",
       "calculated_host_listings_count                   0.500937 -0.002434  0.113111   \n",
       "reviews_per_month                               -0.070702  0.012512 -0.082374   \n",
       "\n",
       "                                longitude  accommodates  bathrooms  bedrooms  \\\n",
       "host_listings_count             -0.114995      0.164162   0.134966  0.132602   \n",
       "host_total_listings_count       -0.114995      0.164162   0.134966  0.132602   \n",
       "zipcode                         -0.015547      0.007011   0.017518  0.002359   \n",
       "latitude                        -0.366843      0.086380   0.171017  0.155283   \n",
       "longitude                        1.000000     -0.255794  -0.190357 -0.215242   \n",
       "accommodates                    -0.255794      1.000000   0.701194  0.836426   \n",
       "bathrooms                       -0.190357      0.701194   1.000000  0.768125   \n",
       "bedrooms                        -0.215242      0.836426   0.768125  1.000000   \n",
       "beds                            -0.206105      0.852910   0.677915  0.791530   \n",
       "guests_included                 -0.027661      0.397709   0.258084  0.351976   \n",
       "minimum_nights                  -0.045744      0.050131   0.062827  0.062711   \n",
       "maximum_nights                   0.008737     -0.000597   0.006978  0.002955   \n",
       "availability_30                  0.153864     -0.129757  -0.042718 -0.107403   \n",
       "availability_60                  0.115612     -0.115848  -0.050155 -0.101325   \n",
       "availability_90                  0.084742     -0.097111  -0.046697 -0.092697   \n",
       "availability_365                -0.045487      0.039235   0.034411  0.012456   \n",
       "number_of_reviews                0.030665     -0.122796  -0.137077 -0.149840   \n",
       "review_scores_rating             0.059921     -0.074716  -0.031469 -0.049791   \n",
       "review_scores_accuracy           0.069490     -0.091350  -0.044889 -0.068921   \n",
       "review_scores_cleanliness        0.057266     -0.059334  -0.042821 -0.052666   \n",
       "review_scores_checkin            0.052262     -0.071133  -0.041611 -0.041358   \n",
       "review_scores_communication      0.064387     -0.094320  -0.057974 -0.062914   \n",
       "review_scores_location          -0.132744     -0.021794  -0.002542 -0.011820   \n",
       "review_scores_value              0.100206     -0.108718  -0.056755 -0.076263   \n",
       "calculated_host_listings_count  -0.289360      0.275507   0.236680  0.256847   \n",
       "reviews_per_month                0.066751     -0.123837  -0.152972 -0.169442   \n",
       "\n",
       "                                    beds  guests_included        ...          \\\n",
       "host_listings_count             0.109602        -0.083983        ...           \n",
       "host_total_listings_count       0.109602        -0.083983        ...           \n",
       "zipcode                         0.006237         0.006372        ...           \n",
       "latitude                        0.083020         0.011080        ...           \n",
       "longitude                      -0.206105        -0.027661        ...           \n",
       "accommodates                    0.852910         0.397709        ...           \n",
       "bathrooms                       0.677915         0.258084        ...           \n",
       "bedrooms                        0.791530         0.351976        ...           \n",
       "beds                            1.000000         0.372617        ...           \n",
       "guests_included                 0.372617         1.000000        ...           \n",
       "minimum_nights                  0.056143         0.021818        ...           \n",
       "maximum_nights                 -0.001441         0.000617        ...           \n",
       "availability_30                -0.091685        -0.055265        ...           \n",
       "availability_60                -0.085883        -0.050259        ...           \n",
       "availability_90                -0.072202        -0.027701        ...           \n",
       "availability_365                0.048221         0.034268        ...           \n",
       "number_of_reviews              -0.100397         0.039417        ...           \n",
       "review_scores_rating           -0.068199        -0.005114        ...           \n",
       "review_scores_accuracy         -0.085838        -0.014010        ...           \n",
       "review_scores_cleanliness      -0.056763        -0.013868        ...           \n",
       "review_scores_checkin          -0.048396         0.004756        ...           \n",
       "review_scores_communication    -0.067253        -0.003543        ...           \n",
       "review_scores_location         -0.015831        -0.029003        ...           \n",
       "review_scores_value            -0.086855        -0.008008        ...           \n",
       "calculated_host_listings_count  0.177954        -0.114025        ...           \n",
       "reviews_per_month              -0.116552        -0.019261        ...           \n",
       "\n",
       "                                number_of_reviews  review_scores_rating  \\\n",
       "host_listings_count                     -0.098529             -0.058365   \n",
       "host_total_listings_count               -0.098529             -0.058365   \n",
       "zipcode                                  0.007288              0.014443   \n",
       "latitude                                -0.069860              0.027917   \n",
       "longitude                                0.030665              0.059921   \n",
       "accommodates                            -0.122796             -0.074716   \n",
       "bathrooms                               -0.137077             -0.031469   \n",
       "bedrooms                                -0.149840             -0.049791   \n",
       "beds                                    -0.100397             -0.068199   \n",
       "guests_included                          0.039417             -0.005114   \n",
       "minimum_nights                          -0.053100              0.010863   \n",
       "maximum_nights                          -0.005206              0.010553   \n",
       "availability_30                         -0.131613             -0.049336   \n",
       "availability_60                         -0.098174             -0.049499   \n",
       "availability_90                         -0.066504             -0.049150   \n",
       "availability_365                         0.046318             -0.052229   \n",
       "number_of_reviews                        1.000000              0.041100   \n",
       "review_scores_rating                     0.041100              1.000000   \n",
       "review_scores_accuracy                   0.074044              0.684725   \n",
       "review_scores_cleanliness                0.052207              0.655855   \n",
       "review_scores_checkin                    0.079948              0.549283   \n",
       "review_scores_communication              0.081094              0.576790   \n",
       "review_scores_location                  -0.002804              0.440166   \n",
       "review_scores_value                      0.048752              0.733066   \n",
       "calculated_host_listings_count          -0.114911             -0.109945   \n",
       "reviews_per_month                        0.489574              0.088301   \n",
       "\n",
       "                                review_scores_accuracy  \\\n",
       "host_listings_count                          -0.038761   \n",
       "host_total_listings_count                    -0.038761   \n",
       "zipcode                                       0.012079   \n",
       "latitude                                      0.011242   \n",
       "longitude                                     0.069490   \n",
       "accommodates                                 -0.091350   \n",
       "bathrooms                                    -0.044889   \n",
       "bedrooms                                     -0.068921   \n",
       "beds                                         -0.085838   \n",
       "guests_included                              -0.014010   \n",
       "minimum_nights                                0.014432   \n",
       "maximum_nights                                0.006022   \n",
       "availability_30                              -0.061544   \n",
       "availability_60                              -0.062030   \n",
       "availability_90                              -0.058856   \n",
       "availability_365                             -0.055800   \n",
       "number_of_reviews                             0.074044   \n",
       "review_scores_rating                          0.684725   \n",
       "review_scores_accuracy                        1.000000   \n",
       "review_scores_cleanliness                     0.572114   \n",
       "review_scores_checkin                         0.450657   \n",
       "review_scores_communication                   0.448666   \n",
       "review_scores_location                        0.362267   \n",
       "review_scores_value                           0.627177   \n",
       "calculated_host_listings_count               -0.091573   \n",
       "reviews_per_month                             0.137163   \n",
       "\n",
       "                                review_scores_cleanliness  \\\n",
       "host_listings_count                             -0.026109   \n",
       "host_total_listings_count                       -0.026109   \n",
       "zipcode                                          0.008474   \n",
       "latitude                                         0.024635   \n",
       "longitude                                        0.057266   \n",
       "accommodates                                    -0.059334   \n",
       "bathrooms                                       -0.042821   \n",
       "bedrooms                                        -0.052666   \n",
       "beds                                            -0.056763   \n",
       "guests_included                                 -0.013868   \n",
       "minimum_nights                                   0.002219   \n",
       "maximum_nights                                   0.007610   \n",
       "availability_30                                 -0.051769   \n",
       "availability_60                                 -0.044850   \n",
       "availability_90                                 -0.034254   \n",
       "availability_365                                -0.035180   \n",
       "number_of_reviews                                0.052207   \n",
       "review_scores_rating                             0.655855   \n",
       "review_scores_accuracy                           0.572114   \n",
       "review_scores_cleanliness                        1.000000   \n",
       "review_scores_checkin                            0.424460   \n",
       "review_scores_communication                      0.428240   \n",
       "review_scores_location                           0.284666   \n",
       "review_scores_value                              0.555752   \n",
       "calculated_host_listings_count                  -0.057684   \n",
       "reviews_per_month                                0.113027   \n",
       "\n",
       "                                review_scores_checkin  \\\n",
       "host_listings_count                         -0.061389   \n",
       "host_total_listings_count                   -0.061389   \n",
       "zipcode                                      0.019817   \n",
       "latitude                                     0.007360   \n",
       "longitude                                    0.052262   \n",
       "accommodates                                -0.071133   \n",
       "bathrooms                                   -0.041611   \n",
       "bedrooms                                    -0.041358   \n",
       "beds                                        -0.048396   \n",
       "guests_included                              0.004756   \n",
       "minimum_nights                               0.010836   \n",
       "maximum_nights                               0.003728   \n",
       "availability_30                             -0.030911   \n",
       "availability_60                             -0.033304   \n",
       "availability_90                             -0.029848   \n",
       "availability_365                            -0.038089   \n",
       "number_of_reviews                            0.079948   \n",
       "review_scores_rating                         0.549283   \n",
       "review_scores_accuracy                       0.450657   \n",
       "review_scores_cleanliness                    0.424460   \n",
       "review_scores_checkin                        1.000000   \n",
       "review_scores_communication                  0.664144   \n",
       "review_scores_location                       0.324112   \n",
       "review_scores_value                          0.466280   \n",
       "calculated_host_listings_count              -0.071777   \n",
       "reviews_per_month                            0.094822   \n",
       "\n",
       "                                review_scores_communication  \\\n",
       "host_listings_count                               -0.065520   \n",
       "host_total_listings_count                         -0.065520   \n",
       "zipcode                                            0.019349   \n",
       "latitude                                           0.007039   \n",
       "longitude                                          0.064387   \n",
       "accommodates                                      -0.094320   \n",
       "bathrooms                                         -0.057974   \n",
       "bedrooms                                          -0.062914   \n",
       "beds                                              -0.067253   \n",
       "guests_included                                   -0.003543   \n",
       "minimum_nights                                     0.006077   \n",
       "maximum_nights                                     0.004864   \n",
       "availability_30                                   -0.032836   \n",
       "availability_60                                   -0.038270   \n",
       "availability_90                                   -0.037947   \n",
       "availability_365                                  -0.057701   \n",
       "number_of_reviews                                  0.081094   \n",
       "review_scores_rating                               0.576790   \n",
       "review_scores_accuracy                             0.448666   \n",
       "review_scores_cleanliness                          0.428240   \n",
       "review_scores_checkin                              0.664144   \n",
       "review_scores_communication                        1.000000   \n",
       "review_scores_location                             0.306089   \n",
       "review_scores_value                                0.483827   \n",
       "calculated_host_listings_count                    -0.084280   \n",
       "reviews_per_month                                  0.110428   \n",
       "\n",
       "                                review_scores_location  review_scores_value  \\\n",
       "host_listings_count                          -0.005768            -0.066629   \n",
       "host_total_listings_count                    -0.005768            -0.066629   \n",
       "zipcode                                      -0.009328             0.008856   \n",
       "latitude                                      0.078988             0.007108   \n",
       "longitude                                    -0.132744             0.100206   \n",
       "accommodates                                 -0.021794            -0.108718   \n",
       "bathrooms                                    -0.002542            -0.056755   \n",
       "bedrooms                                     -0.011820            -0.076263   \n",
       "beds                                         -0.015831            -0.086855   \n",
       "guests_included                              -0.029003            -0.008008   \n",
       "minimum_nights                                0.007949             0.001380   \n",
       "maximum_nights                                0.007209             0.009256   \n",
       "availability_30                              -0.046626            -0.055277   \n",
       "availability_60                              -0.042343            -0.062907   \n",
       "availability_90                              -0.038862            -0.069412   \n",
       "availability_365                             -0.020970            -0.063134   \n",
       "number_of_reviews                            -0.002804             0.048752   \n",
       "review_scores_rating                          0.440166             0.733066   \n",
       "review_scores_accuracy                        0.362267             0.627177   \n",
       "review_scores_cleanliness                     0.284666             0.555752   \n",
       "review_scores_checkin                         0.324112             0.466280   \n",
       "review_scores_communication                   0.306089             0.483827   \n",
       "review_scores_location                        1.000000             0.431468   \n",
       "review_scores_value                           0.431468             1.000000   \n",
       "calculated_host_listings_count               -0.007475            -0.117112   \n",
       "reviews_per_month                             0.041057             0.145953   \n",
       "\n",
       "                                calculated_host_listings_count  \\\n",
       "host_listings_count                                   0.500937   \n",
       "host_total_listings_count                             0.500937   \n",
       "zipcode                                              -0.002434   \n",
       "latitude                                              0.113111   \n",
       "longitude                                            -0.289360   \n",
       "accommodates                                          0.275507   \n",
       "bathrooms                                             0.236680   \n",
       "bedrooms                                              0.256847   \n",
       "beds                                                  0.177954   \n",
       "guests_included                                      -0.114025   \n",
       "minimum_nights                                       -0.038364   \n",
       "maximum_nights                                        0.002069   \n",
       "availability_30                                      -0.082295   \n",
       "availability_60                                      -0.028939   \n",
       "availability_90                                      -0.001637   \n",
       "availability_365                                      0.070820   \n",
       "number_of_reviews                                    -0.114911   \n",
       "review_scores_rating                                 -0.109945   \n",
       "review_scores_accuracy                               -0.091573   \n",
       "review_scores_cleanliness                            -0.057684   \n",
       "review_scores_checkin                                -0.071777   \n",
       "review_scores_communication                          -0.084280   \n",
       "review_scores_location                               -0.007475   \n",
       "review_scores_value                                  -0.117112   \n",
       "calculated_host_listings_count                        1.000000   \n",
       "reviews_per_month                                    -0.107531   \n",
       "\n",
       "                                reviews_per_month  \n",
       "host_listings_count                     -0.070702  \n",
       "host_total_listings_count               -0.070702  \n",
       "zipcode                                  0.012512  \n",
       "latitude                                -0.082374  \n",
       "longitude                                0.066751  \n",
       "accommodates                            -0.123837  \n",
       "bathrooms                               -0.152972  \n",
       "bedrooms                                -0.169442  \n",
       "beds                                    -0.116552  \n",
       "guests_included                         -0.019261  \n",
       "minimum_nights                          -0.093528  \n",
       "maximum_nights                          -0.012448  \n",
       "availability_30                         -0.100382  \n",
       "availability_60                         -0.082632  \n",
       "availability_90                         -0.059015  \n",
       "availability_365                        -0.075011  \n",
       "number_of_reviews                        0.489574  \n",
       "review_scores_rating                     0.088301  \n",
       "review_scores_accuracy                   0.137163  \n",
       "review_scores_cleanliness                0.113027  \n",
       "review_scores_checkin                    0.094822  \n",
       "review_scores_communication              0.110428  \n",
       "review_scores_location                   0.041057  \n",
       "review_scores_value                      0.145953  \n",
       "calculated_host_listings_count          -0.107531  \n",
       "reviews_per_month                        1.000000  \n",
       "\n",
       "[26 rows x 26 columns]"
      ]
     },
     "execution_count": 112,
     "metadata": {},
     "output_type": "execute_result"
    }
   ],
   "source": [
    "X.corr()"
   ]
  },
  {
   "cell_type": "code",
   "execution_count": 113,
   "metadata": {
    "collapsed": true
   },
   "outputs": [],
   "source": [
    "import seaborn as sb"
   ]
  },
  {
   "cell_type": "code",
   "execution_count": 114,
   "metadata": {
    "collapsed": true
   },
   "outputs": [],
   "source": [
    "%matplotlib inline"
   ]
  },
  {
   "cell_type": "code",
   "execution_count": 115,
   "metadata": {},
   "outputs": [
    {
     "data": {
      "text/plain": [
       "<matplotlib.axes._subplots.AxesSubplot at 0x1c12e4b910>"
      ]
     },
     "execution_count": 115,
     "metadata": {},
     "output_type": "execute_result"
    },
    {
     "data": {
      "image/png": "[encoded data removed]",
      "text/plain": [
       "<matplotlib.figure.Figure at 0x1c113d0590>"
      ]
     },
     "metadata": {},
     "output_type": "display_data"
    }
   ],
   "source": [
    "f, ax = plt.subplots(figsize=(18,18))\n",
    "sb.heatmap(X.corr(), vmax=.9, square=True)"
   ]
  },
  {
   "cell_type": "markdown",
   "metadata": {},
   "source": [
    "Eigenvector Analysis"
   ]
  },
  {
   "cell_type": "code",
   "execution_count": 116,
   "metadata": {},
   "outputs": [],
   "source": [
    "corr = np.corrcoef(X, rowvar=0)"
   ]
  },
  {
   "cell_type": "code",
   "execution_count": 117,
   "metadata": {},
   "outputs": [
    {
     "data": {
      "text/html": [
       "<div>\n",
       "<style scoped>\n",
       "    .dataframe tbody tr th:only-of-type {\n",
       "        vertical-align: middle;\n",
       "    }\n",
       "\n",
       "    .dataframe tbody tr th {\n",
       "        vertical-align: top;\n",
       "    }\n",
       "\n",
       "    .dataframe thead th {\n",
       "        text-align: right;\n",
       "    }\n",
       "</style>\n",
       "<table border=\"1\" class=\"dataframe\">\n",
       "  <thead>\n",
       "    <tr style=\"text-align: right;\">\n",
       "      <th></th>\n",
       "      <th>0</th>\n",
       "      <th>1</th>\n",
       "      <th>2</th>\n",
       "      <th>3</th>\n",
       "      <th>4</th>\n",
       "      <th>5</th>\n",
       "      <th>6</th>\n",
       "      <th>7</th>\n",
       "      <th>8</th>\n",
       "      <th>9</th>\n",
       "      <th>...</th>\n",
       "      <th>16</th>\n",
       "      <th>17</th>\n",
       "      <th>18</th>\n",
       "      <th>19</th>\n",
       "      <th>20</th>\n",
       "      <th>21</th>\n",
       "      <th>22</th>\n",
       "      <th>23</th>\n",
       "      <th>24</th>\n",
       "      <th>25</th>\n",
       "    </tr>\n",
       "  </thead>\n",
       "  <tbody>\n",
       "    <tr>\n",
       "      <th>0</th>\n",
       "      <td>1.000000</td>\n",
       "      <td>1.000000</td>\n",
       "      <td>-0.000775</td>\n",
       "      <td>0.030935</td>\n",
       "      <td>-0.114995</td>\n",
       "      <td>0.164162</td>\n",
       "      <td>0.134966</td>\n",
       "      <td>0.132602</td>\n",
       "      <td>0.109602</td>\n",
       "      <td>-0.083983</td>\n",
       "      <td>...</td>\n",
       "      <td>-0.098529</td>\n",
       "      <td>-0.058365</td>\n",
       "      <td>-0.038761</td>\n",
       "      <td>-0.026109</td>\n",
       "      <td>-0.061389</td>\n",
       "      <td>-0.065520</td>\n",
       "      <td>-0.005768</td>\n",
       "      <td>-0.066629</td>\n",
       "      <td>0.500937</td>\n",
       "      <td>-0.070702</td>\n",
       "    </tr>\n",
       "    <tr>\n",
       "      <th>1</th>\n",
       "      <td>1.000000</td>\n",
       "      <td>1.000000</td>\n",
       "      <td>-0.000775</td>\n",
       "      <td>0.030935</td>\n",
       "      <td>-0.114995</td>\n",
       "      <td>0.164162</td>\n",
       "      <td>0.134966</td>\n",
       "      <td>0.132602</td>\n",
       "      <td>0.109602</td>\n",
       "      <td>-0.083983</td>\n",
       "      <td>...</td>\n",
       "      <td>-0.098529</td>\n",
       "      <td>-0.058365</td>\n",
       "      <td>-0.038761</td>\n",
       "      <td>-0.026109</td>\n",
       "      <td>-0.061389</td>\n",
       "      <td>-0.065520</td>\n",
       "      <td>-0.005768</td>\n",
       "      <td>-0.066629</td>\n",
       "      <td>0.500937</td>\n",
       "      <td>-0.070702</td>\n",
       "    </tr>\n",
       "    <tr>\n",
       "      <th>2</th>\n",
       "      <td>-0.000775</td>\n",
       "      <td>-0.000775</td>\n",
       "      <td>1.000000</td>\n",
       "      <td>0.052350</td>\n",
       "      <td>-0.015547</td>\n",
       "      <td>0.007011</td>\n",
       "      <td>0.017518</td>\n",
       "      <td>0.002359</td>\n",
       "      <td>0.006237</td>\n",
       "      <td>0.006372</td>\n",
       "      <td>...</td>\n",
       "      <td>0.007288</td>\n",
       "      <td>0.014443</td>\n",
       "      <td>0.012079</td>\n",
       "      <td>0.008474</td>\n",
       "      <td>0.019817</td>\n",
       "      <td>0.019349</td>\n",
       "      <td>-0.009328</td>\n",
       "      <td>0.008856</td>\n",
       "      <td>-0.002434</td>\n",
       "      <td>0.012512</td>\n",
       "    </tr>\n",
       "    <tr>\n",
       "      <th>3</th>\n",
       "      <td>0.030935</td>\n",
       "      <td>0.030935</td>\n",
       "      <td>0.052350</td>\n",
       "      <td>1.000000</td>\n",
       "      <td>-0.366843</td>\n",
       "      <td>0.086380</td>\n",
       "      <td>0.171017</td>\n",
       "      <td>0.155283</td>\n",
       "      <td>0.083020</td>\n",
       "      <td>0.011080</td>\n",
       "      <td>...</td>\n",
       "      <td>-0.069860</td>\n",
       "      <td>0.027917</td>\n",
       "      <td>0.011242</td>\n",
       "      <td>0.024635</td>\n",
       "      <td>0.007360</td>\n",
       "      <td>0.007039</td>\n",
       "      <td>0.078988</td>\n",
       "      <td>0.007108</td>\n",
       "      <td>0.113111</td>\n",
       "      <td>-0.082374</td>\n",
       "    </tr>\n",
       "    <tr>\n",
       "      <th>4</th>\n",
       "      <td>-0.114995</td>\n",
       "      <td>-0.114995</td>\n",
       "      <td>-0.015547</td>\n",
       "      <td>-0.366843</td>\n",
       "      <td>1.000000</td>\n",
       "      <td>-0.255794</td>\n",
       "      <td>-0.190357</td>\n",
       "      <td>-0.215242</td>\n",
       "      <td>-0.206105</td>\n",
       "      <td>-0.027661</td>\n",
       "      <td>...</td>\n",
       "      <td>0.030665</td>\n",
       "      <td>0.059921</td>\n",
       "      <td>0.069490</td>\n",
       "      <td>0.057266</td>\n",
       "      <td>0.052262</td>\n",
       "      <td>0.064387</td>\n",
       "      <td>-0.132744</td>\n",
       "      <td>0.100206</td>\n",
       "      <td>-0.289360</td>\n",
       "      <td>0.066751</td>\n",
       "    </tr>\n",
       "    <tr>\n",
       "      <th>5</th>\n",
       "      <td>0.164162</td>\n",
       "      <td>0.164162</td>\n",
       "      <td>0.007011</td>\n",
       "      <td>0.086380</td>\n",
       "      <td>-0.255794</td>\n",
       "      <td>1.000000</td>\n",
       "      <td>0.701194</td>\n",
       "      <td>0.836426</td>\n",
       "      <td>0.852910</td>\n",
       "      <td>0.397709</td>\n",
       "      <td>...</td>\n",
       "      <td>-0.122796</td>\n",
       "      <td>-0.074716</td>\n",
       "      <td>-0.091350</td>\n",
       "      <td>-0.059334</td>\n",
       "      <td>-0.071133</td>\n",
       "      <td>-0.094320</td>\n",
       "      <td>-0.021794</td>\n",
       "      <td>-0.108718</td>\n",
       "      <td>0.275507</td>\n",
       "      <td>-0.123837</td>\n",
       "    </tr>\n",
       "    <tr>\n",
       "      <th>6</th>\n",
       "      <td>0.134966</td>\n",
       "      <td>0.134966</td>\n",
       "      <td>0.017518</td>\n",
       "      <td>0.171017</td>\n",
       "      <td>-0.190357</td>\n",
       "      <td>0.701194</td>\n",
       "      <td>1.000000</td>\n",
       "      <td>0.768125</td>\n",
       "      <td>0.677915</td>\n",
       "      <td>0.258084</td>\n",
       "      <td>...</td>\n",
       "      <td>-0.137077</td>\n",
       "      <td>-0.031469</td>\n",
       "      <td>-0.044889</td>\n",
       "      <td>-0.042821</td>\n",
       "      <td>-0.041611</td>\n",
       "      <td>-0.057974</td>\n",
       "      <td>-0.002542</td>\n",
       "      <td>-0.056755</td>\n",
       "      <td>0.236680</td>\n",
       "      <td>-0.152972</td>\n",
       "    </tr>\n",
       "    <tr>\n",
       "      <th>7</th>\n",
       "      <td>0.132602</td>\n",
       "      <td>0.132602</td>\n",
       "      <td>0.002359</td>\n",
       "      <td>0.155283</td>\n",
       "      <td>-0.215242</td>\n",
       "      <td>0.836426</td>\n",
       "      <td>0.768125</td>\n",
       "      <td>1.000000</td>\n",
       "      <td>0.791530</td>\n",
       "      <td>0.351976</td>\n",
       "      <td>...</td>\n",
       "      <td>-0.149840</td>\n",
       "      <td>-0.049791</td>\n",
       "      <td>-0.068921</td>\n",
       "      <td>-0.052666</td>\n",
       "      <td>-0.041358</td>\n",
       "      <td>-0.062914</td>\n",
       "      <td>-0.011820</td>\n",
       "      <td>-0.076263</td>\n",
       "      <td>0.256847</td>\n",
       "      <td>-0.169442</td>\n",
       "    </tr>\n",
       "    <tr>\n",
       "      <th>8</th>\n",
       "      <td>0.109602</td>\n",
       "      <td>0.109602</td>\n",
       "      <td>0.006237</td>\n",
       "      <td>0.083020</td>\n",
       "      <td>-0.206105</td>\n",
       "      <td>0.852910</td>\n",
       "      <td>0.677915</td>\n",
       "      <td>0.791530</td>\n",
       "      <td>1.000000</td>\n",
       "      <td>0.372617</td>\n",
       "      <td>...</td>\n",
       "      <td>-0.100397</td>\n",
       "      <td>-0.068199</td>\n",
       "      <td>-0.085838</td>\n",
       "      <td>-0.056763</td>\n",
       "      <td>-0.048396</td>\n",
       "      <td>-0.067253</td>\n",
       "      <td>-0.015831</td>\n",
       "      <td>-0.086855</td>\n",
       "      <td>0.177954</td>\n",
       "      <td>-0.116552</td>\n",
       "    </tr>\n",
       "    <tr>\n",
       "      <th>9</th>\n",
       "      <td>-0.083983</td>\n",
       "      <td>-0.083983</td>\n",
       "      <td>0.006372</td>\n",
       "      <td>0.011080</td>\n",
       "      <td>-0.027661</td>\n",
       "      <td>0.397709</td>\n",
       "      <td>0.258084</td>\n",
       "      <td>0.351976</td>\n",
       "      <td>0.372617</td>\n",
       "      <td>1.000000</td>\n",
       "      <td>...</td>\n",
       "      <td>0.039417</td>\n",
       "      <td>-0.005114</td>\n",
       "      <td>-0.014010</td>\n",
       "      <td>-0.013868</td>\n",
       "      <td>0.004756</td>\n",
       "      <td>-0.003543</td>\n",
       "      <td>-0.029003</td>\n",
       "      <td>-0.008008</td>\n",
       "      <td>-0.114025</td>\n",
       "      <td>-0.019261</td>\n",
       "    </tr>\n",
       "    <tr>\n",
       "      <th>10</th>\n",
       "      <td>-0.025459</td>\n",
       "      <td>-0.025459</td>\n",
       "      <td>0.003622</td>\n",
       "      <td>0.053105</td>\n",
       "      <td>-0.045744</td>\n",
       "      <td>0.050131</td>\n",
       "      <td>0.062827</td>\n",
       "      <td>0.062711</td>\n",
       "      <td>0.056143</td>\n",
       "      <td>0.021818</td>\n",
       "      <td>...</td>\n",
       "      <td>-0.053100</td>\n",
       "      <td>0.010863</td>\n",
       "      <td>0.014432</td>\n",
       "      <td>0.002219</td>\n",
       "      <td>0.010836</td>\n",
       "      <td>0.006077</td>\n",
       "      <td>0.007949</td>\n",
       "      <td>0.001380</td>\n",
       "      <td>-0.038364</td>\n",
       "      <td>-0.093528</td>\n",
       "    </tr>\n",
       "    <tr>\n",
       "      <th>11</th>\n",
       "      <td>0.000341</td>\n",
       "      <td>0.000341</td>\n",
       "      <td>0.000027</td>\n",
       "      <td>-0.000491</td>\n",
       "      <td>0.008737</td>\n",
       "      <td>-0.000597</td>\n",
       "      <td>0.006978</td>\n",
       "      <td>0.002955</td>\n",
       "      <td>-0.001441</td>\n",
       "      <td>0.000617</td>\n",
       "      <td>...</td>\n",
       "      <td>-0.005206</td>\n",
       "      <td>0.010553</td>\n",
       "      <td>0.006022</td>\n",
       "      <td>0.007610</td>\n",
       "      <td>0.003728</td>\n",
       "      <td>0.004864</td>\n",
       "      <td>0.007209</td>\n",
       "      <td>0.009256</td>\n",
       "      <td>0.002069</td>\n",
       "      <td>-0.012448</td>\n",
       "    </tr>\n",
       "    <tr>\n",
       "      <th>12</th>\n",
       "      <td>-0.009858</td>\n",
       "      <td>-0.009858</td>\n",
       "      <td>0.007723</td>\n",
       "      <td>-0.058084</td>\n",
       "      <td>0.153864</td>\n",
       "      <td>-0.129757</td>\n",
       "      <td>-0.042718</td>\n",
       "      <td>-0.107403</td>\n",
       "      <td>-0.091685</td>\n",
       "      <td>-0.055265</td>\n",
       "      <td>...</td>\n",
       "      <td>-0.131613</td>\n",
       "      <td>-0.049336</td>\n",
       "      <td>-0.061544</td>\n",
       "      <td>-0.051769</td>\n",
       "      <td>-0.030911</td>\n",
       "      <td>-0.032836</td>\n",
       "      <td>-0.046626</td>\n",
       "      <td>-0.055277</td>\n",
       "      <td>-0.082295</td>\n",
       "      <td>-0.100382</td>\n",
       "    </tr>\n",
       "    <tr>\n",
       "      <th>13</th>\n",
       "      <td>0.014862</td>\n",
       "      <td>0.014862</td>\n",
       "      <td>-0.005992</td>\n",
       "      <td>-0.056572</td>\n",
       "      <td>0.115612</td>\n",
       "      <td>-0.115848</td>\n",
       "      <td>-0.050155</td>\n",
       "      <td>-0.101325</td>\n",
       "      <td>-0.085883</td>\n",
       "      <td>-0.050259</td>\n",
       "      <td>...</td>\n",
       "      <td>-0.098174</td>\n",
       "      <td>-0.049499</td>\n",
       "      <td>-0.062030</td>\n",
       "      <td>-0.044850</td>\n",
       "      <td>-0.033304</td>\n",
       "      <td>-0.038270</td>\n",
       "      <td>-0.042343</td>\n",
       "      <td>-0.062907</td>\n",
       "      <td>-0.028939</td>\n",
       "      <td>-0.082632</td>\n",
       "    </tr>\n",
       "    <tr>\n",
       "      <th>14</th>\n",
       "      <td>0.033109</td>\n",
       "      <td>0.033109</td>\n",
       "      <td>-0.009169</td>\n",
       "      <td>-0.034303</td>\n",
       "      <td>0.084742</td>\n",
       "      <td>-0.097111</td>\n",
       "      <td>-0.046697</td>\n",
       "      <td>-0.092697</td>\n",
       "      <td>-0.072202</td>\n",
       "      <td>-0.027701</td>\n",
       "      <td>...</td>\n",
       "      <td>-0.066504</td>\n",
       "      <td>-0.049150</td>\n",
       "      <td>-0.058856</td>\n",
       "      <td>-0.034254</td>\n",
       "      <td>-0.029848</td>\n",
       "      <td>-0.037947</td>\n",
       "      <td>-0.038862</td>\n",
       "      <td>-0.069412</td>\n",
       "      <td>-0.001637</td>\n",
       "      <td>-0.059015</td>\n",
       "    </tr>\n",
       "    <tr>\n",
       "      <th>15</th>\n",
       "      <td>-0.001675</td>\n",
       "      <td>-0.001675</td>\n",
       "      <td>-0.012748</td>\n",
       "      <td>0.046380</td>\n",
       "      <td>-0.045487</td>\n",
       "      <td>0.039235</td>\n",
       "      <td>0.034411</td>\n",
       "      <td>0.012456</td>\n",
       "      <td>0.048221</td>\n",
       "      <td>0.034268</td>\n",
       "      <td>...</td>\n",
       "      <td>0.046318</td>\n",
       "      <td>-0.052229</td>\n",
       "      <td>-0.055800</td>\n",
       "      <td>-0.035180</td>\n",
       "      <td>-0.038089</td>\n",
       "      <td>-0.057701</td>\n",
       "      <td>-0.020970</td>\n",
       "      <td>-0.063134</td>\n",
       "      <td>0.070820</td>\n",
       "      <td>-0.075011</td>\n",
       "    </tr>\n",
       "    <tr>\n",
       "      <th>16</th>\n",
       "      <td>-0.098529</td>\n",
       "      <td>-0.098529</td>\n",
       "      <td>0.007288</td>\n",
       "      <td>-0.069860</td>\n",
       "      <td>0.030665</td>\n",
       "      <td>-0.122796</td>\n",
       "      <td>-0.137077</td>\n",
       "      <td>-0.149840</td>\n",
       "      <td>-0.100397</td>\n",
       "      <td>0.039417</td>\n",
       "      <td>...</td>\n",
       "      <td>1.000000</td>\n",
       "      <td>0.041100</td>\n",
       "      <td>0.074044</td>\n",
       "      <td>0.052207</td>\n",
       "      <td>0.079948</td>\n",
       "      <td>0.081094</td>\n",
       "      <td>-0.002804</td>\n",
       "      <td>0.048752</td>\n",
       "      <td>-0.114911</td>\n",
       "      <td>0.489574</td>\n",
       "    </tr>\n",
       "    <tr>\n",
       "      <th>17</th>\n",
       "      <td>-0.058365</td>\n",
       "      <td>-0.058365</td>\n",
       "      <td>0.014443</td>\n",
       "      <td>0.027917</td>\n",
       "      <td>0.059921</td>\n",
       "      <td>-0.074716</td>\n",
       "      <td>-0.031469</td>\n",
       "      <td>-0.049791</td>\n",
       "      <td>-0.068199</td>\n",
       "      <td>-0.005114</td>\n",
       "      <td>...</td>\n",
       "      <td>0.041100</td>\n",
       "      <td>1.000000</td>\n",
       "      <td>0.684725</td>\n",
       "      <td>0.655855</td>\n",
       "      <td>0.549283</td>\n",
       "      <td>0.576790</td>\n",
       "      <td>0.440166</td>\n",
       "      <td>0.733066</td>\n",
       "      <td>-0.109945</td>\n",
       "      <td>0.088301</td>\n",
       "    </tr>\n",
       "    <tr>\n",
       "      <th>18</th>\n",
       "      <td>-0.038761</td>\n",
       "      <td>-0.038761</td>\n",
       "      <td>0.012079</td>\n",
       "      <td>0.011242</td>\n",
       "      <td>0.069490</td>\n",
       "      <td>-0.091350</td>\n",
       "      <td>-0.044889</td>\n",
       "      <td>-0.068921</td>\n",
       "      <td>-0.085838</td>\n",
       "      <td>-0.014010</td>\n",
       "      <td>...</td>\n",
       "      <td>0.074044</td>\n",
       "      <td>0.684725</td>\n",
       "      <td>1.000000</td>\n",
       "      <td>0.572114</td>\n",
       "      <td>0.450657</td>\n",
       "      <td>0.448666</td>\n",
       "      <td>0.362267</td>\n",
       "      <td>0.627177</td>\n",
       "      <td>-0.091573</td>\n",
       "      <td>0.137163</td>\n",
       "    </tr>\n",
       "    <tr>\n",
       "      <th>19</th>\n",
       "      <td>-0.026109</td>\n",
       "      <td>-0.026109</td>\n",
       "      <td>0.008474</td>\n",
       "      <td>0.024635</td>\n",
       "      <td>0.057266</td>\n",
       "      <td>-0.059334</td>\n",
       "      <td>-0.042821</td>\n",
       "      <td>-0.052666</td>\n",
       "      <td>-0.056763</td>\n",
       "      <td>-0.013868</td>\n",
       "      <td>...</td>\n",
       "      <td>0.052207</td>\n",
       "      <td>0.655855</td>\n",
       "      <td>0.572114</td>\n",
       "      <td>1.000000</td>\n",
       "      <td>0.424460</td>\n",
       "      <td>0.428240</td>\n",
       "      <td>0.284666</td>\n",
       "      <td>0.555752</td>\n",
       "      <td>-0.057684</td>\n",
       "      <td>0.113027</td>\n",
       "    </tr>\n",
       "    <tr>\n",
       "      <th>20</th>\n",
       "      <td>-0.061389</td>\n",
       "      <td>-0.061389</td>\n",
       "      <td>0.019817</td>\n",
       "      <td>0.007360</td>\n",
       "      <td>0.052262</td>\n",
       "      <td>-0.071133</td>\n",
       "      <td>-0.041611</td>\n",
       "      <td>-0.041358</td>\n",
       "      <td>-0.048396</td>\n",
       "      <td>0.004756</td>\n",
       "      <td>...</td>\n",
       "      <td>0.079948</td>\n",
       "      <td>0.549283</td>\n",
       "      <td>0.450657</td>\n",
       "      <td>0.424460</td>\n",
       "      <td>1.000000</td>\n",
       "      <td>0.664144</td>\n",
       "      <td>0.324112</td>\n",
       "      <td>0.466280</td>\n",
       "      <td>-0.071777</td>\n",
       "      <td>0.094822</td>\n",
       "    </tr>\n",
       "    <tr>\n",
       "      <th>21</th>\n",
       "      <td>-0.065520</td>\n",
       "      <td>-0.065520</td>\n",
       "      <td>0.019349</td>\n",
       "      <td>0.007039</td>\n",
       "      <td>0.064387</td>\n",
       "      <td>-0.094320</td>\n",
       "      <td>-0.057974</td>\n",
       "      <td>-0.062914</td>\n",
       "      <td>-0.067253</td>\n",
       "      <td>-0.003543</td>\n",
       "      <td>...</td>\n",
       "      <td>0.081094</td>\n",
       "      <td>0.576790</td>\n",
       "      <td>0.448666</td>\n",
       "      <td>0.428240</td>\n",
       "      <td>0.664144</td>\n",
       "      <td>1.000000</td>\n",
       "      <td>0.306089</td>\n",
       "      <td>0.483827</td>\n",
       "      <td>-0.084280</td>\n",
       "      <td>0.110428</td>\n",
       "    </tr>\n",
       "    <tr>\n",
       "      <th>22</th>\n",
       "      <td>-0.005768</td>\n",
       "      <td>-0.005768</td>\n",
       "      <td>-0.009328</td>\n",
       "      <td>0.078988</td>\n",
       "      <td>-0.132744</td>\n",
       "      <td>-0.021794</td>\n",
       "      <td>-0.002542</td>\n",
       "      <td>-0.011820</td>\n",
       "      <td>-0.015831</td>\n",
       "      <td>-0.029003</td>\n",
       "      <td>...</td>\n",
       "      <td>-0.002804</td>\n",
       "      <td>0.440166</td>\n",
       "      <td>0.362267</td>\n",
       "      <td>0.284666</td>\n",
       "      <td>0.324112</td>\n",
       "      <td>0.306089</td>\n",
       "      <td>1.000000</td>\n",
       "      <td>0.431468</td>\n",
       "      <td>-0.007475</td>\n",
       "      <td>0.041057</td>\n",
       "    </tr>\n",
       "    <tr>\n",
       "      <th>23</th>\n",
       "      <td>-0.066629</td>\n",
       "      <td>-0.066629</td>\n",
       "      <td>0.008856</td>\n",
       "      <td>0.007108</td>\n",
       "      <td>0.100206</td>\n",
       "      <td>-0.108718</td>\n",
       "      <td>-0.056755</td>\n",
       "      <td>-0.076263</td>\n",
       "      <td>-0.086855</td>\n",
       "      <td>-0.008008</td>\n",
       "      <td>...</td>\n",
       "      <td>0.048752</td>\n",
       "      <td>0.733066</td>\n",
       "      <td>0.627177</td>\n",
       "      <td>0.555752</td>\n",
       "      <td>0.466280</td>\n",
       "      <td>0.483827</td>\n",
       "      <td>0.431468</td>\n",
       "      <td>1.000000</td>\n",
       "      <td>-0.117112</td>\n",
       "      <td>0.145953</td>\n",
       "    </tr>\n",
       "    <tr>\n",
       "      <th>24</th>\n",
       "      <td>0.500937</td>\n",
       "      <td>0.500937</td>\n",
       "      <td>-0.002434</td>\n",
       "      <td>0.113111</td>\n",
       "      <td>-0.289360</td>\n",
       "      <td>0.275507</td>\n",
       "      <td>0.236680</td>\n",
       "      <td>0.256847</td>\n",
       "      <td>0.177954</td>\n",
       "      <td>-0.114025</td>\n",
       "      <td>...</td>\n",
       "      <td>-0.114911</td>\n",
       "      <td>-0.109945</td>\n",
       "      <td>-0.091573</td>\n",
       "      <td>-0.057684</td>\n",
       "      <td>-0.071777</td>\n",
       "      <td>-0.084280</td>\n",
       "      <td>-0.007475</td>\n",
       "      <td>-0.117112</td>\n",
       "      <td>1.000000</td>\n",
       "      <td>-0.107531</td>\n",
       "    </tr>\n",
       "    <tr>\n",
       "      <th>25</th>\n",
       "      <td>-0.070702</td>\n",
       "      <td>-0.070702</td>\n",
       "      <td>0.012512</td>\n",
       "      <td>-0.082374</td>\n",
       "      <td>0.066751</td>\n",
       "      <td>-0.123837</td>\n",
       "      <td>-0.152972</td>\n",
       "      <td>-0.169442</td>\n",
       "      <td>-0.116552</td>\n",
       "      <td>-0.019261</td>\n",
       "      <td>...</td>\n",
       "      <td>0.489574</td>\n",
       "      <td>0.088301</td>\n",
       "      <td>0.137163</td>\n",
       "      <td>0.113027</td>\n",
       "      <td>0.094822</td>\n",
       "      <td>0.110428</td>\n",
       "      <td>0.041057</td>\n",
       "      <td>0.145953</td>\n",
       "      <td>-0.107531</td>\n",
       "      <td>1.000000</td>\n",
       "    </tr>\n",
       "  </tbody>\n",
       "</table>\n",
       "<p>26 rows × 26 columns</p>\n",
       "</div>"
      ],
      "text/plain": [
       "          0         1         2         3         4         5         6   \\\n",
       "0   1.000000  1.000000 -0.000775  0.030935 -0.114995  0.164162  0.134966   \n",
       "1   1.000000  1.000000 -0.000775  0.030935 -0.114995  0.164162  0.134966   \n",
       "2  -0.000775 -0.000775  1.000000  0.052350 -0.015547  0.007011  0.017518   \n",
       "3   0.030935  0.030935  0.052350  1.000000 -0.366843  0.086380  0.171017   \n",
       "4  -0.114995 -0.114995 -0.015547 -0.366843  1.000000 -0.255794 -0.190357   \n",
       "5   0.164162  0.164162  0.007011  0.086380 -0.255794  1.000000  0.701194   \n",
       "6   0.134966  0.134966  0.017518  0.171017 -0.190357  0.701194  1.000000   \n",
       "7   0.132602  0.132602  0.002359  0.155283 -0.215242  0.836426  0.768125   \n",
       "8   0.109602  0.109602  0.006237  0.083020 -0.206105  0.852910  0.677915   \n",
       "9  -0.083983 -0.083983  0.006372  0.011080 -0.027661  0.397709  0.258084   \n",
       "10 -0.025459 -0.025459  0.003622  0.053105 -0.045744  0.050131  0.062827   \n",
       "11  0.000341  0.000341  0.000027 -0.000491  0.008737 -0.000597  0.006978   \n",
       "12 -0.009858 -0.009858  0.007723 -0.058084  0.153864 -0.129757 -0.042718   \n",
       "13  0.014862  0.014862 -0.005992 -0.056572  0.115612 -0.115848 -0.050155   \n",
       "14  0.033109  0.033109 -0.009169 -0.034303  0.084742 -0.097111 -0.046697   \n",
       "15 -0.001675 -0.001675 -0.012748  0.046380 -0.045487  0.039235  0.034411   \n",
       "16 -0.098529 -0.098529  0.007288 -0.069860  0.030665 -0.122796 -0.137077   \n",
       "17 -0.058365 -0.058365  0.014443  0.027917  0.059921 -0.074716 -0.031469   \n",
       "18 -0.038761 -0.038761  0.012079  0.011242  0.069490 -0.091350 -0.044889   \n",
       "19 -0.026109 -0.026109  0.008474  0.024635  0.057266 -0.059334 -0.042821   \n",
       "20 -0.061389 -0.061389  0.019817  0.007360  0.052262 -0.071133 -0.041611   \n",
       "21 -0.065520 -0.065520  0.019349  0.007039  0.064387 -0.094320 -0.057974   \n",
       "22 -0.005768 -0.005768 -0.009328  0.078988 -0.132744 -0.021794 -0.002542   \n",
       "23 -0.066629 -0.066629  0.008856  0.007108  0.100206 -0.108718 -0.056755   \n",
       "24  0.500937  0.500937 -0.002434  0.113111 -0.289360  0.275507  0.236680   \n",
       "25 -0.070702 -0.070702  0.012512 -0.082374  0.066751 -0.123837 -0.152972   \n",
       "\n",
       "          7         8         9     ...           16        17        18  \\\n",
       "0   0.132602  0.109602 -0.083983    ...    -0.098529 -0.058365 -0.038761   \n",
       "1   0.132602  0.109602 -0.083983    ...    -0.098529 -0.058365 -0.038761   \n",
       "2   0.002359  0.006237  0.006372    ...     0.007288  0.014443  0.012079   \n",
       "3   0.155283  0.083020  0.011080    ...    -0.069860  0.027917  0.011242   \n",
       "4  -0.215242 -0.206105 -0.027661    ...     0.030665  0.059921  0.069490   \n",
       "5   0.836426  0.852910  0.397709    ...    -0.122796 -0.074716 -0.091350   \n",
       "6   0.768125  0.677915  0.258084    ...    -0.137077 -0.031469 -0.044889   \n",
       "7   1.000000  0.791530  0.351976    ...    -0.149840 -0.049791 -0.068921   \n",
       "8   0.791530  1.000000  0.372617    ...    -0.100397 -0.068199 -0.085838   \n",
       "9   0.351976  0.372617  1.000000    ...     0.039417 -0.005114 -0.014010   \n",
       "10  0.062711  0.056143  0.021818    ...    -0.053100  0.010863  0.014432   \n",
       "11  0.002955 -0.001441  0.000617    ...    -0.005206  0.010553  0.006022   \n",
       "12 -0.107403 -0.091685 -0.055265    ...    -0.131613 -0.049336 -0.061544   \n",
       "13 -0.101325 -0.085883 -0.050259    ...    -0.098174 -0.049499 -0.062030   \n",
       "14 -0.092697 -0.072202 -0.027701    ...    -0.066504 -0.049150 -0.058856   \n",
       "15  0.012456  0.048221  0.034268    ...     0.046318 -0.052229 -0.055800   \n",
       "16 -0.149840 -0.100397  0.039417    ...     1.000000  0.041100  0.074044   \n",
       "17 -0.049791 -0.068199 -0.005114    ...     0.041100  1.000000  0.684725   \n",
       "18 -0.068921 -0.085838 -0.014010    ...     0.074044  0.684725  1.000000   \n",
       "19 -0.052666 -0.056763 -0.013868    ...     0.052207  0.655855  0.572114   \n",
       "20 -0.041358 -0.048396  0.004756    ...     0.079948  0.549283  0.450657   \n",
       "21 -0.062914 -0.067253 -0.003543    ...     0.081094  0.576790  0.448666   \n",
       "22 -0.011820 -0.015831 -0.029003    ...    -0.002804  0.440166  0.362267   \n",
       "23 -0.076263 -0.086855 -0.008008    ...     0.048752  0.733066  0.627177   \n",
       "24  0.256847  0.177954 -0.114025    ...    -0.114911 -0.109945 -0.091573   \n",
       "25 -0.169442 -0.116552 -0.019261    ...     0.489574  0.088301  0.137163   \n",
       "\n",
       "          19        20        21        22        23        24        25  \n",
       "0  -0.026109 -0.061389 -0.065520 -0.005768 -0.066629  0.500937 -0.070702  \n",
       "1  -0.026109 -0.061389 -0.065520 -0.005768 -0.066629  0.500937 -0.070702  \n",
       "2   0.008474  0.019817  0.019349 -0.009328  0.008856 -0.002434  0.012512  \n",
       "3   0.024635  0.007360  0.007039  0.078988  0.007108  0.113111 -0.082374  \n",
       "4   0.057266  0.052262  0.064387 -0.132744  0.100206 -0.289360  0.066751  \n",
       "5  -0.059334 -0.071133 -0.094320 -0.021794 -0.108718  0.275507 -0.123837  \n",
       "6  -0.042821 -0.041611 -0.057974 -0.002542 -0.056755  0.236680 -0.152972  \n",
       "7  -0.052666 -0.041358 -0.062914 -0.011820 -0.076263  0.256847 -0.169442  \n",
       "8  -0.056763 -0.048396 -0.067253 -0.015831 -0.086855  0.177954 -0.116552  \n",
       "9  -0.013868  0.004756 -0.003543 -0.029003 -0.008008 -0.114025 -0.019261  \n",
       "10  0.002219  0.010836  0.006077  0.007949  0.001380 -0.038364 -0.093528  \n",
       "11  0.007610  0.003728  0.004864  0.007209  0.009256  0.002069 -0.012448  \n",
       "12 -0.051769 -0.030911 -0.032836 -0.046626 -0.055277 -0.082295 -0.100382  \n",
       "13 -0.044850 -0.033304 -0.038270 -0.042343 -0.062907 -0.028939 -0.082632  \n",
       "14 -0.034254 -0.029848 -0.037947 -0.038862 -0.069412 -0.001637 -0.059015  \n",
       "15 -0.035180 -0.038089 -0.057701 -0.020970 -0.063134  0.070820 -0.075011  \n",
       "16  0.052207  0.079948  0.081094 -0.002804  0.048752 -0.114911  0.489574  \n",
       "17  0.655855  0.549283  0.576790  0.440166  0.733066 -0.109945  0.088301  \n",
       "18  0.572114  0.450657  0.448666  0.362267  0.627177 -0.091573  0.137163  \n",
       "19  1.000000  0.424460  0.428240  0.284666  0.555752 -0.057684  0.113027  \n",
       "20  0.424460  1.000000  0.664144  0.324112  0.466280 -0.071777  0.094822  \n",
       "21  0.428240  0.664144  1.000000  0.306089  0.483827 -0.084280  0.110428  \n",
       "22  0.284666  0.324112  0.306089  1.000000  0.431468 -0.007475  0.041057  \n",
       "23  0.555752  0.466280  0.483827  0.431468  1.000000 -0.117112  0.145953  \n",
       "24 -0.057684 -0.071777 -0.084280 -0.007475 -0.117112  1.000000 -0.107531  \n",
       "25  0.113027  0.094822  0.110428  0.041057  0.145953 -0.107531  1.000000  \n",
       "\n",
       "[26 rows x 26 columns]"
      ]
     },
     "execution_count": 117,
     "metadata": {},
     "output_type": "execute_result"
    }
   ],
   "source": [
    "pd.DataFrame(corr)"
   ]
  },
  {
   "cell_type": "code",
   "execution_count": 118,
   "metadata": {},
   "outputs": [
    {
     "data": {
      "text/plain": [
       "0     0\n",
       "1     0\n",
       "2     0\n",
       "3     0\n",
       "4     0\n",
       "5     0\n",
       "6     0\n",
       "7     0\n",
       "8     0\n",
       "9     0\n",
       "10    0\n",
       "11    0\n",
       "12    0\n",
       "13    0\n",
       "14    0\n",
       "15    0\n",
       "16    0\n",
       "17    0\n",
       "18    0\n",
       "19    0\n",
       "20    0\n",
       "21    0\n",
       "22    0\n",
       "23    0\n",
       "24    0\n",
       "25    0\n",
       "dtype: int64"
      ]
     },
     "execution_count": 118,
     "metadata": {},
     "output_type": "execute_result"
    }
   ],
   "source": [
    "pd.DataFrame(corr).isnull().sum()"
   ]
  },
  {
   "cell_type": "code",
   "execution_count": 119,
   "metadata": {
    "collapsed": true
   },
   "outputs": [],
   "source": [
    "eigenvalues, eigenvectors = np.linalg.eig(corr)"
   ]
  },
  {
   "cell_type": "code",
   "execution_count": 122,
   "metadata": {},
   "outputs": [
    {
     "data": {
      "text/plain": [
       "[4.4643457157435371,\n",
       " 3.7459405690730616,\n",
       " 2.8317249761058036,\n",
       " 2.2483475174261947,\n",
       " 1.4460659549994763,\n",
       " 1.3176248014976482,\n",
       " 0.97400937266107357,\n",
       " 1.0074575850037426,\n",
       " 0.99932733724655076,\n",
       " 0.817858773348066,\n",
       " 0.79413528697954794,\n",
       " 0.78329613229580608,\n",
       " 0.75881732108344579,\n",
       " -1.7539383948466897e-17,\n",
       " 0.035785217582345416,\n",
       " 0.6073711860674238,\n",
       " 0.12571729268575965,\n",
       " 0.17666467253661888,\n",
       " 0.20349287964032273,\n",
       " 0.2280238866477666,\n",
       " 0.49715000021488798,\n",
       " 0.47800396056710731,\n",
       " 0.43152008933874914,\n",
       " 0.37216406762169263,\n",
       " 0.32444530791034232,\n",
       " 0.33071009572301896]"
      ]
     },
     "execution_count": 122,
     "metadata": {},
     "output_type": "execute_result"
    }
   ],
   "source": [
    "list(eigenvalues)"
   ]
  },
  {
   "cell_type": "code",
   "execution_count": 124,
   "metadata": {},
   "outputs": [
    {
     "data": {
      "text/plain": [
       "array([[  1.45860601e-01,   9.55526888e-02,  -1.28978052e-01,\n",
       "          5.56303377e-01,   1.63661885e-01,  -1.18246805e-01,\n",
       "          9.78902085e-02,   4.03306497e-02,   7.64090392e-03,\n",
       "         -4.58142923e-02,  -8.83016167e-02,  -1.86873526e-01,\n",
       "          2.47783002e-02,   7.07106781e-01,   5.26993367e-03,\n",
       "         -1.14839722e-01,   6.49156316e-03,   1.60034897e-02,\n",
       "          2.60364953e-03,  -4.76387977e-03,  -1.58121170e-01,\n",
       "          8.30641528e-02,  -8.23354485e-03,   7.03085339e-03,\n",
       "         -2.12465120e-02,   2.13704369e-03],\n",
       "       [  1.45860601e-01,   9.55526888e-02,  -1.28978052e-01,\n",
       "          5.56303377e-01,   1.63661885e-01,  -1.18246805e-01,\n",
       "          9.78902085e-02,   4.03306497e-02,   7.64090392e-03,\n",
       "         -4.58142923e-02,  -8.83016167e-02,  -1.86873526e-01,\n",
       "          2.47783002e-02,  -7.07106781e-01,   5.26993367e-03,\n",
       "         -1.14839722e-01,   6.49156316e-03,   1.60034897e-02,\n",
       "          2.60364953e-03,  -4.76387977e-03,  -1.58121170e-01,\n",
       "          8.30641528e-02,  -8.23354485e-03,   7.03085339e-03,\n",
       "         -2.12465120e-02,   2.13704369e-03],\n",
       "       [ -3.71983616e-03,   1.37565286e-02,  -2.55031713e-03,\n",
       "         -3.59770596e-03,  -1.78743341e-02,   1.00761408e-01,\n",
       "         -6.58000203e-02,   9.60677003e-01,   1.22474513e-01,\n",
       "         -5.54481700e-02,  -6.69116442e-02,   1.48412731e-01,\n",
       "          1.29578973e-01,   2.56111604e-16,   1.65983205e-03,\n",
       "          1.74912931e-02,   5.47974990e-03,   6.99726163e-03,\n",
       "         -1.43887721e-02,  -5.63267171e-04,  -3.58947714e-03,\n",
       "          4.86330936e-04,   9.16639609e-03,   7.85499321e-04,\n",
       "          3.35739774e-03,  -1.54034739e-03],\n",
       "       [  5.40890087e-02,   1.10464573e-01,  -3.21263125e-02,\n",
       "          3.49978011e-02,  -3.32520888e-01,   5.31466957e-01,\n",
       "         -4.75062998e-02,   5.88696837e-02,   2.83725434e-03,\n",
       "         -5.59643029e-02,   1.73587188e-02,  -4.11454565e-01,\n",
       "         -4.21827434e-01,   3.56630093e-16,   9.26114398e-03,\n",
       "         -4.04189602e-01,  -4.34845439e-02,  -3.46385962e-02,\n",
       "          3.68346880e-03,   1.00091632e-02,   1.68085041e-01,\n",
       "         -5.68942814e-02,   7.82089029e-02,  -2.65368123e-02,\n",
       "          1.65767567e-01,   2.72374891e-02],\n",
       "       [ -1.29532200e-01,  -1.46946343e-01,  -3.56418155e-03,\n",
       "         -9.61820489e-02,   2.21539872e-01,  -5.63546201e-01,\n",
       "          4.71056620e-02,   8.79375573e-02,   2.15079576e-02,\n",
       "         -3.30302530e-02,  -2.62856503e-02,   5.98370437e-02,\n",
       "         -1.95032174e-01,   4.88126740e-17,   4.42947863e-03,\n",
       "         -5.57491823e-01,  -4.17695227e-02,  -3.05068582e-02,\n",
       "         -1.46364277e-02,   3.87592830e-02,   3.58537001e-01,\n",
       "         -1.73442875e-01,   1.80302590e-01,  -7.61709034e-02,\n",
       "          1.39771219e-01,  -1.41029953e-02],\n",
       "       [  2.82956959e-01,   3.30342974e-01,  -1.04302918e-01,\n",
       "         -1.55647596e-01,   1.14673209e-01,  -4.47616183e-02,\n",
       "         -1.59995074e-02,  -9.15451060e-03,  -5.37885339e-03,\n",
       "         -7.42437847e-03,   4.75956090e-02,   7.49896328e-02,\n",
       "          2.90832787e-02,   8.29323670e-16,  -2.84007044e-03,\n",
       "          5.76231864e-02,  -7.94266286e-01,   7.80745584e-02,\n",
       "          1.33686386e-02,   5.80018439e-02,  -3.99434965e-02,\n",
       "          8.01684614e-02,   4.45635161e-02,  -2.67275244e-03,\n",
       "          3.08208446e-01,   5.05730030e-02],\n",
       "       [  2.43931883e-01,   2.99576139e-01,  -1.39147581e-01,\n",
       "         -1.41464867e-01,   2.84416279e-02,  -2.89810814e-02,\n",
       "         -2.43597692e-02,   2.21106829e-02,   3.87510320e-03,\n",
       "         -1.48926229e-02,   2.15360232e-01,   9.87137021e-02,\n",
       "         -1.20823299e-01,  -9.16741686e-17,   5.71443927e-03,\n",
       "         -2.00928258e-01,  -7.84664288e-02,  -3.00044861e-01,\n",
       "          1.74472083e-02,  -3.49273560e-02,  -3.05600600e-02,\n",
       "         -1.11934353e-01,  -9.47479484e-02,  -2.16301573e-02,\n",
       "         -7.45607899e-01,  -1.43992944e-01],\n",
       "       [  2.69788994e-01,   3.34340835e-01,  -1.16421691e-01,\n",
       "         -1.67652046e-01,   4.85289129e-02,  -5.40706593e-02,\n",
       "         -2.72289611e-02,  -4.16557956e-04,  -3.36606730e-03,\n",
       "          1.33832877e-02,   1.26025949e-01,   6.05116861e-02,\n",
       "         -5.77932502e-02,   1.83636640e-16,  -1.08403252e-02,\n",
       "         -7.92555663e-02,   3.74466983e-01,   7.48420621e-01,\n",
       "         -1.86245784e-01,   3.87038394e-02,  -2.77771696e-03,\n",
       "         -3.80664861e-02,  -5.20554974e-03,  -1.40647046e-03,\n",
       "          1.42683360e-02,   6.40936279e-03],\n",
       "       [  2.62308462e-01,   3.13375405e-01,  -1.12245972e-01,\n",
       "         -1.99390012e-01,   1.18108508e-01,  -5.51166934e-02,\n",
       "         -5.15509007e-03,  -2.79641944e-03,  -7.52256005e-03,\n",
       "          5.90378866e-03,   8.09153495e-02,   6.72700179e-02,\n",
       "          2.54266378e-02,  -5.98697660e-16,   1.87905773e-03,\n",
       "         -3.31229476e-02,   4.54037638e-01,  -5.25976875e-01,\n",
       "          1.18906256e-01,  -7.82867178e-02,  -1.45485316e-01,\n",
       "          1.20618836e-01,   5.51398429e-02,   2.82477573e-02,\n",
       "          4.49083405e-01,   8.00192368e-02],\n",
       "       [  9.94248396e-02,   1.57824645e-01,  -3.55582874e-02,\n",
       "         -2.91642824e-01,   1.89458748e-01,  -6.95154142e-02,\n",
       "          5.37840205e-02,   2.85897527e-02,   4.32319176e-03,\n",
       "         -8.31934659e-02,  -5.41793352e-01,  -5.66313206e-01,\n",
       "          1.85230411e-01,  -7.73786070e-17,   9.72846443e-03,\n",
       "          2.34699631e-01,   4.80602094e-02,  -3.16871580e-02,\n",
       "          3.20159484e-02,  -1.95771925e-03,   2.98641654e-01,\n",
       "         -9.83857053e-02,   1.86719197e-03,  -1.80469582e-02,\n",
       "         -1.38174264e-01,  -3.37498757e-02],\n",
       "       [  1.74124421e-02,   4.18076481e-02,  -1.50955316e-03,\n",
       "         -5.65974036e-02,  -2.29201278e-01,  -8.53493297e-03,\n",
       "          9.51997218e-01,   4.95625746e-02,   4.51037972e-02,\n",
       "         -2.87068827e-02,   1.23424909e-01,   3.09838770e-02,\n",
       "          5.31824791e-02,  -4.95472634e-17,  -2.66054719e-03,\n",
       "          4.87713569e-02,  -1.69164549e-03,  -1.25897011e-03,\n",
       "          1.23730379e-04,   6.26025710e-03,   9.16889194e-02,\n",
       "          2.36361553e-03,   2.14507034e-02,   1.20830438e-02,\n",
       "          7.25305151e-03,   1.03800462e-03],\n",
       "       [ -2.59131134e-03,  -1.86031089e-03,  -2.48800672e-02,\n",
       "         -4.23777349e-03,  -1.20776504e-02,  -1.34130391e-02,\n",
       "         -4.68809994e-02,  -1.21240931e-01,   9.89683251e-01,\n",
       "          1.55582401e-02,   3.01851019e-02,  -3.15088526e-02,\n",
       "          3.24457144e-03,  -4.50797479e-17,   7.65627581e-05,\n",
       "          1.56423791e-02,   2.30093191e-04,  -3.08198666e-03,\n",
       "         -7.61734151e-03,   4.50646706e-04,  -3.17775315e-03,\n",
       "          1.11692666e-02,  -4.55504729e-04,  -4.01143356e-03,\n",
       "          5.77426183e-03,   1.85614208e-03],\n",
       "       [  2.83188117e-03,  -2.40797105e-01,  -4.43558690e-01,\n",
       "         -7.92116682e-02,   1.44972014e-03,  -5.36543218e-02,\n",
       "         -2.79804377e-02,   5.89351955e-02,  -1.42277302e-02,\n",
       "         -2.99324093e-02,   2.65628224e-01,  -1.80938536e-01,\n",
       "          1.31710086e-02,  -7.71346150e-17,  -2.72161753e-01,\n",
       "          7.36593884e-02,  -3.70281595e-03,   1.66737857e-01,\n",
       "          7.00474022e-01,  -1.24281193e-01,  -3.05835737e-02,\n",
       "         -1.07583555e-01,  -1.72904002e-02,   2.46975242e-02,\n",
       "          6.53671888e-03,   1.99993496e-02],\n",
       "       [  1.04451050e-02,  -2.50142075e-01,  -4.92401084e-01,\n",
       "         -6.68666021e-02,   4.28661504e-02,   2.19411665e-02,\n",
       "         -5.38757466e-03,   1.90033360e-02,  -2.04044956e-02,\n",
       "         -2.07203406e-02,   1.58610860e-01,  -9.27119576e-02,\n",
       "          1.66739290e-02,   5.24909470e-16,   7.73333867e-01,\n",
       "          9.19432387e-02,  -7.91743762e-03,  -3.23500610e-02,\n",
       "         -1.97919323e-01,   2.97802133e-02,  -1.08112903e-03,\n",
       "         -5.95471910e-02,  -5.89551179e-03,   1.07416747e-02,\n",
       "          3.66692201e-02,   9.76831124e-03],\n",
       "       [  1.60600426e-02,  -2.36438386e-01,  -4.88793944e-01,\n",
       "         -5.74261352e-02,   7.19930845e-02,   8.63920076e-02,\n",
       "          1.55123258e-02,  -7.35839751e-03,  -1.81002393e-02,\n",
       "         -9.96998878e-03,   1.96788352e-02,  -1.73238257e-02,\n",
       "          5.40649315e-03,  -2.35806732e-16,  -5.68883330e-01,\n",
       "          5.34212334e-02,  -9.52887507e-03,  -1.34019614e-01,\n",
       "         -5.75922150e-01,   9.73112191e-02,   1.79278369e-02,\n",
       "          1.66236072e-02,   1.21566732e-02,  -1.52366605e-02,\n",
       "          2.87359063e-02,  -6.58276978e-03],\n",
       "       [  5.01394411e-02,  -1.02948010e-01,  -2.98673731e-01,\n",
       "         -6.89301247e-02,   7.34892007e-02,   2.82364807e-01,\n",
       "          1.05725576e-01,  -1.21487681e-01,   2.31851109e-02,\n",
       "          4.83455792e-02,  -6.04458683e-01,   4.63710919e-01,\n",
       "         -3.88690879e-02,  -2.58143043e-17,   5.87677631e-02,\n",
       "         -2.60979099e-01,   1.41207993e-02,   8.26857828e-02,\n",
       "          2.19664277e-01,  -3.58832658e-02,   1.62677819e-03,\n",
       "          2.51282689e-01,  -2.70209302e-02,  -8.47973584e-03,\n",
       "         -6.50747304e-02,  -2.75035469e-02],\n",
       "       [ -1.06318090e-01,  -2.27957296e-02,   1.27534820e-01,\n",
       "         -5.27003759e-02,   5.61921781e-01,   3.61244225e-01,\n",
       "          1.71405291e-01,  -1.88624727e-02,   2.74592925e-02,\n",
       "          4.63524339e-02,   7.24641615e-03,   2.66376348e-02,\n",
       "         -5.43805890e-03,   6.83053062e-17,  -7.08237625e-03,\n",
       "         -8.77126808e-02,  -2.04105849e-02,   1.51810970e-02,\n",
       "         -4.10197671e-03,  -2.19872860e-02,  -2.99405669e-01,\n",
       "         -6.14296110e-01,  -1.11049075e-03,   9.17486989e-02,\n",
       "          6.66372185e-02,   2.64020138e-02],\n",
       "       [ -3.33008423e-01,   2.48237503e-01,  -1.48034802e-01,\n",
       "          1.52681043e-02,  -4.23750084e-02,  -4.25377118e-02,\n",
       "         -1.29816401e-02,  -5.77261469e-03,  -9.10544600e-04,\n",
       "         -1.30859337e-01,  -3.95102070e-02,   3.39022534e-02,\n",
       "         -7.26392903e-02,   7.72913517e-17,  -2.08179567e-03,\n",
       "          4.40313193e-02,   5.30751496e-02,  -4.15769431e-02,\n",
       "          1.45553316e-01,   8.31303104e-01,  -5.93646872e-02,\n",
       "         -3.83163900e-02,  -8.30424642e-02,   2.13424485e-01,\n",
       "          2.49358878e-03,  -1.52766037e-02],\n",
       "       [ -3.05573302e-01,   2.15765500e-01,  -1.13669917e-01,\n",
       "          3.18730046e-02,   1.01612730e-02,  -3.18637636e-02,\n",
       "          1.95239907e-02,  -5.62260122e-03,   5.04509030e-04,\n",
       "         -2.74611847e-01,  -3.06217948e-02,   6.09911939e-02,\n",
       "         -1.41830249e-01,   6.90425542e-17,   8.04144428e-04,\n",
       "          9.07810315e-02,   2.20176633e-04,  -3.11608157e-04,\n",
       "         -1.27848790e-02,  -1.60460374e-01,  -2.99534705e-02,\n",
       "         -8.38125194e-02,  -4.76555383e-01,  -6.52179276e-01,\n",
       "          1.40151935e-01,  -1.73944326e-01],\n",
       "       [ -2.80504093e-01,   2.08274706e-01,  -1.24546935e-01,\n",
       "          3.53344173e-02,   8.76623205e-03,  -3.52310021e-02,\n",
       "          3.19866501e-03,  -1.68101111e-03,   2.00223877e-03,\n",
       "         -2.34222125e-01,  -7.95816520e-02,   8.65915268e-02,\n",
       "         -3.27026717e-01,   1.04739453e-16,   5.62486997e-03,\n",
       "          2.92378131e-01,   6.91591893e-03,   2.14111342e-02,\n",
       "         -1.20228081e-02,  -2.13441146e-01,  -1.38762252e-01,\n",
       "          3.38029952e-03,   7.21614184e-01,  -3.39189597e-02,\n",
       "         -1.01589497e-01,  -3.18873890e-02],\n",
       "       [ -2.76129014e-01,   1.98196419e-01,  -1.23110050e-01,\n",
       "         -6.11493144e-04,   1.16628253e-02,  -1.22397816e-02,\n",
       "          2.08507655e-02,   4.25899135e-02,  -1.08083159e-02,\n",
       "          5.95445999e-01,   1.65810418e-04,  -7.58874976e-02,\n",
       "          4.11227647e-02,  -4.74022341e-16,   3.09706981e-03,\n",
       "         -3.38577188e-02,  -1.27142718e-02,  -8.83082751e-03,\n",
       "          3.10468307e-04,   2.92607169e-03,  -1.15797683e-02,\n",
       "          4.46475274e-02,   4.37110173e-02,  -2.87877847e-01,\n",
       "         -1.26440293e-01,   6.32735364e-01],\n",
       "       [ -2.86432488e-01,   1.92873139e-01,  -1.14150579e-01,\n",
       "          3.20508366e-03,   1.42543049e-02,  -2.21521996e-02,\n",
       "          1.60226041e-02,   4.94104674e-02,  -8.54309358e-03,\n",
       "          5.78377069e-01,   1.60966965e-02,  -9.98349625e-02,\n",
       "         -1.77183046e-03,   2.40085224e-16,   2.13353196e-03,\n",
       "         -2.04788260e-02,  -2.46547067e-02,   1.36719401e-02,\n",
       "         -2.22951081e-02,  -1.54809815e-01,   2.56522177e-03,\n",
       "          8.40260497e-02,  -2.92306562e-02,   2.10355895e-01,\n",
       "          1.07840621e-01,  -6.55758338e-01],\n",
       "       [ -1.90227016e-01,   1.82813289e-01,  -1.02677404e-01,\n",
       "          5.47380950e-02,  -1.41739758e-01,   1.61325874e-01,\n",
       "         -8.69273621e-02,  -1.32759983e-01,  -1.82727788e-02,\n",
       "         -1.96563588e-01,   1.12494117e-01,   2.61690254e-02,\n",
       "          7.55634342e-01,   2.48939180e-16,   3.49448159e-04,\n",
       "         -3.15982496e-01,  -3.34270691e-03,   7.94469523e-03,\n",
       "         -4.74702830e-03,  -3.16414175e-02,   9.45259075e-02,\n",
       "         -9.77174461e-02,   2.78059010e-01,  -1.31718397e-01,\n",
       "          4.95124740e-03,  -9.02451259e-02],\n",
       "       [ -3.21391587e-01,   2.18254842e-01,  -1.14336198e-01,\n",
       "          1.42795729e-02,  -1.00568555e-02,  -4.92380266e-02,\n",
       "         -2.05454170e-02,  -1.76821166e-02,   5.22163274e-04,\n",
       "         -2.53810271e-01,  -5.66214284e-03,   3.77485567e-02,\n",
       "         -7.79669179e-03,   2.99805615e-16,  -9.78410035e-03,\n",
       "         -6.20229278e-02,  -4.35535936e-02,   1.18410997e-02,\n",
       "         -9.73371055e-02,  -4.07581829e-01,   1.35181374e-01,\n",
       "          2.55753432e-02,  -3.30594449e-01,   6.00953782e-01,\n",
       "          1.29057195e-03,   3.09277403e-01],\n",
       "       [  1.79906489e-01,   1.24492543e-01,  -9.24717289e-02,\n",
       "          3.77848398e-01,   7.42870607e-03,   1.21699529e-01,\n",
       "         -6.69551611e-02,  -5.10141416e-02,   1.33529821e-04,\n",
       "          1.48072621e-01,   3.38551766e-02,   3.12766298e-01,\n",
       "         -4.24430708e-02,   4.87470117e-16,  -7.76884789e-03,\n",
       "          3.10491706e-01,   5.69394534e-02,  -7.69733372e-02,\n",
       "          7.12248834e-02,   1.68021067e-02,   6.43764363e-01,\n",
       "         -3.53735225e-01,   1.89711671e-02,   1.29505924e-02,\n",
       "          7.12947629e-02,   2.84482487e-03],\n",
       "       [ -1.38188710e-01,  -8.23310555e-03,   1.14473830e-01,\n",
       "         -1.16476593e-02,   5.62922707e-01,   2.80948707e-01,\n",
       "          6.08262037e-02,   1.50665726e-02,   2.77539383e-03,\n",
       "         -1.12524186e-01,   3.37232895e-01,  -6.03248652e-02,\n",
       "         -2.29345697e-02,   8.09585050e-17,   1.07938835e-02,\n",
       "          2.25547718e-02,   3.12738096e-02,   3.04712006e-02,\n",
       "          5.29793480e-02,   6.90933311e-02,   3.39869401e-01,\n",
       "          5.47109045e-01,   3.13824860e-02,  -6.60294766e-02,\n",
       "         -8.06624814e-02,  -2.21700716e-02]])"
      ]
     },
     "execution_count": 124,
     "metadata": {},
     "output_type": "execute_result"
    }
   ],
   "source": [
    "eigenvectors"
   ]
  },
  {
   "cell_type": "markdown",
   "metadata": {},
   "source": [
    "Now using SGD"
   ]
  },
  {
   "cell_type": "code",
   "execution_count": 129,
   "metadata": {
    "collapsed": true
   },
   "outputs": [],
   "source": [
    "#WIP"
   ]
  },
  {
   "cell_type": "code",
   "execution_count": 125,
   "metadata": {
    "collapsed": true
   },
   "outputs": [],
   "source": [
    "#First, scale and standardize data"
   ]
  },
  {
   "cell_type": "code",
   "execution_count": 126,
   "metadata": {
    "collapsed": true
   },
   "outputs": [],
   "source": [
    "from sklearn.preprocessing import StandardScaler"
   ]
  },
  {
   "cell_type": "code",
   "execution_count": 127,
   "metadata": {
    "collapsed": true
   },
   "outputs": [],
   "source": [
    "st = StandardScaler()"
   ]
  },
  {
   "cell_type": "code",
   "execution_count": 128,
   "metadata": {
    "collapsed": true
   },
   "outputs": [],
   "source": [
    "Xst = st.fit_transform(X)"
   ]
  },
  {
   "cell_type": "markdown",
   "metadata": {},
   "source": [
    "Feature Importance"
   ]
  },
  {
   "cell_type": "code",
   "execution_count": 134,
   "metadata": {
    "collapsed": true
   },
   "outputs": [],
   "source": [
    "from sklearn import linear_model\n",
    "from sklearn.pipeline import make_pipeline"
   ]
  },
  {
   "cell_type": "code",
   "execution_count": 133,
   "metadata": {},
   "outputs": [],
   "source": [
    "linear_regression = linear_model.LinearRegression(normalize=False, fit_intercept=True)"
   ]
  },
  {
   "cell_type": "code",
   "execution_count": 135,
   "metadata": {
    "collapsed": true
   },
   "outputs": [],
   "source": [
    "standardization = StandardScaler()"
   ]
  },
  {
   "cell_type": "code",
   "execution_count": 136,
   "metadata": {
    "collapsed": true
   },
   "outputs": [],
   "source": [
    "Stand_coef_linear_reg = make_pipeline(standardization, linear_regression)"
   ]
  },
  {
   "cell_type": "code",
   "execution_count": 138,
   "metadata": {},
   "outputs": [
    {
     "data": {
      "text/plain": [
       "LinearRegression(copy_X=True, fit_intercept=True, n_jobs=1, normalize=False)"
      ]
     },
     "execution_count": 138,
     "metadata": {},
     "output_type": "execute_result"
    }
   ],
   "source": [
    "linear_regression.fit(X,target)"
   ]
  },
  {
   "cell_type": "code",
   "execution_count": 143,
   "metadata": {},
   "outputs": [
    {
     "name": "stdout",
     "output_type": "stream",
     "text": [
      "399.080 longitude\n",
      "169.226 latitude\n",
      "30.491 bedrooms\n",
      "27.150 accommodates\n",
      "15.320 bathrooms\n",
      " 9.268 review_scores_cleanliness\n",
      " 8.806 review_scores_value\n",
      " 7.862 review_scores_accuracy\n",
      " 6.941 review_scores_location\n",
      " 6.708 beds\n",
      " 6.679 review_scores_checkin\n",
      " 5.075 review_scores_communication\n",
      " 2.136 guests_included\n",
      " 1.758 availability_30\n",
      " 0.744 availability_90\n",
      " 0.524 availability_60\n",
      " 0.431 calculated_host_listings_count\n",
      " 0.428 minimum_nights\n",
      " 0.349 review_scores_rating\n",
      " 0.271 number_of_reviews\n",
      " 0.040 host_listings_count\n",
      " 0.040 host_total_listings_count\n",
      " 0.022 availability_365\n",
      " 0.001 zipcode\n",
      " 0.000 maximum_nights\n"
     ]
    }
   ],
   "source": [
    "for coef, var in sorted(zip(map(abs, linear_regression.coef_), X.columns[:-1]),reverse=True):\n",
    "    print (\"%6.3f %s\" % (coef,var)) "
   ]
  },
  {
   "cell_type": "markdown",
   "metadata": {},
   "source": [
    "Comparing Models:"
   ]
  },
  {
   "cell_type": "code",
   "execution_count": 144,
   "metadata": {
    "collapsed": true
   },
   "outputs": [],
   "source": [
    "#Baseline:\n",
    "from sklearn.metrics import r2_score\n",
    "linear_regression = linear_model.LinearRegression(normalize=False, fit_intercept=True)\n",
    "def r2_est(X,y):\n",
    "    return r2_score(y, linear_regression.fit(X,y).predict(X))"
   ]
  },
  {
   "cell_type": "code",
   "execution_count": 147,
   "metadata": {},
   "outputs": [
    {
     "data": {
      "text/plain": [
       "'Baseline Model R2: 0.573471'"
      ]
     },
     "execution_count": 147,
     "metadata": {},
     "output_type": "execute_result"
    }
   ],
   "source": [
    "\"Baseline Model R2: %f\" %r2_est(X,target)"
   ]
  },
  {
   "cell_type": "code",
   "execution_count": 148,
   "metadata": {
    "collapsed": true
   },
   "outputs": [],
   "source": [
    "r2_impact = list()"
   ]
  },
  {
   "cell_type": "code",
   "execution_count": 150,
   "metadata": {},
   "outputs": [
    {
     "data": {
      "text/plain": [
       "5922"
      ]
     },
     "execution_count": 150,
     "metadata": {},
     "output_type": "execute_result"
    }
   ],
   "source": [
    "len(X)"
   ]
  },
  {
   "cell_type": "code",
   "execution_count": 169,
   "metadata": {
    "collapsed": true
   },
   "outputs": [],
   "source": [
    "baseline = r2_est(X,target)"
   ]
  },
  {
   "cell_type": "code",
   "execution_count": 151,
   "metadata": {
    "collapsed": true
   },
   "outputs": [],
   "source": [
    "for j in range(X.shape[1]):\n",
    "    selection = [i for i in range(X.shape[1]) if i!=j]\n",
    "    r2_impact.append(((r2_est(X,target)-(r2_est(X.values[:,selection],target)),X.columns[j])))"
   ]
  },
  {
   "cell_type": "code",
   "execution_count": 154,
   "metadata": {},
   "outputs": [
    {
     "name": "stdout",
     "output_type": "stream",
     "text": [
      " 0.042 accommodates\n",
      " 0.017 longitude\n",
      " 0.010 bedrooms\n",
      " 0.004 latitude\n",
      " 0.003 bathrooms\n",
      " 0.002 availability_30\n",
      " 0.002 number_of_reviews\n",
      " 0.001 availability_90\n",
      " 0.001 beds\n",
      " 0.001 calculated_host_listings_count\n",
      " 0.001 review_scores_cleanliness\n",
      " 0.001 reviews_per_month\n",
      " 0.001 review_scores_value\n",
      " 0.000 review_scores_accuracy\n",
      " 0.000 guests_included\n",
      " 0.000 review_scores_location\n",
      " 0.000 review_scores_checkin\n",
      " 0.000 availability_60\n",
      " 0.000 minimum_nights\n",
      " 0.000 availability_365\n",
      " 0.000 review_scores_communication\n",
      " 0.000 review_scores_rating\n",
      " 0.000 zipcode\n",
      " 0.000 maximum_nights\n",
      " 0.000 host_total_listings_count\n",
      " 0.000 host_listings_count\n"
     ]
    }
   ],
   "source": [
    "for imp, var in sorted(r2_impact, reverse=True):\n",
    "    print(\"%6.3f %s\" %(imp, var))"
   ]
  },
  {
   "cell_type": "markdown",
   "metadata": {},
   "source": [
    "Interaction Variables"
   ]
  },
  {
   "cell_type": "code",
   "execution_count": 156,
   "metadata": {},
   "outputs": [],
   "source": [
    "from sklearn.preprocessing import PolynomialFeatures\n",
    "create_interactions = PolynomialFeatures(degree=2, interaction_only=True, include_bias=False)"
   ]
  },
  {
   "cell_type": "code",
   "execution_count": 157,
   "metadata": {
    "collapsed": true
   },
   "outputs": [],
   "source": [
    "Xi = create_interactions.fit_transform(X)\n",
    "main_effects = create_interactions.n_input_features_"
   ]
  },
  {
   "cell_type": "code",
   "execution_count": 161,
   "metadata": {},
   "outputs": [
    {
     "data": {
      "text/plain": [
       "array([[1, 0, 0, ..., 0, 0, 0],\n",
       "       [0, 1, 0, ..., 0, 0, 0],\n",
       "       [0, 0, 1, ..., 0, 0, 0],\n",
       "       ..., \n",
       "       [0, 0, 0, ..., 1, 1, 0],\n",
       "       [0, 0, 0, ..., 1, 0, 1],\n",
       "       [0, 0, 0, ..., 0, 1, 1]])"
      ]
     },
     "execution_count": 161,
     "metadata": {},
     "output_type": "execute_result"
    }
   ],
   "source": [
    "create_interactions.powers_"
   ]
  },
  {
   "cell_type": "code",
   "execution_count": 178,
   "metadata": {},
   "outputs": [
    {
     "name": "stdout",
     "output_type": "stream",
     "text": [
      "Interaction: var host_listings_count and var accommodates R2: 0.006\n",
      "Interaction: var host_listings_count and var bathrooms R2: 0.011\n",
      "Interaction: var host_total_listings_count and var accommodates R2: 0.006\n",
      "Interaction: var host_total_listings_count and var bathrooms R2: 0.011\n",
      "Interaction: var longitude and var calculated_host_listings_count R2: 0.005\n",
      "Interaction: var accommodates and var bathrooms R2: 0.008\n",
      "Interaction: var accommodates and var bedrooms R2: 0.008\n",
      "Interaction: var accommodates and var     beds R2: 0.005\n",
      "Interaction: var bathrooms and var bedrooms R2: 0.010\n",
      "Interaction: var bathrooms and var calculated_host_listings_count R2: 0.009\n"
     ]
    }
   ],
   "source": [
    "#Now calculating the interactions:\n",
    "for k, effect in enumerate(create_interactions.powers_[(main_effects):]):\n",
    "    A, B = X.columns[effect==1]\n",
    "    increment = r2_est(Xi[:,list(range(0,main_effects))+[main_effects+k]],target) - baseline\n",
    "    if increment > 0.005:\n",
    "        print (\"Interaction: var %8s and var %8s R2: %5.3f\" %(A,B,increment))\n",
    "        "
   ]
  },
  {
   "cell_type": "markdown",
   "metadata": {},
   "source": [
    "As a result we create new variables in X based on the highest R2 increment above (e.g. host_total_listings_count * bathrooms)\n",
    "And then we rerun the r2_est method to see how this impacts the prediction"
   ]
  },
  {
   "cell_type": "code",
   "execution_count": 179,
   "metadata": {
    "collapsed": true
   },
   "outputs": [],
   "source": [
    "X['hst_tot_list_count*bathrooms'] = X['host_total_listings_count'] * X['bathrooms']"
   ]
  },
  {
   "cell_type": "code",
   "execution_count": 184,
   "metadata": {},
   "outputs": [
    {
     "name": "stdout",
     "output_type": "stream",
     "text": [
      "new R2:  0.584410437817\n",
      "baseline R2:  0.573471146546\n"
     ]
    }
   ],
   "source": [
    "print(\"new R2: \", r2_est(X,target))\n",
    "print(\"baseline R2: \", baseline)"
   ]
  },
  {
   "cell_type": "markdown",
   "metadata": {},
   "source": [
    "Label Encoding and Binarizing Certain Variables"
   ]
  },
  {
   "cell_type": "code",
   "execution_count": null,
   "metadata": {
    "collapsed": true
   },
   "outputs": [],
   "source": [
    "#variables to parse (already are numeric just need to convert from object dtype):\n",
    "#host_response_rate, host_acceptance_rate, extra_people, weekly_price, monthly_price, security_deposit, cleaning_fee\n",
    "#"
   ]
  },
  {
   "cell_type": "code",
   "execution_count": null,
   "metadata": {
    "collapsed": true
   },
   "outputs": [],
   "source": [
    "#variables containing string text that can be one hot encoded:\n",
    "#host_verifications"
   ]
  },
  {
   "cell_type": "code",
   "execution_count": null,
   "metadata": {
    "collapsed": true
   },
   "outputs": [],
   "source": [
    "#simply convert to numeric:\n",
    "#calculated_host_listings_count, reviews_per_month"
   ]
  },
  {
   "cell_type": "code",
   "execution_count": 218,
   "metadata": {},
   "outputs": [
    {
     "data": {
      "text/plain": [
       "Index([u'id', u'listing_url', u'scrape_id', u'last_scraped', u'name',\n",
       "       u'summary', u'space', u'description', u'experiences_offered',\n",
       "       u'neighborhood_overview', u'notes', u'transit', u'access',\n",
       "       u'interaction', u'house_rules', u'thumbnail_url', u'medium_url',\n",
       "       u'picture_url', u'xl_picture_url', u'host_id', u'host_url',\n",
       "       u'host_name', u'host_since', u'host_location', u'host_about',\n",
       "       u'host_response_time', u'host_response_rate', u'host_acceptance_rate',\n",
       "       u'host_is_superhost', u'host_thumbnail_url', u'host_picture_url',\n",
       "       u'host_neighbourhood', u'host_listings_count',\n",
       "       u'host_total_listings_count', u'host_verifications',\n",
       "       u'host_has_profile_pic', u'host_identity_verified', u'street',\n",
       "       u'neighbourhood', u'neighbourhood_cleansed',\n",
       "       u'neighbourhood_group_cleansed', u'city', u'state', u'zipcode',\n",
       "       u'market', u'smart_location', u'country_code', u'country', u'latitude',\n",
       "       u'longitude', u'is_location_exact', u'property_type', u'room_type',\n",
       "       u'accommodates', u'bathrooms', u'bedrooms', u'beds', u'bed_type',\n",
       "       u'amenities', u'square_feet', u'price_x', u'weekly_price',\n",
       "       u'monthly_price', u'security_deposit', u'cleaning_fee',\n",
       "       u'guests_included', u'extra_people', u'minimum_nights',\n",
       "       u'maximum_nights', u'calendar_updated', u'has_availability',\n",
       "       u'availability_30', u'availability_60', u'availability_90',\n",
       "       u'availability_365', u'calendar_last_scraped', u'number_of_reviews',\n",
       "       u'first_review', u'last_review', u'review_scores_rating',\n",
       "       u'review_scores_accuracy', u'review_scores_cleanliness',\n",
       "       u'review_scores_checkin', u'review_scores_communication',\n",
       "       u'review_scores_location', u'review_scores_value', u'requires_license',\n",
       "       u'license', u'jurisdiction_names', u'instant_bookable',\n",
       "       u'cancellation_policy', u'require_guest_profile_picture',\n",
       "       u'require_guest_phone_verification', u'calculated_host_listings_count',\n",
       "       u'reviews_per_month', u'listing_id'],\n",
       "      dtype='object')"
      ]
     },
     "execution_count": 218,
     "metadata": {},
     "output_type": "execute_result"
    }
   ],
   "source": [
    "master.select_dtypes(exclude=['int64, float64']).columns"
   ]
  },
  {
   "cell_type": "code",
   "execution_count": 190,
   "metadata": {},
   "outputs": [
    {
     "data": {
      "text/plain": [
       "array(['moderate', 'strict', 'flexible', 'super_strict_60',\n",
       "       'super_strict_30', 'no_refunds'], dtype=object)"
      ]
     },
     "execution_count": 190,
     "metadata": {},
     "output_type": "execute_result"
    }
   ],
   "source": [
    "master.cancellation_policy.unique()"
   ]
  },
  {
   "cell_type": "code",
   "execution_count": 191,
   "metadata": {
    "collapsed": true
   },
   "outputs": [],
   "source": [
    "from sklearn.preprocessing import LabelEncoder, LabelBinarizer"
   ]
  },
  {
   "cell_type": "markdown",
   "metadata": {},
   "source": [
    "Encoding Variables"
   ]
  },
  {
   "cell_type": "code",
   "execution_count": 192,
   "metadata": {
    "collapsed": true
   },
   "outputs": [],
   "source": [
    "label_enc = LabelEncoder()"
   ]
  },
  {
   "cell_type": "code",
   "execution_count": 195,
   "metadata": {},
   "outputs": [],
   "source": [
    "X['policy_enc'] = label_enc.fit_transform(master.cancellation_policy)"
   ]
  },
  {
   "cell_type": "code",
   "execution_count": 207,
   "metadata": {},
   "outputs": [],
   "source": [
    "master['host_response_time'] = master['host_response_time'].astype(str)"
   ]
  },
  {
   "cell_type": "code",
   "execution_count": 208,
   "metadata": {},
   "outputs": [],
   "source": [
    "X['host_resp_time_enc'] = label_enc.fit_transform(master.host_response_time)"
   ]
  },
  {
   "cell_type": "code",
   "execution_count": 221,
   "metadata": {
    "collapsed": true
   },
   "outputs": [],
   "source": [
    "master['calendar_updated'] = master['calendar_updated'].astype(str)"
   ]
  },
  {
   "cell_type": "code",
   "execution_count": 244,
   "metadata": {
    "collapsed": true
   },
   "outputs": [],
   "source": [
    "X['calendar_updated_enc'] = label_enc.fit_transform(master.calendar_updated)"
   ]
  },
  {
   "cell_type": "code",
   "execution_count": 235,
   "metadata": {
    "collapsed": true
   },
   "outputs": [],
   "source": [
    "master['bed_type'] = master['bed_type'].astype(str)"
   ]
  },
  {
   "cell_type": "code",
   "execution_count": 245,
   "metadata": {
    "collapsed": true
   },
   "outputs": [],
   "source": [
    "X['bed_type_enc'] = label_enc.fit_transform(master.bed_type)"
   ]
  },
  {
   "cell_type": "code",
   "execution_count": 246,
   "metadata": {
    "collapsed": true
   },
   "outputs": [],
   "source": [
    "master['jurisdiction_names'] = master['jurisdiction_names'].astype(str)"
   ]
  },
  {
   "cell_type": "code",
   "execution_count": 247,
   "metadata": {
    "collapsed": true
   },
   "outputs": [],
   "source": [
    "X['jurisdiction_names_enc'] = label_enc.fit_transform(master.jurisdiction_names)"
   ]
  },
  {
   "cell_type": "code",
   "execution_count": null,
   "metadata": {
    "collapsed": true
   },
   "outputs": [],
   "source": []
  },
  {
   "cell_type": "code",
   "execution_count": null,
   "metadata": {
    "collapsed": true
   },
   "outputs": [],
   "source": []
  },
  {
   "cell_type": "markdown",
   "metadata": {},
   "source": [
    "Binarizing Variables"
   ]
  },
  {
   "cell_type": "code",
   "execution_count": 209,
   "metadata": {
    "collapsed": true
   },
   "outputs": [],
   "source": [
    "label_bin = LabelBinarizer()"
   ]
  },
  {
   "cell_type": "code",
   "execution_count": 210,
   "metadata": {
    "collapsed": true
   },
   "outputs": [],
   "source": [
    "X['host_is_superhost'] = label_bin.fit_transform(master.host_is_superhost)"
   ]
  },
  {
   "cell_type": "code",
   "execution_count": 226,
   "metadata": {
    "collapsed": true
   },
   "outputs": [],
   "source": [
    "X['is_location_exact'] = label_bin.fit_transform(master.is_location_exact)"
   ]
  },
  {
   "cell_type": "code",
   "execution_count": 230,
   "metadata": {
    "collapsed": true
   },
   "outputs": [],
   "source": [
    "X['host_profile_pic'] = label_bin.fit_transform(master.host_has_profile_pic)"
   ]
  },
  {
   "cell_type": "code",
   "execution_count": 231,
   "metadata": {
    "collapsed": true
   },
   "outputs": [],
   "source": [
    "X['host_identity_verified'] = label_bin.fit_transform(master.host_identity_verified)"
   ]
  },
  {
   "cell_type": "code",
   "execution_count": 240,
   "metadata": {
    "collapsed": true
   },
   "outputs": [],
   "source": [
    "X['instant_bookable'] = label_bin.fit_transform(master.instant_bookable)"
   ]
  },
  {
   "cell_type": "code",
   "execution_count": 250,
   "metadata": {
    "collapsed": true
   },
   "outputs": [],
   "source": [
    "X['require_guest_profile_picture'] = label_bin.fit_transform(master.require_guest_profile_picture)"
   ]
  },
  {
   "cell_type": "code",
   "execution_count": 251,
   "metadata": {
    "collapsed": true
   },
   "outputs": [],
   "source": [
    "X['require_guest_phone_verification'] = label_bin.fit_transform(master.require_guest_phone_verification)"
   ]
  },
  {
   "cell_type": "code",
   "execution_count": null,
   "metadata": {
    "collapsed": true
   },
   "outputs": [],
   "source": []
  },
  {
   "cell_type": "code",
   "execution_count": 252,
   "metadata": {},
   "outputs": [
    {
     "data": {
      "text/plain": [
       "array([ 2,  1,  3,  5,  4, 18,  7, 19, 12,  6, 14, 11, 10, 21, 40, 81, 23,\n",
       "       22,  8,  9, 90, 61, 54, 13, 30, 20, 28, 24])"
      ]
     },
     "execution_count": 252,
     "metadata": {},
     "output_type": "execute_result"
    }
   ],
   "source": [
    "master.calculated_host_listings_count.unique()"
   ]
  },
  {
   "cell_type": "code",
   "execution_count": 249,
   "metadata": {},
   "outputs": [
    {
     "data": {
      "text/plain": [
       "0"
      ]
     },
     "execution_count": 249,
     "metadata": {},
     "output_type": "execute_result"
    }
   ],
   "source": [
    "master.require_guest_profile_picture.isnull().sum()"
   ]
  },
  {
   "cell_type": "markdown",
   "metadata": {},
   "source": [
    "Parsing numeric variables with regex"
   ]
  },
  {
   "cell_type": "code",
   "execution_count": 255,
   "metadata": {
    "collapsed": true
   },
   "outputs": [],
   "source": [
    "#host_response_rate, host_acceptance_rate, extra_people, weekly_price, monthly_price, security_deposit, cleaning_fee\n",
    "#"
   ]
  },
  {
   "cell_type": "code",
   "execution_count": 262,
   "metadata": {
    "collapsed": true
   },
   "outputs": [],
   "source": [
    "ms = master.copy()"
   ]
  },
  {
   "cell_type": "code",
   "execution_count": 265,
   "metadata": {
    "collapsed": true
   },
   "outputs": [],
   "source": [
    "ms['host_response_rate'] = ms['host_response_rate'].astype(str).map(lambda x: x.lstrip('%'))"
   ]
  },
  {
   "cell_type": "code",
   "execution_count": 268,
   "metadata": {},
   "outputs": [
    {
     "name": "stdout",
     "output_type": "stream",
     "text": [
      "<type 'str'>\n",
      "<type 'str'>\n",
      "<type 'str'>\n",
      "<type 'str'>\n",
      "<type 'str'>\n"
     ]
    }
   ],
   "source": [
    "for i in ms['host_response_rate'].head(5):\n",
    "    print(type(i))"
   ]
  },
  {
   "cell_type": "code",
   "execution_count": null,
   "metadata": {
    "collapsed": true
   },
   "outputs": [],
   "source": [
    "master['host_response_rate'] = master['host_response_rate'].apply(pd.to_numeric, errors='coerce')\n",
    "master['host_response_rate'].replace(regex=True,inplace=True,to_replace=r'\\D',value=r'')"
   ]
  },
  {
   "cell_type": "code",
   "execution_count": 266,
   "metadata": {},
   "outputs": [
    {
     "data": {
      "text/plain": [
       "0        97%\n",
       "1        80%\n",
       "2       100%\n",
       "3       100%\n",
       "4       100%\n",
       "5       100%\n",
       "6       100%\n",
       "7       100%\n",
       "8       100%\n",
       "9        nan\n",
       "10      100%\n",
       "11      100%\n",
       "12      100%\n",
       "13      100%\n",
       "14      100%\n",
       "15      100%\n",
       "16      100%\n",
       "17      100%\n",
       "18      100%\n",
       "19      100%\n",
       "20      100%\n",
       "21       73%\n",
       "22      100%\n",
       "23      100%\n",
       "24      100%\n",
       "25      100%\n",
       "26       73%\n",
       "27      100%\n",
       "28       78%\n",
       "29      100%\n",
       "        ... \n",
       "5892     nan\n",
       "5893    100%\n",
       "5894    100%\n",
       "5895     nan\n",
       "5896    100%\n",
       "5897    100%\n",
       "5898    100%\n",
       "5899    100%\n",
       "5900    100%\n",
       "5901    100%\n",
       "5902     nan\n",
       "5903    100%\n",
       "5904    100%\n",
       "5905    100%\n",
       "5906    100%\n",
       "5907    100%\n",
       "5908    100%\n",
       "5909    100%\n",
       "5910     nan\n",
       "5911     nan\n",
       "5912    100%\n",
       "5913    100%\n",
       "5914    100%\n",
       "5915    100%\n",
       "5916     nan\n",
       "5917    100%\n",
       "5918    100%\n",
       "5919    100%\n",
       "5920    100%\n",
       "5921    100%\n",
       "Name: host_response_rate, Length: 5922, dtype: object"
      ]
     },
     "execution_count": 266,
     "metadata": {},
     "output_type": "execute_result"
    }
   ],
   "source": [
    "ms['host_response_rate']"
   ]
  },
  {
   "cell_type": "code",
   "execution_count": null,
   "metadata": {
    "collapsed": true
   },
   "outputs": [],
   "source": []
  }
 ],
 "metadata": {
  "kernelspec": {
   "display_name": "Python 2",
   "language": "python",
   "name": "python2"
  },
  "language_info": {
   "codemirror_mode": {
    "name": "ipython",
    "version": 2
   },
   "file_extension": ".py",
   "mimetype": "text/x-python",
   "name": "python",
   "nbconvert_exporter": "python",
   "pygments_lexer": "ipython2",
   "version": "2.7.14"
  }
 },
 "nbformat": 4,
 "nbformat_minor": 2
}
