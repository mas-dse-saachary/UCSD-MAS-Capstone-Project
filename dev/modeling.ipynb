{
 "cells": [
  {
   "cell_type": "markdown",
   "metadata": {},
   "source": [
    "Notebook putting together concepts from all modeling notebook to construct final model"
   ]
  },
  {
   "cell_type": "code",
   "execution_count": 1,
   "metadata": {
    "collapsed": true
   },
   "outputs": [],
   "source": [
    "import pandas as pd\n",
    "import numpy as np\n",
    "import seaborn as sb\n",
    "import matplotlib.pyplot as plt\n",
    "from pandas.plotting import scatter_matrix\n",
    "import matplotlib.cm as cm\n",
    "%matplotlib inline"
   ]
  },
  {
   "cell_type": "code",
   "execution_count": 64,
   "metadata": {
    "collapsed": true
   },
   "outputs": [],
   "source": [
    "from sklearn import linear_model\n",
    "from sklearn.metrics import r2_score, mean_squared_error,mean_absolute_error\n",
    "from sklearn.model_selection import KFold,cross_val_score, cross_validate, train_test_split, GridSearchCV\n",
    "from sklearn.preprocessing import LabelEncoder, LabelBinarizer, PolynomialFeatures, MinMaxScaler, StandardScaler\n",
    "from sklearn.pipeline import Pipeline\n",
    "from sklearn import preprocessing\n",
    "from sklearn.neighbors import LocalOutlierFactor\n",
    "from sklearn.feature_selection import RFE, f_regression, RFECV\n",
    "from sklearn.ensemble import RandomForestRegressor\n",
    "from sklearn.tree import DecisionTreeRegressor\n",
    "from sklearn.svm import SVR"
   ]
  },
  {
   "cell_type": "code",
   "execution_count": null,
   "metadata": {
    "collapsed": true
   },
   "outputs": [],
   "source": [
    "import sys\n",
    "sys.path.append('./lib')\n",
    "from hello import print_hello"
   ]
  },
  {
   "cell_type": "code",
   "execution_count": 3,
   "metadata": {
    "collapsed": true
   },
   "outputs": [],
   "source": [
    "listings = pd.read_csv('Datasources/listings_augmented/listings_augmented_2018-05-23_V5.csv',low_memory=False)\n",
    "listings = listings.drop(listings.index[4216:4219])\n",
    "listings.index = [i for i in range(len(listings))]"
   ]
  },
  {
   "cell_type": "code",
   "execution_count": 4,
   "metadata": {
    "collapsed": true
   },
   "outputs": [],
   "source": [
    "#Excluded variables from the featuresExploration notebook\n",
    "%store -r excluded"
   ]
  },
  {
   "cell_type": "code",
   "execution_count": 5,
   "metadata": {
    "collapsed": true
   },
   "outputs": [],
   "source": [
    "cols = [i for i in listings.columns if i not in excluded]\n",
    "X = listings[cols]"
   ]
  },
  {
   "cell_type": "code",
   "execution_count": 6,
   "metadata": {
    "collapsed": true
   },
   "outputs": [],
   "source": [
    "def scale_data(X):\n",
    "    return pd.DataFrame(preprocessing.scale(X),columns = X.columns)"
   ]
  },
  {
   "cell_type": "code",
   "execution_count": 7,
   "metadata": {
    "collapsed": true
   },
   "outputs": [],
   "source": [
    "def normalize_data(X):\n",
    "    return pd.DataFrame(preprocessing.normalize(X),columns = X.columns)"
   ]
  },
  {
   "cell_type": "code",
   "execution_count": 8,
   "metadata": {},
   "outputs": [
    {
     "data": {
      "text/plain": [
       "bathrooms    8\n",
       "bedrooms     3\n",
       "beds         3\n",
       "dtype: int64"
      ]
     },
     "execution_count": 8,
     "metadata": {},
     "output_type": "execute_result"
    }
   ],
   "source": [
    "X[X.columns[X.isnull().any()]].isnull().sum()"
   ]
  },
  {
   "cell_type": "code",
   "execution_count": 9,
   "metadata": {
    "collapsed": true
   },
   "outputs": [],
   "source": [
    "X = X.fillna(X.mean())"
   ]
  },
  {
   "cell_type": "code",
   "execution_count": 10,
   "metadata": {},
   "outputs": [
    {
     "name": "stderr",
     "output_type": "stream",
     "text": [
      "/Users/pauldefusco/anaconda2/envs/py27/lib/python2.7/site-packages/sklearn/preprocessing/data.py:181: UserWarning: Numerical issues were encountered when scaling the data and might not be solved. The standard deviation of the data is probably very close to 0. \n",
      "  warnings.warn(\"Numerical issues were encountered \"\n"
     ]
    }
   ],
   "source": [
    "X_scaled = scale_data(X)\n",
    "X_normed = normalize_data(X)"
   ]
  },
  {
   "cell_type": "code",
   "execution_count": 11,
   "metadata": {
    "collapsed": true
   },
   "outputs": [],
   "source": [
    "y_scaled = X_scaled['price_y'].fillna(X_scaled['price_y'].mean())\n",
    "X_scaled = X_scaled[X_scaled.columns.drop(X_scaled[list(X_scaled.filter(regex='price'))])]"
   ]
  },
  {
   "cell_type": "code",
   "execution_count": 12,
   "metadata": {
    "collapsed": true
   },
   "outputs": [],
   "source": [
    "y_normed = X_normed['price_y'].fillna(X_normed['price_y'].mean())\n",
    "X_normed = X_normed[X_normed.columns.drop(X_normed[list(X_normed.filter(regex='price'))])]"
   ]
  },
  {
   "cell_type": "markdown",
   "metadata": {},
   "source": [
    "Step1: Simple Model with Linear Regression"
   ]
  },
  {
   "cell_type": "code",
   "execution_count": 13,
   "metadata": {
    "collapsed": true
   },
   "outputs": [],
   "source": [
    "def eval_metrics(scores):\n",
    "    print 'Training R2 Mean: ',scores['train_r2'].mean()\n",
    "    print 'Validation R2 Mean: ',scores['test_r2'].mean()\n",
    "    print 'Validation R2 STdev: ',scores['test_r2'].std()\n",
    "    print '--'\n",
    "    print 'Training RMSE Mean: ', np.sqrt(-scores['train_neg_mean_squared_error'].mean())\n",
    "    print 'Validation RMSE Mean: ', np.sqrt(-scores['test_neg_mean_squared_error'].mean())\n",
    "    print 'Validation RMSE STdev: ',scores['test_neg_mean_squared_error'].std()\n",
    "    print '--'\n",
    "    print 'Training MAE Mean: ', -scores['train_neg_mean_absolute_error'].mean()\n",
    "    print 'Validation MAE Mean: ', -scores['test_neg_mean_absolute_error'].mean()\n",
    "    print 'Validation MAE STdev: ',scores['test_neg_mean_absolute_error'].std()"
   ]
  },
  {
   "cell_type": "code",
   "execution_count": 14,
   "metadata": {
    "collapsed": true
   },
   "outputs": [],
   "source": [
    "X_train, X_test, y_train, y_test = train_test_split(X_normed,y_normed, test_size=0.3, random_state=42)"
   ]
  },
  {
   "cell_type": "code",
   "execution_count": 15,
   "metadata": {
    "collapsed": true
   },
   "outputs": [],
   "source": [
    "lin_reg = linear_model.LinearRegression(fit_intercept=True, normalize=False)"
   ]
  },
  {
   "cell_type": "code",
   "execution_count": 16,
   "metadata": {},
   "outputs": [
    {
     "name": "stderr",
     "output_type": "stream",
     "text": [
      "/Users/pauldefusco/anaconda2/envs/py27/lib/python2.7/site-packages/scipy/linalg/basic.py:1226: RuntimeWarning: internal gelsd driver lwork query error, required iwork dimension not returned. This is likely the result of LAPACK bug 0038, fixed in LAPACK 3.2.2 (released July 21, 2010). Falling back to 'gelss' driver.\n",
      "  warnings.warn(mesg, RuntimeWarning)\n"
     ]
    },
    {
     "data": {
      "text/plain": [
       "LinearRegression(copy_X=True, fit_intercept=True, n_jobs=1, normalize=False)"
      ]
     },
     "execution_count": 16,
     "metadata": {},
     "output_type": "execute_result"
    }
   ],
   "source": [
    "lin_reg.fit(X_train, y_train)"
   ]
  },
  {
   "cell_type": "code",
   "execution_count": 17,
   "metadata": {
    "collapsed": true
   },
   "outputs": [],
   "source": [
    "predictions_train = lin_reg.predict(X_train)"
   ]
  },
  {
   "cell_type": "code",
   "execution_count": 18,
   "metadata": {},
   "outputs": [
    {
     "name": "stdout",
     "output_type": "stream",
     "text": [
      "Training R2:  0.8052328756053723\n",
      "Training RMSE:  0.020178039250162327\n",
      "Training MAE:  0.014932284628758612\n"
     ]
    }
   ],
   "source": [
    "print 'Training R2: ',r2_score(y_train, predictions_train)\n",
    "print 'Training RMSE: ',np.sqrt(mean_squared_error(y_train, predictions_train))\n",
    "print 'Training MAE: ',mean_absolute_error(y_train, predictions_train)"
   ]
  },
  {
   "cell_type": "code",
   "execution_count": 19,
   "metadata": {
    "collapsed": true
   },
   "outputs": [],
   "source": [
    "tree_reg = DecisionTreeRegressor()"
   ]
  },
  {
   "cell_type": "code",
   "execution_count": 20,
   "metadata": {},
   "outputs": [
    {
     "data": {
      "text/plain": [
       "DecisionTreeRegressor(criterion='mse', max_depth=None, max_features=None,\n",
       "           max_leaf_nodes=None, min_impurity_decrease=0.0,\n",
       "           min_impurity_split=None, min_samples_leaf=1,\n",
       "           min_samples_split=2, min_weight_fraction_leaf=0.0,\n",
       "           presort=False, random_state=None, splitter='best')"
      ]
     },
     "execution_count": 20,
     "metadata": {},
     "output_type": "execute_result"
    }
   ],
   "source": [
    "tree_reg.fit(X_train,y_train)"
   ]
  },
  {
   "cell_type": "code",
   "execution_count": 21,
   "metadata": {
    "collapsed": true
   },
   "outputs": [],
   "source": [
    "predictions_train = tree_reg.predict(X_train)"
   ]
  },
  {
   "cell_type": "code",
   "execution_count": 22,
   "metadata": {},
   "outputs": [
    {
     "name": "stdout",
     "output_type": "stream",
     "text": [
      "Training R2:  0.9999942384987529\n",
      "Training RMSE:  0.00010974606730725905\n",
      "Training MAE:  5.253055300833797e-05\n"
     ]
    }
   ],
   "source": [
    "print 'Training R2: ',r2_score(y_train, predictions_train)\n",
    "print 'Training RMSE: ',np.sqrt(mean_squared_error(y_train, predictions_train))\n",
    "print 'Training MAE: ',mean_absolute_error(y_train, predictions_train)"
   ]
  },
  {
   "cell_type": "markdown",
   "metadata": {},
   "source": [
    "Using Cross Validation"
   ]
  },
  {
   "cell_type": "code",
   "execution_count": 23,
   "metadata": {
    "collapsed": true
   },
   "outputs": [],
   "source": [
    "scores_lin = cross_validate(lin_reg, X_train, y_train, cv=10, \n",
    "                         scoring=('r2', 'neg_mean_squared_error','neg_mean_absolute_error'))"
   ]
  },
  {
   "cell_type": "code",
   "execution_count": 24,
   "metadata": {
    "collapsed": true
   },
   "outputs": [],
   "source": [
    "scores_tree = cross_validate(tree_reg, X_train, y_train, cv=10, \n",
    "                         scoring=('r2', 'neg_mean_squared_error','neg_mean_absolute_error'))"
   ]
  },
  {
   "cell_type": "code",
   "execution_count": 26,
   "metadata": {},
   "outputs": [
    {
     "name": "stdout",
     "output_type": "stream",
     "text": [
      "Evaluation Metrics for Tree Regression with CV: \n",
      "Training R2 Mean:  0.9999944364550997\n",
      "Validation R2 Mean:  0.6584505835841109\n",
      "Validation R2 STdev:  0.06756815687093944\n",
      "--\n",
      "Training RMSE Mean:  0.00010783459029090394\n",
      "Validation RMSE Mean:  0.02650695889459948\n",
      "Validation RMSE STdev:  0.00010055107975661094\n",
      "--\n",
      "Training MAE Mean:  5.142451388893966e-05\n",
      "Validation MAE Mean:  0.01784008374166647\n",
      "Validation MAE STdev:  0.0008919983064126409\n",
      "----\n",
      "----\n",
      "Evaluation Metrics for Linear Regression with CV: \n",
      "Training R2 Mean:  0.8065661064488016\n",
      "Validation R2 Mean:  0.770063726322997\n",
      "Validation R2 STdev:  0.05023369370165097\n",
      "--\n",
      "Training RMSE Mean:  0.020106392199692652\n",
      "Validation RMSE Mean:  0.02169786741476903\n",
      "Validation RMSE STdev:  6.930837295680416e-05\n",
      "--\n",
      "Training MAE Mean:  0.014897680453666773\n",
      "Validation MAE Mean:  0.015711168672384816\n",
      "Validation MAE STdev:  0.0008798144139304789\n"
     ]
    }
   ],
   "source": [
    "print 'Evaluation Metrics for Linear Regression with CV: '\n",
    "eval_metrics(scores_lin)\n",
    "print '----'\n",
    "print '----'\n",
    "print 'Evaluation Metrics for Tree Regression with CV: '\n",
    "eval_metrics(scores_tree)"
   ]
  },
  {
   "cell_type": "code",
   "execution_count": 86,
   "metadata": {
    "collapsed": true
   },
   "outputs": [],
   "source": [
    "#plots the RMSE for train and validation as a function of the number of instances in the training set\n",
    "def plot_rmse_instances(clf, X_train, y_train):\n",
    "\n",
    "    train_errors, validation_errors = [],[]\n",
    "    \n",
    "    n = 2\n",
    "    \n",
    "    for i in range(n+1,len(X_train)):\n",
    "        \n",
    "        cv_results = cross_validate(clf,X_train[:i],y_train[:i],\n",
    "                                   scoring='neg_mean_squared_error',\n",
    "                                   cv=n)\n",
    "        train_score = np.sqrt(-cv_results['train_score'].mean())\n",
    "        val_score = np.sqrt(-cv_results['test_score'].mean())\n",
    "        \n",
    "        train_errors.append(train_score)\n",
    "        validation_errors.append(val_score)    \n",
    "    \n",
    "    plt.plot(np.sqrt(train_errors), \"r-+\", linewidth=2, label=\"train\")\n",
    "    plt.plot(np.sqrt(validation_errors), \"b-\", linewidth=2, label='validation')\n",
    "    plt.xlabel('Number of Instances')\n",
    "    plt.ylabel('RMSE')\n",
    "    plt.title('Train and Val RMSE\\'s as a Function of Number of Instances')\n",
    "    plt.show()    "
   ]
  },
  {
   "cell_type": "code",
   "execution_count": 87,
   "metadata": {},
   "outputs": [
    {
     "data": {
      "image/png": "[encoded data removed]",
      "text/plain": [
       "<Figure size 432x288 with 1 Axes>"
      ]
     },
     "metadata": {},
     "output_type": "display_data"
    }
   ],
   "source": [
    "lin_reg = linear_model.LinearRegression(fit_intercept=True, \n",
    "                                        normalize=False)\n",
    "plot_rmse_instances(lin_reg, X_train, y_train)"
   ]
  },
  {
   "cell_type": "code",
   "execution_count": 119,
   "metadata": {},
   "outputs": [],
   "source": [
    "#Plot the RMSE for training and validation as a function of the number of features used\n",
    "#ranked features is a list of features sorted by importance - descending\n",
    "def plot_rmse_features(clf, X_train, y_train, ranked_features):\n",
    "    \n",
    "    X_train, X_val, y_train, y_val = train_test_split(X_train[ranked_features], y_train, test_size=0.3)\n",
    "    \n",
    "    train_errors, validation_errors = [],[]\n",
    "    \n",
    "    for i in range(3,len(ranked_features)):\n",
    "        clf.fit(X_train.ix[:,2:i],y_train)\n",
    "        y_train_predict = clf.predict(X_train.ix[:,2:i])\n",
    "        y_val_predict = clf.predict(X_val.ix[:,2:i])\n",
    "        train_errors.append(mean_squared_error(y_train_predict, y_train))\n",
    "        validation_errors.append(mean_squared_error(y_val_predict, y_val))\n",
    "    \n",
    "    plt.plot(np.sqrt(train_errors), \"r-+\", linewidth=2, label=\"train\")\n",
    "    plt.plot(np.sqrt(validation_errors), \"b-\", linewidth=2, label='validation')\n",
    "    plt.xlabel('Number of Features')\n",
    "    plt.ylabel('RMSE')\n",
    "    plt.title('Train and Val RMSE\\'s as a Function of Number of Features')\n",
    "    plt.show()    "
   ]
  },
  {
   "cell_type": "code",
   "execution_count": 143,
   "metadata": {},
   "outputs": [
    {
     "name": "stderr",
     "output_type": "stream",
     "text": [
      "/Users/pauldefusco/anaconda2/envs/py27/lib/python2.7/site-packages/ipykernel_launcher.py:10: DeprecationWarning: \n",
      ".ix is deprecated. Please use\n",
      ".loc for label based indexing or\n",
      ".iloc for positional indexing\n",
      "\n",
      "See the documentation here:\n",
      "http://pandas.pydata.org/pandas-docs/stable/indexing.html#ix-indexer-is-deprecated\n",
      "  # Remove the CWD from sys.path while we load stuff.\n",
      "/Users/pauldefusco/anaconda2/envs/py27/lib/python2.7/site-packages/ipykernel_launcher.py:12: DeprecationWarning: \n",
      ".ix is deprecated. Please use\n",
      ".loc for label based indexing or\n",
      ".iloc for positional indexing\n",
      "\n",
      "See the documentation here:\n",
      "http://pandas.pydata.org/pandas-docs/stable/indexing.html#ix-indexer-is-deprecated\n",
      "  if sys.path[0] == '':\n"
     ]
    },
    {
     "data": {
      "image/png": "[encoded data removed]",
      "text/plain": [
       "<Figure size 432x288 with 1 Axes>"
      ]
     },
     "metadata": {},
     "output_type": "display_data"
    }
   ],
   "source": [
    "plot_rmse_features(lin_reg, X_normed, y_normed,X_normed.columns)"
   ]
  },
  {
   "cell_type": "code",
   "execution_count": 135,
   "metadata": {},
   "outputs": [
    {
     "data": {
      "text/plain": [
       "RFECV(cv=5,\n",
       "   estimator=LinearRegression(copy_X=True, fit_intercept=True, n_jobs=1, normalize=False),\n",
       "   n_jobs=1, scoring='neg_mean_squared_error', step=1, verbose=0)"
      ]
     },
     "execution_count": 135,
     "metadata": {},
     "output_type": "execute_result"
    }
   ],
   "source": [
    "estimator = linear_model.LinearRegression(fit_intercept=True, normalize=False)\n",
    "selector = RFECV(estimator, step=1, cv=5, scoring='neg_mean_squared_error')\n",
    "selector.fit(X_normed, y_normed)"
   ]
  },
  {
   "cell_type": "code",
   "execution_count": 136,
   "metadata": {},
   "outputs": [
    {
     "name": "stdout",
     "output_type": "stream",
     "text": [
      "Optimal number of features : 119\n"
     ]
    }
   ],
   "source": [
    "print(\"Optimal number of features : %d\" % selector.n_features_)"
   ]
  },
  {
   "cell_type": "code",
   "execution_count": 137,
   "metadata": {},
   "outputs": [
    {
     "data": {
      "image/png": "[encoded data removed]",
      "text/plain": [
       "<Figure size 432x288 with 1 Axes>"
      ]
     },
     "metadata": {},
     "output_type": "display_data"
    }
   ],
   "source": [
    "# Plot number of features VS. cross-validation scores\n",
    "plt.figure()\n",
    "plt.xlabel(\"Number of features selected\")\n",
    "plt.ylabel(\"Cross validation RMSE score\")\n",
    "plt.title(\"Optimal number of features : %d\" % selector.n_features_)\n",
    "plt.plot(range(1, len(selector.grid_scores_) + 1), np.sqrt(-selector.grid_scores_))\n",
    "plt.show()"
   ]
  },
  {
   "cell_type": "code",
   "execution_count": 140,
   "metadata": {},
   "outputs": [],
   "source": [
    "X_new = selector.transform(X_normed)"
   ]
  },
  {
   "cell_type": "code",
   "execution_count": 148,
   "metadata": {},
   "outputs": [
    {
     "data": {
      "text/plain": [
       "array([ 1,  1,  1,  1,  1,  1,  1,  1,  1,  1,  1,  1,  4,  1,  1,  1,  1,\n",
       "        1,  3,  1,  2,  8,  1,  1,  1,  1,  1,  1,  1,  1,  9,  1,  1,  1,\n",
       "        1,  1, 11,  1,  1,  1,  1,  1,  1,  1,  1,  1,  1,  1,  1,  1,  1,\n",
       "        1,  1,  1,  1,  1,  1,  1,  1,  1,  1,  1,  1,  1,  1,  1,  1,  1,\n",
       "        1,  1,  1,  1,  1,  1,  1,  1,  1,  1,  1,  1,  1,  1,  1,  1,  1,\n",
       "        1,  7,  1,  1,  1,  1,  1,  1,  1,  1,  1,  1,  1,  1,  1,  1, 12,\n",
       "        1,  6,  1,  1,  1,  1,  1,  1,  1,  1,  1,  1,  1,  5,  1,  1,  1,\n",
       "        1,  1,  1,  1,  1,  1,  1, 10,  1,  1,  1])"
      ]
     },
     "execution_count": 148,
     "metadata": {},
     "output_type": "execute_result"
    }
   ],
   "source": [
    "selector.ranking_"
   ]
  },
  {
   "cell_type": "code",
   "execution_count": null,
   "metadata": {
    "collapsed": true
   },
   "outputs": [],
   "source": []
  },
  {
   "cell_type": "code",
   "execution_count": null,
   "metadata": {
    "collapsed": true
   },
   "outputs": [],
   "source": []
  },
  {
   "cell_type": "code",
   "execution_count": null,
   "metadata": {
    "collapsed": true
   },
   "outputs": [],
   "source": []
  },
  {
   "cell_type": "code",
   "execution_count": null,
   "metadata": {
    "collapsed": true
   },
   "outputs": [],
   "source": []
  },
  {
   "cell_type": "markdown",
   "metadata": {},
   "source": [
    "Now let's try Linear Regression with CV again and let's see if we have any improvements with the transformed version of X"
   ]
  },
  {
   "cell_type": "code",
   "execution_count": 141,
   "metadata": {
    "collapsed": true
   },
   "outputs": [],
   "source": [
    "X_train, X_test, y_train, y_test = train_test_split(X_new,y_normed, test_size=0.3, random_state=42)"
   ]
  },
  {
   "cell_type": "code",
   "execution_count": 142,
   "metadata": {},
   "outputs": [
    {
     "name": "stdout",
     "output_type": "stream",
     "text": [
      "Evaluation Metrics for Linear Regression with CV: \n",
      "Training R2 Mean:  0.8055686883182986\n",
      "Validation R2 Mean:  0.7708664275853888\n",
      "Validation R2 STdev:  0.049717889359141614\n",
      "--\n",
      "Training RMSE Mean:  0.020158185017961117\n",
      "Validation RMSE Mean:  0.02166134059759201\n",
      "Validation RMSE STdev:  6.855200939550681e-05\n",
      "--\n",
      "Training MAE Mean:  0.01492765077950654\n",
      "Validation MAE Mean:  0.015699674670215432\n",
      "Validation MAE STdev:  0.0008682727118683468\n"
     ]
    }
   ],
   "source": [
    "lin_reg = linear_model.LinearRegression(fit_intercept=True, normalize=False)\n",
    "scores_lin = cross_validate(lin_reg, X_train, y_train, cv=10, \n",
    "                         scoring=('r2', 'neg_mean_squared_error','neg_mean_absolute_error'))\n",
    "print 'Evaluation Metrics for Linear Regression with CV: '\n",
    "eval_metrics(scores_lin)"
   ]
  },
  {
   "cell_type": "markdown",
   "metadata": {},
   "source": [
    "The Validation Metrics have all (slightly) improved!"
   ]
  },
  {
   "cell_type": "code",
   "execution_count": null,
   "metadata": {
    "collapsed": true
   },
   "outputs": [],
   "source": []
  },
  {
   "cell_type": "code",
   "execution_count": null,
   "metadata": {
    "collapsed": true
   },
   "outputs": [],
   "source": []
  },
  {
   "cell_type": "code",
   "execution_count": null,
   "metadata": {
    "collapsed": true
   },
   "outputs": [],
   "source": []
  },
  {
   "cell_type": "code",
   "execution_count": null,
   "metadata": {
    "collapsed": true
   },
   "outputs": [],
   "source": []
  },
  {
   "cell_type": "code",
   "execution_count": null,
   "metadata": {
    "collapsed": true
   },
   "outputs": [],
   "source": []
  },
  {
   "cell_type": "code",
   "execution_count": null,
   "metadata": {
    "collapsed": true
   },
   "outputs": [],
   "source": []
  },
  {
   "cell_type": "markdown",
   "metadata": {},
   "source": [
    "Now trying out RandomForest Regression"
   ]
  },
  {
   "cell_type": "code",
   "execution_count": 26,
   "metadata": {
    "collapsed": true
   },
   "outputs": [],
   "source": [
    "for_reg = RandomForestRegressor()"
   ]
  },
  {
   "cell_type": "code",
   "execution_count": 27,
   "metadata": {},
   "outputs": [
    {
     "data": {
      "text/plain": [
       "RandomForestRegressor(bootstrap=True, criterion='mse', max_depth=None,\n",
       "           max_features='auto', max_leaf_nodes=None,\n",
       "           min_impurity_decrease=0.0, min_impurity_split=None,\n",
       "           min_samples_leaf=1, min_samples_split=2,\n",
       "           min_weight_fraction_leaf=0.0, n_estimators=10, n_jobs=1,\n",
       "           oob_score=False, random_state=None, verbose=0, warm_start=False)"
      ]
     },
     "execution_count": 27,
     "metadata": {},
     "output_type": "execute_result"
    }
   ],
   "source": [
    "for_reg.fit(X_train,y_train)"
   ]
  },
  {
   "cell_type": "code",
   "execution_count": 28,
   "metadata": {
    "collapsed": true
   },
   "outputs": [],
   "source": [
    "scores_lin = cross_validate(for_reg, X_train, y_train, cv=10, \n",
    "                         scoring=('r2', 'neg_mean_squared_error','neg_mean_absolute_error'))"
   ]
  },
  {
   "cell_type": "code",
   "execution_count": 29,
   "metadata": {},
   "outputs": [
    {
     "name": "stdout",
     "output_type": "stream",
     "text": [
      "Evaluation Metrics for Random Forest Regression with CV: \n",
      "Training R2 Mean:  0.9688966921801055\n",
      "Validation R2 Mean:  0.8360697550671903\n",
      "Validation R2 STdev:  0.02378024819449004\n",
      "--\n",
      "Training RMSE Mean:  0.008062490320301822\n",
      "Validation RMSE Mean:  0.018408082728767365\n",
      "Validation RMSE STdev:  4.009178611799341e-05\n",
      "--\n",
      "Training MAE Mean:  0.0052494971649578465\n",
      "Validation MAE Mean:  0.012840058210135613\n",
      "Validation MAE STdev:  0.0006534224620911076\n"
     ]
    }
   ],
   "source": [
    "print 'Evaluation Metrics for Random Forest Regression with CV: '\n",
    "eval_metrics(scores_lin)"
   ]
  },
  {
   "cell_type": "markdown",
   "metadata": {},
   "source": [
    "The Random Forest Regressor Does very well on both Training and Validation - a promising model!"
   ]
  },
  {
   "cell_type": "code",
   "execution_count": 30,
   "metadata": {
    "collapsed": true
   },
   "outputs": [],
   "source": [
    "param_grid = [\n",
    "    {'n_estimators':[3,10,30], 'max_features':[2,4,6,8,10,12]},\n",
    "    {'bootstrap': [True,False], 'n_estimators':[3,10], 'max_features':[2,4,6,8,10,12]},\n",
    "]"
   ]
  },
  {
   "cell_type": "code",
   "execution_count": 31,
   "metadata": {
    "collapsed": true
   },
   "outputs": [],
   "source": [
    "new_for_reg = RandomForestRegressor()"
   ]
  },
  {
   "cell_type": "code",
   "execution_count": 32,
   "metadata": {
    "collapsed": true
   },
   "outputs": [],
   "source": [
    "gs = GridSearchCV(new_for_reg, param_grid, cv=4, scoring='neg_mean_absolute_error')"
   ]
  },
  {
   "cell_type": "code",
   "execution_count": 33,
   "metadata": {},
   "outputs": [
    {
     "data": {
      "text/plain": [
       "GridSearchCV(cv=4, error_score='raise',\n",
       "       estimator=RandomForestRegressor(bootstrap=True, criterion='mse', max_depth=None,\n",
       "           max_features='auto', max_leaf_nodes=None,\n",
       "           min_impurity_decrease=0.0, min_impurity_split=None,\n",
       "           min_samples_leaf=1, min_samples_split=2,\n",
       "           min_weight_fraction_leaf=0.0, n_estimators=10, n_jobs=1,\n",
       "           oob_score=False, random_state=None, verbose=0, warm_start=False),\n",
       "       fit_params=None, iid=True, n_jobs=1,\n",
       "       param_grid=[{'n_estimators': [3, 10, 30], 'max_features': [2, 4, 6, 8, 10, 12]}, {'n_estimators': [3, 10], 'max_features': [2, 4, 6, 8, 10, 12], 'bootstrap': [True, False]}],\n",
       "       pre_dispatch='2*n_jobs', refit=True, return_train_score='warn',\n",
       "       scoring='neg_mean_absolute_error', verbose=0)"
      ]
     },
     "execution_count": 33,
     "metadata": {},
     "output_type": "execute_result"
    }
   ],
   "source": [
    "gs.fit(X_train, y_train)"
   ]
  },
  {
   "cell_type": "code",
   "execution_count": 34,
   "metadata": {},
   "outputs": [
    {
     "data": {
      "text/plain": [
       "{'bootstrap': False, 'max_features': 12, 'n_estimators': 10}"
      ]
     },
     "execution_count": 34,
     "metadata": {},
     "output_type": "execute_result"
    }
   ],
   "source": [
    "gs.best_params_"
   ]
  },
  {
   "cell_type": "code",
   "execution_count": 35,
   "metadata": {},
   "outputs": [
    {
     "data": {
      "text/plain": [
       "RandomForestRegressor(bootstrap=False, criterion='mse', max_depth=None,\n",
       "           max_features=12, max_leaf_nodes=None, min_impurity_decrease=0.0,\n",
       "           min_impurity_split=None, min_samples_leaf=1,\n",
       "           min_samples_split=2, min_weight_fraction_leaf=0.0,\n",
       "           n_estimators=10, n_jobs=1, oob_score=False, random_state=None,\n",
       "           verbose=0, warm_start=False)"
      ]
     },
     "execution_count": 35,
     "metadata": {},
     "output_type": "execute_result"
    }
   ],
   "source": [
    "gs.best_estimator_"
   ]
  },
  {
   "cell_type": "code",
   "execution_count": 36,
   "metadata": {
    "collapsed": true
   },
   "outputs": [],
   "source": [
    "gs_results = gs.cv_results_"
   ]
  },
  {
   "cell_type": "code",
   "execution_count": 37,
   "metadata": {},
   "outputs": [
    {
     "data": {
      "text/plain": [
       "['std_train_score',\n",
       " 'rank_test_score',\n",
       " 'split1_train_score',\n",
       " 'param_bootstrap',\n",
       " 'split2_train_score',\n",
       " 'split3_test_score',\n",
       " 'std_score_time',\n",
       " 'split2_test_score',\n",
       " 'mean_score_time',\n",
       " 'mean_fit_time',\n",
       " 'split3_train_score',\n",
       " 'split0_train_score',\n",
       " 'std_test_score',\n",
       " 'mean_train_score',\n",
       " 'split0_test_score',\n",
       " 'mean_test_score',\n",
       " 'param_max_features',\n",
       " 'params',\n",
       " 'std_fit_time',\n",
       " 'param_n_estimators',\n",
       " 'split1_test_score']"
      ]
     },
     "execution_count": 37,
     "metadata": {},
     "output_type": "execute_result"
    }
   ],
   "source": [
    "gs_results.keys()"
   ]
  },
  {
   "cell_type": "code",
   "execution_count": 38,
   "metadata": {},
   "outputs": [
    {
     "name": "stdout",
     "output_type": "stream",
     "text": [
      "Avg Mean Train Score:  0.005256428554912996\n",
      "Avg Mean Val Score:  0.017611165014456056\n"
     ]
    },
    {
     "name": "stderr",
     "output_type": "stream",
     "text": [
      "/Users/pauldefusco/anaconda2/envs/py27/lib/python2.7/site-packages/sklearn/utils/deprecation.py:122: FutureWarning: You are accessing a training score ('mean_train_score'), which will not be available by default any more in 0.21. If you need training scores, please set return_train_score=True\n",
      "  warnings.warn(*warn_args, **warn_kwargs)\n"
     ]
    }
   ],
   "source": [
    "print 'Avg Mean Train Score: ', -gs_results['mean_train_score'].mean()\n",
    "print 'Avg Mean Val Score: ', -gs_results['mean_test_score'].mean()"
   ]
  },
  {
   "cell_type": "code",
   "execution_count": 39,
   "metadata": {
    "collapsed": true
   },
   "outputs": [],
   "source": [
    "imp = gs.best_estimator_.feature_importances_"
   ]
  },
  {
   "cell_type": "code",
   "execution_count": 40,
   "metadata": {},
   "outputs": [
    {
     "data": {
      "text/html": [
       "<div>\n",
       "<style scoped>\n",
       "    .dataframe tbody tr th:only-of-type {\n",
       "        vertical-align: middle;\n",
       "    }\n",
       "\n",
       "    .dataframe tbody tr th {\n",
       "        vertical-align: top;\n",
       "    }\n",
       "\n",
       "    .dataframe thead th {\n",
       "        text-align: right;\n",
       "    }\n",
       "</style>\n",
       "<table border=\"1\" class=\"dataframe\">\n",
       "  <thead>\n",
       "    <tr style=\"text-align: right;\">\n",
       "      <th></th>\n",
       "      <th>Feature</th>\n",
       "      <th>Importance</th>\n",
       "    </tr>\n",
       "  </thead>\n",
       "  <tbody>\n",
       "    <tr>\n",
       "      <th>0</th>\n",
       "      <td>bedrooms</td>\n",
       "      <td>0.158367</td>\n",
       "    </tr>\n",
       "    <tr>\n",
       "      <th>1</th>\n",
       "      <td>bathrooms</td>\n",
       "      <td>0.099786</td>\n",
       "    </tr>\n",
       "    <tr>\n",
       "      <th>2</th>\n",
       "      <td>beds</td>\n",
       "      <td>0.074007</td>\n",
       "    </tr>\n",
       "    <tr>\n",
       "      <th>3</th>\n",
       "      <td>uses_amex</td>\n",
       "      <td>0.073786</td>\n",
       "    </tr>\n",
       "    <tr>\n",
       "      <th>4</th>\n",
       "      <td>accommodates</td>\n",
       "      <td>0.056313</td>\n",
       "    </tr>\n",
       "  </tbody>\n",
       "</table>\n",
       "</div>"
      ],
      "text/plain": [
       "        Feature  Importance\n",
       "0      bedrooms    0.158367\n",
       "1     bathrooms    0.099786\n",
       "2          beds    0.074007\n",
       "3     uses_amex    0.073786\n",
       "4  accommodates    0.056313"
      ]
     },
     "execution_count": 40,
     "metadata": {},
     "output_type": "execute_result"
    }
   ],
   "source": [
    "from operator import itemgetter\n",
    "pd.DataFrame(sorted(zip(X.columns, imp),reverse=True,key=itemgetter(1)), columns=['Feature', 'Importance']).head()"
   ]
  },
  {
   "cell_type": "markdown",
   "metadata": {},
   "source": [
    "Now testing with Test Dataset:"
   ]
  },
  {
   "cell_type": "code",
   "execution_count": 41,
   "metadata": {
    "collapsed": true
   },
   "outputs": [],
   "source": [
    "best_model = gs.best_estimator_"
   ]
  },
  {
   "cell_type": "code",
   "execution_count": 42,
   "metadata": {
    "collapsed": true
   },
   "outputs": [],
   "source": [
    "test_predictions = best_model.predict(X_test)"
   ]
  },
  {
   "cell_type": "code",
   "execution_count": 43,
   "metadata": {},
   "outputs": [
    {
     "name": "stdout",
     "output_type": "stream",
     "text": [
      "Test R2:  0.801508896491195\n",
      "Test RMSE:  0.020707562761351526\n",
      "Test MAE:  0.014174057624753277\n"
     ]
    }
   ],
   "source": [
    "print 'Test R2: ',r2_score(y_test, test_predictions)\n",
    "print 'Test RMSE: ',np.sqrt(mean_squared_error(y_test, test_predictions))\n",
    "print 'Test MAE: ',mean_absolute_error(y_test, test_predictions)"
   ]
  },
  {
   "cell_type": "markdown",
   "metadata": {
    "collapsed": true
   },
   "source": [
    "Now trying SVR"
   ]
  },
  {
   "cell_type": "code",
   "execution_count": 44,
   "metadata": {
    "collapsed": true
   },
   "outputs": [],
   "source": [
    "sv_reg = SVR()"
   ]
  },
  {
   "cell_type": "code",
   "execution_count": 45,
   "metadata": {
    "collapsed": true
   },
   "outputs": [],
   "source": [
    "param_grid = [\n",
    "    {'C':[i for i in range(1,20,2)], 'epsilon':[i for i in range(1,18,1)], 'kernel':['linear', 'poly', 'rbf'],\n",
    "    'degree':[2,3,4]},  \n",
    "]\n",
    "#"
   ]
  },
  {
   "cell_type": "code",
   "execution_count": 46,
   "metadata": {
    "collapsed": true
   },
   "outputs": [],
   "source": [
    "gs = GridSearchCV(sv_reg, param_grid, cv=4, scoring='neg_mean_squared_error')"
   ]
  },
  {
   "cell_type": "code",
   "execution_count": 47,
   "metadata": {},
   "outputs": [
    {
     "data": {
      "text/plain": [
       "GridSearchCV(cv=4, error_score='raise',\n",
       "       estimator=SVR(C=1.0, cache_size=200, coef0=0.0, degree=3, epsilon=0.1, gamma='auto',\n",
       "  kernel='rbf', max_iter=-1, shrinking=True, tol=0.001, verbose=False),\n",
       "       fit_params=None, iid=True, n_jobs=1,\n",
       "       param_grid=[{'epsilon': [1, 2, 3, 4, 5, 6, 7, 8, 9, 10, 11, 12, 13, 14, 15, 16, 17], 'C': [1, 3, 5, 7, 9, 11, 13, 15, 17, 19], 'degree': [2, 3, 4], 'kernel': ['linear', 'poly', 'rbf']}],\n",
       "       pre_dispatch='2*n_jobs', refit=True, return_train_score='warn',\n",
       "       scoring='neg_mean_squared_error', verbose=0)"
      ]
     },
     "execution_count": 47,
     "metadata": {},
     "output_type": "execute_result"
    }
   ],
   "source": [
    "gs.fit(X_train, y_train)"
   ]
  },
  {
   "cell_type": "code",
   "execution_count": 48,
   "metadata": {},
   "outputs": [
    {
     "name": "stdout",
     "output_type": "stream",
     "text": [
      "Avg Mean Train Score:  0.008605293238028168\n",
      "Avg Mean Val Score:  0.008602391112501514\n"
     ]
    }
   ],
   "source": [
    "gs_results = gs.cv_results_\n",
    "print 'Avg Mean Train Score: ', -gs_results['mean_train_score'].mean()\n",
    "print 'Avg Mean Val Score: ', -gs_results['mean_test_score'].mean()"
   ]
  },
  {
   "cell_type": "code",
   "execution_count": 49,
   "metadata": {},
   "outputs": [
    {
     "data": {
      "text/plain": [
       "{'C': 1, 'degree': 2, 'epsilon': 17, 'kernel': 'linear'}"
      ]
     },
     "execution_count": 49,
     "metadata": {},
     "output_type": "execute_result"
    }
   ],
   "source": [
    "gs.best_params_"
   ]
  },
  {
   "cell_type": "markdown",
   "metadata": {},
   "source": [
    "SVR did not give satisfactory results"
   ]
  },
  {
   "cell_type": "code",
   "execution_count": 50,
   "metadata": {
    "collapsed": true
   },
   "outputs": [],
   "source": [
    "#Plotting Results"
   ]
  },
  {
   "cell_type": "code",
   "execution_count": 51,
   "metadata": {
    "collapsed": true
   },
   "outputs": [],
   "source": [
    "def plot_residuals(X,y,predictions):\n",
    "    residuals = y - predictions\n",
    "    \n",
    "    #Residuals Plot\n",
    "    plt.scatter(X.index, residuals, alpha=0.12)\n",
    "    plt.xlabel('Listing')\n",
    "    plt.ylabel('Price Residual')\n",
    "    plt.show()"
   ]
  },
  {
   "cell_type": "code",
   "execution_count": 52,
   "metadata": {
    "collapsed": true
   },
   "outputs": [],
   "source": [
    "def plot_predictions(y,predictions):\n",
    "    \n",
    "    #to do: sort predictions by different variables such as zipcode, etc.\n",
    "    \n",
    "    plt.scatter(predictions, y, alpha=0.1)\n",
    "    plt.ylabel('Price')\n",
    "    plt.xlabel('Predictions')\n",
    "    plt.show()"
   ]
  },
  {
   "cell_type": "code",
   "execution_count": 53,
   "metadata": {
    "collapsed": true
   },
   "outputs": [],
   "source": [
    "def plot_partial_residuals(model_results,X,y,predictions):\n",
    "    #Partial Residuals\n",
    "    indx = [i for i in range(0,len(X.columns))]\n",
    "    residuals = y - predictions\n",
    "    \n",
    "    fig, axes = plt.subplots(nrows = len(X.columns), ncols = 3, sharex = False, sharey= False, figsize = (18,len(X.columns)*2.5))\n",
    "    axes_list = [item for sublist in axes for item in sublist] \n",
    "    \n",
    "    for i,val in enumerate(X.columns):\n",
    "        ax = axes_list.pop(0)\n",
    "        partial_residual = residuals + X[val]*model_results.coef_[i]\n",
    "        ax.plot(X[val], partial_residual, 'o', alpha=0.1)\n",
    "        ax.set_title(str(val))\n",
    "        ax.set_ylabel('Partial Residuals')\n",
    "    \n",
    "    for ax in axes_list:\n",
    "        ax.remove()"
   ]
  },
  {
   "cell_type": "code",
   "execution_count": 54,
   "metadata": {},
   "outputs": [
    {
     "data": {
      "image/png": "[encoded data removed]",
      "text/plain": [
       "<Figure size 432x288 with 1 Axes>"
      ]
     },
     "metadata": {},
     "output_type": "display_data"
    }
   ],
   "source": [
    "plot_residuals(X_test,y_test,test_predictions)"
   ]
  },
  {
   "cell_type": "code",
   "execution_count": 55,
   "metadata": {},
   "outputs": [
    {
     "data": {
      "image/png": "[encoded data removed]",
      "text/plain": [
       "<Figure size 432x288 with 1 Axes>"
      ]
     },
     "metadata": {},
     "output_type": "display_data"
    }
   ],
   "source": [
    "plot_predictions(y_test,test_predictions)"
   ]
  },
  {
   "cell_type": "markdown",
   "metadata": {},
   "source": [
    "Now Redoing Linear and Nonlinear Regressions but this time with Interactions"
   ]
  },
  {
   "cell_type": "code",
   "execution_count": 56,
   "metadata": {
    "collapsed": true
   },
   "outputs": [],
   "source": [
    "def r2_est(X,y):\n",
    "    linear_regression = linear_model.LinearRegression(normalize=True, fit_intercept=True)\n",
    "    return r2_score(y, linear_regression.fit(X,y).predict(X))"
   ]
  },
  {
   "cell_type": "code",
   "execution_count": 57,
   "metadata": {
    "collapsed": true
   },
   "outputs": [],
   "source": [
    "def detect_interactions(X,y):\n",
    "    \n",
    "    #Baseline\n",
    "    r2_impact = list()\n",
    "    baseline = r2_est(X,y)\n",
    "    for j in range(X.shape[1]):\n",
    "        selection = [i for i in range(X.shape[1]) if i!=j]\n",
    "        r2_impact.append(((r2_est(X,y)-(r2_est(X.values[:,selection],y)),X.columns[j])))\n",
    "    \n",
    "    #Interaction comparison vs Baseline\n",
    "    create_interactions = PolynomialFeatures(degree=2, interaction_only=True, include_bias=False)\n",
    "    X_i = create_interactions.fit_transform(X)\n",
    "    main_effects = create_interactions.n_input_features_\n",
    "    \n",
    "    #Now calculating the interactions:\n",
    "    a = []\n",
    "    b = []\n",
    "    inc = []\n",
    "    \n",
    "    for k, effect in enumerate(create_interactions.powers_[(main_effects):]):\n",
    "        A, B = X.columns[effect==1]\n",
    "        increment = r2_est(X_i[:,list(range(0,main_effects))+[main_effects+k]],y) - baseline\n",
    "        if increment > 0.01:\n",
    "            print (\"Interaction: var %8s and var %8s R2: %5.3f\" %(A,B,increment))\n",
    "            a.append(A)\n",
    "            b.append(B)\n",
    "            inc.append(increment)\n",
    "    \n",
    "    increments = pd.DataFrame({\n",
    "        \"Var1\":a,\n",
    "        \"Var2\":b,\n",
    "        \"Increment\": inc\n",
    "    }, columns = ['Var1','Var2','Increment'])\n",
    "    \n",
    "    return increments"
   ]
  },
  {
   "cell_type": "code",
   "execution_count": 58,
   "metadata": {
    "collapsed": true
   },
   "outputs": [],
   "source": [
    "def add_interactions(X, increments):\n",
    "    for i,k in zip(increments.Var1, increments.Var2):\n",
    "        new_int_feature = str(i) + '*' + str(k)\n",
    "        X[new_int_feature] = X[i] * X[k]\n",
    "    return X"
   ]
  },
  {
   "cell_type": "code",
   "execution_count": 59,
   "metadata": {},
   "outputs": [
    {
     "name": "stdout",
     "output_type": "stream",
     "text": [
      "Interaction: var accommodates and var bathrooms R2: 0.014\n",
      "Interaction: var accommodates and var bedrooms R2: 0.016\n",
      "Interaction: var accommodates and var     beds R2: 0.016\n",
      "Interaction: var bathrooms and var bedrooms R2: 0.010\n",
      "Interaction: var bathrooms and var     beds R2: 0.011\n",
      "Interaction: var bathrooms and var park_count_3km R2: 0.011\n",
      "Interaction: var bathrooms and var park_count_5km R2: 0.014\n",
      "Interaction: var bedrooms and var     beds R2: 0.013\n",
      "Interaction: var bedrooms and var events_within_5_km R2: 0.010\n",
      "Interaction: var bedrooms and var park_count_5km R2: 0.011\n",
      "Interaction: var availability_90 and var park_count_10km R2: 0.011\n",
      "Interaction: var description_TextLength and var park_count_5km R2: 0.011\n",
      "Interaction: var description_TextLength and var park_count_10km R2: 0.011\n",
      "Interaction: var description_TextWordsPerc and var description_TextPuncPerc R2: 0.012\n",
      "Interaction: var description_TextWordsPerc and var has_Essentials R2: 0.012\n",
      "Interaction: var description_TextWordsPerc and var has_Smoke_Detector R2: 0.012\n",
      "Interaction: var description_TextWordsPerc and var has_Wireless_Internet R2: 0.015\n",
      "Interaction: var description_TextWordsPerc and var uses_email R2: 0.014\n",
      "Interaction: var description_TextWordsPerc and var host_response_time_enc R2: 0.011\n",
      "Interaction: var description_TextWordsPerc and var calendar_updated_enc R2: 0.012\n",
      "Interaction: var description_TextWordsPerc and var bed_type_enc R2: 0.020\n",
      "Interaction: var description_TextWordsPerc and var zipcode_cleansed_enc R2: 0.015\n",
      "Interaction: var description_TextWordsPerc and var host_has_profile_pic_bin R2: 0.020\n",
      "Interaction: var description_TextWordsPerc and var distance_of_closest_park R2: 0.014\n",
      "Interaction: var description_TextWordsPerc and var park_count_1km R2: 0.013\n",
      "Interaction: var description_TextWordsPerc and var park_count_3km R2: 0.017\n",
      "Interaction: var description_TextWordsPerc and var park_count_5km R2: 0.022\n",
      "Interaction: var description_TextWordsPerc and var park_count_10km R2: 0.030\n",
      "Interaction: var description_TextWordsPerc and var park_count_16km R2: 0.025\n",
      "Interaction: var description_TextPuncPerc and var description_LexicalDiversity R2: 0.011\n",
      "Interaction: var description_LexicalDiversity and var park_count_5km R2: 0.012\n",
      "Interaction: var description_LexicalDiversity and var park_count_10km R2: 0.012\n",
      "Interaction: var has_Essentials and var has_Wireless_Internet R2: 0.010\n",
      "Interaction: var has_Essentials and var calendar_updated_enc R2: 0.011\n",
      "Interaction: var has_Essentials and var bed_type_enc R2: 0.011\n",
      "Interaction: var has_Essentials and var host_has_profile_pic_bin R2: 0.012\n",
      "Interaction: var has_Essentials and var park_count_3km R2: 0.012\n",
      "Interaction: var has_Essentials and var park_count_5km R2: 0.015\n",
      "Interaction: var has_Essentials and var park_count_10km R2: 0.017\n",
      "Interaction: var has_Essentials and var park_count_16km R2: 0.014\n",
      "Interaction: var has_Carbon_Monoxide_Detector and var park_count_10km R2: 0.011\n",
      "Interaction: var has_Washer and var park_count_5km R2: 0.012\n",
      "Interaction: var has_Washer and var park_count_10km R2: 0.014\n",
      "Interaction: var has_Washer and var park_count_16km R2: 0.011\n",
      "Interaction: var has_Hangers and var park_count_3km R2: 0.010\n",
      "Interaction: var has_Hangers and var park_count_5km R2: 0.011\n",
      "Interaction: var has_Hangers and var park_count_10km R2: 0.011\n",
      "Interaction: var has_Dryer and var park_count_5km R2: 0.012\n",
      "Interaction: var has_Dryer and var park_count_10km R2: 0.014\n",
      "Interaction: var has_Dryer and var park_count_16km R2: 0.011\n",
      "Interaction: var has_Kitchen and var has_Smoke_Detector R2: 0.011\n",
      "Interaction: var has_Kitchen and var park_count_3km R2: 0.010\n",
      "Interaction: var has_Kitchen and var park_count_5km R2: 0.012\n",
      "Interaction: var has_Kitchen and var park_count_10km R2: 0.015\n",
      "Interaction: var has_Kitchen and var park_count_16km R2: 0.012\n",
      "Interaction: var has_Shampoo and var park_count_5km R2: 0.011\n",
      "Interaction: var has_Shampoo and var park_count_10km R2: 0.011\n",
      "Interaction: var has_Smoke_Detector and var has_Wireless_Internet R2: 0.011\n",
      "Interaction: var has_Smoke_Detector and var calendar_updated_enc R2: 0.012\n",
      "Interaction: var has_Smoke_Detector and var bed_type_enc R2: 0.012\n",
      "Interaction: var has_Smoke_Detector and var host_has_profile_pic_bin R2: 0.012\n",
      "Interaction: var has_Smoke_Detector and var park_count_1km R2: 0.011\n",
      "Interaction: var has_Smoke_Detector and var park_count_3km R2: 0.014\n",
      "Interaction: var has_Smoke_Detector and var park_count_5km R2: 0.016\n",
      "Interaction: var has_Smoke_Detector and var park_count_10km R2: 0.019\n",
      "Interaction: var has_Smoke_Detector and var park_count_16km R2: 0.015\n",
      "Interaction: var has_Free_Parking_on_Premises and var park_count_5km R2: 0.012\n",
      "Interaction: var has_Free_Parking_on_Premises and var park_count_10km R2: 0.011\n",
      "Interaction: var has_Pool and var park_count_1km R2: 0.010\n",
      "Interaction: var has_Wireless_Internet and var calendar_updated_enc R2: 0.011\n",
      "Interaction: var has_Wireless_Internet and var bed_type_enc R2: 0.014\n",
      "Interaction: var has_Wireless_Internet and var zipcode_cleansed_enc R2: 0.012\n",
      "Interaction: var has_Wireless_Internet and var host_has_profile_pic_bin R2: 0.014\n",
      "Interaction: var has_Wireless_Internet and var park_count_1km R2: 0.012\n",
      "Interaction: var has_Wireless_Internet and var park_count_3km R2: 0.015\n",
      "Interaction: var has_Wireless_Internet and var park_count_5km R2: 0.018\n",
      "Interaction: var has_Wireless_Internet and var park_count_10km R2: 0.021\n",
      "Interaction: var has_Wireless_Internet and var park_count_16km R2: 0.017\n",
      "Interaction: var uses_email and var host_response_time_enc R2: 0.011\n",
      "Interaction: var uses_email and var calendar_updated_enc R2: 0.011\n",
      "Interaction: var uses_email and var bed_type_enc R2: 0.013\n",
      "Interaction: var uses_email and var zipcode_cleansed_enc R2: 0.011\n",
      "Interaction: var uses_email and var host_has_profile_pic_bin R2: 0.013\n",
      "Interaction: var uses_email and var park_count_3km R2: 0.014\n",
      "Interaction: var uses_email and var park_count_5km R2: 0.018\n",
      "Interaction: var uses_email and var park_count_10km R2: 0.020\n",
      "Interaction: var uses_email and var park_count_16km R2: 0.016\n",
      "Interaction: var uses_reviews and var park_count_3km R2: 0.011\n",
      "Interaction: var uses_reviews and var park_count_5km R2: 0.014\n",
      "Interaction: var uses_reviews and var park_count_10km R2: 0.015\n",
      "Interaction: var uses_reviews and var park_count_16km R2: 0.012\n",
      "Interaction: var host_response_time_enc and var calendar_updated_enc R2: 0.010\n",
      "Interaction: var host_response_time_enc and var bed_type_enc R2: 0.011\n",
      "Interaction: var host_response_time_enc and var host_has_profile_pic_bin R2: 0.011\n",
      "Interaction: var host_response_time_enc and var park_count_3km R2: 0.012\n",
      "Interaction: var host_response_time_enc and var park_count_5km R2: 0.013\n",
      "Interaction: var host_response_time_enc and var park_count_10km R2: 0.017\n",
      "Interaction: var host_response_time_enc and var park_count_16km R2: 0.014\n",
      "Interaction: var calendar_updated_enc and var bed_type_enc R2: 0.012\n",
      "Interaction: var calendar_updated_enc and var zipcode_cleansed_enc R2: 0.010\n",
      "Interaction: var calendar_updated_enc and var host_has_profile_pic_bin R2: 0.012\n",
      "Interaction: var calendar_updated_enc and var park_count_3km R2: 0.012\n",
      "Interaction: var calendar_updated_enc and var park_count_5km R2: 0.013\n",
      "Interaction: var calendar_updated_enc and var park_count_10km R2: 0.015\n",
      "Interaction: var calendar_updated_enc and var park_count_16km R2: 0.013\n",
      "Interaction: var bed_type_enc and var zipcode_cleansed_enc R2: 0.014\n",
      "Interaction: var bed_type_enc and var host_has_profile_pic_bin R2: 0.020\n",
      "Interaction: var bed_type_enc and var distance_of_closest_park R2: 0.012\n",
      "Interaction: var bed_type_enc and var park_count_1km R2: 0.013\n",
      "Interaction: var bed_type_enc and var park_count_3km R2: 0.017\n",
      "Interaction: var bed_type_enc and var park_count_5km R2: 0.023\n",
      "Interaction: var bed_type_enc and var park_count_10km R2: 0.030\n",
      "Interaction: var bed_type_enc and var park_count_16km R2: 0.024\n",
      "Interaction: var zipcode_cleansed_enc and var host_has_profile_pic_bin R2: 0.015\n",
      "Interaction: var zipcode_cleansed_enc and var park_count_1km R2: 0.011\n",
      "Interaction: var zipcode_cleansed_enc and var park_count_3km R2: 0.014\n",
      "Interaction: var zipcode_cleansed_enc and var park_count_5km R2: 0.017\n",
      "Interaction: var zipcode_cleansed_enc and var park_count_10km R2: 0.022\n"
     ]
    },
    {
     "name": "stdout",
     "output_type": "stream",
     "text": [
      "Interaction: var zipcode_cleansed_enc and var park_count_16km R2: 0.017\n",
      "Interaction: var is_location_exact_bin and var park_count_5km R2: 0.011\n",
      "Interaction: var is_location_exact_bin and var park_count_10km R2: 0.012\n",
      "Interaction: var host_has_profile_pic_bin and var distance_of_closest_park R2: 0.012\n",
      "Interaction: var host_has_profile_pic_bin and var park_count_1km R2: 0.013\n",
      "Interaction: var host_has_profile_pic_bin and var park_count_3km R2: 0.018\n",
      "Interaction: var host_has_profile_pic_bin and var park_count_5km R2: 0.023\n",
      "Interaction: var host_has_profile_pic_bin and var park_count_10km R2: 0.030\n",
      "Interaction: var host_has_profile_pic_bin and var park_count_16km R2: 0.024\n",
      "Interaction: var events_within_1_km and var events_within_3_km R2: 0.017\n",
      "Interaction: var events_within_1_km and var events_within_5_km R2: 0.028\n",
      "Interaction: var events_within_1_km and var park_count_3km R2: 0.011\n",
      "Interaction: var events_within_1_km and var park_count_5km R2: 0.018\n",
      "Interaction: var events_within_3_km and var events_within_5_km R2: 0.053\n",
      "Interaction: var events_within_3_km and var park_count_3km R2: 0.014\n",
      "Interaction: var events_within_3_km and var park_count_5km R2: 0.022\n",
      "Interaction: var events_within_5_km and var events_within_10_km R2: 0.020\n",
      "Interaction: var events_within_5_km and var park_count_3km R2: 0.012\n",
      "Interaction: var events_within_5_km and var park_count_5km R2: 0.017\n",
      "Interaction: var events_within_5_km and var days_since_host R2: 0.012\n",
      "Interaction: var events_within_10_km and var days_since_host R2: 0.022\n",
      "Interaction: var distance_of_closest_park and var park_count_1km R2: 0.011\n",
      "Interaction: var distance_of_closest_park and var park_count_3km R2: 0.018\n",
      "Interaction: var distance_of_closest_park and var park_count_5km R2: 0.019\n",
      "Interaction: var distance_of_closest_park and var park_count_10km R2: 0.024\n",
      "Interaction: var distance_of_closest_park and var park_count_16km R2: 0.019\n",
      "Interaction: var park_count_1km and var park_count_5km R2: 0.015\n",
      "Interaction: var park_count_1km and var park_count_10km R2: 0.013\n",
      "Interaction: var park_count_1km and var park_count_16km R2: 0.013\n",
      "Interaction: var park_count_3km and var park_count_5km R2: 0.011\n",
      "Interaction: var park_count_3km and var park_count_10km R2: 0.017\n",
      "Interaction: var park_count_3km and var park_count_16km R2: 0.017\n",
      "Interaction: var park_count_3km and var closest_distance R2: 0.012\n",
      "Interaction: var park_count_5km and var park_count_10km R2: 0.019\n",
      "Interaction: var park_count_5km and var park_count_16km R2: 0.021\n",
      "Interaction: var park_count_5km and var closest_distance R2: 0.013\n",
      "Interaction: var park_count_10km and var park_count_16km R2: 0.028\n",
      "Interaction: var park_count_10km and var closest_distance R2: 0.013\n"
     ]
    }
   ],
   "source": [
    "increments = detect_interactions(X_train,y_train)"
   ]
  },
  {
   "cell_type": "code",
   "execution_count": 60,
   "metadata": {},
   "outputs": [
    {
     "name": "stderr",
     "output_type": "stream",
     "text": [
      "/Users/pauldefusco/anaconda2/envs/py27/lib/python2.7/site-packages/ipykernel_launcher.py:4: SettingWithCopyWarning: \n",
      "A value is trying to be set on a copy of a slice from a DataFrame.\n",
      "Try using .loc[row_indexer,col_indexer] = value instead\n",
      "\n",
      "See the caveats in the documentation: http://pandas.pydata.org/pandas-docs/stable/indexing.html#indexing-view-versus-copy\n",
      "  after removing the cwd from sys.path.\n"
     ]
    }
   ],
   "source": [
    "X_train_intns = add_interactions(X_train, increments)"
   ]
  },
  {
   "cell_type": "code",
   "execution_count": 61,
   "metadata": {
    "collapsed": true
   },
   "outputs": [],
   "source": [
    "scores_lin = cross_validate(lin_reg, X_train_intns, y_train, cv=10, \n",
    "                         scoring=('r2', 'neg_mean_squared_error','neg_mean_absolute_error'))"
   ]
  },
  {
   "cell_type": "code",
   "execution_count": 62,
   "metadata": {},
   "outputs": [
    {
     "name": "stdout",
     "output_type": "stream",
     "text": [
      "Evaluation Metrics for Linear Regression with CV and Interactions Features: \n",
      "Training R2 Mean:  0.9227852897190087\n",
      "Validation R2 Mean:  0.8102679147481933\n",
      "Validation R2 STdev:  0.1207796356380181\n",
      "--\n",
      "Training RMSE Mean:  0.012704126770175399\n",
      "Validation RMSE Mean:  0.01986087996474557\n",
      "Validation RMSE STdev:  0.0002515636627878542\n",
      "--\n",
      "Training MAE Mean:  0.00959423519427011\n",
      "Validation MAE Mean:  0.011506276088924837\n",
      "Validation MAE STdev:  0.0007334141324129977\n"
     ]
    }
   ],
   "source": [
    "print 'Evaluation Metrics for Linear Regression with CV and Interactions Features: '\n",
    "eval_metrics(scores_lin)"
   ]
  },
  {
   "cell_type": "code",
   "execution_count": 63,
   "metadata": {
    "collapsed": true
   },
   "outputs": [],
   "source": [
    "test_predictions = lin_reg.predict(X_test)"
   ]
  },
  {
   "cell_type": "code",
   "execution_count": 64,
   "metadata": {},
   "outputs": [
    {
     "name": "stdout",
     "output_type": "stream",
     "text": [
      "Test R2:  0.8090483477871199\n",
      "Test RMSE:  0.020310479354053057\n",
      "Test MAE:  0.015282028825835833\n"
     ]
    }
   ],
   "source": [
    "print 'Test R2: ',r2_score(y_test, test_predictions)\n",
    "print 'Test RMSE: ',np.sqrt(mean_squared_error(y_test, test_predictions))\n",
    "print 'Test MAE: ',mean_absolute_error(y_test, test_predictions)"
   ]
  },
  {
   "cell_type": "markdown",
   "metadata": {},
   "source": [
    "Now doing nonlinear regressions with Interaction Features"
   ]
  },
  {
   "cell_type": "code",
   "execution_count": 65,
   "metadata": {
    "collapsed": true
   },
   "outputs": [],
   "source": [
    "def nonlinear_reg(X_train, y_train, deg):\n",
    "    \n",
    "    model = Pipeline([('poly', PolynomialFeatures(degree = deg, interaction_only=False)),\n",
    "                       ('linear', linear_model.LinearRegression(normalize=False, fit_intercept=True))])\n",
    "\n",
    "    model.fit(X_train, y_train)\n",
    "    \n",
    "    r2 = r2_score(predictions, y_test)\n",
    "    mse = mean_squared_error(predictions, y_test)\n",
    "    mae =  mean_absolute_error(predictions, y_test)\n",
    "    rmse =  np.sqrt(mse)\n",
    "    \n",
    "    print 'Model Degree: ', deg\n",
    "    print 'Test R2 Score: ', r2\n",
    "    print 'Test MSE Score: ', mse\n",
    "    print 'Test MAE Score: ', mae\n",
    "    print 'Test RMSE Score: ', rmse\n",
    "    \n",
    "    return model, predictions, r2, mse, mae, rmse"
   ]
  },
  {
   "cell_type": "code",
   "execution_count": 66,
   "metadata": {},
   "outputs": [
    {
     "ename": "KeyboardInterrupt",
     "evalue": "",
     "output_type": "error",
     "traceback": [
      "\u001b[0;31m---------------------------------------------------------------------------\u001b[0m",
      "\u001b[0;31mKeyboardInterrupt\u001b[0m                         Traceback (most recent call last)",
      "\u001b[0;32m<ipython-input-66-443db8feea50>\u001b[0m in \u001b[0;36m<module>\u001b[0;34m()\u001b[0m\n\u001b[0;32m----> 1\u001b[0;31m \u001b[0mmodel\u001b[0m\u001b[0;34m,\u001b[0m \u001b[0mpredictions\u001b[0m\u001b[0;34m,\u001b[0m \u001b[0mr2\u001b[0m\u001b[0;34m,\u001b[0m \u001b[0mmse\u001b[0m\u001b[0;34m,\u001b[0m \u001b[0mmae\u001b[0m\u001b[0;34m,\u001b[0m \u001b[0mrmse\u001b[0m \u001b[0;34m=\u001b[0m \u001b[0mnonlinear_reg\u001b[0m\u001b[0;34m(\u001b[0m\u001b[0mX_train_intns\u001b[0m\u001b[0;34m,\u001b[0m \u001b[0my_train\u001b[0m\u001b[0;34m,\u001b[0m \u001b[0;36m2\u001b[0m\u001b[0;34m)\u001b[0m\u001b[0;34m\u001b[0m\u001b[0m\n\u001b[0m\u001b[1;32m      2\u001b[0m \u001b[0mtest_predictions\u001b[0m \u001b[0;34m=\u001b[0m \u001b[0mmodel\u001b[0m\u001b[0;34m.\u001b[0m\u001b[0mpredict\u001b[0m\u001b[0;34m(\u001b[0m\u001b[0mX_test\u001b[0m\u001b[0;34m)\u001b[0m\u001b[0;34m\u001b[0m\u001b[0m\n\u001b[1;32m      3\u001b[0m \u001b[0;32mprint\u001b[0m \u001b[0;34m'Test R2: '\u001b[0m\u001b[0;34m,\u001b[0m\u001b[0mr2_score\u001b[0m\u001b[0;34m(\u001b[0m\u001b[0my_test\u001b[0m\u001b[0;34m,\u001b[0m \u001b[0mtest_predictions\u001b[0m\u001b[0;34m)\u001b[0m\u001b[0;34m\u001b[0m\u001b[0m\n\u001b[1;32m      4\u001b[0m \u001b[0;32mprint\u001b[0m \u001b[0;34m'Test RMSE: '\u001b[0m\u001b[0;34m,\u001b[0m\u001b[0mnp\u001b[0m\u001b[0;34m.\u001b[0m\u001b[0msqrt\u001b[0m\u001b[0;34m(\u001b[0m\u001b[0mmean_squared_error\u001b[0m\u001b[0;34m(\u001b[0m\u001b[0my_test\u001b[0m\u001b[0;34m,\u001b[0m \u001b[0mtest_predictions\u001b[0m\u001b[0;34m)\u001b[0m\u001b[0;34m)\u001b[0m\u001b[0;34m\u001b[0m\u001b[0m\n\u001b[1;32m      5\u001b[0m \u001b[0;32mprint\u001b[0m \u001b[0;34m'Test MAE: '\u001b[0m\u001b[0;34m,\u001b[0m\u001b[0mmean_absolute_error\u001b[0m\u001b[0;34m(\u001b[0m\u001b[0my_test\u001b[0m\u001b[0;34m,\u001b[0m \u001b[0mtest_predictions\u001b[0m\u001b[0;34m)\u001b[0m\u001b[0;34m\u001b[0m\u001b[0m\n",
      "\u001b[0;32m<ipython-input-65-498c3fd75824>\u001b[0m in \u001b[0;36mnonlinear_reg\u001b[0;34m(X_train, y_train, deg)\u001b[0m\n\u001b[1;32m      5\u001b[0m \u001b[0;34m\u001b[0m\u001b[0m\n\u001b[1;32m      6\u001b[0m     scores = cross_validate(model, X_train, y_train, cv=10, \n\u001b[0;32m----> 7\u001b[0;31m                          scoring=('r2', 'neg_mean_squared_error','neg_mean_absolute_error'))\n\u001b[0m\u001b[1;32m      8\u001b[0m \u001b[0;34m\u001b[0m\u001b[0m\n\u001b[1;32m      9\u001b[0m     \u001b[0mmodel\u001b[0m \u001b[0;34m=\u001b[0m \u001b[0mmodel\u001b[0m\u001b[0;34m.\u001b[0m\u001b[0mfit\u001b[0m\u001b[0;34m(\u001b[0m\u001b[0mX_train\u001b[0m\u001b[0;34m,\u001b[0m \u001b[0my_train\u001b[0m\u001b[0;34m)\u001b[0m\u001b[0;34m\u001b[0m\u001b[0m\n",
      "\u001b[0;32m/Users/pauldefusco/anaconda2/envs/py27/lib/python2.7/site-packages/sklearn/model_selection/_validation.pyc\u001b[0m in \u001b[0;36mcross_validate\u001b[0;34m(estimator, X, y, groups, scoring, cv, n_jobs, verbose, fit_params, pre_dispatch, return_train_score)\u001b[0m\n\u001b[1;32m    204\u001b[0m             \u001b[0mfit_params\u001b[0m\u001b[0;34m,\u001b[0m \u001b[0mreturn_train_score\u001b[0m\u001b[0;34m=\u001b[0m\u001b[0mreturn_train_score\u001b[0m\u001b[0;34m,\u001b[0m\u001b[0;34m\u001b[0m\u001b[0m\n\u001b[1;32m    205\u001b[0m             return_times=True)\n\u001b[0;32m--> 206\u001b[0;31m         for train, test in cv.split(X, y, groups))\n\u001b[0m\u001b[1;32m    207\u001b[0m \u001b[0;34m\u001b[0m\u001b[0m\n\u001b[1;32m    208\u001b[0m     \u001b[0;32mif\u001b[0m \u001b[0mreturn_train_score\u001b[0m\u001b[0;34m:\u001b[0m\u001b[0;34m\u001b[0m\u001b[0m\n",
      "\u001b[0;32m/Users/pauldefusco/anaconda2/envs/py27/lib/python2.7/site-packages/sklearn/externals/joblib/parallel.pyc\u001b[0m in \u001b[0;36m__call__\u001b[0;34m(self, iterable)\u001b[0m\n\u001b[1;32m    777\u001b[0m             \u001b[0;31m# was dispatched. In particular this covers the edge\u001b[0m\u001b[0;34m\u001b[0m\u001b[0;34m\u001b[0m\u001b[0m\n\u001b[1;32m    778\u001b[0m             \u001b[0;31m# case of Parallel used with an exhausted iterator.\u001b[0m\u001b[0;34m\u001b[0m\u001b[0;34m\u001b[0m\u001b[0m\n\u001b[0;32m--> 779\u001b[0;31m             \u001b[0;32mwhile\u001b[0m \u001b[0mself\u001b[0m\u001b[0;34m.\u001b[0m\u001b[0mdispatch_one_batch\u001b[0m\u001b[0;34m(\u001b[0m\u001b[0miterator\u001b[0m\u001b[0;34m)\u001b[0m\u001b[0;34m:\u001b[0m\u001b[0;34m\u001b[0m\u001b[0m\n\u001b[0m\u001b[1;32m    780\u001b[0m                 \u001b[0mself\u001b[0m\u001b[0;34m.\u001b[0m\u001b[0m_iterating\u001b[0m \u001b[0;34m=\u001b[0m \u001b[0mTrue\u001b[0m\u001b[0;34m\u001b[0m\u001b[0m\n\u001b[1;32m    781\u001b[0m             \u001b[0;32melse\u001b[0m\u001b[0;34m:\u001b[0m\u001b[0;34m\u001b[0m\u001b[0m\n",
      "\u001b[0;32m/Users/pauldefusco/anaconda2/envs/py27/lib/python2.7/site-packages/sklearn/externals/joblib/parallel.pyc\u001b[0m in \u001b[0;36mdispatch_one_batch\u001b[0;34m(self, iterator)\u001b[0m\n\u001b[1;32m    623\u001b[0m                 \u001b[0;32mreturn\u001b[0m \u001b[0mFalse\u001b[0m\u001b[0;34m\u001b[0m\u001b[0m\n\u001b[1;32m    624\u001b[0m             \u001b[0;32melse\u001b[0m\u001b[0;34m:\u001b[0m\u001b[0;34m\u001b[0m\u001b[0m\n\u001b[0;32m--> 625\u001b[0;31m                 \u001b[0mself\u001b[0m\u001b[0;34m.\u001b[0m\u001b[0m_dispatch\u001b[0m\u001b[0;34m(\u001b[0m\u001b[0mtasks\u001b[0m\u001b[0;34m)\u001b[0m\u001b[0;34m\u001b[0m\u001b[0m\n\u001b[0m\u001b[1;32m    626\u001b[0m                 \u001b[0;32mreturn\u001b[0m \u001b[0mTrue\u001b[0m\u001b[0;34m\u001b[0m\u001b[0m\n\u001b[1;32m    627\u001b[0m \u001b[0;34m\u001b[0m\u001b[0m\n",
      "\u001b[0;32m/Users/pauldefusco/anaconda2/envs/py27/lib/python2.7/site-packages/sklearn/externals/joblib/parallel.pyc\u001b[0m in \u001b[0;36m_dispatch\u001b[0;34m(self, batch)\u001b[0m\n\u001b[1;32m    586\u001b[0m         \u001b[0mdispatch_timestamp\u001b[0m \u001b[0;34m=\u001b[0m \u001b[0mtime\u001b[0m\u001b[0;34m.\u001b[0m\u001b[0mtime\u001b[0m\u001b[0;34m(\u001b[0m\u001b[0;34m)\u001b[0m\u001b[0;34m\u001b[0m\u001b[0m\n\u001b[1;32m    587\u001b[0m         \u001b[0mcb\u001b[0m \u001b[0;34m=\u001b[0m \u001b[0mBatchCompletionCallBack\u001b[0m\u001b[0;34m(\u001b[0m\u001b[0mdispatch_timestamp\u001b[0m\u001b[0;34m,\u001b[0m \u001b[0mlen\u001b[0m\u001b[0;34m(\u001b[0m\u001b[0mbatch\u001b[0m\u001b[0;34m)\u001b[0m\u001b[0;34m,\u001b[0m \u001b[0mself\u001b[0m\u001b[0;34m)\u001b[0m\u001b[0;34m\u001b[0m\u001b[0m\n\u001b[0;32m--> 588\u001b[0;31m         \u001b[0mjob\u001b[0m \u001b[0;34m=\u001b[0m \u001b[0mself\u001b[0m\u001b[0;34m.\u001b[0m\u001b[0m_backend\u001b[0m\u001b[0;34m.\u001b[0m\u001b[0mapply_async\u001b[0m\u001b[0;34m(\u001b[0m\u001b[0mbatch\u001b[0m\u001b[0;34m,\u001b[0m \u001b[0mcallback\u001b[0m\u001b[0;34m=\u001b[0m\u001b[0mcb\u001b[0m\u001b[0;34m)\u001b[0m\u001b[0;34m\u001b[0m\u001b[0m\n\u001b[0m\u001b[1;32m    589\u001b[0m         \u001b[0mself\u001b[0m\u001b[0;34m.\u001b[0m\u001b[0m_jobs\u001b[0m\u001b[0;34m.\u001b[0m\u001b[0mappend\u001b[0m\u001b[0;34m(\u001b[0m\u001b[0mjob\u001b[0m\u001b[0;34m)\u001b[0m\u001b[0;34m\u001b[0m\u001b[0m\n\u001b[1;32m    590\u001b[0m \u001b[0;34m\u001b[0m\u001b[0m\n",
      "\u001b[0;32m/Users/pauldefusco/anaconda2/envs/py27/lib/python2.7/site-packages/sklearn/externals/joblib/_parallel_backends.pyc\u001b[0m in \u001b[0;36mapply_async\u001b[0;34m(self, func, callback)\u001b[0m\n\u001b[1;32m    109\u001b[0m     \u001b[0;32mdef\u001b[0m \u001b[0mapply_async\u001b[0m\u001b[0;34m(\u001b[0m\u001b[0mself\u001b[0m\u001b[0;34m,\u001b[0m \u001b[0mfunc\u001b[0m\u001b[0;34m,\u001b[0m \u001b[0mcallback\u001b[0m\u001b[0;34m=\u001b[0m\u001b[0mNone\u001b[0m\u001b[0;34m)\u001b[0m\u001b[0;34m:\u001b[0m\u001b[0;34m\u001b[0m\u001b[0m\n\u001b[1;32m    110\u001b[0m         \u001b[0;34m\"\"\"Schedule a func to be run\"\"\"\u001b[0m\u001b[0;34m\u001b[0m\u001b[0m\n\u001b[0;32m--> 111\u001b[0;31m         \u001b[0mresult\u001b[0m \u001b[0;34m=\u001b[0m \u001b[0mImmediateResult\u001b[0m\u001b[0;34m(\u001b[0m\u001b[0mfunc\u001b[0m\u001b[0;34m)\u001b[0m\u001b[0;34m\u001b[0m\u001b[0m\n\u001b[0m\u001b[1;32m    112\u001b[0m         \u001b[0;32mif\u001b[0m \u001b[0mcallback\u001b[0m\u001b[0;34m:\u001b[0m\u001b[0;34m\u001b[0m\u001b[0m\n\u001b[1;32m    113\u001b[0m             \u001b[0mcallback\u001b[0m\u001b[0;34m(\u001b[0m\u001b[0mresult\u001b[0m\u001b[0;34m)\u001b[0m\u001b[0;34m\u001b[0m\u001b[0m\n",
      "\u001b[0;32m/Users/pauldefusco/anaconda2/envs/py27/lib/python2.7/site-packages/sklearn/externals/joblib/_parallel_backends.pyc\u001b[0m in \u001b[0;36m__init__\u001b[0;34m(self, batch)\u001b[0m\n\u001b[1;32m    330\u001b[0m         \u001b[0;31m# Don't delay the application, to avoid keeping the input\u001b[0m\u001b[0;34m\u001b[0m\u001b[0;34m\u001b[0m\u001b[0m\n\u001b[1;32m    331\u001b[0m         \u001b[0;31m# arguments in memory\u001b[0m\u001b[0;34m\u001b[0m\u001b[0;34m\u001b[0m\u001b[0m\n\u001b[0;32m--> 332\u001b[0;31m         \u001b[0mself\u001b[0m\u001b[0;34m.\u001b[0m\u001b[0mresults\u001b[0m \u001b[0;34m=\u001b[0m \u001b[0mbatch\u001b[0m\u001b[0;34m(\u001b[0m\u001b[0;34m)\u001b[0m\u001b[0;34m\u001b[0m\u001b[0m\n\u001b[0m\u001b[1;32m    333\u001b[0m \u001b[0;34m\u001b[0m\u001b[0m\n\u001b[1;32m    334\u001b[0m     \u001b[0;32mdef\u001b[0m \u001b[0mget\u001b[0m\u001b[0;34m(\u001b[0m\u001b[0mself\u001b[0m\u001b[0;34m)\u001b[0m\u001b[0;34m:\u001b[0m\u001b[0;34m\u001b[0m\u001b[0m\n",
      "\u001b[0;32m/Users/pauldefusco/anaconda2/envs/py27/lib/python2.7/site-packages/sklearn/externals/joblib/parallel.pyc\u001b[0m in \u001b[0;36m__call__\u001b[0;34m(self)\u001b[0m\n\u001b[1;32m    129\u001b[0m \u001b[0;34m\u001b[0m\u001b[0m\n\u001b[1;32m    130\u001b[0m     \u001b[0;32mdef\u001b[0m \u001b[0m__call__\u001b[0m\u001b[0;34m(\u001b[0m\u001b[0mself\u001b[0m\u001b[0;34m)\u001b[0m\u001b[0;34m:\u001b[0m\u001b[0;34m\u001b[0m\u001b[0m\n\u001b[0;32m--> 131\u001b[0;31m         \u001b[0;32mreturn\u001b[0m \u001b[0;34m[\u001b[0m\u001b[0mfunc\u001b[0m\u001b[0;34m(\u001b[0m\u001b[0;34m*\u001b[0m\u001b[0margs\u001b[0m\u001b[0;34m,\u001b[0m \u001b[0;34m**\u001b[0m\u001b[0mkwargs\u001b[0m\u001b[0;34m)\u001b[0m \u001b[0;32mfor\u001b[0m \u001b[0mfunc\u001b[0m\u001b[0;34m,\u001b[0m \u001b[0margs\u001b[0m\u001b[0;34m,\u001b[0m \u001b[0mkwargs\u001b[0m \u001b[0;32min\u001b[0m \u001b[0mself\u001b[0m\u001b[0;34m.\u001b[0m\u001b[0mitems\u001b[0m\u001b[0;34m]\u001b[0m\u001b[0;34m\u001b[0m\u001b[0m\n\u001b[0m\u001b[1;32m    132\u001b[0m \u001b[0;34m\u001b[0m\u001b[0m\n\u001b[1;32m    133\u001b[0m     \u001b[0;32mdef\u001b[0m \u001b[0m__len__\u001b[0m\u001b[0;34m(\u001b[0m\u001b[0mself\u001b[0m\u001b[0;34m)\u001b[0m\u001b[0;34m:\u001b[0m\u001b[0;34m\u001b[0m\u001b[0m\n",
      "\u001b[0;32m/Users/pauldefusco/anaconda2/envs/py27/lib/python2.7/site-packages/sklearn/model_selection/_validation.pyc\u001b[0m in \u001b[0;36m_fit_and_score\u001b[0;34m(estimator, X, y, scorer, train, test, verbose, parameters, fit_params, return_train_score, return_parameters, return_n_test_samples, return_times, error_score)\u001b[0m\n\u001b[1;32m    456\u001b[0m             \u001b[0mestimator\u001b[0m\u001b[0;34m.\u001b[0m\u001b[0mfit\u001b[0m\u001b[0;34m(\u001b[0m\u001b[0mX_train\u001b[0m\u001b[0;34m,\u001b[0m \u001b[0;34m**\u001b[0m\u001b[0mfit_params\u001b[0m\u001b[0;34m)\u001b[0m\u001b[0;34m\u001b[0m\u001b[0m\n\u001b[1;32m    457\u001b[0m         \u001b[0;32melse\u001b[0m\u001b[0;34m:\u001b[0m\u001b[0;34m\u001b[0m\u001b[0m\n\u001b[0;32m--> 458\u001b[0;31m             \u001b[0mestimator\u001b[0m\u001b[0;34m.\u001b[0m\u001b[0mfit\u001b[0m\u001b[0;34m(\u001b[0m\u001b[0mX_train\u001b[0m\u001b[0;34m,\u001b[0m \u001b[0my_train\u001b[0m\u001b[0;34m,\u001b[0m \u001b[0;34m**\u001b[0m\u001b[0mfit_params\u001b[0m\u001b[0;34m)\u001b[0m\u001b[0;34m\u001b[0m\u001b[0m\n\u001b[0m\u001b[1;32m    459\u001b[0m \u001b[0;34m\u001b[0m\u001b[0m\n\u001b[1;32m    460\u001b[0m     \u001b[0;32mexcept\u001b[0m \u001b[0mException\u001b[0m \u001b[0;32mas\u001b[0m \u001b[0me\u001b[0m\u001b[0;34m:\u001b[0m\u001b[0;34m\u001b[0m\u001b[0m\n",
      "\u001b[0;32m/Users/pauldefusco/anaconda2/envs/py27/lib/python2.7/site-packages/sklearn/pipeline.pyc\u001b[0m in \u001b[0;36mfit\u001b[0;34m(self, X, y, **fit_params)\u001b[0m\n\u001b[1;32m    248\u001b[0m         \u001b[0mXt\u001b[0m\u001b[0;34m,\u001b[0m \u001b[0mfit_params\u001b[0m \u001b[0;34m=\u001b[0m \u001b[0mself\u001b[0m\u001b[0;34m.\u001b[0m\u001b[0m_fit\u001b[0m\u001b[0;34m(\u001b[0m\u001b[0mX\u001b[0m\u001b[0;34m,\u001b[0m \u001b[0my\u001b[0m\u001b[0;34m,\u001b[0m \u001b[0;34m**\u001b[0m\u001b[0mfit_params\u001b[0m\u001b[0;34m)\u001b[0m\u001b[0;34m\u001b[0m\u001b[0m\n\u001b[1;32m    249\u001b[0m         \u001b[0;32mif\u001b[0m \u001b[0mself\u001b[0m\u001b[0;34m.\u001b[0m\u001b[0m_final_estimator\u001b[0m \u001b[0;32mis\u001b[0m \u001b[0;32mnot\u001b[0m \u001b[0mNone\u001b[0m\u001b[0;34m:\u001b[0m\u001b[0;34m\u001b[0m\u001b[0m\n\u001b[0;32m--> 250\u001b[0;31m             \u001b[0mself\u001b[0m\u001b[0;34m.\u001b[0m\u001b[0m_final_estimator\u001b[0m\u001b[0;34m.\u001b[0m\u001b[0mfit\u001b[0m\u001b[0;34m(\u001b[0m\u001b[0mXt\u001b[0m\u001b[0;34m,\u001b[0m \u001b[0my\u001b[0m\u001b[0;34m,\u001b[0m \u001b[0;34m**\u001b[0m\u001b[0mfit_params\u001b[0m\u001b[0;34m)\u001b[0m\u001b[0;34m\u001b[0m\u001b[0m\n\u001b[0m\u001b[1;32m    251\u001b[0m         \u001b[0;32mreturn\u001b[0m \u001b[0mself\u001b[0m\u001b[0;34m\u001b[0m\u001b[0m\n\u001b[1;32m    252\u001b[0m \u001b[0;34m\u001b[0m\u001b[0m\n",
      "\u001b[0;32m/Users/pauldefusco/anaconda2/envs/py27/lib/python2.7/site-packages/sklearn/linear_model/base.pyc\u001b[0m in \u001b[0;36mfit\u001b[0;34m(self, X, y, sample_weight)\u001b[0m\n\u001b[1;32m    507\u001b[0m         \u001b[0;32melse\u001b[0m\u001b[0;34m:\u001b[0m\u001b[0;34m\u001b[0m\u001b[0m\n\u001b[1;32m    508\u001b[0m             \u001b[0mself\u001b[0m\u001b[0;34m.\u001b[0m\u001b[0mcoef_\u001b[0m\u001b[0;34m,\u001b[0m \u001b[0mself\u001b[0m\u001b[0;34m.\u001b[0m\u001b[0m_residues\u001b[0m\u001b[0;34m,\u001b[0m \u001b[0mself\u001b[0m\u001b[0;34m.\u001b[0m\u001b[0mrank_\u001b[0m\u001b[0;34m,\u001b[0m \u001b[0mself\u001b[0m\u001b[0;34m.\u001b[0m\u001b[0msingular_\u001b[0m \u001b[0;34m=\u001b[0m\u001b[0;31m \u001b[0m\u001b[0;31m\\\u001b[0m\u001b[0;34m\u001b[0m\u001b[0m\n\u001b[0;32m--> 509\u001b[0;31m                 \u001b[0mlinalg\u001b[0m\u001b[0;34m.\u001b[0m\u001b[0mlstsq\u001b[0m\u001b[0;34m(\u001b[0m\u001b[0mX\u001b[0m\u001b[0;34m,\u001b[0m \u001b[0my\u001b[0m\u001b[0;34m)\u001b[0m\u001b[0;34m\u001b[0m\u001b[0m\n\u001b[0m\u001b[1;32m    510\u001b[0m             \u001b[0mself\u001b[0m\u001b[0;34m.\u001b[0m\u001b[0mcoef_\u001b[0m \u001b[0;34m=\u001b[0m \u001b[0mself\u001b[0m\u001b[0;34m.\u001b[0m\u001b[0mcoef_\u001b[0m\u001b[0;34m.\u001b[0m\u001b[0mT\u001b[0m\u001b[0;34m\u001b[0m\u001b[0m\n\u001b[1;32m    511\u001b[0m \u001b[0;34m\u001b[0m\u001b[0m\n",
      "\u001b[0;32m/Users/pauldefusco/anaconda2/envs/py27/lib/python2.7/site-packages/scipy/linalg/basic.pyc\u001b[0m in \u001b[0;36mlstsq\u001b[0;34m(a, b, cond, overwrite_a, overwrite_b, check_finite, lapack_driver)\u001b[0m\n\u001b[1;32m   1205\u001b[0m             v, x, s, rank, work, info = lapack_func(a1, b1, cond, lwork,\n\u001b[1;32m   1206\u001b[0m                                                     \u001b[0moverwrite_a\u001b[0m\u001b[0;34m=\u001b[0m\u001b[0moverwrite_a\u001b[0m\u001b[0;34m,\u001b[0m\u001b[0;34m\u001b[0m\u001b[0m\n\u001b[0;32m-> 1207\u001b[0;31m                                                     overwrite_b=overwrite_b)\n\u001b[0m\u001b[1;32m   1208\u001b[0m \u001b[0;34m\u001b[0m\u001b[0m\n\u001b[1;32m   1209\u001b[0m         \u001b[0;32melif\u001b[0m \u001b[0mdriver\u001b[0m \u001b[0;34m==\u001b[0m \u001b[0;34m'gelsd'\u001b[0m\u001b[0;34m:\u001b[0m\u001b[0;34m\u001b[0m\u001b[0m\n",
      "\u001b[0;31mKeyboardInterrupt\u001b[0m: "
     ]
    }
   ],
   "source": [
    "model, predictions, r2, mse, mae, rmse = nonlinear_reg(X_train_intns, y_train, 2)\n",
    "test_predictions = model.predict(X_test)\n",
    "print 'Test R2: ',r2_score(y_test, test_predictions)\n",
    "print 'Test RMSE: ',np.sqrt(mean_squared_error(y_test, test_predictions))\n",
    "print 'Test MAE: ',mean_absolute_error(y_test, test_predictions)"
   ]
  },
  {
   "cell_type": "code",
   "execution_count": null,
   "metadata": {
    "collapsed": true
   },
   "outputs": [],
   "source": [
    "model, predictions, r2, mse, mae, rmse = nonlinear_reg(X_train_intns, y_train, 3)\n",
    "test_predictions = model.predict(X_test)\n",
    "print 'Test R2: ',r2_score(y_test, test_predictions)\n",
    "print 'Test RMSE: ',np.sqrt(mean_squared_error(y_test, test_predictions))\n",
    "print 'Test MAE: ',mean_absolute_error(y_test, test_predictions)"
   ]
  },
  {
   "cell_type": "code",
   "execution_count": 149,
   "metadata": {
    "collapsed": true
   },
   "outputs": [],
   "source": [
    "import sys\n",
    "sys.path.append('./lib')\n",
    "from hello import print_hello"
   ]
  },
  {
   "cell_type": "code",
   "execution_count": 151,
   "metadata": {},
   "outputs": [
    {
     "name": "stdout",
     "output_type": "stream",
     "text": [
      "Hello!\n"
     ]
    }
   ],
   "source": [
    "print_hello()"
   ]
  },
  {
   "cell_type": "code",
   "execution_count": null,
   "metadata": {
    "collapsed": true
   },
   "outputs": [],
   "source": []
  }
 ],
 "metadata": {
  "kernelspec": {
   "display_name": "Python 2",
   "language": "python",
   "name": "python2"
  },
  "language_info": {
   "codemirror_mode": {
    "name": "ipython",
    "version": 2
   },
   "file_extension": ".py",
   "mimetype": "text/x-python",
   "name": "python",
   "nbconvert_exporter": "python",
   "pygments_lexer": "ipython2",
   "version": "2.7.14"
  }
 },
 "nbformat": 4,
 "nbformat_minor": 2
}
