{
 "cells": [
  {
   "cell_type": "code",
   "execution_count": 1,
   "metadata": {
    "collapsed": true
   },
   "outputs": [],
   "source": [
    "import json\n",
    "from StringIO import StringIO\n",
    "import pandas as pd\n",
    "import openpyxl"
   ]
  },
  {
   "cell_type": "code",
   "execution_count": 2,
   "metadata": {
    "collapsed": true
   },
   "outputs": [],
   "source": [
    "import pandas as pd\n",
    "import os\n",
    "import sklearn as sk\n",
    "from sklearn.linear_model import MultiTaskLasso, MultiTaskElasticNet, ElasticNet\n",
    "from sklearn.cross_validation import train_test_split\n",
    "from sklearn.metrics import mean_absolute_error, mean_squared_error\n",
    "import sklearn.metrics as skmet\n",
    "import numpy as np\n",
    "import nltk\n",
    "from nltk.tokenize import sent_tokenize, word_tokenize\n",
    "from nltk.corpus import stopwords, names\n",
    "import datetime\n",
    "from scipy.stats import ttest_ind \n",
    "import csv"
   ]
  },
  {
   "cell_type": "code",
   "execution_count": 3,
   "metadata": {
    "collapsed": true
   },
   "outputs": [],
   "source": [
    "from sklearn.cluster import KMeans"
   ]
  },
  {
   "cell_type": "code",
   "execution_count": 4,
   "metadata": {
    "collapsed": true
   },
   "outputs": [],
   "source": [
    "listings_augmented_2018 = pd.read_csv('Datasources\\listings_augmented\\listings_augmented_2018-05-19_V5.csv', low_memory = False)"
   ]
  },
  {
   "cell_type": "code",
   "execution_count": 5,
   "metadata": {
    "collapsed": true
   },
   "outputs": [],
   "source": [
    "listings_augmented_2018 = listings_augmented_2018.drop('distance_from_ocean', axis = 1)"
   ]
  },
  {
   "cell_type": "code",
   "execution_count": 6,
   "metadata": {},
   "outputs": [
    {
     "name": "stderr",
     "output_type": "stream",
     "text": [
      "C:\\Users\\sanka\\Anaconda2\\envs\\py27\\lib\\site-packages\\ipykernel\\__main__.py:12: SettingWithCopyWarning: \n",
      "A value is trying to be set on a copy of a slice from a DataFrame\n",
      "\n",
      "See the caveats in the documentation: http://pandas.pydata.org/pandas-docs/stable/indexing.html#indexing-view-versus-copy\n"
     ]
    }
   ],
   "source": [
    "listings_augmented_2018['distance_from_ocean'] = 0\n",
    "listings_augmented_2018['distance_from_ocean'] = listings_augmented_2018['distance_from_ocean'].astype('float')\n",
    "    \n",
    "for w in listings_augmented_2018.index:\n",
    "    p = float(listings_augmented_2018['latitude'][w])\n",
    "    q = float(listings_augmented_2018['longitude'][w])\n",
    "    lon_diff = (q + 117.235585)*np.pi/180\n",
    "    lat_diff = (p - 32.802458)*np.pi/180\n",
    "    a = np.sin(lat_diff/2)**2 + np.cos(p*np.pi/180)*np.cos(32.802458*np.pi/180)*(np.sin(lon_diff/2)**2)\n",
    "    c = np.arctan2(np.sqrt(a), np.sqrt(1 - a))\n",
    "    d = 6371.00*float(c)\n",
    "    listings_augmented_2018['distance_from_ocean'][w] = d"
   ]
  },
  {
   "cell_type": "code",
   "execution_count": 8,
   "metadata": {},
   "outputs": [],
   "source": [
    "listings_augmented_numeric = listings_augmented_2018.select_dtypes(include=['float64', 'int64'])"
   ]
  },
  {
   "cell_type": "code",
   "execution_count": 13,
   "metadata": {},
   "outputs": [],
   "source": [
    "listings_augmented_numeric = listings_augmented_numeric.fillna(0)"
   ]
  },
  {
   "cell_type": "code",
   "execution_count": 14,
   "metadata": {},
   "outputs": [],
   "source": [
    "kmeans = KMeans(n_clusters=10, random_state=0).fit(listings_augmented_numeric)"
   ]
  },
  {
   "cell_type": "code",
   "execution_count": 15,
   "metadata": {},
   "outputs": [
    {
     "data": {
      "text/plain": [
       "array([5, 8, 7, ..., 9, 2, 0])"
      ]
     },
     "execution_count": 15,
     "metadata": {},
     "output_type": "execute_result"
    }
   ],
   "source": [
    "kmeans.labels_"
   ]
  },
  {
   "cell_type": "code",
   "execution_count": 16,
   "metadata": {
    "collapsed": true
   },
   "outputs": [],
   "source": [
    "class_cluster_dictionary = {}\n",
    "\n",
    "for i in range(10):\n",
    "    class_cluster_dictionary[i] = []"
   ]
  },
  {
   "cell_type": "code",
   "execution_count": 20,
   "metadata": {
    "collapsed": true
   },
   "outputs": [],
   "source": [
    "for i in range(len(listings_augmented_numeric)):\n",
    "    key = kmeans.labels_[i]\n",
    "    v = listings_augmented_numeric['id'][i]\n",
    "    \n",
    "    class_cluster_dictionary[key].append(v)"
   ]
  },
  {
   "cell_type": "code",
   "execution_count": 28,
   "metadata": {},
   "outputs": [
    {
     "data": {
      "text/plain": [
       "array([[  1.45842697e-01,   5.40449438e-02,   2.38327091e-02, ...,\n",
       "          8.48938826e-02,   1.14856429e-01,   4.36924817e+00],\n",
       "       [  1.00000000e+02,   1.00000000e+02,   0.00000000e+00, ...,\n",
       "          0.00000000e+00,   0.00000000e+00,   6.26158408e+03],\n",
       "       [  1.40705596e-01,   3.66180049e-02,   1.99026764e-02, ...,\n",
       "         -3.46944695e-16,  -1.45716772e-16,   4.39793231e+00],\n",
       "       ..., \n",
       "       [  1.29854772e-01,   4.46473029e-02,   2.52385892e-02, ...,\n",
       "          1.49377593e-01,   1.98132780e-01,   4.13263003e+00],\n",
       "       [  1.65536993e-01,   3.30548926e-02,   2.59427208e-02, ...,\n",
       "         -3.40005801e-16,  -1.45716772e-16,   4.81073362e+00],\n",
       "       [  1.43795181e-01,   3.91967871e-02,   2.60843373e-02, ...,\n",
       "         -1.24900090e-16,  -1.52655666e-16,   4.79221812e+00]])"
      ]
     },
     "execution_count": 28,
     "metadata": {},
     "output_type": "execute_result"
    }
   ],
   "source": [
    "kmeans.cluster_centers_"
   ]
  },
  {
   "cell_type": "code",
   "execution_count": null,
   "metadata": {
    "collapsed": true
   },
   "outputs": [],
   "source": []
  }
 ],
 "metadata": {
  "anaconda-cloud": {},
  "kernelspec": {
   "display_name": "Python [conda env:py27]",
   "language": "python",
   "name": "conda-env-py27-py"
  },
  "language_info": {
   "codemirror_mode": {
    "name": "ipython",
    "version": 2
   },
   "file_extension": ".py",
   "mimetype": "text/x-python",
   "name": "python",
   "nbconvert_exporter": "python",
   "pygments_lexer": "ipython2",
   "version": "2.7.12"
  }
 },
 "nbformat": 4,
 "nbformat_minor": 2
}
