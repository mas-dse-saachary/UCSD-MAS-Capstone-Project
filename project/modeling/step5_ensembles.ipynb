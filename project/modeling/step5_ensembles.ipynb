{
 "cells": [
  {
   "cell_type": "markdown",
   "metadata": {},
   "source": [
    "# Ensemble Regression Models"
   ]
  },
  {
   "cell_type": "markdown",
   "metadata": {},
   "source": [
    "##### Modeling Step 5"
   ]
  },
  {
   "cell_type": "markdown",
   "metadata": {},
   "source": [
    "### Notebook Summary:\n",
    "\n",
    "#### Objective: beat the performance metrics found with the regularized model in the \"regularization\" notebook (\"Modeling Step 4\") with ensembles while retaining model simplicity\n",
    "\n",
    "* NB: We use the expanded dataset including ratio features filtered by RFECV\n",
    "* Models used include Random Forest, Bagging, Adaboost, Gradient Boosting\n",
    "* Each model is tuned with Nested Cross Validation i.e. using GridSearch Cross Validation to identify optimal model parameters and testing the models with Cross Validation \n",
    "\n",
    "#### Conclusions: \n",
    "* Ensembles have performed similarly to regressions tested in previous modeling steps, but due to the increased complexity we stick with the regularized model found in \"modeling step 4\"\n",
    "\n",
    "#### Next Steps: \n",
    "###### Compare all model outcomes in the \"model_visualizations\" notebook (located in the \"visualizations\" directory)"
   ]
  },
  {
   "cell_type": "code",
   "execution_count": 1,
   "metadata": {
    "collapsed": true
   },
   "outputs": [],
   "source": [
    "%load_ext autoreload\n",
    "%autoreload 2"
   ]
  },
  {
   "cell_type": "code",
   "execution_count": 2,
   "metadata": {
    "collapsed": true
   },
   "outputs": [],
   "source": [
    "import pandas as pd\n",
    "import numpy as np\n",
    "import seaborn as sb\n",
    "import matplotlib.pyplot as plt\n",
    "from pandas.plotting import scatter_matrix\n",
    "import matplotlib.cm as cm\n",
    "from yellowbrick.regressor import ResidualsPlot\n",
    "%matplotlib inline"
   ]
  },
  {
   "cell_type": "code",
   "execution_count": 3,
   "metadata": {
    "collapsed": true
   },
   "outputs": [],
   "source": [
    "from sklearn import linear_model\n",
    "from sklearn.metrics import r2_score, mean_squared_error,mean_absolute_error\n",
    "from sklearn.model_selection import KFold,cross_val_predict,cross_val_score, cross_validate, train_test_split, GridSearchCV\n",
    "from sklearn.preprocessing import LabelEncoder, LabelBinarizer, PolynomialFeatures, MinMaxScaler, StandardScaler\n",
    "from sklearn.pipeline import Pipeline\n",
    "from sklearn import preprocessing\n",
    "from sklearn.neighbors import LocalOutlierFactor, KNeighborsRegressor\n",
    "from sklearn.feature_selection import RFE, f_regression, RFECV\n",
    "from sklearn.ensemble import RandomForestRegressor, BaggingRegressor, AdaBoostRegressor, GradientBoostingRegressor\n",
    "from sklearn.tree import DecisionTreeRegressor\n",
    "from sklearn.svm import SVR"
   ]
  },
  {
   "cell_type": "code",
   "execution_count": 4,
   "metadata": {},
   "outputs": [
    {
     "name": "stderr",
     "output_type": "stream",
     "text": [
      "/Users/pauldefusco/anaconda2/envs/py27/lib/python2.7/site-packages/statsmodels/compat/pandas.py:56: FutureWarning: The pandas.core.datetools module is deprecated and will be removed in a future version. Please use the pandas.tseries module instead.\n",
      "  from pandas.core import datetools\n"
     ]
    }
   ],
   "source": [
    "import sys\n",
    "sys.path.append('./../lib')\n",
    "from airbnb_modeling import detect_feature_importance, scale_data, normalize_data, eval_metrics, plot_residuals, plot_predictions, rank_to_dict\n",
    "from parse_methods import parse_columns\n",
    "from airbnb_modeling import detect_interactions, add_interactions, map_variable, plot_rmse_instances,plot_rmse_features, plot_accuracy_instances\n",
    "from model_visualizations import plot_learning_curve"
   ]
  },
  {
   "cell_type": "code",
   "execution_count": 5,
   "metadata": {
    "collapsed": true
   },
   "outputs": [],
   "source": [
    "%store -r ranks"
   ]
  },
  {
   "cell_type": "code",
   "execution_count": 6,
   "metadata": {
    "collapsed": true
   },
   "outputs": [],
   "source": [
    "%store -r X_ratios\n",
    "%store -r X_normed\n",
    "%store -r X_test\n",
    "%store -r y_normed\n",
    "%store -r y_test\n",
    "%store -r listings"
   ]
  },
  {
   "cell_type": "markdown",
   "metadata": {},
   "source": [
    "Ensembles"
   ]
  },
  {
   "cell_type": "markdown",
   "metadata": {},
   "source": [
    "RandomForest Regression"
   ]
  },
  {
   "cell_type": "markdown",
   "metadata": {},
   "source": [
    "The Random Forest Regressor Does very well on both Training and Validation - a promising model!"
   ]
  },
  {
   "cell_type": "code",
   "execution_count": 7,
   "metadata": {
    "collapsed": true
   },
   "outputs": [],
   "source": [
    "X_train, X_test, y_train, y_test = train_test_split(X_ratios, y_normed, test_size=0.3, random_state=42)"
   ]
  },
  {
   "cell_type": "code",
   "execution_count": 8,
   "metadata": {
    "collapsed": true
   },
   "outputs": [],
   "source": [
    "param_grid = [\n",
    "    {'n_estimators':[30,40,50], 'max_features':[12,14,16,18]},\n",
    "    {'bootstrap': [True,False], 'n_estimators':[3,10], 'max_features':[10,12]},\n",
    "]"
   ]
  },
  {
   "cell_type": "code",
   "execution_count": 9,
   "metadata": {
    "collapsed": true
   },
   "outputs": [],
   "source": [
    "new_for_reg = RandomForestRegressor()"
   ]
  },
  {
   "cell_type": "code",
   "execution_count": 10,
   "metadata": {
    "collapsed": true
   },
   "outputs": [],
   "source": [
    "gs = GridSearchCV(new_for_reg, param_grid, cv=4, scoring='neg_mean_squared_error')"
   ]
  },
  {
   "cell_type": "code",
   "execution_count": 11,
   "metadata": {
    "collapsed": true
   },
   "outputs": [],
   "source": [
    "rfr_scores = cross_validate(gs, X_train, y_train, cv=6, scoring='neg_mean_squared_error')"
   ]
  },
  {
   "cell_type": "code",
   "execution_count": 12,
   "metadata": {},
   "outputs": [
    {
     "name": "stdout",
     "output_type": "stream",
     "text": [
      "CV Training RMSE:  0.010871074450735615\n",
      "CV Validation RMSE:  0.02848231805860649\n"
     ]
    },
    {
     "name": "stderr",
     "output_type": "stream",
     "text": [
      "/Users/pauldefusco/anaconda2/envs/py27/lib/python2.7/site-packages/sklearn/utils/deprecation.py:122: FutureWarning: You are accessing a training score ('train_score'), which will not be available by default any more in 0.21. If you need training scores, please set return_train_score=True\n",
      "  warnings.warn(*warn_args, **warn_kwargs)\n"
     ]
    }
   ],
   "source": [
    "print \"CV Training RMSE: \", np.sqrt(-rfr_scores['train_score'].mean())\n",
    "print \"CV Validation RMSE: \",np.sqrt(-rfr_scores['test_score'].mean())"
   ]
  },
  {
   "cell_type": "code",
   "execution_count": 13,
   "metadata": {},
   "outputs": [
    {
     "data": {
      "text/plain": [
       "GridSearchCV(cv=4, error_score='raise',\n",
       "       estimator=RandomForestRegressor(bootstrap=True, criterion='mse', max_depth=None,\n",
       "           max_features='auto', max_leaf_nodes=None,\n",
       "           min_impurity_decrease=0.0, min_impurity_split=None,\n",
       "           min_samples_leaf=1, min_samples_split=2,\n",
       "           min_weight_fraction_leaf=0.0, n_estimators=10, n_jobs=1,\n",
       "           oob_score=False, random_state=None, verbose=0, warm_start=False),\n",
       "       fit_params=None, iid=True, n_jobs=1,\n",
       "       param_grid=[{'n_estimators': [30, 40, 50], 'max_features': [12, 14, 16, 18]}, {'n_estimators': [3, 10], 'max_features': [10, 12], 'bootstrap': [True, False]}],\n",
       "       pre_dispatch='2*n_jobs', refit=True, return_train_score='warn',\n",
       "       scoring='neg_mean_squared_error', verbose=0)"
      ]
     },
     "execution_count": 13,
     "metadata": {},
     "output_type": "execute_result"
    }
   ],
   "source": [
    "gs.fit(X_train, y_train)"
   ]
  },
  {
   "cell_type": "code",
   "execution_count": 14,
   "metadata": {},
   "outputs": [
    {
     "data": {
      "text/plain": [
       "{'max_features': 18, 'n_estimators': 50}"
      ]
     },
     "execution_count": 14,
     "metadata": {},
     "output_type": "execute_result"
    }
   ],
   "source": [
    "gs.best_params_"
   ]
  },
  {
   "cell_type": "code",
   "execution_count": 15,
   "metadata": {
    "collapsed": true
   },
   "outputs": [],
   "source": [
    "gs_results_rfr = gs.cv_results_"
   ]
  },
  {
   "cell_type": "code",
   "execution_count": 16,
   "metadata": {},
   "outputs": [
    {
     "name": "stderr",
     "output_type": "stream",
     "text": [
      "/Users/pauldefusco/anaconda2/envs/py27/lib/python2.7/site-packages/sklearn/utils/deprecation.py:122: FutureWarning: You are accessing a training score ('mean_train_score'), which will not be available by default any more in 0.21. If you need training scores, please set return_train_score=True\n",
      "  warnings.warn(*warn_args, **warn_kwargs)\n",
      "/Users/pauldefusco/anaconda2/envs/py27/lib/python2.7/site-packages/sklearn/utils/deprecation.py:122: FutureWarning: You are accessing a training score ('std_train_score'), which will not be available by default any more in 0.21. If you need training scores, please set return_train_score=True\n",
      "  warnings.warn(*warn_args, **warn_kwargs)\n",
      "/Users/pauldefusco/anaconda2/envs/py27/lib/python2.7/site-packages/ipykernel_launcher.py:2: RuntimeWarning: invalid value encountered in sqrt\n",
      "  \n",
      "/Users/pauldefusco/anaconda2/envs/py27/lib/python2.7/site-packages/ipykernel_launcher.py:4: RuntimeWarning: invalid value encountered in sqrt\n",
      "  after removing the cwd from sys.path.\n"
     ]
    }
   ],
   "source": [
    "train_scores_rfr = np.sqrt(-gs_results_rfr['mean_train_score'])\n",
    "train_scores_std_rfr = np.sqrt(-gs_results_rfr['std_train_score'])\n",
    "val_scores_rfr = np.sqrt(-gs_results_rfr['mean_test_score'])\n",
    "val_scores_std_rfr = np.sqrt(-gs_results_rfr['std_test_score'])"
   ]
  },
  {
   "cell_type": "code",
   "execution_count": 17,
   "metadata": {
    "collapsed": true
   },
   "outputs": [],
   "source": [
    "rf_best_model = gs.best_estimator_"
   ]
  },
  {
   "cell_type": "code",
   "execution_count": 18,
   "metadata": {},
   "outputs": [
    {
     "data": {
      "text/plain": [
       "RandomForestRegressor(bootstrap=True, criterion='mse', max_depth=None,\n",
       "           max_features=18, max_leaf_nodes=None, min_impurity_decrease=0.0,\n",
       "           min_impurity_split=None, min_samples_leaf=1,\n",
       "           min_samples_split=2, min_weight_fraction_leaf=0.0,\n",
       "           n_estimators=50, n_jobs=1, oob_score=False, random_state=None,\n",
       "           verbose=0, warm_start=False)"
      ]
     },
     "execution_count": 18,
     "metadata": {},
     "output_type": "execute_result"
    }
   ],
   "source": [
    "rf_best_model"
   ]
  },
  {
   "cell_type": "code",
   "execution_count": 19,
   "metadata": {
    "collapsed": true
   },
   "outputs": [],
   "source": [
    "imp_rfr = rf_best_model.feature_importances_"
   ]
  },
  {
   "cell_type": "code",
   "execution_count": 20,
   "metadata": {
    "collapsed": true
   },
   "outputs": [],
   "source": [
    "from operator import itemgetter\n",
    "imp_rfr = pd.DataFrame(sorted(zip(X_ratios.columns, imp_rfr),reverse=True,key=itemgetter(1)), columns=['Feature', 'Importance']).sort_values(by='Importance', ascending=False)"
   ]
  },
  {
   "cell_type": "markdown",
   "metadata": {},
   "source": [
    "It looks like we are strongly overfitting. Can this be improved with feature selection? Let's look at how many top features minimize validation error"
   ]
  },
  {
   "cell_type": "code",
   "execution_count": 21,
   "metadata": {},
   "outputs": [
    {
     "data": {
      "text/plain": [
       "<module 'matplotlib.pyplot' from '/Users/pauldefusco/anaconda2/envs/py27/lib/python2.7/site-packages/matplotlib/pyplot.pyc'>"
      ]
     },
     "execution_count": 21,
     "metadata": {},
     "output_type": "execute_result"
    },
    {
     "data": {
      "image/png": "[encoded data removed]",
      "text/plain": [
       "<Figure size 432x288 with 1 Axes>"
      ]
     },
     "metadata": {},
     "output_type": "display_data"
    }
   ],
   "source": [
    "plot_learning_curve(rf_best_model, \"Tuned Random Forest Regression\", X_train, y_train, ylim=None, cv=10,\n",
    "                        n_jobs=1, train_sizes=np.linspace(.1, 1.0, 10))"
   ]
  },
  {
   "cell_type": "code",
   "execution_count": null,
   "metadata": {},
   "outputs": [],
   "source": [
    "plot_rmse_features(rf_best_model, X_train, y_train, list(imp_rfr.Feature))"
   ]
  },
  {
   "cell_type": "markdown",
   "metadata": {},
   "source": [
    "RMSE seems to increase linearly with the number of features added. To simplify the model, we pick the top n variables that seem to minimize CV RMSE i.e. 13"
   ]
  },
  {
   "cell_type": "code",
   "execution_count": null,
   "metadata": {},
   "outputs": [],
   "source": [
    "X_train, X_test, y_train, y_test = train_test_split(X_ratios[list(imp_rfr.Feature.head(17))], y_normed, test_size=0.3, random_state=42)"
   ]
  },
  {
   "cell_type": "code",
   "execution_count": null,
   "metadata": {
    "collapsed": true
   },
   "outputs": [],
   "source": [
    "best_rfr = RandomForestRegressor(bootstrap=True, criterion='mse', max_depth=None,\n",
    "           max_features=16, max_leaf_nodes=None, min_impurity_decrease=0.0,\n",
    "           min_impurity_split=None, min_samples_leaf=1,\n",
    "           min_samples_split=2, min_weight_fraction_leaf=0.0,\n",
    "           n_estimators=40, n_jobs=1, oob_score=False, random_state=None,\n",
    "           verbose=0, warm_start=False)"
   ]
  },
  {
   "cell_type": "code",
   "execution_count": null,
   "metadata": {},
   "outputs": [],
   "source": [
    "best_rfr_scores = cross_validate(best_rfr, X_train, y_train, cv=6, scoring=('r2','neg_mean_squared_error'))"
   ]
  },
  {
   "cell_type": "code",
   "execution_count": null,
   "metadata": {},
   "outputs": [],
   "source": [
    "print \"CV Training RMSE: \", best_rfr_scores['train_r2'].mean()\n",
    "print \"CV Validation RMSE: \",best_rfr_scores['test_r2'].mean()"
   ]
  },
  {
   "cell_type": "code",
   "execution_count": null,
   "metadata": {},
   "outputs": [],
   "source": [
    "print \"CV Training RMSE: \", np.sqrt(-best_rfr_scores['train_neg_mean_squared_error'].mean())\n",
    "print \"CV Validation RMSE: \",np.sqrt(-best_rfr_scores['test_neg_mean_squared_error'].mean())"
   ]
  },
  {
   "cell_type": "code",
   "execution_count": null,
   "metadata": {},
   "outputs": [],
   "source": [
    "rfr_best.fit(X_train, y_train)"
   ]
  },
  {
   "cell_type": "code",
   "execution_count": null,
   "metadata": {},
   "outputs": [],
   "source": [
    "plot_learning_curve(rfr_best, \"Tuned Random Forest Regression\", X_train, y_train, ylim=None, cv=10,\n",
    "                        n_jobs=1, train_sizes=np.linspace(.1, 1.0, 10))"
   ]
  },
  {
   "cell_type": "code",
   "execution_count": null,
   "metadata": {},
   "outputs": [],
   "source": [
    "test_predictions_rf = rfr_best.predict(X_test)\n",
    "print 'Test R2: ',r2_score(y_test, test_predictions_rf)\n",
    "print 'Test RMSE: ',np.sqrt(mean_squared_error(y_test, test_predictions_rf))\n",
    "print 'Test MAE: ',mean_absolute_error(y_test, test_predictions_rf)"
   ]
  },
  {
   "cell_type": "code",
   "execution_count": null,
   "metadata": {},
   "outputs": [],
   "source": [
    "map_variable(y_test-test_predictions_rf, listings)"
   ]
  },
  {
   "cell_type": "code",
   "execution_count": null,
   "metadata": {},
   "outputs": [],
   "source": [
    "rfr_best_train_pred_cv = cross_val_predict(rfr_best, X_train, y_train, cv=6)"
   ]
  },
  {
   "cell_type": "code",
   "execution_count": null,
   "metadata": {},
   "outputs": [],
   "source": [
    "plt.figure(figsize=(20,10))\n",
    "plt.scatter(rfr_best_train_pred_cv, rfr_best_train_pred_cv-y_train, \n",
    "            c='steelblue', marker='o', edgecolor='white',\n",
    "           label='CV Train Data')\n",
    "plt.scatter(test_predictions_rf, test_predictions_rf-y_test, \n",
    "            c='limegreen', marker='x', edgecolor='red',\n",
    "           label='Test Data')\n",
    "plt.xlabel('Predicted Values')\n",
    "plt.ylabel('Residuals')\n",
    "plt.legend(loc='upper right')\n",
    "plt.hlines(y=0, color='black', xmin=-.1, xmax=.4, lw=3)\n",
    "plt.title('Predicted Values vs Residuals - Tuned Random Forest Regressor')\n",
    "plt.show()"
   ]
  },
  {
   "cell_type": "markdown",
   "metadata": {},
   "source": [
    "Bagging Regressor"
   ]
  },
  {
   "cell_type": "code",
   "execution_count": null,
   "metadata": {
    "collapsed": true
   },
   "outputs": [],
   "source": [
    "X_train, X_test, y_train, y_test = train_test_split(X_ratios, y_normed, test_size=0.3, random_state=42)"
   ]
  },
  {
   "cell_type": "code",
   "execution_count": null,
   "metadata": {
    "collapsed": true
   },
   "outputs": [],
   "source": [
    "br = BaggingRegressor()"
   ]
  },
  {
   "cell_type": "code",
   "execution_count": null,
   "metadata": {
    "collapsed": true
   },
   "outputs": [],
   "source": [
    "param_grid = [\n",
    "    {'n_estimators':[3,10,30], 'max_features':[i for i in range(31,81,20)]},\n",
    "]"
   ]
  },
  {
   "cell_type": "code",
   "execution_count": null,
   "metadata": {},
   "outputs": [],
   "source": [
    "gs = GridSearchCV(br, param_grid, cv=3, scoring='neg_mean_squared_error')\n",
    "gs.fit(X_train, y_train)"
   ]
  },
  {
   "cell_type": "code",
   "execution_count": null,
   "metadata": {},
   "outputs": [],
   "source": [
    "print gs.best_params_\n",
    "print gs.best_estimator_\n",
    "gs_results = gs.cv_results_"
   ]
  },
  {
   "cell_type": "code",
   "execution_count": null,
   "metadata": {},
   "outputs": [],
   "source": [
    "train_scores_br = np.sqrt(-gs.cv_results_['mean_train_score'])\n",
    "train_scores_std_br = np.sqrt(-gs.cv_results_['std_train_score'])\n",
    "val_scores_br = np.sqrt(-gs.cv_results_['mean_test_score'])\n",
    "val_scores_std_br = np.sqrt(-gs.cv_results_['std_test_score'])"
   ]
  },
  {
   "cell_type": "code",
   "execution_count": null,
   "metadata": {},
   "outputs": [],
   "source": [
    "best_model_br = gs.best_estimator_\n",
    "test_predictions_br = best_model_br.predict(X_test)\n",
    "print 'Test R2: ',r2_score(y_test, test_predictions_br)\n",
    "print 'Test RMSE: ',np.sqrt(mean_squared_error(y_test, test_predictions_br))\n",
    "print 'Test MAE: ',mean_absolute_error(y_test, test_predictions_br)"
   ]
  },
  {
   "cell_type": "code",
   "execution_count": null,
   "metadata": {},
   "outputs": [],
   "source": [
    "plot_learning_curve(best_model_br, \"Bagging Regression\", X_train, y_train, ylim=None, cv=10,\n",
    "                        n_jobs=1, train_sizes=np.linspace(.1, 1.0, 10))"
   ]
  },
  {
   "cell_type": "markdown",
   "metadata": {
    "collapsed": true
   },
   "source": [
    "AdaBoost"
   ]
  },
  {
   "cell_type": "code",
   "execution_count": null,
   "metadata": {
    "collapsed": true
   },
   "outputs": [],
   "source": [
    "abr = AdaBoostRegressor()"
   ]
  },
  {
   "cell_type": "code",
   "execution_count": null,
   "metadata": {
    "collapsed": true
   },
   "outputs": [],
   "source": [
    "param_grid = [\n",
    "    {'n_estimators':[i for i in range(35,65,5)]},\n",
    "]"
   ]
  },
  {
   "cell_type": "code",
   "execution_count": null,
   "metadata": {},
   "outputs": [],
   "source": [
    "gs = GridSearchCV(abr, param_grid, cv=3, scoring='neg_mean_squared_error')\n",
    "gs.fit(X_train, y_train)"
   ]
  },
  {
   "cell_type": "code",
   "execution_count": null,
   "metadata": {},
   "outputs": [],
   "source": [
    "print gs.best_params_\n",
    "print gs.best_estimator_\n",
    "gs_results = gs.cv_results_"
   ]
  },
  {
   "cell_type": "code",
   "execution_count": null,
   "metadata": {},
   "outputs": [],
   "source": [
    "train_scores_abr = np.sqrt(-gs.cv_results_['mean_train_score'])\n",
    "train_scores_std_abr = np.sqrt(-gs.cv_results_['std_train_score'])\n",
    "val_scores_abr = np.sqrt(-gs.cv_results_['mean_test_score'])\n",
    "val_scores_std_abr = np.sqrt(-gs.cv_results_['std_test_score'])"
   ]
  },
  {
   "cell_type": "code",
   "execution_count": null,
   "metadata": {},
   "outputs": [],
   "source": [
    "best_model_abr = gs.best_estimator_\n",
    "test_predictions_abr = best_model_abr.predict(X_test)\n",
    "print 'Test R2: ',r2_score(y_test, test_predictions_abr)\n",
    "print 'Test RMSE: ',np.sqrt(mean_squared_error(y_test, test_predictions_abr))\n",
    "print 'Test MAE: ',mean_absolute_error(y_test, test_predictions_abr)"
   ]
  },
  {
   "cell_type": "code",
   "execution_count": null,
   "metadata": {
    "collapsed": true
   },
   "outputs": [],
   "source": [
    "plot_learning_curve(best_model_abr, \"AdaBoost Regression\", X_train, y_train, ylim=None, cv=10,\n",
    "                        n_jobs=1, train_sizes=np.linspace(.1, 1.0, 10))"
   ]
  },
  {
   "cell_type": "code",
   "execution_count": null,
   "metadata": {},
   "outputs": [],
   "source": [
    "map_variable(y_test-test_predictions_abr, listings)"
   ]
  },
  {
   "cell_type": "code",
   "execution_count": null,
   "metadata": {},
   "outputs": [],
   "source": [
    "plt.figure(figsize=(20,10))\n",
    "visualizer = ResidualsPlot(best_model_abr)\n",
    "\n",
    "visualizer.fit(X_train, y_train)  # Fit the training data to the visualizer\n",
    "visualizer.score(X_test, y_test)  # Evaluate the model on the test data\n",
    "g = visualizer.poof()"
   ]
  },
  {
   "cell_type": "code",
   "execution_count": null,
   "metadata": {
    "collapsed": true
   },
   "outputs": [],
   "source": [
    "imp_abr = best_model_abr.feature_importances_"
   ]
  },
  {
   "cell_type": "code",
   "execution_count": null,
   "metadata": {
    "collapsed": true
   },
   "outputs": [],
   "source": [
    "from operator import itemgetter\n",
    "imp_abr = pd.DataFrame(sorted(zip(X_ratios.columns, imp_abr),reverse=True,key=itemgetter(1)), columns=['Feature', 'Importance']).sort_values(by='Importance', ascending=False)"
   ]
  },
  {
   "cell_type": "markdown",
   "metadata": {},
   "source": [
    "It looks like we are strongly overfitting. Can this be improved with feature selection? Let's look at how many top features minimize validation error"
   ]
  },
  {
   "cell_type": "code",
   "execution_count": null,
   "metadata": {},
   "outputs": [],
   "source": [
    "plot_rmse_features(best_model_abr, X_train, y_train, list(imp_abr.Feature))"
   ]
  },
  {
   "cell_type": "markdown",
   "metadata": {},
   "source": [
    "We would like to select the top n features that give us the lowest cross validation error but there doesn't seem to be a clear point. We will choose as few features as possible as long as the errors are small, so let's try 10"
   ]
  },
  {
   "cell_type": "code",
   "execution_count": null,
   "metadata": {
    "collapsed": true
   },
   "outputs": [],
   "source": [
    "X_train, X_test, y_train, y_test = train_test_split(X_ratios[list(imp_abr.Feature.head(50))], y_normed, test_size=0.3, random_state=42)"
   ]
  },
  {
   "cell_type": "code",
   "execution_count": null,
   "metadata": {},
   "outputs": [],
   "source": [
    "best_model_abr"
   ]
  },
  {
   "cell_type": "code",
   "execution_count": null,
   "metadata": {
    "collapsed": true
   },
   "outputs": [],
   "source": [
    "abr_best = AdaBoostRegressor(base_estimator=None, learning_rate=1.0, loss='linear',\n",
    "         n_estimators=30, random_state=None)"
   ]
  },
  {
   "cell_type": "code",
   "execution_count": null,
   "metadata": {
    "collapsed": true
   },
   "outputs": [],
   "source": [
    "best_abr_scores = cross_validate(abr_best, X_train, y_train, cv=6, scoring=('r2','neg_mean_squared_error'))"
   ]
  },
  {
   "cell_type": "code",
   "execution_count": null,
   "metadata": {},
   "outputs": [],
   "source": [
    "print \"CV Training RMSE: \", best_abr_scores['train_r2'].mean()\n",
    "print \"CV Validation RMSE: \",best_abr_scores['test_r2'].mean()"
   ]
  },
  {
   "cell_type": "code",
   "execution_count": null,
   "metadata": {},
   "outputs": [],
   "source": [
    "print \"CV Training RMSE: \", np.sqrt(-best_abr_scores['train_neg_mean_squared_error'].mean())\n",
    "print \"CV Validation RMSE: \",np.sqrt(-best_abr_scores['test_neg_mean_squared_error'].mean())"
   ]
  },
  {
   "cell_type": "code",
   "execution_count": null,
   "metadata": {},
   "outputs": [],
   "source": [
    "abr_best.fit(X_train, y_train)"
   ]
  },
  {
   "cell_type": "code",
   "execution_count": null,
   "metadata": {},
   "outputs": [],
   "source": [
    "plot_learning_curve(abr_best, \"AdaBoost Regression\", X_train, y_train, ylim=None, cv=10,\n",
    "                        n_jobs=1, train_sizes=np.linspace(.1, 1.0, 10))"
   ]
  },
  {
   "cell_type": "code",
   "execution_count": null,
   "metadata": {},
   "outputs": [],
   "source": [
    "test_predictions_abr = abr_best.predict(X_test)\n",
    "print 'Test R2: ',r2_score(y_test, test_predictions_abr)\n",
    "print 'Test RMSE: ',np.sqrt(mean_squared_error(y_test, test_predictions_abr))\n",
    "print 'Test MAE: ',mean_absolute_error(y_test, test_predictions_abr)"
   ]
  },
  {
   "cell_type": "code",
   "execution_count": null,
   "metadata": {},
   "outputs": [],
   "source": [
    "map_variable(y_test-test_predictions_abr, listings)"
   ]
  },
  {
   "cell_type": "code",
   "execution_count": null,
   "metadata": {
    "collapsed": true
   },
   "outputs": [],
   "source": [
    "abr_best_train_pred_cv = cross_val_predict(best_abr, X_train, y_train, cv=6)"
   ]
  },
  {
   "cell_type": "code",
   "execution_count": null,
   "metadata": {},
   "outputs": [],
   "source": [
    "plt.figure(figsize=(20,10))\n",
    "plt.scatter(abr_best_train_pred_cv, abr_best_train_pred_cv-y_train, \n",
    "            c='steelblue', marker='o', edgecolor='white',\n",
    "           label='CV Train Data')\n",
    "plt.scatter(test_predictions_abr, test_predictions_abr-y_test, \n",
    "            c='limegreen', marker='x', edgecolor='red',\n",
    "           label='Test Data')\n",
    "plt.xlabel('Predicted Values')\n",
    "plt.ylabel('Residuals')\n",
    "plt.legend(loc='upper right')\n",
    "plt.hlines(y=0, color='black', xmin=-.1, xmax=.4, lw=3)\n",
    "plt.title('Predicted Values vs Residuals - Tuned Random Forest Regressor')\n",
    "plt.show()"
   ]
  },
  {
   "cell_type": "markdown",
   "metadata": {
    "collapsed": true
   },
   "source": [
    "Gradient Boosting"
   ]
  },
  {
   "cell_type": "code",
   "execution_count": null,
   "metadata": {
    "collapsed": true
   },
   "outputs": [],
   "source": [
    "X_train, X_test, y_train, y_test = train_test_split(X_ratios, y_normed, test_size=0.3, random_state=42)"
   ]
  },
  {
   "cell_type": "code",
   "execution_count": null,
   "metadata": {
    "collapsed": true
   },
   "outputs": [],
   "source": [
    "gbr = GradientBoostingRegressor()"
   ]
  },
  {
   "cell_type": "code",
   "execution_count": null,
   "metadata": {
    "collapsed": true
   },
   "outputs": [],
   "source": [
    "param_grid = [\n",
    "    {'n_estimators':[30,40,50]},\n",
    "]"
   ]
  },
  {
   "cell_type": "code",
   "execution_count": null,
   "metadata": {},
   "outputs": [],
   "source": [
    "gs = GridSearchCV(gbr, param_grid, cv=3, scoring='neg_mean_squared_error')\n",
    "gs.fit(X_train, y_train)"
   ]
  },
  {
   "cell_type": "code",
   "execution_count": null,
   "metadata": {},
   "outputs": [],
   "source": [
    "print gs.best_params_\n",
    "print gs.best_estimator_\n",
    "gs_results_gbr = gs.cv_results_"
   ]
  },
  {
   "cell_type": "code",
   "execution_count": null,
   "metadata": {},
   "outputs": [],
   "source": [
    "train_scores_gbr = np.sqrt(-gs_results_gbr['mean_train_score'])\n",
    "train_scores_std_gbr = np.sqrt(-gs_results_gbr['std_train_score'])\n",
    "val_scores_gbr = np.sqrt(-gs_results_gbr['mean_test_score'])\n",
    "val_scores_std_gbr = np.sqrt(-gs_results_gbr['std_test_score'])"
   ]
  },
  {
   "cell_type": "code",
   "execution_count": null,
   "metadata": {},
   "outputs": [],
   "source": [
    "best_model_gbr = gs.best_estimator_\n",
    "test_predictions_gbr = best_model_gbr.predict(X_test)\n",
    "print 'Test R2: ',r2_score(y_test, test_predictions_gbr)\n",
    "print 'Test RMSE: ',np.sqrt(mean_squared_error(y_test, test_predictions_gbr))\n",
    "print 'Test MAE: ',mean_absolute_error(y_test, test_predictions_gbr)"
   ]
  },
  {
   "cell_type": "code",
   "execution_count": null,
   "metadata": {
    "collapsed": true
   },
   "outputs": [],
   "source": [
    "plot_learning_curve(best_model_gbr, \"Gradient Boosting Regression\", X_train, y_train, ylim=None, cv=10,\n",
    "                        n_jobs=1, train_sizes=np.linspace(.1, 1.0, 10))"
   ]
  },
  {
   "cell_type": "code",
   "execution_count": null,
   "metadata": {},
   "outputs": [],
   "source": [
    "map_variable(y_test-test_predictions_gbr, listings)"
   ]
  },
  {
   "cell_type": "code",
   "execution_count": null,
   "metadata": {},
   "outputs": [],
   "source": [
    "plt.figure(figsize=(20,10))\n",
    "visualizer = ResidualsPlot(best_model_gbr)\n",
    "\n",
    "visualizer.fit(X_train, y_train)  # Fit the training data to the visualizer\n",
    "visualizer.score(X_test, y_test)  # Evaluate the model on the test data\n",
    "g = visualizer.poof()"
   ]
  },
  {
   "cell_type": "code",
   "execution_count": null,
   "metadata": {
    "collapsed": true
   },
   "outputs": [],
   "source": [
    "imp_gbr = best_model_gbr.feature_importances_"
   ]
  },
  {
   "cell_type": "code",
   "execution_count": null,
   "metadata": {
    "collapsed": true
   },
   "outputs": [],
   "source": [
    "from operator import itemgetter\n",
    "imp_gbr = pd.DataFrame(sorted(zip(X_ratios.columns, imp_gbr),reverse=True,key=itemgetter(1)), columns=['Feature', 'Importance']).sort_values(by='Importance', ascending=False)"
   ]
  },
  {
   "cell_type": "markdown",
   "metadata": {},
   "source": [
    "It looks like we are strongly overfitting. Can this be improved with feature selection? Let's look at how many top features minimize validation error"
   ]
  },
  {
   "cell_type": "code",
   "execution_count": null,
   "metadata": {},
   "outputs": [],
   "source": [
    "plot_rmse_features(best_model_gbr, X_train, y_train, list(imp_gbr.Feature))"
   ]
  },
  {
   "cell_type": "markdown",
   "metadata": {},
   "source": [
    "We select the top n features such that n minimizes training error\n",
    "The above needs to be run again - there was an error in the viz method - for now I am picking the top 80 most important features"
   ]
  },
  {
   "cell_type": "code",
   "execution_count": null,
   "metadata": {},
   "outputs": [],
   "source": [
    "best_model_gbr"
   ]
  },
  {
   "cell_type": "code",
   "execution_count": null,
   "metadata": {
    "collapsed": true
   },
   "outputs": [],
   "source": [
    "gbr_best = GradientBoostingRegressor(alpha=0.9, criterion='friedman_mse', init=None,\n",
    "             learning_rate=0.1, loss='ls', max_depth=3, max_features=None,\n",
    "             max_leaf_nodes=None, min_impurity_decrease=0.0,\n",
    "             min_impurity_split=None, min_samples_leaf=1,\n",
    "             min_samples_split=2, min_weight_fraction_leaf=0.0,\n",
    "             n_estimators=30, presort='auto', random_state=None,\n",
    "             subsample=1.0, verbose=0, warm_start=False)"
   ]
  },
  {
   "cell_type": "code",
   "execution_count": null,
   "metadata": {
    "collapsed": true
   },
   "outputs": [],
   "source": [
    "X_train, X_test, y_train, y_test = train_test_split(X_ratios[list(imp_gbr.Feature.head(50))], y_normed, test_size=0.3, random_state=42)"
   ]
  },
  {
   "cell_type": "code",
   "execution_count": null,
   "metadata": {},
   "outputs": [],
   "source": [
    "best_gbr_scores = cross_validate(gbr_best, X_train, y_train, cv=6, scoring=('r2','neg_mean_squared_error'))"
   ]
  },
  {
   "cell_type": "code",
   "execution_count": null,
   "metadata": {},
   "outputs": [],
   "source": [
    "print \"CV Training RMSE: \", best_gbr_scores['train_r2'].mean()\n",
    "print \"CV Validation RMSE: \",best_gbr_scores['test_r2'].mean()"
   ]
  },
  {
   "cell_type": "code",
   "execution_count": null,
   "metadata": {},
   "outputs": [],
   "source": [
    "print \"CV Training RMSE: \", np.sqrt(-best_gbr_scores['train_neg_mean_squared_error'].mean())\n",
    "print \"CV Validation RMSE: \",np.sqrt(-best_gbr_scores['test_neg_mean_squared_error'].mean())"
   ]
  },
  {
   "cell_type": "code",
   "execution_count": null,
   "metadata": {},
   "outputs": [],
   "source": [
    "gbr_best.fit(X_train, y_train)"
   ]
  },
  {
   "cell_type": "code",
   "execution_count": null,
   "metadata": {},
   "outputs": [],
   "source": [
    "plot_learning_curve(gbr_best, \"Gradient Boosting Regression after Feature Removal - CV Curves\", X_train, y_train, ylim=None, cv=10,\n",
    "                        n_jobs=1, train_sizes=np.linspace(.1, 1.0, 10))"
   ]
  },
  {
   "cell_type": "code",
   "execution_count": null,
   "metadata": {},
   "outputs": [],
   "source": [
    "test_predictions_gbr = gbr_best.predict(X_test)\n",
    "print 'Test R2: ',r2_score(y_test, test_predictions_gbr)\n",
    "print 'Test RMSE: ',np.sqrt(mean_squared_error(y_test, test_predictions_gbr))\n",
    "print 'Test MAE: ',mean_absolute_error(y_test, test_predictions_gbr)"
   ]
  },
  {
   "cell_type": "code",
   "execution_count": null,
   "metadata": {},
   "outputs": [],
   "source": [
    "map_variable(y_test-test_predictions_gbr, listings)"
   ]
  },
  {
   "cell_type": "code",
   "execution_count": null,
   "metadata": {
    "collapsed": true
   },
   "outputs": [],
   "source": [
    "gbr_best_train_pred_cv = cross_val_predict(gbr_best, X_train, y_train, cv=6)"
   ]
  },
  {
   "cell_type": "code",
   "execution_count": null,
   "metadata": {},
   "outputs": [],
   "source": [
    "plt.figure(figsize=(20,10))\n",
    "plt.scatter(gbr_best_train_pred_cv, gbr_best_train_pred_cv-y_train, \n",
    "            c='steelblue', marker='o', edgecolor='white',\n",
    "           label='CV Train Data')\n",
    "plt.scatter(test_predictions_gbr, test_predictions_gbr-y_test, \n",
    "            c='limegreen', marker='x', edgecolor='red',\n",
    "           label='Test Data')\n",
    "plt.xlabel('Predicted Values')\n",
    "plt.ylabel('Residuals')\n",
    "plt.legend(loc='upper right')\n",
    "plt.hlines(y=0, color='black', xmin=-.1, xmax=.4, lw=3)\n",
    "plt.title('Predicted Values vs Residuals - Tuned Random Forest Regressor')\n",
    "plt.show()"
   ]
  },
  {
   "cell_type": "code",
   "execution_count": null,
   "metadata": {},
   "outputs": [],
   "source": [
    "ranks[\"RFR\"] = rank_to_dict(np.abs(rfr_best.feature_importances_), X_ratios.columns)\n",
    "ranks[\"ABR\"] = rank_to_dict(np.abs(abr_best.feature_importances_), X_ratios.columns)\n",
    "ranks[\"GBR\"] = rank_to_dict(np.abs(gbr_best.feature_importances_ ), X_ratios.columns)"
   ]
  },
  {
   "cell_type": "code",
   "execution_count": null,
   "metadata": {},
   "outputs": [],
   "source": [
    "%store best_rfr_scores\n",
    "%store best_abr_scores\n",
    "%store best_gbr_scores"
   ]
  },
  {
   "cell_type": "code",
   "execution_count": null,
   "metadata": {},
   "outputs": [],
   "source": [
    "%store train_scores_br\n",
    "%store val_scores_br\n",
    "###May not need the ones below\n",
    "#%store train_scores_gb\n",
    "#%store val_scores_gb\n",
    "%store train_scores_abr\n",
    "%store val_scores_abr\n",
    "%store train_scores_gbr\n",
    "%store val_scores_gbr\n",
    "%store train_scores_rfr\n",
    "%store val_scores_rfr"
   ]
  },
  {
   "cell_type": "code",
   "execution_count": null,
   "metadata": {},
   "outputs": [],
   "source": [
    "%store test_predictions_rf\n",
    "%store test_predictions_br\n",
    "%store test_predictions_abr\n",
    "%store test_predictions_gbr"
   ]
  },
  {
   "cell_type": "code",
   "execution_count": null,
   "metadata": {},
   "outputs": [],
   "source": [
    "%store abr_best\n",
    "%store gbr_best\n",
    "%store best_model_br\n",
    "%store rfr_best"
   ]
  },
  {
   "cell_type": "code",
   "execution_count": null,
   "metadata": {},
   "outputs": [],
   "source": [
    "%store ranks"
   ]
  },
  {
   "cell_type": "code",
   "execution_count": null,
   "metadata": {
    "collapsed": true
   },
   "outputs": [],
   "source": []
  }
 ],
 "metadata": {
  "kernelspec": {
   "display_name": "Python 2",
   "language": "python",
   "name": "python2"
  },
  "language_info": {
   "codemirror_mode": {
    "name": "ipython",
    "version": 2
   },
   "file_extension": ".py",
   "mimetype": "text/x-python",
   "name": "python",
   "nbconvert_exporter": "python",
   "pygments_lexer": "ipython2",
   "version": "2.7.14"
  }
 },
 "nbformat": 4,
 "nbformat_minor": 2
}
