{
 "cells": [
  {
   "cell_type": "markdown",
   "metadata": {},
   "source": [
    "# Principal Component Analysis Visualizations"
   ]
  },
  {
   "cell_type": "markdown",
   "metadata": {},
   "source": [
    "### Notebook Summary:\n",
    "\n",
    "#### Objective: provide visualizations of PCA for differently transformed datasets as a means of data exploration \n",
    "\n",
    "* Datasets used include the original listings dataset, the augmented dataset, the normalized augmented dataset, the standardized augmented dataset, the normalized augmented dataset after it had been augmented further with ratio features (reference modeling notebooks for more info)\n",
    "\n",
    "#### Conclusions: \n",
    "* We choose the tuned Lasso model for the best trade off between bias and variance "
   ]
  },
  {
   "cell_type": "code",
   "execution_count": null,
   "metadata": {
    "collapsed": true
   },
   "outputs": [],
   "source": []
  }
 ],
 "metadata": {
  "kernelspec": {
   "display_name": "Python 2",
   "language": "python",
   "name": "python2"
  },
  "language_info": {
   "codemirror_mode": {
    "name": "ipython",
    "version": 2
   },
   "file_extension": ".py",
   "mimetype": "text/x-python",
   "name": "python",
   "nbconvert_exporter": "python",
   "pygments_lexer": "ipython2",
   "version": "2.7.14"
  }
 },
 "nbformat": 4,
 "nbformat_minor": 2
}
