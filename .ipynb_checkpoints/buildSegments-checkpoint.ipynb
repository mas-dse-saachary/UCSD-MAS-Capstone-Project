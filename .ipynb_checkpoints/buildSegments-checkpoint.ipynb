{
 "cells": [
  {
   "cell_type": "markdown",
   "metadata": {},
   "source": [
    "# Listings Segmentation"
   ]
  },
  {
   "cell_type": "markdown",
   "metadata": {},
   "source": [
    "Splitting up the listings based on different combinations of features\n",
    "Basis for hypothesis tests"
   ]
  },
  {
   "cell_type": "markdown",
   "metadata": {},
   "source": [
    "NB: This notebook will work with mean prices across each listing time series price data in order to simplify the problem. Eventually, this will probably have to be modified"
   ]
  },
  {
   "cell_type": "code",
   "execution_count": 1,
   "metadata": {
    "collapsed": true
   },
   "outputs": [],
   "source": [
    "import pandas as pd\n",
    "import numpy as np\n",
    "import scipy.stats as stats\n",
    "import matplotlib.pyplot as plt\n",
    "import numpy as np\n",
    "import pyarrow as pa\n",
    "import pyarrow.parquet as pq\n",
    "import sklearn as sk\n",
    "from sklearn.linear_model import LinearRegression"
   ]
  },
  {
   "cell_type": "code",
   "execution_count": 2,
   "metadata": {
    "collapsed": true
   },
   "outputs": [],
   "source": [
    "%matplotlib inline"
   ]
  },
  {
   "cell_type": "code",
   "execution_count": 3,
   "metadata": {
    "collapsed": true
   },
   "outputs": [],
   "source": [
    "master = pd.read_parquet('master.parquet',engine='fastparquet')"
   ]
  },
  {
   "cell_type": "markdown",
   "metadata": {},
   "source": [
    "Taking the average price for each listing:"
   ]
  },
  {
   "cell_type": "code",
   "execution_count": 4,
   "metadata": {
    "collapsed": true
   },
   "outputs": [],
   "source": [
    "df = master.groupby(by='listing_id').mean().reset_index()"
   ]
  },
  {
   "cell_type": "code",
   "execution_count": 5,
   "metadata": {
    "collapsed": true
   },
   "outputs": [],
   "source": [
    "df = df[['listing_id','price_y']]"
   ]
  },
  {
   "cell_type": "code",
   "execution_count": 6,
   "metadata": {
    "collapsed": true
   },
   "outputs": [],
   "source": [
    "df = df.rename(columns={\"price_y\":\"listing_avg_price\"})"
   ]
  },
  {
   "cell_type": "code",
   "execution_count": 7,
   "metadata": {
    "collapsed": true
   },
   "outputs": [],
   "source": [
    "master = master.merge(df, how='left', left_on='listing_id', right_on='listing_id')"
   ]
  },
  {
   "cell_type": "markdown",
   "metadata": {},
   "source": [
    "Create Categories by Combining Numeric Features"
   ]
  },
  {
   "cell_type": "markdown",
   "metadata": {},
   "source": [
    "Bedroom and Bathrooms Based Categories"
   ]
  },
  {
   "cell_type": "code",
   "execution_count": 8,
   "metadata": {
    "collapsed": true
   },
   "outputs": [],
   "source": [
    "master['bed_bath_grp']=master[['listing_id', 'bedrooms', 'bathrooms']].groupby(by=['bedrooms','bathrooms']).ngroup()"
   ]
  },
  {
   "cell_type": "code",
   "execution_count": 9,
   "metadata": {},
   "outputs": [
    {
     "data": {
      "image/png": "[encoded data removed]",
      "text/plain": [
       "<matplotlib.figure.Figure at 0x110ac3590>"
      ]
     },
     "metadata": {},
     "output_type": "display_data"
    }
   ],
   "source": [
    "plt.figure()\n",
    "master['bed_bath_grp'].hist()\n",
    "plt.title('')\n",
    "plt.show()"
   ]
  },
  {
   "cell_type": "code",
   "execution_count": 10,
   "metadata": {
    "collapsed": true
   },
   "outputs": [],
   "source": [
    "#create more"
   ]
  },
  {
   "cell_type": "code",
   "execution_count": null,
   "metadata": {
    "collapsed": true
   },
   "outputs": [],
   "source": []
  },
  {
   "cell_type": "markdown",
   "metadata": {},
   "source": [
    "Create Categories by Binning Numeric Features"
   ]
  },
  {
   "cell_type": "code",
   "execution_count": 11,
   "metadata": {},
   "outputs": [
    {
     "data": {
      "text/plain": [
       "count    852046.000000\n",
       "mean        261.169564\n",
       "std         174.551971\n",
       "min          25.000000\n",
       "25%         139.230769\n",
       "50%         206.461538\n",
       "75%         323.049020\n",
       "max         999.000000\n",
       "Name: listing_avg_price, dtype: float64"
      ]
     },
     "execution_count": 11,
     "metadata": {},
     "output_type": "execute_result"
    }
   ],
   "source": [
    "master.listing_avg_price.describe()"
   ]
  },
  {
   "cell_type": "code",
   "execution_count": 12,
   "metadata": {},
   "outputs": [
    {
     "data": {
      "image/png": "[encoded data removed]",
      "text/plain": [
       "<matplotlib.figure.Figure at 0x1af97befd0>"
      ]
     },
     "metadata": {},
     "output_type": "display_data"
    }
   ],
   "source": [
    "plt.figure()\n",
    "master.listing_avg_price.plot.density()\n",
    "plt.show()"
   ]
  },
  {
   "cell_type": "code",
   "execution_count": 13,
   "metadata": {
    "collapsed": true
   },
   "outputs": [],
   "source": [
    "#Looking at the pdf gives us an approximate idea of how to define bins for the variable\n",
    "#Use more rigorous approach in the future"
   ]
  },
  {
   "cell_type": "code",
   "execution_count": 14,
   "metadata": {
    "collapsed": true
   },
   "outputs": [],
   "source": [
    "master['avg_price_bin']=pd.cut(master.listing_avg_price, 10, right=True, labels=None, retbins=False, precision=3, include_lowest=False)"
   ]
  },
  {
   "cell_type": "code",
   "execution_count": 15,
   "metadata": {},
   "outputs": [
    {
     "data": {
      "text/plain": [
       "count    842434.000000\n",
       "mean        255.696870\n",
       "std         173.333973\n",
       "min          10.000000\n",
       "25%         135.000000\n",
       "50%         200.000000\n",
       "75%         315.000000\n",
       "max         999.000000\n",
       "Name: price_y, dtype: float64"
      ]
     },
     "execution_count": 15,
     "metadata": {},
     "output_type": "execute_result"
    }
   ],
   "source": [
    "master.price_y.describe()"
   ]
  },
  {
   "cell_type": "code",
   "execution_count": 16,
   "metadata": {},
   "outputs": [
    {
     "data": {
      "image/png": "[encoded data removed]",
      "text/plain": [
       "<matplotlib.figure.Figure at 0x110ac3650>"
      ]
     },
     "metadata": {},
     "output_type": "display_data"
    }
   ],
   "source": [
    "plt.figure()\n",
    "master.price_y.plot.density()\n",
    "plt.show()"
   ]
  },
  {
   "cell_type": "code",
   "execution_count": 17,
   "metadata": {
    "collapsed": true
   },
   "outputs": [],
   "source": [
    "master['price_bin']=pd.cut(master.price_y, 10, right=True, labels=None, retbins=False, precision=3, include_lowest=False)"
   ]
  },
  {
   "cell_type": "code",
   "execution_count": 18,
   "metadata": {},
   "outputs": [
    {
     "data": {
      "text/plain": [
       "count    634732.000000\n",
       "mean         93.796015\n",
       "std           7.885962\n",
       "min          20.000000\n",
       "25%          91.000000\n",
       "50%          96.000000\n",
       "75%         100.000000\n",
       "max         100.000000\n",
       "Name: review_scores_rating, dtype: float64"
      ]
     },
     "execution_count": 18,
     "metadata": {},
     "output_type": "execute_result"
    }
   ],
   "source": [
    "master.review_scores_rating.describe()"
   ]
  },
  {
   "cell_type": "code",
   "execution_count": 19,
   "metadata": {},
   "outputs": [
    {
     "data": {
      "image/png": "[encoded data removed]",
      "text/plain": [
       "<matplotlib.figure.Figure at 0x1a1cec07d0>"
      ]
     },
     "metadata": {},
     "output_type": "display_data"
    }
   ],
   "source": [
    "plt.figure()\n",
    "master.review_scores_rating.plot.density()\n",
    "plt.show()"
   ]
  },
  {
   "cell_type": "code",
   "execution_count": 20,
   "metadata": {
    "collapsed": true
   },
   "outputs": [],
   "source": [
    "master['review_scores_rating']=pd.cut(master.review_scores_rating, 10, right=True, labels=None, retbins=False, precision=3, include_lowest=False)"
   ]
  },
  {
   "cell_type": "code",
   "execution_count": 21,
   "metadata": {
    "collapsed": true
   },
   "outputs": [],
   "source": [
    "#Do more of the above with other features"
   ]
  },
  {
   "cell_type": "markdown",
   "metadata": {},
   "source": [
    "Now doing some Hypothesis Testing"
   ]
  },
  {
   "cell_type": "code",
   "execution_count": 22,
   "metadata": {},
   "outputs": [
    {
     "name": "stdout",
     "output_type": "stream",
     "text": [
      "31538\n",
      "21926\n",
      "0\n"
     ]
    }
   ],
   "source": [
    "print master['price_y'].isnull().sum()\n",
    "print master['listing_avg_price'].isnull().sum()\n",
    "print master['host_is_superhost'].isnull().sum()"
   ]
  },
  {
   "cell_type": "code",
   "execution_count": 23,
   "metadata": {},
   "outputs": [
    {
     "name": "stdout",
     "output_type": "stream",
     "text": [
      "0\n",
      "0\n"
     ]
    }
   ],
   "source": [
    "#for now just using avg of both series to impute null values\n",
    "#will need to evaluate this further\n",
    "mean_price = master['price_y'].mean()\n",
    "master['price_y'] = master['price_y'].fillna(mean_price)\n",
    "mean_avg_price = master['listing_avg_price'].mean()\n",
    "master['listing_avg_price'] = master['listing_avg_price'].fillna(mean_avg_price)\n",
    "print master['price_y'].isnull().sum()\n",
    "print master['listing_avg_price'].isnull().sum()"
   ]
  },
  {
   "cell_type": "code",
   "execution_count": 24,
   "metadata": {
    "collapsed": true
   },
   "outputs": [],
   "source": [
    "from scipy import stats"
   ]
  },
  {
   "cell_type": "markdown",
   "metadata": {},
   "source": [
    "Hypothesis Test: price being equal to 100"
   ]
  },
  {
   "cell_type": "code",
   "execution_count": 25,
   "metadata": {},
   "outputs": [
    {
     "data": {
      "text/plain": [
       "Ttest_1sampResult(statistic=855.31438243544028, pvalue=0.0)"
      ]
     },
     "execution_count": 25,
     "metadata": {},
     "output_type": "execute_result"
    }
   ],
   "source": [
    "stats.ttest_1samp(master['price_y'], 100)"
   ]
  },
  {
   "cell_type": "markdown",
   "metadata": {},
   "source": [
    "2 Sample T-Test: review score difference based on whether host is superhost"
   ]
  },
  {
   "cell_type": "code",
   "execution_count": 26,
   "metadata": {
    "collapsed": true
   },
   "outputs": [],
   "source": [
    "sup_host = master[master['host_is_superhost'] == 't']['review_scores_communication']"
   ]
  },
  {
   "cell_type": "code",
   "execution_count": 27,
   "metadata": {
    "collapsed": true
   },
   "outputs": [],
   "source": [
    "sup_host_not = master[master['host_is_superhost'] == 'f']['review_scores_communication']"
   ]
  },
  {
   "cell_type": "code",
   "execution_count": 28,
   "metadata": {
    "collapsed": true
   },
   "outputs": [],
   "source": [
    "sup_host = sup_host.fillna(sup_host.mean())\n",
    "sup_host_not = sup_host_not.fillna(sup_host_not.mean())"
   ]
  },
  {
   "cell_type": "code",
   "execution_count": 29,
   "metadata": {},
   "outputs": [
    {
     "name": "stdout",
     "output_type": "stream",
     "text": [
      "125748\n",
      "748224\n"
     ]
    }
   ],
   "source": [
    "print len(sup_host)\n",
    "print len(sup_host_not)"
   ]
  },
  {
   "cell_type": "code",
   "execution_count": 30,
   "metadata": {
    "collapsed": true
   },
   "outputs": [],
   "source": [
    "sup_host_sample = sup_host.sample(n=5000)\n",
    "sup_host_not_sample = sup_host_not.sample(n=5000)"
   ]
  },
  {
   "cell_type": "code",
   "execution_count": 31,
   "metadata": {},
   "outputs": [
    {
     "data": {
      "text/plain": [
       "Ttest_indResult(statistic=-34.688330885580022, pvalue=4.5999598585253046e-249)"
      ]
     },
     "execution_count": 31,
     "metadata": {},
     "output_type": "execute_result"
    }
   ],
   "source": [
    "stats.ttest_ind(sup_host_not_sample, sup_host_sample)"
   ]
  },
  {
   "cell_type": "markdown",
   "metadata": {},
   "source": [
    "Repeated Measures T-Test:"
   ]
  },
  {
   "cell_type": "code",
   "execution_count": 32,
   "metadata": {},
   "outputs": [
    {
     "data": {
      "text/plain": [
       "Ttest_relResult(statistic=34.739510437922348, pvalue=4.5938936845763656e-237)"
      ]
     },
     "execution_count": 32,
     "metadata": {},
     "output_type": "execute_result"
    }
   ],
   "source": [
    "stats.ttest_rel(sup_host_sample, sup_host_not_sample)"
   ]
  },
  {
   "cell_type": "markdown",
   "metadata": {},
   "source": [
    "Wilcoxon Signed-Rank Test"
   ]
  },
  {
   "cell_type": "code",
   "execution_count": 33,
   "metadata": {},
   "outputs": [
    {
     "data": {
      "text/plain": [
       "WilcoxonResult(statistic=129375.0, pvalue=0.0)"
      ]
     },
     "execution_count": 33,
     "metadata": {},
     "output_type": "execute_result"
    }
   ],
   "source": [
    "stats.wilcoxon(sup_host_sample, sup_host_not_sample)"
   ]
  },
  {
   "cell_type": "markdown",
   "metadata": {},
   "source": [
    "Same tests as above but with different features:"
   ]
  },
  {
   "cell_type": "code",
   "execution_count": null,
   "metadata": {
    "collapsed": true
   },
   "outputs": [],
   "source": []
  },
  {
   "cell_type": "markdown",
   "metadata": {},
   "source": [
    "Adding Autoregression Analysis - Using master['bed_bath_grp']==40"
   ]
  },
  {
   "cell_type": "code",
   "execution_count": 34,
   "metadata": {},
   "outputs": [
    {
     "name": "stderr",
     "output_type": "stream",
     "text": [
      "/Users/pauldefusco/anaconda2/envs/py27/lib/python2.7/site-packages/statsmodels/compat/pandas.py:56: FutureWarning: The pandas.core.datetools module is deprecated and will be removed in a future version. Please use the pandas.tseries module instead.\n",
      "  from pandas.core import datetools\n"
     ]
    }
   ],
   "source": [
    "import statsmodels.api as sm"
   ]
  },
  {
   "cell_type": "code",
   "execution_count": 35,
   "metadata": {
    "collapsed": true
   },
   "outputs": [],
   "source": [
    "x = master[master['bed_bath_grp']==40]['price_y']"
   ]
  },
  {
   "cell_type": "code",
   "execution_count": 36,
   "metadata": {
    "collapsed": true
   },
   "outputs": [],
   "source": [
    "x.index = master[master['bed_bath_grp']==40]['date']"
   ]
  },
  {
   "cell_type": "code",
   "execution_count": 37,
   "metadata": {
    "collapsed": true
   },
   "outputs": [],
   "source": [
    "lngth = range(len(x))"
   ]
  },
  {
   "cell_type": "code",
   "execution_count": 38,
   "metadata": {
    "collapsed": true
   },
   "outputs": [],
   "source": [
    "x.index = pd.DatetimeIndex(x,start='0', end='lngth')"
   ]
  },
  {
   "cell_type": "code",
   "execution_count": 39,
   "metadata": {},
   "outputs": [
    {
     "data": {
      "text/plain": [
       "Timestamp('1970-01-01 00:00:00.000000995')"
      ]
     },
     "execution_count": 39,
     "metadata": {},
     "output_type": "execute_result"
    }
   ],
   "source": [
    "max(x.index)"
   ]
  },
  {
   "cell_type": "code",
   "execution_count": 40,
   "metadata": {
    "collapsed": true
   },
   "outputs": [],
   "source": [
    "#x.index = [i for i in range(len(x))]"
   ]
  },
  {
   "cell_type": "markdown",
   "metadata": {},
   "source": [
    "Autocorrelation Function"
   ]
  },
  {
   "cell_type": "code",
   "execution_count": 41,
   "metadata": {},
   "outputs": [
    {
     "data": {
      "text/plain": [
       "<matplotlib.figure.Figure at 0x1a1cc80150>"
      ]
     },
     "metadata": {},
     "output_type": "display_data"
    },
    {
     "data": {
      "image/png": "[encoded data removed]",
      "text/plain": [
       "<matplotlib.figure.Figure at 0x1a1cc80110>"
      ]
     },
     "metadata": {},
     "output_type": "display_data"
    }
   ],
   "source": [
    "plt.figure()\n",
    "sm.graphics.tsa.plot_acf(x, lags=100)\n",
    "plt.show()"
   ]
  },
  {
   "cell_type": "markdown",
   "metadata": {},
   "source": [
    "Partial autocorrelation function"
   ]
  },
  {
   "cell_type": "code",
   "execution_count": 42,
   "metadata": {},
   "outputs": [
    {
     "data": {
      "text/plain": [
       "<matplotlib.figure.Figure at 0x1a1cfe1c10>"
      ]
     },
     "metadata": {},
     "output_type": "display_data"
    },
    {
     "data": {
      "image/png": "[encoded data removed]",
      "text/plain": [
       "<matplotlib.figure.Figure at 0x1a1cfe1710>"
      ]
     },
     "metadata": {},
     "output_type": "display_data"
    }
   ],
   "source": [
    "plt.figure()\n",
    "sm.graphics.tsa.plot_pacf(x, lags=100)\n",
    "plt.show()"
   ]
  },
  {
   "cell_type": "markdown",
   "metadata": {},
   "source": [
    "ARMA Model"
   ]
  },
  {
   "cell_type": "code",
   "execution_count": 43,
   "metadata": {},
   "outputs": [
    {
     "name": "stdout",
     "output_type": "stream",
     "text": [
      "Optimization terminated successfully.\n",
      "         Current function value: 6.326992\n",
      "         Iterations: 19\n",
      "         Function evaluations: 48\n",
      "         Gradient evaluations: 48\n"
     ]
    },
    {
     "data": {
      "text/html": [
       "<table class=\"simpletable\">\n",
       "<caption>ARMA Model Results</caption>\n",
       "<tr>\n",
       "  <th>Dep. Variable:</th>      <td>price_y</td>     <th>  No. Observations:  </th>    <td>5368</td>   \n",
       "</tr>\n",
       "<tr>\n",
       "  <th>Model:</th>            <td>ARMA(3, 1)</td>    <th>  Log Likelihood     </th> <td>-33963.294</td>\n",
       "</tr>\n",
       "<tr>\n",
       "  <th>Method:</th>               <td>mle</td>       <th>  S.D. of innovations</th>   <td>135.351</td> \n",
       "</tr>\n",
       "<tr>\n",
       "  <th>Date:</th>          <td>Thu, 01 Mar 2018</td> <th>  AIC                </th>  <td>67938.588</td>\n",
       "</tr>\n",
       "<tr>\n",
       "  <th>Time:</th>              <td>01:21:52</td>     <th>  BIC                </th>  <td>67978.117</td>\n",
       "</tr>\n",
       "<tr>\n",
       "  <th>Sample:</th>           <td>01-01-1970</td>    <th>  HQIC               </th>  <td>67952.393</td>\n",
       "</tr>\n",
       "<tr>\n",
       "  <th></th>                 <td>- 01-01-1970</td>   <th>                     </th>      <td> </td>    \n",
       "</tr>\n",
       "</table>\n",
       "<table class=\"simpletable\">\n",
       "<tr>\n",
       "        <td></td>           <th>coef</th>     <th>std err</th>      <th>z</th>      <th>P>|z|</th>  <th>[0.025</th>    <th>0.975]</th>  \n",
       "</tr>\n",
       "<tr>\n",
       "  <th>const</th>         <td>  534.4207</td> <td>   32.492</td> <td>   16.448</td> <td> 0.000</td> <td>  470.738</td> <td>  598.104</td>\n",
       "</tr>\n",
       "<tr>\n",
       "  <th>ar.L1.price_y</th> <td>    1.4966</td> <td>    0.017</td> <td>   88.606</td> <td> 0.000</td> <td>    1.464</td> <td>    1.530</td>\n",
       "</tr>\n",
       "<tr>\n",
       "  <th>ar.L2.price_y</th> <td>   -0.8583</td> <td>    0.022</td> <td>  -39.345</td> <td> 0.000</td> <td>   -0.901</td> <td>   -0.816</td>\n",
       "</tr>\n",
       "<tr>\n",
       "  <th>ar.L3.price_y</th> <td>    0.3472</td> <td>    0.013</td> <td>   25.791</td> <td> 0.000</td> <td>    0.321</td> <td>    0.374</td>\n",
       "</tr>\n",
       "<tr>\n",
       "  <th>ma.L1.price_y</th> <td>   -0.7432</td> <td>    0.014</td> <td>  -54.061</td> <td> 0.000</td> <td>   -0.770</td> <td>   -0.716</td>\n",
       "</tr>\n",
       "</table>\n",
       "<table class=\"simpletable\">\n",
       "<caption>Roots</caption>\n",
       "<tr>\n",
       "    <td></td>   <th>           Real</th> <th>         Imaginary</th> <th>         Modulus</th> <th>        Frequency</th>\n",
       "</tr>\n",
       "<tr>\n",
       "  <th>AR.1</th>               1.0175                    -0.0000j                    1.0175                   -0.0000     \n",
       "</tr>\n",
       "<tr>\n",
       "  <th>AR.2</th>               0.7272                    -1.5171j                    1.6824                   -0.1789     \n",
       "</tr>\n",
       "<tr>\n",
       "  <th>AR.3</th>               0.7272                    +1.5171j                    1.6824                    0.1789     \n",
       "</tr>\n",
       "<tr>\n",
       "  <th>MA.1</th>               1.3455                    +0.0000j                    1.3455                    0.0000     \n",
       "</tr>\n",
       "</table>"
      ],
      "text/plain": [
       "<class 'statsmodels.iolib.summary.Summary'>\n",
       "\"\"\"\n",
       "                              ARMA Model Results                              \n",
       "==============================================================================\n",
       "Dep. Variable:                price_y   No. Observations:                 5368\n",
       "Model:                     ARMA(3, 1)   Log Likelihood              -33963.294\n",
       "Method:                           mle   S.D. of innovations            135.351\n",
       "Date:                Thu, 01 Mar 2018   AIC                          67938.588\n",
       "Time:                        01:21:52   BIC                          67978.117\n",
       "Sample:                    01-01-1970   HQIC                         67952.393\n",
       "                         - 01-01-1970                                         \n",
       "=================================================================================\n",
       "                    coef    std err          z      P>|z|      [0.025      0.975]\n",
       "---------------------------------------------------------------------------------\n",
       "const           534.4207     32.492     16.448      0.000     470.738     598.104\n",
       "ar.L1.price_y     1.4966      0.017     88.606      0.000       1.464       1.530\n",
       "ar.L2.price_y    -0.8583      0.022    -39.345      0.000      -0.901      -0.816\n",
       "ar.L3.price_y     0.3472      0.013     25.791      0.000       0.321       0.374\n",
       "ma.L1.price_y    -0.7432      0.014    -54.061      0.000      -0.770      -0.716\n",
       "                                    Roots                                    \n",
       "=============================================================================\n",
       "                 Real           Imaginary           Modulus         Frequency\n",
       "-----------------------------------------------------------------------------\n",
       "AR.1            1.0175           -0.0000j            1.0175           -0.0000\n",
       "AR.2            0.7272           -1.5171j            1.6824           -0.1789\n",
       "AR.3            0.7272           +1.5171j            1.6824            0.1789\n",
       "MA.1            1.3455           +0.0000j            1.3455            0.0000\n",
       "-----------------------------------------------------------------------------\n",
       "\"\"\""
      ]
     },
     "execution_count": 43,
     "metadata": {},
     "output_type": "execute_result"
    }
   ],
   "source": [
    "model = sm.tsa.ARMA(x, (3, 1))\n",
    "result = model.fit(maxiter=1000, method='mle', solver='cg')\n",
    "result.summary()"
   ]
  },
  {
   "cell_type": "code",
   "execution_count": 44,
   "metadata": {
    "collapsed": true
   },
   "outputs": [],
   "source": [
    "#_ = result.plot_predict()"
   ]
  },
  {
   "cell_type": "code",
   "execution_count": 45,
   "metadata": {},
   "outputs": [
    {
     "data": {
      "image/png": "[encoded data removed]",
      "text/plain": [
       "<matplotlib.figure.Figure at 0x1a1cc57050>"
      ]
     },
     "metadata": {},
     "output_type": "display_data"
    }
   ],
   "source": [
    "plt.figure()\n",
    "plt.plot(result.resid)\n",
    "plt.show()"
   ]
  },
  {
   "cell_type": "code",
   "execution_count": 46,
   "metadata": {
    "collapsed": true
   },
   "outputs": [],
   "source": [
    "#_ = result.plot_predict(start=80, plot_insample=True)"
   ]
  },
  {
   "cell_type": "code",
   "execution_count": 47,
   "metadata": {},
   "outputs": [
    {
     "data": {
      "text/plain": [
       "[<matplotlib.lines.Line2D at 0x1a5d2d53d0>,\n",
       " <matplotlib.lines.Line2D at 0x1109f9ed0>,\n",
       " <matplotlib.lines.Line2D at 0x1109f9fd0>]"
      ]
     },
     "execution_count": 47,
     "metadata": {},
     "output_type": "execute_result"
    },
    {
     "data": {
      "image/png": "[encoded data removed]",
      "text/plain": [
       "<matplotlib.figure.Figure at 0x1af97d0b50>"
      ]
     },
     "metadata": {},
     "output_type": "display_data"
    }
   ],
   "source": [
    "f, s, e= result.forecast(steps=200)\n",
    "plt.plot(f, '.-', e, '.--')"
   ]
  },
  {
   "cell_type": "markdown",
   "metadata": {
    "collapsed": true
   },
   "source": [
    "Machine Learning on Time Series"
   ]
  },
  {
   "cell_type": "code",
   "execution_count": 48,
   "metadata": {},
   "outputs": [],
   "source": [
    "def embed_data(x, steps):\n",
    "    n = len(x)\n",
    "    xout = np.zeros((n - steps, steps))\n",
    "    yout = x[steps:]\n",
    "    for i in np.arange(steps, n):\n",
    "        xout[i - steps] = x[i-steps:i]\n",
    "    return xout, yout"
   ]
  },
  {
   "cell_type": "code",
   "execution_count": 49,
   "metadata": {
    "collapsed": true
   },
   "outputs": [],
   "source": [
    "import sklearn\n",
    "from sklearn import svm"
   ]
  },
  {
   "cell_type": "code",
   "execution_count": 50,
   "metadata": {
    "collapsed": true
   },
   "outputs": [],
   "source": [
    "from sklearn import metrics"
   ]
  },
  {
   "cell_type": "code",
   "execution_count": 51,
   "metadata": {
    "collapsed": true
   },
   "outputs": [],
   "source": [
    "model = svm.SVR(kernel='linear', C=1)"
   ]
  },
  {
   "cell_type": "code",
   "execution_count": 52,
   "metadata": {
    "collapsed": true
   },
   "outputs": [],
   "source": [
    "xs = master[master['bed_bath_grp']==50]['price_y']"
   ]
  },
  {
   "cell_type": "code",
   "execution_count": 53,
   "metadata": {},
   "outputs": [],
   "source": [
    "x, y = embed_data(xs, 1)"
   ]
  },
  {
   "cell_type": "code",
   "execution_count": 54,
   "metadata": {},
   "outputs": [
    {
     "data": {
      "text/plain": [
       "SVR(C=1, cache_size=200, coef0=0.0, degree=3, epsilon=0.1, gamma='auto',\n",
       "  kernel='linear', max_iter=-1, shrinking=True, tol=0.001, verbose=False)"
      ]
     },
     "execution_count": 54,
     "metadata": {},
     "output_type": "execute_result"
    }
   ],
   "source": [
    "model.fit(x, y)"
   ]
  },
  {
   "cell_type": "code",
   "execution_count": 55,
   "metadata": {},
   "outputs": [
    {
     "data": {
      "text/plain": [
       "array([ 667.00392801,  667.00392801,  667.00392801,  667.00392801,\n",
       "        667.00392801,  667.00392801,  667.00392801,  667.00392801,\n",
       "        667.00392801,  667.00392801,  667.00392801,  667.00392801,\n",
       "        667.00392801,  667.00392801,  667.00392801,  667.00392801,\n",
       "        667.00392801,  667.00392801,  667.00392801,  667.00392801,\n",
       "        667.00392801,  667.00392801,  667.00392801,  667.00392801,\n",
       "        667.00392801,  667.00392801,  667.00392801,  667.00392801,\n",
       "        667.00392801,  667.00392801,  667.00392801,  667.00392801,\n",
       "        667.00392801,  667.00392801,  667.00392801,  667.00392801,\n",
       "        667.00392801,  667.00392801,  667.00392801,  667.00392801,\n",
       "        667.00392801,  667.00392801,  667.00392801,  667.00392801,\n",
       "        667.00392801,  667.00392801,  667.00392801,  667.00392801,\n",
       "        667.00392801,  667.00392801,  667.00392801,  667.00392801,\n",
       "        667.00392801,  667.00392801,  667.00392801,  667.00392801,\n",
       "        667.00392801,  667.00392801,  667.00392801,  667.00392801,\n",
       "        667.00392801,  667.00392801,  667.00392801,  667.00392801,\n",
       "        667.00392801,  667.00392801,  667.00392801,  255.89054113,\n",
       "        255.89054113,  255.89054113,  255.89054113,  255.89054113,\n",
       "        255.89054113,  255.89054113,  255.89054113,  255.89054113,\n",
       "        255.89054113,  255.89054113,  255.89054113,  255.89054113,\n",
       "        255.89054113,  255.89054113,  255.89054113,  255.89054113,\n",
       "        667.00392801,  667.00392801,  667.00392801,  667.00392801,\n",
       "        667.00392801,  667.00392801,  667.00392801,  667.00392801,\n",
       "        667.00392801,  667.00392801,  667.00392801,  667.00392801,\n",
       "        667.00392801,  667.00392801,  667.00392801,  667.00392801,\n",
       "        667.00392801,  667.00392801,  667.00392801,  255.89054113,\n",
       "        667.00392801,  667.00392801,  667.00392801,  667.00392801,\n",
       "        667.00392801,  667.00392801,  667.00392801,  667.00392801,\n",
       "        667.00392801,  667.00392801,  667.00392801,  667.00392801,\n",
       "        667.00392801,  667.00392801,  667.00392801,  667.00392801,\n",
       "        667.00392801,  667.00392801,  667.00392801,  667.00392801,\n",
       "        667.00392801,  667.00392801,  667.00392801,  667.00392801,\n",
       "        667.00392801,  667.00392801,  667.00392801,  667.00392801,\n",
       "        667.00392801,  667.00392801,  667.00392801,  667.00392801,\n",
       "        667.00392801,  667.00392801,  667.00392801,  667.00392801,\n",
       "        667.00392801,  667.00392801,  667.00392801,  667.00392801,\n",
       "        667.00392801,  255.89054113,  255.89054113,  916.88859756,\n",
       "        916.88859756,  916.88859756,  916.88859756,  255.89054113,\n",
       "        255.89054113,  255.89054113,  916.88859756,  916.88859756,\n",
       "        916.88859756,  916.88859756,  255.89054113,  255.89054113,\n",
       "        255.89054113,  916.88859756,  916.88859756,  916.88859756,\n",
       "        916.88859756,  255.89054113,  255.89054113,  255.89054113,\n",
       "        916.88859756,  255.89054113,  255.89054113,  255.89054113,\n",
       "        255.89054113,  255.89054113,  255.89054113,  255.89054113,\n",
       "        255.89054113,  667.00392801,  667.00392801,  667.00392801,\n",
       "        667.00392801,  667.00392801,  667.00392801,  667.00392801,\n",
       "        667.00392801,  667.00392801,  667.00392801,  667.00392801,\n",
       "        667.00392801,  667.00392801,  667.00392801,  667.00392801,\n",
       "        667.00392801,  667.00392801,  667.00392801,  667.00392801,\n",
       "        667.00392801,  667.00392801,  667.00392801,  667.00392801,\n",
       "        667.00392801,  667.00392801,  667.00392801,  667.00392801,\n",
       "        667.00392801,  667.00392801,  667.00392801,  667.00392801,\n",
       "        667.00392801,  667.00392801,  667.00392801,  667.00392801,\n",
       "        667.00392801,  667.00392801,  667.00392801,  667.00392801,\n",
       "        667.00392801,  667.00392801,  667.00392801,  667.00392801,\n",
       "        667.00392801,  667.00392801,  667.00392801,  667.00392801,\n",
       "        667.00392801,  667.00392801,  667.00392801,  667.00392801,\n",
       "        667.00392801,  667.00392801,  667.00392801,  667.00392801,\n",
       "        667.00392801,  667.00392801,  667.00392801,  667.00392801,\n",
       "        667.00392801,  667.00392801,  667.00392801,  667.00392801,\n",
       "        667.00392801,  667.00392801,  667.00392801,  667.00392801,\n",
       "        667.00392801,  667.00392801,  667.00392801,  667.00392801,\n",
       "        667.00392801,  667.00392801,  667.00392801,  667.00392801,\n",
       "        667.00392801,  667.00392801,  667.00392801,  667.00392801,\n",
       "        667.00392801,  667.00392801,  667.00392801,  667.00392801,\n",
       "        667.00392801,  667.00392801,  667.00392801,  667.00392801,\n",
       "        667.00392801,  667.00392801,  667.00392801,  667.00392801,\n",
       "        667.00392801,  667.00392801,  667.00392801,  667.00392801,\n",
       "        667.00392801,  667.00392801,  667.00392801,  667.00392801,\n",
       "        667.00392801,  667.00392801,  667.00392801,  667.00392801,\n",
       "        667.00392801,  667.00392801,  667.00392801,  667.00392801,\n",
       "        667.00392801,  667.00392801,  667.00392801,  667.00392801,\n",
       "        667.00392801,  667.00392801,  667.00392801,  255.89054113,\n",
       "        255.89054113,  255.89054113,  255.89054113,  255.89054113,\n",
       "        255.89054113,  255.89054113,  255.89054113,  255.89054113,\n",
       "        255.89054113,  255.89054113,  255.89054113,  255.89054113,\n",
       "        255.89054113,  255.89054113,  255.89054113,  255.89054113,\n",
       "        255.89054113,  255.89054113,  255.89054113,  255.89054113,\n",
       "        255.89054113,  255.89054113,  255.89054113,  255.89054113,\n",
       "        255.89054113,  255.89054113,  255.89054113,  255.89054113,\n",
       "        255.89054113,  255.89054113,  255.89054113,  255.89054113,\n",
       "        255.89054113,  255.89054113,  255.89054113,  255.89054113,\n",
       "        255.89054113,  255.89054113,  255.89054113,  255.89054113,\n",
       "        255.89054113,  255.89054113,  255.89054113,  255.89054113,\n",
       "        255.89054113,  255.89054113,  255.89054113,  255.89054113,\n",
       "        255.89054113,  255.89054113,  255.89054113,  255.89054113,\n",
       "        665.00485066,  658.00807991,  657.00854123,  646.01361577,\n",
       "        646.01361577,  660.00715727,  682.99654686,  665.00485066,\n",
       "        658.00807991,  657.00854123,  646.01361577,  646.01361577,\n",
       "        660.00715727,  682.99654686,  665.00485066,  658.00807991,\n",
       "        657.00854123,  646.01361577,  646.01361577,  660.00715727,\n",
       "        255.89054113,  255.89054113,  255.89054113,  255.89054113,\n",
       "        255.89054113,  255.89054113,  255.89054113,  255.89054113,\n",
       "        665.00485066,  658.00807991,  657.00854123,  646.01361577,\n",
       "        646.01361577,  660.00715727,  682.99654686,  665.00485066,\n",
       "        658.00807991,  657.00854123,  646.01361577,  646.01361577,\n",
       "        660.00715727,  682.99654686,  665.00485066,  658.00807991,\n",
       "        657.00854123,  646.01361577,  646.01361577,  660.00715727,\n",
       "        849.91950612,  849.91950612,  849.91950612,  849.91950612,\n",
       "        849.91950612,  849.91950612,  849.91950612,  849.91950612,\n",
       "        849.91950612,  849.91950612,  849.91950612,  849.91950612,\n",
       "        849.91950612,  849.91950612,  849.91950612,  849.91950612,\n",
       "        849.91950612,  849.91950612,  849.91950612,  849.91950612,\n",
       "        849.91950612,  849.91950612,  255.89054113,  255.89054113,\n",
       "        255.89054113,  255.89054113,  255.89054113,  255.89054113,\n",
       "        255.89054113,  255.89054113,  255.89054113,  698.98916571,\n",
       "        632.02007428,  632.02007428,  641.01592238,  718.97993928,\n",
       "        718.97993928,  631.0205356 ,  717.9804006 ,  717.9804006 ,\n",
       "        631.0205356 ,  958.86922205,  957.86968337,  958.86922205,\n",
       "        899.89644003,  899.89644003,  899.89644003,  899.89644003,\n",
       "        899.89644003,  255.89054113,  255.89054113,  255.89054113,\n",
       "        255.89054113,  255.89054113,  255.89054113,  255.89054113,\n",
       "        255.89054113,  255.89054113,  255.89054113,  255.89054113,\n",
       "        255.89054113,  255.89054113,  255.89054113,  255.89054113,\n",
       "        255.89054113,  255.89054113,  255.89054113,  255.89054113,\n",
       "        255.89054113,  255.89054113,  255.89054113,  255.89054113,\n",
       "        255.89054113,  255.89054113,  255.89054113,  255.89054113,\n",
       "        255.89054113,  255.89054113,  255.89054113,  255.89054113,\n",
       "        255.89054113,  255.89054113,  255.89054113,  255.89054113,\n",
       "        255.89054113,  255.89054113,  255.89054113,  255.89054113,\n",
       "        255.89054113,  255.89054113,  255.89054113,  255.89054113,\n",
       "        255.89054113,  255.89054113,  255.89054113,  255.89054113,\n",
       "        255.89054113,  255.89054113,  255.89054113,  255.89054113,\n",
       "        255.89054113,  255.89054113,  255.89054113,  255.89054113,\n",
       "        255.89054113,  255.89054113,  255.89054113,  255.89054113,\n",
       "        255.89054113,  255.89054113,  255.89054113,  255.89054113,\n",
       "        255.89054113,  255.89054113,  255.89054113,  255.89054113,\n",
       "        255.89054113,  255.89054113,  255.89054113,  255.89054113,\n",
       "        255.89054113,  255.89054113,  255.89054113,  255.89054113,\n",
       "        255.89054113,  255.89054113,  255.89054113,  255.89054113,\n",
       "        255.89054113,  255.89054113,  255.89054113,  255.89054113,\n",
       "        255.89054113,  255.89054113,  255.89054113,  255.89054113,\n",
       "        255.89054113,  255.89054113,  255.89054113,  255.89054113,\n",
       "        255.89054113,  255.89054113,  255.89054113,  255.89054113,\n",
       "        255.89054113,  255.89054113,  255.89054113,  255.89054113,\n",
       "        255.89054113,  255.89054113,  255.89054113,  255.89054113,\n",
       "        255.89054113,  255.89054113,  255.89054113,  255.89054113,\n",
       "        255.89054113,  255.89054113,  255.89054113,  255.89054113,\n",
       "        255.89054113,  255.89054113,  255.89054113,  255.89054113,\n",
       "        255.89054113,  255.89054113,  255.89054113,  255.89054113,\n",
       "        255.89054113,  255.89054113,  255.89054113,  255.89054113,\n",
       "        255.89054113,  255.89054113,  255.89054113,  255.89054113,\n",
       "        255.89054113,  255.89054113,  255.89054113,  255.89054113,\n",
       "        255.89054113,  255.89054113,  255.89054113,  255.89054113,\n",
       "        255.89054113,  255.89054113,  255.89054113,  255.89054113,\n",
       "        255.89054113,  255.89054113,  255.89054113,  255.89054113,\n",
       "        255.89054113,  255.89054113,  255.89054113,  255.89054113,\n",
       "        255.89054113,  255.89054113,  255.89054113,  255.89054113,\n",
       "        255.89054113,  255.89054113,  255.89054113,  949.87337394,\n",
       "        949.87337394,  949.87337394,  949.87337394,  949.87337394,\n",
       "        949.87337394,  949.87337394,  949.87337394,  949.87337394,\n",
       "        949.87337394,  949.87337394,  949.87337394,  949.87337394,\n",
       "        949.87337394,  949.87337394,  949.87337394,  949.87337394,\n",
       "        949.87337394,  949.87337394,  949.87337394,  949.87337394,\n",
       "        949.87337394,  949.87337394,  949.87337394,  949.87337394,\n",
       "        949.87337394,  949.87337394,  949.87337394,  949.87337394,\n",
       "        949.87337394,  255.89054113,  255.89054113,  255.89054113,\n",
       "        255.89054113,  255.89054113,  899.89644003,  899.89644003,\n",
       "        899.89644003,  899.89644003,  899.89644003,  899.89644003,\n",
       "        899.89644003,  899.89644003,  899.89644003,  899.89644003,\n",
       "        899.89644003,  899.89644003,  899.89644003,  899.89644003,\n",
       "        899.89644003,  899.89644003,  849.91950612,  849.91950612,\n",
       "        849.91950612,  849.91950612,  849.91950612,  849.91950612,\n",
       "        849.91950612,  849.91950612])"
      ]
     },
     "execution_count": 55,
     "metadata": {},
     "output_type": "execute_result"
    }
   ],
   "source": [
    "model.predict(x)"
   ]
  },
  {
   "cell_type": "code",
   "execution_count": 56,
   "metadata": {},
   "outputs": [
    {
     "data": {
      "text/plain": [
       "11789.984101960566"
      ]
     },
     "execution_count": 56,
     "metadata": {},
     "output_type": "execute_result"
    }
   ],
   "source": [
    "metrics.mean_squared_error(model.predict(x), y)"
   ]
  },
  {
   "cell_type": "code",
   "execution_count": 57,
   "metadata": {},
   "outputs": [
    {
     "data": {
      "text/plain": [
       "0.034084157549541784"
      ]
     },
     "execution_count": 57,
     "metadata": {},
     "output_type": "execute_result"
    }
   ],
   "source": [
    "np.linalg.norm(model.predict(x) - y)**2 / np.linalg.norm(y)**2"
   ]
  },
  {
   "cell_type": "code",
   "execution_count": 58,
   "metadata": {},
   "outputs": [],
   "source": [
    "train = xs[:300]\n",
    "test = xs[300:]\n",
    "xtrain, ytrain = embed_data(train, 1)\n",
    "xtest, ytest = embed_data(test, 1)"
   ]
  },
  {
   "cell_type": "code",
   "execution_count": 59,
   "metadata": {},
   "outputs": [
    {
     "data": {
      "text/plain": [
       "SVR(C=1, cache_size=200, coef0=0.0, degree=3, epsilon=0.1, gamma=0.1,\n",
       "  kernel='rbf', max_iter=-1, shrinking=True, tol=0.001, verbose=False)"
      ]
     },
     "execution_count": 59,
     "metadata": {},
     "output_type": "execute_result"
    }
   ],
   "source": [
    "m = svm.SVR(kernel='rbf', C=1, gamma=0.1)\n",
    "m.fit(xtrain, ytrain)"
   ]
  },
  {
   "cell_type": "code",
   "execution_count": 60,
   "metadata": {},
   "outputs": [
    {
     "data": {
      "text/plain": [
       "[<matplotlib.lines.Line2D at 0x112977bd0>,\n",
       " <matplotlib.lines.Line2D at 0x112977390>]"
      ]
     },
     "execution_count": 60,
     "metadata": {},
     "output_type": "execute_result"
    },
    {
     "data": {
      "image/png": "[encoded data removed]",
      "text/plain": [
       "<matplotlib.figure.Figure at 0x1a5d27ebd0>"
      ]
     },
     "metadata": {},
     "output_type": "display_data"
    }
   ],
   "source": [
    "plt.plot(m.predict(xtrain), 'b-', ytrain, 'r-')"
   ]
  },
  {
   "cell_type": "code",
   "execution_count": 61,
   "metadata": {},
   "outputs": [
    {
     "data": {
      "text/plain": [
       "[<matplotlib.lines.Line2D at 0x112af9e10>,\n",
       " <matplotlib.lines.Line2D at 0x112af9950>]"
      ]
     },
     "execution_count": 61,
     "metadata": {},
     "output_type": "execute_result"
    },
    {
     "data": {
      "image/png": "[encoded data removed]",
      "text/plain": [
       "<matplotlib.figure.Figure at 0x112ae76d0>"
      ]
     },
     "metadata": {},
     "output_type": "display_data"
    }
   ],
   "source": [
    "plt.plot(m.predict(xtest), 'b-', ytest, 'r-')"
   ]
  },
  {
   "cell_type": "markdown",
   "metadata": {},
   "source": [
    "Using Keras"
   ]
  },
  {
   "cell_type": "code",
   "execution_count": 62,
   "metadata": {},
   "outputs": [
    {
     "name": "stderr",
     "output_type": "stream",
     "text": [
      "Using TensorFlow backend.\n"
     ]
    }
   ],
   "source": [
    "from keras.models import Sequential\n",
    "from keras.layers import Dense\n",
    "from keras.layers.recurrent import LSTM"
   ]
  },
  {
   "cell_type": "code",
   "execution_count": 63,
   "metadata": {
    "collapsed": true
   },
   "outputs": [],
   "source": [
    "xs = master[master['bed_bath_grp']==40]['price_y']"
   ]
  },
  {
   "cell_type": "code",
   "execution_count": 64,
   "metadata": {
    "collapsed": true
   },
   "outputs": [],
   "source": [
    "x = xs[:-1]; y = xs[1:]"
   ]
  },
  {
   "cell_type": "code",
   "execution_count": 65,
   "metadata": {},
   "outputs": [
    {
     "name": "stderr",
     "output_type": "stream",
     "text": [
      "/Users/pauldefusco/anaconda2/envs/py27/lib/python2.7/site-packages/ipykernel_launcher.py:1: FutureWarning: reshape is deprecated and will raise in a subsequent release. Please use .values.reshape(...) instead\n",
      "  \"\"\"Entry point for launching an IPython kernel.\n",
      "/Users/pauldefusco/anaconda2/envs/py27/lib/python2.7/site-packages/ipykernel_launcher.py:2: FutureWarning: reshape is deprecated and will raise in a subsequent release. Please use .values.reshape(...) instead\n",
      "  \n"
     ]
    }
   ],
   "source": [
    "xtrain = x.reshape(len(x), 1, 1)\n",
    "ytrain = y.reshape(len(y), 1)"
   ]
  },
  {
   "cell_type": "code",
   "execution_count": 66,
   "metadata": {
    "collapsed": true
   },
   "outputs": [],
   "source": [
    "bs = 1\n",
    "model = Sequential()\n",
    "model.add(LSTM(10, batch_input_shape=(bs, 1, 1), stateful=True))\n",
    "model.add(Dense(1))\n",
    "model.compile(optimizer='adam', loss='mean_squared_error')"
   ]
  },
  {
   "cell_type": "code",
   "execution_count": 67,
   "metadata": {},
   "outputs": [
    {
     "name": "stdout",
     "output_type": "stream",
     "text": [
      "Epoch 1/1\n",
      "5367/5367 [==============================] - 83s 15ms/step - loss: 348425.5055\n",
      "Epoch 1/1\n",
      "5367/5367 [==============================] - 85s 16ms/step - loss: 335884.1483\n",
      "Epoch 1/1\n",
      "5367/5367 [==============================] - 82s 15ms/step - loss: 323579.9373\n"
     ]
    }
   ],
   "source": [
    "for i in range(3):\n",
    "    model.fit(xtrain, ytrain, epochs=1, batch_size=bs, shuffle=False)\n",
    "    model.reset_states()"
   ]
  },
  {
   "cell_type": "code",
   "execution_count": 68,
   "metadata": {
    "collapsed": true
   },
   "outputs": [],
   "source": [
    "model.reset_states()"
   ]
  },
  {
   "cell_type": "markdown",
   "metadata": {},
   "source": [
    "Model Prediction"
   ]
  },
  {
   "cell_type": "code",
   "execution_count": 69,
   "metadata": {
    "collapsed": true
   },
   "outputs": [],
   "source": [
    "yhat = model.predict(xtrain, batch_size=bs)"
   ]
  },
  {
   "cell_type": "code",
   "execution_count": 70,
   "metadata": {},
   "outputs": [
    {
     "data": {
      "text/plain": [
       "[<matplotlib.lines.Line2D at 0x1a229b3210>,\n",
       " <matplotlib.lines.Line2D at 0x1a229b36d0>]"
      ]
     },
     "execution_count": 70,
     "metadata": {},
     "output_type": "execute_result"
    },
    {
     "data": {
      "image/png": "[encoded data removed]",
      "text/plain": [
       "<matplotlib.figure.Figure at 0x1a22a1b610>"
      ]
     },
     "metadata": {},
     "output_type": "display_data"
    }
   ],
   "source": [
    "start=1800; stop=2000\n",
    "plt.figure(figsize=(15,10))\n",
    "plt.plot(yhat[start:stop], '-', ytrain[start:stop], 'r-')"
   ]
  },
  {
   "cell_type": "code",
   "execution_count": 71,
   "metadata": {},
   "outputs": [
    {
     "ename": "NameError",
     "evalue": "name 'nmse' is not defined",
     "output_type": "error",
     "traceback": [
      "\u001b[0;31m---------------------------------------------------------------------------\u001b[0m",
      "\u001b[0;31mNameError\u001b[0m                                 Traceback (most recent call last)",
      "\u001b[0;32m<ipython-input-71-4d52d6c31701>\u001b[0m in \u001b[0;36m<module>\u001b[0;34m()\u001b[0m\n\u001b[0;32m----> 1\u001b[0;31m \u001b[0mnmse\u001b[0m\u001b[0;34m(\u001b[0m\u001b[0myhat\u001b[0m\u001b[0;34m,\u001b[0m \u001b[0mytrain\u001b[0m\u001b[0;34m)\u001b[0m\u001b[0;34m\u001b[0m\u001b[0m\n\u001b[0m",
      "\u001b[0;31mNameError\u001b[0m: name 'nmse' is not defined"
     ]
    }
   ],
   "source": [
    "nmse(yhat, ytrain)"
   ]
  },
  {
   "cell_type": "code",
   "execution_count": null,
   "metadata": {
    "collapsed": true
   },
   "outputs": [],
   "source": []
  }
 ],
 "metadata": {
  "kernelspec": {
   "display_name": "Python 2",
   "language": "python",
   "name": "python2"
  },
  "language_info": {
   "codemirror_mode": {
    "name": "ipython",
    "version": 2
   },
   "file_extension": ".py",
   "mimetype": "text/x-python",
   "name": "python",
   "nbconvert_exporter": "python",
   "pygments_lexer": "ipython2",
   "version": "2.7.14"
  }
 },
 "nbformat": 4,
 "nbformat_minor": 2
}
