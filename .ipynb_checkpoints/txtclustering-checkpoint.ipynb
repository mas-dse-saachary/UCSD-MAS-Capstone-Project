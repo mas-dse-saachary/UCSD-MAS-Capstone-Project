{
 "cells": [
  {
   "cell_type": "markdown",
   "metadata": {},
   "source": [
    "# Text Clustering on the \"transit\" column from Listings"
   ]
  },
  {
   "cell_type": "code",
   "execution_count": 16,
   "metadata": {
    "collapsed": true
   },
   "outputs": [],
   "source": [
    "import pandas as pd\n",
    "import matplotlib.pyplot as plt\n",
    "import numpy as np\n",
    "from sklearn.feature_extraction.text import TfidfVectorizer\n",
    "from sklearn.cluster import KMeans\n",
    "from sklearn.metrics import adjusted_rand_score"
   ]
  },
  {
   "cell_type": "code",
   "execution_count": 7,
   "metadata": {},
   "outputs": [
    {
     "name": "stderr",
     "output_type": "stream",
     "text": [
      "/Users/pauldefusco/anaconda2/envs/py27/lib/python2.7/site-packages/IPython/core/interactiveshell.py:2718: DtypeWarning: Columns (0,1,3,20,33,34,54,66,68,72) have mixed types. Specify dtype option on import or set low_memory=False.\n",
      "  interactivity=interactivity, compiler=compiler, result=result)\n"
     ]
    }
   ],
   "source": [
    "#master.csv too large - won't store on github even with lfs - use read_hf below\n",
    "#master = pd.read_csv('master.csv')"
   ]
  },
  {
   "cell_type": "code",
   "execution_count": null,
   "metadata": {
    "collapsed": true
   },
   "outputs": [],
   "source": [
    "ms = pd.read_hdf('master.h5', 'table')"
   ]
  },
  {
   "cell_type": "code",
   "execution_count": 8,
   "metadata": {
    "collapsed": true
   },
   "outputs": [],
   "source": [
    "#Extract contents of transit column into a list\n",
    "lst = []\n",
    "for i in master['transit']:\n",
    "    lst.append(str(i))"
   ]
  },
  {
   "cell_type": "code",
   "execution_count": 14,
   "metadata": {},
   "outputs": [
    {
     "data": {
      "text/plain": [
       "['Area Airports From San Diego International Airport -Lindbergh Field: Driving directions Travel east on Harbor Drive to downtown San Diego. Turn left onto Ash Street. Turn right onto Kettner. Turn left onto A Street. Our San Diego property is on the right. Driving from the East: Driving directions From Interstate 8 West, take 163 South to the end. Turn right onto B Street. Turn right onto 7th Avenue. Turn right onto A Street. Our San Diego property is directly on the right. Driving from the North: Driving directions From Interstate 5 South, exit on 10th Street. Turn right on B Street. Turn right on 7th Street. Turn right on A Street Our San Diego property is on the right. Driving from the South: Driving directions From Interstate 5 North, exit on Pershing/B Street. Turn left onto B Street. Turn right onto 7th Street. Turn right onto A Street. Our San Diego property is directly on the right.',\n",
       " 'Area Airports From San Diego International Airport -Lindbergh Field: Driving directions Travel east on Harbor Drive to downtown San Diego. Turn left onto Ash Street. Turn right onto Kettner. Turn left onto A Street. Our San Diego property is on the right. Driving from the East: Driving directions From Interstate 8 West, take 163 South to the end. Turn right onto B Street. Turn right onto 7th Avenue. Turn right onto A Street. Our San Diego property is directly on the right. Driving from the North: Driving directions From Interstate 5 South, exit on 10th Street. Turn right on B Street. Turn right on 7th Street. Turn right on A Street Our San Diego property is on the right. Driving from the South: Driving directions From Interstate 5 North, exit on Pershing/B Street. Turn left onto B Street. Turn right onto 7th Street. Turn right onto A Street. Our San Diego property is directly on the right.']"
      ]
     },
     "execution_count": 14,
     "metadata": {},
     "output_type": "execute_result"
    }
   ],
   "source": [
    "lst[80000:80002]"
   ]
  },
  {
   "cell_type": "code",
   "execution_count": 17,
   "metadata": {},
   "outputs": [
    {
     "data": {
      "text/plain": [
       "KMeans(algorithm='auto', copy_x=True, init='k-means++', max_iter=100,\n",
       "    n_clusters=10, n_init=1, n_jobs=1, precompute_distances='auto',\n",
       "    random_state=None, tol=0.0001, verbose=0)"
      ]
     },
     "execution_count": 17,
     "metadata": {},
     "output_type": "execute_result"
    }
   ],
   "source": [
    "\"\"\"documents = [\"This little kitty came to play when I was eating at a restaurant.\",\n",
    "             \"Merley has the best squooshy kitten belly.\",\n",
    "             \"Google Translate app is incredible.\",\n",
    "             \"If you open 100 tab in google you get a smiley face.\",\n",
    "             \"Best cat photo I've ever taken.\",\n",
    "             \"Climbing ninja cat.\",\n",
    "             \"Impressed with google map feedback.\",\n",
    "             \"Key promoter extension for Google Chrome.\"]\"\"\"\n",
    "\n",
    "vectorizer = TfidfVectorizer(stop_words='english')\n",
    "X = vectorizer.fit_transform(lst)\n",
    " \n",
    "true_k = 10\n",
    "model = KMeans(n_clusters=true_k, init='k-means++', max_iter=100, n_init=1)\n",
    "model.fit(X)"
   ]
  },
  {
   "cell_type": "code",
   "execution_count": 18,
   "metadata": {},
   "outputs": [
    {
     "name": "stdout",
     "output_type": "stream",
     "text": [
      "Top terms per cluster:\n",
      "Cluster 0:  trolley  miles  station  away  san  diego  bus  train  blocks  walk\n",
      "Cluster 1:  nan  exactly  everyday  events  event  evenings  evening  european  europe  estimates\n",
      "Cluster 2:  uber  car  bus  san  diego  lyft  parking  walk  street  beach\n",
      "Cluster 3:  just  navigating  planning  couple  provided  stay  recommend  cars  neighborhood  bikes\n",
      "Cluster 4:  bus  block  away  stop  stops  line  blocks  uber  just  half\n",
      "Cluster 5:  public  transportation  available  car  uber  recommend  bus  ease  city  getting\n",
      "Cluster 6:  minutes  downtown  diego  san  beach  15  park  10  la  jolla\n",
      "Cluster 7:  walking  distance  bus  public  downtown  buses  stops  min  trolley  uber\n",
      "Cluster 8:  blocks  minute  bike  bus  stop  walk  freeways  access  park  major\n",
      "Cluster 9:  parking  site  street  additional  garage  home  indoor  driveway  bus  available\n",
      "\n",
      "\n",
      "Prediction\n"
     ]
    }
   ],
   "source": [
    "print(\"Top terms per cluster:\")\n",
    "order_centroids = model.cluster_centers_.argsort()[:, ::-1]\n",
    "terms = vectorizer.get_feature_names()\n",
    "for i in range(true_k):\n",
    "    print(\"Cluster %d:\" % i),\n",
    "    for ind in order_centroids[i, :10]:\n",
    "        print(' %s' % terms[ind]),\n",
    "    print\n",
    " \n",
    " \n",
    "print(\"\\n\")\n",
    "print(\"Prediction\")"
   ]
  },
  {
   "cell_type": "code",
   "execution_count": 19,
   "metadata": {},
   "outputs": [
    {
     "name": "stdout",
     "output_type": "stream",
     "text": [
      "[5]\n"
     ]
    }
   ],
   "source": [
    "Y = vectorizer.transform([\"Public Transportation\"])\n",
    "prediction = model.predict(Y)\n",
    "print(prediction)"
   ]
  },
  {
   "cell_type": "code",
   "execution_count": 20,
   "metadata": {},
   "outputs": [
    {
     "name": "stdout",
     "output_type": "stream",
     "text": [
      "[0]\n"
     ]
    }
   ],
   "source": [
    "Y = vectorizer.transform([\"Trolley\"])\n",
    "prediction = model.predict(Y)\n",
    "print(prediction)"
   ]
  },
  {
   "cell_type": "code",
   "execution_count": null,
   "metadata": {
    "collapsed": true
   },
   "outputs": [],
   "source": []
  },
  {
   "cell_type": "code",
   "execution_count": null,
   "metadata": {
    "collapsed": true
   },
   "outputs": [],
   "source": []
  },
  {
   "cell_type": "code",
   "execution_count": null,
   "metadata": {
    "collapsed": true
   },
   "outputs": [],
   "source": []
  }
 ],
 "metadata": {
  "kernelspec": {
   "display_name": "Python 2",
   "language": "python",
   "name": "python2"
  },
  "language_info": {
   "codemirror_mode": {
    "name": "ipython",
    "version": 2
   },
   "file_extension": ".py",
   "mimetype": "text/x-python",
   "name": "python",
   "nbconvert_exporter": "python",
   "pygments_lexer": "ipython2",
   "version": "2.7.14"
  }
 },
 "nbformat": 4,
 "nbformat_minor": 2
}
