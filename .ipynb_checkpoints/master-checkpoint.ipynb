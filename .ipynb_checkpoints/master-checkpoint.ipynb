{
 "cells": [
  {
   "cell_type": "markdown",
   "metadata": {},
   "source": [
    "# Master File Notebook"
   ]
  },
  {
   "cell_type": "markdown",
   "metadata": {},
   "source": [
    "2/17 -- I created this notebook to apply all the basic data manipulations on the listings and calendar notebook in a separate place so a standard version of the 'Master' dataframe can be loaded from other notebooks rather than repeating the data transformation steps every time"
   ]
  },
  {
   "cell_type": "markdown",
   "metadata": {},
   "source": [
    "This notebook's purpose is to output the 'master.csv' file in the main directory"
   ]
  },
  {
   "cell_type": "code",
   "execution_count": 2,
   "metadata": {
    "collapsed": true
   },
   "outputs": [],
   "source": [
    "import pandas as pd\n",
    "import os\n",
    "import matplotlib.pyplot as plt\n",
    "from sklearn.model_selection import train_test_split\n",
    "import numpy as np\n",
    "from pandas.plotting import scatter_matrix"
   ]
  },
  {
   "cell_type": "code",
   "execution_count": 3,
   "metadata": {},
   "outputs": [
    {
     "data": {
      "text/plain": [
       "['neighbourhoods.geo.json',\n",
       " 'reviews.csv',\n",
       " '.DS_Store',\n",
       " 'neighbourhoods.geojson',\n",
       " 'listings_summ.csv',\n",
       " 'neighbourhoods.csv',\n",
       " 'stations.geojson',\n",
       " 'listings.csv',\n",
       " 'calendar.csv',\n",
       " 'reviews_summ.csv',\n",
       " 'neighbourhoods.json']"
      ]
     },
     "execution_count": 3,
     "metadata": {},
     "output_type": "execute_result"
    }
   ],
   "source": [
    "os.listdir(\"Datasources/inside_airbnb\") "
   ]
  },
  {
   "cell_type": "code",
   "execution_count": 4,
   "metadata": {
    "collapsed": true
   },
   "outputs": [],
   "source": [
    "listings = pd.read_csv('inside_airbnb/listings.csv')\n",
    "#list_summ = pd.read_csv('inside_airbnb/listings_summ.csv')\n",
    "#neighborhoods = pd.read_csv('inside_airbnb/neighbourhoods.csv')\n",
    "#reviews = pd.read_csv('inside_airbnb/reviews.csv')\n",
    "#reviews_summ = pd.read_csv('inside_airbnb/reviews_summ.csv')\n",
    "calendar = pd.read_csv('inside_airbnb/calendar.csv')"
   ]
  },
  {
   "cell_type": "code",
   "execution_count": 5,
   "metadata": {
    "collapsed": true
   },
   "outputs": [],
   "source": [
    "listings = listings.loc[listings.room_type == 'Entire home/apt']"
   ]
  },
  {
   "cell_type": "code",
   "execution_count": 6,
   "metadata": {
    "collapsed": true
   },
   "outputs": [],
   "source": [
    "cal = calendar.copy()\n",
    "cal['price'] = cal['price'].astype(str).map(lambda x: x.lstrip('$'))\n",
    "#Transform Price from Object to Numeric Data Type\n",
    "cal['price'] = cal['price'].apply(pd.to_numeric, errors='coerce')\n",
    "cal['price'].replace(regex=True,inplace=True,to_replace=r'\\D',value=r'')"
   ]
  },
  {
   "cell_type": "code",
   "execution_count": 7,
   "metadata": {
    "collapsed": true
   },
   "outputs": [],
   "source": [
    "#Just using the calendar listingid, date and price to merge with listings\n",
    "c = cal.loc[cal.available!='f']\n",
    "c = c[['listing_id','date','price']]"
   ]
  },
  {
   "cell_type": "code",
   "execution_count": 8,
   "metadata": {
    "collapsed": true
   },
   "outputs": [],
   "source": [
    "master = listings.merge(c, how='inner', left_on='id', right_on='listing_id')"
   ]
  },
  {
   "cell_type": "code",
   "execution_count": 12,
   "metadata": {},
   "outputs": [],
   "source": [
    "# to csv makes file that is too large even for git lfs\n",
    "#use to_hdf below\n",
    "#master.to_csv('master.csv',chunksize=1000)"
   ]
  },
  {
   "cell_type": "code",
   "execution_count": 8,
   "metadata": {},
   "outputs": [
    {
     "data": {
      "text/plain": [
       "'DataFrame.to_csv(path_or_buf=None, sep=\\', \\', na_rep=\\'\\', float_format=None, \\n                 columns=None, header=True, index=True, index_label=None, mode=\\'w\\', \\n                 encoding=None, compression=None, quoting=None, quotechar=\\'\"\\', line_terminator=\\'\\n\\', \\n                 chunksize=None, tupleize_cols=None, date_format=None, doublequote=True, \\n                 escapechar=None, decimal=\\'.\\')'"
      ]
     },
     "execution_count": 8,
     "metadata": {},
     "output_type": "execute_result"
    }
   ],
   "source": [
    "\"\"\"DataFrame.to_csv(path_or_buf=None, sep=', ', na_rep='', float_format=None, \n",
    "                 columns=None, header=True, index=True, index_label=None, mode='w', \n",
    "                 encoding=None, compression=None, quoting=None, quotechar='\"', line_terminator='\\n', \n",
    "                 chunksize=None, tupleize_cols=None, date_format=None, doublequote=True, \n",
    "                 escapechar=None, decimal='.')\"\"\""
   ]
  },
  {
   "cell_type": "code",
   "execution_count": null,
   "metadata": {},
   "outputs": [],
   "source": [
    "##to_csv is very slow \n",
    "#alternatively learn to use hdf5 lib -- conda install pytables\n",
    "#then write to hdf format: \n",
    "master.to_hdf('master.h5','table',append=True)\n",
    "#then read in different notebook: pd.read_hdf('store_tl.h5', 'table', where = ['index>2'])"
   ]
  },
  {
   "cell_type": "code",
   "execution_count": null,
   "metadata": {
    "collapsed": true
   },
   "outputs": [],
   "source": []
  },
  {
   "cell_type": "code",
   "execution_count": null,
   "metadata": {
    "collapsed": true
   },
   "outputs": [],
   "source": []
  }
 ],
 "metadata": {
  "kernelspec": {
   "display_name": "Python 2",
   "language": "python",
   "name": "python2"
  },
  "language_info": {
   "codemirror_mode": {
    "name": "ipython",
    "version": 2
   },
   "file_extension": ".py",
   "mimetype": "text/x-python",
   "name": "python",
   "nbconvert_exporter": "python",
   "pygments_lexer": "ipython2",
   "version": "2.7.14"
  }
 },
 "nbformat": 4,
 "nbformat_minor": 2
}
