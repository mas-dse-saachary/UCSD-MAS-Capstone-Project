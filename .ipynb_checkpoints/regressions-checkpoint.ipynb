{
 "cells": [
  {
   "cell_type": "markdown",
   "metadata": {},
   "source": [
    "# Linear & Non Linear Regression Notebook"
   ]
  },
  {
   "cell_type": "markdown",
   "metadata": {},
   "source": [
    "Notebook to experiment solely with Linear Regression Models"
   ]
  },
  {
   "cell_type": "code",
   "execution_count": 1,
   "metadata": {
    "collapsed": true
   },
   "outputs": [],
   "source": [
    "import pandas as pd\n",
    "import numpy as np\n",
    "import scipy.stats as stats\n",
    "import matplotlib.pyplot as plt\n",
    "import numpy as np\n",
    "import pyarrow as pa\n",
    "import pyarrow.parquet as pq\n",
    "import sklearn as sk\n",
    "from sklearn.linear_model import LinearRegression"
   ]
  },
  {
   "cell_type": "code",
   "execution_count": 2,
   "metadata": {
    "collapsed": true
   },
   "outputs": [],
   "source": [
    "master = pd.read_parquet('master.parquet',engine='fastparquet')"
   ]
  },
  {
   "cell_type": "code",
   "execution_count": 3,
   "metadata": {
    "collapsed": true
   },
   "outputs": [],
   "source": [
    "master = master.select_dtypes(include=['float64','int64'])"
   ]
  },
  {
   "cell_type": "code",
   "execution_count": 4,
   "metadata": {
    "collapsed": true
   },
   "outputs": [],
   "source": [
    "master=master.fillna(0)"
   ]
  },
  {
   "cell_type": "code",
   "execution_count": 5,
   "metadata": {
    "collapsed": true
   },
   "outputs": [],
   "source": [
    "X = master.drop('price_y', axis = 1)"
   ]
  },
  {
   "cell_type": "code",
   "execution_count": 6,
   "metadata": {
    "collapsed": true
   },
   "outputs": [],
   "source": [
    "y = master['price_y']"
   ]
  },
  {
   "cell_type": "code",
   "execution_count": 7,
   "metadata": {
    "collapsed": true
   },
   "outputs": [],
   "source": [
    "lm = LinearRegression()"
   ]
  },
  {
   "cell_type": "code",
   "execution_count": 8,
   "metadata": {},
   "outputs": [
    {
     "data": {
      "text/plain": [
       "LinearRegression(copy_X=True, fit_intercept=True, n_jobs=1, normalize=False)"
      ]
     },
     "execution_count": 8,
     "metadata": {},
     "output_type": "execute_result"
    }
   ],
   "source": [
    "lm.fit(X,master['price_y'])"
   ]
  },
  {
   "cell_type": "code",
   "execution_count": 9,
   "metadata": {},
   "outputs": [
    {
     "name": "stdout",
     "output_type": "stream",
     "text": [
      "Estimated intercept coefficient:  -554427.907115\n"
     ]
    }
   ],
   "source": [
    "print 'Estimated intercept coefficient: ', lm.intercept_"
   ]
  },
  {
   "cell_type": "code",
   "execution_count": 10,
   "metadata": {},
   "outputs": [
    {
     "name": "stdout",
     "output_type": "stream",
     "text": [
      "Number of coefficients:  41\n"
     ]
    }
   ],
   "source": [
    "print 'Number of coefficients: ', len(lm.coef_)"
   ]
  },
  {
   "cell_type": "code",
   "execution_count": 11,
   "metadata": {},
   "outputs": [
    {
     "data": {
      "text/html": [
       "<div>\n",
       "<style scoped>\n",
       "    .dataframe tbody tr th:only-of-type {\n",
       "        vertical-align: middle;\n",
       "    }\n",
       "\n",
       "    .dataframe tbody tr th {\n",
       "        vertical-align: top;\n",
       "    }\n",
       "\n",
       "    .dataframe thead th {\n",
       "        text-align: right;\n",
       "    }\n",
       "</style>\n",
       "<table border=\"1\" class=\"dataframe\">\n",
       "  <thead>\n",
       "    <tr style=\"text-align: right;\">\n",
       "      <th></th>\n",
       "      <th>features</th>\n",
       "      <th>estimatedCoefficients</th>\n",
       "    </tr>\n",
       "  </thead>\n",
       "  <tbody>\n",
       "    <tr>\n",
       "      <th>0</th>\n",
       "      <td>id</td>\n",
       "      <td>-1.928936e+05</td>\n",
       "    </tr>\n",
       "    <tr>\n",
       "      <th>1</th>\n",
       "      <td>scrape_id</td>\n",
       "      <td>2.532033e-08</td>\n",
       "    </tr>\n",
       "    <tr>\n",
       "      <th>2</th>\n",
       "      <td>host_id</td>\n",
       "      <td>2.396118e-07</td>\n",
       "    </tr>\n",
       "    <tr>\n",
       "      <th>3</th>\n",
       "      <td>host_listings_count</td>\n",
       "      <td>4.358779e-02</td>\n",
       "    </tr>\n",
       "    <tr>\n",
       "      <th>4</th>\n",
       "      <td>host_total_listings_count</td>\n",
       "      <td>4.358779e-02</td>\n",
       "    </tr>\n",
       "    <tr>\n",
       "      <th>5</th>\n",
       "      <td>neighbourhood_group_cleansed</td>\n",
       "      <td>-2.109846e-11</td>\n",
       "    </tr>\n",
       "    <tr>\n",
       "      <th>6</th>\n",
       "      <td>zipcode</td>\n",
       "      <td>-3.551569e-04</td>\n",
       "    </tr>\n",
       "    <tr>\n",
       "      <th>7</th>\n",
       "      <td>latitude</td>\n",
       "      <td>-4.232657e+01</td>\n",
       "    </tr>\n",
       "    <tr>\n",
       "      <th>8</th>\n",
       "      <td>longitude</td>\n",
       "      <td>-3.880911e+02</td>\n",
       "    </tr>\n",
       "    <tr>\n",
       "      <th>9</th>\n",
       "      <td>accommodates</td>\n",
       "      <td>1.403697e+01</td>\n",
       "    </tr>\n",
       "    <tr>\n",
       "      <th>10</th>\n",
       "      <td>bathrooms</td>\n",
       "      <td>-9.772770e+00</td>\n",
       "    </tr>\n",
       "    <tr>\n",
       "      <th>11</th>\n",
       "      <td>bedrooms</td>\n",
       "      <td>3.516077e+01</td>\n",
       "    </tr>\n",
       "    <tr>\n",
       "      <th>12</th>\n",
       "      <td>beds</td>\n",
       "      <td>-4.680683e-01</td>\n",
       "    </tr>\n",
       "    <tr>\n",
       "      <th>13</th>\n",
       "      <td>square_feet</td>\n",
       "      <td>4.906296e-02</td>\n",
       "    </tr>\n",
       "    <tr>\n",
       "      <th>14</th>\n",
       "      <td>guests_included</td>\n",
       "      <td>3.675579e+00</td>\n",
       "    </tr>\n",
       "    <tr>\n",
       "      <th>15</th>\n",
       "      <td>minimum_nights</td>\n",
       "      <td>-9.906233e-01</td>\n",
       "    </tr>\n",
       "    <tr>\n",
       "      <th>16</th>\n",
       "      <td>maximum_nights</td>\n",
       "      <td>-5.805480e-05</td>\n",
       "    </tr>\n",
       "    <tr>\n",
       "      <th>17</th>\n",
       "      <td>has_availability</td>\n",
       "      <td>-3.572698e-13</td>\n",
       "    </tr>\n",
       "    <tr>\n",
       "      <th>18</th>\n",
       "      <td>availability_30</td>\n",
       "      <td>3.703953e-01</td>\n",
       "    </tr>\n",
       "    <tr>\n",
       "      <th>19</th>\n",
       "      <td>availability_60</td>\n",
       "      <td>7.189868e-01</td>\n",
       "    </tr>\n",
       "    <tr>\n",
       "      <th>20</th>\n",
       "      <td>availability_90</td>\n",
       "      <td>-3.472908e-01</td>\n",
       "    </tr>\n",
       "    <tr>\n",
       "      <th>21</th>\n",
       "      <td>availability_365</td>\n",
       "      <td>-2.267567e-02</td>\n",
       "    </tr>\n",
       "    <tr>\n",
       "      <th>22</th>\n",
       "      <td>number_of_reviews</td>\n",
       "      <td>-9.724292e-02</td>\n",
       "    </tr>\n",
       "    <tr>\n",
       "      <th>23</th>\n",
       "      <td>review_scores_rating</td>\n",
       "      <td>4.979808e-01</td>\n",
       "    </tr>\n",
       "    <tr>\n",
       "      <th>24</th>\n",
       "      <td>review_scores_accuracy</td>\n",
       "      <td>9.001226e+00</td>\n",
       "    </tr>\n",
       "    <tr>\n",
       "      <th>25</th>\n",
       "      <td>review_scores_cleanliness</td>\n",
       "      <td>5.564334e+00</td>\n",
       "    </tr>\n",
       "    <tr>\n",
       "      <th>26</th>\n",
       "      <td>review_scores_checkin</td>\n",
       "      <td>-2.056296e+01</td>\n",
       "    </tr>\n",
       "    <tr>\n",
       "      <th>27</th>\n",
       "      <td>review_scores_communication</td>\n",
       "      <td>8.342358e-02</td>\n",
       "    </tr>\n",
       "    <tr>\n",
       "      <th>28</th>\n",
       "      <td>review_scores_location</td>\n",
       "      <td>1.669137e+00</td>\n",
       "    </tr>\n",
       "    <tr>\n",
       "      <th>29</th>\n",
       "      <td>review_scores_value</td>\n",
       "      <td>-1.723771e+00</td>\n",
       "    </tr>\n",
       "    <tr>\n",
       "      <th>30</th>\n",
       "      <td>license</td>\n",
       "      <td>-2.842171e-14</td>\n",
       "    </tr>\n",
       "    <tr>\n",
       "      <th>31</th>\n",
       "      <td>calculated_host_listings_count</td>\n",
       "      <td>1.171710e-01</td>\n",
       "    </tr>\n",
       "    <tr>\n",
       "      <th>32</th>\n",
       "      <td>reviews_per_month</td>\n",
       "      <td>-8.442981e+00</td>\n",
       "    </tr>\n",
       "    <tr>\n",
       "      <th>33</th>\n",
       "      <td>listing_id</td>\n",
       "      <td>1.928936e+05</td>\n",
       "    </tr>\n",
       "    <tr>\n",
       "      <th>34</th>\n",
       "      <td>transit_length</td>\n",
       "      <td>2.072508e-01</td>\n",
       "    </tr>\n",
       "    <tr>\n",
       "      <th>35</th>\n",
       "      <td>transit_variety</td>\n",
       "      <td>-8.897525e-01</td>\n",
       "    </tr>\n",
       "    <tr>\n",
       "      <th>36</th>\n",
       "      <td>transit_vocab_size</td>\n",
       "      <td>-2.026490e-01</td>\n",
       "    </tr>\n",
       "    <tr>\n",
       "      <th>37</th>\n",
       "      <td>transitTextLength</td>\n",
       "      <td>-8.136465e-01</td>\n",
       "    </tr>\n",
       "    <tr>\n",
       "      <th>38</th>\n",
       "      <td>transitTextWordsPerc</td>\n",
       "      <td>7.944742e+00</td>\n",
       "    </tr>\n",
       "    <tr>\n",
       "      <th>39</th>\n",
       "      <td>transitTextPuncPerc</td>\n",
       "      <td>3.499302e+01</td>\n",
       "    </tr>\n",
       "    <tr>\n",
       "      <th>40</th>\n",
       "      <td>transitTextDigitsPerc</td>\n",
       "      <td>7.018153e+00</td>\n",
       "    </tr>\n",
       "  </tbody>\n",
       "</table>\n",
       "</div>"
      ],
      "text/plain": [
       "                          features  estimatedCoefficients\n",
       "0                               id          -1.928936e+05\n",
       "1                        scrape_id           2.532033e-08\n",
       "2                          host_id           2.396118e-07\n",
       "3              host_listings_count           4.358779e-02\n",
       "4        host_total_listings_count           4.358779e-02\n",
       "5     neighbourhood_group_cleansed          -2.109846e-11\n",
       "6                          zipcode          -3.551569e-04\n",
       "7                         latitude          -4.232657e+01\n",
       "8                        longitude          -3.880911e+02\n",
       "9                     accommodates           1.403697e+01\n",
       "10                       bathrooms          -9.772770e+00\n",
       "11                        bedrooms           3.516077e+01\n",
       "12                            beds          -4.680683e-01\n",
       "13                     square_feet           4.906296e-02\n",
       "14                 guests_included           3.675579e+00\n",
       "15                  minimum_nights          -9.906233e-01\n",
       "16                  maximum_nights          -5.805480e-05\n",
       "17                has_availability          -3.572698e-13\n",
       "18                 availability_30           3.703953e-01\n",
       "19                 availability_60           7.189868e-01\n",
       "20                 availability_90          -3.472908e-01\n",
       "21                availability_365          -2.267567e-02\n",
       "22               number_of_reviews          -9.724292e-02\n",
       "23            review_scores_rating           4.979808e-01\n",
       "24          review_scores_accuracy           9.001226e+00\n",
       "25       review_scores_cleanliness           5.564334e+00\n",
       "26           review_scores_checkin          -2.056296e+01\n",
       "27     review_scores_communication           8.342358e-02\n",
       "28          review_scores_location           1.669137e+00\n",
       "29             review_scores_value          -1.723771e+00\n",
       "30                         license          -2.842171e-14\n",
       "31  calculated_host_listings_count           1.171710e-01\n",
       "32               reviews_per_month          -8.442981e+00\n",
       "33                      listing_id           1.928936e+05\n",
       "34                  transit_length           2.072508e-01\n",
       "35                 transit_variety          -8.897525e-01\n",
       "36              transit_vocab_size          -2.026490e-01\n",
       "37               transitTextLength          -8.136465e-01\n",
       "38            transitTextWordsPerc           7.944742e+00\n",
       "39             transitTextPuncPerc           3.499302e+01\n",
       "40           transitTextDigitsPerc           7.018153e+00"
      ]
     },
     "execution_count": 11,
     "metadata": {},
     "output_type": "execute_result"
    }
   ],
   "source": [
    "pd.DataFrame(zip(X.columns, lm.coef_), columns=['features','estimatedCoefficients'])"
   ]
  },
  {
   "cell_type": "code",
   "execution_count": 12,
   "metadata": {},
   "outputs": [
    {
     "data": {
      "image/png": "[encoded data removed]",
      "text/plain": [
       "<matplotlib.figure.Figure at 0x1a1688fd50>"
      ]
     },
     "metadata": {},
     "output_type": "display_data"
    }
   ],
   "source": [
    "plt.scatter(master.transitTextWordsPerc, master.price_y)\n",
    "plt.xlabel(\"Percentage of Words in Transit Description Field\")\n",
    "plt.ylabel(\"Calendar Price\")\n",
    "plt.title(\"Plotting Price and Transit Text Words Perc\")\n",
    "plt.show()\n"
   ]
  },
  {
   "cell_type": "code",
   "execution_count": 13,
   "metadata": {},
   "outputs": [
    {
     "data": {
      "text/plain": [
       "array([ 120.0295201 ,  120.0295201 ,  120.0295201 ,  120.0295201 ,\n",
       "        120.0295201 ,  120.0295201 ,  120.0295201 ,  120.0295201 ,\n",
       "        120.0295201 ,  120.0295201 ,  120.0295201 ,  120.0295201 ,\n",
       "        120.0295201 ,  120.0295201 ,  120.0295201 ,  120.0295201 ,\n",
       "        120.0295201 ,  120.0295201 ,  120.0295201 ,  120.0295201 ,\n",
       "        120.0295201 ,  120.0295201 ,  120.0295201 ,  120.0295201 ,\n",
       "        120.0295201 ,  120.0295201 ,  120.0295201 ,  120.0295201 ,\n",
       "        120.0295201 ,  120.0295201 ,  120.0295201 ,  120.0295201 ,\n",
       "        120.0295201 ,  120.0295201 ,  120.0295201 ,  120.0295201 ,\n",
       "        120.0295201 ,  120.0295201 ,  120.0295201 ,  120.0295201 ,\n",
       "        120.0295201 ,  120.0295201 ,  120.0295201 ,  120.0295201 ,\n",
       "        120.0295201 ,  120.0295201 ,  120.0295201 ,  120.0295201 ,\n",
       "        120.0295201 ,  120.0295201 ,  120.0295201 ,  120.0295201 ,\n",
       "        120.0295201 ,  120.0295201 ,  120.0295201 ,  120.0295201 ,\n",
       "        120.0295201 ,  120.0295201 ,  120.0295201 ,  120.0295201 ,\n",
       "        120.0295201 ,  120.0295201 ,  120.0295201 ,  120.0295201 ,\n",
       "        120.0295201 ,  120.0295201 ,  120.0295201 ,  120.0295201 ,\n",
       "        120.0295201 ,  120.0295201 ,  120.0295201 ,  120.0295201 ,\n",
       "        120.0295201 ,  120.0295201 ,  120.0295201 ,  120.0295201 ,\n",
       "        120.0295201 ,  120.0295201 ,  120.0295201 ,  120.0295201 ,\n",
       "        120.0295201 ,  120.0295201 ,  120.0295201 ,  120.0295201 ,\n",
       "        120.0295201 ,  120.0295201 ,  120.0295201 ,  120.0295201 ,\n",
       "        120.0295201 ,  120.0295201 ,  120.0295201 ,  120.0295201 ,\n",
       "        120.0295201 ,  120.0295201 ,  120.0295201 ,  120.0295201 ,\n",
       "        120.0295201 ,  120.0295201 ,  120.0295201 ,  120.0295201 ,\n",
       "        120.0295201 ,  120.0295201 ,  120.0295201 ,  120.0295201 ,\n",
       "        120.0295201 ,  120.0295201 ,  120.0295201 ,  120.0295201 ,\n",
       "        120.0295201 ,  120.0295201 ,  120.0295201 ,  120.0295201 ,\n",
       "        120.0295201 ,  120.0295201 ,  120.0295201 ,  120.0295201 ,\n",
       "        120.0295201 ,  120.0295201 ,  120.0295201 ,  120.0295201 ,\n",
       "        120.0295201 ,  120.0295201 ,  120.0295201 ,  120.0295201 ,\n",
       "        120.0295201 ,  120.0295201 ,  120.0295201 ,  120.0295201 ,\n",
       "        120.0295201 ,  120.0295201 ,  120.0295201 ,  120.0295201 ,\n",
       "        120.0295201 ,  120.0295201 ,  120.0295201 ,  120.0295201 ,\n",
       "        120.0295201 ,  120.0295201 ,  120.0295201 ,  120.0295201 ,\n",
       "        120.0295201 ,  120.0295201 ,  120.0295201 ,  120.0295201 ,\n",
       "        120.0295201 ,  120.0295201 ,  120.0295201 ,  120.0295201 ,\n",
       "        120.0295201 ,  120.0295201 ,  120.0295201 ,  120.0295201 ,\n",
       "        120.0295201 ,  120.0295201 ,  120.0295201 ,  120.0295201 ,\n",
       "        120.0295201 ,  120.0295201 ,  120.0295201 ,  120.0295201 ,\n",
       "        120.0295201 ,  120.0295201 ,  120.0295201 ,  120.0295201 ,\n",
       "        120.0295201 ,  120.0295201 ,  120.0295201 ,  120.0295201 ,\n",
       "        120.0295201 ,  120.0295201 ,  120.0295201 ,  120.0295201 ,\n",
       "        120.0295201 ,  120.0295201 ,  120.0295201 ,  120.0295201 ,\n",
       "        120.0295201 ,  120.0295201 ,  120.0295201 ,  120.0295201 ,\n",
       "        120.0295201 ,  120.0295201 ,  120.0295201 ,  120.0295201 ,\n",
       "        120.0295201 ,  120.0295201 ,  120.0295201 ,  120.0295201 ,\n",
       "        120.0295201 ,  120.0295201 ,  120.0295201 ,  120.0295201 ,\n",
       "        120.0295201 ,  120.0295201 ,  120.0295201 ,  120.0295201 ,\n",
       "        120.0295201 ,  120.0295201 ,  120.0295201 ,  120.0295201 ,\n",
       "        120.0295201 ,  120.0295201 ,  120.0295201 ,  120.0295201 ,\n",
       "        120.0295201 ,  120.0295201 ,  120.0295201 ,  120.0295201 ,\n",
       "        120.0295201 ,  120.0295201 ,  120.0295201 ,  120.0295201 ,\n",
       "        120.0295201 ,  120.0295201 ,  120.0295201 ,  120.0295201 ,\n",
       "        120.0295201 ,  120.0295201 ,  120.0295201 ,  120.0295201 ,\n",
       "        120.0295201 ,  120.0295201 ,  120.0295201 ,  120.0295201 ,\n",
       "        120.0295201 ,  120.0295201 ,  120.0295201 ,  120.0295201 ,\n",
       "        120.0295201 ,  120.0295201 ,  120.0295201 ,  120.0295201 ,\n",
       "        120.0295201 ,  120.0295201 ,  120.0295201 ,  120.0295201 ,\n",
       "        120.0295201 ,  120.0295201 ,  120.0295201 ,  120.0295201 ,\n",
       "        120.0295201 ,  120.0295201 ,  120.0295201 ,  120.0295201 ,\n",
       "        120.0295201 ,  120.0295201 ,  120.0295201 ,  120.0295201 ,\n",
       "        120.0295201 ,  120.0295201 ,  120.0295201 ,  120.0295201 ,\n",
       "        120.0295201 ,  120.0295201 ,  120.0295201 ,  120.0295201 ,\n",
       "        120.0295201 ,  120.0295201 ,  120.0295201 ,  120.0295201 ,\n",
       "        120.0295201 ,  120.0295201 ,  120.0295201 ,  120.0295201 ,\n",
       "        120.0295201 ,  120.0295201 ,  120.0295201 ,  120.0295201 ,\n",
       "        120.0295201 ,  120.0295201 ,  120.0295201 ,  120.0295201 ,\n",
       "        120.0295201 ,  120.0295201 ,  120.0295201 ,  120.0295201 ,\n",
       "        120.0295201 ,  120.0295201 ,  120.0295201 ,  120.0295201 ,\n",
       "        120.0295201 ,  120.0295201 ,  120.0295201 ,  120.0295201 ,\n",
       "        120.0295201 ,  120.0295201 ,  120.0295201 ,  120.0295201 ,\n",
       "        120.0295201 ,  120.0295201 ,  120.0295201 ,  120.0295201 ,\n",
       "        120.0295201 ,  120.0295201 ,  120.0295201 ,  120.0295201 ,\n",
       "        120.0295201 ,  120.0295201 ,  120.0295201 ,  120.0295201 ,\n",
       "        120.0295201 ,  120.0295201 ,  120.0295201 ,  120.0295201 ,\n",
       "        120.0295201 ,  120.0295201 ,  120.0295201 ,  120.0295201 ,\n",
       "        120.0295201 ,  120.0295201 ,  120.0295201 ,  120.0295201 ,\n",
       "        120.0295201 ,  120.0295201 ,  120.0295201 ,  120.0295201 ,\n",
       "        120.0295201 ,  120.0295201 ,  120.0295201 ,  120.0295201 ,\n",
       "        120.0295201 ,  120.0295201 ,  120.0295201 ,  120.0295201 ,\n",
       "        120.0295201 ,  120.0295201 ,  120.0295201 ,  120.0295201 ,\n",
       "        120.0295201 ,  319.01304863,  319.01304863,  319.01304863,\n",
       "        319.01304863,  319.01304863,  319.01304863,  319.01304863,\n",
       "        319.01304863,  319.01304863,  319.01304863,  319.01304863,\n",
       "        319.01304863,  319.01304863,  319.01304863,  319.01304863,\n",
       "        319.01304863,  319.01304863,  319.01304863,  319.01304863,\n",
       "        319.01304863,  319.01304863,  319.01304863,  319.01304863,\n",
       "        319.01304863,  319.01304863,  319.01304863,  319.01304863,\n",
       "        319.01304863,  319.01304863,  319.01304863,  319.01304863,\n",
       "        319.01304863,  319.01304863,  319.01304863,  319.01304863,\n",
       "        319.01304863,  319.01304863,  319.01304863,  319.01304863,\n",
       "        319.01304863,  319.01304863,  319.01304863,  319.01304863,\n",
       "        319.01304863,  319.01304863,  319.01304863,  319.01304863,\n",
       "        319.01304863,  319.01304863,  319.01304863,  319.01304863,\n",
       "        319.01304863,  319.01304863,  319.01304863,  319.01304863,\n",
       "        319.01304863,  319.01304863,  319.01304863,  319.01304863,\n",
       "        319.01304863,  319.01304863])"
      ]
     },
     "execution_count": 13,
     "metadata": {},
     "output_type": "execute_result"
    }
   ],
   "source": [
    "lm.predict(X)[0:390]\n"
   ]
  },
  {
   "cell_type": "markdown",
   "metadata": {},
   "source": [
    "#Problem: we have many calendar days for the same listings. For each listing, one price prediction is made but because\n",
    "#we have many calendar days for each listing, the above outputs the same result for each cal day\n",
    "#Make better representation"
   ]
  },
  {
   "cell_type": "markdown",
   "metadata": {},
   "source": [
    "More Regressions"
   ]
  },
  {
   "cell_type": "code",
   "execution_count": 14,
   "metadata": {
    "collapsed": true
   },
   "outputs": [],
   "source": [
    "from sklearn import linear_model"
   ]
  },
  {
   "cell_type": "markdown",
   "metadata": {},
   "source": [
    "Lasso Lars Regression"
   ]
  },
  {
   "cell_type": "code",
   "execution_count": 15,
   "metadata": {},
   "outputs": [
    {
     "data": {
      "text/plain": [
       "LassoLars(alpha=0.1, copy_X=True, eps=2.2204460492503131e-16,\n",
       "     fit_intercept=True, fit_path=True, max_iter=500, normalize=True,\n",
       "     positive=False, precompute='auto', verbose=False)"
      ]
     },
     "execution_count": 15,
     "metadata": {},
     "output_type": "execute_result"
    }
   ],
   "source": [
    "ll = linear_model.LassoLars(alpha=.1)\n",
    "ll.fit(X, y)"
   ]
  },
  {
   "cell_type": "code",
   "execution_count": 16,
   "metadata": {},
   "outputs": [
    {
     "data": {
      "text/plain": [
       "array([ 0.,  0.,  0.,  0.,  0.,  0.,  0.,  0.,  0.,  0.,  0.,  0.,  0.,\n",
       "        0.,  0.,  0.,  0.,  0.,  0.,  0.,  0.,  0.,  0.,  0.,  0.,  0.,\n",
       "        0.,  0.,  0.,  0.,  0.,  0.,  0.,  0.,  0.,  0.,  0.,  0.,  0.,\n",
       "        0.,  0.])"
      ]
     },
     "execution_count": 16,
     "metadata": {},
     "output_type": "execute_result"
    }
   ],
   "source": [
    "ll.coef_"
   ]
  },
  {
   "cell_type": "markdown",
   "metadata": {},
   "source": [
    "Bayesian Ridge Regression"
   ]
  },
  {
   "cell_type": "code",
   "execution_count": 17,
   "metadata": {
    "collapsed": true
   },
   "outputs": [],
   "source": [
    "br = linear_model.BayesianRidge()"
   ]
  },
  {
   "cell_type": "code",
   "execution_count": 18,
   "metadata": {},
   "outputs": [
    {
     "data": {
      "text/plain": [
       "BayesianRidge(alpha_1=1e-06, alpha_2=1e-06, compute_score=False, copy_X=True,\n",
       "       fit_intercept=True, lambda_1=1e-06, lambda_2=1e-06, n_iter=300,\n",
       "       normalize=False, tol=0.001, verbose=False)"
      ]
     },
     "execution_count": 18,
     "metadata": {},
     "output_type": "execute_result"
    }
   ],
   "source": [
    "br.fit(X,y)"
   ]
  },
  {
   "cell_type": "code",
   "execution_count": 19,
   "metadata": {},
   "outputs": [
    {
     "data": {
      "text/plain": [
       "array([  6.84204404e-03,   3.08408189e-03,   2.39978480e-07,\n",
       "         4.31929046e-02,   4.39302888e-02,  -2.60758945e-06,\n",
       "        -3.55178784e-04,  -4.19136184e+01,  -3.87232791e+02,\n",
       "         1.40420409e+01,  -9.77366540e+00,   3.51575396e+01,\n",
       "        -4.61085946e-01,   4.90572413e-02,   3.66746486e+00,\n",
       "        -9.90725595e-01,  -5.79924128e-05,   5.15009750e-08,\n",
       "         3.66446996e-01,   7.22436213e-01,  -3.48569003e-01,\n",
       "        -2.26501482e-02,  -9.73434745e-02,   4.95917447e-01,\n",
       "         9.00326990e+00,   5.56195812e+00,  -2.05536781e+01,\n",
       "         8.27104183e-02,   1.68862066e+00,  -1.73086165e+00,\n",
       "         1.51813895e-10,   1.17532329e-01,  -8.44174705e+00,\n",
       "        -6.84206267e-03,   2.05273093e-01,  -8.87250639e-01,\n",
       "        -2.03336624e-01,  -8.03594529e-01,   7.90088456e+00,\n",
       "         3.49348918e+01,   6.97211457e+00])"
      ]
     },
     "execution_count": 19,
     "metadata": {},
     "output_type": "execute_result"
    }
   ],
   "source": [
    "br.coef_"
   ]
  },
  {
   "cell_type": "markdown",
   "metadata": {},
   "source": [
    "Stochastic Gradient Descent"
   ]
  },
  {
   "cell_type": "code",
   "execution_count": 20,
   "metadata": {},
   "outputs": [],
   "source": [
    "X_trunc = X.head(10000)"
   ]
  },
  {
   "cell_type": "code",
   "execution_count": 21,
   "metadata": {
    "collapsed": true
   },
   "outputs": [],
   "source": [
    "y_trunc = y.head(10000)"
   ]
  },
  {
   "cell_type": "code",
   "execution_count": 22,
   "metadata": {},
   "outputs": [
    {
     "name": "stderr",
     "output_type": "stream",
     "text": [
      "/Users/pauldefusco/anaconda2/envs/py27/lib/python2.7/site-packages/sklearn/linear_model/stochastic_gradient.py:128: FutureWarning: max_iter and tol parameters have been added in <class 'sklearn.linear_model.stochastic_gradient.SGDClassifier'> in 0.19. If both are left unset, they default to max_iter=5 and tol=None. If tol is not None, max_iter defaults to max_iter=1000. From 0.21, default max_iter will be 1000, and default tol will be 1e-3.\n",
      "  \"and default tol will be 1e-3.\" % type(self), FutureWarning)\n"
     ]
    },
    {
     "data": {
      "text/plain": [
       "SGDClassifier(alpha=0.0001, average=False, class_weight=None, epsilon=0.1,\n",
       "       eta0=0.0, fit_intercept=True, l1_ratio=0.15,\n",
       "       learning_rate='optimal', loss='hinge', max_iter=None, n_iter=None,\n",
       "       n_jobs=1, penalty='l2', power_t=0.5, random_state=None,\n",
       "       shuffle=True, tol=None, verbose=0, warm_start=False)"
      ]
     },
     "execution_count": 22,
     "metadata": {},
     "output_type": "execute_result"
    }
   ],
   "source": [
    "sgd = linear_model.SGDClassifier()\n",
    "sgd.fit(X_trunc, y_trunc)"
   ]
  },
  {
   "cell_type": "code",
   "execution_count": 23,
   "metadata": {},
   "outputs": [
    {
     "data": {
      "text/plain": [
       "array([[ -4.57486068e+08,  -2.02007637e-02,  -1.43315704e+09, ...,\n",
       "         -3.46187692e+00,   5.29424108e+00,   3.52966636e+00],\n",
       "       [ -1.89386347e+07,   2.81586404e-02,  -4.60261162e+07, ...,\n",
       "         -3.94037551e-01,   3.29922032e-01,  -1.52245791e-01],\n",
       "       [ -4.33748956e+06,   3.18315065e-02,  -1.00802671e+07, ...,\n",
       "         -1.17405234e-01,   1.17405234e-01,  -2.97397001e-02],\n",
       "       ..., \n",
       "       [  3.64307712e+08,  -3.95315716e+12,   1.22301748e+08, ...,\n",
       "         -8.07784858e+00,   5.56783930e+00,   2.01758405e+01],\n",
       "       [  1.28767319e+08,  -3.95315716e+12,   6.58042784e+08, ...,\n",
       "          2.17144204e+00,  -3.82274641e+00,  -2.29598774e+00],\n",
       "       [  1.61189270e+08,  -3.95315716e+12,   1.45415351e+09, ...,\n",
       "          3.27388552e+00,  -5.05642197e+00,  -3.53070354e+00]])"
      ]
     },
     "execution_count": 23,
     "metadata": {},
     "output_type": "execute_result"
    }
   ],
   "source": [
    "sgd.coef_"
   ]
  },
  {
   "cell_type": "markdown",
   "metadata": {},
   "source": [
    "Non Linear Regression"
   ]
  },
  {
   "cell_type": "code",
   "execution_count": 24,
   "metadata": {
    "collapsed": true
   },
   "outputs": [],
   "source": [
    "from sklearn.preprocessing import PolynomialFeatures"
   ]
  },
  {
   "cell_type": "code",
   "execution_count": 25,
   "metadata": {},
   "outputs": [
    {
     "data": {
      "text/plain": [
       "array([[  1.00000000e+00,   1.31246810e+07,   2.01607062e+13, ...,\n",
       "          0.00000000e+00,   0.00000000e+00,   0.00000000e+00],\n",
       "       [  1.00000000e+00,   1.31246810e+07,   2.01607062e+13, ...,\n",
       "          0.00000000e+00,   0.00000000e+00,   0.00000000e+00],\n",
       "       [  1.00000000e+00,   1.31246810e+07,   2.01607062e+13, ...,\n",
       "          0.00000000e+00,   0.00000000e+00,   0.00000000e+00],\n",
       "       ..., \n",
       "       [  1.00000000e+00,   9.14712800e+06,   2.01607062e+13, ...,\n",
       "          1.37164191e-02,   1.05510916e-03,   8.11622433e-05],\n",
       "       [  1.00000000e+00,   9.14712800e+06,   2.01607062e+13, ...,\n",
       "          1.37164191e-02,   1.05510916e-03,   8.11622433e-05],\n",
       "       [  1.00000000e+00,   9.14712800e+06,   2.01607062e+13, ...,\n",
       "          1.37164191e-02,   1.05510916e-03,   8.11622433e-05]])"
      ]
     },
     "execution_count": 25,
     "metadata": {},
     "output_type": "execute_result"
    }
   ],
   "source": [
    "poly = PolynomialFeatures(degree=2)\n",
    "poly.fit_transform(X)"
   ]
  },
  {
   "cell_type": "code",
   "execution_count": 26,
   "metadata": {},
   "outputs": [
    {
     "name": "stderr",
     "output_type": "stream",
     "text": [
      "ERROR:root:Internal Python error in the inspect module.\n",
      "Below is the traceback from this internal error.\n",
      "\n"
     ]
    },
    {
     "name": "stdout",
     "output_type": "stream",
     "text": [
      "Traceback (most recent call last):\n",
      "  File \"/Users/pauldefusco/anaconda2/envs/py27/lib/python2.7/site-packages/IPython/core/ultratb.py\", line 1132, in get_records\n",
      "    return _fixed_getinnerframes(etb, number_of_lines_of_context, tb_offset)\n",
      "  File \"/Users/pauldefusco/anaconda2/envs/py27/lib/python2.7/site-packages/IPython/core/ultratb.py\", line 313, in wrapped\n",
      "    return f(*args, **kwargs)\n",
      "  File \"/Users/pauldefusco/anaconda2/envs/py27/lib/python2.7/site-packages/IPython/core/ultratb.py\", line 358, in _fixed_getinnerframes\n",
      "    records = fix_frame_records_filenames(inspect.getinnerframes(etb, context))\n",
      "  File \"/Users/pauldefusco/anaconda2/envs/py27/lib/python2.7/inspect.py\", line 1051, in getinnerframes\n",
      "    framelist.append((tb.tb_frame,) + getframeinfo(tb, context))\n",
      "  File \"/Users/pauldefusco/anaconda2/envs/py27/lib/python2.7/inspect.py\", line 1011, in getframeinfo\n",
      "    filename = getsourcefile(frame) or getfile(frame)\n",
      "  File \"/Users/pauldefusco/anaconda2/envs/py27/lib/python2.7/inspect.py\", line 453, in getsourcefile\n",
      "    if hasattr(getmodule(object, filename), '__loader__'):\n",
      "  File \"/Users/pauldefusco/anaconda2/envs/py27/lib/python2.7/inspect.py\", line 490, in getmodule\n",
      "    if ismodule(module) and hasattr(module, '__file__'):\n",
      "  File \"/Users/pauldefusco/anaconda2/envs/py27/lib/python2.7/site-packages/py/_vendored_packages/apipkg.py\", line 195, in __getattribute__\n",
      "    return getattr(getmod(), name)\n",
      "  File \"/Users/pauldefusco/anaconda2/envs/py27/lib/python2.7/site-packages/py/_vendored_packages/apipkg.py\", line 179, in getmod\n",
      "    x = importobj(modpath, None)\n",
      "  File \"/Users/pauldefusco/anaconda2/envs/py27/lib/python2.7/site-packages/py/_vendored_packages/apipkg.py\", line 69, in importobj\n",
      "    module = __import__(modpath, None, None, ['__doc__'])\n",
      "  File \"/Users/pauldefusco/anaconda2/envs/py27/lib/python2.7/site-packages/pytest.py\", line 9, in <module>\n",
      "    from _pytest.config import (\n",
      "  File \"/Users/pauldefusco/anaconda2/envs/py27/lib/python2.7/site-packages/_pytest/config.py\", line 14, in <module>\n",
      "    import _pytest._code\n",
      "  File \"/Users/pauldefusco/anaconda2/envs/py27/lib/python2.7/site-packages/_pytest/_code/__init__.py\", line 3, in <module>\n",
      "    from .code import Code  # noqa\n",
      "  File \"/Users/pauldefusco/anaconda2/envs/py27/lib/python2.7/site-packages/_pytest/_code/code.py\", line 6, in <module>\n",
      "    from _pytest.compat import _PY2, _PY3, PY35, safe_str\n",
      "  File \"/Users/pauldefusco/anaconda2/envs/py27/lib/python2.7/site-packages/_pytest/compat.py\", line 293, in <module>\n",
      "    from py.io import TextIO\n",
      "  File \"/Users/pauldefusco/anaconda2/envs/py27/lib/python2.7/site-packages/py/_vendored_packages/apipkg.py\", line 148, in __makeattr\n",
      "    result = importobj(modpath, attrname)\n",
      "  File \"/Users/pauldefusco/anaconda2/envs/py27/lib/python2.7/site-packages/py/_vendored_packages/apipkg.py\", line 69, in importobj\n",
      "    module = __import__(modpath, None, None, ['__doc__'])\n",
      "  File \"/Users/pauldefusco/anaconda2/envs/py27/lib/python2.7/site-packages/py/_io/capture.py\", line 119, in <module>\n",
      "    class EncodedFile(object):\n",
      "KeyboardInterrupt\n"
     ]
    },
    {
     "ename": "IndexError",
     "evalue": "string index out of range",
     "output_type": "error",
     "traceback": [
      "\u001b[0;31m---------------------------------------------------------------------------\u001b[0m",
      "\u001b[0;31mIndexError\u001b[0m                                Traceback (most recent call last)",
      "\u001b[0;32m/Users/pauldefusco/anaconda2/envs/py27/lib/python2.7/site-packages/IPython/core/interactiveshell.pyc\u001b[0m in \u001b[0;36mrun_code\u001b[0;34m(self, code_obj, result)\u001b[0m\n\u001b[1;32m   2897\u001b[0m             \u001b[0;32mif\u001b[0m \u001b[0mresult\u001b[0m \u001b[0;32mis\u001b[0m \u001b[0;32mnot\u001b[0m \u001b[0mNone\u001b[0m\u001b[0;34m:\u001b[0m\u001b[0;34m\u001b[0m\u001b[0m\n\u001b[1;32m   2898\u001b[0m                 \u001b[0mresult\u001b[0m\u001b[0;34m.\u001b[0m\u001b[0merror_in_exec\u001b[0m \u001b[0;34m=\u001b[0m \u001b[0msys\u001b[0m\u001b[0;34m.\u001b[0m\u001b[0mexc_info\u001b[0m\u001b[0;34m(\u001b[0m\u001b[0;34m)\u001b[0m\u001b[0;34m[\u001b[0m\u001b[0;36m1\u001b[0m\u001b[0;34m]\u001b[0m\u001b[0;34m\u001b[0m\u001b[0m\n\u001b[0;32m-> 2899\u001b[0;31m             \u001b[0mself\u001b[0m\u001b[0;34m.\u001b[0m\u001b[0mshowtraceback\u001b[0m\u001b[0;34m(\u001b[0m\u001b[0;34m)\u001b[0m\u001b[0;34m\u001b[0m\u001b[0m\n\u001b[0m\u001b[1;32m   2900\u001b[0m         \u001b[0;32melse\u001b[0m\u001b[0;34m:\u001b[0m\u001b[0;34m\u001b[0m\u001b[0m\n\u001b[1;32m   2901\u001b[0m             \u001b[0moutflag\u001b[0m \u001b[0;34m=\u001b[0m \u001b[0;36m0\u001b[0m\u001b[0;34m\u001b[0m\u001b[0m\n",
      "\u001b[0;32m/Users/pauldefusco/anaconda2/envs/py27/lib/python2.7/site-packages/IPython/core/interactiveshell.pyc\u001b[0m in \u001b[0;36mshowtraceback\u001b[0;34m(self, exc_tuple, filename, tb_offset, exception_only)\u001b[0m\n\u001b[1;32m   1824\u001b[0m                     \u001b[0;32mexcept\u001b[0m \u001b[0mException\u001b[0m\u001b[0;34m:\u001b[0m\u001b[0;34m\u001b[0m\u001b[0m\n\u001b[1;32m   1825\u001b[0m                         stb = self.InteractiveTB.structured_traceback(etype,\n\u001b[0;32m-> 1826\u001b[0;31m                                             value, tb, tb_offset=tb_offset)\n\u001b[0m\u001b[1;32m   1827\u001b[0m \u001b[0;34m\u001b[0m\u001b[0m\n\u001b[1;32m   1828\u001b[0m                     \u001b[0mself\u001b[0m\u001b[0;34m.\u001b[0m\u001b[0m_showtraceback\u001b[0m\u001b[0;34m(\u001b[0m\u001b[0metype\u001b[0m\u001b[0;34m,\u001b[0m \u001b[0mvalue\u001b[0m\u001b[0;34m,\u001b[0m \u001b[0mstb\u001b[0m\u001b[0;34m)\u001b[0m\u001b[0;34m\u001b[0m\u001b[0m\n",
      "\u001b[0;32m/Users/pauldefusco/anaconda2/envs/py27/lib/python2.7/site-packages/IPython/core/ultratb.pyc\u001b[0m in \u001b[0;36mstructured_traceback\u001b[0;34m(self, etype, value, tb, tb_offset, number_of_lines_of_context)\u001b[0m\n\u001b[1;32m   1410\u001b[0m         \u001b[0mself\u001b[0m\u001b[0;34m.\u001b[0m\u001b[0mtb\u001b[0m \u001b[0;34m=\u001b[0m \u001b[0mtb\u001b[0m\u001b[0;34m\u001b[0m\u001b[0m\n\u001b[1;32m   1411\u001b[0m         return FormattedTB.structured_traceback(\n\u001b[0;32m-> 1412\u001b[0;31m             self, etype, value, tb, tb_offset, number_of_lines_of_context)\n\u001b[0m\u001b[1;32m   1413\u001b[0m \u001b[0;34m\u001b[0m\u001b[0m\n\u001b[1;32m   1414\u001b[0m \u001b[0;34m\u001b[0m\u001b[0m\n",
      "\u001b[0;32m/Users/pauldefusco/anaconda2/envs/py27/lib/python2.7/site-packages/IPython/core/ultratb.pyc\u001b[0m in \u001b[0;36mstructured_traceback\u001b[0;34m(self, etype, value, tb, tb_offset, number_of_lines_of_context)\u001b[0m\n\u001b[1;32m   1318\u001b[0m             \u001b[0;31m# Verbose modes need a full traceback\u001b[0m\u001b[0;34m\u001b[0m\u001b[0;34m\u001b[0m\u001b[0m\n\u001b[1;32m   1319\u001b[0m             return VerboseTB.structured_traceback(\n\u001b[0;32m-> 1320\u001b[0;31m                 \u001b[0mself\u001b[0m\u001b[0;34m,\u001b[0m \u001b[0metype\u001b[0m\u001b[0;34m,\u001b[0m \u001b[0mvalue\u001b[0m\u001b[0;34m,\u001b[0m \u001b[0mtb\u001b[0m\u001b[0;34m,\u001b[0m \u001b[0mtb_offset\u001b[0m\u001b[0;34m,\u001b[0m \u001b[0mnumber_of_lines_of_context\u001b[0m\u001b[0;34m\u001b[0m\u001b[0m\n\u001b[0m\u001b[1;32m   1321\u001b[0m             )\n\u001b[1;32m   1322\u001b[0m         \u001b[0;32melse\u001b[0m\u001b[0;34m:\u001b[0m\u001b[0;34m\u001b[0m\u001b[0m\n",
      "\u001b[0;32m/Users/pauldefusco/anaconda2/envs/py27/lib/python2.7/site-packages/IPython/core/ultratb.pyc\u001b[0m in \u001b[0;36mstructured_traceback\u001b[0;34m(self, etype, evalue, etb, tb_offset, number_of_lines_of_context)\u001b[0m\n\u001b[1;32m   1202\u001b[0m                 \u001b[0mstructured_traceback_parts\u001b[0m \u001b[0;34m+=\u001b[0m \u001b[0mformatted_exception\u001b[0m\u001b[0;34m\u001b[0m\u001b[0m\n\u001b[1;32m   1203\u001b[0m         \u001b[0;32melse\u001b[0m\u001b[0;34m:\u001b[0m\u001b[0;34m\u001b[0m\u001b[0m\n\u001b[0;32m-> 1204\u001b[0;31m             \u001b[0mstructured_traceback_parts\u001b[0m \u001b[0;34m+=\u001b[0m \u001b[0mformatted_exception\u001b[0m\u001b[0;34m[\u001b[0m\u001b[0;36m0\u001b[0m\u001b[0;34m]\u001b[0m\u001b[0;34m\u001b[0m\u001b[0m\n\u001b[0m\u001b[1;32m   1205\u001b[0m \u001b[0;34m\u001b[0m\u001b[0m\n\u001b[1;32m   1206\u001b[0m         \u001b[0;32mreturn\u001b[0m \u001b[0mstructured_traceback_parts\u001b[0m\u001b[0;34m\u001b[0m\u001b[0m\n",
      "\u001b[0;31mIndexError\u001b[0m: string index out of range"
     ]
    }
   ],
   "source": [
    "poly = PolynomialFeatures(degree=3)\n",
    "poly.fit_transform(X)"
   ]
  },
  {
   "cell_type": "code",
   "execution_count": null,
   "metadata": {
    "collapsed": true
   },
   "outputs": [],
   "source": [
    "poly = PolynomialFeatures(degree=4)\n",
    "poly.fit_transform(X)"
   ]
  },
  {
   "cell_type": "code",
   "execution_count": null,
   "metadata": {
    "collapsed": true
   },
   "outputs": [],
   "source": []
  }
 ],
 "metadata": {
  "kernelspec": {
   "display_name": "Python 2",
   "language": "python",
   "name": "python2"
  },
  "language_info": {
   "codemirror_mode": {
    "name": "ipython",
    "version": 2
   },
   "file_extension": ".py",
   "mimetype": "text/x-python",
   "name": "python",
   "nbconvert_exporter": "python",
   "pygments_lexer": "ipython2",
   "version": "2.7.14"
  }
 },
 "nbformat": 4,
 "nbformat_minor": 2
}
